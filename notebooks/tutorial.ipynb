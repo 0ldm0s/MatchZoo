{
 "cells": [
  {
   "cell_type": "markdown",
   "metadata": {},
   "source": [
    "<img src=\"https://github.com/NTMC-Community/MatchZoo/blob/2.0/artworks/matchzoo-logo.png?raw=True\" alt=\"logo\" style=\"width:600px;float: center\"/>"
   ]
  },
  {
   "cell_type": "markdown",
   "metadata": {},
   "source": [
    "# Get Started with MatchZoo"
   ]
  },
  {
   "cell_type": "markdown",
   "metadata": {},
   "source": [
    "In this tutorial, we will train a Deep Semantic Structured Model (DSSM) [Huang et al. 2013](https://www.microsoft.com/en-us/research/wp-content/uploads/2016/02/DSSM_cikm13_talk_v4.pdf) model with [MatchZoo](https://github.com/faneshion/MatchZoo), and use [WikiQA](https://aclweb.org/anthology/D15-1237) as our dataset."
   ]
  },
  {
   "cell_type": "markdown",
   "metadata": {
    "ExecuteTime": {
     "end_time": "2018-11-06T07:03:11.755303Z",
     "start_time": "2018-11-06T07:03:11.752860Z"
    }
   },
   "source": [
    "## Download and Unzip the Dataset"
   ]
  },
  {
   "cell_type": "code",
   "execution_count": 1,
   "metadata": {
    "ExecuteTime": {
     "end_time": "2018-11-06T11:20:41.898599Z",
     "start_time": "2018-11-06T11:20:40.146353Z"
    }
   },
   "outputs": [
    {
     "name": "stdout",
     "output_type": "stream",
     "text": [
      "--2018-11-06 19:20:40--  https://download.microsoft.com/download/E/5/F/E5FCFCEE-7005-4814-853D-DAA7C66507E0/WikiQACorpus.zip\n",
      "Resolving download.microsoft.com... 183.2.202.6, 183.2.202.3, 183.2.202.10, ...\n",
      "Connecting to download.microsoft.com|183.2.202.6|:443... connected.\n",
      "HTTP request sent, awaiting response... 200 OK\n",
      "Length: 7094233 (6.8M) [application/octet-stream]\n",
      "Saving to: ‘../../data/WikiQA/WikiQACorpus.zip’\n",
      "\n",
      "WikiQACorpus.zip    100%[===================>]   6.76M  14.1MB/s    in 0.5s    \n",
      "\n",
      "2018-11-06 19:20:41 (14.1 MB/s) - ‘../../data/WikiQA/WikiQACorpus.zip’ saved [7094233/7094233]\n",
      "\n",
      "Archive:  ../../data/WikiQA/WikiQACorpus.zip\n",
      "   creating: ../../data/WikiQA/WikiQACorpus/emnlp-table/\n",
      "  inflating: ../../data/WikiQA/WikiQACorpus/emnlp-table/WikiQA.CNN.dev.rank  \n",
      "  inflating: ../../data/WikiQA/WikiQACorpus/emnlp-table/WikiQA.CNN.test.rank  \n",
      "  inflating: ../../data/WikiQA/WikiQACorpus/emnlp-table/WikiQA.CNN-Cnt.dev.rank  \n",
      "  inflating: ../../data/WikiQA/WikiQACorpus/emnlp-table/WikiQA.CNN-Cnt.test.rank  \n",
      "  inflating: ../../data/WikiQA/WikiQACorpus/eval.py  \n",
      "  inflating: ../../data/WikiQA/WikiQACorpus/Guidelines_Phase1.pdf  \n",
      "  inflating: ../../data/WikiQA/WikiQACorpus/Guidelines_Phase2.pdf  \n",
      "  inflating: ../../data/WikiQA/WikiQACorpus/WikiQA.tsv  \n",
      "  inflating: ../../data/WikiQA/WikiQACorpus/WikiQA-dev.ref  \n",
      "  inflating: ../../data/WikiQA/WikiQACorpus/WikiQA-dev.tsv  \n",
      "  inflating: ../../data/WikiQA/WikiQACorpus/WikiQA-dev.txt  \n",
      "  inflating: ../../data/WikiQA/WikiQACorpus/WikiQA-dev-filtered.ref  \n",
      "  inflating: ../../data/WikiQA/WikiQACorpus/WikiQASent.pos.ans.tsv  \n",
      "  inflating: ../../data/WikiQA/WikiQACorpus/WikiQA-test.ref  \n",
      "  inflating: ../../data/WikiQA/WikiQACorpus/WikiQA-test.tsv  \n",
      "  inflating: ../../data/WikiQA/WikiQACorpus/WikiQA-test.txt  \n",
      "  inflating: ../../data/WikiQA/WikiQACorpus/WikiQA-test-filtered.ref  \n",
      "  inflating: ../../data/WikiQA/WikiQACorpus/WikiQA-train.ref  \n",
      "  inflating: ../../data/WikiQA/WikiQACorpus/WikiQA-train.tsv  \n",
      "  inflating: ../../data/WikiQA/WikiQACorpus/WikiQA-train.txt  \n",
      "  inflating: ../../data/WikiQA/WikiQACorpus/LICENSE.pdf  \n",
      "  inflating: ../../data/WikiQA/WikiQACorpus/README.txt  \n"
     ]
    }
   ],
   "source": [
    "import sys\n",
    "from pathlib import Path\n",
    "if not Path('../../data/WikiQA').exists():\n",
    "    !mkdir -p ../../data/WikiQA\n",
    "    !wget -P ../../data/WikiQA https://download.microsoft.com/download/E/5/F/E5FCFCEE-7005-4814-853D-DAA7C66507E0/WikiQACorpus.zip\n",
    "    !unzip -o -d ../../data/WikiQA ../../data/WikiQA/WikiQACorpus.zip\n",
    "elif input('WikiQA already exists, download again?(Y/N)').lower() == 'y':\n",
    "    !rm -rf ../../data/WikiQA/\n",
    "    !mkdir -p ../../data/WikiQA\n",
    "    !wget -P ../../data/WikiQA https://download.microsoft.com/download/E/5/F/E5FCFCEE-7005-4814-853D-DAA7C66507E0/WikiQACorpus.zip\n",
    "    !unzip -o -d ../../data/WikiQA ../../data/WikiQA/WikiQACorpus.zip"
   ]
  },
  {
   "cell_type": "markdown",
   "metadata": {},
   "source": [
    "## Load the Dataset\n",
    "MatchZoo expect a list of *Quintuple* as training data. The corresponded columns are `(text_left_id, text_right_id, text_left, text_right, label)`. For Information Retrieval task, `text_left` is referred as `query`, and `text_right` is document.\n",
    "\n",
    "For the test case, MatchZoo expect a list of *Quadruple* (we do not need labels) as input."
   ]
  },
  {
   "cell_type": "markdown",
   "metadata": {},
   "source": [
    "MatchZoo expect a list of *Quintuple* as training data:\n",
    "\n",
    "```python\n",
    "train = [('qid0', 'did0', 'query 0', 'document 0', 'label 0'),\n",
    "         ('qid0', 'did1', 'query 0', 'document 1', 'label 1'),\n",
    "          ...,\n",
    "         ('qid1', 'did2', 'query 1', 'document 2', 'label 3')]\n",
    "```\n",
    "\n",
    "The corresponded columns are `(text_left_id, text_right_id, text_left, text_right, label)`. For Information Retrieval task, *text_left* is referred as *query*, and *text_right* is document.\n",
    "\n",
    "For the test case, MatchZoo expect a list of *Quadruple* (we do not need labels) as input:\n",
    "\n",
    "```python\n",
    "test = [('qid9', 'did5', 'query 9', 'document 5'),\n",
    "         ...,\n",
    "        ('qid2', 'did7', 'query 2', 'document 7')]\n",
    "```"
   ]
  },
  {
   "cell_type": "code",
   "execution_count": 2,
   "metadata": {
    "ExecuteTime": {
     "end_time": "2018-11-06T11:20:41.978632Z",
     "start_time": "2018-11-06T11:20:41.903056Z"
    }
   },
   "outputs": [],
   "source": [
    "def read_data(path, stage):\n",
    "    def scan_file():\n",
    "        with open(path) as in_file:\n",
    "            next(in_file)  # skip header\n",
    "            for l in in_file:\n",
    "                yield l.strip().split('\\t')\n",
    "    if stage == 'train':\n",
    "        return [(qid, did, q, d, label) for qid, q, _, _, did, d, label in scan_file()]\n",
    "    elif stage == 'predict':\n",
    "        return [(qid, did, q, d) for qid, q, _, _, did, d, _ in scan_file()]\n",
    "\n",
    "train = read_data('../../data/WikiQA/WikiQACorpus/WikiQA-train.tsv', stage='train')\n",
    "predict  = read_data('../../data/WikiQA/WikiQACorpus/WikiQA-test.tsv', stage='predict')"
   ]
  },
  {
   "cell_type": "code",
   "execution_count": 3,
   "metadata": {
    "ExecuteTime": {
     "end_time": "2018-11-06T11:20:41.984722Z",
     "start_time": "2018-11-06T11:20:41.980817Z"
    }
   },
   "outputs": [
    {
     "name": "stdout",
     "output_type": "stream",
     "text": [
      "('Q1', 'D1-0', 'how are glacier caves formed?', 'A partly submerged glacier cave on Perito Moreno Glacier .', '0')\n",
      "('Q0', 'D0-0', 'HOW AFRICAN AMERICANS WERE IMMIGRATED TO THE US', 'African immigration to the United States refers to immigrants to the United States who are or were nationals of Africa .')\n"
     ]
    }
   ],
   "source": [
    "print(train[0])\n",
    "print(predict[0])"
   ]
  },
  {
   "cell_type": "markdown",
   "metadata": {},
   "source": [
    "## Preprocessing"
   ]
  },
  {
   "cell_type": "code",
   "execution_count": 4,
   "metadata": {
    "ExecuteTime": {
     "end_time": "2018-11-06T11:21:04.768854Z",
     "start_time": "2018-11-06T11:20:41.987627Z"
    }
   },
   "outputs": [
    {
     "name": "stderr",
     "output_type": "stream",
     "text": [
      "Using TensorFlow backend.\n",
      "Start building vocabulary & fitting parameters.\n",
      "2118it [00:00, 4507.40it/s]\n",
      "18841it [00:06, 2775.70it/s]\n",
      "Start processing input data for train stage.\n",
      "2118it [00:00, 3203.60it/s]\n",
      "18841it [00:09, 2001.25it/s]\n",
      "Start processing input data for predict stage.\n",
      "633it [00:00, 3247.12it/s]\n",
      "5961it [00:02, 2085.76it/s]\n"
     ]
    }
   ],
   "source": [
    "from matchzoo import preprocessor\n",
    "dssm_preprocessor = preprocessor.DSSMPreprocessor()\n",
    "datapack_train = dssm_preprocessor.fit_transform(train, stage='train')\n",
    "datapack_predict = dssm_preprocessor.fit_transform(predict, stage='predict')"
   ]
  },
  {
   "cell_type": "code",
   "execution_count": 5,
   "metadata": {
    "ExecuteTime": {
     "end_time": "2018-11-06T11:21:04.789270Z",
     "start_time": "2018-11-06T11:21:04.770538Z"
    }
   },
   "outputs": [
    {
     "data": {
      "text/plain": [
       "matchzoo.datapack.DataPack"
      ]
     },
     "execution_count": 5,
     "metadata": {},
     "output_type": "execute_result"
    }
   ],
   "source": [
    "type(datapack_train)"
   ]
  },
  {
   "cell_type": "code",
   "execution_count": 6,
   "metadata": {
    "ExecuteTime": {
     "end_time": "2018-11-06T11:21:04.814905Z",
     "start_time": "2018-11-06T11:21:04.791896Z"
    }
   },
   "outputs": [
    {
     "data": {
      "text/html": [
       "<div>\n",
       "<style scoped>\n",
       "    .dataframe tbody tr th:only-of-type {\n",
       "        vertical-align: middle;\n",
       "    }\n",
       "\n",
       "    .dataframe tbody tr th {\n",
       "        vertical-align: top;\n",
       "    }\n",
       "\n",
       "    .dataframe thead th {\n",
       "        text-align: right;\n",
       "    }\n",
       "</style>\n",
       "<table border=\"1\" class=\"dataframe\">\n",
       "  <thead>\n",
       "    <tr style=\"text-align: right;\">\n",
       "      <th></th>\n",
       "      <th>text_left</th>\n",
       "    </tr>\n",
       "    <tr>\n",
       "      <th>id_left</th>\n",
       "      <th></th>\n",
       "    </tr>\n",
       "  </thead>\n",
       "  <tbody>\n",
       "    <tr>\n",
       "      <th>Q1</th>\n",
       "      <td>[0.0, 0.0, 0.0, 0.0, 0.0, 0.0, 0.0, 0.0, 0.0, ...</td>\n",
       "    </tr>\n",
       "    <tr>\n",
       "      <th>Q2</th>\n",
       "      <td>[0.0, 0.0, 0.0, 0.0, 0.0, 0.0, 0.0, 0.0, 0.0, ...</td>\n",
       "    </tr>\n",
       "    <tr>\n",
       "      <th>Q5</th>\n",
       "      <td>[0.0, 0.0, 0.0, 0.0, 0.0, 0.0, 0.0, 0.0, 0.0, ...</td>\n",
       "    </tr>\n",
       "    <tr>\n",
       "      <th>Q6</th>\n",
       "      <td>[0.0, 0.0, 0.0, 0.0, 0.0, 0.0, 0.0, 0.0, 0.0, ...</td>\n",
       "    </tr>\n",
       "    <tr>\n",
       "      <th>Q7</th>\n",
       "      <td>[0.0, 0.0, 0.0, 0.0, 0.0, 0.0, 0.0, 0.0, 0.0, ...</td>\n",
       "    </tr>\n",
       "  </tbody>\n",
       "</table>\n",
       "</div>"
      ],
      "text/plain": [
       "                                                 text_left\n",
       "id_left                                                   \n",
       "Q1       [0.0, 0.0, 0.0, 0.0, 0.0, 0.0, 0.0, 0.0, 0.0, ...\n",
       "Q2       [0.0, 0.0, 0.0, 0.0, 0.0, 0.0, 0.0, 0.0, 0.0, ...\n",
       "Q5       [0.0, 0.0, 0.0, 0.0, 0.0, 0.0, 0.0, 0.0, 0.0, ...\n",
       "Q6       [0.0, 0.0, 0.0, 0.0, 0.0, 0.0, 0.0, 0.0, 0.0, ...\n",
       "Q7       [0.0, 0.0, 0.0, 0.0, 0.0, 0.0, 0.0, 0.0, 0.0, ..."
      ]
     },
     "execution_count": 6,
     "metadata": {},
     "output_type": "execute_result"
    }
   ],
   "source": [
    "# pre-processed records including index and processed text to store `text_left` and `id_left`\n",
    "datapack_train.left.head()"
   ]
  },
  {
   "cell_type": "code",
   "execution_count": 7,
   "metadata": {
    "ExecuteTime": {
     "end_time": "2018-11-06T11:21:04.835693Z",
     "start_time": "2018-11-06T11:21:04.817103Z"
    }
   },
   "outputs": [
    {
     "data": {
      "text/html": [
       "<div>\n",
       "<style scoped>\n",
       "    .dataframe tbody tr th:only-of-type {\n",
       "        vertical-align: middle;\n",
       "    }\n",
       "\n",
       "    .dataframe tbody tr th {\n",
       "        vertical-align: top;\n",
       "    }\n",
       "\n",
       "    .dataframe thead th {\n",
       "        text-align: right;\n",
       "    }\n",
       "</style>\n",
       "<table border=\"1\" class=\"dataframe\">\n",
       "  <thead>\n",
       "    <tr style=\"text-align: right;\">\n",
       "      <th></th>\n",
       "      <th>text_right</th>\n",
       "    </tr>\n",
       "    <tr>\n",
       "      <th>id_right</th>\n",
       "      <th></th>\n",
       "    </tr>\n",
       "  </thead>\n",
       "  <tbody>\n",
       "    <tr>\n",
       "      <th>D1-0</th>\n",
       "      <td>[0.0, 0.0, 0.0, 0.0, 0.0, 0.0, 0.0, 0.0, 0.0, ...</td>\n",
       "    </tr>\n",
       "    <tr>\n",
       "      <th>D1-1</th>\n",
       "      <td>[0.0, 0.0, 0.0, 0.0, 0.0, 0.0, 0.0, 0.0, 0.0, ...</td>\n",
       "    </tr>\n",
       "    <tr>\n",
       "      <th>D1-2</th>\n",
       "      <td>[0.0, 0.0, 0.0, 0.0, 0.0, 0.0, 0.0, 0.0, 0.0, ...</td>\n",
       "    </tr>\n",
       "    <tr>\n",
       "      <th>D1-3</th>\n",
       "      <td>[0.0, 0.0, 0.0, 0.0, 0.0, 0.0, 0.0, 0.0, 0.0, ...</td>\n",
       "    </tr>\n",
       "    <tr>\n",
       "      <th>D1-4</th>\n",
       "      <td>[0.0, 0.0, 0.0, 0.0, 0.0, 0.0, 0.0, 0.0, 0.0, ...</td>\n",
       "    </tr>\n",
       "  </tbody>\n",
       "</table>\n",
       "</div>"
      ],
      "text/plain": [
       "                                                 text_right\n",
       "id_right                                                   \n",
       "D1-0      [0.0, 0.0, 0.0, 0.0, 0.0, 0.0, 0.0, 0.0, 0.0, ...\n",
       "D1-1      [0.0, 0.0, 0.0, 0.0, 0.0, 0.0, 0.0, 0.0, 0.0, ...\n",
       "D1-2      [0.0, 0.0, 0.0, 0.0, 0.0, 0.0, 0.0, 0.0, 0.0, ...\n",
       "D1-3      [0.0, 0.0, 0.0, 0.0, 0.0, 0.0, 0.0, 0.0, 0.0, ...\n",
       "D1-4      [0.0, 0.0, 0.0, 0.0, 0.0, 0.0, 0.0, 0.0, 0.0, ..."
      ]
     },
     "execution_count": 7,
     "metadata": {},
     "output_type": "execute_result"
    }
   ],
   "source": [
    "# pre-processed records including index and processed text to store `text_right` and `id_right`\n",
    "datapack_train.right.head()"
   ]
  },
  {
   "cell_type": "code",
   "execution_count": 8,
   "metadata": {
    "ExecuteTime": {
     "end_time": "2018-11-06T11:21:04.848165Z",
     "start_time": "2018-11-06T11:21:04.838078Z"
    }
   },
   "outputs": [
    {
     "data": {
      "text/html": [
       "<div>\n",
       "<style scoped>\n",
       "    .dataframe tbody tr th:only-of-type {\n",
       "        vertical-align: middle;\n",
       "    }\n",
       "\n",
       "    .dataframe tbody tr th {\n",
       "        vertical-align: top;\n",
       "    }\n",
       "\n",
       "    .dataframe thead th {\n",
       "        text-align: right;\n",
       "    }\n",
       "</style>\n",
       "<table border=\"1\" class=\"dataframe\">\n",
       "  <thead>\n",
       "    <tr style=\"text-align: right;\">\n",
       "      <th></th>\n",
       "      <th>id_left</th>\n",
       "      <th>id_right</th>\n",
       "      <th>label</th>\n",
       "    </tr>\n",
       "  </thead>\n",
       "  <tbody>\n",
       "    <tr>\n",
       "      <th>0</th>\n",
       "      <td>Q1</td>\n",
       "      <td>D1-0</td>\n",
       "      <td>0</td>\n",
       "    </tr>\n",
       "    <tr>\n",
       "      <th>1</th>\n",
       "      <td>Q1</td>\n",
       "      <td>D1-1</td>\n",
       "      <td>0</td>\n",
       "    </tr>\n",
       "    <tr>\n",
       "      <th>2</th>\n",
       "      <td>Q1</td>\n",
       "      <td>D1-2</td>\n",
       "      <td>0</td>\n",
       "    </tr>\n",
       "    <tr>\n",
       "      <th>3</th>\n",
       "      <td>Q1</td>\n",
       "      <td>D1-3</td>\n",
       "      <td>1</td>\n",
       "    </tr>\n",
       "    <tr>\n",
       "      <th>4</th>\n",
       "      <td>Q1</td>\n",
       "      <td>D1-4</td>\n",
       "      <td>0</td>\n",
       "    </tr>\n",
       "  </tbody>\n",
       "</table>\n",
       "</div>"
      ],
      "text/plain": [
       "  id_left id_right label\n",
       "0      Q1     D1-0     0\n",
       "1      Q1     D1-1     0\n",
       "2      Q1     D1-2     0\n",
       "3      Q1     D1-3     1\n",
       "4      Q1     D1-4     0"
      ]
     },
     "execution_count": 8,
     "metadata": {},
     "output_type": "execute_result"
    }
   ],
   "source": [
    "# pre-processed records including index and index mapping `id_left` and `id_right`\n",
    "datapack_train.relation.head()"
   ]
  },
  {
   "cell_type": "code",
   "execution_count": 9,
   "metadata": {
    "ExecuteTime": {
     "end_time": "2018-11-06T11:21:04.854518Z",
     "start_time": "2018-11-06T11:21:04.850102Z"
    }
   },
   "outputs": [
    {
     "data": {
      "text/plain": [
       "dict_keys(['term_index', 'input_shapes'])"
      ]
     },
     "execution_count": 9,
     "metadata": {},
     "output_type": "execute_result"
    }
   ],
   "source": [
    "# other information stored during the pre-processing process\n",
    "datapack_train.context.keys()"
   ]
  },
  {
   "cell_type": "code",
   "execution_count": 10,
   "metadata": {
    "ExecuteTime": {
     "end_time": "2018-11-06T11:21:04.861965Z",
     "start_time": "2018-11-06T11:21:04.857166Z"
    }
   },
   "outputs": [
    {
     "data": {
      "text/plain": [
       "9643"
      ]
     },
     "execution_count": 10,
     "metadata": {},
     "output_type": "execute_result"
    }
   ],
   "source": [
    "# vocabulary size\n",
    "len(datapack_train.context['term_index'])"
   ]
  },
  {
   "cell_type": "code",
   "execution_count": 11,
   "metadata": {
    "ExecuteTime": {
     "end_time": "2018-11-06T11:21:04.869924Z",
     "start_time": "2018-11-06T11:21:04.864112Z"
    }
   },
   "outputs": [
    {
     "data": {
      "text/plain": [
       "[(9644,), (9644,)]"
      ]
     },
     "execution_count": 11,
     "metadata": {},
     "output_type": "execute_result"
    }
   ],
   "source": [
    "# since DSSM models' input shapes are dynamic\n",
    "# (depend on the generated tri-letters)\n",
    "# so we have to calculate shapes during the pre-processing process\n",
    "datapack_train.context['input_shapes']"
   ]
  },
  {
   "cell_type": "markdown",
   "metadata": {},
   "source": [
    "## Data Generation"
   ]
  },
  {
   "cell_type": "code",
   "execution_count": 12,
   "metadata": {
    "ExecuteTime": {
     "end_time": "2018-11-06T11:21:04.877023Z",
     "start_time": "2018-11-06T11:21:04.872170Z"
    }
   },
   "outputs": [],
   "source": [
    "from matchzoo import generators\n",
    "from matchzoo import tasks\n",
    "generator_train = generators.PointGenerator(\n",
    "    inputs=datapack_train, task=tasks.Ranking(), batch_size=64, stage='train')\n",
    "generator_predict = generators.PointGenerator(\n",
    "    inputs=datapack_predict, task=tasks.Ranking(), batch_size=64, stage='predict')"
   ]
  },
  {
   "cell_type": "markdown",
   "metadata": {},
   "source": [
    "## Training"
   ]
  },
  {
   "cell_type": "code",
   "execution_count": 13,
   "metadata": {
    "ExecuteTime": {
     "end_time": "2018-11-06T11:21:04.885172Z",
     "start_time": "2018-11-06T11:21:04.879489Z"
    },
    "collapsed": true
   },
   "outputs": [],
   "source": [
    "from matchzoo import models, load_model\n",
    "from matchzoo import losses\n",
    "from matchzoo import tasks\n",
    "from matchzoo import metrics\n",
    "dssm_model = models.DSSMModel()"
   ]
  },
  {
   "cell_type": "code",
   "execution_count": 14,
   "metadata": {
    "ExecuteTime": {
     "end_time": "2018-11-06T11:21:04.892411Z",
     "start_time": "2018-11-06T11:21:04.888285Z"
    },
    "collapsed": true
   },
   "outputs": [],
   "source": [
    "# handle dynamic input shapes of DSSM\n",
    "input_shapes = datapack_train.context['input_shapes']\n",
    "dssm_model.params['input_shapes'] = input_shapes"
   ]
  },
  {
   "cell_type": "code",
   "execution_count": 15,
   "metadata": {
    "ExecuteTime": {
     "end_time": "2018-11-06T11:21:04.898352Z",
     "start_time": "2018-11-06T11:21:04.895250Z"
    }
   },
   "outputs": [],
   "source": [
    "dssm_model.params['task'] = tasks.Ranking()\n",
    "dssm_model.params['task'].metrics = ['mae', 'map']"
   ]
  },
  {
   "cell_type": "code",
   "execution_count": 16,
   "metadata": {
    "ExecuteTime": {
     "end_time": "2018-11-06T11:21:04.905015Z",
     "start_time": "2018-11-06T11:21:04.901316Z"
    }
   },
   "outputs": [
    {
     "name": "stdout",
     "output_type": "stream",
     "text": [
      "name                          DSSMModel\n",
      "model_class                   <class 'matchzoo.models.dssm_model.DSSMModel'>\n",
      "input_shapes                  [(9644,), (9644,)]\n",
      "task                          <matchzoo.tasks.ranking.Ranking object at 0x1255449e8>\n",
      "optimizer                     adam\n",
      "w_initializer                 glorot_normal\n",
      "b_initializer                 zeros\n",
      "dim_fan_out                   128\n",
      "dim_hidden                    300\n",
      "activation_hidden             tanh\n",
      "num_hidden_layers             2\n"
     ]
    }
   ],
   "source": [
    "dssm_model.guess_and_fill_missing_params()\n",
    "print(dssm_model.params)"
   ]
  },
  {
   "cell_type": "code",
   "execution_count": 17,
   "metadata": {
    "ExecuteTime": {
     "end_time": "2018-11-06T11:21:17.386999Z",
     "start_time": "2018-11-06T11:21:04.906857Z"
    }
   },
   "outputs": [
    {
     "name": "stdout",
     "output_type": "stream",
     "text": [
      "Epoch 1/10\n",
      "20/20 [==============================] - 2s 78ms/step - loss: 0.0880 - mean_absolute_error: 0.2218\n",
      "Epoch 2/10\n",
      "20/20 [==============================] - 1s 63ms/step - loss: 0.0944 - mean_absolute_error: 0.2253\n",
      "Epoch 3/10\n",
      "20/20 [==============================] - 1s 53ms/step - loss: 0.0926 - mean_absolute_error: 0.2213\n",
      "Epoch 4/10\n",
      "20/20 [==============================] - 1s 55ms/step - loss: 0.0815 - mean_absolute_error: 0.2105\n",
      "Epoch 5/10\n",
      "20/20 [==============================] - 1s 60ms/step - loss: 0.0901 - mean_absolute_error: 0.2141\n",
      "Epoch 6/10\n",
      "20/20 [==============================] - 1s 54ms/step - loss: 0.0632 - mean_absolute_error: 0.1820\n",
      "Epoch 7/10\n",
      "20/20 [==============================] - 1s 53ms/step - loss: 0.0679 - mean_absolute_error: 0.1834\n",
      "Epoch 8/10\n",
      "20/20 [==============================] - 1s 65ms/step - loss: 0.0648 - mean_absolute_error: 0.1769\n",
      "Epoch 9/10\n",
      "20/20 [==============================] - 1s 60ms/step - loss: 0.0658 - mean_absolute_error: 0.1728\n",
      "Epoch 10/10\n",
      "20/20 [==============================] - 1s 53ms/step - loss: 0.0564 - mean_absolute_error: 0.1600\n"
     ]
    },
    {
     "data": {
      "text/plain": [
       "<keras.callbacks.History at 0x12554fb70>"
      ]
     },
     "execution_count": 17,
     "metadata": {},
     "output_type": "execute_result"
    }
   ],
   "source": [
    "dssm_model.build()\n",
    "dssm_model.compile()\n",
    "dssm_model.fit_generator(generator_train, steps_per_epoch=20, epochs=10)"
   ]
  },
  {
   "cell_type": "code",
   "execution_count": 18,
   "metadata": {
    "ExecuteTime": {
     "end_time": "2018-11-06T11:21:17.537981Z",
     "start_time": "2018-11-06T11:21:17.389003Z"
    }
   },
   "outputs": [
    {
     "name": "stdout",
     "output_type": "stream",
     "text": [
      "\r",
      "64/64 [==============================] - 0s 1ms/step\n"
     ]
    },
    {
     "data": {
      "text/plain": [
       "{'loss': 0.054979369044303894,\n",
       " 'mean_absolute_error': 0.155732661485672,\n",
       " 'mean_average_precision(0)': 0.078125}"
      ]
     },
     "execution_count": 18,
     "metadata": {},
     "output_type": "execute_result"
    }
   ],
   "source": [
    "X, Y = generator_train[0]\n",
    "dssm_model.evaluate(X, Y)"
   ]
  },
  {
   "cell_type": "code",
   "execution_count": 19,
   "metadata": {
    "ExecuteTime": {
     "end_time": "2018-11-06T11:21:17.631444Z",
     "start_time": "2018-11-06T11:21:17.539664Z"
    }
   },
   "outputs": [
    {
     "name": "stdout",
     "output_type": "stream",
     "text": [
      "Q575/D566-4 is predicted as [0.36323702]\n",
      "Q2386/D2240-3 is predicted as [0.29918593]\n",
      "Q1444/D1154-3 is predicted as [0.03349027]\n",
      "Q149/D149-11 is predicted as [0.02259347]\n",
      "Q2682/D2503-1 is predicted as [-0.07604729]\n",
      "Q2575/D2407-10 is predicted as [0.16408148]\n",
      "Q2567/D2399-5 is predicted as [0.20119488]\n",
      "Q1554/D1472-1 is predicted as [0.23549062]\n",
      "Q2780/D2586-2 is predicted as [0.02576421]\n",
      "Q2640/D2464-3 is predicted as [-0.0271533]\n"
     ]
    }
   ],
   "source": [
    "X_predict, _ = generator_predict[0]\n",
    "pred = dssm_model.predict(X)\n",
    "for id_left, id_right, pred, _ in zip(X_predict.id_left, X_predict.id_right, pred, range(10)):\n",
    "    print(\"{}/{} is predicted as {}\".format(id_left, id_right, pred))"
   ]
  },
  {
   "cell_type": "markdown",
   "metadata": {},
   "source": [
    "#### Model Persistence\n",
    "\n",
    "You can persist your trained model using `model.save()` and `load_model` function:"
   ]
  },
  {
   "cell_type": "code",
   "execution_count": 20,
   "metadata": {
    "ExecuteTime": {
     "end_time": "2018-11-06T11:21:18.935994Z",
     "start_time": "2018-11-06T11:21:17.640545Z"
    }
   },
   "outputs": [],
   "source": [
    "dssm_model.save('/tmp/my_dssm_model')\n",
    "loaded_dssm_model = load_model('/tmp/my_dssm_model')"
   ]
  },
  {
   "cell_type": "code",
   "execution_count": 21,
   "metadata": {
    "ExecuteTime": {
     "end_time": "2018-11-06T11:21:19.030601Z",
     "start_time": "2018-11-06T11:21:18.937776Z"
    }
   },
   "outputs": [
    {
     "data": {
      "text/plain": [
       "True"
      ]
     },
     "execution_count": 21,
     "metadata": {},
     "output_type": "execute_result"
    }
   ],
   "source": [
    "(loaded_dssm_model.predict(X) == dssm_model.predict(X)).all()"
   ]
  },
  {
   "cell_type": "markdown",
   "metadata": {},
   "source": [
    "## Reference\n",
    "\n",
    "[Huang et al. 2013] Po-Sen Huang, Xiaodong He, Jianfeng Gao, Li Deng, Alex Acero, and Larry Heck. 2013. Learning deep structured semantic models for web search using clickthrough data. In Proc. CIKM. ACM, 2333–2338."
   ]
  }
 ],
 "metadata": {
  "hide_input": false,
  "kernelspec": {
   "display_name": "matchzoo",
   "language": "python",
   "name": "matchzoo"
  },
  "language_info": {
   "codemirror_mode": {
    "name": "ipython",
    "version": 3
   },
   "file_extension": ".py",
   "mimetype": "text/x-python",
   "name": "python",
   "nbconvert_exporter": "python",
   "pygments_lexer": "ipython3",
   "version": "3.6.3"
  },
  "toc": {
   "nav_menu": {},
   "number_sections": true,
   "sideBar": true,
   "skip_h1_title": false,
   "toc_cell": false,
   "toc_position": {},
   "toc_section_display": "block",
   "toc_window_display": false
  },
  "varInspector": {
   "cols": {
    "lenName": 16,
    "lenType": 16,
    "lenVar": 40
   },
   "kernels_config": {
    "python": {
     "delete_cmd_postfix": "",
     "delete_cmd_prefix": "del ",
     "library": "var_list.py",
     "varRefreshCmd": "print(var_dic_list())"
    },
    "r": {
     "delete_cmd_postfix": ") ",
     "delete_cmd_prefix": "rm(",
     "library": "var_list.r",
     "varRefreshCmd": "cat(var_dic_list()) "
    }
   },
   "types_to_exclude": [
    "module",
    "function",
    "builtin_function_or_method",
    "instance",
    "_Feature"
   ],
   "window_display": false
  }
 },
 "nbformat": 4,
 "nbformat_minor": 2
}
