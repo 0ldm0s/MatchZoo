{
 "cells": [
  {
   "cell_type": "code",
   "execution_count": 1,
   "metadata": {},
   "outputs": [
    {
     "name": "stderr",
     "output_type": "stream",
     "text": [
      "Using TensorFlow backend.\n",
      "/home/fanyixing/.local/python3/lib/python3.6/importlib/_bootstrap.py:219: RuntimeWarning: numpy.dtype size changed, may indicate binary incompatibility. Expected 96, got 88\n",
      "  return f(*args, **kwds)\n",
      "/home/fanyixing/.local/python3/lib/python3.6/importlib/_bootstrap.py:219: RuntimeWarning: numpy.dtype size changed, may indicate binary incompatibility. Expected 96, got 88\n",
      "  return f(*args, **kwds)\n"
     ]
    },
    {
     "name": "stdout",
     "output_type": "stream",
     "text": [
      "matchzoo version 2.1.0\n",
      "\n",
      "data loading ...\n",
      "data loaded as `train_pack_raw` `dev_pack_raw` `test_pack_raw`\n",
      "`ranking_task` initialized with metrics [normalized_discounted_cumulative_gain@3(0.0), normalized_discounted_cumulative_gain@5(0.0), mean_average_precision(0.0)]\n",
      "loading embedding ...\n",
      "embedding loaded as `glove_embedding`\n"
     ]
    }
   ],
   "source": [
    "%run init.ipynb"
   ]
  },
  {
   "cell_type": "code",
   "execution_count": 2,
   "metadata": {},
   "outputs": [
    {
     "name": "stderr",
     "output_type": "stream",
     "text": [
      "Processing text_left with chain_transform of Tokenize => Lowercase => PuncRemoval: 100%|██████████| 2118/2118 [00:00<00:00, 3947.74it/s]\n",
      "Processing text_right with chain_transform of Tokenize => Lowercase => PuncRemoval: 100%|██████████| 18841/18841 [00:08<00:00, 2187.19it/s]\n",
      "Processing text_right with append: 100%|██████████| 18841/18841 [00:00<00:00, 321345.17it/s]\n",
      "Building FrequencyFilter from a datapack.: 100%|██████████| 18841/18841 [00:00<00:00, 42900.97it/s]\n",
      "Processing text_right with transform: 100%|██████████| 18841/18841 [00:00<00:00, 37563.09it/s]\n",
      "Processing text_left with extend: 100%|██████████| 2118/2118 [00:00<00:00, 242534.01it/s]\n",
      "Processing text_right with extend: 100%|██████████| 18841/18841 [00:00<00:00, 294677.64it/s]\n",
      "Building Vocabulary from a datapack.: 100%|██████████| 404415/404415 [00:00<00:00, 1360762.51it/s]\n",
      "Processing text_left with chain_transform of Tokenize => Lowercase => PuncRemoval: 100%|██████████| 2118/2118 [00:00<00:00, 2967.38it/s]\n",
      "Processing text_right with chain_transform of Tokenize => Lowercase => PuncRemoval: 100%|██████████| 18841/18841 [00:08<00:00, 2345.04it/s]\n",
      "Processing text_right with transform: 100%|██████████| 18841/18841 [00:00<00:00, 69496.98it/s]\n",
      "Processing text_left with transform: 100%|██████████| 2118/2118 [00:00<00:00, 100791.21it/s]\n",
      "Processing text_right with transform: 100%|██████████| 18841/18841 [00:00<00:00, 75013.32it/s]\n",
      "Processing length_left with len: 100%|██████████| 2118/2118 [00:00<00:00, 310982.84it/s]\n",
      "Processing length_right with len: 100%|██████████| 18841/18841 [00:00<00:00, 396442.58it/s]\n",
      "Processing text_left with transform: 100%|██████████| 2118/2118 [00:00<00:00, 45612.73it/s]\n",
      "Processing text_right with transform: 100%|██████████| 18841/18841 [00:00<00:00, 38407.72it/s]\n",
      "Processing text_left with chain_transform of Tokenize => Lowercase => PuncRemoval: 100%|██████████| 122/122 [00:00<00:00, 3886.71it/s]\n",
      "Processing text_right with chain_transform of Tokenize => Lowercase => PuncRemoval: 100%|██████████| 1115/1115 [00:00<00:00, 2512.48it/s]\n",
      "Processing text_right with transform: 100%|██████████| 1115/1115 [00:00<00:00, 69226.26it/s]\n",
      "Processing text_left with transform: 100%|██████████| 122/122 [00:00<00:00, 64772.80it/s]\n",
      "Processing text_right with transform: 100%|██████████| 1115/1115 [00:00<00:00, 81829.70it/s]\n",
      "Processing length_left with len: 100%|██████████| 122/122 [00:00<00:00, 131509.92it/s]\n",
      "Processing length_right with len: 100%|██████████| 1115/1115 [00:00<00:00, 330832.55it/s]\n",
      "Processing text_left with transform: 100%|██████████| 122/122 [00:00<00:00, 37971.59it/s]\n",
      "Processing text_right with transform: 100%|██████████| 1115/1115 [00:00<00:00, 36295.58it/s]\n",
      "Processing text_left with chain_transform of Tokenize => Lowercase => PuncRemoval: 100%|██████████| 237/237 [00:00<00:00, 3971.75it/s]\n",
      "Processing text_right with chain_transform of Tokenize => Lowercase => PuncRemoval: 100%|██████████| 2300/2300 [00:01<00:00, 2191.13it/s]\n",
      "Processing text_right with transform: 100%|██████████| 2300/2300 [00:00<00:00, 55359.55it/s]\n",
      "Processing text_left with transform: 100%|██████████| 237/237 [00:00<00:00, 91651.30it/s]\n",
      "Processing text_right with transform: 100%|██████████| 2300/2300 [00:00<00:00, 69797.84it/s]\n",
      "Processing length_left with len: 100%|██████████| 237/237 [00:00<00:00, 172428.46it/s]\n",
      "Processing length_right with len: 100%|██████████| 2300/2300 [00:00<00:00, 311110.01it/s]\n",
      "Processing text_left with transform: 100%|██████████| 237/237 [00:00<00:00, 33241.37it/s]\n",
      "Processing text_right with transform: 100%|██████████| 2300/2300 [00:00<00:00, 36961.58it/s]\n"
     ]
    }
   ],
   "source": [
    "preprocessor = mz.preprocessors.BasicPreprocessor(fixed_length_left=10, fixed_length_right=40, remove_stop_words=False)\n",
    "train_pack_processed = preprocessor.fit_transform(train_pack_raw)\n",
    "valid_pack_processed = preprocessor.transform(dev_pack_raw)\n",
    "test_pack_processed = preprocessor.transform(test_pack_raw)"
   ]
  },
  {
   "cell_type": "code",
   "execution_count": 3,
   "metadata": {
    "scrolled": false
   },
   "outputs": [
    {
     "data": {
      "text/plain": [
       "{'filter_unit': <matchzoo.preprocessors.units.frequency_filter.FrequencyFilter at 0x7f21e9a35dd8>,\n",
       " 'vocab_unit': <matchzoo.preprocessors.units.vocabulary.Vocabulary at 0x7f21ea208908>,\n",
       " 'vocab_size': 16674,\n",
       " 'embedding_input_dim': 16674,\n",
       " 'input_shapes': [(10,), (40,)]}"
      ]
     },
     "execution_count": 3,
     "metadata": {},
     "output_type": "execute_result"
    }
   ],
   "source": [
    "preprocessor.context"
   ]
  },
  {
   "cell_type": "code",
   "execution_count": 4,
   "metadata": {
    "scrolled": false
   },
   "outputs": [],
   "source": [
    "model = mz.models.KNRM()\n",
    "model.params['input_shapes'] = preprocessor.context['input_shapes']\n",
    "model.params['task'] = ranking_task\n",
    "model.params['embedding_input_dim'] = preprocessor.context['vocab_size']\n",
    "model.params['embedding_output_dim'] = glove_embedding.output_dim\n",
    "model.params['embedding_trainable'] = True\n",
    "model.params['kernel_num'] = 21\n",
    "model.params['sigma'] = 0.1\n",
    "model.params['exact_sigma'] = 0.001\n",
    "model.params['optimizer'] = 'adadelta'\n",
    "model.guess_and_fill_missing_params()\n",
    "model.build()\n",
    "model.compile()\n",
    "#model.backend.summary()"
   ]
  },
  {
   "cell_type": "code",
   "execution_count": 5,
   "metadata": {},
   "outputs": [],
   "source": [
    "embedding_matrix = glove_embedding.build_matrix(preprocessor.context['vocab_unit'].state['term_index'])\n",
    "model.load_embedding_matrix(embedding_matrix)"
   ]
  },
  {
   "cell_type": "code",
   "execution_count": 6,
   "metadata": {},
   "outputs": [],
   "source": [
    "pred_x, pred_y = test_pack_processed[:].unpack()\n",
    "evaluate = mz.callbacks.EvaluateAllMetrics(model, x=pred_x, y=pred_y, batch_size=len(pred_x))"
   ]
  },
  {
   "cell_type": "code",
   "execution_count": 7,
   "metadata": {},
   "outputs": [
    {
     "name": "stdout",
     "output_type": "stream",
     "text": [
      "WARNING: PairDataGenerator will be deprecated in MatchZoo v2.2. Use `DataGenerator` with callbacks instead.\n"
     ]
    },
    {
     "data": {
      "text/plain": [
       "102"
      ]
     },
     "execution_count": 7,
     "metadata": {},
     "output_type": "execute_result"
    }
   ],
   "source": [
    "train_generator = mz.PairDataGenerator(train_pack_processed, num_dup=2, num_neg=1, batch_size=20)\n",
    "len(train_generator)"
   ]
  },
  {
   "cell_type": "code",
   "execution_count": 8,
   "metadata": {
    "scrolled": false
   },
   "outputs": [
    {
     "name": "stdout",
     "output_type": "stream",
     "text": [
      "Epoch 1/30\n",
      "102/102 [==============================] - 12s 113ms/step - loss: 0.9993\n",
      "Validation: normalized_discounted_cumulative_gain@3(0.0): 0.5443017502809149 - normalized_discounted_cumulative_gain@5(0.0): 0.6076863830810906 - mean_average_precision(0.0): 0.5619155756929701\n",
      "Epoch 2/30\n",
      "102/102 [==============================] - 17s 164ms/step - loss: 0.7823\n",
      "Validation: normalized_discounted_cumulative_gain@3(0.0): 0.5627220849832645 - normalized_discounted_cumulative_gain@5(0.0): 0.6263239452143754 - mean_average_precision(0.0): 0.5828732606911723\n",
      "Epoch 3/30\n",
      "102/102 [==============================] - 16s 153ms/step - loss: 0.6496\n",
      "Validation: normalized_discounted_cumulative_gain@3(0.0): 0.5574317269685791 - normalized_discounted_cumulative_gain@5(0.0): 0.6287313643770015 - mean_average_precision(0.0): 0.5839654831443352\n",
      "Epoch 4/30\n",
      "102/102 [==============================] - 16s 152ms/step - loss: 0.5186\n",
      "Validation: normalized_discounted_cumulative_gain@3(0.0): 0.5747583377244369 - normalized_discounted_cumulative_gain@5(0.0): 0.6401443080704302 - mean_average_precision(0.0): 0.596528245227417\n",
      "Epoch 5/30\n",
      "102/102 [==============================] - 15s 143ms/step - loss: 0.4665\n",
      "Validation: normalized_discounted_cumulative_gain@3(0.0): 0.5792903742030361 - normalized_discounted_cumulative_gain@5(0.0): 0.6449618778831158 - mean_average_precision(0.0): 0.603378079055099\n",
      "Epoch 6/30\n",
      "102/102 [==============================] - 26s 251ms/step - loss: 0.4044\n",
      "Validation: normalized_discounted_cumulative_gain@3(0.0): 0.5765883529329211 - normalized_discounted_cumulative_gain@5(0.0): 0.6398963034550663 - mean_average_precision(0.0): 0.6003865532837598\n",
      "Epoch 7/30\n",
      "102/102 [==============================] - 17s 164ms/step - loss: 0.3418\n",
      "Validation: normalized_discounted_cumulative_gain@3(0.0): 0.5748527524775878 - normalized_discounted_cumulative_gain@5(0.0): 0.6334341531820763 - mean_average_precision(0.0): 0.5943449471026632\n",
      "Epoch 8/30\n",
      "102/102 [==============================] - 21s 204ms/step - loss: 0.2995\n",
      "Validation: normalized_discounted_cumulative_gain@3(0.0): 0.5629754589169836 - normalized_discounted_cumulative_gain@5(0.0): 0.6376846661041548 - mean_average_precision(0.0): 0.5911013174903627\n",
      "Epoch 9/30\n",
      "102/102 [==============================] - 20s 199ms/step - loss: 0.2610\n",
      "Validation: normalized_discounted_cumulative_gain@3(0.0): 0.5613046147366372 - normalized_discounted_cumulative_gain@5(0.0): 0.6343569553254778 - mean_average_precision(0.0): 0.5973868238758024\n",
      "Epoch 10/30\n",
      "102/102 [==============================] - 18s 179ms/step - loss: 0.2420\n",
      "Validation: normalized_discounted_cumulative_gain@3(0.0): 0.5663890480483639 - normalized_discounted_cumulative_gain@5(0.0): 0.6390765047327268 - mean_average_precision(0.0): 0.5928632829627712\n",
      "Epoch 11/30\n",
      "102/102 [==============================] - 22s 214ms/step - loss: 0.2203\n",
      "Validation: normalized_discounted_cumulative_gain@3(0.0): 0.5604007901630523 - normalized_discounted_cumulative_gain@5(0.0): 0.6256921994387572 - mean_average_precision(0.0): 0.5885133197520486\n",
      "Epoch 12/30\n",
      "102/102 [==============================] - 16s 153ms/step - loss: 0.2024\n",
      "Validation: normalized_discounted_cumulative_gain@3(0.0): 0.5683349715103311 - normalized_discounted_cumulative_gain@5(0.0): 0.6329673107595797 - mean_average_precision(0.0): 0.5870815215431019\n",
      "Epoch 13/30\n",
      "102/102 [==============================] - 25s 242ms/step - loss: 0.1706\n",
      "Validation: normalized_discounted_cumulative_gain@3(0.0): 0.5523813998231658 - normalized_discounted_cumulative_gain@5(0.0): 0.621600274722238 - mean_average_precision(0.0): 0.5788894186538363\n",
      "Epoch 14/30\n",
      "102/102 [==============================] - 14s 140ms/step - loss: 0.1509\n",
      "Validation: normalized_discounted_cumulative_gain@3(0.0): 0.5606701545842965 - normalized_discounted_cumulative_gain@5(0.0): 0.6178046178498735 - mean_average_precision(0.0): 0.5797515597611079\n",
      "Epoch 15/30\n",
      "102/102 [==============================] - 25s 243ms/step - loss: 0.1328\n",
      "Validation: normalized_discounted_cumulative_gain@3(0.0): 0.567379087554741 - normalized_discounted_cumulative_gain@5(0.0): 0.6238444624734951 - mean_average_precision(0.0): 0.5874692949918736\n",
      "Epoch 16/30\n",
      "102/102 [==============================] - 15s 149ms/step - loss: 0.1234\n",
      "Validation: normalized_discounted_cumulative_gain@3(0.0): 0.566906120927424 - normalized_discounted_cumulative_gain@5(0.0): 0.6327063995344461 - mean_average_precision(0.0): 0.5927184176460597\n",
      "Epoch 17/30\n",
      "102/102 [==============================] - 23s 223ms/step - loss: 0.1144\n",
      "Validation: normalized_discounted_cumulative_gain@3(0.0): 0.5488780554743532 - normalized_discounted_cumulative_gain@5(0.0): 0.6076025223479181 - mean_average_precision(0.0): 0.5754178287451651\n",
      "Epoch 18/30\n",
      "102/102 [==============================] - 19s 183ms/step - loss: 0.1059\n",
      "Validation: normalized_discounted_cumulative_gain@3(0.0): 0.5615318356343054 - normalized_discounted_cumulative_gain@5(0.0): 0.6157228731590967 - mean_average_precision(0.0): 0.5778492619541192\n",
      "Epoch 19/30\n",
      "102/102 [==============================] - 19s 182ms/step - loss: 0.0889\n",
      "Validation: normalized_discounted_cumulative_gain@3(0.0): 0.5655581301856509 - normalized_discounted_cumulative_gain@5(0.0): 0.6170306117063011 - mean_average_precision(0.0): 0.5783006591855797\n",
      "Epoch 20/30\n",
      "102/102 [==============================] - 21s 203ms/step - loss: 0.0762\n",
      "Validation: normalized_discounted_cumulative_gain@3(0.0): 0.5640053194500508 - normalized_discounted_cumulative_gain@5(0.0): 0.616066279529123 - mean_average_precision(0.0): 0.5749777092803513\n",
      "Epoch 21/30\n",
      "102/102 [==============================] - 16s 158ms/step - loss: 0.0634\n",
      "Validation: normalized_discounted_cumulative_gain@3(0.0): 0.5507626644092983 - normalized_discounted_cumulative_gain@5(0.0): 0.6074586503756363 - mean_average_precision(0.0): 0.5698452382437771\n",
      "Epoch 22/30\n",
      "102/102 [==============================] - 23s 223ms/step - loss: 0.0647\n",
      "Validation: normalized_discounted_cumulative_gain@3(0.0): 0.5600382287764114 - normalized_discounted_cumulative_gain@5(0.0): 0.6189477313122858 - mean_average_precision(0.0): 0.5804679802955665\n",
      "Epoch 23/30\n",
      "102/102 [==============================] - 14s 138ms/step - loss: 0.0551\n",
      "Validation: normalized_discounted_cumulative_gain@3(0.0): 0.5492260066243193 - normalized_discounted_cumulative_gain@5(0.0): 0.6187016952772357 - mean_average_precision(0.0): 0.5779608928806235\n",
      "Epoch 24/30\n",
      "102/102 [==============================] - 25s 241ms/step - loss: 0.0591\n",
      "Validation: normalized_discounted_cumulative_gain@3(0.0): 0.5475300647325801 - normalized_discounted_cumulative_gain@5(0.0): 0.6077525874598191 - mean_average_precision(0.0): 0.5675981455716737\n",
      "Epoch 25/30\n",
      "102/102 [==============================] - 16s 152ms/step - loss: 0.0545\n",
      "Validation: normalized_discounted_cumulative_gain@3(0.0): 0.5527292378945095 - normalized_discounted_cumulative_gain@5(0.0): 0.6208092901206673 - mean_average_precision(0.0): 0.5799922154024524\n",
      "Epoch 26/30\n",
      "102/102 [==============================] - 23s 225ms/step - loss: 0.0421\n",
      "Validation: normalized_discounted_cumulative_gain@3(0.0): 0.5498033880902171 - normalized_discounted_cumulative_gain@5(0.0): 0.6122408779760082 - mean_average_precision(0.0): 0.5741785670255128\n",
      "Epoch 27/30\n",
      "102/102 [==============================] - 18s 177ms/step - loss: 0.0377\n",
      "Validation: normalized_discounted_cumulative_gain@3(0.0): 0.548316713880454 - normalized_discounted_cumulative_gain@5(0.0): 0.6184324574569274 - mean_average_precision(0.0): 0.5790207263749614\n",
      "Epoch 28/30\n",
      "102/102 [==============================] - 19s 190ms/step - loss: 0.0398\n",
      "Validation: normalized_discounted_cumulative_gain@3(0.0): 0.5610179926556402 - normalized_discounted_cumulative_gain@5(0.0): 0.6199336952216251 - mean_average_precision(0.0): 0.5825913559019781\n",
      "Epoch 29/30\n",
      "102/102 [==============================] - 21s 210ms/step - loss: 0.0386\n",
      "Validation: normalized_discounted_cumulative_gain@3(0.0): 0.5609884966405722 - normalized_discounted_cumulative_gain@5(0.0): 0.6181527741398887 - mean_average_precision(0.0): 0.5814799327366887\n",
      "Epoch 30/30\n",
      "102/102 [==============================] - 17s 168ms/step - loss: 0.0336\n",
      "Validation: normalized_discounted_cumulative_gain@3(0.0): 0.556873615275075 - normalized_discounted_cumulative_gain@5(0.0): 0.6105214084603066 - mean_average_precision(0.0): 0.5716011380082103\n"
     ]
    }
   ],
   "source": [
    "history = model.fit_generator(train_generator, epochs=30, callbacks=[evaluate], workers=30, use_multiprocessing=True)"
   ]
  },
  {
   "cell_type": "code",
   "execution_count": null,
   "metadata": {},
   "outputs": [],
   "source": []
  }
 ],
 "metadata": {
  "kernelspec": {
   "display_name": "Python 3",
   "language": "python",
   "name": "python3"
  },
  "language_info": {
   "codemirror_mode": {
    "name": "ipython",
    "version": 3
   },
   "file_extension": ".py",
   "mimetype": "text/x-python",
   "name": "python",
   "nbconvert_exporter": "python",
   "pygments_lexer": "ipython3",
   "version": "3.6.5"
  }
 },
 "nbformat": 4,
 "nbformat_minor": 2
}
