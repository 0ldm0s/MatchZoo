{
 "cells": [
  {
   "cell_type": "code",
   "execution_count": 1,
   "metadata": {},
   "outputs": [
    {
     "name": "stderr",
     "output_type": "stream",
     "text": [
      "Using TensorFlow backend.\n",
      "/data/users/fyx/.local/python3/lib/python3.6/importlib/_bootstrap.py:219: RuntimeWarning: numpy.dtype size changed, may indicate binary incompatibility. Expected 96, got 88\n",
      "  return f(*args, **kwds)\n",
      "/data/users/fyx/.local/python3/lib/python3.6/importlib/_bootstrap.py:219: RuntimeWarning: numpy.dtype size changed, may indicate binary incompatibility. Expected 96, got 88\n",
      "  return f(*args, **kwds)\n"
     ]
    }
   ],
   "source": [
    "import keras\n",
    "import pandas as pd\n",
    "import numpy as np\n",
    "import matchzoo as mz"
   ]
  },
  {
   "cell_type": "code",
   "execution_count": 2,
   "metadata": {},
   "outputs": [],
   "source": [
    "train_pack = mz.datasets.wiki_qa.load_data('train', task='ranking')\n",
    "valid_pack = mz.datasets.wiki_qa.load_data('dev', task='ranking', filter=True)\n",
    "predict_pack = mz.datasets.wiki_qa.load_data('test', task='ranking', filter=True)"
   ]
  },
  {
   "cell_type": "code",
   "execution_count": 3,
   "metadata": {},
   "outputs": [
    {
     "name": "stderr",
     "output_type": "stream",
     "text": [
      "Processing text_left with chain_transform of TokenizeUnit => LowercaseUnit => PuncRemovalUnit: 100%|██████████| 2118/2118 [00:00<00:00, 7988.16it/s]\n",
      "Processing text_right with chain_transform of TokenizeUnit => LowercaseUnit => PuncRemovalUnit: 100%|██████████| 18841/18841 [00:04<00:00, 4542.02it/s]\n",
      "Processing text_right with append: 100%|██████████| 18841/18841 [00:00<00:00, 679071.27it/s]\n",
      "Building FrequencyFilterUnit from a datapack.: 100%|██████████| 18841/18841 [00:00<00:00, 118918.10it/s]\n",
      "Processing text_right with transform: 100%|██████████| 18841/18841 [00:00<00:00, 74165.83it/s] \n",
      "Processing text_left with extend: 100%|██████████| 2118/2118 [00:00<00:00, 596410.60it/s]\n",
      "Processing text_right with extend: 100%|██████████| 18841/18841 [00:00<00:00, 539964.48it/s]\n",
      "Building VocabularyUnit from a datapack.: 100%|██████████| 404415/404415 [00:00<00:00, 2560488.98it/s]\n",
      "Processing text_left with chain_transform of TokenizeUnit => LowercaseUnit => PuncRemovalUnit: 100%|██████████| 2118/2118 [00:00<00:00, 8637.95it/s]\n",
      "Processing text_right with chain_transform of TokenizeUnit => LowercaseUnit => PuncRemovalUnit: 100%|██████████| 18841/18841 [00:04<00:00, 4630.09it/s]\n",
      "Processing text_right with transform: 100%|██████████| 18841/18841 [00:00<00:00, 110935.94it/s]\n",
      "Processing text_left with transform: 100%|██████████| 2118/2118 [00:00<00:00, 137083.14it/s]\n",
      "Processing text_right with transform: 100%|██████████| 18841/18841 [00:00<00:00, 113150.67it/s]\n",
      "Processing text_left with transform: 100%|██████████| 2118/2118 [00:00<00:00, 121802.39it/s]\n",
      "Processing text_right with transform: 100%|██████████| 18841/18841 [00:00<00:00, 84807.57it/s]\n",
      "Processing length_left with len: 100%|██████████| 2118/2118 [00:00<00:00, 564499.96it/s]\n",
      "Processing length_right with len: 100%|██████████| 18841/18841 [00:00<00:00, 581231.98it/s]\n"
     ]
    }
   ],
   "source": [
    "preprocessor = mz.preprocessors.BasicPreprocessor(fixed_length_left=10, fixed_length_right=40, remove_stop_words=True)\n",
    "train_pack_processed = preprocessor.fit_transform(train_pack)"
   ]
  },
  {
   "cell_type": "code",
   "execution_count": 4,
   "metadata": {
    "scrolled": false
   },
   "outputs": [
    {
     "name": "stderr",
     "output_type": "stream",
     "text": [
      "Processing text_left with chain_transform of TokenizeUnit => LowercaseUnit => PuncRemovalUnit: 100%|██████████| 122/122 [00:00<00:00, 6938.75it/s]\n",
      "Processing text_right with chain_transform of TokenizeUnit => LowercaseUnit => PuncRemovalUnit: 100%|██████████| 1115/1115 [00:00<00:00, 4627.41it/s]\n",
      "Processing text_right with transform: 100%|██████████| 1115/1115 [00:00<00:00, 100547.15it/s]\n",
      "Processing text_left with transform: 100%|██████████| 122/122 [00:00<00:00, 90327.46it/s]\n",
      "Processing text_right with transform: 100%|██████████| 1115/1115 [00:00<00:00, 109909.49it/s]\n",
      "Processing text_left with transform: 100%|██████████| 122/122 [00:00<00:00, 68972.25it/s]\n",
      "Processing text_right with transform: 100%|██████████| 1115/1115 [00:00<00:00, 88588.00it/s]\n",
      "Processing length_left with len: 100%|██████████| 122/122 [00:00<00:00, 136856.13it/s]\n",
      "Processing length_right with len: 100%|██████████| 1115/1115 [00:00<00:00, 511892.40it/s]\n",
      "Processing text_left with chain_transform of TokenizeUnit => LowercaseUnit => PuncRemovalUnit: 100%|██████████| 237/237 [00:00<00:00, 8555.24it/s]\n",
      "Processing text_right with chain_transform of TokenizeUnit => LowercaseUnit => PuncRemovalUnit: 100%|██████████| 2300/2300 [00:00<00:00, 4437.84it/s]\n",
      "Processing text_right with transform: 100%|██████████| 2300/2300 [00:00<00:00, 94560.76it/s]\n",
      "Processing text_left with transform: 100%|██████████| 237/237 [00:00<00:00, 117708.71it/s]\n",
      "Processing text_right with transform: 100%|██████████| 2300/2300 [00:00<00:00, 18332.72it/s]\n",
      "Processing text_left with transform: 100%|██████████| 237/237 [00:00<00:00, 86117.13it/s]\n",
      "Processing text_right with transform: 100%|██████████| 2300/2300 [00:00<00:00, 92764.00it/s]\n",
      "Processing length_left with len: 100%|██████████| 237/237 [00:00<00:00, 242096.94it/s]\n",
      "Processing length_right with len: 100%|██████████| 2300/2300 [00:00<00:00, 586259.45it/s]\n"
     ]
    }
   ],
   "source": [
    "valid_pack_processed = preprocessor.transform(valid_pack)\n",
    "predict_pack_processed = preprocessor.transform(predict_pack)"
   ]
  },
  {
   "cell_type": "code",
   "execution_count": 5,
   "metadata": {},
   "outputs": [],
   "source": [
    "ranking_task = mz.tasks.Ranking(loss=mz.losses.RankHingeLoss())\n",
    "ranking_task.metrics = [\n",
    "    mz.metrics.NormalizedDiscountedCumulativeGain(k=3),\n",
    "    mz.metrics.NormalizedDiscountedCumulativeGain(k=5),\n",
    "    mz.metrics.MeanAveragePrecision()\n",
    "]"
   ]
  },
  {
   "cell_type": "code",
   "execution_count": 6,
   "metadata": {
    "scrolled": false
   },
   "outputs": [
    {
     "name": "stdout",
     "output_type": "stream",
     "text": [
      "Parameter \"name\" set to KNRM.\n"
     ]
    }
   ],
   "source": [
    "model = mz.models.KNRM()\n",
    "model.params['input_shapes'] = preprocessor.context['input_shapes']\n",
    "model.params['task'] = ranking_task\n",
    "model.params['embedding_input_dim'] = preprocessor.context['vocab_size'] + 1\n",
    "model.params['embedding_output_dim'] = 300\n",
    "model.params['embedding_trainable'] = True\n",
    "model.params['kernel_num'] = 21\n",
    "model.params['sigma'] = 0.1\n",
    "model.params['exact_sigma'] = 0.001\n",
    "model.params['optimizer'] = 'adadelta'\n",
    "model.guess_and_fill_missing_params()\n",
    "model.build()\n",
    "model.compile()\n",
    "#model.backend.summary()"
   ]
  },
  {
   "cell_type": "code",
   "execution_count": 7,
   "metadata": {},
   "outputs": [],
   "source": [
    "glove_embedding = mz.datasets.embeddings.load_glove_embedding(dimension=300)\n",
    "embedding_matrix = glove_embedding.build_matrix(preprocessor.context['vocab_unit'].state['term_index'])"
   ]
  },
  {
   "cell_type": "code",
   "execution_count": 8,
   "metadata": {},
   "outputs": [],
   "source": [
    "model.load_embedding_matrix(embedding_matrix)"
   ]
  },
  {
   "cell_type": "code",
   "execution_count": 9,
   "metadata": {},
   "outputs": [],
   "source": [
    "pred_x, pred_y = predict_pack_processed[:].unpack()\n",
    "evaluate = mz.callbacks.EvaluateAllMetrics(model, x=pred_x, y=pred_y, batch_size=len(pred_x))"
   ]
  },
  {
   "cell_type": "code",
   "execution_count": 10,
   "metadata": {},
   "outputs": [
    {
     "data": {
      "text/plain": [
       "102"
      ]
     },
     "execution_count": 10,
     "metadata": {},
     "output_type": "execute_result"
    }
   ],
   "source": [
    "train_generator = mz.PairDataGenerator(train_pack_processed, num_dup=2, num_neg=1, batch_size=20)\n",
    "len(train_generator)"
   ]
  },
  {
   "cell_type": "code",
   "execution_count": 11,
   "metadata": {
    "scrolled": false
   },
   "outputs": [
    {
     "name": "stdout",
     "output_type": "stream",
     "text": [
      "Epoch 1/30\n",
      "102/102 [==============================] - 11s 104ms/step - loss: 1.0691\n",
      "Validation: loss:nan - normalized_discounted_cumulative_gain@3(0):0.484004 - normalized_discounted_cumulative_gain@5(0):0.566780 - mean_average_precision(0):0.511523\n",
      "Epoch 2/30\n",
      "102/102 [==============================] - 8s 78ms/step - loss: 0.6749\n",
      "Validation: loss:nan - normalized_discounted_cumulative_gain@3(0):0.522858 - normalized_discounted_cumulative_gain@5(0):0.584186 - mean_average_precision(0):0.544649\n",
      "Epoch 3/30\n",
      "102/102 [==============================] - 8s 78ms/step - loss: 0.5225\n",
      "Validation: loss:nan - normalized_discounted_cumulative_gain@3(0):0.534446 - normalized_discounted_cumulative_gain@5(0):0.605877 - mean_average_precision(0):0.559171\n",
      "Epoch 4/30\n",
      "102/102 [==============================] - 8s 77ms/step - loss: 0.4227\n",
      "Validation: loss:nan - normalized_discounted_cumulative_gain@3(0):0.543665 - normalized_discounted_cumulative_gain@5(0):0.616277 - mean_average_precision(0):0.564160\n",
      "Epoch 5/30\n",
      "102/102 [==============================] - 8s 77ms/step - loss: 0.3466\n",
      "Validation: loss:nan - normalized_discounted_cumulative_gain@3(0):0.541585 - normalized_discounted_cumulative_gain@5(0):0.616578 - mean_average_precision(0):0.568622\n",
      "Epoch 6/30\n",
      "102/102 [==============================] - 8s 77ms/step - loss: 0.2830\n",
      "Validation: loss:nan - normalized_discounted_cumulative_gain@3(0):0.531962 - normalized_discounted_cumulative_gain@5(0):0.602450 - mean_average_precision(0):0.556322\n",
      "Epoch 7/30\n",
      "102/102 [==============================] - 8s 78ms/step - loss: 0.2294\n",
      "Validation: loss:nan - normalized_discounted_cumulative_gain@3(0):0.531302 - normalized_discounted_cumulative_gain@5(0):0.611238 - mean_average_precision(0):0.558479\n",
      "Epoch 8/30\n",
      "102/102 [==============================] - 8s 75ms/step - loss: 0.1863\n",
      "Validation: loss:nan - normalized_discounted_cumulative_gain@3(0):0.535898 - normalized_discounted_cumulative_gain@5(0):0.620684 - mean_average_precision(0):0.566145\n",
      "Epoch 9/30\n",
      "102/102 [==============================] - 8s 77ms/step - loss: 0.1506\n",
      "Validation: loss:nan - normalized_discounted_cumulative_gain@3(0):0.535023 - normalized_discounted_cumulative_gain@5(0):0.598601 - mean_average_precision(0):0.554346\n",
      "Epoch 10/30\n",
      "102/102 [==============================] - 8s 75ms/step - loss: 0.1198\n",
      "Validation: loss:nan - normalized_discounted_cumulative_gain@3(0):0.529659 - normalized_discounted_cumulative_gain@5(0):0.600849 - mean_average_precision(0):0.553865\n",
      "Epoch 11/30\n",
      "102/102 [==============================] - 8s 75ms/step - loss: 0.0943\n",
      "Validation: loss:nan - normalized_discounted_cumulative_gain@3(0):0.531187 - normalized_discounted_cumulative_gain@5(0):0.594013 - mean_average_precision(0):0.552423\n",
      "Epoch 12/30\n",
      "102/102 [==============================] - 8s 76ms/step - loss: 0.0730\n",
      "Validation: loss:nan - normalized_discounted_cumulative_gain@3(0):0.534684 - normalized_discounted_cumulative_gain@5(0):0.600566 - mean_average_precision(0):0.555433\n",
      "Epoch 13/30\n",
      "102/102 [==============================] - 8s 76ms/step - loss: 0.0557\n",
      "Validation: loss:nan - normalized_discounted_cumulative_gain@3(0):0.529584 - normalized_discounted_cumulative_gain@5(0):0.602750 - mean_average_precision(0):0.555064\n",
      "Epoch 14/30\n",
      "102/102 [==============================] - 8s 76ms/step - loss: 0.0399\n",
      "Validation: loss:nan - normalized_discounted_cumulative_gain@3(0):0.532025 - normalized_discounted_cumulative_gain@5(0):0.595187 - mean_average_precision(0):0.552949\n",
      "Epoch 15/30\n",
      "102/102 [==============================] - 8s 76ms/step - loss: 0.0310\n",
      "Validation: loss:nan - normalized_discounted_cumulative_gain@3(0):0.520600 - normalized_discounted_cumulative_gain@5(0):0.589703 - mean_average_precision(0):0.545350\n",
      "Epoch 16/30\n",
      "102/102 [==============================] - 8s 77ms/step - loss: 0.0223\n",
      "Validation: loss:nan - normalized_discounted_cumulative_gain@3(0):0.525864 - normalized_discounted_cumulative_gain@5(0):0.584767 - mean_average_precision(0):0.540409\n",
      "Epoch 17/30\n",
      "102/102 [==============================] - 8s 76ms/step - loss: 0.0171\n",
      "Validation: loss:nan - normalized_discounted_cumulative_gain@3(0):0.512962 - normalized_discounted_cumulative_gain@5(0):0.580623 - mean_average_precision(0):0.533639\n",
      "Epoch 18/30\n",
      "102/102 [==============================] - 8s 76ms/step - loss: 0.0131\n",
      "Validation: loss:nan - normalized_discounted_cumulative_gain@3(0):0.526187 - normalized_discounted_cumulative_gain@5(0):0.596409 - mean_average_precision(0):0.550372\n",
      "Epoch 19/30\n",
      "102/102 [==============================] - 8s 75ms/step - loss: 0.0103\n",
      "Validation: loss:nan - normalized_discounted_cumulative_gain@3(0):0.518262 - normalized_discounted_cumulative_gain@5(0):0.576795 - mean_average_precision(0):0.535506\n",
      "Epoch 20/30\n",
      "102/102 [==============================] - 8s 75ms/step - loss: 0.0066\n",
      "Validation: loss:nan - normalized_discounted_cumulative_gain@3(0):0.514495 - normalized_discounted_cumulative_gain@5(0):0.581446 - mean_average_precision(0):0.537460\n",
      "Epoch 21/30\n",
      "102/102 [==============================] - 8s 76ms/step - loss: 0.0051\n",
      "Validation: loss:nan - normalized_discounted_cumulative_gain@3(0):0.510325 - normalized_discounted_cumulative_gain@5(0):0.575573 - mean_average_precision(0):0.529902\n",
      "Epoch 22/30\n",
      "102/102 [==============================] - 8s 74ms/step - loss: 0.0040\n",
      "Validation: loss:nan - normalized_discounted_cumulative_gain@3(0):0.507211 - normalized_discounted_cumulative_gain@5(0):0.579357 - mean_average_precision(0):0.532769\n",
      "Epoch 23/30\n",
      "102/102 [==============================] - 8s 74ms/step - loss: 0.0031\n",
      "Validation: loss:nan - normalized_discounted_cumulative_gain@3(0):0.526726 - normalized_discounted_cumulative_gain@5(0):0.586741 - mean_average_precision(0):0.540990\n",
      "Epoch 24/30\n",
      "102/102 [==============================] - ETA: 0s - loss: 0.002 - 8s 75ms/step - loss: 0.0022\n",
      "Validation: loss:nan - normalized_discounted_cumulative_gain@3(0):0.519370 - normalized_discounted_cumulative_gain@5(0):0.584319 - mean_average_precision(0):0.540749\n",
      "Epoch 25/30\n",
      "102/102 [==============================] - 8s 74ms/step - loss: 0.0017\n",
      "Validation: loss:nan - normalized_discounted_cumulative_gain@3(0):0.522984 - normalized_discounted_cumulative_gain@5(0):0.584781 - mean_average_precision(0):0.539930\n",
      "Epoch 26/30\n",
      "102/102 [==============================] - 7s 73ms/step - loss: 0.0013\n",
      "Validation: loss:nan - normalized_discounted_cumulative_gain@3(0):0.524905 - normalized_discounted_cumulative_gain@5(0):0.588180 - mean_average_precision(0):0.543310\n",
      "Epoch 27/30\n",
      "102/102 [==============================] - 8s 74ms/step - loss: 7.8768e-04\n",
      "Validation: loss:nan - normalized_discounted_cumulative_gain@3(0):0.527118 - normalized_discounted_cumulative_gain@5(0):0.588176 - mean_average_precision(0):0.541723\n",
      "Epoch 28/30\n",
      "102/102 [==============================] - 8s 75ms/step - loss: 4.3213e-04\n",
      "Validation: loss:nan - normalized_discounted_cumulative_gain@3(0):0.528009 - normalized_discounted_cumulative_gain@5(0):0.587876 - mean_average_precision(0):0.545832\n",
      "Epoch 29/30\n",
      "102/102 [==============================] - 8s 75ms/step - loss: 2.4585e-04\n",
      "Validation: loss:nan - normalized_discounted_cumulative_gain@3(0):0.523237 - normalized_discounted_cumulative_gain@5(0):0.583474 - mean_average_precision(0):0.542146\n",
      "Epoch 30/30\n",
      "102/102 [==============================] - 8s 74ms/step - loss: 4.4594e-04\n",
      "Validation: loss:nan - normalized_discounted_cumulative_gain@3(0):0.520172 - normalized_discounted_cumulative_gain@5(0):0.583787 - mean_average_precision(0):0.540591\n"
     ]
    }
   ],
   "source": [
    "history = model.fit_generator(train_generator, epochs=30, callbacks=[evaluate], workers=30, use_multiprocessing=True)"
   ]
  }
 ],
 "metadata": {
  "kernelspec": {
   "display_name": "Python 3",
   "language": "python",
   "name": "python3"
  },
  "language_info": {
   "codemirror_mode": {
    "name": "ipython",
    "version": 3
   },
   "file_extension": ".py",
   "mimetype": "text/x-python",
   "name": "python",
   "nbconvert_exporter": "python",
   "pygments_lexer": "ipython3",
   "version": "3.6.5"
  }
 },
 "nbformat": 4,
 "nbformat_minor": 2
}
