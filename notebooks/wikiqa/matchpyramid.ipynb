{
 "cells": [
  {
   "cell_type": "code",
   "execution_count": 1,
   "metadata": {},
   "outputs": [
    {
     "name": "stderr",
     "output_type": "stream",
     "text": [
      "/data/users/fyx/.local/python3/lib/python3.6/importlib/_bootstrap.py:219: RuntimeWarning: numpy.dtype size changed, may indicate binary incompatibility. Expected 96, got 88\n",
      "  return f(*args, **kwds)\n",
      "/data/users/fyx/.local/python3/lib/python3.6/importlib/_bootstrap.py:219: RuntimeWarning: numpy.dtype size changed, may indicate binary incompatibility. Expected 96, got 88\n",
      "  return f(*args, **kwds)\n",
      "Using TensorFlow backend.\n"
     ]
    }
   ],
   "source": [
    "import numpy as np\n",
    "import matchzoo as mz"
   ]
  },
  {
   "cell_type": "code",
   "execution_count": 2,
   "metadata": {},
   "outputs": [],
   "source": [
    "train_pack = mz.datasets.wiki_qa.load_data('train', task='ranking')\n",
    "valid_pack = mz.datasets.wiki_qa.load_data('dev', task='ranking', filter=True)\n",
    "predict_pack = mz.datasets.wiki_qa.load_data('test', task='ranking', filter=True)"
   ]
  },
  {
   "cell_type": "code",
   "execution_count": 3,
   "metadata": {},
   "outputs": [
    {
     "name": "stderr",
     "output_type": "stream",
     "text": [
      "Processing text_left with chain_transform of TokenizeUnit => LowercaseUnit => PuncRemovalUnit: 100%|██████████| 2118/2118 [00:00<00:00, 8553.79it/s]\n",
      "Processing text_right with chain_transform of TokenizeUnit => LowercaseUnit => PuncRemovalUnit: 100%|██████████| 18841/18841 [00:04<00:00, 4473.49it/s]\n",
      "Processing text_right with append: 100%|██████████| 18841/18841 [00:00<00:00, 639737.72it/s]\n",
      "Building FrequencyFilterUnit from a datapack.: 100%|██████████| 18841/18841 [00:00<00:00, 111900.45it/s]\n",
      "Processing text_right with transform: 100%|██████████| 18841/18841 [00:00<00:00, 52681.53it/s] \n",
      "Processing text_left with extend: 100%|██████████| 2118/2118 [00:00<00:00, 496370.11it/s]\n",
      "Processing text_right with extend: 100%|██████████| 18841/18841 [00:00<00:00, 572814.25it/s]\n",
      "Building VocabularyUnit from a datapack.: 100%|██████████| 404415/404415 [00:00<00:00, 2351175.98it/s]\n",
      "Processing text_left with chain_transform of TokenizeUnit => LowercaseUnit => PuncRemovalUnit: 100%|██████████| 2118/2118 [00:00<00:00, 8228.73it/s]\n",
      "Processing text_right with chain_transform of TokenizeUnit => LowercaseUnit => PuncRemovalUnit: 100%|██████████| 18841/18841 [00:04<00:00, 4345.64it/s]\n",
      "Processing text_right with transform: 100%|██████████| 18841/18841 [00:00<00:00, 105419.78it/s]\n",
      "Processing text_left with transform: 100%|██████████| 2118/2118 [00:00<00:00, 131715.26it/s]\n",
      "Processing text_right with transform: 100%|██████████| 18841/18841 [00:00<00:00, 104368.05it/s]\n",
      "Processing length_left with len: 100%|██████████| 2118/2118 [00:00<00:00, 508968.48it/s]\n",
      "Processing length_right with len: 100%|██████████| 18841/18841 [00:00<00:00, 583834.23it/s]\n",
      "Processing text_left with transform: 100%|██████████| 2118/2118 [00:00<00:00, 104747.56it/s]\n",
      "Processing text_right with transform: 100%|██████████| 18841/18841 [00:00<00:00, 82319.81it/s]\n"
     ]
    }
   ],
   "source": [
    "preprocessor = mz.preprocessors.BasicPreprocessor(fixed_length_left=10, fixed_length_right=40, remove_stop_words=True)\n",
    "train_pack_processed = preprocessor.fit_transform(train_pack)"
   ]
  },
  {
   "cell_type": "code",
   "execution_count": 4,
   "metadata": {
    "scrolled": false
   },
   "outputs": [
    {
     "name": "stderr",
     "output_type": "stream",
     "text": [
      "Processing text_left with chain_transform of TokenizeUnit => LowercaseUnit => PuncRemovalUnit: 100%|██████████| 122/122 [00:00<00:00, 7960.69it/s]\n",
      "Processing text_right with chain_transform of TokenizeUnit => LowercaseUnit => PuncRemovalUnit: 100%|██████████| 1115/1115 [00:00<00:00, 4483.44it/s]\n",
      "Processing text_right with transform: 100%|██████████| 1115/1115 [00:00<00:00, 100093.08it/s]\n",
      "Processing text_left with transform: 100%|██████████| 122/122 [00:00<00:00, 84873.96it/s]\n",
      "Processing text_right with transform: 100%|██████████| 1115/1115 [00:00<00:00, 73818.90it/s]\n",
      "Processing length_left with len: 100%|██████████| 122/122 [00:00<00:00, 117850.09it/s]\n",
      "Processing length_right with len: 100%|██████████| 1115/1115 [00:00<00:00, 453295.43it/s]\n",
      "Processing text_left with transform: 100%|██████████| 122/122 [00:00<00:00, 67489.46it/s]\n",
      "Processing text_right with transform: 100%|██████████| 1115/1115 [00:00<00:00, 83285.53it/s]\n",
      "Processing text_left with chain_transform of TokenizeUnit => LowercaseUnit => PuncRemovalUnit: 100%|██████████| 237/237 [00:00<00:00, 8420.87it/s]\n",
      "Processing text_right with chain_transform of TokenizeUnit => LowercaseUnit => PuncRemovalUnit: 100%|██████████| 2300/2300 [00:00<00:00, 4422.77it/s]\n",
      "Processing text_right with transform: 100%|██████████| 2300/2300 [00:00<00:00, 104921.47it/s]\n",
      "Processing text_left with transform: 100%|██████████| 237/237 [00:00<00:00, 111104.29it/s]\n",
      "Processing text_right with transform: 100%|██████████| 2300/2300 [00:00<00:00, 105819.17it/s]\n",
      "Processing length_left with len: 100%|██████████| 237/237 [00:00<00:00, 228780.22it/s]\n",
      "Processing length_right with len: 100%|██████████| 2300/2300 [00:00<00:00, 517565.28it/s]\n",
      "Processing text_left with transform: 100%|██████████| 237/237 [00:00<00:00, 87620.10it/s]\n",
      "Processing text_right with transform: 100%|██████████| 2300/2300 [00:00<00:00, 14777.30it/s]\n"
     ]
    }
   ],
   "source": [
    "valid_pack_processed = preprocessor.transform(valid_pack)\n",
    "predict_pack_processed = preprocessor.transform(predict_pack)"
   ]
  },
  {
   "cell_type": "code",
   "execution_count": 5,
   "metadata": {},
   "outputs": [],
   "source": [
    "ranking_task = mz.tasks.Ranking(loss=mz.losses.RankHingeLoss())\n",
    "ranking_task.metrics = [\n",
    "    mz.metrics.NormalizedDiscountedCumulativeGain(k=3),\n",
    "    mz.metrics.NormalizedDiscountedCumulativeGain(k=5),\n",
    "    mz.metrics.MeanAveragePrecision()\n",
    "]"
   ]
  },
  {
   "cell_type": "code",
   "execution_count": 6,
   "metadata": {
    "scrolled": false
   },
   "outputs": [
    {
     "name": "stdout",
     "output_type": "stream",
     "text": [
      "Parameter \"name\" set to MatchPyramid.\n",
      "__________________________________________________________________________________________________\n",
      "Layer (type)                    Output Shape         Param #     Connected to                     \n",
      "==================================================================================================\n",
      "text_left (InputLayer)          (None, 10)           0                                            \n",
      "__________________________________________________________________________________________________\n",
      "text_right (InputLayer)         (None, 40)           0                                            \n",
      "__________________________________________________________________________________________________\n",
      "embedding (Embedding)           multiple             5002200     text_left[0][0]                  \n",
      "                                                                 text_right[0][0]                 \n",
      "__________________________________________________________________________________________________\n",
      "matching_layer_1 (MatchingLayer (None, 10, 40, 1)    0           embedding[0][0]                  \n",
      "                                                                 embedding[1][0]                  \n",
      "__________________________________________________________________________________________________\n",
      "conv2d_1 (Conv2D)               (None, 10, 40, 16)   160         matching_layer_1[0][0]           \n",
      "__________________________________________________________________________________________________\n",
      "conv2d_2 (Conv2D)               (None, 10, 40, 32)   4640        conv2d_1[0][0]                   \n",
      "__________________________________________________________________________________________________\n",
      "dpool_index (InputLayer)        (None, 10, 40, 3)    0                                            \n",
      "__________________________________________________________________________________________________\n",
      "dynamic_pooling_layer_1 (Dynami (None, 3, 10, 32)    0           conv2d_2[0][0]                   \n",
      "                                                                 dpool_index[0][0]                \n",
      "__________________________________________________________________________________________________\n",
      "flatten_1 (Flatten)             (None, 960)          0           dynamic_pooling_layer_1[0][0]    \n",
      "__________________________________________________________________________________________________\n",
      "dropout_1 (Dropout)             (None, 960)          0           flatten_1[0][0]                  \n",
      "__________________________________________________________________________________________________\n",
      "dense_1 (Dense)                 (None, 1)            961         dropout_1[0][0]                  \n",
      "==================================================================================================\n",
      "Total params: 5,007,961\n",
      "Trainable params: 5,007,961\n",
      "Non-trainable params: 0\n",
      "__________________________________________________________________________________________________\n"
     ]
    }
   ],
   "source": [
    "model = mz.models.MatchPyramid()\n",
    "model.params['input_shapes'] = preprocessor.context['input_shapes']\n",
    "model.params['task'] = ranking_task\n",
    "model.params['embedding_input_dim'] = preprocessor.context['vocab_size'] + 1\n",
    "model.params['embedding_output_dim'] = 300\n",
    "model.params['embedding_trainable'] = True\n",
    "model.params['num_blocks'] = 2\n",
    "model.params['kernel_count'] = [16, 32]\n",
    "model.params['kernel_size'] = [[3, 3], [3, 3]]\n",
    "model.params['dpool_size'] = [3, 10]\n",
    "model.params['optimizer'] = 'adam'\n",
    "model.params['dropout_rate'] = 0.1\n",
    "model.guess_and_fill_missing_params()\n",
    "model.build()\n",
    "model.compile()\n",
    "model.backend.summary()"
   ]
  },
  {
   "cell_type": "code",
   "execution_count": 7,
   "metadata": {},
   "outputs": [],
   "source": [
    "glove_embedding = mz.datasets.embeddings.load_glove_embedding(dimension=300)\n",
    "embedding_matrix = glove_embedding.build_matrix(preprocessor.context['vocab_unit'].state['term_index'])"
   ]
  },
  {
   "cell_type": "code",
   "execution_count": 8,
   "metadata": {},
   "outputs": [],
   "source": [
    "model.load_embedding_matrix(embedding_matrix)"
   ]
  },
  {
   "cell_type": "code",
   "execution_count": 9,
   "metadata": {},
   "outputs": [
    {
     "data": {
      "text/plain": [
       "102"
      ]
     },
     "execution_count": 9,
     "metadata": {},
     "output_type": "execute_result"
    }
   ],
   "source": [
    "train_generator = mz.DPoolPairDataGenerator(train_pack_processed,\n",
    "                                            fixed_length_left=10,\n",
    "                                            fixed_length_right=40,\n",
    "                                            num_dup=2,\n",
    "                                            num_neg=1,\n",
    "                                            batch_size=20)\n",
    "len(train_generator)"
   ]
  },
  {
   "cell_type": "code",
   "execution_count": 10,
   "metadata": {},
   "outputs": [
    {
     "data": {
      "text/plain": [
       "118"
      ]
     },
     "execution_count": 10,
     "metadata": {},
     "output_type": "execute_result"
    }
   ],
   "source": [
    "predict_generator = mz.DPoolDataGenerator(predict_pack_processed,\n",
    "                                          fixed_length_left=10,\n",
    "                                          fixed_length_right=40,\n",
    "                                          batch_size=20)\n",
    "len(predict_generator)"
   ]
  },
  {
   "cell_type": "code",
   "execution_count": 11,
   "metadata": {},
   "outputs": [],
   "source": [
    "pred_x, pred_y = predict_generator[:]\n",
    "evaluate = mz.callbacks.EvaluateAllMetrics(model, x=pred_x, y=pred_y, batch_size=len(pred_y))"
   ]
  },
  {
   "cell_type": "code",
   "execution_count": 12,
   "metadata": {
    "scrolled": false
   },
   "outputs": [
    {
     "name": "stdout",
     "output_type": "stream",
     "text": [
      "Epoch 1/20\n",
      "102/102 [==============================] - 17s 163ms/step - loss: 0.8367\n",
      "Validation: normalized_discounted_cumulative_gain@3(0): 0.5725806962921784 - normalized_discounted_cumulative_gain@5(0): 0.6373463751985756 - mean_average_precision(0): 0.5913240354716285\n",
      "Epoch 2/20\n",
      "102/102 [==============================] - 13s 123ms/step - loss: 0.4398\n",
      "Validation: normalized_discounted_cumulative_gain@3(0): 0.5802670212604923 - normalized_discounted_cumulative_gain@5(0): 0.6342764730759681 - mean_average_precision(0): 0.5931594002794724\n",
      "Epoch 3/20\n",
      "102/102 [==============================] - 13s 128ms/step - loss: 0.2414ion: normalized_discounted_cumulative_gain@3(0): 0.5802670212604923 - normalized_discounted_cumulative_gain@5(0): 0.6342764730759681 - mean_average_precision(0): 0.593159400279472\n",
      "Validation: normalized_discounted_cumulative_gain@3(0): 0.565445712832334 - normalized_discounted_cumulative_gain@5(0): 0.6341297840297838 - mean_average_precision(0): 0.5834454968712521\n",
      "Epoch 4/20\n",
      "102/102 [==============================] - 13s 127ms/step - loss: 0.1155\n",
      "Validation: normalized_discounted_cumulative_gain@3(0): 0.5741642702150744 - normalized_discounted_cumulative_gain@5(0): 0.6360004614894511 - mean_average_precision(0): 0.5896906527857271\n",
      "Epoch 5/20\n",
      "102/102 [==============================] - 13s 127ms/step - loss: 0.0638\n",
      "Validation: normalized_discounted_cumulative_gain@3(0): 0.5712768118021483 - normalized_discounted_cumulative_gain@5(0): 0.631579192591614 - mean_average_precision(0): 0.5832444588587551\n",
      "Epoch 6/20\n",
      "102/102 [==============================] - 13s 123ms/step - loss: 0.0376\n",
      "Validation: normalized_discounted_cumulative_gain@3(0): 0.5816752712046295 - normalized_discounted_cumulative_gain@5(0): 0.6415600286273455 - mean_average_precision(0): 0.5965910102775381\n",
      "Epoch 7/20\n",
      "102/102 [==============================] - 13s 131ms/step - loss: 0.0198\n",
      "Validation: normalized_discounted_cumulative_gain@3(0): 0.5616093031119486 - normalized_discounted_cumulative_gain@5(0): 0.6244133706493907 - mean_average_precision(0): 0.5757965136129692\n",
      "Epoch 8/20\n",
      "102/102 [==============================] - 13s 130ms/step - loss: 0.0118\n",
      "Validation: normalized_discounted_cumulative_gain@3(0): 0.5631678287079255 - normalized_discounted_cumulative_gain@5(0): 0.6160901323680376 - mean_average_precision(0): 0.5811024447891536\n",
      "Epoch 9/20\n",
      "102/102 [==============================] - 13s 131ms/step - loss: 0.0084\n",
      "Validation: normalized_discounted_cumulative_gain@3(0): 0.5754225694335638 - normalized_discounted_cumulative_gain@5(0): 0.6340449946726945 - mean_average_precision(0): 0.5829149780750674\n",
      "Epoch 10/20\n",
      "102/102 [==============================] - 13s 127ms/step - loss: 0.0077\n",
      "Validation: normalized_discounted_cumulative_gain@3(0): 0.5766274290191978 - normalized_discounted_cumulative_gain@5(0): 0.6301993376545441 - mean_average_precision(0): 0.5830940312159354\n",
      "Epoch 11/20\n",
      "102/102 [==============================] - 13s 123ms/step - loss: 0.0088\n",
      "Validation: normalized_discounted_cumulative_gain@3(0): 0.5820698135663205 - normalized_discounted_cumulative_gain@5(0): 0.6371103581755861 - mean_average_precision(0): 0.5895133033374207\n",
      "Epoch 12/20\n",
      "102/102 [==============================] - 13s 128ms/step - loss: 0.0038\n",
      "Validation: normalized_discounted_cumulative_gain@3(0): 0.5903939416659922 - normalized_discounted_cumulative_gain@5(0): 0.6426314803817155 - mean_average_precision(0): 0.5973607691775972\n",
      "Epoch 13/20\n",
      "102/102 [==============================] - 13s 132ms/step - loss: 0.0049\n",
      "Validation: normalized_discounted_cumulative_gain@3(0): 0.5715714363978813 - normalized_discounted_cumulative_gain@5(0): 0.6301354137324039 - mean_average_precision(0): 0.5884854903676329\n",
      "Epoch 14/20\n",
      "102/102 [==============================] - 12s 120ms/step - loss: 0.0053\n",
      "Validation: normalized_discounted_cumulative_gain@3(0): 0.5841249244812098 - normalized_discounted_cumulative_gain@5(0): 0.6413708296857256 - mean_average_precision(0): 0.592415187333281\n",
      "Epoch 15/20\n",
      "102/102 [==============================] - 14s 135ms/step - loss: 0.0085\n",
      "Validation: normalized_discounted_cumulative_gain@3(0): 0.5839986912161046 - normalized_discounted_cumulative_gain@5(0): 0.6423802528325722 - mean_average_precision(0): 0.5946718341308861\n",
      "Epoch 16/20\n",
      "102/102 [==============================] - 13s 128ms/step - loss: 0.0070\n",
      "Validation: normalized_discounted_cumulative_gain@3(0): 0.5751871981000108 - normalized_discounted_cumulative_gain@5(0): 0.6452976311889239 - mean_average_precision(0): 0.5941712129418513\n",
      "Epoch 17/20\n",
      "102/102 [==============================] - 12s 121ms/step - loss: 0.0072\n",
      "Validation: normalized_discounted_cumulative_gain@3(0): 0.5653411849151309 - normalized_discounted_cumulative_gain@5(0): 0.6339389049648244 - mean_average_precision(0): 0.5832650869648264\n",
      "Epoch 18/20\n",
      "102/102 [==============================] - 13s 128ms/step - loss: 0.0042\n",
      "Validation: normalized_discounted_cumulative_gain@3(0): 0.5994511805117351 - normalized_discounted_cumulative_gain@5(0): 0.6467459633455469 - mean_average_precision(0): 0.6018806046494108\n",
      "Epoch 19/20\n",
      "102/102 [==============================] - 13s 124ms/step - loss: 0.0028\n",
      "Validation: normalized_discounted_cumulative_gain@3(0): 0.5920011836649574 - normalized_discounted_cumulative_gain@5(0): 0.6467476736870933 - mean_average_precision(0): 0.6008257640376085\n",
      "Epoch 20/20\n",
      "102/102 [==============================] - 12s 120ms/step - loss: 0.0033\n",
      "Validation: normalized_discounted_cumulative_gain@3(0): 0.5891515835505542 - normalized_discounted_cumulative_gain@5(0): 0.6478195680260871 - mean_average_precision(0): 0.6033292483660131\n"
     ]
    }
   ],
   "source": [
    "history = model.fit_generator(train_generator, epochs=20, callbacks=[evaluate], workers=30, use_multiprocessing=True)"
   ]
  },
  {
   "cell_type": "code",
   "execution_count": null,
   "metadata": {},
   "outputs": [],
   "source": []
  }
 ],
 "metadata": {
  "kernelspec": {
   "display_name": "Python 3",
   "language": "python",
   "name": "python3"
  },
  "language_info": {
   "codemirror_mode": {
    "name": "ipython",
    "version": 3
   },
   "file_extension": ".py",
   "mimetype": "text/x-python",
   "name": "python",
   "nbconvert_exporter": "python",
   "pygments_lexer": "ipython3",
   "version": "3.6.5"
  }
 },
 "nbformat": 4,
 "nbformat_minor": 2
}
