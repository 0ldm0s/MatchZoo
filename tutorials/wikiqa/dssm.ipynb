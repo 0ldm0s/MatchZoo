{
 "cells": [
  {
   "cell_type": "code",
   "execution_count": 2,
   "metadata": {},
   "outputs": [
    {
     "name": "stderr",
     "output_type": "stream",
     "text": [
      "Using TensorFlow backend.\n",
      "Generating grammar tables from /usr/lib/python3.6/lib2to3/Grammar.txt\n",
      "Generating grammar tables from /usr/lib/python3.6/lib2to3/PatternGrammar.txt\n"
     ]
    }
   ],
   "source": [
    "import keras\n",
    "import numpy as np\n",
    "import pandas as pd\n",
    "import matchzoo as mz"
   ]
  },
  {
   "cell_type": "code",
   "execution_count": 3,
   "metadata": {},
   "outputs": [],
   "source": [
    "train_pack = mz.datasets.wiki_qa.load_data('train', task='ranking')\n",
    "valid_pack = mz.datasets.wiki_qa.load_data('dev', task='ranking', filter=True)\n",
    "predict_pack = mz.datasets.wiki_qa.load_data('test', task='ranking', filter=True)"
   ]
  },
  {
   "cell_type": "code",
   "execution_count": 4,
   "metadata": {},
   "outputs": [
    {
     "name": "stderr",
     "output_type": "stream",
     "text": [
      "Processing text_left with chain_transform of TokenizeUnit => LowercaseUnit => PuncRemovalUnit => StopRemovalUnit => NgramLetterUnit: 100%|██████████| 2118/2118 [00:00<00:00, 8779.92it/s]\n",
      "Processing text_right with chain_transform of TokenizeUnit => LowercaseUnit => PuncRemovalUnit => StopRemovalUnit => NgramLetterUnit: 100%|██████████| 18841/18841 [00:03<00:00, 4717.11it/s]\n",
      "Processing text_left with extend: 100%|██████████| 2118/2118 [00:00<00:00, 745200.56it/s]\n",
      "Processing text_right with extend: 100%|██████████| 18841/18841 [00:00<00:00, 481421.65it/s]\n",
      "Building VocabularyUnit from a datapack.: 100%|██████████| 1614976/1614976 [00:00<00:00, 4010304.05it/s]\n",
      "Processing text_left with chain_transform of TokenizeUnit => LowercaseUnit => PuncRemovalUnit => StopRemovalUnit => NgramLetterUnit => WordHashingUnit: 100%|██████████| 2118/2118 [00:00<00:00, 6388.85it/s]\n",
      "Processing text_right with chain_transform of TokenizeUnit => LowercaseUnit => PuncRemovalUnit => StopRemovalUnit => NgramLetterUnit => WordHashingUnit: 100%|██████████| 18841/18841 [00:05<00:00, 3540.96it/s]\n"
     ]
    }
   ],
   "source": [
    "preprocessor = mz.preprocessors.DSSMPreprocessor()\n",
    "train_pack_processed = preprocessor.fit_transform(train_pack)"
   ]
  },
  {
   "cell_type": "code",
   "execution_count": 5,
   "metadata": {},
   "outputs": [
    {
     "name": "stderr",
     "output_type": "stream",
     "text": [
      "Processing text_left with chain_transform of TokenizeUnit => LowercaseUnit => PuncRemovalUnit => StopRemovalUnit => NgramLetterUnit => WordHashingUnit: 100%|██████████| 122/122 [00:00<00:00, 5893.45it/s]\n",
      "Processing text_right with chain_transform of TokenizeUnit => LowercaseUnit => PuncRemovalUnit => StopRemovalUnit => NgramLetterUnit => WordHashingUnit: 100%|██████████| 1115/1115 [00:00<00:00, 3252.33it/s]\n",
      "Processing text_left with chain_transform of TokenizeUnit => LowercaseUnit => PuncRemovalUnit => StopRemovalUnit => NgramLetterUnit => WordHashingUnit: 100%|██████████| 237/237 [00:00<00:00, 5768.80it/s]\n",
      "Processing text_right with chain_transform of TokenizeUnit => LowercaseUnit => PuncRemovalUnit => StopRemovalUnit => NgramLetterUnit => WordHashingUnit: 100%|██████████| 2300/2300 [00:00<00:00, 2831.56it/s]\n"
     ]
    }
   ],
   "source": [
    "valid_pack_processed = preprocessor.transform(valid_pack)\n",
    "predict_pack_processed = preprocessor.transform(predict_pack)"
   ]
  },
  {
   "cell_type": "code",
   "execution_count": 6,
   "metadata": {},
   "outputs": [],
   "source": [
    "ranking_task = mz.tasks.Ranking(loss=mz.losses.RankCrossEntropyLoss(num_neg=4))\n",
    "ranking_task.metrics = [\n",
    "    mz.metrics.NormalizedDiscountedCumulativeGain(k=3),\n",
    "    mz.metrics.NormalizedDiscountedCumulativeGain(k=5),\n",
    "    mz.metrics.MeanAveragePrecision()\n",
    "]"
   ]
  },
  {
   "cell_type": "code",
   "execution_count": 7,
   "metadata": {},
   "outputs": [
    {
     "name": "stdout",
     "output_type": "stream",
     "text": [
      "Parameter \"name\" set to DSSM.\n",
      "__________________________________________________________________________________________________\n",
      "Layer (type)                    Output Shape         Param #     Connected to                     \n",
      "==================================================================================================\n",
      "text_left (InputLayer)          (None, 9644)         0                                            \n",
      "__________________________________________________________________________________________________\n",
      "text_right (InputLayer)         (None, 9644)         0                                            \n",
      "__________________________________________________________________________________________________\n",
      "dense_1 (Dense)                 (None, 300)          2893500     text_left[0][0]                  \n",
      "__________________________________________________________________________________________________\n",
      "dense_5 (Dense)                 (None, 300)          2893500     text_right[0][0]                 \n",
      "__________________________________________________________________________________________________\n",
      "dense_2 (Dense)                 (None, 300)          90300       dense_1[0][0]                    \n",
      "__________________________________________________________________________________________________\n",
      "dense_6 (Dense)                 (None, 300)          90300       dense_5[0][0]                    \n",
      "__________________________________________________________________________________________________\n",
      "dense_3 (Dense)                 (None, 300)          90300       dense_2[0][0]                    \n",
      "__________________________________________________________________________________________________\n",
      "dense_7 (Dense)                 (None, 300)          90300       dense_6[0][0]                    \n",
      "__________________________________________________________________________________________________\n",
      "dense_4 (Dense)                 (None, 128)          38528       dense_3[0][0]                    \n",
      "__________________________________________________________________________________________________\n",
      "dense_8 (Dense)                 (None, 128)          38528       dense_7[0][0]                    \n",
      "__________________________________________________________________________________________________\n",
      "dot_1 (Dot)                     (None, 1)            0           dense_4[0][0]                    \n",
      "                                                                 dense_8[0][0]                    \n",
      "__________________________________________________________________________________________________\n",
      "dense_9 (Dense)                 (None, 1)            2           dot_1[0][0]                      \n",
      "==================================================================================================\n",
      "Total params: 6,225,258\n",
      "Trainable params: 6,225,258\n",
      "Non-trainable params: 0\n",
      "__________________________________________________________________________________________________\n"
     ]
    }
   ],
   "source": [
    "model = mz.models.DSSM()\n",
    "model.params['input_shapes'] = preprocessor.context['input_shapes']\n",
    "model.params['task'] = ranking_task\n",
    "model.params['mlp_num_layers'] = 3\n",
    "model.params['mlp_num_units'] = 300\n",
    "model.params['mlp_num_fan_out'] = 128\n",
    "model.params['mlp_activation_func'] = 'relu'\n",
    "model.guess_and_fill_missing_params()\n",
    "model.build()\n",
    "model.compile()\n",
    "model.backend.summary()"
   ]
  },
  {
   "cell_type": "code",
   "execution_count": 8,
   "metadata": {},
   "outputs": [],
   "source": [
    "pred_x, pred_y = predict_pack_processed[:].unpack()\n",
    "evaluate = mz.callbacks.EvaluateAllMetrics(model, x=pred_x, y=pred_y, batch_size=len(pred_x))"
   ]
  },
  {
   "cell_type": "code",
   "execution_count": 11,
   "metadata": {},
   "outputs": [
    {
     "data": {
      "text/plain": [
       "16"
      ]
     },
     "execution_count": 11,
     "metadata": {},
     "output_type": "execute_result"
    }
   ],
   "source": [
    "train_generator = mz.PairDataGenerator(train_pack_processed, num_dup=1, num_neg=4, batch_size=64, shuffle=True)\n",
    "len(train_generator)"
   ]
  },
  {
   "cell_type": "code",
   "execution_count": 12,
   "metadata": {
    "scrolled": false
   },
   "outputs": [
    {
     "name": "stdout",
     "output_type": "stream",
     "text": [
      "Epoch 1/20\n",
      "16/16 [==============================] - 3s 167ms/step - loss: 0.9046\n",
      "Validation: normalized_discounted_cumulative_gain@3(0): 0.4766756532729437 - normalized_discounted_cumulative_gain@5(0): 0.5443368936629973 - mean_average_precision(0): 0.4972338155737947\n",
      "Epoch 2/20\n",
      "16/16 [==============================] - 2s 149ms/step - loss: 0.8322\n",
      "Validation: normalized_discounted_cumulative_gain@3(0): 0.5075174785486662 - normalized_discounted_cumulative_gain@5(0): 0.5746789352776713 - mean_average_precision(0): 0.5251236603293564\n",
      "Epoch 3/20\n",
      "16/16 [==============================] - 2s 149ms/step - loss: 0.8010\n",
      "Validation: normalized_discounted_cumulative_gain@3(0): 0.49573125676219565 - normalized_discounted_cumulative_gain@5(0): 0.5664837338461479 - mean_average_precision(0): 0.5108378267980199\n",
      "Epoch 4/20\n",
      "16/16 [==============================] - 2s 156ms/step - loss: 0.7789\n",
      "Validation: normalized_discounted_cumulative_gain@3(0): 0.507546861485112 - normalized_discounted_cumulative_gain@5(0): 0.583476394456613 - mean_average_precision(0): 0.5307886967697094\n",
      "Epoch 5/20\n",
      "16/16 [==============================] - 3s 178ms/step - loss: 0.7662\n",
      "Validation: normalized_discounted_cumulative_gain@3(0): 0.5207031042874494 - normalized_discounted_cumulative_gain@5(0): 0.5964503372047996 - mean_average_precision(0): 0.5391206902074658\n",
      "Epoch 6/20\n",
      "16/16 [==============================] - 3s 209ms/step - loss: 0.7556\n",
      "Validation: normalized_discounted_cumulative_gain@3(0): 0.5293566935476335 - normalized_discounted_cumulative_gain@5(0): 0.6005644389067792 - mean_average_precision(0): 0.5387035754915501\n",
      "Epoch 7/20\n",
      "16/16 [==============================] - 3s 196ms/step - loss: 0.7417\n",
      "Validation: normalized_discounted_cumulative_gain@3(0): 0.5496388125859476 - normalized_discounted_cumulative_gain@5(0): 0.6078900902466066 - mean_average_precision(0): 0.5508231893516703\n",
      "Epoch 8/20\n",
      "16/16 [==============================] - 3s 184ms/step - loss: 0.7280\n",
      "Validation: normalized_discounted_cumulative_gain@3(0): 0.5466527035792913 - normalized_discounted_cumulative_gain@5(0): 0.6156972073452072 - mean_average_precision(0): 0.5569105853124839\n",
      "Epoch 9/20\n",
      "16/16 [==============================] - 3s 184ms/step - loss: 0.7151\n",
      "Validation: normalized_discounted_cumulative_gain@3(0): 0.5243371789739897 - normalized_discounted_cumulative_gain@5(0): 0.5946722780477697 - mean_average_precision(0): 0.5389426296863005\n",
      "Epoch 10/20\n",
      "16/16 [==============================] - 3s 195ms/step - loss: 0.7056\n",
      "Validation: normalized_discounted_cumulative_gain@3(0): 0.5438963004302849 - normalized_discounted_cumulative_gain@5(0): 0.616563863036959 - mean_average_precision(0): 0.5613824737825404\n",
      "Epoch 11/20\n",
      "16/16 [==============================] - 3s 165ms/step - loss: 0.6960\n",
      "Validation: normalized_discounted_cumulative_gain@3(0): 0.5515689574079595 - normalized_discounted_cumulative_gain@5(0): 0.6174857961849644 - mean_average_precision(0): 0.566234735142963\n",
      "Epoch 12/20\n",
      "16/16 [==============================] - 3s 160ms/step - loss: 0.6854\n",
      "Validation: normalized_discounted_cumulative_gain@3(0): 0.5565511359148951 - normalized_discounted_cumulative_gain@5(0): 0.6185187512801313 - mean_average_precision(0): 0.5583797597829909\n",
      "Epoch 13/20\n",
      "16/16 [==============================] - 2s 146ms/step - loss: 0.6766\n",
      "Validation: normalized_discounted_cumulative_gain@3(0): 0.5504857209361855 - normalized_discounted_cumulative_gain@5(0): 0.6195786302543702 - mean_average_precision(0): 0.5559813106490321\n",
      "Epoch 14/20\n",
      "16/16 [==============================] - 3s 194ms/step - loss: 0.6682\n",
      "Validation: normalized_discounted_cumulative_gain@3(0): 0.5247041386643061 - normalized_discounted_cumulative_gain@5(0): 0.6026517377288148 - mean_average_precision(0): 0.5379397508936149\n",
      "Epoch 15/20\n",
      "16/16 [==============================] - 2s 156ms/step - loss: 0.6610\n",
      "Validation: normalized_discounted_cumulative_gain@3(0): 0.5343332065786659 - normalized_discounted_cumulative_gain@5(0): 0.6112977236131668 - mean_average_precision(0): 0.5511406732717525\n",
      "Epoch 16/20\n",
      "16/16 [==============================] - 2s 155ms/step - loss: 0.6535\n",
      "Validation: normalized_discounted_cumulative_gain@3(0): 0.5586802234072614 - normalized_discounted_cumulative_gain@5(0): 0.6224043764792417 - mean_average_precision(0): 0.5659189095689763\n",
      "Epoch 17/20\n",
      "16/16 [==============================] - 3s 160ms/step - loss: 0.6465\n",
      "Validation: normalized_discounted_cumulative_gain@3(0): 0.5411987762327927 - normalized_discounted_cumulative_gain@5(0): 0.6168946766068095 - mean_average_precision(0): 0.5559805005799342\n",
      "Epoch 18/20\n",
      "16/16 [==============================] - 2s 148ms/step - loss: 0.6406\n",
      "Validation: normalized_discounted_cumulative_gain@3(0): 0.5717214508176778 - normalized_discounted_cumulative_gain@5(0): 0.6285659942567798 - mean_average_precision(0): 0.569242463467147\n",
      "Epoch 19/20\n",
      "16/16 [==============================] - 2s 151ms/step - loss: 0.6328\n",
      "Validation: normalized_discounted_cumulative_gain@3(0): 0.577478947520681 - normalized_discounted_cumulative_gain@5(0): 0.6325855686455313 - mean_average_precision(0): 0.5747171926760534\n",
      "Epoch 20/20\n",
      "16/16 [==============================] - 2s 155ms/step - loss: 0.6261\n",
      "Validation: normalized_discounted_cumulative_gain@3(0): 0.5427117165572289 - normalized_discounted_cumulative_gain@5(0): 0.6125281064694661 - mean_average_precision(0): 0.5522416351322081\n"
     ]
    }
   ],
   "source": [
    "history = model.fit_generator(train_generator, epochs=20, callbacks=[evaluate], workers=5, use_multiprocessing=False)"
   ]
  },
  {
   "cell_type": "code",
   "execution_count": null,
   "metadata": {},
   "outputs": [],
   "source": []
  }
 ],
 "metadata": {
  "kernelspec": {
   "display_name": "Python 3",
   "language": "python",
   "name": "python3"
  },
  "language_info": {
   "codemirror_mode": {
    "name": "ipython",
    "version": 3
   },
   "file_extension": ".py",
   "mimetype": "text/x-python",
   "name": "python",
   "nbconvert_exporter": "python",
   "pygments_lexer": "ipython3",
   "version": "3.6.7"
  }
 },
 "nbformat": 4,
 "nbformat_minor": 2
}
