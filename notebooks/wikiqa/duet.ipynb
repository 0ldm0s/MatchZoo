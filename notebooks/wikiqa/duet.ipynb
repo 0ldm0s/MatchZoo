{
 "cells": [
  {
   "cell_type": "code",
   "execution_count": 1,
   "metadata": {},
   "outputs": [
    {
     "name": "stderr",
     "output_type": "stream",
     "text": [
      "Using TensorFlow backend.\n",
      "/data/users/fyx/.local/python3/lib/python3.6/importlib/_bootstrap.py:219: RuntimeWarning: numpy.dtype size changed, may indicate binary incompatibility. Expected 96, got 88\n",
      "  return f(*args, **kwds)\n",
      "/data/users/fyx/.local/python3/lib/python3.6/importlib/_bootstrap.py:219: RuntimeWarning: numpy.dtype size changed, may indicate binary incompatibility. Expected 96, got 88\n",
      "  return f(*args, **kwds)\n"
     ]
    }
   ],
   "source": [
    "import keras\n",
    "import pandas as pd\n",
    "import numpy as np\n",
    "import matchzoo as mz"
   ]
  },
  {
   "cell_type": "code",
   "execution_count": 2,
   "metadata": {},
   "outputs": [],
   "source": [
    "train_pack = mz.datasets.wiki_qa.load_data('train', task='ranking')\n",
    "valid_pack = mz.datasets.wiki_qa.load_data('dev', task='ranking', filter=True)\n",
    "predict_pack = mz.datasets.wiki_qa.load_data('test', task='ranking', filter=True)"
   ]
  },
  {
   "cell_type": "code",
   "execution_count": 3,
   "metadata": {},
   "outputs": [
    {
     "name": "stderr",
     "output_type": "stream",
     "text": [
      "Processing text_left with chain_transform of TokenizeUnit => LowercaseUnit => PuncRemovalUnit: 100%|██████████| 2118/2118 [00:00<00:00, 8275.21it/s]\n",
      "Processing text_right with chain_transform of TokenizeUnit => LowercaseUnit => PuncRemovalUnit: 100%|██████████| 18841/18841 [00:04<00:00, 4316.14it/s]\n",
      "Processing text_right with append: 100%|██████████| 18841/18841 [00:00<00:00, 700233.77it/s]\n",
      "Building FrequencyFilterUnit from a datapack.: 100%|██████████| 18841/18841 [00:00<00:00, 117204.30it/s]\n",
      "Processing text_right with transform: 100%|██████████| 18841/18841 [00:00<00:00, 74946.16it/s] \n",
      "Processing text_left with extend: 100%|██████████| 2118/2118 [00:00<00:00, 527807.97it/s]\n",
      "Processing text_right with extend: 100%|██████████| 18841/18841 [00:00<00:00, 633592.96it/s]\n",
      "Building VocabularyUnit from a datapack.: 100%|██████████| 404415/404415 [00:00<00:00, 2496970.43it/s]\n",
      "Processing text_left with chain_transform of TokenizeUnit => LowercaseUnit => PuncRemovalUnit: 100%|██████████| 2118/2118 [00:00<00:00, 7554.98it/s]\n",
      "Processing text_right with chain_transform of TokenizeUnit => LowercaseUnit => PuncRemovalUnit: 100%|██████████| 18841/18841 [00:04<00:00, 4480.49it/s]\n",
      "Processing text_right with transform: 100%|██████████| 18841/18841 [00:00<00:00, 112767.36it/s]\n",
      "Processing text_left with transform: 100%|██████████| 2118/2118 [00:00<00:00, 185867.47it/s]\n",
      "Processing text_right with transform: 100%|██████████| 18841/18841 [00:00<00:00, 115553.39it/s]\n",
      "Processing text_left with transform: 100%|██████████| 2118/2118 [00:00<00:00, 118470.84it/s]\n",
      "Processing text_right with transform: 100%|██████████| 18841/18841 [00:00<00:00, 72757.01it/s]\n",
      "Processing length_left with len: 100%|██████████| 2118/2118 [00:00<00:00, 542009.51it/s]\n",
      "Processing length_right with len: 100%|██████████| 18841/18841 [00:00<00:00, 612743.23it/s]\n"
     ]
    }
   ],
   "source": [
    "preprocessor = mz.preprocessors.BasicPreprocessor(fixed_length_left=10, fixed_length_right=100, remove_stop_words=True)\n",
    "train_pack_processed = preprocessor.fit_transform(train_pack)"
   ]
  },
  {
   "cell_type": "code",
   "execution_count": 4,
   "metadata": {
    "scrolled": false
   },
   "outputs": [
    {
     "name": "stderr",
     "output_type": "stream",
     "text": [
      "Processing text_left with chain_transform of TokenizeUnit => LowercaseUnit => PuncRemovalUnit: 100%|██████████| 122/122 [00:00<00:00, 8358.60it/s]\n",
      "Processing text_right with chain_transform of TokenizeUnit => LowercaseUnit => PuncRemovalUnit: 100%|██████████| 1115/1115 [00:00<00:00, 4594.95it/s]\n",
      "Processing text_right with transform: 100%|██████████| 1115/1115 [00:00<00:00, 97320.70it/s]\n",
      "Processing text_left with transform: 100%|██████████| 122/122 [00:00<00:00, 99014.14it/s]\n",
      "Processing text_right with transform: 100%|██████████| 1115/1115 [00:00<00:00, 117619.00it/s]\n",
      "Processing text_left with transform: 100%|██████████| 122/122 [00:00<00:00, 70443.98it/s]\n",
      "Processing text_right with transform: 100%|██████████| 1115/1115 [00:00<00:00, 85474.45it/s]\n",
      "Processing length_left with len: 100%|██████████| 122/122 [00:00<00:00, 122593.46it/s]\n",
      "Processing length_right with len: 100%|██████████| 1115/1115 [00:00<00:00, 465848.09it/s]\n",
      "Processing text_left with chain_transform of TokenizeUnit => LowercaseUnit => PuncRemovalUnit: 100%|██████████| 237/237 [00:00<00:00, 8200.52it/s]\n",
      "Processing text_right with chain_transform of TokenizeUnit => LowercaseUnit => PuncRemovalUnit: 100%|██████████| 2300/2300 [00:00<00:00, 4296.99it/s]\n",
      "Processing text_right with transform: 100%|██████████| 2300/2300 [00:00<00:00, 98720.81it/s]\n",
      "Processing text_left with transform: 100%|██████████| 237/237 [00:00<00:00, 22783.64it/s]\n",
      "Processing text_right with transform: 100%|██████████| 2300/2300 [00:00<00:00, 16231.14it/s]\n",
      "Processing text_left with transform: 100%|██████████| 237/237 [00:00<00:00, 88226.68it/s]\n",
      "Processing text_right with transform: 100%|██████████| 2300/2300 [00:00<00:00, 81021.44it/s]\n",
      "Processing length_left with len: 100%|██████████| 237/237 [00:00<00:00, 211590.05it/s]\n",
      "Processing length_right with len: 100%|██████████| 2300/2300 [00:00<00:00, 482200.30it/s]\n"
     ]
    }
   ],
   "source": [
    "valid_pack_processed = preprocessor.transform(valid_pack)\n",
    "predict_pack_processed = preprocessor.transform(predict_pack)"
   ]
  },
  {
   "cell_type": "code",
   "execution_count": 5,
   "metadata": {},
   "outputs": [],
   "source": [
    "ranking_task = mz.tasks.Ranking(loss=mz.losses.RankHingeLoss())\n",
    "ranking_task.metrics = [\n",
    "    mz.metrics.NormalizedDiscountedCumulativeGain(k=3),\n",
    "    mz.metrics.NormalizedDiscountedCumulativeGain(k=5),\n",
    "    mz.metrics.MeanAveragePrecision()\n",
    "]"
   ]
  },
  {
   "cell_type": "code",
   "execution_count": 6,
   "metadata": {
    "scrolled": false
   },
   "outputs": [
    {
     "name": "stdout",
     "output_type": "stream",
     "text": [
      "Parameter \"name\" set to DUET.\n",
      "Parameter \"embedding_trainable\" set to True.\n",
      "__________________________________________________________________________________________________\n",
      "Layer (type)                    Output Shape         Param #     Connected to                     \n",
      "==================================================================================================\n",
      "text_left (InputLayer)          (None, 10)           0                                            \n",
      "__________________________________________________________________________________________________\n",
      "text_right (InputLayer)         (None, 100)          0                                            \n",
      "__________________________________________________________________________________________________\n",
      "embedding (Embedding)           multiple             5002200     text_left[0][0]                  \n",
      "                                                                 text_right[0][0]                 \n",
      "__________________________________________________________________________________________________\n",
      "conv1d_2 (Conv1D)               (None, 10, 32)       28832       embedding[0][0]                  \n",
      "__________________________________________________________________________________________________\n",
      "dropout_3 (Dropout)             (None, 10, 32)       0           conv1d_2[0][0]                   \n",
      "__________________________________________________________________________________________________\n",
      "conv1d_3 (Conv1D)               (None, 100, 32)      28832       embedding[1][0]                  \n",
      "__________________________________________________________________________________________________\n",
      "max_pooling1d_1 (MaxPooling1D)  (None, 1, 32)        0           dropout_3[0][0]                  \n",
      "__________________________________________________________________________________________________\n",
      "dropout_4 (Dropout)             (None, 100, 32)      0           conv1d_3[0][0]                   \n",
      "__________________________________________________________________________________________________\n",
      "reshape_2 (Reshape)             (None, 32)           0           max_pooling1d_1[0][0]            \n",
      "__________________________________________________________________________________________________\n",
      "max_pooling1d_2 (MaxPooling1D)  (None, 25, 32)       0           dropout_4[0][0]                  \n",
      "__________________________________________________________________________________________________\n",
      "lambda_1 (Lambda)               (None, 10, 100)      0           text_left[0][0]                  \n",
      "                                                                 text_right[0][0]                 \n",
      "__________________________________________________________________________________________________\n",
      "dense_3 (Dense)                 (None, 32)           1056        reshape_2[0][0]                  \n",
      "__________________________________________________________________________________________________\n",
      "conv1d_4 (Conv1D)               (None, 25, 32)       1056        max_pooling1d_2[0][0]            \n",
      "__________________________________________________________________________________________________\n",
      "conv1d_1 (Conv1D)               (None, 10, 32)       320032      lambda_1[0][0]                   \n",
      "__________________________________________________________________________________________________\n",
      "lambda_2 (Lambda)               (None, 1, 32)        0           dense_3[0][0]                    \n",
      "__________________________________________________________________________________________________\n",
      "dropout_5 (Dropout)             (None, 25, 32)       0           conv1d_4[0][0]                   \n",
      "__________________________________________________________________________________________________\n",
      "dropout_1 (Dropout)             (None, 10, 32)       0           conv1d_1[0][0]                   \n",
      "__________________________________________________________________________________________________\n",
      "lambda_3 (Lambda)               (None, 25, 32)       0           lambda_2[0][0]                   \n",
      "                                                                 dropout_5[0][0]                  \n",
      "__________________________________________________________________________________________________\n",
      "reshape_1 (Reshape)             (None, 320)          0           dropout_1[0][0]                  \n",
      "__________________________________________________________________________________________________\n",
      "reshape_3 (Reshape)             (None, 800)          0           lambda_3[0][0]                   \n",
      "__________________________________________________________________________________________________\n",
      "dense_1 (Dense)                 (None, 32)           10272       reshape_1[0][0]                  \n",
      "__________________________________________________________________________________________________\n",
      "dense_4 (Dense)                 (None, 32)           25632       reshape_3[0][0]                  \n",
      "__________________________________________________________________________________________________\n",
      "dropout_2 (Dropout)             (None, 32)           0           dense_1[0][0]                    \n",
      "__________________________________________________________________________________________________\n",
      "dropout_6 (Dropout)             (None, 32)           0           dense_4[0][0]                    \n",
      "__________________________________________________________________________________________________\n",
      "dense_2 (Dense)                 (None, 1)            33          dropout_2[0][0]                  \n",
      "__________________________________________________________________________________________________\n",
      "dense_5 (Dense)                 (None, 1)            33          dropout_6[0][0]                  \n",
      "__________________________________________________________________________________________________\n",
      "add_1 (Add)                     (None, 1)            0           dense_2[0][0]                    \n",
      "                                                                 dense_5[0][0]                    \n",
      "__________________________________________________________________________________________________\n",
      "dense_6 (Dense)                 (None, 1)            2           add_1[0][0]                      \n",
      "==================================================================================================\n",
      "Total params: 5,417,980\n",
      "Trainable params: 5,417,980\n",
      "Non-trainable params: 0\n",
      "__________________________________________________________________________________________________\n"
     ]
    }
   ],
   "source": [
    "model = mz.models.DUET()\n",
    "model.params['input_shapes'] = preprocessor.context['input_shapes']\n",
    "model.params['task'] = ranking_task\n",
    "model.params['embedding_input_dim'] = preprocessor.context['vocab_size'] + 1\n",
    "model.params['embedding_output_dim'] = 300\n",
    "model.params['lm_filters'] = 32\n",
    "model.params['lm_hidden_sizes'] = [32]\n",
    "model.params['dm_filters'] = 32\n",
    "model.params['dm_kernel_size'] = 3\n",
    "model.params['dm_d_mpool'] = 4\n",
    "model.params['dm_hidden_sizes'] = [32]\n",
    "model.params['dropout_rate'] = 0.5\n",
    "model.params['optimizer'] = 'adagrad'\n",
    "model.guess_and_fill_missing_params()\n",
    "model.build()\n",
    "model.compile()\n",
    "model.backend.summary()"
   ]
  },
  {
   "cell_type": "code",
   "execution_count": 7,
   "metadata": {},
   "outputs": [],
   "source": [
    "glove_embedding = mz.datasets.embeddings.load_glove_embedding(dimension=300)\n",
    "embedding_matrix = glove_embedding.build_matrix(preprocessor.context['vocab_unit'].state['term_index'])"
   ]
  },
  {
   "cell_type": "code",
   "execution_count": 8,
   "metadata": {},
   "outputs": [],
   "source": [
    "model.load_embedding_matrix(embedding_matrix)"
   ]
  },
  {
   "cell_type": "code",
   "execution_count": 9,
   "metadata": {},
   "outputs": [],
   "source": [
    "pred_x, pred_y = predict_pack_processed[:].unpack()\n",
    "evaluate = mz.callbacks.EvaluateAllMetrics(model, x=pred_x, y=pred_y, batch_size=len(pred_y))"
   ]
  },
  {
   "cell_type": "code",
   "execution_count": 10,
   "metadata": {},
   "outputs": [
    {
     "data": {
      "text/plain": [
       "102"
      ]
     },
     "execution_count": 10,
     "metadata": {},
     "output_type": "execute_result"
    }
   ],
   "source": [
    "train_generator = mz.PairDataGenerator(train_pack_processed, num_dup=2, num_neg=1, batch_size=20)\n",
    "len(train_generator)"
   ]
  },
  {
   "cell_type": "code",
   "execution_count": 11,
   "metadata": {
    "scrolled": false
   },
   "outputs": [
    {
     "name": "stdout",
     "output_type": "stream",
     "text": [
      "Epoch 1/30\n",
      "102/102 [==============================] - 19s 185ms/step - loss: 0.9752\n",
      "Validation: normalized_discounted_cumulative_gain@3(0): 0.5827686702249294 - normalized_discounted_cumulative_gain@5(0): 0.6394453175515047 - mean_average_precision(0): 0.6069600159788222\n",
      "Epoch 2/30\n",
      "102/102 [==============================] - 17s 167ms/step - loss: 0.6752\n",
      "Validation: normalized_discounted_cumulative_gain@3(0): 0.5819185319742965 - normalized_discounted_cumulative_gain@5(0): 0.6438851308532038 - mean_average_precision(0): 0.604466319183836\n",
      "Epoch 3/30\n",
      "102/102 [==============================] - 16s 161ms/step - loss: 0.5799\n",
      "Validation: normalized_discounted_cumulative_gain@3(0): 0.6119646996472247 - normalized_discounted_cumulative_gain@5(0): 0.659191841152394 - mean_average_precision(0): 0.6239842303368579\n",
      "Epoch 4/30\n",
      "102/102 [==============================] - 11s 112ms/step - loss: 0.4825\n",
      "Validation: normalized_discounted_cumulative_gain@3(0): 0.6186417647212412 - normalized_discounted_cumulative_gain@5(0): 0.657209457799374 - mean_average_precision(0): 0.6276918949545531\n",
      "Epoch 5/30\n",
      "102/102 [==============================] - 11s 106ms/step - loss: 0.3841\n",
      "Validation: normalized_discounted_cumulative_gain@3(0): 0.6137438238769838 - normalized_discounted_cumulative_gain@5(0): 0.6497658235618856 - mean_average_precision(0): 0.6200599055187662\n",
      "Epoch 6/30\n",
      "102/102 [==============================] - 13s 131ms/step - loss: 0.3062\n",
      "Validation: normalized_discounted_cumulative_gain@3(0): 0.603567975220926 - normalized_discounted_cumulative_gain@5(0): 0.6470747039389855 - mean_average_precision(0): 0.6105613654636365\n",
      "Epoch 7/30\n",
      "102/102 [==============================] - 13s 130ms/step - loss: 0.2545\n",
      "Validation: normalized_discounted_cumulative_gain@3(0): 0.592835232659118 - normalized_discounted_cumulative_gain@5(0): 0.641289199666082 - mean_average_precision(0): 0.6027645777804005\n",
      "Epoch 8/30\n",
      "102/102 [==============================] - 13s 129ms/step - loss: 0.2184\n",
      "Validation: normalized_discounted_cumulative_gain@3(0): 0.6077977095152483 - normalized_discounted_cumulative_gain@5(0): 0.649377389207191 - mean_average_precision(0): 0.6130407994490273\n",
      "Epoch 9/30\n",
      "102/102 [==============================] - 12s 121ms/step - loss: 0.1717\n",
      "Validation: normalized_discounted_cumulative_gain@3(0): 0.5837702031462089 - normalized_discounted_cumulative_gain@5(0): 0.6416137586292208 - mean_average_precision(0): 0.5996869901905271\n",
      "Epoch 10/30\n",
      "102/102 [==============================] - 13s 125ms/step - loss: 0.1588\n",
      "Validation: normalized_discounted_cumulative_gain@3(0): 0.5837702031462089 - normalized_discounted_cumulative_gain@5(0): 0.6416137586292208 - mean_average_precision(0): 0.5996869901905271\n",
      "Epoch 10/30\n",
      "Validation: normalized_discounted_cumulative_gain@3(0): 0.5840033013673498 - normalized_discounted_cumulative_gain@5(0): 0.637657969500129 - mean_average_precision(0): 0.5955668976603209\n",
      "Epoch 11/30\n",
      "102/102 [==============================] - 14s 139ms/step - loss: 0.1238\n",
      "Validation: normalized_discounted_cumulative_gain@3(0): 0.5795258586152114 - normalized_discounted_cumulative_gain@5(0): 0.6336795387179746 - mean_average_precision(0): 0.5884663935455073\n",
      "Epoch 12/30\n",
      "102/102 [==============================] - 14s 138ms/step - loss: 0.1111\n",
      "Validation: normalized_discounted_cumulative_gain@3(0): 0.5858299242123431 - normalized_discounted_cumulative_gain@5(0): 0.6373199969486121 - mean_average_precision(0): 0.5894152173424326\n",
      "Epoch 13/30\n",
      "102/102 [==============================] - 13s 128ms/step - loss: 0.0829\n",
      "Validation: normalized_discounted_cumulative_gain@3(0): 0.5725839261925735 - normalized_discounted_cumulative_gain@5(0): 0.6376372816060494 - mean_average_precision(0): 0.5880077619999193\n",
      "Epoch 14/30\n",
      "102/102 [==============================] - 13s 128ms/step - loss: 0.0834\n",
      "Validation: normalized_discounted_cumulative_gain@3(0): 0.5782424616853293 - normalized_discounted_cumulative_gain@5(0): 0.6331423333670716 - mean_average_precision(0): 0.5857168010855407\n",
      "Epoch 15/30\n",
      "102/102 [==============================] - 13s 129ms/step - loss: 0.0735\n",
      "Validation: normalized_discounted_cumulative_gain@3(0): 0.5767340821276643 - normalized_discounted_cumulative_gain@5(0): 0.6374971096457898 - mean_average_precision(0): 0.5849000621172753\n",
      "Epoch 16/30\n",
      "102/102 [==============================] - 14s 133ms/step - loss: 0.0643\n",
      "Validation: normalized_discounted_cumulative_gain@3(0): 0.5637974320189247 - normalized_discounted_cumulative_gain@5(0): 0.6288975185231969 - mean_average_precision(0): 0.5742780372946047\n",
      "Epoch 17/30\n",
      "102/102 [==============================] - 12s 120ms/step - loss: 0.0565\n",
      "Validation: normalized_discounted_cumulative_gain@3(0): 0.575643962392233 - normalized_discounted_cumulative_gain@5(0): 0.6361601105631473 - mean_average_precision(0): 0.5837456178249231\n",
      "Epoch 18/30\n",
      "102/102 [==============================] - 13s 132ms/step - loss: 0.0518\n",
      "Validation: normalized_discounted_cumulative_gain@3(0): 0.5737241425818429 - normalized_discounted_cumulative_gain@5(0): 0.6266753789894134 - mean_average_precision(0): 0.5791673279035285\n",
      "Epoch 19/30\n",
      "102/102 [==============================] - 14s 137ms/step - loss: 0.0515\n",
      "Validation: normalized_discounted_cumulative_gain@3(0): 0.5722406982724746 - normalized_discounted_cumulative_gain@5(0): 0.63007834902325 - mean_average_precision(0): 0.5786741305356345\n",
      "Epoch 20/30\n",
      "102/102 [==============================] - 14s 135ms/step - loss: 0.0450\n",
      "Validation: normalized_discounted_cumulative_gain@3(0): 0.5727182750510368 - normalized_discounted_cumulative_gain@5(0): 0.631744864048574 - mean_average_precision(0): 0.5810801518662944\n",
      "Epoch 21/30\n",
      "102/102 [==============================] - 13s 123ms/step - loss: 0.0445\n",
      "Validation: normalized_discounted_cumulative_gain@3(0): 0.5754053117738112 - normalized_discounted_cumulative_gain@5(0): 0.6338028855348383 - mean_average_precision(0): 0.5805508102205551\n",
      "Epoch 22/30\n",
      "102/102 [==============================] - 13s 131ms/step - loss: 0.0455\n",
      "Validation: normalized_discounted_cumulative_gain@3(0): 0.5707232608754157 - normalized_discounted_cumulative_gain@5(0): 0.6267539579158812 - mean_average_precision(0): 0.57722867137406\n",
      "Epoch 23/30\n",
      "102/102 [==============================] - 13s 126ms/step - loss: 0.0372\n",
      "Validation: normalized_discounted_cumulative_gain@3(0): 0.5760861658322542 - normalized_discounted_cumulative_gain@5(0): 0.6314442380023223 - mean_average_precision(0): 0.5808803889500093\n",
      "Epoch 24/30\n",
      "102/102 [==============================] - 14s 134ms/step - loss: 0.0369\n",
      "Validation: normalized_discounted_cumulative_gain@3(0): 0.5644544061537291 - normalized_discounted_cumulative_gain@5(0): 0.6241244989762388 - mean_average_precision(0): 0.5707252533200089\n",
      "Epoch 25/30\n",
      "102/102 [==============================] - 14s 137ms/step - loss: 0.0358\n",
      "Validation: normalized_discounted_cumulative_gain@3(0): 0.565544575273634 - normalized_discounted_cumulative_gain@5(0): 0.6199009755889601 - mean_average_precision(0): 0.5704194848971518\n",
      "Epoch 26/30\n",
      "102/102 [==============================] - 13s 131ms/step - loss: 0.0371\n",
      "Validation: normalized_discounted_cumulative_gain@3(0): 0.5676473472668533 - normalized_discounted_cumulative_gain@5(0): 0.621627478391024 - mean_average_precision(0): 0.5713474510941055\n",
      "Epoch 27/30\n",
      "102/102 [==============================] - 14s 133ms/step - loss: 0.0282\n",
      "Validation: normalized_discounted_cumulative_gain@3(0): 0.5639167326358988 - normalized_discounted_cumulative_gain@5(0): 0.6181893938734855 - mean_average_precision(0): 0.5690327006780892\n",
      "Epoch 28/30\n",
      "102/102 [==============================] - 12s 119ms/step - loss: 0.0233\n",
      "Validation: normalized_discounted_cumulative_gain@3(0): 0.5548868646139611 - normalized_discounted_cumulative_gain@5(0): 0.6139233800779064 - mean_average_precision(0): 0.5608443699008322\n",
      "Epoch 29/30\n",
      "102/102 [==============================] - 12s 122ms/step - loss: 0.0214\n",
      "Validation: normalized_discounted_cumulative_gain@3(0): 0.5639873168498848 - normalized_discounted_cumulative_gain@5(0): 0.6212892088692287 - mean_average_precision(0): 0.569274061400144\n",
      "Epoch 30/30\n",
      "101/102 [============================>.] - ETA: 0s - loss: 0.0246Validation: normalized_discounted_cumulative_gain@3(0): 0.5639873168498848 - normalized_discounted_cumulative_gain@5(0): 0.6212892088692287 - mean_average_precision(0): 0.569274061400144\n",
      "Epoch 30/30\n"
     ]
    },
    {
     "name": "stdout",
     "output_type": "stream",
     "text": [
      "102/102 [==============================] - 13s 127ms/step - loss: 0.0253\n",
      "Validation: normalized_discounted_cumulative_gain@3(0): 0.5541368559768558 - normalized_discounted_cumulative_gain@5(0): 0.6137187438647673 - mean_average_precision(0): 0.5634958968817917\n"
     ]
    }
   ],
   "source": [
    "history = model.fit_generator(train_generator, epochs=30, callbacks=[evaluate], workers=30, use_multiprocessing=True)"
   ]
  },
  {
   "cell_type": "code",
   "execution_count": null,
   "metadata": {},
   "outputs": [],
   "source": []
  }
 ],
 "metadata": {
  "kernelspec": {
   "display_name": "Python 3",
   "language": "python",
   "name": "python3"
  },
  "language_info": {
   "codemirror_mode": {
    "name": "ipython",
    "version": 3
   },
   "file_extension": ".py",
   "mimetype": "text/x-python",
   "name": "python",
   "nbconvert_exporter": "python",
   "pygments_lexer": "ipython3",
   "version": "3.6.5"
  }
 },
 "nbformat": 4,
 "nbformat_minor": 2
}
