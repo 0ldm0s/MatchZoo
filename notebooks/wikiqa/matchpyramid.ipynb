{
 "cells": [
  {
   "cell_type": "code",
   "execution_count": 1,
   "metadata": {},
   "outputs": [
    {
     "name": "stderr",
     "output_type": "stream",
     "text": [
      "Using TensorFlow backend.\n"
     ]
    }
   ],
   "source": [
    "import sys\n",
    "sys.path.insert(0, '../../')\n",
    "import keras\n",
    "import pandas as pd\n",
    "import numpy as np\n",
    "import matchzoo as mz"
   ]
  },
  {
   "cell_type": "code",
   "execution_count": 2,
   "metadata": {},
   "outputs": [],
   "source": [
    "train_pack = mz.datasets.wiki_qa.load_data('train', task='ranking')\n",
    "valid_pack = mz.datasets.wiki_qa.load_data('dev', task='ranking', filter=True)\n",
    "predict_pack = mz.datasets.wiki_qa.load_data('test', task='ranking', filter=True)"
   ]
  },
  {
   "cell_type": "code",
   "execution_count": 3,
   "metadata": {},
   "outputs": [
    {
     "name": "stderr",
     "output_type": "stream",
     "text": [
      "Processing text_left with chain_transform of TokenizeUnit => LowercaseUnit => PuncRemovalUnit: 100%|██████████| 2118/2118 [00:00<00:00, 9070.31it/s]\n",
      "Processing text_right with chain_transform of TokenizeUnit => LowercaseUnit => PuncRemovalUnit: 100%|██████████| 18841/18841 [00:03<00:00, 4932.63it/s]\n",
      "Processing text_right with append: 100%|██████████| 18841/18841 [00:00<00:00, 823699.24it/s]\n",
      "Building FrequencyFilterUnit from a datapack.: 100%|██████████| 18841/18841 [00:00<00:00, 90520.64it/s]\n",
      "Processing text_right with transform: 100%|██████████| 18841/18841 [00:00<00:00, 66992.89it/s]\n",
      "Processing text_left with extend: 100%|██████████| 2118/2118 [00:00<00:00, 670404.94it/s]\n",
      "Processing text_right with extend: 100%|██████████| 18841/18841 [00:00<00:00, 710866.37it/s]\n",
      "Building VocabularyUnit from a datapack.: 100%|██████████| 404432/404432 [00:00<00:00, 2990917.38it/s]\n",
      "Processing text_left with chain_transform of TokenizeUnit => LowercaseUnit => PuncRemovalUnit: 100%|██████████| 2118/2118 [00:00<00:00, 9651.58it/s]\n",
      "Processing text_right with chain_transform of TokenizeUnit => LowercaseUnit => PuncRemovalUnit: 100%|██████████| 18841/18841 [00:03<00:00, 5255.00it/s]\n",
      "Processing text_right with transform: 100%|██████████| 18841/18841 [00:00<00:00, 136661.43it/s]\n",
      "Processing text_left with transform: 100%|██████████| 2118/2118 [00:00<00:00, 233537.58it/s]\n",
      "Processing text_right with transform: 100%|██████████| 18841/18841 [00:00<00:00, 128093.13it/s]\n",
      "Processing text_left with transform: 100%|██████████| 2118/2118 [00:00<00:00, 143581.58it/s]\n",
      "Processing text_right with transform: 100%|██████████| 18841/18841 [00:00<00:00, 109305.14it/s]\n",
      "Processing length_left with len: 100%|██████████| 2118/2118 [00:00<00:00, 644622.01it/s]\n",
      "Processing length_right with len: 100%|██████████| 18841/18841 [00:00<00:00, 788026.58it/s]\n"
     ]
    }
   ],
   "source": [
    "preprocessor = mz.preprocessors.BasicPreprocessor(fixed_length_left=10, fixed_length_right=40, remove_stop_words=True)\n",
    "train_pack_processed = preprocessor.fit_transform(train_pack)"
   ]
  },
  {
   "cell_type": "code",
   "execution_count": 4,
   "metadata": {
    "scrolled": false
   },
   "outputs": [
    {
     "name": "stderr",
     "output_type": "stream",
     "text": [
      "Processing text_left with chain_transform of TokenizeUnit => LowercaseUnit => PuncRemovalUnit: 100%|██████████| 122/122 [00:00<00:00, 9388.91it/s]\n",
      "Processing text_right with chain_transform of TokenizeUnit => LowercaseUnit => PuncRemovalUnit: 100%|██████████| 1115/1115 [00:00<00:00, 5325.21it/s]\n",
      "Processing text_right with transform: 100%|██████████| 1115/1115 [00:00<00:00, 151118.01it/s]\n",
      "Processing text_left with transform: 100%|██████████| 122/122 [00:00<00:00, 145329.48it/s]\n",
      "Processing text_right with transform: 100%|██████████| 1115/1115 [00:00<00:00, 143896.89it/s]\n",
      "Processing text_left with transform: 100%|██████████| 122/122 [00:00<00:00, 90041.37it/s]\n",
      "Processing text_right with transform: 100%|██████████| 1115/1115 [00:00<00:00, 111606.54it/s]\n",
      "Processing length_left with len: 100%|██████████| 122/122 [00:00<00:00, 260012.75it/s]\n",
      "Processing length_right with len: 100%|██████████| 1115/1115 [00:00<00:00, 625471.31it/s]\n",
      "Processing text_left with chain_transform of TokenizeUnit => LowercaseUnit => PuncRemovalUnit: 100%|██████████| 237/237 [00:00<00:00, 9901.49it/s]\n",
      "Processing text_right with chain_transform of TokenizeUnit => LowercaseUnit => PuncRemovalUnit: 100%|██████████| 2300/2300 [00:00<00:00, 4386.71it/s]\n",
      "Processing text_right with transform: 100%|██████████| 2300/2300 [00:00<00:00, 151986.69it/s]\n",
      "Processing text_left with transform: 100%|██████████| 237/237 [00:00<00:00, 166870.92it/s]\n",
      "Processing text_right with transform: 100%|██████████| 2300/2300 [00:00<00:00, 153725.65it/s]\n",
      "Processing text_left with transform: 100%|██████████| 237/237 [00:00<00:00, 128863.11it/s]\n",
      "Processing text_right with transform: 100%|██████████| 2300/2300 [00:00<00:00, 112618.48it/s]\n",
      "Processing length_left with len: 100%|██████████| 237/237 [00:00<00:00, 329046.69it/s]\n",
      "Processing length_right with len: 100%|██████████| 2300/2300 [00:00<00:00, 725712.72it/s]\n"
     ]
    }
   ],
   "source": [
    "valid_pack_processed = preprocessor.transform(valid_pack)\n",
    "predict_pack_processed = preprocessor.transform(predict_pack)"
   ]
  },
  {
   "cell_type": "code",
   "execution_count": 5,
   "metadata": {},
   "outputs": [],
   "source": [
    "ranking_task = mz.tasks.Ranking(loss=mz.losses.RankHingeLoss())\n",
    "ranking_task.metrics = [\n",
    "    mz.metrics.NormalizedDiscountedCumulativeGain(k=3),\n",
    "    mz.metrics.NormalizedDiscountedCumulativeGain(k=5),\n",
    "    mz.metrics.MeanAveragePrecision()\n",
    "]"
   ]
  },
  {
   "cell_type": "code",
   "execution_count": 30,
   "metadata": {
    "scrolled": false
   },
   "outputs": [
    {
     "name": "stdout",
     "output_type": "stream",
     "text": [
      "Parameter \"name\" set to MatchPyramid.\n",
      "__________________________________________________________________________________________________\n",
      "Layer (type)                    Output Shape         Param #     Connected to                     \n",
      "==================================================================================================\n",
      "text_left (InputLayer)          (None, 10)           0                                            \n",
      "__________________________________________________________________________________________________\n",
      "text_right (InputLayer)         (None, 40)           0                                            \n",
      "__________________________________________________________________________________________________\n",
      "embedding (Embedding)           multiple             5002200     text_left[0][0]                  \n",
      "                                                                 text_right[0][0]                 \n",
      "__________________________________________________________________________________________________\n",
      "matching_layer_5 (MatchingLayer (None, 10, 40, 1)    0           embedding[0][0]                  \n",
      "                                                                 embedding[1][0]                  \n",
      "__________________________________________________________________________________________________\n",
      "conv2d_5 (Conv2D)               (None, 10, 40, 32)   320         matching_layer_5[0][0]           \n",
      "__________________________________________________________________________________________________\n",
      "dpool_index (InputLayer)        (None, 10, 40, 3)    0                                            \n",
      "__________________________________________________________________________________________________\n",
      "dynamic_pooling_layer_5 (Dynami (None, 3, 10, 32)    0           conv2d_5[0][0]                   \n",
      "                                                                 dpool_index[0][0]                \n",
      "__________________________________________________________________________________________________\n",
      "flatten_5 (Flatten)             (None, 960)          0           dynamic_pooling_layer_5[0][0]    \n",
      "__________________________________________________________________________________________________\n",
      "dropout_5 (Dropout)             (None, 960)          0           flatten_5[0][0]                  \n",
      "__________________________________________________________________________________________________\n",
      "dense_5 (Dense)                 (None, 1)            961         dropout_5[0][0]                  \n",
      "==================================================================================================\n",
      "Total params: 5,003,481\n",
      "Trainable params: 5,003,481\n",
      "Non-trainable params: 0\n",
      "__________________________________________________________________________________________________\n"
     ]
    }
   ],
   "source": [
    "model = mz.models.MatchPyramid()\n",
    "model.params['input_shapes'] = preprocessor.context['input_shapes']\n",
    "model.params['task'] = ranking_task\n",
    "model.params['embedding_input_dim'] = preprocessor.context['vocab_size'] + 1\n",
    "model.params['embedding_output_dim'] = 300\n",
    "model.params['embedding_trainable'] = True\n",
    "model.params['optimizer'] = 'adam'\n",
    "model.params['dropout_rate'] = 0.1\n",
    "model.guess_and_fill_missing_params()\n",
    "model.build()\n",
    "model.compile()\n",
    "model.backend.summary()"
   ]
  },
  {
   "cell_type": "code",
   "execution_count": 29,
   "metadata": {},
   "outputs": [],
   "source": [
    "glove_embedding = mz.datasets.embeddings.load_glove_embedding(dimension=300)\n",
    "embedding_matrix = glove_embedding.build_matrix(preprocessor.context['vocab_unit'].state['term_index'])"
   ]
  },
  {
   "cell_type": "code",
   "execution_count": 31,
   "metadata": {},
   "outputs": [],
   "source": [
    "model.load_embedding_matrix(embedding_matrix)"
   ]
  },
  {
   "cell_type": "code",
   "execution_count": 32,
   "metadata": {},
   "outputs": [
    {
     "data": {
      "text/plain": [
       "102"
      ]
     },
     "execution_count": 32,
     "metadata": {},
     "output_type": "execute_result"
    }
   ],
   "source": [
    "train_generator = mz.DPoolPairDataGenerator(train_pack_processed,\n",
    "                                            fixed_length_left=10,\n",
    "                                            fixed_length_right=40,\n",
    "                                            num_dup=2,\n",
    "                                            num_neg=1,\n",
    "                                            batch_size=20)\n",
    "len(train_generator)"
   ]
  },
  {
   "cell_type": "code",
   "execution_count": 33,
   "metadata": {},
   "outputs": [
    {
     "data": {
      "text/plain": [
       "118"
      ]
     },
     "execution_count": 33,
     "metadata": {},
     "output_type": "execute_result"
    }
   ],
   "source": [
    "predict_generator = mz.DPoolDataGenerator(predict_pack_processed,\n",
    "                                          fixed_length_left=10,\n",
    "                                          fixed_length_right=40,\n",
    "                                          batch_size=20)\n",
    "len(predict_generator)"
   ]
  },
  {
   "cell_type": "code",
   "execution_count": 34,
   "metadata": {},
   "outputs": [
    {
     "name": "stdout",
     "output_type": "stream",
     "text": [
      "2340\n",
      "7\n",
      "dict_keys(['id_left', 'text_left', 'length_left', 'id_right', 'text_right', 'length_right', 'dpool_index'])\n"
     ]
    }
   ],
   "source": [
    "pred_x, pred_y = predict_generator[:-1]\n",
    "evaluate = mz.callbacks.EvaluateAllMetrics(model, x=pred_x, y=pred_y, batch_size=len(pred_y))\n",
    "print(len(pred_y))\n",
    "print(len(pred_x))\n",
    "print(pred_x.keys())"
   ]
  },
  {
   "cell_type": "code",
   "execution_count": 35,
   "metadata": {
    "scrolled": false
   },
   "outputs": [
    {
     "name": "stdout",
     "output_type": "stream",
     "text": [
      "Epoch 1/20\n",
      "102/102 [==============================] - 6s 64ms/step - loss: 0.9475\n",
      "Validation: loss:1.433169 - normalized_discounted_cumulative_gain@3(0):0.540093 - normalized_discounted_cumulative_gain@5(0):0.611016 - mean_average_precision(0):0.568563\n",
      "Epoch 2/20\n",
      "102/102 [==============================] - 5s 45ms/step - loss: 0.5216\n",
      "Validation: loss:1.501616 - normalized_discounted_cumulative_gain@3(0):0.575958 - normalized_discounted_cumulative_gain@5(0):0.646696 - mean_average_precision(0):0.596191\n",
      "Epoch 3/20\n",
      "102/102 [==============================] - 5s 49ms/step - loss: 0.3151\n",
      "Validation: loss:1.368009 - normalized_discounted_cumulative_gain@3(0):0.573405 - normalized_discounted_cumulative_gain@5(0):0.644039 - mean_average_precision(0):0.594133\n",
      "Epoch 4/20\n",
      "102/102 [==============================] - 5s 45ms/step - loss: 0.1867\n",
      "Validation: loss:1.441315 - normalized_discounted_cumulative_gain@3(0):0.571334 - normalized_discounted_cumulative_gain@5(0):0.647188 - mean_average_precision(0):0.592741\n",
      "Epoch 5/20\n",
      "102/102 [==============================] - 5s 51ms/step - loss: 0.0967\n",
      "Validation: loss:1.420809 - normalized_discounted_cumulative_gain@3(0):0.574554 - normalized_discounted_cumulative_gain@5(0):0.637397 - mean_average_precision(0):0.590113\n",
      "Epoch 6/20\n",
      "102/102 [==============================] - 5s 48ms/step - loss: 0.0675\n",
      "Validation: loss:1.544822 - normalized_discounted_cumulative_gain@3(0):0.579763 - normalized_discounted_cumulative_gain@5(0):0.643519 - mean_average_precision(0):0.595811\n",
      "Epoch 7/20\n",
      "102/102 [==============================] - 5s 45ms/step - loss: 0.0442\n",
      "Validation: loss:1.579200 - normalized_discounted_cumulative_gain@3(0):0.594561 - normalized_discounted_cumulative_gain@5(0):0.653308 - mean_average_precision(0):0.607721\n",
      "Epoch 8/20\n",
      "102/102 [==============================] - 5s 48ms/step - loss: 0.0251\n",
      "Validation: loss:1.644340 - normalized_discounted_cumulative_gain@3(0):0.581061 - normalized_discounted_cumulative_gain@5(0):0.637945 - mean_average_precision(0):0.597283\n",
      "Epoch 9/20\n",
      "102/102 [==============================] - 5s 47ms/step - loss: 0.0186\n",
      "Validation: loss:1.704018 - normalized_discounted_cumulative_gain@3(0):0.585346 - normalized_discounted_cumulative_gain@5(0):0.642315 - mean_average_precision(0):0.598637\n",
      "Epoch 10/20\n",
      "102/102 [==============================] - 5s 47ms/step - loss: 0.0102\n",
      "Validation: loss:1.724512 - normalized_discounted_cumulative_gain@3(0):0.574240 - normalized_discounted_cumulative_gain@5(0):0.640953 - mean_average_precision(0):0.596007\n",
      "Epoch 11/20\n",
      "102/102 [==============================] - 5s 48ms/step - loss: 0.0097\n",
      "Validation: loss:1.833107 - normalized_discounted_cumulative_gain@3(0):0.596103 - normalized_discounted_cumulative_gain@5(0):0.651972 - mean_average_precision(0):0.610350\n",
      "Epoch 12/20\n",
      "102/102 [==============================] - 5s 49ms/step - loss: 0.0046\n",
      "Validation: loss:1.774040 - normalized_discounted_cumulative_gain@3(0):0.578311 - normalized_discounted_cumulative_gain@5(0):0.645639 - mean_average_precision(0):0.601073\n",
      "Epoch 13/20\n",
      "102/102 [==============================] - 5s 48ms/step - loss: 0.0058\n",
      "Validation: loss:1.847807 - normalized_discounted_cumulative_gain@3(0):0.586044 - normalized_discounted_cumulative_gain@5(0):0.654164 - mean_average_precision(0):0.611979\n",
      "Epoch 14/20\n",
      "102/102 [==============================] - 5s 49ms/step - loss: 0.0029\n",
      "Validation: loss:1.863518 - normalized_discounted_cumulative_gain@3(0):0.595879 - normalized_discounted_cumulative_gain@5(0):0.655706 - mean_average_precision(0):0.614530\n",
      "Epoch 15/20\n",
      "102/102 [==============================] - 5s 47ms/step - loss: 0.0052\n",
      "Validation: loss:1.929510 - normalized_discounted_cumulative_gain@3(0):0.596700 - normalized_discounted_cumulative_gain@5(0):0.659839 - mean_average_precision(0):0.618890\n",
      "Epoch 16/20\n",
      "102/102 [==============================] - 5s 48ms/step - loss: 0.0032\n",
      "Validation: loss:1.788521 - normalized_discounted_cumulative_gain@3(0):0.581380 - normalized_discounted_cumulative_gain@5(0):0.648570 - mean_average_precision(0):0.609206\n",
      "Epoch 17/20\n",
      "102/102 [==============================] - 5s 46ms/step - loss: 0.0030\n",
      "Validation: loss:1.854882 - normalized_discounted_cumulative_gain@3(0):0.585261 - normalized_discounted_cumulative_gain@5(0):0.649002 - mean_average_precision(0):0.609371\n",
      "Epoch 18/20\n",
      "102/102 [==============================] - 5s 50ms/step - loss: 0.0035\n",
      "Validation: loss:1.871799 - normalized_discounted_cumulative_gain@3(0):0.585147 - normalized_discounted_cumulative_gain@5(0):0.651903 - mean_average_precision(0):0.605104\n",
      "Epoch 19/20\n",
      "102/102 [==============================] - 5s 47ms/step - loss: 0.0018\n",
      "Validation: loss:1.986106 - normalized_discounted_cumulative_gain@3(0):0.586073 - normalized_discounted_cumulative_gain@5(0):0.651638 - mean_average_precision(0):0.607703\n",
      "Epoch 20/20\n",
      "102/102 [==============================] - 5s 50ms/step - loss: 0.0040\n",
      "Validation: loss:1.988946 - normalized_discounted_cumulative_gain@3(0):0.588295 - normalized_discounted_cumulative_gain@5(0):0.662043 - mean_average_precision(0):0.616134\n"
     ]
    }
   ],
   "source": [
    "history = model.fit_generator(train_generator, epochs=20, callbacks=[evaluate], workers=3, use_multiprocessing=True)"
   ]
  },
  {
   "cell_type": "code",
   "execution_count": null,
   "metadata": {},
   "outputs": [],
   "source": []
  }
 ],
 "metadata": {
  "kernelspec": {
   "display_name": "Python 3",
   "language": "python",
   "name": "python3"
  },
  "language_info": {
   "codemirror_mode": {
    "name": "ipython",
    "version": 3
   },
   "file_extension": ".py",
   "mimetype": "text/x-python",
   "name": "python",
   "nbconvert_exporter": "python",
   "pygments_lexer": "ipython3",
   "version": "3.6.2"
  }
 },
 "nbformat": 4,
 "nbformat_minor": 2
}
