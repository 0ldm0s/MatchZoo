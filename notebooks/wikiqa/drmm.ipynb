{
 "cells": [
  {
   "cell_type": "code",
   "execution_count": 1,
   "metadata": {},
   "outputs": [
    {
     "name": "stderr",
     "output_type": "stream",
     "text": [
      "Using TensorFlow backend.\n",
      "/data/users/fyx/.local/python3/lib/python3.6/importlib/_bootstrap.py:219: RuntimeWarning: numpy.dtype size changed, may indicate binary incompatibility. Expected 96, got 88\n",
      "  return f(*args, **kwds)\n",
      "/data/users/fyx/.local/python3/lib/python3.6/importlib/_bootstrap.py:219: RuntimeWarning: numpy.dtype size changed, may indicate binary incompatibility. Expected 96, got 88\n",
      "  return f(*args, **kwds)\n"
     ]
    }
   ],
   "source": [
    "import keras\n",
    "import pandas as pd\n",
    "import numpy as np\n",
    "import matchzoo as mz"
   ]
  },
  {
   "cell_type": "code",
   "execution_count": 2,
   "metadata": {},
   "outputs": [],
   "source": [
    "train_pack = mz.datasets.wiki_qa.load_data('train', task='ranking')\n",
    "valid_pack = mz.datasets.wiki_qa.load_data('dev', task='ranking', filter=True)\n",
    "predict_pack = mz.datasets.wiki_qa.load_data('test', task='ranking', filter=True)"
   ]
  },
  {
   "cell_type": "code",
   "execution_count": 3,
   "metadata": {},
   "outputs": [
    {
     "name": "stderr",
     "output_type": "stream",
     "text": [
      "Processing text_left with chain_transform of TokenizeUnit => LowercaseUnit => PuncRemovalUnit: 100%|██████████| 2118/2118 [00:00<00:00, 8672.19it/s]\n",
      "Processing text_right with chain_transform of TokenizeUnit => LowercaseUnit => PuncRemovalUnit: 100%|██████████| 18841/18841 [00:03<00:00, 4782.55it/s]\n",
      "Processing text_right with append: 100%|██████████| 18841/18841 [00:00<00:00, 748554.34it/s]\n",
      "Building FrequencyFilterUnit from a datapack.: 100%|██████████| 18841/18841 [00:00<00:00, 127480.25it/s]\n",
      "Processing text_right with transform: 100%|██████████| 18841/18841 [00:00<00:00, 69595.28it/s] \n",
      "Processing text_left with extend: 100%|██████████| 2118/2118 [00:00<00:00, 590778.47it/s]\n",
      "Processing text_right with extend: 100%|██████████| 18841/18841 [00:00<00:00, 642510.05it/s]\n",
      "Building VocabularyUnit from a datapack.: 100%|██████████| 404415/404415 [00:00<00:00, 2563092.82it/s]\n",
      "Processing text_left with chain_transform of TokenizeUnit => LowercaseUnit => PuncRemovalUnit: 100%|██████████| 2118/2118 [00:00<00:00, 8703.46it/s]\n",
      "Processing text_right with chain_transform of TokenizeUnit => LowercaseUnit => PuncRemovalUnit: 100%|██████████| 18841/18841 [00:03<00:00, 4741.54it/s]\n",
      "Processing text_right with transform: 100%|██████████| 18841/18841 [00:00<00:00, 113863.46it/s]\n",
      "Processing text_left with transform: 100%|██████████| 2118/2118 [00:00<00:00, 141549.99it/s]\n",
      "Processing text_right with transform: 100%|██████████| 18841/18841 [00:00<00:00, 106515.31it/s]\n",
      "Processing length_left with len: 100%|██████████| 2118/2118 [00:00<00:00, 524071.49it/s]\n",
      "Processing length_right with len: 100%|██████████| 18841/18841 [00:00<00:00, 645807.51it/s]\n",
      "Processing text_left with transform: 100%|██████████| 2118/2118 [00:00<00:00, 115573.22it/s]\n",
      "Processing text_right with transform: 100%|██████████| 18841/18841 [00:00<00:00, 74731.41it/s]\n"
     ]
    }
   ],
   "source": [
    "preprocessor = mz.preprocessors.BasicPreprocessor(fixed_length_left=10, fixed_length_right=100, remove_stop_words=True)\n",
    "train_pack_processed = preprocessor.fit_transform(train_pack)"
   ]
  },
  {
   "cell_type": "code",
   "execution_count": 4,
   "metadata": {
    "scrolled": false
   },
   "outputs": [
    {
     "name": "stderr",
     "output_type": "stream",
     "text": [
      "Processing text_left with chain_transform of TokenizeUnit => LowercaseUnit => PuncRemovalUnit: 100%|██████████| 122/122 [00:00<00:00, 8688.28it/s]\n",
      "Processing text_right with chain_transform of TokenizeUnit => LowercaseUnit => PuncRemovalUnit: 100%|██████████| 1115/1115 [00:00<00:00, 4788.74it/s]\n",
      "Processing text_right with transform: 100%|██████████| 1115/1115 [00:00<00:00, 101432.55it/s]\n",
      "Processing text_left with transform: 100%|██████████| 122/122 [00:00<00:00, 83421.11it/s]\n",
      "Processing text_right with transform: 100%|██████████| 1115/1115 [00:00<00:00, 105273.03it/s]\n",
      "Processing length_left with len: 100%|██████████| 122/122 [00:00<00:00, 97374.90it/s]\n",
      "Processing length_right with len: 100%|██████████| 1115/1115 [00:00<00:00, 367256.87it/s]\n",
      "Processing text_left with transform: 100%|██████████| 122/122 [00:00<00:00, 82907.50it/s]\n",
      "Processing text_right with transform: 100%|██████████| 1115/1115 [00:00<00:00, 56356.03it/s]\n",
      "Processing text_left with chain_transform of TokenizeUnit => LowercaseUnit => PuncRemovalUnit: 100%|██████████| 237/237 [00:00<00:00, 8704.16it/s]\n",
      "Processing text_right with chain_transform of TokenizeUnit => LowercaseUnit => PuncRemovalUnit: 100%|██████████| 2300/2300 [00:00<00:00, 4605.68it/s]\n",
      "Processing text_right with transform: 100%|██████████| 2300/2300 [00:00<00:00, 107213.98it/s]\n",
      "Processing text_left with transform: 100%|██████████| 237/237 [00:00<00:00, 124614.52it/s]\n",
      "Processing text_right with transform: 100%|██████████| 2300/2300 [00:00<00:00, 118754.45it/s]\n",
      "Processing length_left with len: 100%|██████████| 237/237 [00:00<00:00, 211770.36it/s]\n",
      "Processing length_right with len: 100%|██████████| 2300/2300 [00:00<00:00, 595708.24it/s]\n",
      "Processing text_left with transform: 100%|██████████| 237/237 [00:00<00:00, 97046.77it/s]\n",
      "Processing text_right with transform: 100%|██████████| 2300/2300 [00:00<00:00, 14629.95it/s]\n"
     ]
    }
   ],
   "source": [
    "valid_pack_processed = preprocessor.transform(valid_pack)\n",
    "predict_pack_processed = preprocessor.transform(predict_pack)"
   ]
  },
  {
   "cell_type": "code",
   "execution_count": 5,
   "metadata": {},
   "outputs": [],
   "source": [
    "ranking_task = mz.tasks.Ranking(loss=mz.losses.RankCrossEntropyLoss(num_neg=4))\n",
    "ranking_task.metrics = [\n",
    "    mz.metrics.NormalizedDiscountedCumulativeGain(k=3),\n",
    "    mz.metrics.NormalizedDiscountedCumulativeGain(k=5),\n",
    "    mz.metrics.MeanAveragePrecision()\n",
    "]"
   ]
  },
  {
   "cell_type": "code",
   "execution_count": 6,
   "metadata": {
    "scrolled": false
   },
   "outputs": [
    {
     "name": "stdout",
     "output_type": "stream",
     "text": [
      "Parameter \"name\" set to DRMM.\n",
      "Parameter \"embedding_trainable\" set to True.\n",
      "__________________________________________________________________________________________________\n",
      "Layer (type)                    Output Shape         Param #     Connected to                     \n",
      "==================================================================================================\n",
      "text_left (InputLayer)          (None, 10)           0                                            \n",
      "__________________________________________________________________________________________________\n",
      "embedding (Embedding)           (None, 10, 300)      5002200     text_left[0][0]                  \n",
      "__________________________________________________________________________________________________\n",
      "match_histogram (InputLayer)    (None, 10, 30)       0                                            \n",
      "__________________________________________________________________________________________________\n",
      "dense_1 (Dense)                 (None, 10, 1)        300         embedding[0][0]                  \n",
      "__________________________________________________________________________________________________\n",
      "dense_2 (Dense)                 (None, 10, 10)       310         match_histogram[0][0]            \n",
      "__________________________________________________________________________________________________\n",
      "lambda_1 (Lambda)               (None, 10, 1)        0           dense_1[0][0]                    \n",
      "__________________________________________________________________________________________________\n",
      "dense_3 (Dense)                 (None, 10, 1)        11          dense_2[0][0]                    \n",
      "__________________________________________________________________________________________________\n",
      "dot_1 (Dot)                     (None, 1, 1)         0           lambda_1[0][0]                   \n",
      "                                                                 dense_3[0][0]                    \n",
      "__________________________________________________________________________________________________\n",
      "flatten_1 (Flatten)             (None, 1)            0           dot_1[0][0]                      \n",
      "__________________________________________________________________________________________________\n",
      "dense_4 (Dense)                 (None, 1)            2           flatten_1[0][0]                  \n",
      "==================================================================================================\n",
      "Total params: 5,002,823\n",
      "Trainable params: 5,002,823\n",
      "Non-trainable params: 0\n",
      "__________________________________________________________________________________________________\n"
     ]
    }
   ],
   "source": [
    "hist_bin_size = 30\n",
    "model = mz.models.DRMM()\n",
    "model.params['input_shapes'] = [[10,], [10, hist_bin_size,]]\n",
    "model.params['task'] = ranking_task\n",
    "model.params['embedding_input_dim'] = preprocessor.context['vocab_size'] + 1\n",
    "model.params['embedding_output_dim'] = 300\n",
    "model.params['mlp_num_layers'] = 1\n",
    "model.params['mlp_num_units'] = 10\n",
    "model.params['mlp_num_fan_out'] = 1\n",
    "model.params['mlp_activation_func'] = 'tanh'\n",
    "model.params['optimizer'] = 'adadelta'\n",
    "model.guess_and_fill_missing_params()\n",
    "model.build()\n",
    "model.compile()\n",
    "model.backend.summary()"
   ]
  },
  {
   "cell_type": "code",
   "execution_count": 7,
   "metadata": {},
   "outputs": [],
   "source": [
    "glove_embedding = mz.datasets.embeddings.load_glove_embedding(dimension=300)\n",
    "embedding_matrix = glove_embedding.build_matrix(preprocessor.context['vocab_unit'].state['term_index'])"
   ]
  },
  {
   "cell_type": "code",
   "execution_count": 8,
   "metadata": {},
   "outputs": [],
   "source": [
    "# normalize the word embedding for fast histogram generating.\n",
    "l2_norm = np.sqrt((embedding_matrix*embedding_matrix).sum(axis=1))\n",
    "embedding_matrix = embedding_matrix / l2_norm[:, np.newaxis]"
   ]
  },
  {
   "cell_type": "code",
   "execution_count": 9,
   "metadata": {},
   "outputs": [],
   "source": [
    "model.load_embedding_matrix(embedding_matrix)"
   ]
  },
  {
   "cell_type": "code",
   "execution_count": 10,
   "metadata": {},
   "outputs": [],
   "source": [
    "pred_generator = mz.HistogramDataGenerator(data_pack=predict_pack_processed,\n",
    "                                           embedding_matrix=embedding_matrix,\n",
    "                                           hist_bin_size=hist_bin_size, \n",
    "                                           hist_mode='LCH')\n",
    "pred_x, pred_y = pred_generator[:]\n",
    "evaluate = mz.callbacks.EvaluateAllMetrics(model, x=pred_x, y=pred_y, once_every=1, batch_size=len(pred_y))"
   ]
  },
  {
   "cell_type": "code",
   "execution_count": 11,
   "metadata": {},
   "outputs": [
    {
     "data": {
      "text/plain": [
       "102"
      ]
     },
     "execution_count": 11,
     "metadata": {},
     "output_type": "execute_result"
    }
   ],
   "source": [
    "train_generator = mz.HistogramPairDataGenerator(train_pack_processed, embedding_matrix, hist_bin_size, 'LCH',\n",
    "                                                num_dup=2, num_neg=4, batch_size=20)\n",
    "len(train_generator)"
   ]
  },
  {
   "cell_type": "code",
   "execution_count": 12,
   "metadata": {
    "scrolled": false
   },
   "outputs": [
    {
     "name": "stdout",
     "output_type": "stream",
     "text": [
      "Epoch 1/30\n",
      "102/102 [==============================] - 8s 75ms/step - loss: 1.5849\n",
      "Validation: normalized_discounted_cumulative_gain@3(0): 0.46085027757905045 - normalized_discounted_cumulative_gain@5(0): 0.5360892478728125 - mean_average_precision(0): 0.49095899114018426\n",
      "Epoch 2/30\n",
      "102/102 [==============================] - 7s 67ms/step - loss: 1.4984\n",
      "Validation: normalized_discounted_cumulative_gain@3(0): 0.5740345952020047 - normalized_discounted_cumulative_gain@5(0): 0.6262011011782215 - mean_average_precision(0): 0.5801947873515018\n",
      "Epoch 3/30\n",
      "102/102 [==============================] - 11s 106ms/step - loss: 1.3584\n",
      "Validation: normalized_discounted_cumulative_gain@3(0): 0.5750097489299887 - normalized_discounted_cumulative_gain@5(0): 0.6343800244133054 - mean_average_precision(0): 0.5869700543957561\n",
      "Epoch 4/30\n",
      "102/102 [==============================] - 11s 103ms/step - loss: 1.2679\n",
      "Validation: normalized_discounted_cumulative_gain@3(0): 0.6065906116597288 - normalized_discounted_cumulative_gain@5(0): 0.6552826255118945 - mean_average_precision(0): 0.6129962115669831\n",
      "Epoch 5/30\n",
      "102/102 [==============================] - 10s 96ms/step - loss: 1.1739\n",
      "Validation: normalized_discounted_cumulative_gain@3(0): 0.599811616707113 - normalized_discounted_cumulative_gain@5(0): 0.6588083493784155 - mean_average_precision(0): 0.6130147646805073\n",
      "Epoch 6/30\n",
      "102/102 [==============================] - 10s 96ms/step - loss: 1.0826\n",
      "Validation: normalized_discounted_cumulative_gain@3(0): 0.608414004604327 - normalized_discounted_cumulative_gain@5(0): 0.6636650754981075 - mean_average_precision(0): 0.6152168062830808\n",
      "Epoch 7/30\n",
      "102/102 [==============================] - 11s 108ms/step - loss: 0.9973\n",
      "Validation: normalized_discounted_cumulative_gain@3(0): 0.608414004604327 - normalized_discounted_cumulative_gain@5(0): 0.6636650754981075 - mean_average_precision(0): 0.6152168062830808\n",
      "Epoch 7/30\n",
      "Validation: normalized_discounted_cumulative_gain@3(0): 0.6093642724684878 - normalized_discounted_cumulative_gain@5(0): 0.6670204128488877 - mean_average_precision(0): 0.6213542505106611\n",
      "Epoch 8/30\n",
      "102/102 [==============================] - 11s 108ms/step - loss: 0.9210\n",
      "Validation: normalized_discounted_cumulative_gain@3(0): 0.6093642724684878 - normalized_discounted_cumulative_gain@5(0): 0.6670204128488877 - mean_average_precision(0): 0.6213542505106611\n",
      "Epoch 8/30\n",
      "Validation: normalized_discounted_cumulative_gain@3(0): 0.6040797917772752 - normalized_discounted_cumulative_gain@5(0): 0.6650908928646097 - mean_average_precision(0): 0.6161002036901586\n",
      "Epoch 9/30\n",
      "102/102 [==============================] - 10s 96ms/step - loss: 0.8578\n",
      "Validation: normalized_discounted_cumulative_gain@3(0): 0.6013176737678922 - normalized_discounted_cumulative_gain@5(0): 0.6627742258393825 - mean_average_precision(0): 0.6136178407466325\n",
      "Epoch 10/30\n",
      "102/102 [==============================] - 10s 98ms/step - loss: 0.8137\n",
      "Validation: normalized_discounted_cumulative_gain@3(0): 0.6040650190775043 - normalized_discounted_cumulative_gain@5(0): 0.6643909361999228 - mean_average_precision(0): 0.6147719894415724\n",
      "Epoch 11/30\n",
      "102/102 [==============================] - 10s 102ms/step - loss: 0.7760\n",
      "Validation: normalized_discounted_cumulative_gain@3(0): 0.6070601859235548 - normalized_discounted_cumulative_gain@5(0): 0.6609705165378748 - mean_average_precision(0): 0.6169455531024779\n",
      "Epoch 12/30\n",
      "102/102 [==============================] - 11s 107ms/step - loss: 0.7462\n",
      "Validation: normalized_discounted_cumulative_gain@3(0): 0.6070601859235548 - normalized_discounted_cumulative_gain@5(0): 0.6609705165378748 - mean_average_precision(0): 0.6169455531024779\n",
      "Epoch 12/30\n",
      "Validation: normalized_discounted_cumulative_gain@3(0): 0.5942371215714127 - normalized_discounted_cumulative_gain@5(0): 0.6561295534194074 - mean_average_precision(0): 0.6071665311399116\n",
      "Epoch 13/30\n",
      "101/102 [============================>.] - ETA: 0s - loss: 0.7239\n",
      "Epoch 13/30\n",
      "102/102 [==============================] - 10s 101ms/step - loss: 0.7236\n",
      "Validation: normalized_discounted_cumulative_gain@3(0): 0.5948043404887847 - normalized_discounted_cumulative_gain@5(0): 0.6563638013785195 - mean_average_precision(0): 0.6086440775748054\n",
      "Epoch 14/30\n",
      "102/102 [==============================] - 9s 93ms/step - loss: 0.7057\n",
      "Validation: normalized_discounted_cumulative_gain@3(0): 0.599212416814691 - normalized_discounted_cumulative_gain@5(0): 0.6575338998199153 - mean_average_precision(0): 0.6104693327228452\n",
      "Epoch 15/30\n",
      "102/102 [==============================] - 10s 101ms/step - loss: 0.6907\n",
      "Validation: normalized_discounted_cumulative_gain@3(0): 0.6002467250359074 - normalized_discounted_cumulative_gain@5(0): 0.652118167135901 - mean_average_precision(0): 0.6066545252501823\n",
      "Epoch 16/30\n",
      "102/102 [==============================] - 11s 111ms/step - loss: 0.6786\n",
      "Validation: normalized_discounted_cumulative_gain@3(0): 0.6039842723149925 - normalized_discounted_cumulative_gain@5(0): 0.6560685705654699 - mean_average_precision(0): 0.6134705833933309\n",
      "Epoch 17/30\n",
      "102/102 [==============================] - 10s 99ms/step - loss: 0.6634\n",
      "Validation: normalized_discounted_cumulative_gain@3(0): 0.6039842723149925 - normalized_discounted_cumulative_gain@5(0): 0.6560685705654699 - mean_average_precision(0): 0.6134705833933309\n",
      "Epoch 17/30\n",
      "Validation: normalized_discounted_cumulative_gain@3(0): 0.6015666000134622 - normalized_discounted_cumulative_gain@5(0): 0.6541433060601874 - mean_average_precision(0): 0.6103482114624835\n",
      "Epoch 18/30\n",
      "102/102 [==============================] - 10s 94ms/step - loss: 0.6568\n",
      "Validation: normalized_discounted_cumulative_gain@3(0): 0.6021133313706865 - normalized_discounted_cumulative_gain@5(0): 0.6550560885016536 - mean_average_precision(0): 0.6088039349925054\n",
      "Epoch 19/30\n",
      "102/102 [==============================] - 10s 98ms/step - loss: 0.6469\n",
      "Validation: normalized_discounted_cumulative_gain@3(0): 0.6021133313706865 - normalized_discounted_cumulative_gain@5(0): 0.6550560885016536 - mean_average_precision(0): 0.6088039349925054\n",
      "Epoch 19/30\n",
      "Validation: normalized_discounted_cumulative_gain@3(0): 0.5997079468089453 - normalized_discounted_cumulative_gain@5(0): 0.6551715460098785 - mean_average_precision(0): 0.6132583521890799\n",
      "Epoch 20/30\n",
      "101/102 [============================>.] - ETA: 0s - loss: 0.6409\n",
      "Epoch 20/30\n",
      "102/102 [==============================] - 12s 114ms/step - loss: 0.6394\n",
      "Validation: normalized_discounted_cumulative_gain@3(0): 0.6020541274929805 - normalized_discounted_cumulative_gain@5(0): 0.6526969285641133 - mean_average_precision(0): 0.6070608866671785\n",
      "Epoch 21/30\n",
      "102/102 [==============================] - 10s 101ms/step - loss: 0.6310\n",
      "Validation: normalized_discounted_cumulative_gain@3(0): 0.5897118698197953 - normalized_discounted_cumulative_gain@5(0): 0.6480351384130337 - mean_average_precision(0): 0.6009685409437344\n",
      "Epoch 22/30\n",
      "102/102 [==============================] - 9s 90ms/step - loss: 0.6241\n",
      "\n",
      "Epoch 22/30\n",
      "Validation: normalized_discounted_cumulative_gain@3(0): 0.5935788802643805 - normalized_discounted_cumulative_gain@5(0): 0.6489645366728839 - mean_average_precision(0): 0.6050741842087466\n",
      "Epoch 23/30\n",
      "102/102 [==============================] - 10s 99ms/step - loss: 0.6180\n",
      "\n",
      "Epoch 23/30\n",
      "Validation: normalized_discounted_cumulative_gain@3(0): 0.5903495104880573 - normalized_discounted_cumulative_gain@5(0): 0.647719636722289 - mean_average_precision(0): 0.6042181517625242\n",
      "Epoch 24/30\n",
      "101/102 [============================>.] - ETA: 0s - loss: 0.6133\n",
      "Epoch 24/30\n",
      "102/102 [==============================] - 11s 113ms/step - loss: 0.6132\n",
      "Validation: normalized_discounted_cumulative_gain@3(0): 0.5932003283902145 - normalized_discounted_cumulative_gain@5(0): 0.6453752960491476 - mean_average_precision(0): 0.6004730905648922\n",
      "Epoch 25/30\n",
      "101/102 [============================>.] - ETA: 0s - loss: 0.6054Validation: normalized_discounted_cumulative_gain@3(0): 0.5932003283902145 - normalized_discounted_cumulative_gain@5(0): 0.6453752960491476 - mean_average_precision(0): 0.6004730905648922\n",
      "Epoch 25/30\n",
      "102/102 [==============================] - 10s 101ms/step - loss: 0.6070\n",
      "Validation: normalized_discounted_cumulative_gain@3(0): 0.5843091438362666 - normalized_discounted_cumulative_gain@5(0): 0.6379314914799917 - mean_average_precision(0): 0.5911646350143874\n",
      "Epoch 26/30\n"
     ]
    },
    {
     "name": "stdout",
     "output_type": "stream",
     "text": [
      "102/102 [==============================] - 9s 93ms/step - loss: 0.6015\n",
      "Validation: normalized_discounted_cumulative_gain@3(0): 0.576864812465392 - normalized_discounted_cumulative_gain@5(0): 0.6364934931333227 - mean_average_precision(0): 0.5888049280562754\n",
      "Epoch 27/30\n",
      "102/102 [==============================] - 10s 96ms/step - loss: 0.5983\n",
      "Validation: normalized_discounted_cumulative_gain@3(0): 0.5735865638229847 - normalized_discounted_cumulative_gain@5(0): 0.6349609120733534 - mean_average_precision(0): 0.5889968870090605\n",
      "Epoch 28/30\n",
      "101/102 [============================>.] - ETA: 0s - loss: 0.5926Validation: normalized_discounted_cumulative_gain@3(0): 0.5735865638229847 - normalized_discounted_cumulative_gain@5(0): 0.6349609120733534 - mean_average_precision(0): 0.5889968870090605\n",
      "Epoch 28/30\n",
      "102/102 [==============================] - 11s 108ms/step - loss: 0.5949\n",
      "Validation: normalized_discounted_cumulative_gain@3(0): 0.5734217273189437 - normalized_discounted_cumulative_gain@5(0): 0.633829924698832 - mean_average_precision(0): 0.587538708094186\n",
      "Epoch 29/30\n",
      "102/102 [==============================] - 7s 71ms/step - loss: 0.5911\n",
      "Validation: normalized_discounted_cumulative_gain@3(0): 0.5741242373408147 - normalized_discounted_cumulative_gain@5(0): 0.6327152340537268 - mean_average_precision(0): 0.5857034504877758\n",
      "Epoch 30/30\n",
      "101/102 [============================>.] - ETA: 0s - loss: 0.5856Validation: normalized_discounted_cumulative_gain@3(0): 0.5741242373408147 - normalized_discounted_cumulative_gain@5(0): 0.6327152340537268 - mean_average_precision(0): 0.5857034504877758\n",
      "Epoch 30/30\n",
      "102/102 [==============================] - 7s 67ms/step - loss: 0.5861\n",
      "Validation: normalized_discounted_cumulative_gain@3(0): 0.5786459488077922 - normalized_discounted_cumulative_gain@5(0): 0.6387977027620501 - mean_average_precision(0): 0.5899598453254498\n"
     ]
    }
   ],
   "source": [
    "history = model.fit_generator(train_generator, epochs=30, callbacks=[evaluate], workers=30, use_multiprocessing=True)"
   ]
  },
  {
   "cell_type": "code",
   "execution_count": null,
   "metadata": {},
   "outputs": [],
   "source": []
  }
 ],
 "metadata": {
  "kernelspec": {
   "display_name": "Python 3",
   "language": "python",
   "name": "python3"
  },
  "language_info": {
   "codemirror_mode": {
    "name": "ipython",
    "version": 3
   },
   "file_extension": ".py",
   "mimetype": "text/x-python",
   "name": "python",
   "nbconvert_exporter": "python",
   "pygments_lexer": "ipython3",
   "version": "3.6.5"
  }
 },
 "nbformat": 4,
 "nbformat_minor": 2
}
