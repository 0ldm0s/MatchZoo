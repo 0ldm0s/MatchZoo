{
 "cells": [
  {
   "cell_type": "markdown",
   "metadata": {},
   "source": [
    "<img src=\"https://github.com/NTMC-Community/MatchZoo/blob/2.0/artworks/matchzoo-logo.png?raw=True\" alt=\"logo\" style=\"width:600px;float: center\"/>"
   ]
  },
  {
   "cell_type": "code",
   "execution_count": 1,
   "metadata": {
    "ExecuteTime": {
     "end_time": "2018-12-24T05:17:44.680182Z",
     "start_time": "2018-12-24T05:17:42.279480Z"
    }
   },
   "outputs": [
    {
     "name": "stderr",
     "output_type": "stream",
     "text": [
      "Using TensorFlow backend.\n"
     ]
    }
   ],
   "source": [
    "import matchzoo as mz"
   ]
  },
  {
   "cell_type": "markdown",
   "metadata": {},
   "source": [
    "# Prepare Data"
   ]
  },
  {
   "cell_type": "code",
   "execution_count": 2,
   "metadata": {
    "ExecuteTime": {
     "end_time": "2018-12-24T05:17:45.112871Z",
     "start_time": "2018-12-24T05:17:44.682253Z"
    },
    "collapsed": true
   },
   "outputs": [],
   "source": [
    "train_data_pack = mz.datasets.wiki_qa.load_data(stage='train', task='ranking')\n",
    "test_data_pack = mz.datasets.wiki_qa.load_data(stage='test', task='ranking')"
   ]
  },
  {
   "cell_type": "code",
   "execution_count": 3,
   "metadata": {
    "ExecuteTime": {
     "end_time": "2018-12-24T05:17:45.135622Z",
     "start_time": "2018-12-24T05:17:45.114425Z"
    }
   },
   "outputs": [
    {
     "data": {
      "text/plain": [
       "matchzoo.data_pack.data_pack.DataPack"
      ]
     },
     "execution_count": 3,
     "metadata": {},
     "output_type": "execute_result"
    }
   ],
   "source": [
    "type(train_data_pack)"
   ]
  },
  {
   "cell_type": "markdown",
   "metadata": {},
   "source": [
    "`DataPack` is a MatchZoo native data structure that most MatchZoo data handling processes build upon. A `DataPack` is consists of three `pandas.DataFrame`:"
   ]
  },
  {
   "cell_type": "code",
   "execution_count": 4,
   "metadata": {
    "ExecuteTime": {
     "end_time": "2018-12-24T05:17:45.151106Z",
     "start_time": "2018-12-24T05:17:45.138245Z"
    }
   },
   "outputs": [
    {
     "data": {
      "text/html": [
       "<div>\n",
       "<style scoped>\n",
       "    .dataframe tbody tr th:only-of-type {\n",
       "        vertical-align: middle;\n",
       "    }\n",
       "\n",
       "    .dataframe tbody tr th {\n",
       "        vertical-align: top;\n",
       "    }\n",
       "\n",
       "    .dataframe thead th {\n",
       "        text-align: right;\n",
       "    }\n",
       "</style>\n",
       "<table border=\"1\" class=\"dataframe\">\n",
       "  <thead>\n",
       "    <tr style=\"text-align: right;\">\n",
       "      <th></th>\n",
       "      <th>text_left</th>\n",
       "    </tr>\n",
       "    <tr>\n",
       "      <th>id_left</th>\n",
       "      <th></th>\n",
       "    </tr>\n",
       "  </thead>\n",
       "  <tbody>\n",
       "    <tr>\n",
       "      <th>Q1</th>\n",
       "      <td>how are glacier caves formed?</td>\n",
       "    </tr>\n",
       "    <tr>\n",
       "      <th>Q2</th>\n",
       "      <td>How are the directions of the velocity and for...</td>\n",
       "    </tr>\n",
       "    <tr>\n",
       "      <th>Q5</th>\n",
       "      <td>how did apollo creed die</td>\n",
       "    </tr>\n",
       "    <tr>\n",
       "      <th>Q6</th>\n",
       "      <td>how long is the term for federal judges</td>\n",
       "    </tr>\n",
       "    <tr>\n",
       "      <th>Q7</th>\n",
       "      <td>how a beretta model 21 pistols magazines works</td>\n",
       "    </tr>\n",
       "  </tbody>\n",
       "</table>\n",
       "</div>"
      ],
      "text/plain": [
       "                                                 text_left\n",
       "id_left                                                   \n",
       "Q1                           how are glacier caves formed?\n",
       "Q2       How are the directions of the velocity and for...\n",
       "Q5                                how did apollo creed die\n",
       "Q6                 how long is the term for federal judges\n",
       "Q7          how a beretta model 21 pistols magazines works"
      ]
     },
     "execution_count": 4,
     "metadata": {},
     "output_type": "execute_result"
    }
   ],
   "source": [
    "train_data_pack.left.head()"
   ]
  },
  {
   "cell_type": "code",
   "execution_count": 5,
   "metadata": {
    "ExecuteTime": {
     "end_time": "2018-12-24T05:17:45.163305Z",
     "start_time": "2018-12-24T05:17:45.154133Z"
    }
   },
   "outputs": [
    {
     "data": {
      "text/html": [
       "<div>\n",
       "<style scoped>\n",
       "    .dataframe tbody tr th:only-of-type {\n",
       "        vertical-align: middle;\n",
       "    }\n",
       "\n",
       "    .dataframe tbody tr th {\n",
       "        vertical-align: top;\n",
       "    }\n",
       "\n",
       "    .dataframe thead th {\n",
       "        text-align: right;\n",
       "    }\n",
       "</style>\n",
       "<table border=\"1\" class=\"dataframe\">\n",
       "  <thead>\n",
       "    <tr style=\"text-align: right;\">\n",
       "      <th></th>\n",
       "      <th>text_right</th>\n",
       "    </tr>\n",
       "    <tr>\n",
       "      <th>id_right</th>\n",
       "      <th></th>\n",
       "    </tr>\n",
       "  </thead>\n",
       "  <tbody>\n",
       "    <tr>\n",
       "      <th>D1-0</th>\n",
       "      <td>A partly submerged glacier cave on Perito More...</td>\n",
       "    </tr>\n",
       "    <tr>\n",
       "      <th>D1-1</th>\n",
       "      <td>The ice facade is approximately 60 m high</td>\n",
       "    </tr>\n",
       "    <tr>\n",
       "      <th>D1-2</th>\n",
       "      <td>Ice formations in the Titlis glacier cave</td>\n",
       "    </tr>\n",
       "    <tr>\n",
       "      <th>D1-3</th>\n",
       "      <td>A glacier cave is a cave formed within the ice...</td>\n",
       "    </tr>\n",
       "    <tr>\n",
       "      <th>D1-4</th>\n",
       "      <td>Glacier caves are often called ice caves , but...</td>\n",
       "    </tr>\n",
       "  </tbody>\n",
       "</table>\n",
       "</div>"
      ],
      "text/plain": [
       "                                                 text_right\n",
       "id_right                                                   \n",
       "D1-0      A partly submerged glacier cave on Perito More...\n",
       "D1-1              The ice facade is approximately 60 m high\n",
       "D1-2              Ice formations in the Titlis glacier cave\n",
       "D1-3      A glacier cave is a cave formed within the ice...\n",
       "D1-4      Glacier caves are often called ice caves , but..."
      ]
     },
     "execution_count": 5,
     "metadata": {},
     "output_type": "execute_result"
    }
   ],
   "source": [
    "train_data_pack.right.head()"
   ]
  },
  {
   "cell_type": "code",
   "execution_count": 6,
   "metadata": {
    "ExecuteTime": {
     "end_time": "2018-12-24T05:17:45.174445Z",
     "start_time": "2018-12-24T05:17:45.165743Z"
    }
   },
   "outputs": [
    {
     "data": {
      "text/html": [
       "<div>\n",
       "<style scoped>\n",
       "    .dataframe tbody tr th:only-of-type {\n",
       "        vertical-align: middle;\n",
       "    }\n",
       "\n",
       "    .dataframe tbody tr th {\n",
       "        vertical-align: top;\n",
       "    }\n",
       "\n",
       "    .dataframe thead th {\n",
       "        text-align: right;\n",
       "    }\n",
       "</style>\n",
       "<table border=\"1\" class=\"dataframe\">\n",
       "  <thead>\n",
       "    <tr style=\"text-align: right;\">\n",
       "      <th></th>\n",
       "      <th>id_left</th>\n",
       "      <th>id_right</th>\n",
       "      <th>label</th>\n",
       "    </tr>\n",
       "  </thead>\n",
       "  <tbody>\n",
       "    <tr>\n",
       "      <th>0</th>\n",
       "      <td>Q1</td>\n",
       "      <td>D1-0</td>\n",
       "      <td>0</td>\n",
       "    </tr>\n",
       "    <tr>\n",
       "      <th>1</th>\n",
       "      <td>Q1</td>\n",
       "      <td>D1-1</td>\n",
       "      <td>0</td>\n",
       "    </tr>\n",
       "    <tr>\n",
       "      <th>2</th>\n",
       "      <td>Q1</td>\n",
       "      <td>D1-2</td>\n",
       "      <td>0</td>\n",
       "    </tr>\n",
       "    <tr>\n",
       "      <th>3</th>\n",
       "      <td>Q1</td>\n",
       "      <td>D1-3</td>\n",
       "      <td>1</td>\n",
       "    </tr>\n",
       "    <tr>\n",
       "      <th>4</th>\n",
       "      <td>Q1</td>\n",
       "      <td>D1-4</td>\n",
       "      <td>0</td>\n",
       "    </tr>\n",
       "  </tbody>\n",
       "</table>\n",
       "</div>"
      ],
      "text/plain": [
       "  id_left id_right  label\n",
       "0      Q1     D1-0      0\n",
       "1      Q1     D1-1      0\n",
       "2      Q1     D1-2      0\n",
       "3      Q1     D1-3      1\n",
       "4      Q1     D1-4      0"
      ]
     },
     "execution_count": 6,
     "metadata": {},
     "output_type": "execute_result"
    }
   ],
   "source": [
    "train_data_pack.relation.head()"
   ]
  },
  {
   "cell_type": "markdown",
   "metadata": {},
   "source": [
    "It is also possible to convert a `DataPack` into a single `pandas.DataFrame` that holds all information."
   ]
  },
  {
   "cell_type": "code",
   "execution_count": 7,
   "metadata": {
    "ExecuteTime": {
     "end_time": "2018-12-24T05:17:45.248113Z",
     "start_time": "2018-12-24T05:17:45.176447Z"
    }
   },
   "outputs": [
    {
     "data": {
      "text/html": [
       "<div>\n",
       "<style scoped>\n",
       "    .dataframe tbody tr th:only-of-type {\n",
       "        vertical-align: middle;\n",
       "    }\n",
       "\n",
       "    .dataframe tbody tr th {\n",
       "        vertical-align: top;\n",
       "    }\n",
       "\n",
       "    .dataframe thead th {\n",
       "        text-align: right;\n",
       "    }\n",
       "</style>\n",
       "<table border=\"1\" class=\"dataframe\">\n",
       "  <thead>\n",
       "    <tr style=\"text-align: right;\">\n",
       "      <th></th>\n",
       "      <th>id_left</th>\n",
       "      <th>text_left</th>\n",
       "      <th>id_right</th>\n",
       "      <th>text_right</th>\n",
       "      <th>label</th>\n",
       "    </tr>\n",
       "  </thead>\n",
       "  <tbody>\n",
       "    <tr>\n",
       "      <th>0</th>\n",
       "      <td>Q1</td>\n",
       "      <td>how are glacier caves formed?</td>\n",
       "      <td>D1-0</td>\n",
       "      <td>A partly submerged glacier cave on Perito More...</td>\n",
       "      <td>0</td>\n",
       "    </tr>\n",
       "    <tr>\n",
       "      <th>1</th>\n",
       "      <td>Q1</td>\n",
       "      <td>how are glacier caves formed?</td>\n",
       "      <td>D1-1</td>\n",
       "      <td>The ice facade is approximately 60 m high</td>\n",
       "      <td>0</td>\n",
       "    </tr>\n",
       "    <tr>\n",
       "      <th>2</th>\n",
       "      <td>Q1</td>\n",
       "      <td>how are glacier caves formed?</td>\n",
       "      <td>D1-2</td>\n",
       "      <td>Ice formations in the Titlis glacier cave</td>\n",
       "      <td>0</td>\n",
       "    </tr>\n",
       "    <tr>\n",
       "      <th>3</th>\n",
       "      <td>Q1</td>\n",
       "      <td>how are glacier caves formed?</td>\n",
       "      <td>D1-3</td>\n",
       "      <td>A glacier cave is a cave formed within the ice...</td>\n",
       "      <td>1</td>\n",
       "    </tr>\n",
       "    <tr>\n",
       "      <th>4</th>\n",
       "      <td>Q1</td>\n",
       "      <td>how are glacier caves formed?</td>\n",
       "      <td>D1-4</td>\n",
       "      <td>Glacier caves are often called ice caves , but...</td>\n",
       "      <td>0</td>\n",
       "    </tr>\n",
       "  </tbody>\n",
       "</table>\n",
       "</div>"
      ],
      "text/plain": [
       "  id_left                      text_left id_right  \\\n",
       "0      Q1  how are glacier caves formed?     D1-0   \n",
       "1      Q1  how are glacier caves formed?     D1-1   \n",
       "2      Q1  how are glacier caves formed?     D1-2   \n",
       "3      Q1  how are glacier caves formed?     D1-3   \n",
       "4      Q1  how are glacier caves formed?     D1-4   \n",
       "\n",
       "                                          text_right  label  \n",
       "0  A partly submerged glacier cave on Perito More...      0  \n",
       "1          The ice facade is approximately 60 m high      0  \n",
       "2          Ice formations in the Titlis glacier cave      0  \n",
       "3  A glacier cave is a cave formed within the ice...      1  \n",
       "4  Glacier caves are often called ice caves , but...      0  "
      ]
     },
     "execution_count": 7,
     "metadata": {},
     "output_type": "execute_result"
    }
   ],
   "source": [
    "train_data_pack.frame().head()"
   ]
  },
  {
   "cell_type": "markdown",
   "metadata": {},
   "source": [
    "However, using such `pandas.DataFrame` consumes much more memory if there are many duplicates in the texts, and that is the exact reason why we use `DataPack`. For more details about data handling, consult `matchzoo/tutorials/data_handling.ipynb`."
   ]
  },
  {
   "cell_type": "markdown",
   "metadata": {},
   "source": [
    "# Preprocessing"
   ]
  },
  {
   "cell_type": "markdown",
   "metadata": {},
   "source": [
    "MatchZoo preprocessors are used to convert a raw `DataPack` into a `DataPack` that ready to be fed into a model. "
   ]
  },
  {
   "cell_type": "code",
   "execution_count": 8,
   "metadata": {
    "ExecuteTime": {
     "end_time": "2018-12-24T05:17:45.253235Z",
     "start_time": "2018-12-24T05:17:45.250464Z"
    },
    "collapsed": true
   },
   "outputs": [],
   "source": [
    "preprocessor = mz.preprocessors.NaivePreprocessor()"
   ]
  },
  {
   "cell_type": "markdown",
   "metadata": {},
   "source": [
    "There are two steps to use a preprocessor. First, `fit`. Then, `transform`. `fit` will only changes the preprocessor's inner state but not the input `DataPack`."
   ]
  },
  {
   "cell_type": "code",
   "execution_count": 9,
   "metadata": {
    "ExecuteTime": {
     "end_time": "2018-12-24T05:17:49.193309Z",
     "start_time": "2018-12-24T05:17:45.255215Z"
    }
   },
   "outputs": [
    {
     "name": "stderr",
     "output_type": "stream",
     "text": [
      "Processing text_left with chain_transform of TokenizeUnit => LowercaseUnit => PuncRemovalUnit: 100%|██████████| 2117/2117 [00:00<00:00, 7907.52it/s]\n",
      "Processing text_right with chain_transform of TokenizeUnit => LowercaseUnit => PuncRemovalUnit: 100%|██████████| 18828/18828 [00:03<00:00, 5474.79it/s]\n",
      "Processing text_left with extend: 100%|██████████| 2117/2117 [00:00<00:00, 793223.30it/s]\n",
      "Processing text_right with extend: 100%|██████████| 18828/18828 [00:00<00:00, 694678.49it/s]\n",
      "Building VocabularyUnit from a datapack.: 100%|██████████| 418540/418540 [00:00<00:00, 2738062.29it/s]\n"
     ]
    },
    {
     "data": {
      "text/plain": [
       "<matchzoo.preprocessors.naive_preprocessor.NaivePreprocessor at 0x11c793f60>"
      ]
     },
     "execution_count": 9,
     "metadata": {},
     "output_type": "execute_result"
    }
   ],
   "source": [
    "preprocessor.fit(train_data_pack)"
   ]
  },
  {
   "cell_type": "markdown",
   "metadata": {},
   "source": [
    "`fit` will gather all information it needs into its `context`. In the above example, we can see a `VocabularyUnit` is built during the fitting process using `train_data_pack`."
   ]
  },
  {
   "cell_type": "code",
   "execution_count": 10,
   "metadata": {
    "ExecuteTime": {
     "end_time": "2018-12-24T05:17:49.198384Z",
     "start_time": "2018-12-24T05:17:49.195123Z"
    }
   },
   "outputs": [
    {
     "data": {
      "text/plain": [
       "{'vocab_unit': <matchzoo.processor_units.processor_units.VocabularyUnit at 0x11bf4deb8>}"
      ]
     },
     "execution_count": 10,
     "metadata": {},
     "output_type": "execute_result"
    }
   ],
   "source": [
    "preprocessor.context"
   ]
  },
  {
   "cell_type": "markdown",
   "metadata": {},
   "source": [
    "`VocabularyUnit` is a `StatefulProcessorUnit` that has a similar `fit`/`transform` interface. Once a `VocabularyUnit` `fit`, it will store a mapping from `term` to `index` and the reverse in its `state`."
   ]
  },
  {
   "cell_type": "markdown",
   "metadata": {},
   "source": [
    "The `NaivePreprocessor` already handles `VocabularyUnit` internally, so we do not have to worry about that. Just access it through the `NaivePreprocessor`'s `context`."
   ]
  },
  {
   "cell_type": "code",
   "execution_count": 11,
   "metadata": {
    "ExecuteTime": {
     "end_time": "2018-12-24T05:17:49.203616Z",
     "start_time": "2018-12-24T05:17:49.200283Z"
    }
   },
   "outputs": [
    {
     "name": "stdout",
     "output_type": "stream",
     "text": [
      "25726\n",
      "15364\n",
      "geocacher\n",
      "monolayer\n"
     ]
    }
   ],
   "source": [
    "vocab_unit = preprocessor.context['vocab_unit']\n",
    "print(vocab_unit.state['term_index']['match'])\n",
    "print(vocab_unit.state['term_index']['zoo'])\n",
    "print(vocab_unit.state['index_term'][1])\n",
    "print(vocab_unit.state['index_term'][2])"
   ]
  },
  {
   "cell_type": "markdown",
   "metadata": {},
   "source": [
    "Once `fit`, the preprocessor has enough information to `transform`.  `transform` will not change the preprocessor's inner state and the input `DataPack`, but return a transformed `DataPack`."
   ]
  },
  {
   "cell_type": "code",
   "execution_count": 12,
   "metadata": {
    "ExecuteTime": {
     "end_time": "2018-12-24T05:17:54.757550Z",
     "start_time": "2018-12-24T05:17:49.205447Z"
    }
   },
   "outputs": [
    {
     "name": "stderr",
     "output_type": "stream",
     "text": [
      "Processing text_left with chain_transform of TokenizeUnit => LowercaseUnit => PuncRemovalUnit => VocabularyUnit => FixedLengthUnit: 100%|██████████| 2117/2117 [00:00<00:00, 7850.86it/s]\n",
      "Processing text_right with chain_transform of TokenizeUnit => LowercaseUnit => PuncRemovalUnit => VocabularyUnit => FixedLengthUnit: 100%|██████████| 18828/18828 [00:03<00:00, 4775.68it/s]\n",
      "Processing text_left with chain_transform of TokenizeUnit => LowercaseUnit => PuncRemovalUnit => VocabularyUnit => FixedLengthUnit: 100%|██████████| 630/630 [00:00<00:00, 8378.21it/s]\n",
      "Processing text_right with chain_transform of TokenizeUnit => LowercaseUnit => PuncRemovalUnit => VocabularyUnit => FixedLengthUnit: 100%|██████████| 5914/5914 [00:01<00:00, 4734.85it/s]\n"
     ]
    }
   ],
   "source": [
    "train_data_pack_processed = preprocessor.transform(train_data_pack)\n",
    "test_data_pack_processed = preprocessor.transform(test_data_pack)"
   ]
  },
  {
   "cell_type": "code",
   "execution_count": 13,
   "metadata": {
    "ExecuteTime": {
     "end_time": "2018-12-24T05:17:54.767157Z",
     "start_time": "2018-12-24T05:17:54.759086Z"
    }
   },
   "outputs": [
    {
     "data": {
      "text/html": [
       "<div>\n",
       "<style scoped>\n",
       "    .dataframe tbody tr th:only-of-type {\n",
       "        vertical-align: middle;\n",
       "    }\n",
       "\n",
       "    .dataframe tbody tr th {\n",
       "        vertical-align: top;\n",
       "    }\n",
       "\n",
       "    .dataframe thead th {\n",
       "        text-align: right;\n",
       "    }\n",
       "</style>\n",
       "<table border=\"1\" class=\"dataframe\">\n",
       "  <thead>\n",
       "    <tr style=\"text-align: right;\">\n",
       "      <th></th>\n",
       "      <th>text_left</th>\n",
       "    </tr>\n",
       "    <tr>\n",
       "      <th>id_left</th>\n",
       "      <th></th>\n",
       "    </tr>\n",
       "  </thead>\n",
       "  <tbody>\n",
       "    <tr>\n",
       "      <th>Q1</th>\n",
       "      <td>[6248, 3232, 23623, 26906, 18581, 0, 0, 0, 0, ...</td>\n",
       "    </tr>\n",
       "    <tr>\n",
       "      <th>Q2</th>\n",
       "      <td>[6248, 3232, 11296, 9779, 4231, 11296, 25020, ...</td>\n",
       "    </tr>\n",
       "    <tr>\n",
       "      <th>Q5</th>\n",
       "      <td>[6248, 8466, 5344, 22570, 26752, 0, 0, 0, 0, 0...</td>\n",
       "    </tr>\n",
       "    <tr>\n",
       "      <th>Q6</th>\n",
       "      <td>[6248, 18206, 6559, 11296, 12243, 22211, 11936...</td>\n",
       "    </tr>\n",
       "    <tr>\n",
       "      <th>Q7</th>\n",
       "      <td>[6248, 18788, 4030, 11359, 12567, 17504, 6486,...</td>\n",
       "    </tr>\n",
       "  </tbody>\n",
       "</table>\n",
       "</div>"
      ],
      "text/plain": [
       "                                                 text_left\n",
       "id_left                                                   \n",
       "Q1       [6248, 3232, 23623, 26906, 18581, 0, 0, 0, 0, ...\n",
       "Q2       [6248, 3232, 11296, 9779, 4231, 11296, 25020, ...\n",
       "Q5       [6248, 8466, 5344, 22570, 26752, 0, 0, 0, 0, 0...\n",
       "Q6       [6248, 18206, 6559, 11296, 12243, 22211, 11936...\n",
       "Q7       [6248, 18788, 4030, 11359, 12567, 17504, 6486,..."
      ]
     },
     "execution_count": 13,
     "metadata": {},
     "output_type": "execute_result"
    }
   ],
   "source": [
    "train_data_pack_processed.left.head()"
   ]
  },
  {
   "cell_type": "markdown",
   "metadata": {},
   "source": [
    "As we can see, `text_left` is already in sequence form that nerual networks love."
   ]
  },
  {
   "cell_type": "markdown",
   "metadata": {},
   "source": [
    "Just to make sure we have the correct sequence:"
   ]
  },
  {
   "cell_type": "code",
   "execution_count": 14,
   "metadata": {
    "ExecuteTime": {
     "end_time": "2018-12-24T05:17:54.777074Z",
     "start_time": "2018-12-24T05:17:54.770454Z"
    }
   },
   "outputs": [
    {
     "name": "stdout",
     "output_type": "stream",
     "text": [
      "Before: how are glacier caves formed?\n",
      "After: [6248, 3232, 23623, 26906, 18581, 0, 0, 0, 0, 0, 0, 0, 0, 0, 0, 0, 0, 0, 0, 0, 0, 0, 0, 0, 0, 0, 0, 0, 0, 0]\n",
      "Translated: how_are_glacier_caves_formed_________________________\n"
     ]
    }
   ],
   "source": [
    "print('Before:', train_data_pack.left.loc['Q1']['text_left'])\n",
    "sequence = train_data_pack_processed.left.loc['Q1']['text_left']\n",
    "print('After:', sequence)\n",
    "print('Translated:', '_'.join([vocab_unit.state['index_term'][i] for i in sequence]))"
   ]
  },
  {
   "cell_type": "markdown",
   "metadata": {},
   "source": [
    "For more details about data handling, consult `matchzoo/tutorials/preprocessing.ipynb`."
   ]
  },
  {
   "cell_type": "markdown",
   "metadata": {},
   "source": [
    "# Build Model"
   ]
  },
  {
   "cell_type": "markdown",
   "metadata": {},
   "source": [
    "MatchZoo provides many built-in text matching models."
   ]
  },
  {
   "cell_type": "code",
   "execution_count": 15,
   "metadata": {
    "ExecuteTime": {
     "end_time": "2018-12-24T05:17:54.782376Z",
     "start_time": "2018-12-24T05:17:54.778860Z"
    }
   },
   "outputs": [
    {
     "data": {
      "text/plain": [
       "[matchzoo.models.naive_model.NaiveModel,\n",
       " matchzoo.models.dssm_model.DSSMModel,\n",
       " matchzoo.models.cdssm_model.CDSSMModel,\n",
       " matchzoo.models.dense_baseline_model.DenseBaselineModel,\n",
       " matchzoo.models.arci_model.ArcIModel,\n",
       " matchzoo.models.knrm_model.KNRMModel,\n",
       " matchzoo.models.duet_model.DUETModel,\n",
       " matchzoo.models.drmmtks_model.DRMMTKSModel,\n",
       " matchzoo.models.drmm.DRMM]"
      ]
     },
     "execution_count": 15,
     "metadata": {},
     "output_type": "execute_result"
    }
   ],
   "source": [
    "mz.models.list_available()"
   ]
  },
  {
   "cell_type": "code",
   "execution_count": 16,
   "metadata": {
    "ExecuteTime": {
     "end_time": "2018-12-24T05:17:54.786856Z",
     "start_time": "2018-12-24T05:17:54.784065Z"
    },
    "collapsed": true
   },
   "outputs": [],
   "source": [
    "model = mz.models.DenseBaselineModel()"
   ]
  },
  {
   "cell_type": "markdown",
   "metadata": {},
   "source": [
    "The model is initialized with a hyper parameter table, in which values are partially filled."
   ]
  },
  {
   "cell_type": "code",
   "execution_count": 17,
   "metadata": {
    "ExecuteTime": {
     "end_time": "2018-12-24T05:17:54.791716Z",
     "start_time": "2018-12-24T05:17:54.788994Z"
    }
   },
   "outputs": [
    {
     "name": "stdout",
     "output_type": "stream",
     "text": [
      "name                          None\n",
      "model_class                   <class 'matchzoo.models.dense_baseline_model.DenseBaselineModel'>\n",
      "input_shapes                  None\n",
      "task                          None\n",
      "optimizer                     None\n",
      "with_multi_layer_perceptron   True\n",
      "mlp_num_units                 256\n",
      "mlp_num_layers                None\n",
      "mlp_num_fan_out               None\n",
      "mlp_activation_func           None\n"
     ]
    }
   ],
   "source": [
    "print(model.params)"
   ]
  },
  {
   "cell_type": "code",
   "execution_count": 18,
   "metadata": {
    "ExecuteTime": {
     "end_time": "2018-12-24T05:17:54.796462Z",
     "start_time": "2018-12-24T05:17:54.793764Z"
    }
   },
   "outputs": [
    {
     "name": "stdout",
     "output_type": "stream",
     "text": [
      "name                          My First Model\n",
      "model_class                   <class 'matchzoo.models.dense_baseline_model.DenseBaselineModel'>\n",
      "input_shapes                  None\n",
      "task                          None\n",
      "optimizer                     None\n",
      "with_multi_layer_perceptron   True\n",
      "mlp_num_units                 3\n",
      "mlp_num_layers                None\n",
      "mlp_num_fan_out               None\n",
      "mlp_activation_func           None\n"
     ]
    }
   ],
   "source": [
    "model.params['name'] = 'My First Model'\n",
    "model.params['mlp_num_units'] = 3\n",
    "print(model.params)"
   ]
  },
  {
   "cell_type": "markdown",
   "metadata": {},
   "source": [
    "Use `guess_and_fill_missing_params` to automatically fill-in other hyper parameters. This involves some guessing so the parameter it fills could be wrong. For example, the default task is `Ranking`, and if we do not set it to `Classification` manaully for data packs prepared for classification, then the shape of the model output and the data will mismatch."
   ]
  },
  {
   "cell_type": "code",
   "execution_count": 19,
   "metadata": {
    "ExecuteTime": {
     "end_time": "2018-12-24T05:17:54.802059Z",
     "start_time": "2018-12-24T05:17:54.798341Z"
    }
   },
   "outputs": [
    {
     "name": "stdout",
     "output_type": "stream",
     "text": [
      "Parameter \"task\" set to Ranking Task.\n",
      "Parameter \"input_shapes\" set to [(30,), (30,)].\n",
      "Parameter \"optimizer\" set to adam.\n",
      "Parameter \"mlp_num_layers\" set to 3.\n",
      "Parameter \"mlp_num_fan_out\" set to 32.\n",
      "Parameter \"mlp_activation_func\" set to relu.\n",
      "name                          My First Model\n",
      "model_class                   <class 'matchzoo.models.dense_baseline_model.DenseBaselineModel'>\n",
      "input_shapes                  [(30,), (30,)]\n",
      "task                          Ranking Task\n",
      "optimizer                     adam\n",
      "with_multi_layer_perceptron   True\n",
      "mlp_num_units                 3\n",
      "mlp_num_layers                3\n",
      "mlp_num_fan_out               32\n",
      "mlp_activation_func           relu\n"
     ]
    }
   ],
   "source": [
    "model.guess_and_fill_missing_params()\n",
    "print(model.params)"
   ]
  },
  {
   "cell_type": "code",
   "execution_count": 20,
   "metadata": {
    "ExecuteTime": {
     "end_time": "2018-12-24T05:17:54.807452Z",
     "start_time": "2018-12-24T05:17:54.804575Z"
    }
   },
   "outputs": [
    {
     "data": {
      "text/plain": [
       "True"
      ]
     },
     "execution_count": 20,
     "metadata": {},
     "output_type": "execute_result"
    }
   ],
   "source": [
    "model.params.completed()"
   ]
  },
  {
   "cell_type": "markdown",
   "metadata": {},
   "source": [
    "With all parameters filled in, we can now build and compile the model."
   ]
  },
  {
   "cell_type": "code",
   "execution_count": 21,
   "metadata": {
    "ExecuteTime": {
     "end_time": "2018-12-24T05:17:54.915891Z",
     "start_time": "2018-12-24T05:17:54.809272Z"
    }
   },
   "outputs": [
    {
     "name": "stdout",
     "output_type": "stream",
     "text": [
      "__________________________________________________________________________________________________\n",
      "Layer (type)                    Output Shape         Param #     Connected to                     \n",
      "==================================================================================================\n",
      "text_left (InputLayer)          (None, 30)           0                                            \n",
      "__________________________________________________________________________________________________\n",
      "text_right (InputLayer)         (None, 30)           0                                            \n",
      "__________________________________________________________________________________________________\n",
      "concatenate_1 (Concatenate)     (None, 60)           0           text_left[0][0]                  \n",
      "                                                                 text_right[0][0]                 \n",
      "__________________________________________________________________________________________________\n",
      "dense_1 (Dense)                 (None, 3)            183         concatenate_1[0][0]              \n",
      "__________________________________________________________________________________________________\n",
      "dense_2 (Dense)                 (None, 3)            12          dense_1[0][0]                    \n",
      "__________________________________________________________________________________________________\n",
      "dense_3 (Dense)                 (None, 3)            12          dense_2[0][0]                    \n",
      "__________________________________________________________________________________________________\n",
      "dense_4 (Dense)                 (None, 32)           128         dense_3[0][0]                    \n",
      "__________________________________________________________________________________________________\n",
      "dense_5 (Dense)                 (None, 1)            33          dense_4[0][0]                    \n",
      "==================================================================================================\n",
      "Total params: 368\n",
      "Trainable params: 368\n",
      "Non-trainable params: 0\n",
      "__________________________________________________________________________________________________\n"
     ]
    }
   ],
   "source": [
    "model.build()\n",
    "model.compile()\n",
    "model.backend.summary()"
   ]
  },
  {
   "cell_type": "markdown",
   "metadata": {
    "ExecuteTime": {
     "end_time": "2018-12-10T13:28:54.044570Z",
     "start_time": "2018-12-10T13:28:54.038325Z"
    }
   },
   "source": [
    "For more details about models, consult `matchzoo/tutorials/models.ipynb`."
   ]
  },
  {
   "cell_type": "markdown",
   "metadata": {},
   "source": [
    "# Train, Evaluate, Predict"
   ]
  },
  {
   "cell_type": "markdown",
   "metadata": {},
   "source": [
    "A `DataPack` can `unpack` itself into data that can be directly used to train a MatchZoo model."
   ]
  },
  {
   "cell_type": "code",
   "execution_count": 22,
   "metadata": {
    "ExecuteTime": {
     "end_time": "2018-12-24T05:17:55.218993Z",
     "start_time": "2018-12-24T05:17:54.918615Z"
    },
    "collapsed": true
   },
   "outputs": [],
   "source": [
    "x, y = train_data_pack_processed.unpack()\n",
    "test_x, test_y = test_data_pack_processed.unpack()"
   ]
  },
  {
   "cell_type": "code",
   "execution_count": 23,
   "metadata": {
    "ExecuteTime": {
     "end_time": "2018-12-24T05:17:59.391054Z",
     "start_time": "2018-12-24T05:17:55.220950Z"
    }
   },
   "outputs": [
    {
     "name": "stdout",
     "output_type": "stream",
     "text": [
      "Epoch 1/5\n",
      "20347/20347 [==============================] - 1s 50us/step - loss: 105.0429 - mean_absolute_error: 0.6211\n",
      "Epoch 2/5\n",
      "20347/20347 [==============================] - 1s 34us/step - loss: 0.0487 - mean_absolute_error: 0.0979\n",
      "Epoch 3/5\n",
      "20347/20347 [==============================] - 1s 36us/step - loss: 0.0487 - mean_absolute_error: 0.0973\n",
      "Epoch 4/5\n",
      "20347/20347 [==============================] - 1s 37us/step - loss: 0.0488 - mean_absolute_error: 0.0979\n",
      "Epoch 5/5\n",
      "20347/20347 [==============================] - 1s 35us/step - loss: 0.0488 - mean_absolute_error: 0.0978\n"
     ]
    },
    {
     "data": {
      "text/plain": [
       "<keras.callbacks.History at 0x11e42d710>"
      ]
     },
     "execution_count": 23,
     "metadata": {},
     "output_type": "execute_result"
    }
   ],
   "source": [
    "model.fit(x, y, batch_size=32, epochs=5)"
   ]
  },
  {
   "cell_type": "markdown",
   "metadata": {},
   "source": [
    "An alternative to train a model is to use a `DataGenerator`. This might be useful for delaying expensive preprocessing steps or doing real-time data augmentation. For more details about `DataGenerator`, consult `matchzoo/tutorials/data_handling.ipynb`."
   ]
  },
  {
   "cell_type": "code",
   "execution_count": 24,
   "metadata": {
    "ExecuteTime": {
     "end_time": "2018-12-24T05:17:59.398933Z",
     "start_time": "2018-12-24T05:17:59.393546Z"
    },
    "collapsed": true
   },
   "outputs": [],
   "source": [
    "data_generator = mz.DataGenerator(train_data_pack_processed, batch_size=32)"
   ]
  },
  {
   "cell_type": "code",
   "execution_count": 25,
   "metadata": {
    "ExecuteTime": {
     "end_time": "2018-12-24T05:18:13.245952Z",
     "start_time": "2018-12-24T05:17:59.401675Z"
    }
   },
   "outputs": [
    {
     "name": "stdout",
     "output_type": "stream",
     "text": [
      "Epoch 1/5\n",
      "636/636 [==============================] - 3s 4ms/step - loss: 0.0489 - mean_absolute_error: 0.0981\n",
      "Epoch 2/5\n",
      "636/636 [==============================] - 3s 4ms/step - loss: 0.0489 - mean_absolute_error: 0.0977\n",
      "Epoch 3/5\n",
      "636/636 [==============================] - 3s 4ms/step - loss: 0.0496 - mean_absolute_error: 0.0994\n",
      "Epoch 4/5\n",
      "636/636 [==============================] - 3s 4ms/step - loss: 0.0541 - mean_absolute_error: 0.1027\n",
      "Epoch 5/5\n",
      "636/636 [==============================] - 3s 4ms/step - loss: 0.3881 - mean_absolute_error: 0.1228\n"
     ]
    },
    {
     "data": {
      "text/plain": [
       "<keras.callbacks.History at 0x11e3be940>"
      ]
     },
     "execution_count": 25,
     "metadata": {},
     "output_type": "execute_result"
    }
   ],
   "source": [
    "model.fit_generator(data_generator, epochs=5, use_multiprocessing=True, workers=4)"
   ]
  },
  {
   "cell_type": "code",
   "execution_count": 26,
   "metadata": {
    "ExecuteTime": {
     "end_time": "2018-12-24T05:18:13.338087Z",
     "start_time": "2018-12-24T05:18:13.249417Z"
    }
   },
   "outputs": [
    {
     "name": "stdout",
     "output_type": "stream",
     "text": [
      "6116/6116 [==============================] - 0s 13us/step\n"
     ]
    },
    {
     "data": {
      "text/plain": [
       "{'loss': 1.246552992989769, 'mean_absolute_error': 0.20679176925755233}"
      ]
     },
     "execution_count": 26,
     "metadata": {},
     "output_type": "execute_result"
    }
   ],
   "source": [
    "model.evaluate(test_x, test_y)"
   ]
  },
  {
   "cell_type": "code",
   "execution_count": 27,
   "metadata": {
    "ExecuteTime": {
     "end_time": "2018-12-24T05:18:13.410917Z",
     "start_time": "2018-12-24T05:18:13.340847Z"
    }
   },
   "outputs": [
    {
     "data": {
      "text/plain": [
       "array([[0.07851854],\n",
       "       [0.07851854],\n",
       "       [0.07851854],\n",
       "       ...,\n",
       "       [0.07851854],\n",
       "       [0.07851854],\n",
       "       [0.07851854]], dtype=float32)"
      ]
     },
     "execution_count": 27,
     "metadata": {},
     "output_type": "execute_result"
    }
   ],
   "source": [
    "model.predict(test_x)"
   ]
  },
  {
   "cell_type": "markdown",
   "metadata": {
    "ExecuteTime": {
     "end_time": "2018-12-10T14:00:25.446639Z",
     "start_time": "2018-12-10T14:00:25.444180Z"
    }
   },
   "source": [
    "# Automation"
   ]
  },
  {
   "cell_type": "markdown",
   "metadata": {},
   "source": [
    "MatchZoo strives for ease of use, and package `matchzoo.auto` is a perfect example of that."
   ]
  },
  {
   "cell_type": "markdown",
   "metadata": {},
   "source": [
    "`matchzoo.auto.prepare` handles interaction among data, model, and preprocessor automatically. For example, some model like `DSSM` have dynamic input shapes based on the result of word hashing. Some models have an embedding layer which dimension is related to the data's vocabulary size. `prepare` takes care of all that and returns properly prepared model, data, and preprocessor for you."
   ]
  },
  {
   "cell_type": "code",
   "execution_count": 28,
   "metadata": {
    "ExecuteTime": {
     "end_time": "2018-12-24T05:18:17.396644Z",
     "start_time": "2018-12-24T05:18:13.414012Z"
    }
   },
   "outputs": [
    {
     "name": "stderr",
     "output_type": "stream",
     "text": [
      "Processing text_left with chain_transform of TokenizeUnit => LowercaseUnit => PuncRemovalUnit => StopRemovalUnit => NgramLetterUnit: 100%|██████████| 13/13 [00:00<00:00, 2538.57it/s]\n",
      "Processing text_right with chain_transform of TokenizeUnit => LowercaseUnit => PuncRemovalUnit => StopRemovalUnit => NgramLetterUnit: 100%|██████████| 100/100 [00:00<00:00, 1842.84it/s]\n",
      "Processing text_left with extend: 100%|██████████| 13/13 [00:00<00:00, 19267.12it/s]\n",
      "Processing text_right with extend: 100%|██████████| 100/100 [00:00<00:00, 55894.24it/s]\n",
      "Building VocabularyUnit from a datapack.: 100%|██████████| 8523/8523 [00:00<00:00, 1948122.78it/s]\n",
      "Processing text_left with chain_transform of TokenizeUnit => LowercaseUnit => PuncRemovalUnit => StopRemovalUnit => NgramLetterUnit => WordHashingUnit: 100%|██████████| 13/13 [00:00<00:00, 2217.76it/s]\n",
      "Processing text_right with chain_transform of TokenizeUnit => LowercaseUnit => PuncRemovalUnit => StopRemovalUnit => NgramLetterUnit => WordHashingUnit: 100%|██████████| 100/100 [00:00<00:00, 2165.06it/s]\n"
     ]
    },
    {
     "name": "stdout",
     "output_type": "stream",
     "text": [
      "Parameter \"name\" set to DSSMModel.\n",
      "Parameter \"mlp_num_layers\" set to 3.\n",
      "Parameter \"mlp_num_units\" set to 64.\n",
      "Parameter \"mlp_num_fan_out\" set to 32.\n",
      "Parameter \"mlp_activation_func\" set to relu.\n",
      "Epoch 1/1\n",
      "100/100 [==============================] - 1s 7ms/step - loss: 0.3091 - mean_absolute_error: 0.4600\n",
      "6116/6116 [==============================] - 0s 47us/step\n"
     ]
    },
    {
     "data": {
      "text/plain": [
       "{'loss': 0.10139248185858686, 'mean_absolute_error': 0.2107424148942537}"
      ]
     },
     "execution_count": 28,
     "metadata": {},
     "output_type": "execute_result"
    }
   ],
   "source": [
    "model_ok, train_ok, preprocesor_ok = mz.auto.prepare(\n",
    "    model=mz.models.DSSMModel(),\n",
    "    data_pack=train_data_pack[:100]\n",
    ")\n",
    "test_ok = preprocesor_ok.transform(test_data_pack, verbose=0)\n",
    "model_ok.fit(*train_ok.unpack(), batch_size=32)\n",
    "model_ok.evaluate(*test_ok.unpack())"
   ]
  },
  {
   "cell_type": "markdown",
   "metadata": {},
   "source": [
    "For more details about automation, consult `matchzoo/tutorials/automation.ipynb`."
   ]
  },
  {
   "cell_type": "markdown",
   "metadata": {
    "ExecuteTime": {
     "start_time": "2018-12-21T14:38:51.631Z"
    }
   },
   "source": [
    "# Full Example"
   ]
  },
  {
   "cell_type": "code",
   "execution_count": 33,
   "metadata": {
    "ExecuteTime": {
     "end_time": "2018-12-24T05:18:59.864634Z",
     "start_time": "2018-12-24T05:18:59.862188Z"
    },
    "collapsed": true
   },
   "outputs": [],
   "source": [
    "model_classes = [\n",
    "    mz.models.DSSMModel,\n",
    "    mz.models.DUETModel,\n",
    "]"
   ]
  },
  {
   "cell_type": "code",
   "execution_count": 34,
   "metadata": {
    "ExecuteTime": {
     "end_time": "2018-12-24T05:22:16.425346Z",
     "start_time": "2018-12-24T05:19:04.633301Z"
    },
    "scrolled": true
   },
   "outputs": [
    {
     "name": "stdout",
     "output_type": "stream",
     "text": [
      "<class 'matchzoo.models.dssm_model.DSSMModel'>\n",
      "Epoch 1/30\n",
      "2000/2000 [==============================] - 1s 499us/step - loss: 0.0507\n",
      "Epoch 2/30\n",
      "2000/2000 [==============================] - 0s 176us/step - loss: 0.0449\n",
      "Epoch 3/30\n",
      "2000/2000 [==============================] - 0s 170us/step - loss: 0.0446\n",
      "Epoch 4/30\n",
      "2000/2000 [==============================] - 0s 177us/step - loss: 0.0445\n",
      "Epoch 5/30\n",
      "2000/2000 [==============================] - 0s 173us/step - loss: 0.0439\n",
      "Epoch 6/30\n",
      "2000/2000 [==============================] - 0s 173us/step - loss: 0.0430\n",
      "Epoch 7/30\n",
      "2000/2000 [==============================] - 0s 177us/step - loss: 0.0411\n",
      "Epoch 8/30\n",
      "2000/2000 [==============================] - 0s 168us/step - loss: 0.0378\n",
      "Epoch 9/30\n",
      "2000/2000 [==============================] - 0s 213us/step - loss: 0.0342\n",
      "Epoch 10/30\n",
      "2000/2000 [==============================] - 0s 179us/step - loss: 0.0308\n",
      "Epoch 11/30\n",
      "2000/2000 [==============================] - 0s 171us/step - loss: 0.0276\n",
      "Epoch 12/30\n",
      "2000/2000 [==============================] - 0s 179us/step - loss: 0.0249\n",
      "Epoch 13/30\n",
      "2000/2000 [==============================] - 0s 191us/step - loss: 0.0220\n",
      "Epoch 14/30\n",
      "2000/2000 [==============================] - 0s 176us/step - loss: 0.0197\n",
      "Epoch 15/30\n",
      "2000/2000 [==============================] - 0s 178us/step - loss: 0.0175\n",
      "Epoch 16/30\n",
      "2000/2000 [==============================] - 0s 181us/step - loss: 0.0155\n",
      "Epoch 17/30\n",
      "2000/2000 [==============================] - 0s 185us/step - loss: 0.0139\n",
      "Epoch 18/30\n",
      "2000/2000 [==============================] - 0s 186us/step - loss: 0.0123\n",
      "Epoch 19/30\n",
      "2000/2000 [==============================] - 0s 177us/step - loss: 0.0120\n",
      "Epoch 20/30\n",
      "2000/2000 [==============================] - 0s 184us/step - loss: 0.0117\n",
      "Epoch 21/30\n",
      "2000/2000 [==============================] - 0s 193us/step - loss: 0.0103\n",
      "Epoch 22/30\n",
      "2000/2000 [==============================] - 0s 183us/step - loss: 0.0083\n",
      "Epoch 23/30\n",
      "2000/2000 [==============================] - 0s 192us/step - loss: 0.0071\n",
      "Epoch 24/30\n",
      "2000/2000 [==============================] - 0s 172us/step - loss: 0.0067\n",
      "Epoch 25/30\n",
      "2000/2000 [==============================] - 0s 187us/step - loss: 0.0071\n",
      "Epoch 26/30\n",
      "2000/2000 [==============================] - 0s 187us/step - loss: 0.0052\n",
      "Epoch 27/30\n",
      "2000/2000 [==============================] - 0s 180us/step - loss: 0.0044\n",
      "Epoch 28/30\n",
      "2000/2000 [==============================] - 0s 186us/step - loss: 0.0039\n",
      "Epoch 29/30\n",
      "2000/2000 [==============================] - 0s 181us/step - loss: 0.0036\n",
      "Epoch 30/30\n",
      "2000/2000 [==============================] - 0s 184us/step - loss: 0.0033\n",
      "<class 'matchzoo.models.duet_model.DUETModel'>\n",
      "Epoch 1/30\n",
      "2000/2000 [==============================] - 3s 1ms/step - loss: 0.5709\n",
      "Epoch 2/30\n",
      "2000/2000 [==============================] - 2s 986us/step - loss: 0.3976\n",
      "Epoch 3/30\n",
      "2000/2000 [==============================] - 2s 1ms/step - loss: 0.2770\n",
      "Epoch 4/30\n",
      "2000/2000 [==============================] - 2s 950us/step - loss: 0.1712\n",
      "Epoch 5/30\n",
      "2000/2000 [==============================] - 2s 1ms/step - loss: 0.1221\n",
      "Epoch 6/30\n",
      "2000/2000 [==============================] - 2s 1ms/step - loss: 0.0932\n",
      "Epoch 7/30\n",
      "2000/2000 [==============================] - 2s 1ms/step - loss: 0.0792\n",
      "Epoch 8/30\n",
      "2000/2000 [==============================] - 2s 1ms/step - loss: 0.0589\n",
      "Epoch 9/30\n",
      "2000/2000 [==============================] - 2s 1ms/step - loss: 0.0508\n",
      "Epoch 10/30\n",
      "2000/2000 [==============================] - 2s 1ms/step - loss: 0.0401\n",
      "Epoch 11/30\n",
      "2000/2000 [==============================] - 2s 1ms/step - loss: 0.0325\n",
      "Epoch 12/30\n",
      "2000/2000 [==============================] - 2s 1ms/step - loss: 0.0260\n",
      "Epoch 13/30\n",
      "2000/2000 [==============================] - 2s 969us/step - loss: 0.0253\n",
      "Epoch 14/30\n",
      "2000/2000 [==============================] - 2s 1ms/step - loss: 0.0242\n",
      "Epoch 15/30\n",
      "2000/2000 [==============================] - 2s 1ms/step - loss: 0.0231\n",
      "Epoch 16/30\n",
      "2000/2000 [==============================] - 2s 1ms/step - loss: 0.0166\n",
      "Epoch 17/30\n",
      "2000/2000 [==============================] - 2s 1ms/step - loss: 0.0220\n",
      "Epoch 18/30\n",
      "2000/2000 [==============================] - 2s 1ms/step - loss: 0.0179\n",
      "Epoch 19/30\n",
      "2000/2000 [==============================] - 2s 1ms/step - loss: 0.0161\n",
      "Epoch 20/30\n",
      "2000/2000 [==============================] - 2s 1ms/step - loss: 0.0158\n",
      "Epoch 21/30\n",
      "2000/2000 [==============================] - 2s 1ms/step - loss: 0.0146\n",
      "Epoch 22/30\n",
      "2000/2000 [==============================] - 2s 1ms/step - loss: 0.0129\n",
      "Epoch 23/30\n",
      "2000/2000 [==============================] - 2s 1ms/step - loss: 0.0124\n",
      "Epoch 24/30\n",
      "2000/2000 [==============================] - 2s 1ms/step - loss: 0.0123\n",
      "Epoch 25/30\n",
      "2000/2000 [==============================] - 2s 1ms/step - loss: 0.0107\n",
      "Epoch 26/30\n",
      "2000/2000 [==============================] - 2s 1ms/step - loss: 0.0108\n",
      "Epoch 27/30\n",
      "2000/2000 [==============================] - 2s 1ms/step - loss: 0.0094\n",
      "Epoch 28/30\n",
      "2000/2000 [==============================] - 2s 1ms/step - loss: 0.0095\n",
      "Epoch 29/30\n",
      "2000/2000 [==============================] - 2s 1ms/step - loss: 0.0103\n",
      "Epoch 30/30\n",
      "2000/2000 [==============================] - 2s 1ms/step - loss: 0.0092\n"
     ]
    }
   ],
   "source": [
    "task = mz.tasks.Ranking(metrics=['ap', 'ndcg'])\n",
    "results = []\n",
    "for model_class in model_classes:\n",
    "    print(model_class)\n",
    "    model = model_class()\n",
    "    model.params['task'] = task\n",
    "    model_ok, train_ok, preprocesor_ok = mz.auto.prepare(\n",
    "        model=model,\n",
    "        data_pack=train_data_pack[:2000],\n",
    "        verbose=0\n",
    "    )\n",
    "    test_ok = preprocesor_ok.transform(test_data_pack, verbose=0)\n",
    "    callback = mz.engine.callbacks.EvaluateAllMetrics(\n",
    "        model_ok,\n",
    "        *test_ok.unpack(),\n",
    "        batch_size=1024,\n",
    "        verbose=0\n",
    "    )\n",
    "    history = model_ok.fit(*train_ok.unpack(), batch_size=32, epochs=30, callbacks=[callback])\n",
    "    results.append({'name': model_ok.params['name'], 'history': history})"
   ]
  },
  {
   "cell_type": "code",
   "execution_count": 40,
   "metadata": {
    "ExecuteTime": {
     "end_time": "2018-12-24T05:34:50.767613Z",
     "start_time": "2018-12-24T05:34:50.649351Z"
    },
    "scrolled": false
   },
   "outputs": [
    {
     "name": "stderr",
     "output_type": "stream",
     "text": [
      "Session output file 'quick_start_chart.html' already exists, will be overwritten.\n"
     ]
    },
    {
     "data": {
      "text/html": [
       "\n",
       "\n",
       "\n",
       "\n",
       "<!DOCTYPE html>\n",
       "<html lang=\"en\">\n",
       "  \n",
       "  <head>\n",
       "    \n",
       "      <meta charset=\"utf-8\">\n",
       "      <title>Bokeh Plot</title>\n",
       "      \n",
       "      \n",
       "        \n",
       "          \n",
       "        <link rel=\"stylesheet\" href=\"https://cdn.pydata.org/bokeh/release/bokeh-1.0.2.min.css\" type=\"text/css\" />\n",
       "        \n",
       "        \n",
       "          \n",
       "        <script type=\"text/javascript\" src=\"https://cdn.pydata.org/bokeh/release/bokeh-1.0.2.min.js\"></script>\n",
       "        <script type=\"text/javascript\">\n",
       "            Bokeh.set_log_level(\"info\");\n",
       "        </script>\n",
       "        \n",
       "      \n",
       "      \n",
       "    \n",
       "  </head>\n",
       "  \n",
       "  \n",
       "  <body>\n",
       "    \n",
       "      \n",
       "        \n",
       "          \n",
       "          \n",
       "            \n",
       "              <div class=\"bk-root\" id=\"63dfd6a0-5e09-4df5-ab8e-31d66dc35c94\"></div>\n",
       "            \n",
       "          \n",
       "        \n",
       "      \n",
       "      \n",
       "        <script type=\"application/json\" id=\"2924\">\n",
       "          {\"804c87ff-28a3-42b1-b877-ccb526bfad3e\":{\"roots\":{\"references\":[{\"attributes\":{},\"id\":\"2508\",\"type\":\"PanTool\"},{\"attributes\":{},\"id\":\"2576\",\"type\":\"BasicTicker\"},{\"attributes\":{},\"id\":\"2650\",\"type\":\"Selection\"},{\"attributes\":{\"callback\":null},\"id\":\"2490\",\"type\":\"DataRange1d\"},{\"attributes\":{},\"id\":\"2494\",\"type\":\"LinearScale\"},{\"attributes\":{\"data_source\":{\"id\":\"2596\",\"type\":\"ColumnDataSource\"},\"glyph\":{\"id\":\"2597\",\"type\":\"Line\"},\"hover_glyph\":null,\"muted_glyph\":null,\"nonselection_glyph\":{\"id\":\"2598\",\"type\":\"Line\"},\"selection_glyph\":null,\"view\":{\"id\":\"2600\",\"type\":\"CDSView\"}},\"id\":\"2599\",\"type\":\"GlyphRenderer\"},{\"attributes\":{},\"id\":\"2535\",\"type\":\"BasicTicker\"},{\"attributes\":{\"overlay\":{\"id\":\"2552\",\"type\":\"BoxAnnotation\"}},\"id\":\"2546\",\"type\":\"BoxZoomTool\"},{\"attributes\":{},\"id\":\"2584\",\"type\":\"ResetTool\"},{\"attributes\":{},\"id\":\"2649\",\"type\":\"UnionRenderers\"},{\"attributes\":{\"plot\":null,\"text\":\"normalized_discounted_cumulative_gain@1(0)\"},\"id\":\"2559\",\"type\":\"Title\"},{\"attributes\":{\"line_alpha\":0.1,\"line_color\":\"#1f77b4\",\"line_width\":2,\"x\":{\"field\":\"x\"},\"y\":{\"field\":\"y\"}},\"id\":\"2598\",\"type\":\"Line\"},{\"attributes\":{\"source\":{\"id\":\"2639\",\"type\":\"ColumnDataSource\"}},\"id\":\"2643\",\"type\":\"CDSView\"},{\"attributes\":{\"formatter\":{\"id\":\"2605\",\"type\":\"BasicTickFormatter\"},\"plot\":{\"id\":\"2488\",\"subtype\":\"Figure\",\"type\":\"Plot\"},\"ticker\":{\"id\":\"2504\",\"type\":\"BasicTicker\"}},\"id\":\"2503\",\"type\":\"LinearAxis\"},{\"attributes\":{\"callback\":null},\"id\":\"2528\",\"type\":\"DataRange1d\"},{\"attributes\":{\"data_source\":{\"id\":\"2639\",\"type\":\"ColumnDataSource\"},\"glyph\":{\"id\":\"2640\",\"type\":\"Line\"},\"hover_glyph\":null,\"muted_glyph\":null,\"nonselection_glyph\":{\"id\":\"2641\",\"type\":\"Line\"},\"selection_glyph\":null,\"view\":{\"id\":\"2643\",\"type\":\"CDSView\"}},\"id\":\"2642\",\"type\":\"GlyphRenderer\"},{\"attributes\":{},\"id\":\"2540\",\"type\":\"BasicTicker\"},{\"attributes\":{\"below\":[{\"id\":\"2570\",\"type\":\"LinearAxis\"}],\"left\":[{\"id\":\"2575\",\"type\":\"LinearAxis\"}],\"plot_height\":400,\"plot_width\":800,\"renderers\":[{\"id\":\"2570\",\"type\":\"LinearAxis\"},{\"id\":\"2574\",\"type\":\"Grid\"},{\"id\":\"2575\",\"type\":\"LinearAxis\"},{\"id\":\"2579\",\"type\":\"Grid\"},{\"id\":\"2588\",\"type\":\"BoxAnnotation\"},{\"id\":\"2665\",\"type\":\"Legend\"},{\"id\":\"2657\",\"type\":\"GlyphRenderer\"},{\"id\":\"2671\",\"type\":\"GlyphRenderer\"}],\"sizing_mode\":\"fixed\",\"title\":{\"id\":\"2559\",\"type\":\"Title\"},\"toolbar\":{\"id\":\"2586\",\"type\":\"Toolbar\"},\"x_range\":{\"id\":\"2562\",\"type\":\"DataRange1d\"},\"x_scale\":{\"id\":\"2566\",\"type\":\"LinearScale\"},\"y_range\":{\"id\":\"2564\",\"type\":\"DataRange1d\"},\"y_scale\":{\"id\":\"2568\",\"type\":\"LinearScale\"}},\"id\":\"2560\",\"subtype\":\"Figure\",\"type\":\"Plot\"},{\"attributes\":{},\"id\":\"2701\",\"type\":\"UnionRenderers\"},{\"attributes\":{\"line_alpha\":0.1,\"line_color\":\"#1f77b4\",\"line_width\":2,\"x\":{\"field\":\"x\"},\"y\":{\"field\":\"y\"}},\"id\":\"2641\",\"type\":\"Line\"},{\"attributes\":{},\"id\":\"2583\",\"type\":\"SaveTool\"},{\"attributes\":{\"plot\":null,\"text\":\"loss\"},\"id\":\"2487\",\"type\":\"Title\"},{\"attributes\":{},\"id\":\"2547\",\"type\":\"SaveTool\"},{\"attributes\":{\"callback\":null,\"data\":{\"x\":[0,1,2,3,4,5,6,7,8,9,10,11,12,13,14,15,16,17,18,19,20,21,22,23,24,25,26,27,28,29],\"y\":[0.1746031746031746,0.16666666666666666,0.15714285714285714,0.11587301587301588,0.12857142857142856,0.06349206349206349,0.06984126984126984,0.0761904761904762,0.0761904761904762,0.07936507936507936,0.08095238095238096,0.08412698412698413,0.0746031746031746,0.08095238095238096,0.08571428571428572,0.0761904761904762,0.07777777777777778,0.07777777777777778,0.0746031746031746,0.09523809523809523,0.0873015873015873,0.08253968253968254,0.0761904761904762,0.08412698412698413,0.07301587301587302,0.07301587301587302,0.07301587301587302,0.07301587301587302,0.07301587301587302,0.0761904761904762]},\"selected\":{\"id\":\"2679\",\"type\":\"Selection\"},\"selection_policy\":{\"id\":\"2678\",\"type\":\"UnionRenderers\"}},\"id\":\"2654\",\"type\":\"ColumnDataSource\"},{\"attributes\":{\"line_alpha\":0.5,\"line_color\":\"#ff7f0e\",\"line_width\":2,\"x\":{\"field\":\"x\"},\"y\":{\"field\":\"y\"}},\"id\":\"2640\",\"type\":\"Line\"},{\"attributes\":{\"line_alpha\":0.5,\"line_color\":\"#1f77b4\",\"line_width\":2,\"x\":{\"field\":\"x\"},\"y\":{\"field\":\"y\"}},\"id\":\"2597\",\"type\":\"Line\"},{\"attributes\":{\"label\":{\"value\":\"DUETModel\"},\"renderers\":[{\"id\":\"2671\",\"type\":\"GlyphRenderer\"}]},\"id\":\"2681\",\"type\":\"LegendItem\"},{\"attributes\":{\"callback\":null},\"id\":\"2564\",\"type\":\"DataRange1d\"},{\"attributes\":{\"callback\":null,\"data\":{\"x\":[0,1,2,3,4,5,6,7,8,9,10,11,12,13,14,15,16,17,18,19,20,21,22,23,24,25,26,27,28,29],\"y\":[0.0642754737497155,0.0853802306675491,0.07770281441924437,0.08267421240637887,0.08087797226271067,0.09146264196805885,0.0915023094519324,0.0929124889136766,0.09157652076963065,0.08662499476988905,0.09246553176243184,0.08554053568553167,0.0900276383399155,0.09058262780080874,0.08687144766087895,0.0907298293004436,0.09000840478135108,0.08743586040854028,0.08582985049354827,0.08661055232305093,0.08675169055939001,0.08902730009547896,0.09160517938262527,0.08924700657398878,0.08877299998173735,0.09229391979568936,0.09112931406589188,0.08685983119916713,0.08811758188187685,0.08705001252373624]},\"selected\":{\"id\":\"2707\",\"type\":\"Selection\"},\"selection_policy\":{\"id\":\"2706\",\"type\":\"UnionRenderers\"}},\"id\":\"2639\",\"type\":\"ColumnDataSource\"},{\"attributes\":{\"label\":{\"value\":\"DSSMModel\"},\"renderers\":[{\"id\":\"2628\",\"type\":\"GlyphRenderer\"}]},\"id\":\"2637\",\"type\":\"LegendItem\"},{\"attributes\":{},\"id\":\"2513\",\"type\":\"HelpTool\"},{\"attributes\":{},\"id\":\"2678\",\"type\":\"UnionRenderers\"},{\"attributes\":{\"items\":[{\"id\":\"2637\",\"type\":\"LegendItem\"},{\"id\":\"2652\",\"type\":\"LegendItem\"}],\"plot\":{\"id\":\"2524\",\"subtype\":\"Figure\",\"type\":\"Plot\"}},\"id\":\"2636\",\"type\":\"Legend\"},{\"attributes\":{\"callback\":null},\"id\":\"2492\",\"type\":\"DataRange1d\"},{\"attributes\":{\"label\":{\"value\":\"DUETModel\"},\"renderers\":[{\"id\":\"2642\",\"type\":\"GlyphRenderer\"}]},\"id\":\"2652\",\"type\":\"LegendItem\"},{\"attributes\":{},\"id\":\"2544\",\"type\":\"PanTool\"},{\"attributes\":{},\"id\":\"2711\",\"type\":\"UnionRenderers\"},{\"attributes\":{\"formatter\":{\"id\":\"2661\",\"type\":\"BasicTickFormatter\"},\"plot\":{\"id\":\"2560\",\"subtype\":\"Figure\",\"type\":\"Plot\"},\"ticker\":{\"id\":\"2571\",\"type\":\"BasicTicker\"}},\"id\":\"2570\",\"type\":\"LinearAxis\"},{\"attributes\":{\"source\":{\"id\":\"2610\",\"type\":\"ColumnDataSource\"}},\"id\":\"2614\",\"type\":\"CDSView\"},{\"attributes\":{\"callback\":null},\"id\":\"2526\",\"type\":\"DataRange1d\"},{\"attributes\":{},\"id\":\"2566\",\"type\":\"LinearScale\"},{\"attributes\":{},\"id\":\"2634\",\"type\":\"BasicTickFormatter\"},{\"attributes\":{\"formatter\":{\"id\":\"2603\",\"type\":\"BasicTickFormatter\"},\"plot\":{\"id\":\"2488\",\"subtype\":\"Figure\",\"type\":\"Plot\"},\"ticker\":{\"id\":\"2499\",\"type\":\"BasicTicker\"}},\"id\":\"2498\",\"type\":\"LinearAxis\"},{\"attributes\":{\"plot\":{\"id\":\"2524\",\"subtype\":\"Figure\",\"type\":\"Plot\"},\"ticker\":{\"id\":\"2535\",\"type\":\"BasicTicker\"}},\"id\":\"2538\",\"type\":\"Grid\"},{\"attributes\":{},\"id\":\"2712\",\"type\":\"Selection\"},{\"attributes\":{\"active_drag\":\"auto\",\"active_inspect\":\"auto\",\"active_multi\":null,\"active_scroll\":\"auto\",\"active_tap\":\"auto\",\"tools\":[{\"id\":\"2580\",\"type\":\"PanTool\"},{\"id\":\"2581\",\"type\":\"WheelZoomTool\"},{\"id\":\"2582\",\"type\":\"BoxZoomTool\"},{\"id\":\"2583\",\"type\":\"SaveTool\"},{\"id\":\"2584\",\"type\":\"ResetTool\"},{\"id\":\"2585\",\"type\":\"HelpTool\"},{\"id\":\"2595\",\"type\":\"HoverTool\"},{\"id\":\"2595\",\"type\":\"HoverTool\"}]},\"id\":\"2586\",\"type\":\"Toolbar\"},{\"attributes\":{},\"id\":\"2632\",\"type\":\"BasicTickFormatter\"},{\"attributes\":{\"active_drag\":\"auto\",\"active_inspect\":\"auto\",\"active_multi\":null,\"active_scroll\":\"auto\",\"active_tap\":\"auto\",\"tools\":[{\"id\":\"2544\",\"type\":\"PanTool\"},{\"id\":\"2545\",\"type\":\"WheelZoomTool\"},{\"id\":\"2546\",\"type\":\"BoxZoomTool\"},{\"id\":\"2547\",\"type\":\"SaveTool\"},{\"id\":\"2548\",\"type\":\"ResetTool\"},{\"id\":\"2549\",\"type\":\"HelpTool\"},{\"id\":\"2595\",\"type\":\"HoverTool\"},{\"id\":\"2595\",\"type\":\"HoverTool\"}]},\"id\":\"2550\",\"type\":\"Toolbar\"},{\"attributes\":{},\"id\":\"2620\",\"type\":\"UnionRenderers\"},{\"attributes\":{\"source\":{\"id\":\"2625\",\"type\":\"ColumnDataSource\"}},\"id\":\"2629\",\"type\":\"CDSView\"},{\"attributes\":{},\"id\":\"2511\",\"type\":\"SaveTool\"},{\"attributes\":{\"label\":{\"value\":\"DSSMModel\"},\"renderers\":[{\"id\":\"2599\",\"type\":\"GlyphRenderer\"}]},\"id\":\"2608\",\"type\":\"LegendItem\"},{\"attributes\":{\"data_source\":{\"id\":\"2625\",\"type\":\"ColumnDataSource\"},\"glyph\":{\"id\":\"2626\",\"type\":\"Line\"},\"hover_glyph\":null,\"muted_glyph\":null,\"nonselection_glyph\":{\"id\":\"2627\",\"type\":\"Line\"},\"selection_glyph\":null,\"view\":{\"id\":\"2629\",\"type\":\"CDSView\"}},\"id\":\"2628\",\"type\":\"GlyphRenderer\"},{\"attributes\":{\"line_alpha\":0.1,\"line_color\":\"#1f77b4\",\"line_width\":2,\"x\":{\"field\":\"x\"},\"y\":{\"field\":\"y\"}},\"id\":\"2627\",\"type\":\"Line\"},{\"attributes\":{\"callback\":null,\"data\":{\"x\":[0,1,2,3,4,5,6,7,8,9,10,11,12,13,14,15,16,17,18,19,20,21,22,23,24,25,26,27,28,29],\"y\":[0.04573515407677723,0.04540985308592424,0.04534111720886864,0.04548215075713345,0.045580045443742084,0.04575127039648022,0.04598301723648163,0.046364060869261356,0.04707823791940123,0.0464157161173125,0.04755565451983146,0.0475328935808493,0.04895859896074408,0.05026398205665532,0.049222195965644186,0.04963607121285775,0.050977205018286925,0.05408651745732584,0.054228870165238904,0.04966422416966596,0.052723937245796056,0.052657020494507524,0.058936953230318175,0.0515609189595094,0.05536005656223347,0.05671232952410447,0.057626653311590184,0.057821591140457505,0.0581336847589911,0.058534654521275535]},\"selected\":{\"id\":\"2621\",\"type\":\"Selection\"},\"selection_policy\":{\"id\":\"2620\",\"type\":\"UnionRenderers\"}},\"id\":\"2596\",\"type\":\"ColumnDataSource\"},{\"attributes\":{\"bottom_units\":\"screen\",\"fill_alpha\":{\"value\":0.5},\"fill_color\":{\"value\":\"lightgrey\"},\"left_units\":\"screen\",\"level\":\"overlay\",\"line_alpha\":{\"value\":1.0},\"line_color\":{\"value\":\"black\"},\"line_dash\":[4,4],\"line_width\":{\"value\":2},\"plot\":null,\"render_mode\":\"css\",\"right_units\":\"screen\",\"top_units\":\"screen\"},\"id\":\"2552\",\"type\":\"BoxAnnotation\"},{\"attributes\":{},\"id\":\"2548\",\"type\":\"ResetTool\"},{\"attributes\":{\"line_alpha\":0.5,\"line_color\":\"#1f77b4\",\"line_width\":2,\"x\":{\"field\":\"x\"},\"y\":{\"field\":\"y\"}},\"id\":\"2626\",\"type\":\"Line\"},{\"attributes\":{},\"id\":\"2707\",\"type\":\"Selection\"},{\"attributes\":{\"dimension\":1,\"plot\":{\"id\":\"2488\",\"subtype\":\"Figure\",\"type\":\"Plot\"},\"ticker\":{\"id\":\"2504\",\"type\":\"BasicTicker\"}},\"id\":\"2507\",\"type\":\"Grid\"},{\"attributes\":{\"data_source\":{\"id\":\"2610\",\"type\":\"ColumnDataSource\"},\"glyph\":{\"id\":\"2611\",\"type\":\"Line\"},\"hover_glyph\":null,\"muted_glyph\":null,\"nonselection_glyph\":{\"id\":\"2612\",\"type\":\"Line\"},\"selection_glyph\":null,\"view\":{\"id\":\"2614\",\"type\":\"CDSView\"}},\"id\":\"2613\",\"type\":\"GlyphRenderer\"},{\"attributes\":{\"callback\":null,\"tooltips\":[[\"x\",\"$x\"],[\"y\",\"$y\"]]},\"id\":\"2595\",\"type\":\"HoverTool\"},{\"attributes\":{},\"id\":\"2530\",\"type\":\"LinearScale\"},{\"attributes\":{},\"id\":\"2532\",\"type\":\"LinearScale\"},{\"attributes\":{},\"id\":\"2504\",\"type\":\"BasicTicker\"},{\"attributes\":{\"data_source\":{\"id\":\"2668\",\"type\":\"ColumnDataSource\"},\"glyph\":{\"id\":\"2669\",\"type\":\"Line\"},\"hover_glyph\":null,\"muted_glyph\":null,\"nonselection_glyph\":{\"id\":\"2670\",\"type\":\"Line\"},\"selection_glyph\":null,\"view\":{\"id\":\"2672\",\"type\":\"CDSView\"}},\"id\":\"2671\",\"type\":\"GlyphRenderer\"},{\"attributes\":{\"callback\":null,\"data\":{\"x\":[0,1,2,3,4,5,6,7,8,9,10,11,12,13,14,15,16,17,18,19,20,21,22,23,24,25,26,27,28,29],\"y\":[0.11091676662101496,0.10779479070163328,0.10272631703734555,0.09033682176264815,0.09711404090105275,0.07193871948800622,0.07406065160127859,0.07706410294916147,0.07863353558750011,0.07769206266002712,0.08042111460711401,0.08216389422281078,0.07863146577283261,0.07986516992163879,0.07979717563116355,0.07589129916979871,0.07992326269369414,0.07733022378155854,0.07834189872536061,0.0850330347243812,0.08372968160368038,0.0813573662106337,0.08021341783645959,0.08392762269774716,0.07948635318447929,0.08000383542867946,0.07761854938790388,0.07732948912164196,0.07682113291554148,0.0780362182158336]},\"selected\":{\"id\":\"2650\",\"type\":\"Selection\"},\"selection_policy\":{\"id\":\"2649\",\"type\":\"UnionRenderers\"}},\"id\":\"2625\",\"type\":\"ColumnDataSource\"},{\"attributes\":{\"line_alpha\":0.5,\"line_color\":\"#ff7f0e\",\"line_width\":2,\"x\":{\"field\":\"x\"},\"y\":{\"field\":\"y\"}},\"id\":\"2611\",\"type\":\"Line\"},{\"attributes\":{\"formatter\":{\"id\":\"2634\",\"type\":\"BasicTickFormatter\"},\"plot\":{\"id\":\"2524\",\"subtype\":\"Figure\",\"type\":\"Plot\"},\"ticker\":{\"id\":\"2540\",\"type\":\"BasicTicker\"}},\"id\":\"2539\",\"type\":\"LinearAxis\"},{\"attributes\":{},\"id\":\"2549\",\"type\":\"HelpTool\"},{\"attributes\":{\"below\":[{\"id\":\"2498\",\"type\":\"LinearAxis\"}],\"left\":[{\"id\":\"2503\",\"type\":\"LinearAxis\"}],\"plot_height\":400,\"plot_width\":800,\"renderers\":[{\"id\":\"2498\",\"type\":\"LinearAxis\"},{\"id\":\"2502\",\"type\":\"Grid\"},{\"id\":\"2503\",\"type\":\"LinearAxis\"},{\"id\":\"2507\",\"type\":\"Grid\"},{\"id\":\"2516\",\"type\":\"BoxAnnotation\"},{\"id\":\"2607\",\"type\":\"Legend\"},{\"id\":\"2599\",\"type\":\"GlyphRenderer\"},{\"id\":\"2613\",\"type\":\"GlyphRenderer\"}],\"sizing_mode\":\"fixed\",\"title\":{\"id\":\"2487\",\"type\":\"Title\"},\"toolbar\":{\"id\":\"2514\",\"type\":\"Toolbar\"},\"x_range\":{\"id\":\"2490\",\"type\":\"DataRange1d\"},\"x_scale\":{\"id\":\"2494\",\"type\":\"LinearScale\"},\"y_range\":{\"id\":\"2492\",\"type\":\"DataRange1d\"},\"y_scale\":{\"id\":\"2496\",\"type\":\"LinearScale\"}},\"id\":\"2488\",\"subtype\":\"Figure\",\"type\":\"Plot\"},{\"attributes\":{},\"id\":\"2568\",\"type\":\"LinearScale\"},{\"attributes\":{\"children\":[{\"id\":\"2488\",\"subtype\":\"Figure\",\"type\":\"Plot\"},{\"id\":\"2524\",\"subtype\":\"Figure\",\"type\":\"Plot\"},{\"id\":\"2560\",\"subtype\":\"Figure\",\"type\":\"Plot\"}]},\"id\":\"2683\",\"type\":\"Column\"},{\"attributes\":{\"line_alpha\":0.1,\"line_color\":\"#1f77b4\",\"line_width\":2,\"x\":{\"field\":\"x\"},\"y\":{\"field\":\"y\"}},\"id\":\"2670\",\"type\":\"Line\"},{\"attributes\":{\"callback\":null,\"data\":{\"x\":[0,1,2,3,4,5,6,7,8,9,10,11,12,13,14,15,16,17,18,19,20,21,22,23,24,25,26,27,28,29],\"y\":[0.09973151175374685,0.15287998902439057,0.05414747220188126,0.052749002063640825,0.05207998231735551,0.048016610680217446,0.04803384675055333,0.04985104666193222,0.04786023695906289,0.0490292750294104,0.04949786032850326,0.04686378083387335,0.04748857822914853,0.04756391306692202,0.04746293556493353,0.04653855653673391,0.04698789007645015,0.04724792461718041,0.0480207904973515,0.04733544497697707,0.048494590615684334,0.04781981023300154,0.04994479271518085,0.048251479622914636,0.04876034025850835,0.050018946701713134,0.050296382224485715,0.04783059862497743,0.047248411787207255,0.0485196242229544]},\"selected\":{\"id\":\"2702\",\"type\":\"Selection\"},\"selection_policy\":{\"id\":\"2701\",\"type\":\"UnionRenderers\"}},\"id\":\"2610\",\"type\":\"ColumnDataSource\"},{\"attributes\":{},\"id\":\"2496\",\"type\":\"LinearScale\"},{\"attributes\":{\"data_source\":{\"id\":\"2654\",\"type\":\"ColumnDataSource\"},\"glyph\":{\"id\":\"2655\",\"type\":\"Line\"},\"hover_glyph\":null,\"muted_glyph\":null,\"nonselection_glyph\":{\"id\":\"2656\",\"type\":\"Line\"},\"selection_glyph\":null,\"view\":{\"id\":\"2658\",\"type\":\"CDSView\"}},\"id\":\"2657\",\"type\":\"GlyphRenderer\"},{\"attributes\":{\"label\":{\"value\":\"DUETModel\"},\"renderers\":[{\"id\":\"2613\",\"type\":\"GlyphRenderer\"}]},\"id\":\"2623\",\"type\":\"LegendItem\"},{\"attributes\":{},\"id\":\"2585\",\"type\":\"HelpTool\"},{\"attributes\":{},\"id\":\"2512\",\"type\":\"ResetTool\"},{\"attributes\":{\"callback\":null},\"id\":\"2562\",\"type\":\"DataRange1d\"},{\"attributes\":{\"source\":{\"id\":\"2596\",\"type\":\"ColumnDataSource\"}},\"id\":\"2600\",\"type\":\"CDSView\"},{\"attributes\":{},\"id\":\"2621\",\"type\":\"Selection\"},{\"attributes\":{},\"id\":\"2679\",\"type\":\"Selection\"},{\"attributes\":{\"bottom_units\":\"screen\",\"fill_alpha\":{\"value\":0.5},\"fill_color\":{\"value\":\"lightgrey\"},\"left_units\":\"screen\",\"level\":\"overlay\",\"line_alpha\":{\"value\":1.0},\"line_color\":{\"value\":\"black\"},\"line_dash\":[4,4],\"line_width\":{\"value\":2},\"plot\":null,\"render_mode\":\"css\",\"right_units\":\"screen\",\"top_units\":\"screen\"},\"id\":\"2588\",\"type\":\"BoxAnnotation\"},{\"attributes\":{\"overlay\":{\"id\":\"2516\",\"type\":\"BoxAnnotation\"}},\"id\":\"2510\",\"type\":\"BoxZoomTool\"},{\"attributes\":{\"plot\":{\"id\":\"2560\",\"subtype\":\"Figure\",\"type\":\"Plot\"},\"ticker\":{\"id\":\"2571\",\"type\":\"BasicTicker\"}},\"id\":\"2574\",\"type\":\"Grid\"},{\"attributes\":{},\"id\":\"2499\",\"type\":\"BasicTicker\"},{\"attributes\":{\"line_alpha\":0.5,\"line_color\":\"#1f77b4\",\"line_width\":2,\"x\":{\"field\":\"x\"},\"y\":{\"field\":\"y\"}},\"id\":\"2655\",\"type\":\"Line\"},{\"attributes\":{},\"id\":\"2603\",\"type\":\"BasicTickFormatter\"},{\"attributes\":{\"line_alpha\":0.5,\"line_color\":\"#ff7f0e\",\"line_width\":2,\"x\":{\"field\":\"x\"},\"y\":{\"field\":\"y\"}},\"id\":\"2669\",\"type\":\"Line\"},{\"attributes\":{\"callback\":null,\"data\":{\"x\":[0,1,2,3,4,5,6,7,8,9,10,11,12,13,14,15,16,17,18,19,20,21,22,23,24,25,26,27,28,29],\"y\":[0.047619047619047616,0.0873015873015873,0.07301587301587302,0.08571428571428572,0.09206349206349207,0.11428571428571428,0.11428571428571428,0.12222222222222222,0.12222222222222222,0.1,0.11587301587301588,0.09047619047619047,0.10952380952380952,0.10793650793650794,0.1,0.1126984126984127,0.10634920634920635,0.10158730158730159,0.09523809523809523,0.09523809523809523,0.10317460317460317,0.10476190476190476,0.1126984126984127,0.10793650793650794,0.10634920634920635,0.10634920634920635,0.10793650793650794,0.1,0.10476190476190476,0.1]},\"selected\":{\"id\":\"2712\",\"type\":\"Selection\"},\"selection_policy\":{\"id\":\"2711\",\"type\":\"UnionRenderers\"}},\"id\":\"2668\",\"type\":\"ColumnDataSource\"},{\"attributes\":{\"line_alpha\":0.1,\"line_color\":\"#1f77b4\",\"line_width\":2,\"x\":{\"field\":\"x\"},\"y\":{\"field\":\"y\"}},\"id\":\"2612\",\"type\":\"Line\"},{\"attributes\":{\"active_drag\":\"auto\",\"active_inspect\":\"auto\",\"active_multi\":null,\"active_scroll\":\"auto\",\"active_tap\":\"auto\",\"tools\":[{\"id\":\"2508\",\"type\":\"PanTool\"},{\"id\":\"2509\",\"type\":\"WheelZoomTool\"},{\"id\":\"2510\",\"type\":\"BoxZoomTool\"},{\"id\":\"2511\",\"type\":\"SaveTool\"},{\"id\":\"2512\",\"type\":\"ResetTool\"},{\"id\":\"2513\",\"type\":\"HelpTool\"},{\"id\":\"2595\",\"type\":\"HoverTool\"},{\"id\":\"2595\",\"type\":\"HoverTool\"}]},\"id\":\"2514\",\"type\":\"Toolbar\"},{\"attributes\":{},\"id\":\"2605\",\"type\":\"BasicTickFormatter\"},{\"attributes\":{},\"id\":\"2571\",\"type\":\"BasicTicker\"},{\"attributes\":{\"formatter\":{\"id\":\"2632\",\"type\":\"BasicTickFormatter\"},\"plot\":{\"id\":\"2524\",\"subtype\":\"Figure\",\"type\":\"Plot\"},\"ticker\":{\"id\":\"2535\",\"type\":\"BasicTicker\"}},\"id\":\"2534\",\"type\":\"LinearAxis\"},{\"attributes\":{},\"id\":\"2509\",\"type\":\"WheelZoomTool\"},{\"attributes\":{},\"id\":\"2702\",\"type\":\"Selection\"},{\"attributes\":{\"label\":{\"value\":\"DSSMModel\"},\"renderers\":[{\"id\":\"2657\",\"type\":\"GlyphRenderer\"}]},\"id\":\"2666\",\"type\":\"LegendItem\"},{\"attributes\":{\"formatter\":{\"id\":\"2663\",\"type\":\"BasicTickFormatter\"},\"plot\":{\"id\":\"2560\",\"subtype\":\"Figure\",\"type\":\"Plot\"},\"ticker\":{\"id\":\"2576\",\"type\":\"BasicTicker\"}},\"id\":\"2575\",\"type\":\"LinearAxis\"},{\"attributes\":{},\"id\":\"2706\",\"type\":\"UnionRenderers\"},{\"attributes\":{\"items\":[{\"id\":\"2666\",\"type\":\"LegendItem\"},{\"id\":\"2681\",\"type\":\"LegendItem\"}],\"plot\":{\"id\":\"2560\",\"subtype\":\"Figure\",\"type\":\"Plot\"}},\"id\":\"2665\",\"type\":\"Legend\"},{\"attributes\":{},\"id\":\"2580\",\"type\":\"PanTool\"},{\"attributes\":{},\"id\":\"2663\",\"type\":\"BasicTickFormatter\"},{\"attributes\":{\"overlay\":{\"id\":\"2588\",\"type\":\"BoxAnnotation\"}},\"id\":\"2582\",\"type\":\"BoxZoomTool\"},{\"attributes\":{\"below\":[{\"id\":\"2534\",\"type\":\"LinearAxis\"}],\"left\":[{\"id\":\"2539\",\"type\":\"LinearAxis\"}],\"plot_height\":400,\"plot_width\":800,\"renderers\":[{\"id\":\"2534\",\"type\":\"LinearAxis\"},{\"id\":\"2538\",\"type\":\"Grid\"},{\"id\":\"2539\",\"type\":\"LinearAxis\"},{\"id\":\"2543\",\"type\":\"Grid\"},{\"id\":\"2552\",\"type\":\"BoxAnnotation\"},{\"id\":\"2636\",\"type\":\"Legend\"},{\"id\":\"2628\",\"type\":\"GlyphRenderer\"},{\"id\":\"2642\",\"type\":\"GlyphRenderer\"}],\"sizing_mode\":\"fixed\",\"title\":{\"id\":\"2523\",\"type\":\"Title\"},\"toolbar\":{\"id\":\"2550\",\"type\":\"Toolbar\"},\"x_range\":{\"id\":\"2526\",\"type\":\"DataRange1d\"},\"x_scale\":{\"id\":\"2530\",\"type\":\"LinearScale\"},\"y_range\":{\"id\":\"2528\",\"type\":\"DataRange1d\"},\"y_scale\":{\"id\":\"2532\",\"type\":\"LinearScale\"}},\"id\":\"2524\",\"subtype\":\"Figure\",\"type\":\"Plot\"},{\"attributes\":{\"dimension\":1,\"plot\":{\"id\":\"2560\",\"subtype\":\"Figure\",\"type\":\"Plot\"},\"ticker\":{\"id\":\"2576\",\"type\":\"BasicTicker\"}},\"id\":\"2579\",\"type\":\"Grid\"},{\"attributes\":{\"line_alpha\":0.1,\"line_color\":\"#1f77b4\",\"line_width\":2,\"x\":{\"field\":\"x\"},\"y\":{\"field\":\"y\"}},\"id\":\"2656\",\"type\":\"Line\"},{\"attributes\":{\"plot\":{\"id\":\"2488\",\"subtype\":\"Figure\",\"type\":\"Plot\"},\"ticker\":{\"id\":\"2499\",\"type\":\"BasicTicker\"}},\"id\":\"2502\",\"type\":\"Grid\"},{\"attributes\":{\"source\":{\"id\":\"2654\",\"type\":\"ColumnDataSource\"}},\"id\":\"2658\",\"type\":\"CDSView\"},{\"attributes\":{\"items\":[{\"id\":\"2608\",\"type\":\"LegendItem\"},{\"id\":\"2623\",\"type\":\"LegendItem\"}],\"plot\":{\"id\":\"2488\",\"subtype\":\"Figure\",\"type\":\"Plot\"}},\"id\":\"2607\",\"type\":\"Legend\"},{\"attributes\":{},\"id\":\"2545\",\"type\":\"WheelZoomTool\"},{\"attributes\":{\"source\":{\"id\":\"2668\",\"type\":\"ColumnDataSource\"}},\"id\":\"2672\",\"type\":\"CDSView\"},{\"attributes\":{},\"id\":\"2581\",\"type\":\"WheelZoomTool\"},{\"attributes\":{\"plot\":null,\"text\":\"average_precision(0)\"},\"id\":\"2523\",\"type\":\"Title\"},{\"attributes\":{},\"id\":\"2661\",\"type\":\"BasicTickFormatter\"},{\"attributes\":{\"dimension\":1,\"plot\":{\"id\":\"2524\",\"subtype\":\"Figure\",\"type\":\"Plot\"},\"ticker\":{\"id\":\"2540\",\"type\":\"BasicTicker\"}},\"id\":\"2543\",\"type\":\"Grid\"},{\"attributes\":{\"bottom_units\":\"screen\",\"fill_alpha\":{\"value\":0.5},\"fill_color\":{\"value\":\"lightgrey\"},\"left_units\":\"screen\",\"level\":\"overlay\",\"line_alpha\":{\"value\":1.0},\"line_color\":{\"value\":\"black\"},\"line_dash\":[4,4],\"line_width\":{\"value\":2},\"plot\":null,\"render_mode\":\"css\",\"right_units\":\"screen\",\"top_units\":\"screen\"},\"id\":\"2516\",\"type\":\"BoxAnnotation\"}],\"root_ids\":[\"2683\"]},\"title\":\"Bokeh Application\",\"version\":\"1.0.2\"}}\n",
       "        </script>\n",
       "        <script type=\"text/javascript\">\n",
       "          (function() {\n",
       "            var fn = function() {\n",
       "              Bokeh.safely(function() {\n",
       "                (function(root) {\n",
       "                  function embed_document(root) {\n",
       "                    \n",
       "                  var docs_json = document.getElementById('2924').textContent;\n",
       "                  var render_items = [{\"docid\":\"804c87ff-28a3-42b1-b877-ccb526bfad3e\",\"roots\":{\"2683\":\"63dfd6a0-5e09-4df5-ab8e-31d66dc35c94\"}}];\n",
       "                  root.Bokeh.embed.embed_items(docs_json, render_items);\n",
       "                \n",
       "                  }\n",
       "                  if (root.Bokeh !== undefined) {\n",
       "                    embed_document(root);\n",
       "                  } else {\n",
       "                    var attempts = 0;\n",
       "                    var timer = setInterval(function(root) {\n",
       "                      if (root.Bokeh !== undefined) {\n",
       "                        embed_document(root);\n",
       "                        clearInterval(timer);\n",
       "                      }\n",
       "                      attempts++;\n",
       "                      if (attempts > 100) {\n",
       "                        console.log(\"Bokeh: ERROR: Unable to run BokehJS code because BokehJS library is missing\");\n",
       "                        clearInterval(timer);\n",
       "                      }\n",
       "                    }, 10, root)\n",
       "                  }\n",
       "                })(window);\n",
       "              });\n",
       "            };\n",
       "            if (document.readyState != \"loading\") fn();\n",
       "            else document.addEventListener(\"DOMContentLoaded\", fn);\n",
       "          })();\n",
       "        </script>\n",
       "    \n",
       "  </body>\n",
       "  \n",
       "</html>"
      ],
      "text/plain": [
       "<IPython.core.display.HTML object>"
      ]
     },
     "execution_count": 40,
     "metadata": {},
     "output_type": "execute_result"
    }
   ],
   "source": [
    "import bokeh\n",
    "from bokeh.plotting import figure\n",
    "from bokeh.io import output_file, save\n",
    "from bokeh.layouts import column\n",
    "from bokeh.models.tools import HoverTool\n",
    "import IPython\n",
    "\n",
    "charts = {\n",
    "    metric: figure(\n",
    "        title=str(metric),\n",
    "        sizing_mode='scale_width',\n",
    "        width=800, height=400\n",
    "    ) for metric in results[0]['history'].history.keys()\n",
    "}\n",
    "hover_tool = HoverTool(tooltips=[\n",
    "    (\"x\", \"$x\"),\n",
    "    (\"y\", \"$y\")\n",
    "])\n",
    "for metric, sub_chart in charts.items():\n",
    "    lines = {}\n",
    "    for result, color in zip(results, bokeh.palettes.Category10[10]):\n",
    "        x = result['history'].epoch\n",
    "        y = result['history'].history[metric]\n",
    "        lines[result['name']] = sub_chart.line(\n",
    "            x, y, color=color, line_width=2, alpha=0.5, legend=result['name'])\n",
    "        sub_chart.add_tools(hover_tool)\n",
    "\n",
    "output_file(\"quick_start_chart.html\")\n",
    "save(column(*charts.values()))\n",
    "IPython.display.HTML(filename=\"quick_start_chart.html\")"
   ]
  }
 ],
 "metadata": {
  "hide_input": false,
  "kernelspec": {
   "display_name": "matchzoo",
   "language": "python",
   "name": "matchzoo"
  },
  "language_info": {
   "codemirror_mode": {
    "name": "ipython",
    "version": 3
   },
   "file_extension": ".py",
   "mimetype": "text/x-python",
   "name": "python",
   "nbconvert_exporter": "python",
   "pygments_lexer": "ipython3",
   "version": "3.6.3"
  },
  "toc": {
   "nav_menu": {},
   "number_sections": true,
   "sideBar": true,
   "skip_h1_title": false,
   "toc_cell": false,
   "toc_position": {},
   "toc_section_display": "block",
   "toc_window_display": false
  },
  "varInspector": {
   "cols": {
    "lenName": 16,
    "lenType": 16,
    "lenVar": 40
   },
   "kernels_config": {
    "python": {
     "delete_cmd_postfix": "",
     "delete_cmd_prefix": "del ",
     "library": "var_list.py",
     "varRefreshCmd": "print(var_dic_list())"
    },
    "r": {
     "delete_cmd_postfix": ") ",
     "delete_cmd_prefix": "rm(",
     "library": "var_list.r",
     "varRefreshCmd": "cat(var_dic_list()) "
    }
   },
   "types_to_exclude": [
    "module",
    "function",
    "builtin_function_or_method",
    "instance",
    "_Feature"
   ],
   "window_display": false
  }
 },
 "nbformat": 4,
 "nbformat_minor": 2
}
