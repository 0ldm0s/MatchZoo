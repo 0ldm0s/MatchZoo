{
 "cells": [
  {
   "cell_type": "code",
   "execution_count": 1,
   "metadata": {},
   "outputs": [
    {
     "name": "stderr",
     "output_type": "stream",
     "text": [
      "Using TensorFlow backend.\n",
      "/data/users/fyx/.local/python3/lib/python3.6/importlib/_bootstrap.py:219: RuntimeWarning: numpy.dtype size changed, may indicate binary incompatibility. Expected 96, got 88\n",
      "  return f(*args, **kwds)\n",
      "/data/users/fyx/.local/python3/lib/python3.6/importlib/_bootstrap.py:219: RuntimeWarning: numpy.dtype size changed, may indicate binary incompatibility. Expected 96, got 88\n",
      "  return f(*args, **kwds)\n"
     ]
    }
   ],
   "source": [
    "import keras\n",
    "import pandas as pd\n",
    "import numpy as np\n",
    "import matchzoo as mz"
   ]
  },
  {
   "cell_type": "code",
   "execution_count": 2,
   "metadata": {},
   "outputs": [],
   "source": [
    "train_pack = mz.datasets.wiki_qa.load_data('train', task='ranking')\n",
    "valid_pack = mz.datasets.wiki_qa.load_data('dev', task='ranking', filter=True)\n",
    "predict_pack = mz.datasets.wiki_qa.load_data('test', task='ranking', filter=True)"
   ]
  },
  {
   "cell_type": "code",
   "execution_count": 3,
   "metadata": {},
   "outputs": [
    {
     "name": "stderr",
     "output_type": "stream",
     "text": [
      "Processing text_left with chain_transform of TokenizeUnit => LowercaseUnit => PuncRemovalUnit: 100%|██████████| 2118/2118 [00:00<00:00, 8368.81it/s]\n",
      "Processing text_right with chain_transform of TokenizeUnit => LowercaseUnit => PuncRemovalUnit: 100%|██████████| 18841/18841 [00:04<00:00, 4675.07it/s]\n",
      "Processing text_right with append: 100%|██████████| 18841/18841 [00:00<00:00, 755214.42it/s]\n",
      "Building FrequencyFilterUnit from a datapack.: 100%|██████████| 18841/18841 [00:00<00:00, 131481.33it/s]\n",
      "Processing text_right with transform: 100%|██████████| 18841/18841 [00:00<00:00, 78172.88it/s] \n",
      "Processing text_left with extend: 100%|██████████| 2118/2118 [00:00<00:00, 564141.48it/s]\n",
      "Processing text_right with extend: 100%|██████████| 18841/18841 [00:00<00:00, 667338.43it/s]\n",
      "Building VocabularyUnit from a datapack.: 100%|██████████| 404415/404415 [00:00<00:00, 2766664.85it/s]\n",
      "Processing text_left with chain_transform of TokenizeUnit => LowercaseUnit => PuncRemovalUnit: 100%|██████████| 2118/2118 [00:00<00:00, 8583.86it/s]\n",
      "Processing text_right with chain_transform of TokenizeUnit => LowercaseUnit => PuncRemovalUnit: 100%|██████████| 18841/18841 [00:04<00:00, 4690.41it/s]\n",
      "Processing text_right with transform: 100%|██████████| 18841/18841 [00:00<00:00, 116030.14it/s]\n",
      "Processing text_left with transform: 100%|██████████| 2118/2118 [00:00<00:00, 156626.40it/s]\n",
      "Processing text_right with transform: 100%|██████████| 18841/18841 [00:00<00:00, 118853.35it/s]\n",
      "Processing length_left with len: 100%|██████████| 2118/2118 [00:00<00:00, 535185.00it/s]\n",
      "Processing length_right with len: 100%|██████████| 18841/18841 [00:00<00:00, 665108.63it/s]\n",
      "Processing text_left with transform: 100%|██████████| 2118/2118 [00:00<00:00, 119171.71it/s]\n",
      "Processing text_right with transform: 100%|██████████| 18841/18841 [00:00<00:00, 81310.86it/s]\n"
     ]
    }
   ],
   "source": [
    "preprocessor = mz.preprocessors.BasicPreprocessor(fixed_length_left=10, fixed_length_right=100, remove_stop_words=True)\n",
    "train_pack_processed = preprocessor.fit_transform(train_pack)"
   ]
  },
  {
   "cell_type": "code",
   "execution_count": 4,
   "metadata": {
    "scrolled": false
   },
   "outputs": [
    {
     "name": "stderr",
     "output_type": "stream",
     "text": [
      "Processing text_left with chain_transform of TokenizeUnit => LowercaseUnit => PuncRemovalUnit: 100%|██████████| 122/122 [00:00<00:00, 4623.12it/s]\n",
      "Processing text_right with chain_transform of TokenizeUnit => LowercaseUnit => PuncRemovalUnit: 100%|██████████| 1115/1115 [00:00<00:00, 4437.62it/s]\n",
      "Processing text_right with transform: 100%|██████████| 1115/1115 [00:00<00:00, 102172.70it/s]\n",
      "Processing text_left with transform: 100%|██████████| 122/122 [00:00<00:00, 100888.23it/s]\n",
      "Processing text_right with transform: 100%|██████████| 1115/1115 [00:00<00:00, 115804.50it/s]\n",
      "Processing length_left with len: 100%|██████████| 122/122 [00:00<00:00, 157593.19it/s]\n",
      "Processing length_right with len: 100%|██████████| 1115/1115 [00:00<00:00, 487404.79it/s]\n",
      "Processing text_left with transform: 100%|██████████| 122/122 [00:00<00:00, 73184.37it/s]\n",
      "Processing text_right with transform: 100%|██████████| 1115/1115 [00:00<00:00, 58514.43it/s]\n",
      "Processing text_left with chain_transform of TokenizeUnit => LowercaseUnit => PuncRemovalUnit: 100%|██████████| 237/237 [00:00<00:00, 8450.58it/s]\n",
      "Processing text_right with chain_transform of TokenizeUnit => LowercaseUnit => PuncRemovalUnit: 100%|██████████| 2300/2300 [00:00<00:00, 4565.38it/s]\n",
      "Processing text_right with transform: 100%|██████████| 2300/2300 [00:00<00:00, 121941.31it/s]\n",
      "Processing text_left with transform: 100%|██████████| 237/237 [00:00<00:00, 140422.38it/s]\n",
      "Processing text_right with transform: 100%|██████████| 2300/2300 [00:00<00:00, 127775.19it/s]\n",
      "Processing length_left with len: 100%|██████████| 237/237 [00:00<00:00, 246785.02it/s]\n",
      "Processing length_right with len: 100%|██████████| 2300/2300 [00:00<00:00, 542021.53it/s]\n",
      "Processing text_left with transform: 100%|██████████| 237/237 [00:00<00:00, 100226.87it/s]\n",
      "Processing text_right with transform: 100%|██████████| 2300/2300 [00:00<00:00, 14425.66it/s]\n"
     ]
    }
   ],
   "source": [
    "valid_pack_processed = preprocessor.transform(valid_pack)\n",
    "predict_pack_processed = preprocessor.transform(predict_pack)"
   ]
  },
  {
   "cell_type": "code",
   "execution_count": 5,
   "metadata": {},
   "outputs": [],
   "source": [
    "ranking_task = mz.tasks.Ranking(loss=mz.losses.RankHingeLoss())\n",
    "ranking_task.metrics = [\n",
    "    mz.metrics.NormalizedDiscountedCumulativeGain(k=3),\n",
    "    mz.metrics.NormalizedDiscountedCumulativeGain(k=5),\n",
    "    mz.metrics.MeanAveragePrecision()\n",
    "]"
   ]
  },
  {
   "cell_type": "code",
   "execution_count": 12,
   "metadata": {
    "scrolled": false
   },
   "outputs": [
    {
     "name": "stdout",
     "output_type": "stream",
     "text": [
      "Parameter \"name\" set to DRMMTKS.\n",
      "__________________________________________________________________________________________________\n",
      "Layer (type)                    Output Shape         Param #     Connected to                     \n",
      "==================================================================================================\n",
      "text_left (InputLayer)          (None, 10)           0                                            \n",
      "__________________________________________________________________________________________________\n",
      "text_right (InputLayer)         (None, 100)          0                                            \n",
      "__________________________________________________________________________________________________\n",
      "embedding (Embedding)           multiple             1667400     text_left[0][0]                  \n",
      "                                                                 text_right[0][0]                 \n",
      "__________________________________________________________________________________________________\n",
      "dot_3 (Dot)                     (None, 10, 100)      0           embedding[0][0]                  \n",
      "                                                                 embedding[1][0]                  \n",
      "__________________________________________________________________________________________________\n",
      "dense_5 (Dense)                 (None, 10, 1)        100         embedding[0][0]                  \n",
      "__________________________________________________________________________________________________\n",
      "lambda_4 (Lambda)               (None, 10, 20)       0           dot_3[0][0]                      \n",
      "__________________________________________________________________________________________________\n",
      "attention_mask (Lambda)         (None, 10, 1)        0           dense_5[0][0]                    \n",
      "__________________________________________________________________________________________________\n",
      "dense_6 (Dense)                 (None, 10, 5)        105         lambda_4[0][0]                   \n",
      "__________________________________________________________________________________________________\n",
      "attention_probs (Lambda)        (None, 10, 1)        0           attention_mask[0][0]             \n",
      "__________________________________________________________________________________________________\n",
      "dense_7 (Dense)                 (None, 10, 1)        6           dense_6[0][0]                    \n",
      "__________________________________________________________________________________________________\n",
      "dot_4 (Dot)                     (None, 1, 1)         0           attention_probs[0][0]            \n",
      "                                                                 dense_7[0][0]                    \n",
      "__________________________________________________________________________________________________\n",
      "flatten_2 (Flatten)             (None, 1)            0           dot_4[0][0]                      \n",
      "__________________________________________________________________________________________________\n",
      "dense_8 (Dense)                 (None, 1)            2           flatten_2[0][0]                  \n",
      "==================================================================================================\n",
      "Total params: 1,667,613\n",
      "Trainable params: 1,667,613\n",
      "Non-trainable params: 0\n",
      "__________________________________________________________________________________________________\n"
     ]
    }
   ],
   "source": [
    "model = mz.models.DRMMTKS()\n",
    "model.params['input_shapes'] = preprocessor.context['input_shapes']\n",
    "model.params['task'] = ranking_task\n",
    "model.params['mask_value'] = -1\n",
    "model.params['embedding_input_dim'] = preprocessor.context['vocab_size'] + 1\n",
    "model.params['embedding_output_dim'] = 100\n",
    "model.params['embedding_trainable'] = True\n",
    "model.params['top_k'] = 20\n",
    "model.params['mlp_num_layers'] = 1\n",
    "model.params['mlp_num_units'] = 5\n",
    "model.params['mlp_num_fan_out'] = 1\n",
    "model.params['mlp_activation_func'] = 'relu'\n",
    "model.params['optimizer'] = 'adadelta'\n",
    "model.guess_and_fill_missing_params()\n",
    "model.build()\n",
    "model.compile()\n",
    "model.backend.summary()"
   ]
  },
  {
   "cell_type": "code",
   "execution_count": 13,
   "metadata": {},
   "outputs": [],
   "source": [
    "glove_embedding = mz.datasets.embeddings.load_glove_embedding(dimension=100)\n",
    "embedding_matrix = glove_embedding.build_matrix(preprocessor.context['vocab_unit'].state['term_index'])\n",
    "l2_norm = np.sqrt((embedding_matrix*embedding_matrix).sum(axis=1))\n",
    "embedding_matrix = embedding_matrix / l2_norm[:, np.newaxis]"
   ]
  },
  {
   "cell_type": "code",
   "execution_count": 14,
   "metadata": {},
   "outputs": [],
   "source": [
    "model.load_embedding_matrix(embedding_matrix)"
   ]
  },
  {
   "cell_type": "code",
   "execution_count": 15,
   "metadata": {},
   "outputs": [],
   "source": [
    "pred_x, pred_y = predict_pack_processed[:].unpack()\n",
    "evaluate = mz.callbacks.EvaluateAllMetrics(model, x=pred_x, y=pred_y, batch_size=len(pred_x))"
   ]
  },
  {
   "cell_type": "code",
   "execution_count": 16,
   "metadata": {},
   "outputs": [
    {
     "data": {
      "text/plain": [
       "102"
      ]
     },
     "execution_count": 16,
     "metadata": {},
     "output_type": "execute_result"
    }
   ],
   "source": [
    "train_generator = mz.PairDataGenerator(train_pack_processed, num_dup=2, num_neg=1, batch_size=20)\n",
    "len(train_generator)"
   ]
  },
  {
   "cell_type": "code",
   "execution_count": null,
   "metadata": {
    "scrolled": false
   },
   "outputs": [
    {
     "name": "stdout",
     "output_type": "stream",
     "text": [
      "Epoch 1/30\n",
      "102/102 [==============================] - 4s 44ms/step - loss: 0.8404\n",
      "\n",
      "Validation: normalized_discounted_cumulative_gain@3(0): 0.5284643480792759 - normalized_discounted_cumulative_gain@5(0): 0.5855881746317924 - mean_average_precision(0): 0.548999143742844\n",
      "Epoch 2/30\n",
      "102/102 [==============================] - 3s 32ms/step - loss: 0.6019\n",
      "Validation: normalized_discounted_cumulative_gain@3(0): 0.5844638671762555 - normalized_discounted_cumulative_gain@5(0): 0.6459823689857352 - mean_average_precision(0): 0.6020629920946378\n",
      "Epoch 3/30\n",
      "102/102 [==============================] - 3s 32ms/step - loss: 0.4248\n",
      "Validation: normalized_discounted_cumulative_gain@3(0): 0.6075839941451231 - normalized_discounted_cumulative_gain@5(0): 0.6717387906783745 - mean_average_precision(0): 0.6243166584938736\n",
      "Epoch 4/30\n",
      "102/102 [==============================] - 3s 33ms/step - loss: 0.3250\n",
      "Validation: normalized_discounted_cumulative_gain@3(0): 0.6104461923835603 - normalized_discounted_cumulative_gain@5(0): 0.6759567537764455 - mean_average_precision(0): 0.629627135898078\n",
      "Epoch 5/30\n",
      "102/102 [==============================] - 3s 32ms/step - loss: 0.2461\n",
      "Validation: normalized_discounted_cumulative_gain@3(0): 0.6199911705563912 - normalized_discounted_cumulative_gain@5(0): 0.680081535196461 - mean_average_precision(0): 0.6372868385131044\n",
      "Epoch 6/30\n",
      "102/102 [==============================] - 3s 33ms/step - loss: 0.1814\n",
      "Validation: normalized_discounted_cumulative_gain@3(0): 0.6338609933326346 - normalized_discounted_cumulative_gain@5(0): 0.6855406430147561 - mean_average_precision(0): 0.6458279675703352\n",
      "Epoch 7/30\n",
      "102/102 [==============================] - 3s 33ms/step - loss: 0.1315\n",
      "Validation: normalized_discounted_cumulative_gain@3(0): 0.6303519341234453 - normalized_discounted_cumulative_gain@5(0): 0.6789485864428287 - mean_average_precision(0): 0.6382384637782998\n",
      "Epoch 8/30\n",
      "102/102 [==============================] - 3s 32ms/step - loss: 0.0957\n",
      "Validation: normalized_discounted_cumulative_gain@3(0): 0.6322593037309505 - normalized_discounted_cumulative_gain@5(0): 0.6812104013395099 - mean_average_precision(0): 0.6426323418855359\n",
      "Epoch 9/30\n",
      "102/102 [==============================] - 3s 32ms/step - loss: 0.0689\n",
      "Validation: normalized_discounted_cumulative_gain@3(0): 0.6338403926938645 - normalized_discounted_cumulative_gain@5(0): 0.6827788476683742 - mean_average_precision(0): 0.6461436834506747\n",
      "Epoch 10/30\n",
      "102/102 [==============================] - 3s 32ms/step - loss: 0.0494\n",
      "Validation: normalized_discounted_cumulative_gain@3(0): 0.6223121056078846 - normalized_discounted_cumulative_gain@5(0): 0.6688023463665081 - mean_average_precision(0): 0.630970577138328\n",
      "Epoch 11/30\n",
      "102/102 [==============================] - 3s 33ms/step - loss: 0.0357\n",
      "Validation: normalized_discounted_cumulative_gain@3(0): 0.6197205389629192 - normalized_discounted_cumulative_gain@5(0): 0.6659124921238967 - mean_average_precision(0): 0.6274057779456141\n",
      "Epoch 12/30\n",
      "102/102 [==============================] - 3s 33ms/step - loss: 0.0250\n",
      "Validation: normalized_discounted_cumulative_gain@3(0): 0.626516742190814 - normalized_discounted_cumulative_gain@5(0): 0.6719553388612112 - mean_average_precision(0): 0.6315507224969544\n",
      "Epoch 13/30\n",
      "102/102 [==============================] - 3s 33ms/step - loss: 0.0179\n",
      "Validation: normalized_discounted_cumulative_gain@3(0): 0.615645316161016 - normalized_discounted_cumulative_gain@5(0): 0.6678131952262139 - mean_average_precision(0): 0.6269288031598452\n",
      "Epoch 14/30\n",
      "102/102 [==============================] - 3s 33ms/step - loss: 0.0129\n",
      "Validation: normalized_discounted_cumulative_gain@3(0): 0.6155453490105843 - normalized_discounted_cumulative_gain@5(0): 0.6697925067012445 - mean_average_precision(0): 0.6283719655998431\n",
      "Epoch 15/30\n",
      "102/102 [==============================] - 3s 33ms/step - loss: 0.0089\n",
      "Validation: normalized_discounted_cumulative_gain@3(0): 0.6151429665972533 - normalized_discounted_cumulative_gain@5(0): 0.6646781636513531 - mean_average_precision(0): 0.6275483283838007\n",
      "Epoch 16/30\n",
      "102/102 [==============================] - 3s 33ms/step - loss: 0.0063\n",
      "Validation: normalized_discounted_cumulative_gain@3(0): 0.6217743827055807 - normalized_discounted_cumulative_gain@5(0): 0.6694289266015221 - mean_average_precision(0): 0.6336539140779942\n",
      "Epoch 17/30\n",
      "102/102 [==============================] - 3s 33ms/step - loss: 0.0046\n",
      "Validation: normalized_discounted_cumulative_gain@3(0): 0.6182461031084714 - normalized_discounted_cumulative_gain@5(0): 0.6690019256342554 - mean_average_precision(0): 0.6301907825038239\n",
      "Epoch 18/30\n",
      "102/102 [==============================] - 3s 33ms/step - loss: 0.0035: 0s \n",
      "Validation: normalized_discounted_cumulative_gain@3(0): 0.624022770814921 - normalized_discounted_cumulative_gain@5(0): 0.6711441920067525 - mean_average_precision(0): 0.6349144812148643\n",
      "Epoch 19/30\n",
      "102/102 [==============================] - 3s 32ms/step - loss: 0.0022\n",
      "Validation: normalized_discounted_cumulative_gain@3(0): 0.625227630400555 - normalized_discounted_cumulative_gain@5(0): 0.6686882924981722 - mean_average_precision(0): 0.6369908448418609\n",
      "Epoch 20/30\n",
      "102/102 [==============================] - 3s 33ms/step - loss: 0.0015\n",
      "Validation: normalized_discounted_cumulative_gain@3(0): 0.6209582375426387 - normalized_discounted_cumulative_gain@5(0): 0.6665034932040681 - mean_average_precision(0): 0.630948167992222\n",
      "Epoch 21/30\n",
      "102/102 [==============================] - 3s 33ms/step - loss: 9.0860e-04\n",
      "Validation: normalized_discounted_cumulative_gain@3(0): 0.6186598658580825 - normalized_discounted_cumulative_gain@5(0): 0.6647954966846937 - mean_average_precision(0): 0.6292566603671701\n",
      "Epoch 22/30\n",
      "102/102 [==============================] - 3s 32ms/step - loss: 5.8979e-04: 0s - loss: 6.355\n",
      "Validation: normalized_discounted_cumulative_gain@3(0): 0.6215606673354557 - normalized_discounted_cumulative_gain@5(0): 0.6678445563181183 - mean_average_precision(0): 0.6317074795901412\n",
      "Epoch 23/30\n",
      " 65/102 [==================>...........] - ETA: 1s - loss: 4.1236e-04"
     ]
    }
   ],
   "source": [
    "history = model.fit_generator(train_generator, epochs=30, callbacks=[evaluate], workers=30, use_multiprocessing=True)"
   ]
  },
  {
   "cell_type": "code",
   "execution_count": null,
   "metadata": {},
   "outputs": [],
   "source": []
  }
 ],
 "metadata": {
  "kernelspec": {
   "display_name": "Python 3",
   "language": "python",
   "name": "python3"
  },
  "language_info": {
   "codemirror_mode": {
    "name": "ipython",
    "version": 3
   },
   "file_extension": ".py",
   "mimetype": "text/x-python",
   "name": "python",
   "nbconvert_exporter": "python",
   "pygments_lexer": "ipython3",
   "version": "3.6.5"
  }
 },
 "nbformat": 4,
 "nbformat_minor": 2
}
