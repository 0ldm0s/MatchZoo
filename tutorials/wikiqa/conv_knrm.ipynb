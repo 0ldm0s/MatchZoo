{
 "cells": [
  {
   "cell_type": "code",
   "execution_count": 1,
   "metadata": {},
   "outputs": [
    {
     "name": "stderr",
     "output_type": "stream",
     "text": [
      "Using TensorFlow backend.\n",
      "/home/fanyixing/.local/python3/lib/python3.6/importlib/_bootstrap.py:219: RuntimeWarning: numpy.dtype size changed, may indicate binary incompatibility. Expected 96, got 88\n",
      "  return f(*args, **kwds)\n",
      "/home/fanyixing/.local/python3/lib/python3.6/importlib/_bootstrap.py:219: RuntimeWarning: numpy.dtype size changed, may indicate binary incompatibility. Expected 96, got 88\n",
      "  return f(*args, **kwds)\n"
     ]
    },
    {
     "name": "stdout",
     "output_type": "stream",
     "text": [
      "matchzoo version 2.1.0\n",
      "\n",
      "data loading ...\n",
      "data loaded as `train_pack_raw` `dev_pack_raw` `test_pack_raw`\n",
      "`ranking_task` initialized with metrics [normalized_discounted_cumulative_gain@3(0.0), normalized_discounted_cumulative_gain@5(0.0), mean_average_precision(0.0)]\n",
      "loading embedding ...\n",
      "embedding loaded as `glove_embedding`\n"
     ]
    }
   ],
   "source": [
    "%run init.ipynb"
   ]
  },
  {
   "cell_type": "code",
   "execution_count": 2,
   "metadata": {},
   "outputs": [
    {
     "name": "stderr",
     "output_type": "stream",
     "text": [
      "Processing text_left with chain_transform of Tokenize => Lowercase => PuncRemoval: 100%|██████████| 2118/2118 [00:00<00:00, 2633.34it/s]\n",
      "Processing text_right with chain_transform of Tokenize => Lowercase => PuncRemoval: 100%|██████████| 18841/18841 [00:07<00:00, 2358.67it/s]\n",
      "Processing text_right with append: 100%|██████████| 18841/18841 [00:00<00:00, 477653.35it/s]\n",
      "Building FrequencyFilter from a datapack.: 100%|██████████| 18841/18841 [00:00<00:00, 74124.02it/s]\n",
      "Processing text_right with transform: 100%|██████████| 18841/18841 [00:00<00:00, 49495.67it/s]\n",
      "Processing text_left with extend: 100%|██████████| 2118/2118 [00:00<00:00, 366240.76it/s]\n",
      "Processing text_right with extend: 100%|██████████| 18841/18841 [00:00<00:00, 394573.98it/s]\n",
      "Building Vocabulary from a datapack.: 100%|██████████| 404415/404415 [00:00<00:00, 1804738.53it/s]\n",
      "Processing text_left with chain_transform of Tokenize => Lowercase => PuncRemoval: 100%|██████████| 2118/2118 [00:00<00:00, 3791.66it/s]\n",
      "Processing text_right with chain_transform of Tokenize => Lowercase => PuncRemoval: 100%|██████████| 18841/18841 [00:10<00:00, 1788.70it/s]\n",
      "Processing text_right with transform: 100%|██████████| 18841/18841 [00:00<00:00, 71026.96it/s]\n",
      "Processing text_left with transform: 100%|██████████| 2118/2118 [00:00<00:00, 102356.68it/s]\n",
      "Processing text_right with transform: 100%|██████████| 18841/18841 [00:00<00:00, 75831.39it/s]\n",
      "Processing length_left with len: 100%|██████████| 2118/2118 [00:00<00:00, 356396.37it/s]\n",
      "Processing length_right with len: 100%|██████████| 18841/18841 [00:00<00:00, 403068.90it/s]\n",
      "Processing text_left with transform: 100%|██████████| 2118/2118 [00:00<00:00, 45503.62it/s]\n",
      "Processing text_right with transform: 100%|██████████| 18841/18841 [00:00<00:00, 38738.35it/s]\n",
      "Processing text_left with chain_transform of Tokenize => Lowercase => PuncRemoval: 100%|██████████| 122/122 [00:00<00:00, 3821.69it/s]\n",
      "Processing text_right with chain_transform of Tokenize => Lowercase => PuncRemoval: 100%|██████████| 1115/1115 [00:00<00:00, 2468.42it/s]\n",
      "Processing text_right with transform: 100%|██████████| 1115/1115 [00:00<00:00, 71419.94it/s]\n",
      "Processing text_left with transform: 100%|██████████| 122/122 [00:00<00:00, 76971.28it/s]\n",
      "Processing text_right with transform: 100%|██████████| 1115/1115 [00:00<00:00, 63300.61it/s]\n",
      "Processing length_left with len: 100%|██████████| 122/122 [00:00<00:00, 130238.00it/s]\n",
      "Processing length_right with len: 100%|██████████| 1115/1115 [00:00<00:00, 332833.89it/s]\n",
      "Processing text_left with transform: 100%|██████████| 122/122 [00:00<00:00, 37636.44it/s]\n",
      "Processing text_right with transform: 100%|██████████| 1115/1115 [00:00<00:00, 8228.35it/s]\n",
      "Processing text_left with chain_transform of Tokenize => Lowercase => PuncRemoval: 100%|██████████| 237/237 [00:00<00:00, 3488.89it/s]\n",
      "Processing text_right with chain_transform of Tokenize => Lowercase => PuncRemoval: 100%|██████████| 2300/2300 [00:00<00:00, 2434.94it/s]\n",
      "Processing text_right with transform: 100%|██████████| 2300/2300 [00:00<00:00, 72664.75it/s]\n",
      "Processing text_left with transform: 100%|██████████| 237/237 [00:00<00:00, 91147.08it/s]\n",
      "Processing text_right with transform: 100%|██████████| 2300/2300 [00:00<00:00, 86040.07it/s]\n",
      "Processing length_left with len: 100%|██████████| 237/237 [00:00<00:00, 203033.10it/s]\n",
      "Processing length_right with len: 100%|██████████| 2300/2300 [00:00<00:00, 380308.26it/s]\n",
      "Processing text_left with transform: 100%|██████████| 237/237 [00:00<00:00, 42683.24it/s]\n",
      "Processing text_right with transform: 100%|██████████| 2300/2300 [00:00<00:00, 38674.07it/s]\n"
     ]
    }
   ],
   "source": [
    "preprocessor = mz.preprocessors.BasicPreprocessor(fixed_length_left=10, fixed_length_right=40, remove_stop_words=False)\n",
    "train_pack_processed = preprocessor.fit_transform(train_pack_raw)\n",
    "dev_pack_processed = preprocessor.transform(dev_pack_raw)\n",
    "test_pack_processed = preprocessor.transform(test_pack_raw)"
   ]
  },
  {
   "cell_type": "code",
   "execution_count": 3,
   "metadata": {
    "scrolled": false
   },
   "outputs": [
    {
     "data": {
      "text/plain": [
       "{'filter_unit': <matchzoo.preprocessors.units.frequency_filter.FrequencyFilter at 0x7f08134b4da0>,\n",
       " 'vocab_unit': <matchzoo.preprocessors.units.vocabulary.Vocabulary at 0x7f0813d037b8>,\n",
       " 'vocab_size': 16674,\n",
       " 'embedding_input_dim': 16674,\n",
       " 'input_shapes': [(10,), (40,)]}"
      ]
     },
     "execution_count": 3,
     "metadata": {},
     "output_type": "execute_result"
    }
   ],
   "source": [
    "preprocessor.context"
   ]
  },
  {
   "cell_type": "code",
   "execution_count": 4,
   "metadata": {
    "scrolled": false
   },
   "outputs": [],
   "source": [
    "model = mz.models.ConvKNRM()\n",
    "model.params['input_shapes'] = preprocessor.context['input_shapes']\n",
    "model.params['task'] = ranking_task\n",
    "model.params['embedding_input_dim'] = preprocessor.context['vocab_size']\n",
    "model.params['embedding_output_dim'] = glove_embedding.output_dim\n",
    "model.params['embedding_trainable'] = True\n",
    "model.params['filters'] = 128 \n",
    "model.params['conv_activation_func'] = 'tanh' \n",
    "model.params['max_ngram'] = 3\n",
    "model.params['use_crossmatch'] = True \n",
    "model.params['kernel_num'] = 11\n",
    "model.params['sigma'] = 0.1\n",
    "model.params['exact_sigma'] = 0.001\n",
    "model.params['optimizer'] = 'adadelta'\n",
    "model.guess_and_fill_missing_params()\n",
    "model.build()\n",
    "model.compile()\n",
    "#model.backend.summary()"
   ]
  },
  {
   "cell_type": "code",
   "execution_count": 5,
   "metadata": {},
   "outputs": [],
   "source": [
    "embedding_matrix = glove_embedding.build_matrix(preprocessor.context['vocab_unit'].state['term_index'])\n",
    "model.load_embedding_matrix(embedding_matrix)"
   ]
  },
  {
   "cell_type": "code",
   "execution_count": 6,
   "metadata": {},
   "outputs": [],
   "source": [
    "pred_x, pred_y = test_pack_processed[:].unpack()\n",
    "evaluate = mz.callbacks.EvaluateAllMetrics(model, x=pred_x, y=pred_y, batch_size=len(pred_y))"
   ]
  },
  {
   "cell_type": "code",
   "execution_count": 7,
   "metadata": {},
   "outputs": [
    {
     "name": "stdout",
     "output_type": "stream",
     "text": [
      "WARNING: PairDataGenerator will be deprecated in MatchZoo v2.2. Use `DataGenerator` with callbacks instead.\n"
     ]
    },
    {
     "data": {
      "text/plain": [
       "255"
      ]
     },
     "execution_count": 7,
     "metadata": {},
     "output_type": "execute_result"
    }
   ],
   "source": [
    "train_generator = mz.PairDataGenerator(train_pack_processed, num_dup=5, num_neg=1, batch_size=20)\n",
    "len(train_generator)"
   ]
  },
  {
   "cell_type": "code",
   "execution_count": null,
   "metadata": {
    "scrolled": false
   },
   "outputs": [
    {
     "name": "stdout",
     "output_type": "stream",
     "text": [
      "Epoch 1/30\n",
      "255/255 [==============================] - 47s 184ms/step - loss: 0.3839\n",
      "Validation: normalized_discounted_cumulative_gain@3(0.0): 0.6045607115348546 - normalized_discounted_cumulative_gain@5(0.0): 0.6551911357360845 - mean_average_precision(0.0): 0.6161963540752681\n",
      "Epoch 2/30\n",
      "255/255 [==============================] - 51s 201ms/step - loss: 0.0949\n",
      "Validation: normalized_discounted_cumulative_gain@3(0.0): 0.5924670551810475 - normalized_discounted_cumulative_gain@5(0.0): 0.6458352102003769 - mean_average_precision(0.0): 0.6010633279040125\n",
      "Epoch 3/30\n",
      "255/255 [==============================] - 51s 198ms/step - loss: 0.0517\n",
      "Validation: normalized_discounted_cumulative_gain@3(0.0): 0.6184166544728893 - normalized_discounted_cumulative_gain@5(0.0): 0.6666566279990483 - mean_average_precision(0.0): 0.6212755577262572\n",
      "Epoch 4/30\n",
      "255/255 [==============================] - 51s 199ms/step - loss: 0.0263\n",
      "Validation: normalized_discounted_cumulative_gain@3(0.0): 0.6135025752199578 - normalized_discounted_cumulative_gain@5(0.0): 0.6733353552551865 - mean_average_precision(0.0): 0.6353627443817317\n",
      "Epoch 5/30\n",
      "255/255 [==============================] - 52s 203ms/step - loss: 0.0197\n",
      "Validation: normalized_discounted_cumulative_gain@3(0.0): 0.6335460930243236 - normalized_discounted_cumulative_gain@5(0.0): 0.6855723899898374 - mean_average_precision(0.0): 0.6446054498219722\n",
      "Epoch 6/30\n",
      "255/255 [==============================] - 52s 206ms/step - loss: 0.0126\n",
      "Validation: normalized_discounted_cumulative_gain@3(0.0): 0.6195544846711243 - normalized_discounted_cumulative_gain@5(0.0): 0.678313940081293 - mean_average_precision(0.0): 0.6328317464976358\n",
      "Epoch 7/30\n",
      "255/255 [==============================] - 50s 195ms/step - loss: 0.0120\n",
      "Validation: normalized_discounted_cumulative_gain@3(0.0): 0.615743285740754 - normalized_discounted_cumulative_gain@5(0.0): 0.6807909569568164 - mean_average_precision(0.0): 0.6335609327508357\n",
      "Epoch 8/30\n",
      "255/255 [==============================] - 49s 192ms/step - loss: 0.0091\n",
      "Validation: normalized_discounted_cumulative_gain@3(0.0): 0.5948201336706869 - normalized_discounted_cumulative_gain@5(0.0): 0.6459777519040568 - mean_average_precision(0.0): 0.6084224900561218\n",
      "Epoch 9/30\n",
      "255/255 [==============================] - 51s 201ms/step - loss: 0.0067\n",
      "Validation: normalized_discounted_cumulative_gain@3(0.0): 0.633518510352949 - normalized_discounted_cumulative_gain@5(0.0): 0.6722199720373166 - mean_average_precision(0.0): 0.625627258934221\n",
      "Epoch 10/30\n",
      "255/255 [==============================] - 52s 206ms/step - loss: 0.0047\n",
      "Validation: normalized_discounted_cumulative_gain@3(0.0): 0.617294716225504 - normalized_discounted_cumulative_gain@5(0.0): 0.6741999186324344 - mean_average_precision(0.0): 0.627349946416647\n",
      "Epoch 11/30\n",
      "255/255 [==============================] - 52s 203ms/step - loss: 0.0046\n",
      "Validation: normalized_discounted_cumulative_gain@3(0.0): 0.6114145265420358 - normalized_discounted_cumulative_gain@5(0.0): 0.6675194323124727 - mean_average_precision(0.0): 0.6238182413233604\n",
      "Epoch 12/30\n",
      "255/255 [==============================] - 48s 188ms/step - loss: 0.0069\n",
      "Validation: normalized_discounted_cumulative_gain@3(0.0): 0.611084966612576 - normalized_discounted_cumulative_gain@5(0.0): 0.665994856290529 - mean_average_precision(0.0): 0.6193888626352769\n",
      "Epoch 13/30\n",
      "255/255 [==============================] - 45s 176ms/step - loss: 0.0028\n",
      "Validation: normalized_discounted_cumulative_gain@3(0.0): 0.6181840436410363 - normalized_discounted_cumulative_gain@5(0.0): 0.663363100293455 - mean_average_precision(0.0): 0.6141038347735108\n",
      "Epoch 14/30\n",
      "255/255 [==============================] - 45s 175ms/step - loss: 0.0027\n",
      "Validation: normalized_discounted_cumulative_gain@3(0.0): 0.6277103839032641 - normalized_discounted_cumulative_gain@5(0.0): 0.6785680824546029 - mean_average_precision(0.0): 0.6355779619131013\n",
      "Epoch 15/30\n",
      "255/255 [==============================] - 45s 178ms/step - loss: 0.0027\n",
      "Validation: normalized_discounted_cumulative_gain@3(0.0): 0.6191509975486614 - normalized_discounted_cumulative_gain@5(0.0): 0.6612657043839038 - mean_average_precision(0.0): 0.621424539960467\n",
      "Epoch 16/30\n",
      "255/255 [==============================] - 44s 171ms/step - loss: 0.0022\n",
      "Validation: normalized_discounted_cumulative_gain@3(0.0): 0.5997283849846194 - normalized_discounted_cumulative_gain@5(0.0): 0.6427843296778538 - mean_average_precision(0.0): 0.5994702652252031\n",
      "Epoch 17/30\n",
      "255/255 [==============================] - 44s 174ms/step - loss: 9.4521e-04\n",
      "Validation: normalized_discounted_cumulative_gain@3(0.0): 0.6152408230983688 - normalized_discounted_cumulative_gain@5(0.0): 0.6685434618268578 - mean_average_precision(0.0): 0.6181083770524143\n",
      "Epoch 18/30\n",
      "255/255 [==============================] - 46s 179ms/step - loss: 8.1313e-04\n",
      "Validation: normalized_discounted_cumulative_gain@3(0.0): 0.6276546854676714 - normalized_discounted_cumulative_gain@5(0.0): 0.6794266487815308 - mean_average_precision(0.0): 0.6313466403117419\n",
      "Epoch 19/30\n",
      "255/255 [==============================] - 43s 168ms/step - loss: 0.0010\n",
      "Validation: normalized_discounted_cumulative_gain@3(0.0): 0.6020665283113918 - normalized_discounted_cumulative_gain@5(0.0): 0.6595534528562164 - mean_average_precision(0.0): 0.6073478998135844\n",
      "Epoch 20/30\n",
      " 60/255 [======>.......................] - ETA: 1:18 - loss: 0.0016"
     ]
    }
   ],
   "source": [
    "history = model.fit_generator(train_generator, epochs=30, callbacks=[evaluate], workers=30, use_multiprocessing=True)"
   ]
  },
  {
   "cell_type": "code",
   "execution_count": null,
   "metadata": {},
   "outputs": [],
   "source": []
  }
 ],
 "metadata": {
  "kernelspec": {
   "display_name": "Python 3",
   "language": "python",
   "name": "python3"
  },
  "language_info": {
   "codemirror_mode": {
    "name": "ipython",
    "version": 3
   },
   "file_extension": ".py",
   "mimetype": "text/x-python",
   "name": "python",
   "nbconvert_exporter": "python",
   "pygments_lexer": "ipython3",
   "version": "3.6.5"
  }
 },
 "nbformat": 4,
 "nbformat_minor": 2
}
