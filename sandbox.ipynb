{
 "cells": [
  {
   "cell_type": "code",
   "execution_count": 1,
   "metadata": {
    "ExecuteTime": {
     "end_time": "2018-11-21T02:33:52.395222Z",
     "start_time": "2018-11-21T02:33:49.910588Z"
    }
   },
   "outputs": [
    {
     "name": "stderr",
     "output_type": "stream",
     "text": [
      "Using TensorFlow backend.\n"
     ]
    }
   ],
   "source": [
    "import keras\n",
    "import pandas as pd\n",
    "import numpy as np\n",
    "import matchzoo as mz"
   ]
  },
  {
   "cell_type": "markdown",
   "metadata": {},
   "source": [
    "## Read Data "
   ]
  },
  {
   "cell_type": "code",
   "execution_count": 2,
   "metadata": {
    "ExecuteTime": {
     "end_time": "2018-11-21T02:33:52.458302Z",
     "start_time": "2018-11-21T02:33:52.397123Z"
    },
    "collapsed": true
   },
   "outputs": [],
   "source": [
    "def read_data(path, include_label):\n",
    "    def scan_file():\n",
    "        with open(path) as in_file:\n",
    "            next(in_file)  # skip header\n",
    "            for l in in_file:\n",
    "                yield l.strip().split('\\t')\n",
    "    if include_label:\n",
    "        return [(qid, did, q, d, float(label)) for qid, q, _, _, did, d, label in scan_file()]\n",
    "    else:\n",
    "        return [(qid, did, q, d) for qid, q, _, _, did, d, _ in scan_file()]\n",
    "\n",
    "train = read_data('data/WikiQA/WikiQACorpus/WikiQA-train.tsv', include_label=True)\n",
    "predict  = read_data('data/WikiQA/WikiQACorpus/WikiQA-test.tsv', include_label=False)"
   ]
  },
  {
   "cell_type": "markdown",
   "metadata": {},
   "source": [
    "## Pack Data"
   ]
  },
  {
   "cell_type": "code",
   "execution_count": 3,
   "metadata": {
    "ExecuteTime": {
     "end_time": "2018-11-21T02:33:52.487501Z",
     "start_time": "2018-11-21T02:33:52.460061Z"
    }
   },
   "outputs": [],
   "source": [
    "train_pack = mz.pack(train[:10000])\n",
    "predict_pack = mz.pack(predict[:1000])"
   ]
  },
  {
   "cell_type": "code",
   "execution_count": 4,
   "metadata": {
    "ExecuteTime": {
     "end_time": "2018-11-21T02:33:52.520973Z",
     "start_time": "2018-11-21T02:33:52.489622Z"
    }
   },
   "outputs": [
    {
     "data": {
      "text/html": [
       "<div>\n",
       "<style scoped>\n",
       "    .dataframe tbody tr th:only-of-type {\n",
       "        vertical-align: middle;\n",
       "    }\n",
       "\n",
       "    .dataframe tbody tr th {\n",
       "        vertical-align: top;\n",
       "    }\n",
       "\n",
       "    .dataframe thead th {\n",
       "        text-align: right;\n",
       "    }\n",
       "</style>\n",
       "<table border=\"1\" class=\"dataframe\">\n",
       "  <thead>\n",
       "    <tr style=\"text-align: right;\">\n",
       "      <th></th>\n",
       "      <th>text_left</th>\n",
       "    </tr>\n",
       "    <tr>\n",
       "      <th>id_left</th>\n",
       "      <th></th>\n",
       "    </tr>\n",
       "  </thead>\n",
       "  <tbody>\n",
       "    <tr>\n",
       "      <th>Q1</th>\n",
       "      <td>how are glacier caves formed?</td>\n",
       "    </tr>\n",
       "    <tr>\n",
       "      <th>Q2</th>\n",
       "      <td>How are the directions of the velocity and for...</td>\n",
       "    </tr>\n",
       "    <tr>\n",
       "      <th>Q5</th>\n",
       "      <td>how did apollo creed die</td>\n",
       "    </tr>\n",
       "    <tr>\n",
       "      <th>Q6</th>\n",
       "      <td>how long is the term for federal judges</td>\n",
       "    </tr>\n",
       "    <tr>\n",
       "      <th>Q7</th>\n",
       "      <td>how a beretta model 21 pistols magazines works</td>\n",
       "    </tr>\n",
       "  </tbody>\n",
       "</table>\n",
       "</div>"
      ],
      "text/plain": [
       "                                                 text_left\n",
       "id_left                                                   \n",
       "Q1                           how are glacier caves formed?\n",
       "Q2       How are the directions of the velocity and for...\n",
       "Q5                                how did apollo creed die\n",
       "Q6                 how long is the term for federal judges\n",
       "Q7          how a beretta model 21 pistols magazines works"
      ]
     },
     "execution_count": 4,
     "metadata": {},
     "output_type": "execute_result"
    }
   ],
   "source": [
    "train_pack.left.head()"
   ]
  },
  {
   "cell_type": "code",
   "execution_count": 5,
   "metadata": {
    "ExecuteTime": {
     "end_time": "2018-11-21T02:33:52.535227Z",
     "start_time": "2018-11-21T02:33:52.523666Z"
    }
   },
   "outputs": [
    {
     "data": {
      "text/html": [
       "<div>\n",
       "<style scoped>\n",
       "    .dataframe tbody tr th:only-of-type {\n",
       "        vertical-align: middle;\n",
       "    }\n",
       "\n",
       "    .dataframe tbody tr th {\n",
       "        vertical-align: top;\n",
       "    }\n",
       "\n",
       "    .dataframe thead th {\n",
       "        text-align: right;\n",
       "    }\n",
       "</style>\n",
       "<table border=\"1\" class=\"dataframe\">\n",
       "  <thead>\n",
       "    <tr style=\"text-align: right;\">\n",
       "      <th></th>\n",
       "      <th>text_right</th>\n",
       "    </tr>\n",
       "    <tr>\n",
       "      <th>id_right</th>\n",
       "      <th></th>\n",
       "    </tr>\n",
       "  </thead>\n",
       "  <tbody>\n",
       "    <tr>\n",
       "      <th>D1-0</th>\n",
       "      <td>A partly submerged glacier cave on Perito More...</td>\n",
       "    </tr>\n",
       "    <tr>\n",
       "      <th>D1-1</th>\n",
       "      <td>The ice facade is approximately 60 m high</td>\n",
       "    </tr>\n",
       "    <tr>\n",
       "      <th>D1-2</th>\n",
       "      <td>Ice formations in the Titlis glacier cave</td>\n",
       "    </tr>\n",
       "    <tr>\n",
       "      <th>D1-3</th>\n",
       "      <td>A glacier cave is a cave formed within the ice...</td>\n",
       "    </tr>\n",
       "    <tr>\n",
       "      <th>D1-4</th>\n",
       "      <td>Glacier caves are often called ice caves , but...</td>\n",
       "    </tr>\n",
       "  </tbody>\n",
       "</table>\n",
       "</div>"
      ],
      "text/plain": [
       "                                                 text_right\n",
       "id_right                                                   \n",
       "D1-0      A partly submerged glacier cave on Perito More...\n",
       "D1-1              The ice facade is approximately 60 m high\n",
       "D1-2              Ice formations in the Titlis glacier cave\n",
       "D1-3      A glacier cave is a cave formed within the ice...\n",
       "D1-4      Glacier caves are often called ice caves , but..."
      ]
     },
     "execution_count": 5,
     "metadata": {},
     "output_type": "execute_result"
    }
   ],
   "source": [
    "train_pack.right.head()"
   ]
  },
  {
   "cell_type": "code",
   "execution_count": 6,
   "metadata": {
    "ExecuteTime": {
     "end_time": "2018-11-21T02:33:52.549978Z",
     "start_time": "2018-11-21T02:33:52.538194Z"
    }
   },
   "outputs": [
    {
     "data": {
      "text/html": [
       "<div>\n",
       "<style scoped>\n",
       "    .dataframe tbody tr th:only-of-type {\n",
       "        vertical-align: middle;\n",
       "    }\n",
       "\n",
       "    .dataframe tbody tr th {\n",
       "        vertical-align: top;\n",
       "    }\n",
       "\n",
       "    .dataframe thead th {\n",
       "        text-align: right;\n",
       "    }\n",
       "</style>\n",
       "<table border=\"1\" class=\"dataframe\">\n",
       "  <thead>\n",
       "    <tr style=\"text-align: right;\">\n",
       "      <th></th>\n",
       "      <th>id_left</th>\n",
       "      <th>id_right</th>\n",
       "      <th>label</th>\n",
       "    </tr>\n",
       "  </thead>\n",
       "  <tbody>\n",
       "    <tr>\n",
       "      <th>0</th>\n",
       "      <td>Q1</td>\n",
       "      <td>D1-0</td>\n",
       "      <td>0.0</td>\n",
       "    </tr>\n",
       "    <tr>\n",
       "      <th>1</th>\n",
       "      <td>Q1</td>\n",
       "      <td>D1-1</td>\n",
       "      <td>0.0</td>\n",
       "    </tr>\n",
       "    <tr>\n",
       "      <th>2</th>\n",
       "      <td>Q1</td>\n",
       "      <td>D1-2</td>\n",
       "      <td>0.0</td>\n",
       "    </tr>\n",
       "    <tr>\n",
       "      <th>3</th>\n",
       "      <td>Q1</td>\n",
       "      <td>D1-3</td>\n",
       "      <td>1.0</td>\n",
       "    </tr>\n",
       "    <tr>\n",
       "      <th>4</th>\n",
       "      <td>Q1</td>\n",
       "      <td>D1-4</td>\n",
       "      <td>0.0</td>\n",
       "    </tr>\n",
       "  </tbody>\n",
       "</table>\n",
       "</div>"
      ],
      "text/plain": [
       "  id_left id_right  label\n",
       "0      Q1     D1-0    0.0\n",
       "1      Q1     D1-1    0.0\n",
       "2      Q1     D1-2    0.0\n",
       "3      Q1     D1-3    1.0\n",
       "4      Q1     D1-4    0.0"
      ]
     },
     "execution_count": 6,
     "metadata": {},
     "output_type": "execute_result"
    }
   ],
   "source": [
    "train_pack.relation.head()"
   ]
  },
  {
   "cell_type": "code",
   "execution_count": 7,
   "metadata": {
    "ExecuteTime": {
     "end_time": "2018-11-21T02:33:52.622056Z",
     "start_time": "2018-11-21T02:33:52.552235Z"
    }
   },
   "outputs": [
    {
     "data": {
      "text/html": [
       "<div>\n",
       "<style scoped>\n",
       "    .dataframe tbody tr th:only-of-type {\n",
       "        vertical-align: middle;\n",
       "    }\n",
       "\n",
       "    .dataframe tbody tr th {\n",
       "        vertical-align: top;\n",
       "    }\n",
       "\n",
       "    .dataframe thead th {\n",
       "        text-align: right;\n",
       "    }\n",
       "</style>\n",
       "<table border=\"1\" class=\"dataframe\">\n",
       "  <thead>\n",
       "    <tr style=\"text-align: right;\">\n",
       "      <th></th>\n",
       "      <th>id_left</th>\n",
       "      <th>text_left</th>\n",
       "      <th>id_right</th>\n",
       "      <th>text_right</th>\n",
       "      <th>label</th>\n",
       "    </tr>\n",
       "  </thead>\n",
       "  <tbody>\n",
       "    <tr>\n",
       "      <th>0</th>\n",
       "      <td>Q1</td>\n",
       "      <td>how are glacier caves formed?</td>\n",
       "      <td>D1-0</td>\n",
       "      <td>A partly submerged glacier cave on Perito More...</td>\n",
       "      <td>0.0</td>\n",
       "    </tr>\n",
       "    <tr>\n",
       "      <th>1</th>\n",
       "      <td>Q1</td>\n",
       "      <td>how are glacier caves formed?</td>\n",
       "      <td>D1-1</td>\n",
       "      <td>The ice facade is approximately 60 m high</td>\n",
       "      <td>0.0</td>\n",
       "    </tr>\n",
       "    <tr>\n",
       "      <th>2</th>\n",
       "      <td>Q1</td>\n",
       "      <td>how are glacier caves formed?</td>\n",
       "      <td>D1-2</td>\n",
       "      <td>Ice formations in the Titlis glacier cave</td>\n",
       "      <td>0.0</td>\n",
       "    </tr>\n",
       "    <tr>\n",
       "      <th>3</th>\n",
       "      <td>Q1</td>\n",
       "      <td>how are glacier caves formed?</td>\n",
       "      <td>D1-3</td>\n",
       "      <td>A glacier cave is a cave formed within the ice...</td>\n",
       "      <td>1.0</td>\n",
       "    </tr>\n",
       "    <tr>\n",
       "      <th>4</th>\n",
       "      <td>Q1</td>\n",
       "      <td>how are glacier caves formed?</td>\n",
       "      <td>D1-4</td>\n",
       "      <td>Glacier caves are often called ice caves , but...</td>\n",
       "      <td>0.0</td>\n",
       "    </tr>\n",
       "  </tbody>\n",
       "</table>\n",
       "</div>"
      ],
      "text/plain": [
       "  id_left                      text_left id_right  \\\n",
       "0      Q1  how are glacier caves formed?     D1-0   \n",
       "1      Q1  how are glacier caves formed?     D1-1   \n",
       "2      Q1  how are glacier caves formed?     D1-2   \n",
       "3      Q1  how are glacier caves formed?     D1-3   \n",
       "4      Q1  how are glacier caves formed?     D1-4   \n",
       "\n",
       "                                          text_right  label  \n",
       "0  A partly submerged glacier cave on Perito More...    0.0  \n",
       "1          The ice facade is approximately 60 m high    0.0  \n",
       "2          Ice formations in the Titlis glacier cave    0.0  \n",
       "3  A glacier cave is a cave formed within the ice...    1.0  \n",
       "4  Glacier caves are often called ice caves , but...    0.0  "
      ]
     },
     "execution_count": 7,
     "metadata": {},
     "output_type": "execute_result"
    }
   ],
   "source": [
    "train_pack.frame[:].head()"
   ]
  },
  {
   "cell_type": "code",
   "execution_count": 8,
   "metadata": {
    "ExecuteTime": {
     "end_time": "2018-11-21T02:33:52.890385Z",
     "start_time": "2018-11-21T02:33:52.624696Z"
    }
   },
   "outputs": [
    {
     "name": "stderr",
     "output_type": "stream",
     "text": [
      "Processing length_left with len: 100%|██████████| 993/993 [00:00<00:00, 274913.79it/s]\n",
      "Processing length_right with len: 100%|██████████| 9526/9526 [00:00<00:00, 458340.77it/s]\n"
     ]
    },
    {
     "data": {
      "text/html": [
       "<div>\n",
       "<style scoped>\n",
       "    .dataframe tbody tr th:only-of-type {\n",
       "        vertical-align: middle;\n",
       "    }\n",
       "\n",
       "    .dataframe tbody tr th {\n",
       "        vertical-align: top;\n",
       "    }\n",
       "\n",
       "    .dataframe thead th {\n",
       "        text-align: right;\n",
       "    }\n",
       "</style>\n",
       "<table border=\"1\" class=\"dataframe\">\n",
       "  <thead>\n",
       "    <tr style=\"text-align: right;\">\n",
       "      <th></th>\n",
       "      <th>id_left</th>\n",
       "      <th>text_left</th>\n",
       "      <th>length_left</th>\n",
       "      <th>id_right</th>\n",
       "      <th>text_right</th>\n",
       "      <th>length_right</th>\n",
       "      <th>label</th>\n",
       "    </tr>\n",
       "  </thead>\n",
       "  <tbody>\n",
       "    <tr>\n",
       "      <th>0</th>\n",
       "      <td>Q1</td>\n",
       "      <td>how are glacier caves formed?</td>\n",
       "      <td>29</td>\n",
       "      <td>D1-0</td>\n",
       "      <td>A partly submerged glacier cave on Perito More...</td>\n",
       "      <td>58</td>\n",
       "      <td>0.0</td>\n",
       "    </tr>\n",
       "    <tr>\n",
       "      <th>1</th>\n",
       "      <td>Q1</td>\n",
       "      <td>how are glacier caves formed?</td>\n",
       "      <td>29</td>\n",
       "      <td>D1-1</td>\n",
       "      <td>The ice facade is approximately 60 m high</td>\n",
       "      <td>41</td>\n",
       "      <td>0.0</td>\n",
       "    </tr>\n",
       "    <tr>\n",
       "      <th>2</th>\n",
       "      <td>Q1</td>\n",
       "      <td>how are glacier caves formed?</td>\n",
       "      <td>29</td>\n",
       "      <td>D1-2</td>\n",
       "      <td>Ice formations in the Titlis glacier cave</td>\n",
       "      <td>41</td>\n",
       "      <td>0.0</td>\n",
       "    </tr>\n",
       "    <tr>\n",
       "      <th>3</th>\n",
       "      <td>Q1</td>\n",
       "      <td>how are glacier caves formed?</td>\n",
       "      <td>29</td>\n",
       "      <td>D1-3</td>\n",
       "      <td>A glacier cave is a cave formed within the ice...</td>\n",
       "      <td>61</td>\n",
       "      <td>1.0</td>\n",
       "    </tr>\n",
       "    <tr>\n",
       "      <th>4</th>\n",
       "      <td>Q1</td>\n",
       "      <td>how are glacier caves formed?</td>\n",
       "      <td>29</td>\n",
       "      <td>D1-4</td>\n",
       "      <td>Glacier caves are often called ice caves , but...</td>\n",
       "      <td>128</td>\n",
       "      <td>0.0</td>\n",
       "    </tr>\n",
       "  </tbody>\n",
       "</table>\n",
       "</div>"
      ],
      "text/plain": [
       "  id_left                      text_left  length_left id_right  \\\n",
       "0      Q1  how are glacier caves formed?           29     D1-0   \n",
       "1      Q1  how are glacier caves formed?           29     D1-1   \n",
       "2      Q1  how are glacier caves formed?           29     D1-2   \n",
       "3      Q1  how are glacier caves formed?           29     D1-3   \n",
       "4      Q1  how are glacier caves formed?           29     D1-4   \n",
       "\n",
       "                                          text_right  length_right  label  \n",
       "0  A partly submerged glacier cave on Perito More...            58    0.0  \n",
       "1          The ice facade is approximately 60 m high            41    0.0  \n",
       "2          Ice formations in the Titlis glacier cave            41    0.0  \n",
       "3  A glacier cave is a cave formed within the ice...            61    1.0  \n",
       "4  Glacier caves are often called ice caves , but...           128    0.0  "
      ]
     },
     "execution_count": 8,
     "metadata": {},
     "output_type": "execute_result"
    }
   ],
   "source": [
    "train_pack.append_text_length(inplace=True)\n",
    "train_pack.frame[:].head()"
   ]
  },
  {
   "cell_type": "code",
   "execution_count": 9,
   "metadata": {
    "ExecuteTime": {
     "end_time": "2018-11-21T02:33:52.920033Z",
     "start_time": "2018-11-21T02:33:52.894252Z"
    }
   },
   "outputs": [
    {
     "data": {
      "text/html": [
       "<div>\n",
       "<style scoped>\n",
       "    .dataframe tbody tr th:only-of-type {\n",
       "        vertical-align: middle;\n",
       "    }\n",
       "\n",
       "    .dataframe tbody tr th {\n",
       "        vertical-align: top;\n",
       "    }\n",
       "\n",
       "    .dataframe thead th {\n",
       "        text-align: right;\n",
       "    }\n",
       "</style>\n",
       "<table border=\"1\" class=\"dataframe\">\n",
       "  <thead>\n",
       "    <tr style=\"text-align: right;\">\n",
       "      <th></th>\n",
       "      <th>id_left</th>\n",
       "      <th>text_left</th>\n",
       "      <th>id_right</th>\n",
       "      <th>text_right</th>\n",
       "    </tr>\n",
       "  </thead>\n",
       "  <tbody>\n",
       "    <tr>\n",
       "      <th>0</th>\n",
       "      <td>Q0</td>\n",
       "      <td>HOW AFRICAN AMERICANS WERE IMMIGRATED TO THE US</td>\n",
       "      <td>D0-0</td>\n",
       "      <td>African immigration to the United States refer...</td>\n",
       "    </tr>\n",
       "    <tr>\n",
       "      <th>1</th>\n",
       "      <td>Q0</td>\n",
       "      <td>HOW AFRICAN AMERICANS WERE IMMIGRATED TO THE US</td>\n",
       "      <td>D0-1</td>\n",
       "      <td>The term African in the scope of this article ...</td>\n",
       "    </tr>\n",
       "    <tr>\n",
       "      <th>2</th>\n",
       "      <td>Q0</td>\n",
       "      <td>HOW AFRICAN AMERICANS WERE IMMIGRATED TO THE US</td>\n",
       "      <td>D0-2</td>\n",
       "      <td>From the Immigration and Nationality Act of 19...</td>\n",
       "    </tr>\n",
       "    <tr>\n",
       "      <th>3</th>\n",
       "      <td>Q0</td>\n",
       "      <td>HOW AFRICAN AMERICANS WERE IMMIGRATED TO THE US</td>\n",
       "      <td>D0-3</td>\n",
       "      <td>African immigrants in the United States come f...</td>\n",
       "    </tr>\n",
       "    <tr>\n",
       "      <th>4</th>\n",
       "      <td>Q0</td>\n",
       "      <td>HOW AFRICAN AMERICANS WERE IMMIGRATED TO THE US</td>\n",
       "      <td>D0-4</td>\n",
       "      <td>They include people from different national, l...</td>\n",
       "    </tr>\n",
       "  </tbody>\n",
       "</table>\n",
       "</div>"
      ],
      "text/plain": [
       "  id_left                                        text_left id_right  \\\n",
       "0      Q0  HOW AFRICAN AMERICANS WERE IMMIGRATED TO THE US     D0-0   \n",
       "1      Q0  HOW AFRICAN AMERICANS WERE IMMIGRATED TO THE US     D0-1   \n",
       "2      Q0  HOW AFRICAN AMERICANS WERE IMMIGRATED TO THE US     D0-2   \n",
       "3      Q0  HOW AFRICAN AMERICANS WERE IMMIGRATED TO THE US     D0-3   \n",
       "4      Q0  HOW AFRICAN AMERICANS WERE IMMIGRATED TO THE US     D0-4   \n",
       "\n",
       "                                          text_right  \n",
       "0  African immigration to the United States refer...  \n",
       "1  The term African in the scope of this article ...  \n",
       "2  From the Immigration and Nationality Act of 19...  \n",
       "3  African immigrants in the United States come f...  \n",
       "4  They include people from different national, l...  "
      ]
     },
     "execution_count": 9,
     "metadata": {},
     "output_type": "execute_result"
    }
   ],
   "source": [
    "predict_pack.frame[:].head()"
   ]
  },
  {
   "cell_type": "markdown",
   "metadata": {},
   "source": [
    "## Preprocess Data"
   ]
  },
  {
   "cell_type": "code",
   "execution_count": 10,
   "metadata": {
    "ExecuteTime": {
     "end_time": "2018-11-21T02:33:56.638774Z",
     "start_time": "2018-11-21T02:33:52.922318Z"
    }
   },
   "outputs": [
    {
     "name": "stderr",
     "output_type": "stream",
     "text": [
      "Processing text_left with chain_transform of TokenizeUnit => LowercaseUnit => PuncRemovalUnit => StopRemovalUnit => NgramLetterUnit: 100%|██████████| 993/993 [00:00<00:00, 5248.83it/s]\n",
      "Processing text_right with chain_transform of TokenizeUnit => LowercaseUnit => PuncRemovalUnit => StopRemovalUnit => NgramLetterUnit: 100%|██████████| 9526/9526 [00:03<00:00, 3097.91it/s]\n",
      "Processing text_left with extend: 100%|██████████| 993/993 [00:00<00:00, 409653.18it/s]\n",
      "Processing text_right with extend: 100%|██████████| 9526/9526 [00:00<00:00, 285986.87it/s]\n",
      "Fitting vocabulary unit.: 100%|██████████| 816312/816312 [00:00<00:00, 2236408.36it/s]\n"
     ]
    },
    {
     "data": {
      "text/plain": [
       "<matchzoo.preprocessors.dssm_preprocessor.DSSMPreprocessor at 0x121a744e0>"
      ]
     },
     "execution_count": 10,
     "metadata": {},
     "output_type": "execute_result"
    }
   ],
   "source": [
    "preprocessor = mz.preprocessors.DSSMPreprocessor()\n",
    "preprocessor.fit(train_pack)"
   ]
  },
  {
   "cell_type": "code",
   "execution_count": 11,
   "metadata": {
    "ExecuteTime": {
     "end_time": "2018-11-21T02:34:01.521024Z",
     "start_time": "2018-11-21T02:33:56.640404Z"
    }
   },
   "outputs": [
    {
     "name": "stderr",
     "output_type": "stream",
     "text": [
      "Processing text_left with chain_transform of TokenizeUnit => LowercaseUnit => PuncRemovalUnit => StopRemovalUnit => NgramLetterUnit => WordHashingUnit: 100%|██████████| 993/993 [00:00<00:00, 2531.83it/s]\n",
      "Processing text_right with chain_transform of TokenizeUnit => LowercaseUnit => PuncRemovalUnit => StopRemovalUnit => NgramLetterUnit => WordHashingUnit: 100%|██████████| 9526/9526 [00:03<00:00, 2390.70it/s]\n",
      "Processing text_left with chain_transform of TokenizeUnit => LowercaseUnit => PuncRemovalUnit => StopRemovalUnit => NgramLetterUnit => WordHashingUnit: 100%|██████████| 108/108 [00:00<00:00, 4943.90it/s]\n",
      "Processing text_right with chain_transform of TokenizeUnit => LowercaseUnit => PuncRemovalUnit => StopRemovalUnit => NgramLetterUnit => WordHashingUnit: 100%|██████████| 992/992 [00:00<00:00, 2133.33it/s]\n"
     ]
    }
   ],
   "source": [
    "train_pack_processed = preprocessor.transform(train_pack)\n",
    "predict_pack_processed = preprocessor.transform(predict_pack)"
   ]
  },
  {
   "cell_type": "markdown",
   "metadata": {
    "ExecuteTime": {
     "end_time": "2018-11-10T02:34:54.973094Z",
     "start_time": "2018-11-10T02:34:54.970086Z"
    }
   },
   "source": [
    "## Generate Data"
   ]
  },
  {
   "cell_type": "code",
   "execution_count": 12,
   "metadata": {
    "ExecuteTime": {
     "end_time": "2018-11-21T02:34:01.526629Z",
     "start_time": "2018-11-21T02:34:01.522974Z"
    },
    "collapsed": true
   },
   "outputs": [],
   "source": [
    "train_generator = mz.DataGenerator(train_pack_processed, batch_size=32)"
   ]
  },
  {
   "cell_type": "code",
   "execution_count": 13,
   "metadata": {
    "ExecuteTime": {
     "end_time": "2018-11-21T02:34:01.591712Z",
     "start_time": "2018-11-21T02:34:01.529040Z"
    },
    "collapsed": true
   },
   "outputs": [],
   "source": [
    "first_batch = train_generator[0]\n",
    "last_batch = train_generator[-1]\n",
    "batch_slice = train_generator[2:5]\n",
    "X, y = first_batch"
   ]
  },
  {
   "cell_type": "code",
   "execution_count": 14,
   "metadata": {
    "ExecuteTime": {
     "end_time": "2018-11-21T02:34:01.607989Z",
     "start_time": "2018-11-21T02:34:01.594848Z"
    }
   },
   "outputs": [
    {
     "data": {
      "text/plain": [
       "{'id_left': array(['Q885', 'Q642', 'Q1287', 'Q504', 'Q61', 'Q480', 'Q902', 'Q602',\n",
       "        'Q1205', 'Q402', 'Q255', 'Q360', 'Q261', 'Q661', 'Q953', 'Q238',\n",
       "        'Q464', 'Q1333', 'Q1257', 'Q1405', 'Q590', 'Q799', 'Q816', 'Q970',\n",
       "        'Q13', 'Q208', 'Q1143', 'Q247', 'Q654', 'Q483', 'Q654', 'Q466'],\n",
       "       dtype='<U5'), 'text_left': array([[0., 0., 0., ..., 0., 0., 0.],\n",
       "        [0., 0., 0., ..., 0., 0., 0.],\n",
       "        [0., 0., 0., ..., 0., 0., 0.],\n",
       "        ...,\n",
       "        [0., 0., 0., ..., 0., 0., 0.],\n",
       "        [0., 0., 0., ..., 0., 0., 0.],\n",
       "        [0., 0., 0., ..., 0., 0., 0.]]), 'length_left': array([38, 44, 25, 32, 24, 26, 38, 41, 19, 34, 44, 25, 28, 52, 38, 32, 48,\n",
       "        21, 41, 41, 46, 25, 29, 33, 34, 36, 20, 24, 27, 66, 27, 48]), 'id_right': array(['D856-1', 'D627-7', 'D1231-5', 'D497-2', 'D61-4', 'D473-3',\n",
       "        'D872-6', 'D591-14', 'D1154-13', 'D400-9', 'D255-2', 'D359-13',\n",
       "        'D261-0', 'D645-0', 'D921-7', 'D238-1', 'D457-16', 'D1274-1',\n",
       "        'D1202-12', 'D1197-3', 'D580-1', 'D773-2', 'D790-15', 'D255-3',\n",
       "        'D13-7', 'D208-9', 'D1100-5', 'D247-7', 'D639-5', 'D476-6',\n",
       "        'D639-3', 'D459-17'], dtype='<U8'), 'text_right': array([[0., 0., 0., ..., 0., 0., 0.],\n",
       "        [0., 0., 0., ..., 0., 0., 0.],\n",
       "        [0., 0., 0., ..., 0., 0., 0.],\n",
       "        ...,\n",
       "        [0., 0., 0., ..., 0., 0., 0.],\n",
       "        [0., 0., 0., ..., 0., 0., 0.],\n",
       "        [0., 0., 0., ..., 0., 0., 0.]]), 'length_right': array([102, 318,  66,  68, 136, 110, 117, 144, 113, 103, 152, 160, 115,\n",
       "        112, 199,  49, 231,  89, 150, 137, 169, 155, 143, 218, 270,  89,\n",
       "        219, 114,  96, 138, 160,  55])}"
      ]
     },
     "execution_count": 14,
     "metadata": {},
     "output_type": "execute_result"
    }
   ],
   "source": [
    "X"
   ]
  },
  {
   "cell_type": "code",
   "execution_count": 15,
   "metadata": {
    "ExecuteTime": {
     "end_time": "2018-11-21T02:34:01.617626Z",
     "start_time": "2018-11-21T02:34:01.611594Z"
    }
   },
   "outputs": [
    {
     "data": {
      "text/plain": [
       "array([0., 0., 0., 0., 0., 0., 0., 0., 0., 0., 0., 0., 1., 0., 0., 0., 0.,\n",
       "       0., 0., 0., 0., 0., 0., 0., 0., 0., 0., 0., 0., 0., 0., 0.])"
      ]
     },
     "execution_count": 15,
     "metadata": {},
     "output_type": "execute_result"
    }
   ],
   "source": [
    "y"
   ]
  },
  {
   "cell_type": "code",
   "execution_count": 16,
   "metadata": {
    "ExecuteTime": {
     "end_time": "2018-11-21T02:34:01.626440Z",
     "start_time": "2018-11-21T02:34:01.620608Z"
    }
   },
   "outputs": [
    {
     "data": {
      "text/plain": [
       "(96,)"
      ]
     },
     "execution_count": 16,
     "metadata": {},
     "output_type": "execute_result"
    }
   ],
   "source": [
    "X, y = batch_slice\n",
    "y.shape"
   ]
  },
  {
   "cell_type": "markdown",
   "metadata": {
    "ExecuteTime": {
     "end_time": "2018-11-10T02:35:25.875534Z",
     "start_time": "2018-11-10T02:35:25.873244Z"
    }
   },
   "source": [
    "## Model Building"
   ]
  },
  {
   "cell_type": "code",
   "execution_count": 17,
   "metadata": {
    "ExecuteTime": {
     "end_time": "2018-11-21T02:34:01.638724Z",
     "start_time": "2018-11-21T02:34:01.629448Z"
    }
   },
   "outputs": [
    {
     "data": {
      "text/plain": [
       "['mae',\n",
       " mean_average_precision(0),\n",
       " precision@1(0),\n",
       " precision@3(0),\n",
       " discounted_cumulative_gain@1(0),\n",
       " discounted_cumulative_gain@3(0),\n",
       " discounted_cumulative_gain@5(0),\n",
       " normalized_discounted_cumulative_gain@1(0),\n",
       " normalized_discounted_cumulative_gain@3(0),\n",
       " normalized_discounted_cumulative_gain@5(0)]"
      ]
     },
     "execution_count": 17,
     "metadata": {},
     "output_type": "execute_result"
    }
   ],
   "source": [
    "ranking_task = mz.tasks.Ranking()\n",
    "ranking_task.metrics = [\n",
    "    'mae', 'map', 'precision',\n",
    "    mz.metrics.Precision(k=3),\n",
    "    mz.metrics.DiscountedCumulativeGain(k=1),\n",
    "    mz.metrics.DiscountedCumulativeGain(k=3),\n",
    "    mz.metrics.DiscountedCumulativeGain(k=5),\n",
    "    mz.metrics.NormalizedDiscountedCumulativeGain(k=1),\n",
    "    mz.metrics.NormalizedDiscountedCumulativeGain(k=3),\n",
    "    mz.metrics.NormalizedDiscountedCumulativeGain(k=5)\n",
    "]\n",
    "ranking_task.metrics"
   ]
  },
  {
   "cell_type": "code",
   "execution_count": 18,
   "metadata": {
    "ExecuteTime": {
     "end_time": "2018-11-21T02:34:01.847671Z",
     "start_time": "2018-11-21T02:34:01.642020Z"
    },
    "collapsed": true
   },
   "outputs": [],
   "source": [
    "model = mz.models.DSSMModel()\n",
    "input_shapes = preprocessor.context['input_shapes']\n",
    "model.params['input_shapes'] = input_shapes\n",
    "model.params['task'] = ranking_task\n",
    "model.guess_and_fill_missing_params()\n",
    "model.build()\n",
    "model.compile()"
   ]
  },
  {
   "cell_type": "markdown",
   "metadata": {},
   "source": [
    "## Model Training"
   ]
  },
  {
   "cell_type": "code",
   "execution_count": 19,
   "metadata": {
    "ExecuteTime": {
     "end_time": "2018-11-21T02:34:25.473083Z",
     "start_time": "2018-11-21T02:34:01.851911Z"
    }
   },
   "outputs": [
    {
     "name": "stdout",
     "output_type": "stream",
     "text": [
      "Epoch 1/2\n",
      "10000/10000 [==============================] - 11s 1ms/step - loss: 0.0569 - mean_absolute_error: 0.1513\n",
      "Epoch 2/2\n",
      "10000/10000 [==============================] - 11s 1ms/step - loss: 0.0380 - mean_absolute_error: 0.1053\n"
     ]
    },
    {
     "data": {
      "text/plain": [
       "<keras.callbacks.History at 0x124b857b8>"
      ]
     },
     "execution_count": 19,
     "metadata": {},
     "output_type": "execute_result"
    }
   ],
   "source": [
    "model.fit(*train_pack_processed.unpack(), epochs=2, batch_size=32)"
   ]
  },
  {
   "cell_type": "code",
   "execution_count": 20,
   "metadata": {
    "ExecuteTime": {
     "end_time": "2018-11-21T02:34:50.410278Z",
     "start_time": "2018-11-21T02:34:25.474793Z"
    }
   },
   "outputs": [
    {
     "name": "stdout",
     "output_type": "stream",
     "text": [
      "Epoch 1/2\n",
      "313/313 [==============================] - 12s 40ms/step - loss: 0.0299 - mean_absolute_error: 0.1003\n",
      "Epoch 2/2\n",
      "313/313 [==============================] - 12s 40ms/step - loss: 0.0246 - mean_absolute_error: 0.0995\n"
     ]
    },
    {
     "data": {
      "text/plain": [
       "<keras.callbacks.History at 0x1249b62b0>"
      ]
     },
     "execution_count": 20,
     "metadata": {},
     "output_type": "execute_result"
    }
   ],
   "source": [
    "model.fit_generator(train_generator, epochs=2, workers=4, use_multiprocessing=True)"
   ]
  },
  {
   "cell_type": "markdown",
   "metadata": {},
   "source": [
    "### Training with Dynamic Data Generator"
   ]
  },
  {
   "cell_type": "code",
   "execution_count": 23,
   "metadata": {
    "ExecuteTime": {
     "end_time": "2018-11-21T02:38:19.959866Z",
     "start_time": "2018-11-21T02:37:48.992644Z"
    }
   },
   "outputs": [
    {
     "name": "stderr",
     "output_type": "stream",
     "text": [
      "Processing text_left with chain_transform of TokenizeUnit => LowercaseUnit => PuncRemovalUnit => StopRemovalUnit => NgramLetterUnit: 100%|██████████| 993/993 [00:00<00:00, 6942.02it/s]\n",
      "Processing text_right with chain_transform of TokenizeUnit => LowercaseUnit => PuncRemovalUnit => StopRemovalUnit => NgramLetterUnit: 100%|██████████| 9526/9526 [00:02<00:00, 3819.83it/s]\n",
      "Processing text_left with extend: 100%|██████████| 993/993 [00:00<00:00, 540200.24it/s]\n",
      "Processing text_right with extend: 100%|██████████| 9526/9526 [00:00<00:00, 363197.01it/s]\n",
      "Fitting vocabulary unit.: 100%|██████████| 816312/816312 [00:00<00:00, 2844212.93it/s]\n",
      "Processing text_left with chain_transform of TokenizeUnit => LowercaseUnit => PuncRemovalUnit => StopRemovalUnit => NgramLetterUnit: 100%|██████████| 993/993 [00:00<00:00, 8610.01it/s]\n",
      "Processing text_right with chain_transform of TokenizeUnit => LowercaseUnit => PuncRemovalUnit => StopRemovalUnit => NgramLetterUnit: 100%|██████████| 9526/9526 [00:02<00:00, 4128.17it/s]\n"
     ]
    },
    {
     "name": "stdout",
     "output_type": "stream",
     "text": [
      "Epoch 1/2\n",
      "312/313 [============================>.] - ETA: 0s - loss: 0.0174 - mean_absolute_error: 0.0913Epoch 1/2\n",
      "313/313 [==============================] - 12s 39ms/step - loss: 0.0175 - mean_absolute_error: 0.0914\n",
      "Epoch 2/2\n",
      "313/313 [==============================] - 13s 42ms/step - loss: 0.0136 - mean_absolute_error: 0.0840\n"
     ]
    },
    {
     "data": {
      "text/plain": [
       "<keras.callbacks.History at 0x128fbce80>"
      ]
     },
     "execution_count": 23,
     "metadata": {},
     "output_type": "execute_result"
    }
   ],
   "source": [
    "pp_no_hashing = mz.preprocessors.DSSMPreprocessor(with_word_hashing=False)\n",
    "train_pack_processed_no_hashing = pp_no_hashing.fit_transform(train_pack)\n",
    "word_hashing_unit = mz.processor_units.WordHashingUnit(pp_no_hashing.context['term_index'])\n",
    "dynamic_data_generator = mz.data_generator.DynamicDataGenerator(word_hashing_unit.transform,\n",
    "                                                                train_pack_processed_no_hashing)\n",
    "model.fit_generator(dynamic_data_generator, epochs=2, workers=4, use_multiprocessing=True)"
   ]
  },
  {
   "cell_type": "markdown",
   "metadata": {
    "ExecuteTime": {
     "end_time": "2018-11-10T03:13:53.981929Z",
     "start_time": "2018-11-10T03:13:53.979557Z"
    }
   },
   "source": [
    "## Model Predicting "
   ]
  },
  {
   "cell_type": "code",
   "execution_count": 24,
   "metadata": {
    "ExecuteTime": {
     "end_time": "2018-11-21T02:38:23.423569Z",
     "start_time": "2018-11-21T02:38:23.365397Z"
    }
   },
   "outputs": [
    {
     "data": {
      "text/plain": [
       "array([[ 0.38934442],\n",
       "       [ 0.23543368],\n",
       "       [ 0.16310099],\n",
       "       [ 0.27964133],\n",
       "       [ 0.0442735 ],\n",
       "       [ 0.32706514],\n",
       "       [ 0.23233075],\n",
       "       [ 0.08352219],\n",
       "       [ 0.0982188 ],\n",
       "       [-0.063779  ]], dtype=float32)"
      ]
     },
     "execution_count": 24,
     "metadata": {},
     "output_type": "execute_result"
    }
   ],
   "source": [
    "model.predict(predict_pack_processed[:10].unpack()[0])"
   ]
  },
  {
   "cell_type": "markdown",
   "metadata": {},
   "source": [
    "## Model Evaluating"
   ]
  },
  {
   "cell_type": "code",
   "execution_count": 25,
   "metadata": {
    "ExecuteTime": {
     "end_time": "2018-11-21T02:38:30.105263Z",
     "start_time": "2018-11-21T02:38:24.889877Z"
    }
   },
   "outputs": [
    {
     "name": "stdout",
     "output_type": "stream",
     "text": [
      "10000/10000 [==============================] - 2s 160us/step\n"
     ]
    },
    {
     "data": {
      "text/plain": [
       "{'loss': 0.011673345744609832,\n",
       " 'mean_absolute_error': 0.07965075917243958,\n",
       " 'mean_average_precision(0)': 0.41515609264853975,\n",
       " 'precision@1(0)': 0.4149043303121853,\n",
       " 'precision@3(0)': 0.1624706277274253,\n",
       " 'discounted_cumulative_gain@1(0)': 0.5985804197847461,\n",
       " 'discounted_cumulative_gain@3(0)': 0.6619165128669006,\n",
       " 'discounted_cumulative_gain@5(0)': 0.6667312223859859,\n",
       " 'normalized_discounted_cumulative_gain@1(0)': 0.4149043303121853,\n",
       " 'normalized_discounted_cumulative_gain@3(0)': 0.4149043303121853,\n",
       " 'normalized_discounted_cumulative_gain@5(0)': 0.41533804285807996}"
      ]
     },
     "execution_count": 25,
     "metadata": {},
     "output_type": "execute_result"
    }
   ],
   "source": [
    "model.evaluate(*train_pack_processed.unpack())"
   ]
  }
 ],
 "metadata": {
  "hide_input": false,
  "kernelspec": {
   "display_name": "matchzoo",
   "language": "python",
   "name": "matchzoo"
  },
  "language_info": {
   "codemirror_mode": {
    "name": "ipython",
    "version": 3
   },
   "file_extension": ".py",
   "mimetype": "text/x-python",
   "name": "python",
   "nbconvert_exporter": "python",
   "pygments_lexer": "ipython3",
   "version": "3.6.3"
  },
  "toc": {
   "nav_menu": {},
   "number_sections": true,
   "sideBar": true,
   "skip_h1_title": false,
   "toc_cell": false,
   "toc_position": {},
   "toc_section_display": "block",
   "toc_window_display": false
  },
  "varInspector": {
   "cols": {
    "lenName": 16,
    "lenType": 16,
    "lenVar": 40
   },
   "kernels_config": {
    "python": {
     "delete_cmd_postfix": "",
     "delete_cmd_prefix": "del ",
     "library": "var_list.py",
     "varRefreshCmd": "print(var_dic_list())"
    },
    "r": {
     "delete_cmd_postfix": ") ",
     "delete_cmd_prefix": "rm(",
     "library": "var_list.r",
     "varRefreshCmd": "cat(var_dic_list()) "
    }
   },
   "types_to_exclude": [
    "module",
    "function",
    "builtin_function_or_method",
    "instance",
    "_Feature"
   ],
   "window_display": false
  }
 },
 "nbformat": 4,
 "nbformat_minor": 2
}
