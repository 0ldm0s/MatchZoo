{
 "cells": [
  {
   "cell_type": "code",
   "execution_count": 1,
   "metadata": {
    "ExecuteTime": {
     "end_time": "2018-11-23T15:04:23.811772Z",
     "start_time": "2018-11-23T15:04:21.490354Z"
    }
   },
   "outputs": [
    {
     "name": "stderr",
     "output_type": "stream",
     "text": [
      "Using TensorFlow backend.\n"
     ]
    }
   ],
   "source": [
    "import keras\n",
    "import pandas as pd\n",
    "import numpy as np\n",
    "import matchzoo as mz"
   ]
  },
  {
   "cell_type": "markdown",
   "metadata": {},
   "source": [
    "## Read Data "
   ]
  },
  {
   "cell_type": "code",
   "execution_count": 2,
   "metadata": {
    "ExecuteTime": {
     "end_time": "2018-11-23T15:04:23.880345Z",
     "start_time": "2018-11-23T15:04:23.813401Z"
    },
    "collapsed": true
   },
   "outputs": [],
   "source": [
    "def read_data(path, include_label):\n",
    "    def scan_file():\n",
    "        with open(path) as in_file:\n",
    "            next(in_file)  # skip header\n",
    "            for l in in_file:\n",
    "                yield l.strip().split('\\t')\n",
    "    if include_label:\n",
    "        return [(qid, did, q, d, float(label)) for qid, q, _, _, did, d, label in scan_file()]\n",
    "    else:\n",
    "        return [(qid, did, q, d) for qid, q, _, _, did, d, _ in scan_file()]\n",
    "\n",
    "train = read_data('data/WikiQA/WikiQACorpus/WikiQA-train.tsv', include_label=True)\n",
    "predict  = read_data('data/WikiQA/WikiQACorpus/WikiQA-test.tsv', include_label=False)"
   ]
  },
  {
   "cell_type": "markdown",
   "metadata": {},
   "source": [
    "## Pack Data"
   ]
  },
  {
   "cell_type": "code",
   "execution_count": 3,
   "metadata": {
    "ExecuteTime": {
     "end_time": "2018-11-23T15:04:23.905266Z",
     "start_time": "2018-11-23T15:04:23.881936Z"
    },
    "collapsed": true
   },
   "outputs": [],
   "source": [
    "train_pack = mz.pack(train[:10000])\n",
    "predict_pack = mz.pack(predict[:1000])"
   ]
  },
  {
   "cell_type": "code",
   "execution_count": 4,
   "metadata": {
    "ExecuteTime": {
     "end_time": "2018-11-23T15:04:23.930611Z",
     "start_time": "2018-11-23T15:04:23.906925Z"
    }
   },
   "outputs": [
    {
     "data": {
      "text/html": [
       "<div>\n",
       "<style scoped>\n",
       "    .dataframe tbody tr th:only-of-type {\n",
       "        vertical-align: middle;\n",
       "    }\n",
       "\n",
       "    .dataframe tbody tr th {\n",
       "        vertical-align: top;\n",
       "    }\n",
       "\n",
       "    .dataframe thead th {\n",
       "        text-align: right;\n",
       "    }\n",
       "</style>\n",
       "<table border=\"1\" class=\"dataframe\">\n",
       "  <thead>\n",
       "    <tr style=\"text-align: right;\">\n",
       "      <th></th>\n",
       "      <th>text_left</th>\n",
       "    </tr>\n",
       "    <tr>\n",
       "      <th>id_left</th>\n",
       "      <th></th>\n",
       "    </tr>\n",
       "  </thead>\n",
       "  <tbody>\n",
       "    <tr>\n",
       "      <th>Q1</th>\n",
       "      <td>how are glacier caves formed?</td>\n",
       "    </tr>\n",
       "    <tr>\n",
       "      <th>Q2</th>\n",
       "      <td>How are the directions of the velocity and for...</td>\n",
       "    </tr>\n",
       "    <tr>\n",
       "      <th>Q5</th>\n",
       "      <td>how did apollo creed die</td>\n",
       "    </tr>\n",
       "    <tr>\n",
       "      <th>Q6</th>\n",
       "      <td>how long is the term for federal judges</td>\n",
       "    </tr>\n",
       "    <tr>\n",
       "      <th>Q7</th>\n",
       "      <td>how a beretta model 21 pistols magazines works</td>\n",
       "    </tr>\n",
       "  </tbody>\n",
       "</table>\n",
       "</div>"
      ],
      "text/plain": [
       "                                                 text_left\n",
       "id_left                                                   \n",
       "Q1                           how are glacier caves formed?\n",
       "Q2       How are the directions of the velocity and for...\n",
       "Q5                                how did apollo creed die\n",
       "Q6                 how long is the term for federal judges\n",
       "Q7          how a beretta model 21 pistols magazines works"
      ]
     },
     "execution_count": 4,
     "metadata": {},
     "output_type": "execute_result"
    }
   ],
   "source": [
    "train_pack.left.head()"
   ]
  },
  {
   "cell_type": "code",
   "execution_count": 5,
   "metadata": {
    "ExecuteTime": {
     "end_time": "2018-11-23T15:04:23.940231Z",
     "start_time": "2018-11-23T15:04:23.933071Z"
    }
   },
   "outputs": [
    {
     "data": {
      "text/html": [
       "<div>\n",
       "<style scoped>\n",
       "    .dataframe tbody tr th:only-of-type {\n",
       "        vertical-align: middle;\n",
       "    }\n",
       "\n",
       "    .dataframe tbody tr th {\n",
       "        vertical-align: top;\n",
       "    }\n",
       "\n",
       "    .dataframe thead th {\n",
       "        text-align: right;\n",
       "    }\n",
       "</style>\n",
       "<table border=\"1\" class=\"dataframe\">\n",
       "  <thead>\n",
       "    <tr style=\"text-align: right;\">\n",
       "      <th></th>\n",
       "      <th>text_right</th>\n",
       "    </tr>\n",
       "    <tr>\n",
       "      <th>id_right</th>\n",
       "      <th></th>\n",
       "    </tr>\n",
       "  </thead>\n",
       "  <tbody>\n",
       "    <tr>\n",
       "      <th>D1-0</th>\n",
       "      <td>A partly submerged glacier cave on Perito More...</td>\n",
       "    </tr>\n",
       "    <tr>\n",
       "      <th>D1-1</th>\n",
       "      <td>The ice facade is approximately 60 m high</td>\n",
       "    </tr>\n",
       "    <tr>\n",
       "      <th>D1-2</th>\n",
       "      <td>Ice formations in the Titlis glacier cave</td>\n",
       "    </tr>\n",
       "    <tr>\n",
       "      <th>D1-3</th>\n",
       "      <td>A glacier cave is a cave formed within the ice...</td>\n",
       "    </tr>\n",
       "    <tr>\n",
       "      <th>D1-4</th>\n",
       "      <td>Glacier caves are often called ice caves , but...</td>\n",
       "    </tr>\n",
       "  </tbody>\n",
       "</table>\n",
       "</div>"
      ],
      "text/plain": [
       "                                                 text_right\n",
       "id_right                                                   \n",
       "D1-0      A partly submerged glacier cave on Perito More...\n",
       "D1-1              The ice facade is approximately 60 m high\n",
       "D1-2              Ice formations in the Titlis glacier cave\n",
       "D1-3      A glacier cave is a cave formed within the ice...\n",
       "D1-4      Glacier caves are often called ice caves , but..."
      ]
     },
     "execution_count": 5,
     "metadata": {},
     "output_type": "execute_result"
    }
   ],
   "source": [
    "train_pack.right.head()"
   ]
  },
  {
   "cell_type": "code",
   "execution_count": 6,
   "metadata": {
    "ExecuteTime": {
     "end_time": "2018-11-23T15:04:23.948903Z",
     "start_time": "2018-11-23T15:04:23.941534Z"
    }
   },
   "outputs": [
    {
     "data": {
      "text/html": [
       "<div>\n",
       "<style scoped>\n",
       "    .dataframe tbody tr th:only-of-type {\n",
       "        vertical-align: middle;\n",
       "    }\n",
       "\n",
       "    .dataframe tbody tr th {\n",
       "        vertical-align: top;\n",
       "    }\n",
       "\n",
       "    .dataframe thead th {\n",
       "        text-align: right;\n",
       "    }\n",
       "</style>\n",
       "<table border=\"1\" class=\"dataframe\">\n",
       "  <thead>\n",
       "    <tr style=\"text-align: right;\">\n",
       "      <th></th>\n",
       "      <th>id_left</th>\n",
       "      <th>id_right</th>\n",
       "      <th>label</th>\n",
       "    </tr>\n",
       "  </thead>\n",
       "  <tbody>\n",
       "    <tr>\n",
       "      <th>0</th>\n",
       "      <td>Q1</td>\n",
       "      <td>D1-0</td>\n",
       "      <td>0.0</td>\n",
       "    </tr>\n",
       "    <tr>\n",
       "      <th>1</th>\n",
       "      <td>Q1</td>\n",
       "      <td>D1-1</td>\n",
       "      <td>0.0</td>\n",
       "    </tr>\n",
       "    <tr>\n",
       "      <th>2</th>\n",
       "      <td>Q1</td>\n",
       "      <td>D1-2</td>\n",
       "      <td>0.0</td>\n",
       "    </tr>\n",
       "    <tr>\n",
       "      <th>3</th>\n",
       "      <td>Q1</td>\n",
       "      <td>D1-3</td>\n",
       "      <td>1.0</td>\n",
       "    </tr>\n",
       "    <tr>\n",
       "      <th>4</th>\n",
       "      <td>Q1</td>\n",
       "      <td>D1-4</td>\n",
       "      <td>0.0</td>\n",
       "    </tr>\n",
       "  </tbody>\n",
       "</table>\n",
       "</div>"
      ],
      "text/plain": [
       "  id_left id_right  label\n",
       "0      Q1     D1-0    0.0\n",
       "1      Q1     D1-1    0.0\n",
       "2      Q1     D1-2    0.0\n",
       "3      Q1     D1-3    1.0\n",
       "4      Q1     D1-4    0.0"
      ]
     },
     "execution_count": 6,
     "metadata": {},
     "output_type": "execute_result"
    }
   ],
   "source": [
    "train_pack.relation.head()"
   ]
  },
  {
   "cell_type": "code",
   "execution_count": 7,
   "metadata": {
    "ExecuteTime": {
     "end_time": "2018-11-23T15:04:23.996439Z",
     "start_time": "2018-11-23T15:04:23.950467Z"
    }
   },
   "outputs": [
    {
     "data": {
      "text/html": [
       "<div>\n",
       "<style scoped>\n",
       "    .dataframe tbody tr th:only-of-type {\n",
       "        vertical-align: middle;\n",
       "    }\n",
       "\n",
       "    .dataframe tbody tr th {\n",
       "        vertical-align: top;\n",
       "    }\n",
       "\n",
       "    .dataframe thead th {\n",
       "        text-align: right;\n",
       "    }\n",
       "</style>\n",
       "<table border=\"1\" class=\"dataframe\">\n",
       "  <thead>\n",
       "    <tr style=\"text-align: right;\">\n",
       "      <th></th>\n",
       "      <th>id_left</th>\n",
       "      <th>text_left</th>\n",
       "      <th>id_right</th>\n",
       "      <th>text_right</th>\n",
       "      <th>label</th>\n",
       "    </tr>\n",
       "  </thead>\n",
       "  <tbody>\n",
       "    <tr>\n",
       "      <th>0</th>\n",
       "      <td>Q1</td>\n",
       "      <td>how are glacier caves formed?</td>\n",
       "      <td>D1-0</td>\n",
       "      <td>A partly submerged glacier cave on Perito More...</td>\n",
       "      <td>0.0</td>\n",
       "    </tr>\n",
       "    <tr>\n",
       "      <th>1</th>\n",
       "      <td>Q1</td>\n",
       "      <td>how are glacier caves formed?</td>\n",
       "      <td>D1-1</td>\n",
       "      <td>The ice facade is approximately 60 m high</td>\n",
       "      <td>0.0</td>\n",
       "    </tr>\n",
       "    <tr>\n",
       "      <th>2</th>\n",
       "      <td>Q1</td>\n",
       "      <td>how are glacier caves formed?</td>\n",
       "      <td>D1-2</td>\n",
       "      <td>Ice formations in the Titlis glacier cave</td>\n",
       "      <td>0.0</td>\n",
       "    </tr>\n",
       "    <tr>\n",
       "      <th>3</th>\n",
       "      <td>Q1</td>\n",
       "      <td>how are glacier caves formed?</td>\n",
       "      <td>D1-3</td>\n",
       "      <td>A glacier cave is a cave formed within the ice...</td>\n",
       "      <td>1.0</td>\n",
       "    </tr>\n",
       "    <tr>\n",
       "      <th>4</th>\n",
       "      <td>Q1</td>\n",
       "      <td>how are glacier caves formed?</td>\n",
       "      <td>D1-4</td>\n",
       "      <td>Glacier caves are often called ice caves , but...</td>\n",
       "      <td>0.0</td>\n",
       "    </tr>\n",
       "  </tbody>\n",
       "</table>\n",
       "</div>"
      ],
      "text/plain": [
       "  id_left                      text_left id_right  \\\n",
       "0      Q1  how are glacier caves formed?     D1-0   \n",
       "1      Q1  how are glacier caves formed?     D1-1   \n",
       "2      Q1  how are glacier caves formed?     D1-2   \n",
       "3      Q1  how are glacier caves formed?     D1-3   \n",
       "4      Q1  how are glacier caves formed?     D1-4   \n",
       "\n",
       "                                          text_right  label  \n",
       "0  A partly submerged glacier cave on Perito More...    0.0  \n",
       "1          The ice facade is approximately 60 m high    0.0  \n",
       "2          Ice formations in the Titlis glacier cave    0.0  \n",
       "3  A glacier cave is a cave formed within the ice...    1.0  \n",
       "4  Glacier caves are often called ice caves , but...    0.0  "
      ]
     },
     "execution_count": 7,
     "metadata": {},
     "output_type": "execute_result"
    }
   ],
   "source": [
    "train_pack.frame[:].head()"
   ]
  },
  {
   "cell_type": "code",
   "execution_count": 8,
   "metadata": {
    "ExecuteTime": {
     "end_time": "2018-11-23T15:04:24.149723Z",
     "start_time": "2018-11-23T15:04:23.997752Z"
    }
   },
   "outputs": [
    {
     "name": "stderr",
     "output_type": "stream",
     "text": [
      "Processing length_left with len: 100%|██████████| 993/993 [00:00<00:00, 574395.79it/s]\n",
      "Processing length_right with len: 100%|██████████| 9526/9526 [00:00<00:00, 775793.95it/s]\n"
     ]
    },
    {
     "data": {
      "text/html": [
       "<div>\n",
       "<style scoped>\n",
       "    .dataframe tbody tr th:only-of-type {\n",
       "        vertical-align: middle;\n",
       "    }\n",
       "\n",
       "    .dataframe tbody tr th {\n",
       "        vertical-align: top;\n",
       "    }\n",
       "\n",
       "    .dataframe thead th {\n",
       "        text-align: right;\n",
       "    }\n",
       "</style>\n",
       "<table border=\"1\" class=\"dataframe\">\n",
       "  <thead>\n",
       "    <tr style=\"text-align: right;\">\n",
       "      <th></th>\n",
       "      <th>id_left</th>\n",
       "      <th>text_left</th>\n",
       "      <th>length_left</th>\n",
       "      <th>id_right</th>\n",
       "      <th>text_right</th>\n",
       "      <th>length_right</th>\n",
       "      <th>label</th>\n",
       "    </tr>\n",
       "  </thead>\n",
       "  <tbody>\n",
       "    <tr>\n",
       "      <th>0</th>\n",
       "      <td>Q1</td>\n",
       "      <td>how are glacier caves formed?</td>\n",
       "      <td>29</td>\n",
       "      <td>D1-0</td>\n",
       "      <td>A partly submerged glacier cave on Perito More...</td>\n",
       "      <td>58</td>\n",
       "      <td>0.0</td>\n",
       "    </tr>\n",
       "    <tr>\n",
       "      <th>1</th>\n",
       "      <td>Q1</td>\n",
       "      <td>how are glacier caves formed?</td>\n",
       "      <td>29</td>\n",
       "      <td>D1-1</td>\n",
       "      <td>The ice facade is approximately 60 m high</td>\n",
       "      <td>41</td>\n",
       "      <td>0.0</td>\n",
       "    </tr>\n",
       "    <tr>\n",
       "      <th>2</th>\n",
       "      <td>Q1</td>\n",
       "      <td>how are glacier caves formed?</td>\n",
       "      <td>29</td>\n",
       "      <td>D1-2</td>\n",
       "      <td>Ice formations in the Titlis glacier cave</td>\n",
       "      <td>41</td>\n",
       "      <td>0.0</td>\n",
       "    </tr>\n",
       "    <tr>\n",
       "      <th>3</th>\n",
       "      <td>Q1</td>\n",
       "      <td>how are glacier caves formed?</td>\n",
       "      <td>29</td>\n",
       "      <td>D1-3</td>\n",
       "      <td>A glacier cave is a cave formed within the ice...</td>\n",
       "      <td>61</td>\n",
       "      <td>1.0</td>\n",
       "    </tr>\n",
       "    <tr>\n",
       "      <th>4</th>\n",
       "      <td>Q1</td>\n",
       "      <td>how are glacier caves formed?</td>\n",
       "      <td>29</td>\n",
       "      <td>D1-4</td>\n",
       "      <td>Glacier caves are often called ice caves , but...</td>\n",
       "      <td>128</td>\n",
       "      <td>0.0</td>\n",
       "    </tr>\n",
       "  </tbody>\n",
       "</table>\n",
       "</div>"
      ],
      "text/plain": [
       "  id_left                      text_left  length_left id_right  \\\n",
       "0      Q1  how are glacier caves formed?           29     D1-0   \n",
       "1      Q1  how are glacier caves formed?           29     D1-1   \n",
       "2      Q1  how are glacier caves formed?           29     D1-2   \n",
       "3      Q1  how are glacier caves formed?           29     D1-3   \n",
       "4      Q1  how are glacier caves formed?           29     D1-4   \n",
       "\n",
       "                                          text_right  length_right  label  \n",
       "0  A partly submerged glacier cave on Perito More...            58    0.0  \n",
       "1          The ice facade is approximately 60 m high            41    0.0  \n",
       "2          Ice formations in the Titlis glacier cave            41    0.0  \n",
       "3  A glacier cave is a cave formed within the ice...            61    1.0  \n",
       "4  Glacier caves are often called ice caves , but...           128    0.0  "
      ]
     },
     "execution_count": 8,
     "metadata": {},
     "output_type": "execute_result"
    }
   ],
   "source": [
    "train_pack.append_text_length(inplace=True)\n",
    "train_pack.frame[:].head()"
   ]
  },
  {
   "cell_type": "code",
   "execution_count": 9,
   "metadata": {
    "ExecuteTime": {
     "end_time": "2018-11-23T15:04:24.169499Z",
     "start_time": "2018-11-23T15:04:24.151946Z"
    }
   },
   "outputs": [
    {
     "data": {
      "text/html": [
       "<div>\n",
       "<style scoped>\n",
       "    .dataframe tbody tr th:only-of-type {\n",
       "        vertical-align: middle;\n",
       "    }\n",
       "\n",
       "    .dataframe tbody tr th {\n",
       "        vertical-align: top;\n",
       "    }\n",
       "\n",
       "    .dataframe thead th {\n",
       "        text-align: right;\n",
       "    }\n",
       "</style>\n",
       "<table border=\"1\" class=\"dataframe\">\n",
       "  <thead>\n",
       "    <tr style=\"text-align: right;\">\n",
       "      <th></th>\n",
       "      <th>id_left</th>\n",
       "      <th>text_left</th>\n",
       "      <th>id_right</th>\n",
       "      <th>text_right</th>\n",
       "    </tr>\n",
       "  </thead>\n",
       "  <tbody>\n",
       "    <tr>\n",
       "      <th>0</th>\n",
       "      <td>Q0</td>\n",
       "      <td>HOW AFRICAN AMERICANS WERE IMMIGRATED TO THE US</td>\n",
       "      <td>D0-0</td>\n",
       "      <td>African immigration to the United States refer...</td>\n",
       "    </tr>\n",
       "    <tr>\n",
       "      <th>1</th>\n",
       "      <td>Q0</td>\n",
       "      <td>HOW AFRICAN AMERICANS WERE IMMIGRATED TO THE US</td>\n",
       "      <td>D0-1</td>\n",
       "      <td>The term African in the scope of this article ...</td>\n",
       "    </tr>\n",
       "    <tr>\n",
       "      <th>2</th>\n",
       "      <td>Q0</td>\n",
       "      <td>HOW AFRICAN AMERICANS WERE IMMIGRATED TO THE US</td>\n",
       "      <td>D0-2</td>\n",
       "      <td>From the Immigration and Nationality Act of 19...</td>\n",
       "    </tr>\n",
       "    <tr>\n",
       "      <th>3</th>\n",
       "      <td>Q0</td>\n",
       "      <td>HOW AFRICAN AMERICANS WERE IMMIGRATED TO THE US</td>\n",
       "      <td>D0-3</td>\n",
       "      <td>African immigrants in the United States come f...</td>\n",
       "    </tr>\n",
       "    <tr>\n",
       "      <th>4</th>\n",
       "      <td>Q0</td>\n",
       "      <td>HOW AFRICAN AMERICANS WERE IMMIGRATED TO THE US</td>\n",
       "      <td>D0-4</td>\n",
       "      <td>They include people from different national, l...</td>\n",
       "    </tr>\n",
       "  </tbody>\n",
       "</table>\n",
       "</div>"
      ],
      "text/plain": [
       "  id_left                                        text_left id_right  \\\n",
       "0      Q0  HOW AFRICAN AMERICANS WERE IMMIGRATED TO THE US     D0-0   \n",
       "1      Q0  HOW AFRICAN AMERICANS WERE IMMIGRATED TO THE US     D0-1   \n",
       "2      Q0  HOW AFRICAN AMERICANS WERE IMMIGRATED TO THE US     D0-2   \n",
       "3      Q0  HOW AFRICAN AMERICANS WERE IMMIGRATED TO THE US     D0-3   \n",
       "4      Q0  HOW AFRICAN AMERICANS WERE IMMIGRATED TO THE US     D0-4   \n",
       "\n",
       "                                          text_right  \n",
       "0  African immigration to the United States refer...  \n",
       "1  The term African in the scope of this article ...  \n",
       "2  From the Immigration and Nationality Act of 19...  \n",
       "3  African immigrants in the United States come f...  \n",
       "4  They include people from different national, l...  "
      ]
     },
     "execution_count": 9,
     "metadata": {},
     "output_type": "execute_result"
    }
   ],
   "source": [
    "predict_pack.frame[:].head()"
   ]
  },
  {
   "cell_type": "markdown",
   "metadata": {},
   "source": [
    "## Preprocess Data"
   ]
  },
  {
   "cell_type": "code",
   "execution_count": 10,
   "metadata": {
    "ExecuteTime": {
     "end_time": "2018-11-23T15:04:27.012685Z",
     "start_time": "2018-11-23T15:04:24.171470Z"
    }
   },
   "outputs": [
    {
     "name": "stderr",
     "output_type": "stream",
     "text": [
      "Processing text_left with chain_transform of TokenizeUnit => LowercaseUnit => PuncRemovalUnit => StopRemovalUnit => NgramLetterUnit: 100%|██████████| 993/993 [00:00<00:00, 7565.60it/s]\n",
      "Processing text_right with chain_transform of TokenizeUnit => LowercaseUnit => PuncRemovalUnit => StopRemovalUnit => NgramLetterUnit: 100%|██████████| 9526/9526 [00:02<00:00, 4003.18it/s]\n",
      "Processing text_left with extend: 100%|██████████| 993/993 [00:00<00:00, 589017.66it/s]\n",
      "Processing text_right with extend: 100%|██████████| 9526/9526 [00:00<00:00, 414672.51it/s]\n",
      "Fitting vocabulary unit.: 100%|██████████| 816312/816312 [00:00<00:00, 3083037.10it/s]\n"
     ]
    },
    {
     "data": {
      "text/plain": [
       "<matchzoo.preprocessors.dssm_preprocessor.DSSMPreprocessor at 0x122e9f668>"
      ]
     },
     "execution_count": 10,
     "metadata": {},
     "output_type": "execute_result"
    }
   ],
   "source": [
    "preprocessor = mz.preprocessors.DSSMPreprocessor()\n",
    "preprocessor.fit(train_pack)"
   ]
  },
  {
   "cell_type": "code",
   "execution_count": 11,
   "metadata": {
    "ExecuteTime": {
     "end_time": "2018-11-23T15:04:30.761868Z",
     "start_time": "2018-11-23T15:04:27.014421Z"
    }
   },
   "outputs": [
    {
     "name": "stderr",
     "output_type": "stream",
     "text": [
      "Processing text_left with chain_transform of TokenizeUnit => LowercaseUnit => PuncRemovalUnit => StopRemovalUnit => NgramLetterUnit => WordHashingUnit: 100%|██████████| 993/993 [00:00<00:00, 5333.18it/s]\n",
      "Processing text_right with chain_transform of TokenizeUnit => LowercaseUnit => PuncRemovalUnit => StopRemovalUnit => NgramLetterUnit => WordHashingUnit: 100%|██████████| 9526/9526 [00:03<00:00, 2993.12it/s]\n",
      "Processing text_left with chain_transform of TokenizeUnit => LowercaseUnit => PuncRemovalUnit => StopRemovalUnit => NgramLetterUnit => WordHashingUnit: 100%|██████████| 108/108 [00:00<00:00, 5145.33it/s]\n",
      "Processing text_right with chain_transform of TokenizeUnit => LowercaseUnit => PuncRemovalUnit => StopRemovalUnit => NgramLetterUnit => WordHashingUnit: 100%|██████████| 992/992 [00:00<00:00, 2895.21it/s]\n"
     ]
    }
   ],
   "source": [
    "train_pack_processed = preprocessor.transform(train_pack)\n",
    "predict_pack_processed = preprocessor.transform(predict_pack)"
   ]
  },
  {
   "cell_type": "markdown",
   "metadata": {
    "ExecuteTime": {
     "end_time": "2018-11-10T02:34:54.973094Z",
     "start_time": "2018-11-10T02:34:54.970086Z"
    }
   },
   "source": [
    "## Generate Data"
   ]
  },
  {
   "cell_type": "code",
   "execution_count": 12,
   "metadata": {
    "ExecuteTime": {
     "end_time": "2018-11-23T15:04:30.766441Z",
     "start_time": "2018-11-23T15:04:30.763515Z"
    },
    "collapsed": true
   },
   "outputs": [],
   "source": [
    "train_generator = mz.DataGenerator(train_pack_processed, batch_size=32)"
   ]
  },
  {
   "cell_type": "code",
   "execution_count": 13,
   "metadata": {
    "ExecuteTime": {
     "end_time": "2018-11-23T15:04:30.820144Z",
     "start_time": "2018-11-23T15:04:30.768265Z"
    },
    "collapsed": true
   },
   "outputs": [],
   "source": [
    "first_batch = train_generator[0]\n",
    "last_batch = train_generator[-1]\n",
    "batch_slice = train_generator[2:5]\n",
    "X, y = first_batch"
   ]
  },
  {
   "cell_type": "code",
   "execution_count": 14,
   "metadata": {
    "ExecuteTime": {
     "end_time": "2018-11-23T15:04:30.827562Z",
     "start_time": "2018-11-23T15:04:30.821969Z"
    }
   },
   "outputs": [
    {
     "data": {
      "text/plain": [
       "{'id_left': array(['Q1174', 'Q1114', 'Q1166', 'Q341', 'Q475', 'Q660', 'Q313', 'Q325',\n",
       "        'Q521', 'Q433', 'Q1387', 'Q873', 'Q332', 'Q745', 'Q621', 'Q433',\n",
       "        'Q96', 'Q206', 'Q866', 'Q783', 'Q749', 'Q379', 'Q975', 'Q573',\n",
       "        'Q42', 'Q1024', 'Q866', 'Q576', 'Q981', 'Q478', 'Q30', 'Q1036'],\n",
       "       dtype='<U5'), 'text_left': array([[0., 0., 0., ..., 0., 0., 0.],\n",
       "        [0., 0., 0., ..., 0., 0., 0.],\n",
       "        [0., 0., 0., ..., 0., 0., 0.],\n",
       "        ...,\n",
       "        [0., 0., 0., ..., 0., 0., 0.],\n",
       "        [0., 0., 0., ..., 0., 0., 0.],\n",
       "        [0., 0., 0., ..., 0., 0., 0.]]), 'length_left': array([34, 24, 81, 41, 30, 31, 40, 30, 33, 23, 28, 39, 51, 38, 23, 23, 43,\n",
       "        45, 68, 33, 25, 31, 40, 41, 28, 25, 68, 40, 22, 33, 41, 24]), 'id_right': array(['D1127-2', 'D1072-15', 'D1120-4', 'D340-5', 'D468-4', 'D644-6',\n",
       "        'D312-4', 'D324-11', 'D513-1', 'D428-14', 'D1324-1', 'D846-11',\n",
       "        'D331-10', 'D723-1', 'D339-7', 'D428-11', 'D96-1', 'D206-5',\n",
       "        'D839-15', 'D757-5', 'D727-13', 'D377-8', 'D941-7', 'D564-5',\n",
       "        'D42-4', 'D987-4', 'D839-5', 'D567-1', 'D947-12', 'D471-1',\n",
       "        'D30-26', 'D999-4'], dtype='<U8'), 'text_right': array([[0., 0., 0., ..., 0., 0., 0.],\n",
       "        [0., 0., 0., ..., 0., 0., 0.],\n",
       "        [0., 0., 0., ..., 0., 0., 0.],\n",
       "        ...,\n",
       "        [0., 0., 0., ..., 0., 0., 0.],\n",
       "        [0., 0., 0., ..., 0., 0., 0.],\n",
       "        [0., 0., 0., ..., 0., 0., 0.]]), 'length_right': array([413,  60,  94, 162, 130, 187, 245,  63,  20,  84, 137, 177,  69,\n",
       "        176, 130, 131, 196, 166, 104, 147,  97,  65,  82,  43, 228, 254,\n",
       "        191, 116, 114, 210,  92,  46])}"
      ]
     },
     "execution_count": 14,
     "metadata": {},
     "output_type": "execute_result"
    }
   ],
   "source": [
    "X"
   ]
  },
  {
   "cell_type": "code",
   "execution_count": 15,
   "metadata": {
    "ExecuteTime": {
     "end_time": "2018-11-23T15:04:30.834540Z",
     "start_time": "2018-11-23T15:04:30.830098Z"
    }
   },
   "outputs": [
    {
     "data": {
      "text/plain": [
       "array([0., 0., 0., 0., 0., 0., 0., 0., 0., 0., 0., 0., 0., 1., 0., 0., 0.,\n",
       "       0., 0., 0., 0., 0., 0., 0., 0., 0., 0., 0., 0., 0., 0., 0.])"
      ]
     },
     "execution_count": 15,
     "metadata": {},
     "output_type": "execute_result"
    }
   ],
   "source": [
    "y"
   ]
  },
  {
   "cell_type": "code",
   "execution_count": 16,
   "metadata": {
    "ExecuteTime": {
     "end_time": "2018-11-23T15:04:30.840079Z",
     "start_time": "2018-11-23T15:04:30.836409Z"
    }
   },
   "outputs": [
    {
     "data": {
      "text/plain": [
       "(96,)"
      ]
     },
     "execution_count": 16,
     "metadata": {},
     "output_type": "execute_result"
    }
   ],
   "source": [
    "X, y = batch_slice\n",
    "y.shape"
   ]
  },
  {
   "cell_type": "markdown",
   "metadata": {
    "ExecuteTime": {
     "end_time": "2018-11-10T02:35:25.875534Z",
     "start_time": "2018-11-10T02:35:25.873244Z"
    }
   },
   "source": [
    "## Model Building"
   ]
  },
  {
   "cell_type": "code",
   "execution_count": 17,
   "metadata": {
    "ExecuteTime": {
     "end_time": "2018-11-23T15:04:30.848209Z",
     "start_time": "2018-11-23T15:04:30.842075Z"
    }
   },
   "outputs": [
    {
     "data": {
      "text/plain": [
       "['mae',\n",
       " mean_average_precision(0),\n",
       " precision@1(0),\n",
       " precision@3(0),\n",
       " discounted_cumulative_gain@1(0),\n",
       " discounted_cumulative_gain@3(0),\n",
       " discounted_cumulative_gain@5(0),\n",
       " normalized_discounted_cumulative_gain@1(0),\n",
       " normalized_discounted_cumulative_gain@3(0),\n",
       " normalized_discounted_cumulative_gain@5(0)]"
      ]
     },
     "execution_count": 17,
     "metadata": {},
     "output_type": "execute_result"
    }
   ],
   "source": [
    "ranking_task = mz.tasks.Ranking()\n",
    "ranking_task.metrics = [\n",
    "    'mae', 'map', 'precision',\n",
    "    mz.metrics.Precision(k=3),\n",
    "    mz.metrics.DiscountedCumulativeGain(k=1),\n",
    "    mz.metrics.DiscountedCumulativeGain(k=3),\n",
    "    mz.metrics.DiscountedCumulativeGain(k=5),\n",
    "    mz.metrics.NormalizedDiscountedCumulativeGain(k=1),\n",
    "    mz.metrics.NormalizedDiscountedCumulativeGain(k=3),\n",
    "    mz.metrics.NormalizedDiscountedCumulativeGain(k=5)\n",
    "]\n",
    "ranking_task.metrics"
   ]
  },
  {
   "cell_type": "code",
   "execution_count": 18,
   "metadata": {
    "ExecuteTime": {
     "end_time": "2018-11-23T15:04:30.855082Z",
     "start_time": "2018-11-23T15:04:30.849976Z"
    },
    "collapsed": true
   },
   "outputs": [],
   "source": [
    "import keras.layers\n",
    "from matchzoo import engine\n",
    "\n",
    "class SimpleEmbeddingModel(engine.BaseModel):\n",
    "    @classmethod\n",
    "    def get_default_params(cls) -> engine.ParamTable:\n",
    "        \"\"\":return: model default parameters.\"\"\"\n",
    "        params = super().get_default_params(with_embedding=True)\n",
    "        params.add(engine.param.Param(\n",
    "            name='num_dense_units',\n",
    "            value=512,\n",
    "            hyper_space=engine.hyper_spaces.quniform(low=32, high=1024),\n",
    "            validator=lambda x: 0 < x < 2048\n",
    "        ))\n",
    "        return params\n",
    "\n",
    "    def build(self):\n",
    "        \"\"\"Model structure.\"\"\"\n",
    "        x_in = [keras.layers.Input(name=name, shape=shape)\n",
    "                for name, shape in zip(['text_left', 'text_right'],\n",
    "                                       self._params['input_shapes'])]\n",
    "        x = keras.layers.concatenate(x_in)\n",
    "        x = keras.layers.embeddings.Embedding(*self._params['embedding_shape'], name='embedding')(x)\n",
    "        x = keras.layers.Dense(self._params['num_dense_units'],\n",
    "                               activation='relu')(x)\n",
    "        x_out = self._make_output_layer()(x)\n",
    "        self._backend = keras.models.Model(inputs=x_in, outputs=x_out)"
   ]
  },
  {
   "cell_type": "code",
   "execution_count": 19,
   "metadata": {
    "ExecuteTime": {
     "end_time": "2018-11-23T15:04:30.949354Z",
     "start_time": "2018-11-23T15:04:30.857105Z"
    }
   },
   "outputs": [],
   "source": [
    "model = SimpleEmbeddingModel()\n",
    "model.params['task'] = ranking_task\n",
    "model.params['embedding_shape'] = (len(preprocessor.context['term_index']) + 1, 300)\n",
    "model.guess_and_fill_missing_params()\n",
    "model.build()\n",
    "model.compile()"
   ]
  },
  {
   "cell_type": "code",
   "execution_count": 20,
   "metadata": {
    "ExecuteTime": {
     "end_time": "2018-11-23T15:04:30.992327Z",
     "start_time": "2018-11-23T15:04:30.951168Z"
    },
    "collapsed": true
   },
   "outputs": [],
   "source": [
    "vocab = preprocessor.context['term_index']\n",
    "embedding_matrix = np.random.uniform(-0.2, 0.2, model.params['embedding_shape'])"
   ]
  },
  {
   "cell_type": "code",
   "execution_count": 21,
   "metadata": {
    "ExecuteTime": {
     "end_time": "2018-11-23T15:04:31.071909Z",
     "start_time": "2018-11-23T15:04:30.994184Z"
    },
    "collapsed": true
   },
   "outputs": [],
   "source": [
    "model.load_embedding_matrix(embedding_matrix)"
   ]
  },
  {
   "cell_type": "markdown",
   "metadata": {},
   "source": [
    "## Model Training"
   ]
  },
  {
   "cell_type": "code",
   "execution_count": 22,
   "metadata": {
    "ExecuteTime": {
     "end_time": "2018-11-23T15:04:32.441809Z",
     "start_time": "2018-11-23T15:04:31.074356Z"
    }
   },
   "outputs": [
    {
     "ename": "ValueError",
     "evalue": "Error when checking input: expected text_left to have shape (30,) but got array with shape (7888,)",
     "output_type": "error",
     "traceback": [
      "\u001b[1;31m---------------------------------------------------------------------------\u001b[0m",
      "\u001b[1;31mValueError\u001b[0m                                Traceback (most recent call last)",
      "\u001b[1;32m<ipython-input-22-d3639fdd9791>\u001b[0m in \u001b[0;36m<module>\u001b[1;34m()\u001b[0m\n\u001b[1;32m----> 1\u001b[1;33m \u001b[0mmodel\u001b[0m\u001b[1;33m.\u001b[0m\u001b[0mfit\u001b[0m\u001b[1;33m(\u001b[0m\u001b[1;33m*\u001b[0m\u001b[0mtrain_pack_processed\u001b[0m\u001b[1;33m.\u001b[0m\u001b[0munpack\u001b[0m\u001b[1;33m(\u001b[0m\u001b[1;33m)\u001b[0m\u001b[1;33m,\u001b[0m \u001b[0mepochs\u001b[0m\u001b[1;33m=\u001b[0m\u001b[1;36m2\u001b[0m\u001b[1;33m,\u001b[0m \u001b[0mbatch_size\u001b[0m\u001b[1;33m=\u001b[0m\u001b[1;36m32\u001b[0m\u001b[1;33m)\u001b[0m\u001b[1;33m\u001b[0m\u001b[0m\n\u001b[0m",
      "\u001b[1;32m~/GoogleDrive/Coding/MatchZoo/matchzoo/engine/base_model.py\u001b[0m in \u001b[0;36mfit\u001b[1;34m(self, x, y, batch_size, epochs, verbose)\u001b[0m\n\u001b[0;32m    160\u001b[0m         return self._backend.fit(x=x, y=y,\n\u001b[0;32m    161\u001b[0m                                  \u001b[0mbatch_size\u001b[0m\u001b[1;33m=\u001b[0m\u001b[0mbatch_size\u001b[0m\u001b[1;33m,\u001b[0m \u001b[0mepochs\u001b[0m\u001b[1;33m=\u001b[0m\u001b[0mepochs\u001b[0m\u001b[1;33m,\u001b[0m\u001b[1;33m\u001b[0m\u001b[0m\n\u001b[1;32m--> 162\u001b[1;33m                                  verbose=verbose)\n\u001b[0m\u001b[0;32m    163\u001b[0m \u001b[1;33m\u001b[0m\u001b[0m\n\u001b[0;32m    164\u001b[0m     def fit_generator(\n",
      "\u001b[1;32m~/.local/share/virtualenvs/MatchZoo-SOcGdeNY/lib/python3.6/site-packages/keras/engine/training.py\u001b[0m in \u001b[0;36mfit\u001b[1;34m(self, x, y, batch_size, epochs, verbose, callbacks, validation_split, validation_data, shuffle, class_weight, sample_weight, initial_epoch, steps_per_epoch, validation_steps, **kwargs)\u001b[0m\n\u001b[0;32m    953\u001b[0m             \u001b[0msample_weight\u001b[0m\u001b[1;33m=\u001b[0m\u001b[0msample_weight\u001b[0m\u001b[1;33m,\u001b[0m\u001b[1;33m\u001b[0m\u001b[0m\n\u001b[0;32m    954\u001b[0m             \u001b[0mclass_weight\u001b[0m\u001b[1;33m=\u001b[0m\u001b[0mclass_weight\u001b[0m\u001b[1;33m,\u001b[0m\u001b[1;33m\u001b[0m\u001b[0m\n\u001b[1;32m--> 955\u001b[1;33m             batch_size=batch_size)\n\u001b[0m\u001b[0;32m    956\u001b[0m         \u001b[1;31m# Prepare validation data.\u001b[0m\u001b[1;33m\u001b[0m\u001b[1;33m\u001b[0m\u001b[0m\n\u001b[0;32m    957\u001b[0m         \u001b[0mdo_validation\u001b[0m \u001b[1;33m=\u001b[0m \u001b[1;32mFalse\u001b[0m\u001b[1;33m\u001b[0m\u001b[0m\n",
      "\u001b[1;32m~/.local/share/virtualenvs/MatchZoo-SOcGdeNY/lib/python3.6/site-packages/keras/engine/training.py\u001b[0m in \u001b[0;36m_standardize_user_data\u001b[1;34m(self, x, y, sample_weight, class_weight, check_array_lengths, batch_size)\u001b[0m\n\u001b[0;32m    752\u001b[0m             \u001b[0mfeed_input_shapes\u001b[0m\u001b[1;33m,\u001b[0m\u001b[1;33m\u001b[0m\u001b[0m\n\u001b[0;32m    753\u001b[0m             \u001b[0mcheck_batch_axis\u001b[0m\u001b[1;33m=\u001b[0m\u001b[1;32mFalse\u001b[0m\u001b[1;33m,\u001b[0m  \u001b[1;31m# Don't enforce the batch size.\u001b[0m\u001b[1;33m\u001b[0m\u001b[0m\n\u001b[1;32m--> 754\u001b[1;33m             exception_prefix='input')\n\u001b[0m\u001b[0;32m    755\u001b[0m \u001b[1;33m\u001b[0m\u001b[0m\n\u001b[0;32m    756\u001b[0m         \u001b[1;32mif\u001b[0m \u001b[0my\u001b[0m \u001b[1;32mis\u001b[0m \u001b[1;32mnot\u001b[0m \u001b[1;32mNone\u001b[0m\u001b[1;33m:\u001b[0m\u001b[1;33m\u001b[0m\u001b[0m\n",
      "\u001b[1;32m~/.local/share/virtualenvs/MatchZoo-SOcGdeNY/lib/python3.6/site-packages/keras/engine/training_utils.py\u001b[0m in \u001b[0;36mstandardize_input_data\u001b[1;34m(data, names, shapes, check_batch_axis, exception_prefix)\u001b[0m\n\u001b[0;32m    134\u001b[0m                             \u001b[1;34m': expected '\u001b[0m \u001b[1;33m+\u001b[0m \u001b[0mnames\u001b[0m\u001b[1;33m[\u001b[0m\u001b[0mi\u001b[0m\u001b[1;33m]\u001b[0m \u001b[1;33m+\u001b[0m \u001b[1;34m' to have shape '\u001b[0m \u001b[1;33m+\u001b[0m\u001b[1;33m\u001b[0m\u001b[0m\n\u001b[0;32m    135\u001b[0m                             \u001b[0mstr\u001b[0m\u001b[1;33m(\u001b[0m\u001b[0mshape\u001b[0m\u001b[1;33m)\u001b[0m \u001b[1;33m+\u001b[0m \u001b[1;34m' but got array with shape '\u001b[0m \u001b[1;33m+\u001b[0m\u001b[1;33m\u001b[0m\u001b[0m\n\u001b[1;32m--> 136\u001b[1;33m                             str(data_shape))\n\u001b[0m\u001b[0;32m    137\u001b[0m     \u001b[1;32mreturn\u001b[0m \u001b[0mdata\u001b[0m\u001b[1;33m\u001b[0m\u001b[0m\n\u001b[0;32m    138\u001b[0m \u001b[1;33m\u001b[0m\u001b[0m\n",
      "\u001b[1;31mValueError\u001b[0m: Error when checking input: expected text_left to have shape (30,) but got array with shape (7888,)"
     ]
    }
   ],
   "source": [
    "model.fit(*train_pack_processed.unpack(), epochs=2, batch_size=32)"
   ]
  },
  {
   "cell_type": "code",
   "execution_count": null,
   "metadata": {
    "ExecuteTime": {
     "end_time": "2018-11-23T15:04:32.442667Z",
     "start_time": "2018-11-23T15:04:21.538Z"
    }
   },
   "outputs": [],
   "source": [
    "model.fit_generator(train_generator, epochs=2, workers=4, use_multiprocessing=True)"
   ]
  },
  {
   "cell_type": "markdown",
   "metadata": {},
   "source": [
    "### Training with Dynamic Data Generator"
   ]
  },
  {
   "cell_type": "code",
   "execution_count": null,
   "metadata": {
    "ExecuteTime": {
     "end_time": "2018-11-23T15:04:32.443726Z",
     "start_time": "2018-11-23T15:04:21.543Z"
    }
   },
   "outputs": [],
   "source": [
    "pp_no_hashing = mz.preprocessors.DSSMPreprocessor(with_word_hashing=False)\n",
    "train_pack_processed_no_hashing = pp_no_hashing.fit_transform(train_pack)\n",
    "word_hashing_unit = mz.processor_units.WordHashingUnit(pp_no_hashing.context['term_index'])\n",
    "dynamic_data_generator = mz.data_generator.DynamicDataGenerator(word_hashing_unit.transform,\n",
    "                                                                train_pack_processed_no_hashing)\n",
    "model.fit_generator(dynamic_data_generator, epochs=2, workers=4, use_multiprocessing=True)"
   ]
  },
  {
   "cell_type": "markdown",
   "metadata": {
    "ExecuteTime": {
     "end_time": "2018-11-10T03:13:53.981929Z",
     "start_time": "2018-11-10T03:13:53.979557Z"
    }
   },
   "source": [
    "## Model Predicting "
   ]
  },
  {
   "cell_type": "code",
   "execution_count": null,
   "metadata": {
    "ExecuteTime": {
     "end_time": "2018-11-23T15:04:32.444915Z",
     "start_time": "2018-11-23T15:04:21.544Z"
    }
   },
   "outputs": [],
   "source": [
    "model.predict(predict_pack_processed[:10].unpack()[0])"
   ]
  },
  {
   "cell_type": "markdown",
   "metadata": {},
   "source": [
    "## Model Evaluating"
   ]
  },
  {
   "cell_type": "code",
   "execution_count": null,
   "metadata": {
    "ExecuteTime": {
     "end_time": "2018-11-23T15:04:32.446640Z",
     "start_time": "2018-11-23T15:04:21.547Z"
    }
   },
   "outputs": [],
   "source": [
    "model.evaluate(*train_pack_processed.unpack())"
   ]
  }
 ],
 "metadata": {
  "hide_input": false,
  "kernelspec": {
   "display_name": "matchzoo",
   "language": "python",
   "name": "matchzoo"
  },
  "language_info": {
   "codemirror_mode": {
    "name": "ipython",
    "version": 3
   },
   "file_extension": ".py",
   "mimetype": "text/x-python",
   "name": "python",
   "nbconvert_exporter": "python",
   "pygments_lexer": "ipython3",
   "version": "3.6.3"
  },
  "toc": {
   "nav_menu": {},
   "number_sections": true,
   "sideBar": true,
   "skip_h1_title": false,
   "toc_cell": false,
   "toc_position": {},
   "toc_section_display": "block",
   "toc_window_display": false
  },
  "varInspector": {
   "cols": {
    "lenName": 16,
    "lenType": 16,
    "lenVar": 40
   },
   "kernels_config": {
    "python": {
     "delete_cmd_postfix": "",
     "delete_cmd_prefix": "del ",
     "library": "var_list.py",
     "varRefreshCmd": "print(var_dic_list())"
    },
    "r": {
     "delete_cmd_postfix": ") ",
     "delete_cmd_prefix": "rm(",
     "library": "var_list.r",
     "varRefreshCmd": "cat(var_dic_list()) "
    }
   },
   "types_to_exclude": [
    "module",
    "function",
    "builtin_function_or_method",
    "instance",
    "_Feature"
   ],
   "window_display": false
  }
 },
 "nbformat": 4,
 "nbformat_minor": 2
}
