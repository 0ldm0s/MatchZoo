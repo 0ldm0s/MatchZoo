{
 "cells": [
  {
   "cell_type": "code",
   "execution_count": 1,
   "metadata": {
    "ExecuteTime": {
     "end_time": "2019-03-19T08:46:06.530890Z",
     "start_time": "2019-03-19T08:45:55.665463Z"
    }
   },
   "outputs": [
    {
     "name": "stderr",
     "output_type": "stream",
     "text": [
      "Using TensorFlow backend.\n"
     ]
    },
    {
     "name": "stdout",
     "output_type": "stream",
     "text": [
      "matchzoo version 2.1.0\n"
     ]
    }
   ],
   "source": [
    "%run init.ipynb"
   ]
  },
  {
   "cell_type": "code",
   "execution_count": 2,
   "metadata": {
    "ExecuteTime": {
     "end_time": "2019-03-19T08:46:06.536512Z",
     "start_time": "2019-03-19T08:46:06.533278Z"
    }
   },
   "outputs": [],
   "source": [
    "preprocessor = mz.preprocessors.BasicPreprocessor(fixed_length_left=10, fixed_length_right=100, remove_stop_words=False)"
   ]
  },
  {
   "cell_type": "code",
   "execution_count": 3,
   "metadata": {
    "ExecuteTime": {
     "end_time": "2019-03-19T08:46:16.027910Z",
     "start_time": "2019-03-19T08:46:06.538664Z"
    }
   },
   "outputs": [
    {
     "name": "stderr",
     "output_type": "stream",
     "text": [
      "Processing text_left with chain_transform of Tokenize => Lowercase => PuncRemoval: 100%|██████████| 2118/2118 [00:00<00:00, 9820.48it/s]\n",
      "Processing text_right with chain_transform of Tokenize => Lowercase => PuncRemoval: 100%|██████████| 18841/18841 [00:03<00:00, 5371.84it/s]\n",
      "Processing text_right with append: 100%|██████████| 18841/18841 [00:00<00:00, 941770.23it/s]\n",
      "Building FrequencyFilter from a datapack.: 100%|██████████| 18841/18841 [00:00<00:00, 145006.70it/s]\n",
      "Processing text_right with transform: 100%|██████████| 18841/18841 [00:00<00:00, 156164.85it/s]\n",
      "Processing text_left with extend: 100%|██████████| 2118/2118 [00:00<00:00, 866686.43it/s]\n",
      "Processing text_right with extend: 100%|██████████| 18841/18841 [00:00<00:00, 782664.79it/s]\n",
      "Building Vocabulary from a datapack.: 100%|██████████| 404432/404432 [00:00<00:00, 2897487.29it/s]\n",
      "Processing text_left with chain_transform of Tokenize => Lowercase => PuncRemoval: 100%|██████████| 2118/2118 [00:00<00:00, 10390.14it/s]\n",
      "Processing text_right with chain_transform of Tokenize => Lowercase => PuncRemoval: 100%|██████████| 18841/18841 [00:03<00:00, 5278.59it/s]\n",
      "Processing text_right with transform: 100%|██████████| 18841/18841 [00:00<00:00, 141514.88it/s]\n",
      "Processing text_left with transform: 100%|██████████| 2118/2118 [00:00<00:00, 268036.56it/s]\n",
      "Processing text_right with transform: 100%|██████████| 18841/18841 [00:00<00:00, 120989.11it/s]\n",
      "Processing length_left with len: 100%|██████████| 2118/2118 [00:00<00:00, 763321.52it/s]\n",
      "Processing length_right with len: 100%|██████████| 18841/18841 [00:00<00:00, 854156.83it/s]\n",
      "Processing text_left with transform: 100%|██████████| 2118/2118 [00:00<00:00, 130051.18it/s]\n",
      "Processing text_right with transform: 100%|██████████| 18841/18841 [00:00<00:00, 62883.80it/s]\n",
      "Processing text_left with chain_transform of Tokenize => Lowercase => PuncRemoval: 100%|██████████| 122/122 [00:00<00:00, 9913.12it/s]\n",
      "Processing text_right with chain_transform of Tokenize => Lowercase => PuncRemoval: 100%|██████████| 1115/1115 [00:00<00:00, 5711.41it/s]\n",
      "Processing text_right with transform: 100%|██████████| 1115/1115 [00:00<00:00, 117787.85it/s]\n",
      "Processing text_left with transform: 100%|██████████| 122/122 [00:00<00:00, 76248.71it/s]\n",
      "Processing text_right with transform: 100%|██████████| 1115/1115 [00:00<00:00, 124820.48it/s]\n",
      "Processing length_left with len: 100%|██████████| 122/122 [00:00<00:00, 173577.03it/s]\n",
      "Processing length_right with len: 100%|██████████| 1115/1115 [00:00<00:00, 471246.37it/s]\n",
      "Processing text_left with transform: 100%|██████████| 122/122 [00:00<00:00, 89240.51it/s]\n",
      "Processing text_right with transform: 100%|██████████| 1115/1115 [00:00<00:00, 82190.67it/s]\n",
      "Processing text_left with chain_transform of Tokenize => Lowercase => PuncRemoval: 100%|██████████| 237/237 [00:00<00:00, 10651.72it/s]\n",
      "Processing text_right with chain_transform of Tokenize => Lowercase => PuncRemoval: 100%|██████████| 2300/2300 [00:00<00:00, 5496.66it/s]\n",
      "Processing text_right with transform: 100%|██████████| 2300/2300 [00:00<00:00, 136240.24it/s]\n",
      "Processing text_left with transform: 100%|██████████| 237/237 [00:00<00:00, 126727.44it/s]\n",
      "Processing text_right with transform: 100%|██████████| 2300/2300 [00:00<00:00, 133495.23it/s]\n",
      "Processing length_left with len: 100%|██████████| 237/237 [00:00<00:00, 204326.83it/s]\n",
      "Processing length_right with len: 100%|██████████| 2300/2300 [00:00<00:00, 744589.32it/s]\n",
      "Processing text_left with transform: 100%|██████████| 237/237 [00:00<00:00, 109368.47it/s]\n",
      "Processing text_right with transform: 100%|██████████| 2300/2300 [00:00<00:00, 89213.28it/s]\n"
     ]
    }
   ],
   "source": [
    "train_pack_processed = preprocessor.fit_transform(train_pack_raw)\n",
    "valid_pack_processed = preprocessor.transform(valid_pack_raw)\n",
    "predict_pack_processed = preprocessor.transform(predict_pack_raw)"
   ]
  },
  {
   "cell_type": "code",
   "execution_count": 4,
   "metadata": {
    "ExecuteTime": {
     "end_time": "2019-03-19T08:46:16.168403Z",
     "start_time": "2019-03-19T08:46:16.031214Z"
    }
   },
   "outputs": [
    {
     "name": "stdout",
     "output_type": "stream",
     "text": [
      "model_class                   <class 'matchzoo.models.drmmtks.DRMMTKS'>\n",
      "input_shapes                  [(10,), (100,)]\n",
      "task                          Ranking Task\n",
      "optimizer                     adadelta\n",
      "with_embedding                True\n",
      "embedding_input_dim           16674\n",
      "embedding_output_dim          100\n",
      "embedding_trainable           True\n",
      "with_multi_layer_perceptron   True\n",
      "mlp_num_units                 5\n",
      "mlp_num_layers                1\n",
      "mlp_num_fan_out               1\n",
      "mlp_activation_func           relu\n",
      "mask_value                    -1\n",
      "top_k                         20\n"
     ]
    }
   ],
   "source": [
    "model = mz.models.DRMMTKS()\n",
    "model.params.update(preprocessor.context)\n",
    "model.params['task'] = ranking_task\n",
    "model.params['mask_value'] = -1\n",
    "model.params['embedding_output_dim'] = 100\n",
    "model.params['embedding_trainable'] = True\n",
    "model.params['top_k'] = 20\n",
    "model.params['mlp_num_layers'] = 1\n",
    "model.params['mlp_num_units'] = 5\n",
    "model.params['mlp_num_fan_out'] = 1\n",
    "model.params['mlp_activation_func'] = 'relu'\n",
    "model.params['optimizer'] = 'adadelta'\n",
    "model.build()\n",
    "model.compile()\n",
    "print(model.params)"
   ]
  },
  {
   "cell_type": "code",
   "execution_count": 5,
   "metadata": {
    "ExecuteTime": {
     "end_time": "2019-03-19T08:46:16.175170Z",
     "start_time": "2019-03-19T08:46:16.170884Z"
    },
    "scrolled": false
   },
   "outputs": [
    {
     "name": "stdout",
     "output_type": "stream",
     "text": [
      "__________________________________________________________________________________________________\n",
      "Layer (type)                    Output Shape         Param #     Connected to                     \n",
      "==================================================================================================\n",
      "text_left (InputLayer)          (None, 10)           0                                            \n",
      "__________________________________________________________________________________________________\n",
      "text_right (InputLayer)         (None, 100)          0                                            \n",
      "__________________________________________________________________________________________________\n",
      "embedding (Embedding)           multiple             1667400     text_left[0][0]                  \n",
      "                                                                 text_right[0][0]                 \n",
      "__________________________________________________________________________________________________\n",
      "dot_1 (Dot)                     (None, 10, 100)      0           embedding[0][0]                  \n",
      "                                                                 embedding[1][0]                  \n",
      "__________________________________________________________________________________________________\n",
      "dense_1 (Dense)                 (None, 10, 1)        100         embedding[0][0]                  \n",
      "__________________________________________________________________________________________________\n",
      "lambda_1 (Lambda)               (None, 10, 10)       0           dot_1[0][0]                      \n",
      "__________________________________________________________________________________________________\n",
      "attention_mask (Lambda)         (None, 10, 1)        0           dense_1[0][0]                    \n",
      "__________________________________________________________________________________________________\n",
      "dense_2 (Dense)                 (None, 10, 5)        55          lambda_1[0][0]                   \n",
      "__________________________________________________________________________________________________\n",
      "attention_probs (Lambda)        (None, 10, 1)        0           attention_mask[0][0]             \n",
      "__________________________________________________________________________________________________\n",
      "dense_3 (Dense)                 (None, 10, 1)        6           dense_2[0][0]                    \n",
      "__________________________________________________________________________________________________\n",
      "dot_2 (Dot)                     (None, 1, 1)         0           attention_probs[0][0]            \n",
      "                                                                 dense_3[0][0]                    \n",
      "__________________________________________________________________________________________________\n",
      "flatten_1 (Flatten)             (None, 1)            0           dot_2[0][0]                      \n",
      "__________________________________________________________________________________________________\n",
      "dense_4 (Dense)                 (None, 1)            2           flatten_1[0][0]                  \n",
      "==================================================================================================\n",
      "Total params: 1,667,563\n",
      "Trainable params: 1,667,563\n",
      "Non-trainable params: 0\n",
      "__________________________________________________________________________________________________\n"
     ]
    }
   ],
   "source": [
    "model.backend.summary()"
   ]
  },
  {
   "cell_type": "code",
   "execution_count": 6,
   "metadata": {
    "ExecuteTime": {
     "end_time": "2019-03-19T08:48:10.872194Z",
     "start_time": "2019-03-19T08:46:16.177234Z"
    },
    "collapsed": true
   },
   "outputs": [],
   "source": [
    "embedding_matrix = glove_embedding.build_matrix(preprocessor.context['vocab_unit'].state['term_index'])\n",
    "l2_norm = np.sqrt((embedding_matrix*embedding_matrix).sum(axis=1))\n",
    "embedding_matrix = embedding_matrix / l2_norm[:, np.newaxis]"
   ]
  },
  {
   "cell_type": "code",
   "execution_count": 7,
   "metadata": {
    "ExecuteTime": {
     "end_time": "2019-03-19T08:48:10.955995Z",
     "start_time": "2019-03-19T08:48:10.873834Z"
    },
    "collapsed": true
   },
   "outputs": [],
   "source": [
    "model.load_embedding_matrix(embedding_matrix)"
   ]
  },
  {
   "cell_type": "code",
   "execution_count": 8,
   "metadata": {
    "ExecuteTime": {
     "end_time": "2019-03-19T08:48:11.054734Z",
     "start_time": "2019-03-19T08:48:10.957640Z"
    },
    "collapsed": true
   },
   "outputs": [],
   "source": [
    "pred_x, pred_y = predict_pack_processed.unpack()\n",
    "evaluate = mz.callbacks.EvaluateAllMetrics(model, x=pred_x, y=pred_y, batch_size=len(pred_x))"
   ]
  },
  {
   "cell_type": "code",
   "execution_count": 9,
   "metadata": {
    "ExecuteTime": {
     "end_time": "2019-03-19T08:48:15.066425Z",
     "start_time": "2019-03-19T08:48:11.060048Z"
    }
   },
   "outputs": [
    {
     "data": {
      "text/plain": [
       "102"
      ]
     },
     "execution_count": 9,
     "metadata": {},
     "output_type": "execute_result"
    }
   ],
   "source": [
    "train_generator = mz.DataGenerator(\n",
    "    train_pack_processed,\n",
    "    mode='pair',\n",
    "    num_dup=2,\n",
    "    num_neg=1,\n",
    "    batch_size=20\n",
    ")\n",
    "len(train_generator)"
   ]
  },
  {
   "cell_type": "code",
   "execution_count": 10,
   "metadata": {
    "ExecuteTime": {
     "end_time": "2019-03-19T08:51:49.335647Z",
     "start_time": "2019-03-19T08:48:15.068278Z"
    },
    "scrolled": false
   },
   "outputs": [
    {
     "name": "stdout",
     "output_type": "stream",
     "text": [
      "Epoch 1/30\n",
      "102/102 [==============================] - 2s 21ms/step - loss: 0.9896\n",
      "Validation: normalized_discounted_cumulative_gain@3(0.0): 0.339367254494009 - normalized_discounted_cumulative_gain@5(0.0): 0.4207738396914389 - mean_average_precision(0.0): 0.3927174637148217\n",
      "Epoch 2/30\n",
      "102/102 [==============================] - 4s 44ms/step - loss: 0.9077\n",
      "Validation: normalized_discounted_cumulative_gain@3(0.0): 0.43529739522463656 - normalized_discounted_cumulative_gain@5(0.0): 0.49828231750958146 - mean_average_precision(0.0): 0.4777063279813898\n",
      "Epoch 3/30\n",
      "102/102 [==============================] - 5s 46ms/step - loss: 0.8827\n",
      "Validation: normalized_discounted_cumulative_gain@3(0.0): 0.4081034257047157 - normalized_discounted_cumulative_gain@5(0.0): 0.46788166466955333 - mean_average_precision(0.0): 0.4396750654434257\n",
      "Epoch 4/30\n",
      "102/102 [==============================] - 5s 47ms/step - loss: 0.8252\n",
      "Validation: normalized_discounted_cumulative_gain@3(0.0): 0.4208558564583984 - normalized_discounted_cumulative_gain@5(0.0): 0.47917303811362205 - mean_average_precision(0.0): 0.4511117723699858\n",
      "Epoch 5/30\n",
      "102/102 [==============================] - 5s 47ms/step - loss: 0.7811\n",
      "Validation: normalized_discounted_cumulative_gain@3(0.0): 0.4405752536519632 - normalized_discounted_cumulative_gain@5(0.0): 0.4979064809098945 - mean_average_precision(0.0): 0.4665390626734031\n",
      "Epoch 6/30\n",
      "102/102 [==============================] - 5s 48ms/step - loss: 0.7005\n",
      "Validation: normalized_discounted_cumulative_gain@3(0.0): 0.4504473704884204 - normalized_discounted_cumulative_gain@5(0.0): 0.5158328721493289 - mean_average_precision(0.0): 0.4754911777033943\n",
      "Epoch 7/30\n",
      "102/102 [==============================] - 5s 49ms/step - loss: 0.6103\n",
      "Validation: normalized_discounted_cumulative_gain@3(0.0): 0.5056963587164801 - normalized_discounted_cumulative_gain@5(0.0): 0.5589059931235257 - mean_average_precision(0.0): 0.5243602284952169\n",
      "Epoch 8/30\n",
      "102/102 [==============================] - 5s 47ms/step - loss: 0.5166\n",
      "Validation: normalized_discounted_cumulative_gain@3(0.0): 0.5135192419615208 - normalized_discounted_cumulative_gain@5(0.0): 0.577788993441609 - mean_average_precision(0.0): 0.5343042098572385\n",
      "Epoch 9/30\n",
      "102/102 [==============================] - 5s 48ms/step - loss: 0.3992\n",
      "Validation: normalized_discounted_cumulative_gain@3(0.0): 0.5012983955546259 - normalized_discounted_cumulative_gain@5(0.0): 0.5720005852476459 - mean_average_precision(0.0): 0.5198620043947668\n",
      "Epoch 10/30\n",
      "102/102 [==============================] - 5s 44ms/step - loss: 0.3165\n",
      "Validation: normalized_discounted_cumulative_gain@3(0.0): 0.5213837464983228 - normalized_discounted_cumulative_gain@5(0.0): 0.5787552333685748 - mean_average_precision(0.0): 0.539441286492664\n",
      "Epoch 11/30\n",
      "102/102 [==============================] - 5s 47ms/step - loss: 0.2470\n",
      "Validation: normalized_discounted_cumulative_gain@3(0.0): 0.5218840839494446 - normalized_discounted_cumulative_gain@5(0.0): 0.583302281852004 - mean_average_precision(0.0): 0.5423688830211592\n",
      "Epoch 12/30\n",
      "102/102 [==============================] - 4s 44ms/step - loss: 0.1905\n",
      "Validation: normalized_discounted_cumulative_gain@3(0.0): 0.5184411612660923 - normalized_discounted_cumulative_gain@5(0.0): 0.5840540923575457 - mean_average_precision(0.0): 0.5425373925207614\n",
      "Epoch 13/30\n",
      "102/102 [==============================] - 5s 46ms/step - loss: 0.1542\n",
      "Validation: normalized_discounted_cumulative_gain@3(0.0): 0.5399643075534681 - normalized_discounted_cumulative_gain@5(0.0): 0.5950965414391581 - mean_average_precision(0.0): 0.5546572325790183\n",
      "Epoch 14/30\n",
      "102/102 [==============================] - 5s 47ms/step - loss: 0.1288\n",
      "Validation: normalized_discounted_cumulative_gain@3(0.0): 0.5352334414831371 - normalized_discounted_cumulative_gain@5(0.0): 0.5857718414299158 - mean_average_precision(0.0): 0.5479940388971853\n",
      "Epoch 15/30\n",
      "102/102 [==============================] - 5s 45ms/step - loss: 0.1001\n",
      "Validation: normalized_discounted_cumulative_gain@3(0.0): 0.5289406431436632 - normalized_discounted_cumulative_gain@5(0.0): 0.5843058080472183 - mean_average_precision(0.0): 0.5420200001754115\n",
      "Epoch 16/30\n",
      "102/102 [==============================] - 5s 47ms/step - loss: 0.0808\n",
      "Validation: normalized_discounted_cumulative_gain@3(0.0): 0.5344422315684919 - normalized_discounted_cumulative_gain@5(0.0): 0.5809778365627956 - mean_average_precision(0.0): 0.5430037205747421\n",
      "Epoch 17/30\n",
      "102/102 [==============================] - 5s 50ms/step - loss: 0.0722\n",
      "Validation: normalized_discounted_cumulative_gain@3(0.0): 0.5267093153884531 - normalized_discounted_cumulative_gain@5(0.0): 0.5737818461916209 - mean_average_precision(0.0): 0.5375578327913032\n",
      "Epoch 18/30\n",
      "102/102 [==============================] - 5s 51ms/step - loss: 0.0545\n",
      "Validation: normalized_discounted_cumulative_gain@3(0.0): 0.5157187018203033 - normalized_discounted_cumulative_gain@5(0.0): 0.5684147664978406 - mean_average_precision(0.0): 0.5276809732122844\n",
      "Epoch 19/30\n",
      "102/102 [==============================] - 5s 54ms/step - loss: 0.0441\n",
      "Validation: normalized_discounted_cumulative_gain@3(0.0): 0.5165643923827872 - normalized_discounted_cumulative_gain@5(0.0): 0.5685497120843664 - mean_average_precision(0.0): 0.5300054568007291\n",
      "Epoch 20/30\n",
      "102/102 [==============================] - 5s 53ms/step - loss: 0.0358\n",
      "Validation: normalized_discounted_cumulative_gain@3(0.0): 0.5269082580588073 - normalized_discounted_cumulative_gain@5(0.0): 0.5802754063489622 - mean_average_precision(0.0): 0.5418591610614562\n",
      "Epoch 21/30\n",
      "102/102 [==============================] - 5s 49ms/step - loss: 0.0322\n",
      "Validation: normalized_discounted_cumulative_gain@3(0.0): 0.5213305824071855 - normalized_discounted_cumulative_gain@5(0.0): 0.5758112899613272 - mean_average_precision(0.0): 0.5359301627880745\n",
      "Epoch 22/30\n",
      "102/102 [==============================] - 5s 50ms/step - loss: 0.0278\n",
      "Validation: normalized_discounted_cumulative_gain@3(0.0): 0.5216237773675947 - normalized_discounted_cumulative_gain@5(0.0): 0.579212647226923 - mean_average_precision(0.0): 0.538307819121427\n",
      "Epoch 23/30\n",
      "102/102 [==============================] - 5s 52ms/step - loss: 0.0250\n",
      "Validation: normalized_discounted_cumulative_gain@3(0.0): 0.525857959350066 - normalized_discounted_cumulative_gain@5(0.0): 0.5805421792089315 - mean_average_precision(0.0): 0.5427145159518023\n",
      "Epoch 24/30\n",
      "102/102 [==============================] - 6s 57ms/step - loss: 0.0284\n",
      "Validation: normalized_discounted_cumulative_gain@3(0.0): 0.518245610959229 - normalized_discounted_cumulative_gain@5(0.0): 0.575378487579861 - mean_average_precision(0.0): 0.5369952996313201\n",
      "Epoch 25/30\n",
      "102/102 [==============================] - 6s 59ms/step - loss: 0.0188\n",
      "Validation: normalized_discounted_cumulative_gain@3(0.0): 0.5140761852517445 - normalized_discounted_cumulative_gain@5(0.0): 0.5718812673696405 - mean_average_precision(0.0): 0.5327792917760718\n",
      "Epoch 26/30\n",
      "102/102 [==============================] - 6s 57ms/step - loss: 0.0203\n",
      "Validation: normalized_discounted_cumulative_gain@3(0.0): 0.5190775841466002 - normalized_discounted_cumulative_gain@5(0.0): 0.5709801762854394 - mean_average_precision(0.0): 0.5334809045426804\n",
      "Epoch 27/30\n",
      "102/102 [==============================] - 5s 52ms/step - loss: 0.0198\n",
      "Validation: normalized_discounted_cumulative_gain@3(0.0): 0.519304854428742 - normalized_discounted_cumulative_gain@5(0.0): 0.5757709393703088 - mean_average_precision(0.0): 0.5384027880641249\n",
      "Epoch 28/30\n",
      "102/102 [==============================] - 6s 57ms/step - loss: 0.0180\n",
      "Validation: normalized_discounted_cumulative_gain@3(0.0): 0.5114685787347806 - normalized_discounted_cumulative_gain@5(0.0): 0.5726466243129076 - mean_average_precision(0.0): 0.5292822358056647\n",
      "Epoch 29/30\n",
      "102/102 [==============================] - 6s 63ms/step - loss: 0.0146\n",
      "Validation: normalized_discounted_cumulative_gain@3(0.0): 0.5122596755708035 - normalized_discounted_cumulative_gain@5(0.0): 0.5690589290095142 - mean_average_precision(0.0): 0.5304210094941111\n",
      "Epoch 30/30\n",
      "102/102 [==============================] - 7s 71ms/step - loss: 0.0166\n",
      "Validation: normalized_discounted_cumulative_gain@3(0.0): 0.516240434235082 - normalized_discounted_cumulative_gain@5(0.0): 0.5692203759987479 - mean_average_precision(0.0): 0.5304544558701918\n"
     ]
    }
   ],
   "source": [
    "history = model.fit_generator(train_generator, epochs=30, callbacks=[evaluate], workers=4, use_multiprocessing=True)"
   ]
  },
  {
   "cell_type": "code",
   "execution_count": 11,
   "metadata": {
    "ExecuteTime": {
     "end_time": "2019-03-19T08:51:49.381736Z",
     "start_time": "2019-03-19T08:51:49.340411Z"
    }
   },
   "outputs": [],
   "source": [
    "append_params_to_readme(model)"
   ]
  }
 ],
 "metadata": {
  "hide_input": false,
  "kernelspec": {
   "display_name": "matchzoo",
   "language": "python",
   "name": "matchzoo"
  },
  "language_info": {
   "codemirror_mode": {
    "name": "ipython",
    "version": 3
   },
   "file_extension": ".py",
   "mimetype": "text/x-python",
   "name": "python",
   "nbconvert_exporter": "python",
   "pygments_lexer": "ipython3",
   "version": "3.6.3"
  },
  "toc": {
   "nav_menu": {},
   "number_sections": true,
   "sideBar": true,
   "skip_h1_title": false,
   "toc_cell": false,
   "toc_position": {},
   "toc_section_display": "block",
   "toc_window_display": false
  },
  "varInspector": {
   "cols": {
    "lenName": 16,
    "lenType": 16,
    "lenVar": 40
   },
   "kernels_config": {
    "python": {
     "delete_cmd_postfix": "",
     "delete_cmd_prefix": "del ",
     "library": "var_list.py",
     "varRefreshCmd": "print(var_dic_list())"
    },
    "r": {
     "delete_cmd_postfix": ") ",
     "delete_cmd_prefix": "rm(",
     "library": "var_list.r",
     "varRefreshCmd": "cat(var_dic_list()) "
    }
   },
   "types_to_exclude": [
    "module",
    "function",
    "builtin_function_or_method",
    "instance",
    "_Feature"
   ],
   "window_display": false
  }
 },
 "nbformat": 4,
 "nbformat_minor": 2
}
