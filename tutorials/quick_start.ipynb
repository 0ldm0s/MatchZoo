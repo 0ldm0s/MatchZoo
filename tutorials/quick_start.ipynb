{
 "cells": [
  {
   "cell_type": "markdown",
   "metadata": {},
   "source": [
    "<img src=\"https://github.com/NTMC-Community/MatchZoo/blob/2.0/artworks/matchzoo-logo.png?raw=True\" alt=\"logo\" style=\"width:600px;float: center\"/>"
   ]
  },
  {
   "cell_type": "code",
   "execution_count": 1,
   "metadata": {
    "ExecuteTime": {
     "end_time": "2018-12-24T05:17:44.680182Z",
     "start_time": "2018-12-24T05:17:42.279480Z"
    }
   },
   "outputs": [
    {
     "name": "stderr",
     "output_type": "stream",
     "text": [
      "/data/users/fyx/.local/python3/lib/python3.6/importlib/_bootstrap.py:219: RuntimeWarning: numpy.dtype size changed, may indicate binary incompatibility. Expected 96, got 88\n",
      "  return f(*args, **kwds)\n",
      "/data/users/fyx/.local/python3/lib/python3.6/importlib/_bootstrap.py:219: RuntimeWarning: numpy.dtype size changed, may indicate binary incompatibility. Expected 96, got 88\n",
      "  return f(*args, **kwds)\n",
      "Using TensorFlow backend.\n"
     ]
    }
   ],
   "source": [
    "import matchzoo as mz"
   ]
  },
  {
   "cell_type": "markdown",
   "metadata": {},
   "source": [
    "# Prepare Data"
   ]
  },
  {
   "cell_type": "code",
   "execution_count": 2,
   "metadata": {
    "ExecuteTime": {
     "end_time": "2018-12-24T05:17:45.112871Z",
     "start_time": "2018-12-24T05:17:44.682253Z"
    }
   },
   "outputs": [],
   "source": [
    "train_data_pack = mz.datasets.wiki_qa.load_data(stage='train', task='ranking')\n",
    "test_data_pack = mz.datasets.wiki_qa.load_data(stage='test', task='ranking')"
   ]
  },
  {
   "cell_type": "code",
   "execution_count": 3,
   "metadata": {
    "ExecuteTime": {
     "end_time": "2018-12-24T05:17:45.135622Z",
     "start_time": "2018-12-24T05:17:45.114425Z"
    }
   },
   "outputs": [
    {
     "data": {
      "text/plain": [
       "matchzoo.data_pack.data_pack.DataPack"
      ]
     },
     "execution_count": 3,
     "metadata": {},
     "output_type": "execute_result"
    }
   ],
   "source": [
    "type(train_data_pack)"
   ]
  },
  {
   "cell_type": "markdown",
   "metadata": {},
   "source": [
    "`DataPack` is a MatchZoo native data structure that most MatchZoo data handling processes build upon. A `DataPack` is consists of three `pandas.DataFrame`:"
   ]
  },
  {
   "cell_type": "code",
   "execution_count": 4,
   "metadata": {
    "ExecuteTime": {
     "end_time": "2018-12-24T05:17:45.151106Z",
     "start_time": "2018-12-24T05:17:45.138245Z"
    }
   },
   "outputs": [
    {
     "data": {
      "text/html": [
       "<div>\n",
       "<style scoped>\n",
       "    .dataframe tbody tr th:only-of-type {\n",
       "        vertical-align: middle;\n",
       "    }\n",
       "\n",
       "    .dataframe tbody tr th {\n",
       "        vertical-align: top;\n",
       "    }\n",
       "\n",
       "    .dataframe thead th {\n",
       "        text-align: right;\n",
       "    }\n",
       "</style>\n",
       "<table border=\"1\" class=\"dataframe\">\n",
       "  <thead>\n",
       "    <tr style=\"text-align: right;\">\n",
       "      <th></th>\n",
       "      <th>text_left</th>\n",
       "    </tr>\n",
       "    <tr>\n",
       "      <th>id_left</th>\n",
       "      <th></th>\n",
       "    </tr>\n",
       "  </thead>\n",
       "  <tbody>\n",
       "    <tr>\n",
       "      <th>Q1</th>\n",
       "      <td>how are glacier caves formed?</td>\n",
       "    </tr>\n",
       "    <tr>\n",
       "      <th>Q2</th>\n",
       "      <td>How are the directions of the velocity and for...</td>\n",
       "    </tr>\n",
       "    <tr>\n",
       "      <th>Q5</th>\n",
       "      <td>how did apollo creed die</td>\n",
       "    </tr>\n",
       "    <tr>\n",
       "      <th>Q6</th>\n",
       "      <td>how long is the term for federal judges</td>\n",
       "    </tr>\n",
       "    <tr>\n",
       "      <th>Q7</th>\n",
       "      <td>how a beretta model 21 pistols magazines works</td>\n",
       "    </tr>\n",
       "  </tbody>\n",
       "</table>\n",
       "</div>"
      ],
      "text/plain": [
       "                                                 text_left\n",
       "id_left                                                   \n",
       "Q1                           how are glacier caves formed?\n",
       "Q2       How are the directions of the velocity and for...\n",
       "Q5                                how did apollo creed die\n",
       "Q6                 how long is the term for federal judges\n",
       "Q7          how a beretta model 21 pistols magazines works"
      ]
     },
     "execution_count": 4,
     "metadata": {},
     "output_type": "execute_result"
    }
   ],
   "source": [
    "train_data_pack.left.head()"
   ]
  },
  {
   "cell_type": "code",
   "execution_count": 5,
   "metadata": {
    "ExecuteTime": {
     "end_time": "2018-12-24T05:17:45.163305Z",
     "start_time": "2018-12-24T05:17:45.154133Z"
    }
   },
   "outputs": [
    {
     "data": {
      "text/html": [
       "<div>\n",
       "<style scoped>\n",
       "    .dataframe tbody tr th:only-of-type {\n",
       "        vertical-align: middle;\n",
       "    }\n",
       "\n",
       "    .dataframe tbody tr th {\n",
       "        vertical-align: top;\n",
       "    }\n",
       "\n",
       "    .dataframe thead th {\n",
       "        text-align: right;\n",
       "    }\n",
       "</style>\n",
       "<table border=\"1\" class=\"dataframe\">\n",
       "  <thead>\n",
       "    <tr style=\"text-align: right;\">\n",
       "      <th></th>\n",
       "      <th>text_right</th>\n",
       "    </tr>\n",
       "    <tr>\n",
       "      <th>id_right</th>\n",
       "      <th></th>\n",
       "    </tr>\n",
       "  </thead>\n",
       "  <tbody>\n",
       "    <tr>\n",
       "      <th>D1-0</th>\n",
       "      <td>A partly submerged glacier cave on Perito More...</td>\n",
       "    </tr>\n",
       "    <tr>\n",
       "      <th>D1-1</th>\n",
       "      <td>The ice facade is approximately 60 m high</td>\n",
       "    </tr>\n",
       "    <tr>\n",
       "      <th>D1-2</th>\n",
       "      <td>Ice formations in the Titlis glacier cave</td>\n",
       "    </tr>\n",
       "    <tr>\n",
       "      <th>D1-3</th>\n",
       "      <td>A glacier cave is a cave formed within the ice...</td>\n",
       "    </tr>\n",
       "    <tr>\n",
       "      <th>D1-4</th>\n",
       "      <td>Glacier caves are often called ice caves , but...</td>\n",
       "    </tr>\n",
       "  </tbody>\n",
       "</table>\n",
       "</div>"
      ],
      "text/plain": [
       "                                                 text_right\n",
       "id_right                                                   \n",
       "D1-0      A partly submerged glacier cave on Perito More...\n",
       "D1-1              The ice facade is approximately 60 m high\n",
       "D1-2              Ice formations in the Titlis glacier cave\n",
       "D1-3      A glacier cave is a cave formed within the ice...\n",
       "D1-4      Glacier caves are often called ice caves , but..."
      ]
     },
     "execution_count": 5,
     "metadata": {},
     "output_type": "execute_result"
    }
   ],
   "source": [
    "train_data_pack.right.head()"
   ]
  },
  {
   "cell_type": "code",
   "execution_count": 6,
   "metadata": {
    "ExecuteTime": {
     "end_time": "2018-12-24T05:17:45.174445Z",
     "start_time": "2018-12-24T05:17:45.165743Z"
    }
   },
   "outputs": [
    {
     "data": {
      "text/html": [
       "<div>\n",
       "<style scoped>\n",
       "    .dataframe tbody tr th:only-of-type {\n",
       "        vertical-align: middle;\n",
       "    }\n",
       "\n",
       "    .dataframe tbody tr th {\n",
       "        vertical-align: top;\n",
       "    }\n",
       "\n",
       "    .dataframe thead th {\n",
       "        text-align: right;\n",
       "    }\n",
       "</style>\n",
       "<table border=\"1\" class=\"dataframe\">\n",
       "  <thead>\n",
       "    <tr style=\"text-align: right;\">\n",
       "      <th></th>\n",
       "      <th>id_left</th>\n",
       "      <th>id_right</th>\n",
       "      <th>label</th>\n",
       "    </tr>\n",
       "  </thead>\n",
       "  <tbody>\n",
       "    <tr>\n",
       "      <th>0</th>\n",
       "      <td>Q1</td>\n",
       "      <td>D1-0</td>\n",
       "      <td>0</td>\n",
       "    </tr>\n",
       "    <tr>\n",
       "      <th>1</th>\n",
       "      <td>Q1</td>\n",
       "      <td>D1-1</td>\n",
       "      <td>0</td>\n",
       "    </tr>\n",
       "    <tr>\n",
       "      <th>2</th>\n",
       "      <td>Q1</td>\n",
       "      <td>D1-2</td>\n",
       "      <td>0</td>\n",
       "    </tr>\n",
       "    <tr>\n",
       "      <th>3</th>\n",
       "      <td>Q1</td>\n",
       "      <td>D1-3</td>\n",
       "      <td>1</td>\n",
       "    </tr>\n",
       "    <tr>\n",
       "      <th>4</th>\n",
       "      <td>Q1</td>\n",
       "      <td>D1-4</td>\n",
       "      <td>0</td>\n",
       "    </tr>\n",
       "  </tbody>\n",
       "</table>\n",
       "</div>"
      ],
      "text/plain": [
       "  id_left id_right  label\n",
       "0      Q1     D1-0      0\n",
       "1      Q1     D1-1      0\n",
       "2      Q1     D1-2      0\n",
       "3      Q1     D1-3      1\n",
       "4      Q1     D1-4      0"
      ]
     },
     "execution_count": 6,
     "metadata": {},
     "output_type": "execute_result"
    }
   ],
   "source": [
    "train_data_pack.relation.head()"
   ]
  },
  {
   "cell_type": "markdown",
   "metadata": {},
   "source": [
    "It is also possible to convert a `DataPack` into a single `pandas.DataFrame` that holds all information."
   ]
  },
  {
   "cell_type": "code",
   "execution_count": 7,
   "metadata": {
    "ExecuteTime": {
     "end_time": "2018-12-24T05:17:45.248113Z",
     "start_time": "2018-12-24T05:17:45.176447Z"
    }
   },
   "outputs": [
    {
     "data": {
      "text/html": [
       "<div>\n",
       "<style scoped>\n",
       "    .dataframe tbody tr th:only-of-type {\n",
       "        vertical-align: middle;\n",
       "    }\n",
       "\n",
       "    .dataframe tbody tr th {\n",
       "        vertical-align: top;\n",
       "    }\n",
       "\n",
       "    .dataframe thead th {\n",
       "        text-align: right;\n",
       "    }\n",
       "</style>\n",
       "<table border=\"1\" class=\"dataframe\">\n",
       "  <thead>\n",
       "    <tr style=\"text-align: right;\">\n",
       "      <th></th>\n",
       "      <th>id_left</th>\n",
       "      <th>text_left</th>\n",
       "      <th>id_right</th>\n",
       "      <th>text_right</th>\n",
       "      <th>label</th>\n",
       "    </tr>\n",
       "  </thead>\n",
       "  <tbody>\n",
       "    <tr>\n",
       "      <th>0</th>\n",
       "      <td>Q1</td>\n",
       "      <td>how are glacier caves formed?</td>\n",
       "      <td>D1-0</td>\n",
       "      <td>A partly submerged glacier cave on Perito More...</td>\n",
       "      <td>0</td>\n",
       "    </tr>\n",
       "    <tr>\n",
       "      <th>1</th>\n",
       "      <td>Q1</td>\n",
       "      <td>how are glacier caves formed?</td>\n",
       "      <td>D1-1</td>\n",
       "      <td>The ice facade is approximately 60 m high</td>\n",
       "      <td>0</td>\n",
       "    </tr>\n",
       "    <tr>\n",
       "      <th>2</th>\n",
       "      <td>Q1</td>\n",
       "      <td>how are glacier caves formed?</td>\n",
       "      <td>D1-2</td>\n",
       "      <td>Ice formations in the Titlis glacier cave</td>\n",
       "      <td>0</td>\n",
       "    </tr>\n",
       "    <tr>\n",
       "      <th>3</th>\n",
       "      <td>Q1</td>\n",
       "      <td>how are glacier caves formed?</td>\n",
       "      <td>D1-3</td>\n",
       "      <td>A glacier cave is a cave formed within the ice...</td>\n",
       "      <td>1</td>\n",
       "    </tr>\n",
       "    <tr>\n",
       "      <th>4</th>\n",
       "      <td>Q1</td>\n",
       "      <td>how are glacier caves formed?</td>\n",
       "      <td>D1-4</td>\n",
       "      <td>Glacier caves are often called ice caves , but...</td>\n",
       "      <td>0</td>\n",
       "    </tr>\n",
       "  </tbody>\n",
       "</table>\n",
       "</div>"
      ],
      "text/plain": [
       "  id_left                      text_left id_right  \\\n",
       "0      Q1  how are glacier caves formed?     D1-0   \n",
       "1      Q1  how are glacier caves formed?     D1-1   \n",
       "2      Q1  how are glacier caves formed?     D1-2   \n",
       "3      Q1  how are glacier caves formed?     D1-3   \n",
       "4      Q1  how are glacier caves formed?     D1-4   \n",
       "\n",
       "                                          text_right  label  \n",
       "0  A partly submerged glacier cave on Perito More...      0  \n",
       "1          The ice facade is approximately 60 m high      0  \n",
       "2          Ice formations in the Titlis glacier cave      0  \n",
       "3  A glacier cave is a cave formed within the ice...      1  \n",
       "4  Glacier caves are often called ice caves , but...      0  "
      ]
     },
     "execution_count": 7,
     "metadata": {},
     "output_type": "execute_result"
    }
   ],
   "source": [
    "train_data_pack.frame().head()"
   ]
  },
  {
   "cell_type": "markdown",
   "metadata": {},
   "source": [
    "However, using such `pandas.DataFrame` consumes much more memory if there are many duplicates in the texts, and that is the exact reason why we use `DataPack`. For more details about data handling, consult `matchzoo/tutorials/data_handling.ipynb`."
   ]
  },
  {
   "cell_type": "markdown",
   "metadata": {},
   "source": [
    "# Preprocessing"
   ]
  },
  {
   "cell_type": "markdown",
   "metadata": {},
   "source": [
    "MatchZoo preprocessors are used to convert a raw `DataPack` into a `DataPack` that ready to be fed into a model. "
   ]
  },
  {
   "cell_type": "code",
   "execution_count": 8,
   "metadata": {
    "ExecuteTime": {
     "end_time": "2018-12-24T05:17:45.253235Z",
     "start_time": "2018-12-24T05:17:45.250464Z"
    }
   },
   "outputs": [],
   "source": [
    "preprocessor = mz.preprocessors.NaivePreprocessor()"
   ]
  },
  {
   "cell_type": "markdown",
   "metadata": {},
   "source": [
    "There are two steps to use a preprocessor. First, `fit`. Then, `transform`. `fit` will only changes the preprocessor's inner state but not the input `DataPack`."
   ]
  },
  {
   "cell_type": "code",
   "execution_count": 9,
   "metadata": {
    "ExecuteTime": {
     "end_time": "2018-12-24T05:17:49.193309Z",
     "start_time": "2018-12-24T05:17:45.255215Z"
    }
   },
   "outputs": [
    {
     "name": "stderr",
     "output_type": "stream",
     "text": [
      "Processing text_left with chain_transform of TokenizeUnit => LowercaseUnit => PuncRemovalUnit: 100%|██████████| 2118/2118 [00:00<00:00, 8350.28it/s]\n",
      "Processing text_right with chain_transform of TokenizeUnit => LowercaseUnit => PuncRemovalUnit: 100%|██████████| 18841/18841 [00:04<00:00, 4362.91it/s]\n",
      "Processing text_left with extend: 100%|██████████| 2118/2118 [00:00<00:00, 598943.90it/s]\n",
      "Processing text_right with extend: 100%|██████████| 18841/18841 [00:00<00:00, 525808.97it/s]\n",
      "Building VocabularyUnit from a datapack.: 100%|██████████| 418382/418382 [00:00<00:00, 2315810.08it/s]\n"
     ]
    },
    {
     "data": {
      "text/plain": [
       "<matchzoo.preprocessors.naive_preprocessor.NaivePreprocessor at 0x7f30125b64a8>"
      ]
     },
     "execution_count": 9,
     "metadata": {},
     "output_type": "execute_result"
    }
   ],
   "source": [
    "preprocessor.fit(train_data_pack)"
   ]
  },
  {
   "cell_type": "markdown",
   "metadata": {},
   "source": [
    "`fit` will gather all information it needs into its `context`. In the above example, we can see a `VocabularyUnit` is built during the fitting process using `train_data_pack`."
   ]
  },
  {
   "cell_type": "code",
   "execution_count": 10,
   "metadata": {
    "ExecuteTime": {
     "end_time": "2018-12-24T05:17:49.198384Z",
     "start_time": "2018-12-24T05:17:49.195123Z"
    }
   },
   "outputs": [
    {
     "data": {
      "text/plain": [
       "{'vocab_unit': <matchzoo.processor_units.processor_units.VocabularyUnit at 0x7f301242cb38>}"
      ]
     },
     "execution_count": 10,
     "metadata": {},
     "output_type": "execute_result"
    }
   ],
   "source": [
    "preprocessor.context"
   ]
  },
  {
   "cell_type": "markdown",
   "metadata": {},
   "source": [
    "`VocabularyUnit` is a `StatefulProcessorUnit` that has a similar `fit`/`transform` interface. Once a `VocabularyUnit` `fit`, it will store a mapping from `term` to `index` and the reverse in its `state`."
   ]
  },
  {
   "cell_type": "markdown",
   "metadata": {},
   "source": [
    "The `NaivePreprocessor` already handles `VocabularyUnit` internally, so we do not have to worry about that. Just access it through the `NaivePreprocessor`'s `context`."
   ]
  },
  {
   "cell_type": "code",
   "execution_count": 11,
   "metadata": {
    "ExecuteTime": {
     "end_time": "2018-12-24T05:17:49.203616Z",
     "start_time": "2018-12-24T05:17:49.200283Z"
    }
   },
   "outputs": [
    {
     "name": "stdout",
     "output_type": "stream",
     "text": [
      "19073\n",
      "10516\n",
      "kickoff\n",
      "mater\n"
     ]
    }
   ],
   "source": [
    "vocab_unit = preprocessor.context['vocab_unit']\n",
    "print(vocab_unit.state['term_index']['match'])\n",
    "print(vocab_unit.state['term_index']['zoo'])\n",
    "print(vocab_unit.state['index_term'][1])\n",
    "print(vocab_unit.state['index_term'][2])"
   ]
  },
  {
   "cell_type": "markdown",
   "metadata": {},
   "source": [
    "Once `fit`, the preprocessor has enough information to `transform`.  `transform` will not change the preprocessor's inner state and the input `DataPack`, but return a transformed `DataPack`."
   ]
  },
  {
   "cell_type": "code",
   "execution_count": 12,
   "metadata": {
    "ExecuteTime": {
     "end_time": "2018-12-24T05:17:54.757550Z",
     "start_time": "2018-12-24T05:17:49.205447Z"
    }
   },
   "outputs": [
    {
     "name": "stderr",
     "output_type": "stream",
     "text": [
      "Processing text_left with chain_transform of TokenizeUnit => LowercaseUnit => PuncRemovalUnit => VocabularyUnit => FixedLengthUnit: 100%|██████████| 2118/2118 [00:00<00:00, 7369.12it/s]\n",
      "Processing text_right with chain_transform of TokenizeUnit => LowercaseUnit => PuncRemovalUnit => VocabularyUnit => FixedLengthUnit: 100%|██████████| 18841/18841 [00:04<00:00, 4064.75it/s]\n",
      "Processing text_left with chain_transform of TokenizeUnit => LowercaseUnit => PuncRemovalUnit => VocabularyUnit => FixedLengthUnit: 100%|██████████| 633/633 [00:00<00:00, 7218.68it/s]\n",
      "Processing text_right with chain_transform of TokenizeUnit => LowercaseUnit => PuncRemovalUnit => VocabularyUnit => FixedLengthUnit: 100%|██████████| 5961/5961 [00:01<00:00, 3947.08it/s]\n"
     ]
    }
   ],
   "source": [
    "train_data_pack_processed = preprocessor.transform(train_data_pack)\n",
    "test_data_pack_processed = preprocessor.transform(test_data_pack)"
   ]
  },
  {
   "cell_type": "code",
   "execution_count": 13,
   "metadata": {
    "ExecuteTime": {
     "end_time": "2018-12-24T05:17:54.767157Z",
     "start_time": "2018-12-24T05:17:54.759086Z"
    }
   },
   "outputs": [
    {
     "data": {
      "text/html": [
       "<div>\n",
       "<style scoped>\n",
       "    .dataframe tbody tr th:only-of-type {\n",
       "        vertical-align: middle;\n",
       "    }\n",
       "\n",
       "    .dataframe tbody tr th {\n",
       "        vertical-align: top;\n",
       "    }\n",
       "\n",
       "    .dataframe thead th {\n",
       "        text-align: right;\n",
       "    }\n",
       "</style>\n",
       "<table border=\"1\" class=\"dataframe\">\n",
       "  <thead>\n",
       "    <tr style=\"text-align: right;\">\n",
       "      <th></th>\n",
       "      <th>text_left</th>\n",
       "    </tr>\n",
       "    <tr>\n",
       "      <th>id_left</th>\n",
       "      <th></th>\n",
       "    </tr>\n",
       "  </thead>\n",
       "  <tbody>\n",
       "    <tr>\n",
       "      <th>Q1</th>\n",
       "      <td>[3396, 10833, 4493, 23440, 23796, 0, 0, 0, 0, ...</td>\n",
       "    </tr>\n",
       "    <tr>\n",
       "      <th>Q2</th>\n",
       "      <td>[3396, 10833, 22650, 8313, 25495, 22650, 23052...</td>\n",
       "    </tr>\n",
       "    <tr>\n",
       "      <th>Q5</th>\n",
       "      <td>[3396, 15029, 1398, 2380, 23617, 0, 0, 0, 0, 0...</td>\n",
       "    </tr>\n",
       "    <tr>\n",
       "      <th>Q6</th>\n",
       "      <td>[3396, 5984, 1223, 22650, 14446, 11021, 21887,...</td>\n",
       "    </tr>\n",
       "    <tr>\n",
       "      <th>Q7</th>\n",
       "      <td>[3396, 6613, 9185, 14825, 18281, 23616, 21338,...</td>\n",
       "    </tr>\n",
       "  </tbody>\n",
       "</table>\n",
       "</div>"
      ],
      "text/plain": [
       "                                                 text_left\n",
       "id_left                                                   \n",
       "Q1       [3396, 10833, 4493, 23440, 23796, 0, 0, 0, 0, ...\n",
       "Q2       [3396, 10833, 22650, 8313, 25495, 22650, 23052...\n",
       "Q5       [3396, 15029, 1398, 2380, 23617, 0, 0, 0, 0, 0...\n",
       "Q6       [3396, 5984, 1223, 22650, 14446, 11021, 21887,...\n",
       "Q7       [3396, 6613, 9185, 14825, 18281, 23616, 21338,..."
      ]
     },
     "execution_count": 13,
     "metadata": {},
     "output_type": "execute_result"
    }
   ],
   "source": [
    "train_data_pack_processed.left.head()"
   ]
  },
  {
   "cell_type": "markdown",
   "metadata": {},
   "source": [
    "As we can see, `text_left` is already in sequence form that nerual networks love."
   ]
  },
  {
   "cell_type": "markdown",
   "metadata": {},
   "source": [
    "Just to make sure we have the correct sequence:"
   ]
  },
  {
   "cell_type": "code",
   "execution_count": 14,
   "metadata": {
    "ExecuteTime": {
     "end_time": "2018-12-24T05:17:54.777074Z",
     "start_time": "2018-12-24T05:17:54.770454Z"
    }
   },
   "outputs": [
    {
     "name": "stdout",
     "output_type": "stream",
     "text": [
      "Before: how are glacier caves formed?\n",
      "After: [3396, 10833, 4493, 23440, 23796, 0, 0, 0, 0, 0, 0, 0, 0, 0, 0, 0, 0, 0, 0, 0, 0, 0, 0, 0, 0, 0, 0, 0, 0, 0]\n",
      "Translated: how_are_glacier_caves_formed_________________________\n"
     ]
    }
   ],
   "source": [
    "print('Before:', train_data_pack.left.loc['Q1']['text_left'])\n",
    "sequence = train_data_pack_processed.left.loc['Q1']['text_left']\n",
    "print('After:', sequence)\n",
    "print('Translated:', '_'.join([vocab_unit.state['index_term'][i] for i in sequence]))"
   ]
  },
  {
   "cell_type": "markdown",
   "metadata": {},
   "source": [
    "For more details about data handling, consult `matchzoo/tutorials/preprocessing.ipynb`."
   ]
  },
  {
   "cell_type": "markdown",
   "metadata": {},
   "source": [
    "# Build Model"
   ]
  },
  {
   "cell_type": "markdown",
   "metadata": {},
   "source": [
    "MatchZoo provides many built-in text matching models."
   ]
  },
  {
   "cell_type": "code",
   "execution_count": 15,
   "metadata": {
    "ExecuteTime": {
     "end_time": "2018-12-24T05:17:54.782376Z",
     "start_time": "2018-12-24T05:17:54.778860Z"
    }
   },
   "outputs": [
    {
     "data": {
      "text/plain": [
       "[matchzoo.models.naive_model.NaiveModel,\n",
       " matchzoo.models.dssm.DSSM,\n",
       " matchzoo.models.cdssm.CDSSM,\n",
       " matchzoo.models.dense_baseline_model.DenseBaselineModel,\n",
       " matchzoo.models.arci.ArcI,\n",
       " matchzoo.models.arcii.ArcII,\n",
       " matchzoo.models.match_pyramid.MatchPyramid,\n",
       " matchzoo.models.knrm.KNRM,\n",
       " matchzoo.models.duet.DUET,\n",
       " matchzoo.models.drmmtks.DRMMTKS,\n",
       " matchzoo.models.drmm.DRMM,\n",
       " matchzoo.models.anmm.ANMM,\n",
       " matchzoo.models.mvlstm.MVLSTM,\n",
       " matchzoo.contrib.models.match_lstm.MatchLSTM]"
      ]
     },
     "execution_count": 15,
     "metadata": {},
     "output_type": "execute_result"
    }
   ],
   "source": [
    "mz.models.list_available()"
   ]
  },
  {
   "cell_type": "code",
   "execution_count": 16,
   "metadata": {
    "ExecuteTime": {
     "end_time": "2018-12-24T05:17:54.786856Z",
     "start_time": "2018-12-24T05:17:54.784065Z"
    }
   },
   "outputs": [],
   "source": [
    "model = mz.models.DenseBaselineModel()"
   ]
  },
  {
   "cell_type": "markdown",
   "metadata": {},
   "source": [
    "The model is initialized with a hyper parameter table, in which values are partially filled."
   ]
  },
  {
   "cell_type": "code",
   "execution_count": 17,
   "metadata": {
    "ExecuteTime": {
     "end_time": "2018-12-24T05:17:54.791716Z",
     "start_time": "2018-12-24T05:17:54.788994Z"
    }
   },
   "outputs": [
    {
     "name": "stdout",
     "output_type": "stream",
     "text": [
      "name                          None\n",
      "model_class                   <class 'matchzoo.models.dense_baseline_model.DenseBaselineModel'>\n",
      "input_shapes                  None\n",
      "task                          None\n",
      "optimizer                     None\n",
      "with_multi_layer_perceptron   True\n",
      "mlp_num_units                 256\n",
      "mlp_num_layers                None\n",
      "mlp_num_fan_out               None\n",
      "mlp_activation_func           None\n"
     ]
    }
   ],
   "source": [
    "print(model.params)"
   ]
  },
  {
   "cell_type": "code",
   "execution_count": 18,
   "metadata": {
    "ExecuteTime": {
     "end_time": "2018-12-24T05:17:54.796462Z",
     "start_time": "2018-12-24T05:17:54.793764Z"
    }
   },
   "outputs": [
    {
     "name": "stdout",
     "output_type": "stream",
     "text": [
      "name                          My First Model\n",
      "model_class                   <class 'matchzoo.models.dense_baseline_model.DenseBaselineModel'>\n",
      "input_shapes                  None\n",
      "task                          None\n",
      "optimizer                     None\n",
      "with_multi_layer_perceptron   True\n",
      "mlp_num_units                 3\n",
      "mlp_num_layers                None\n",
      "mlp_num_fan_out               None\n",
      "mlp_activation_func           None\n"
     ]
    }
   ],
   "source": [
    "model.params['name'] = 'My First Model'\n",
    "model.params['mlp_num_units'] = 3\n",
    "print(model.params)"
   ]
  },
  {
   "cell_type": "markdown",
   "metadata": {},
   "source": [
    "Use `guess_and_fill_missing_params` to automatically fill-in other hyper parameters. This involves some guessing so the parameter it fills could be wrong. For example, the default task is `Ranking`, and if we do not set it to `Classification` manaully for data packs prepared for classification, then the shape of the model output and the data will mismatch."
   ]
  },
  {
   "cell_type": "code",
   "execution_count": 19,
   "metadata": {
    "ExecuteTime": {
     "end_time": "2018-12-24T05:17:54.802059Z",
     "start_time": "2018-12-24T05:17:54.798341Z"
    }
   },
   "outputs": [
    {
     "name": "stdout",
     "output_type": "stream",
     "text": [
      "Parameter \"task\" set to Ranking Task.\n",
      "Parameter \"input_shapes\" set to [(30,), (30,)].\n",
      "Parameter \"optimizer\" set to adam.\n",
      "Parameter \"mlp_num_layers\" set to 3.\n",
      "Parameter \"mlp_num_fan_out\" set to 32.\n",
      "Parameter \"mlp_activation_func\" set to relu.\n",
      "name                          My First Model\n",
      "model_class                   <class 'matchzoo.models.dense_baseline_model.DenseBaselineModel'>\n",
      "input_shapes                  [(30,), (30,)]\n",
      "task                          Ranking Task\n",
      "optimizer                     adam\n",
      "with_multi_layer_perceptron   True\n",
      "mlp_num_units                 3\n",
      "mlp_num_layers                3\n",
      "mlp_num_fan_out               32\n",
      "mlp_activation_func           relu\n"
     ]
    }
   ],
   "source": [
    "model.guess_and_fill_missing_params()\n",
    "print(model.params)"
   ]
  },
  {
   "cell_type": "code",
   "execution_count": 20,
   "metadata": {
    "ExecuteTime": {
     "end_time": "2018-12-24T05:17:54.807452Z",
     "start_time": "2018-12-24T05:17:54.804575Z"
    }
   },
   "outputs": [
    {
     "data": {
      "text/plain": [
       "True"
      ]
     },
     "execution_count": 20,
     "metadata": {},
     "output_type": "execute_result"
    }
   ],
   "source": [
    "model.params.completed()"
   ]
  },
  {
   "cell_type": "markdown",
   "metadata": {},
   "source": [
    "With all parameters filled in, we can now build and compile the model."
   ]
  },
  {
   "cell_type": "code",
   "execution_count": 21,
   "metadata": {
    "ExecuteTime": {
     "end_time": "2018-12-24T05:17:54.915891Z",
     "start_time": "2018-12-24T05:17:54.809272Z"
    }
   },
   "outputs": [
    {
     "name": "stdout",
     "output_type": "stream",
     "text": [
      "__________________________________________________________________________________________________\n",
      "Layer (type)                    Output Shape         Param #     Connected to                     \n",
      "==================================================================================================\n",
      "text_left (InputLayer)          (None, 30)           0                                            \n",
      "__________________________________________________________________________________________________\n",
      "text_right (InputLayer)         (None, 30)           0                                            \n",
      "__________________________________________________________________________________________________\n",
      "concatenate_1 (Concatenate)     (None, 60)           0           text_left[0][0]                  \n",
      "                                                                 text_right[0][0]                 \n",
      "__________________________________________________________________________________________________\n",
      "dense_1 (Dense)                 (None, 3)            183         concatenate_1[0][0]              \n",
      "__________________________________________________________________________________________________\n",
      "dense_2 (Dense)                 (None, 3)            12          dense_1[0][0]                    \n",
      "__________________________________________________________________________________________________\n",
      "dense_3 (Dense)                 (None, 3)            12          dense_2[0][0]                    \n",
      "__________________________________________________________________________________________________\n",
      "dense_4 (Dense)                 (None, 32)           128         dense_3[0][0]                    \n",
      "__________________________________________________________________________________________________\n",
      "dense_5 (Dense)                 (None, 1)            33          dense_4[0][0]                    \n",
      "==================================================================================================\n",
      "Total params: 368\n",
      "Trainable params: 368\n",
      "Non-trainable params: 0\n",
      "__________________________________________________________________________________________________\n"
     ]
    }
   ],
   "source": [
    "model.build()\n",
    "model.compile()\n",
    "model.backend.summary()"
   ]
  },
  {
   "cell_type": "markdown",
   "metadata": {
    "ExecuteTime": {
     "end_time": "2018-12-10T13:28:54.044570Z",
     "start_time": "2018-12-10T13:28:54.038325Z"
    }
   },
   "source": [
    "For more details about models, consult `matchzoo/tutorials/models.ipynb`."
   ]
  },
  {
   "cell_type": "markdown",
   "metadata": {},
   "source": [
    "# Train, Evaluate, Predict"
   ]
  },
  {
   "cell_type": "markdown",
   "metadata": {},
   "source": [
    "A `DataPack` can `unpack` itself into data that can be directly used to train a MatchZoo model."
   ]
  },
  {
   "cell_type": "code",
   "execution_count": 22,
   "metadata": {
    "ExecuteTime": {
     "end_time": "2018-12-24T05:17:55.218993Z",
     "start_time": "2018-12-24T05:17:54.918615Z"
    }
   },
   "outputs": [],
   "source": [
    "x, y = train_data_pack_processed.unpack()\n",
    "test_x, test_y = test_data_pack_processed.unpack()"
   ]
  },
  {
   "cell_type": "code",
   "execution_count": 23,
   "metadata": {
    "ExecuteTime": {
     "end_time": "2018-12-24T05:17:59.391054Z",
     "start_time": "2018-12-24T05:17:55.220950Z"
    }
   },
   "outputs": [
    {
     "name": "stdout",
     "output_type": "stream",
     "text": [
      "Epoch 1/5\n",
      "20360/20360 [==============================] - 2s 95us/step - loss: 0.0546\n",
      "Epoch 2/5\n",
      "20360/20360 [==============================] - 2s 85us/step - loss: 0.0486\n",
      "Epoch 3/5\n",
      "20360/20360 [==============================] - 2s 80us/step - loss: 0.0486\n",
      "Epoch 4/5\n",
      "20360/20360 [==============================] - 2s 82us/step - loss: 0.0485\n",
      "Epoch 5/5\n",
      "20360/20360 [==============================] - 2s 84us/step - loss: 0.0485\n"
     ]
    },
    {
     "data": {
      "text/plain": [
       "<keras.callbacks.History at 0x7f300ba6a048>"
      ]
     },
     "execution_count": 23,
     "metadata": {},
     "output_type": "execute_result"
    }
   ],
   "source": [
    "model.fit(x, y, batch_size=32, epochs=5)"
   ]
  },
  {
   "cell_type": "markdown",
   "metadata": {},
   "source": [
    "An alternative to train a model is to use a `DataGenerator`. This might be useful for delaying expensive preprocessing steps or doing real-time data augmentation. For more details about `DataGenerator`, consult `matchzoo/tutorials/data_handling.ipynb`."
   ]
  },
  {
   "cell_type": "code",
   "execution_count": 24,
   "metadata": {
    "ExecuteTime": {
     "end_time": "2018-12-24T05:17:59.398933Z",
     "start_time": "2018-12-24T05:17:59.393546Z"
    }
   },
   "outputs": [],
   "source": [
    "data_generator = mz.DataGenerator(train_data_pack_processed, batch_size=32)"
   ]
  },
  {
   "cell_type": "code",
   "execution_count": 25,
   "metadata": {
    "ExecuteTime": {
     "end_time": "2018-12-24T05:18:13.245952Z",
     "start_time": "2018-12-24T05:17:59.401675Z"
    }
   },
   "outputs": [
    {
     "name": "stdout",
     "output_type": "stream",
     "text": [
      "Epoch 1/5\n",
      "637/637 [==============================] - 2s 3ms/step - loss: 0.0485\n",
      "Epoch 2/5\n",
      "637/637 [==============================] - 2s 3ms/step - loss: 0.0486\n",
      "Epoch 3/5\n",
      "637/637 [==============================] - 2s 3ms/step - loss: 0.0485\n",
      "Epoch 4/5\n",
      "637/637 [==============================] - 2s 3ms/step - loss: 0.0486\n",
      "Epoch 5/5\n",
      "637/637 [==============================] - 2s 3ms/step - loss: 0.0485\n"
     ]
    },
    {
     "data": {
      "text/plain": [
       "<keras.callbacks.History at 0x7f300ba699b0>"
      ]
     },
     "execution_count": 25,
     "metadata": {},
     "output_type": "execute_result"
    }
   ],
   "source": [
    "model.fit_generator(data_generator, epochs=5, use_multiprocessing=True, workers=4)"
   ]
  },
  {
   "cell_type": "code",
   "execution_count": 26,
   "metadata": {
    "ExecuteTime": {
     "end_time": "2018-12-24T05:18:13.338087Z",
     "start_time": "2018-12-24T05:18:13.249417Z"
    }
   },
   "outputs": [
    {
     "data": {
      "text/plain": [
       "{mean_average_precision(0): 0.24650797375811317}"
      ]
     },
     "execution_count": 26,
     "metadata": {},
     "output_type": "execute_result"
    }
   ],
   "source": [
    "model.evaluate(test_x, test_y)"
   ]
  },
  {
   "cell_type": "code",
   "execution_count": 27,
   "metadata": {
    "ExecuteTime": {
     "end_time": "2018-12-24T05:18:13.410917Z",
     "start_time": "2018-12-24T05:18:13.340847Z"
    }
   },
   "outputs": [
    {
     "data": {
      "text/plain": [
       "array([[0.05138376],\n",
       "       [0.05138376],\n",
       "       [0.05138376],\n",
       "       ...,\n",
       "       [0.05138376],\n",
       "       [0.05138376],\n",
       "       [0.05138376]], dtype=float32)"
      ]
     },
     "execution_count": 27,
     "metadata": {},
     "output_type": "execute_result"
    }
   ],
   "source": [
    "model.predict(test_x)"
   ]
  },
  {
   "cell_type": "markdown",
   "metadata": {
    "ExecuteTime": {
     "end_time": "2018-12-10T14:00:25.446639Z",
     "start_time": "2018-12-10T14:00:25.444180Z"
    }
   },
   "source": [
    "# Automation"
   ]
  },
  {
   "cell_type": "markdown",
   "metadata": {},
   "source": [
    "MatchZoo strives for ease of use, and package `matchzoo.auto` is a perfect example of that."
   ]
  },
  {
   "cell_type": "markdown",
   "metadata": {},
   "source": [
    "`matchzoo.auto.prepare` handles interaction among data, model, and preprocessor automatically. For example, some model like `DSSM` have dynamic input shapes based on the result of word hashing. Some models have an embedding layer which dimension is related to the data's vocabulary size. `prepare` takes care of all that and returns properly prepared model, data, and preprocessor for you."
   ]
  },
  {
   "cell_type": "code",
   "execution_count": 28,
   "metadata": {
    "ExecuteTime": {
     "end_time": "2018-12-24T05:18:17.396644Z",
     "start_time": "2018-12-24T05:18:13.414012Z"
    }
   },
   "outputs": [
    {
     "name": "stderr",
     "output_type": "stream",
     "text": [
      "Processing text_left with chain_transform of TokenizeUnit => LowercaseUnit => PuncRemovalUnit => StopRemovalUnit => NgramLetterUnit: 100%|██████████| 13/13 [00:00<00:00, 4171.52it/s]\n",
      "Processing text_right with chain_transform of TokenizeUnit => LowercaseUnit => PuncRemovalUnit => StopRemovalUnit => NgramLetterUnit: 100%|██████████| 100/100 [00:00<00:00, 3155.82it/s]\n",
      "Processing text_left with extend: 100%|██████████| 13/13 [00:00<00:00, 11392.80it/s]\n",
      "Processing text_right with extend: 100%|██████████| 100/100 [00:00<00:00, 110843.13it/s]\n",
      "Building VocabularyUnit from a datapack.: 100%|██████████| 8523/8523 [00:00<00:00, 2179759.33it/s]\n",
      "Processing text_left with chain_transform of TokenizeUnit => LowercaseUnit => PuncRemovalUnit => StopRemovalUnit => NgramLetterUnit => WordHashingUnit: 100%|██████████| 13/13 [00:00<00:00, 2874.17it/s]\n",
      "Processing text_right with chain_transform of TokenizeUnit => LowercaseUnit => PuncRemovalUnit => StopRemovalUnit => NgramLetterUnit => WordHashingUnit: 100%|██████████| 100/100 [00:00<00:00, 2337.53it/s]\n"
     ]
    },
    {
     "name": "stdout",
     "output_type": "stream",
     "text": [
      "Parameter \"name\" set to DSSM.\n",
      "Parameter \"mlp_num_layers\" set to 3.\n",
      "Parameter \"mlp_num_units\" set to 64.\n",
      "Parameter \"mlp_num_fan_out\" set to 32.\n",
      "Parameter \"mlp_activation_func\" set to relu.\n",
      "Epoch 1/1\n",
      "100/100 [==============================] - 1s 7ms/step - loss: 0.0455\n"
     ]
    },
    {
     "data": {
      "text/plain": [
       "{mean_average_precision(0): 0.1497662563664794}"
      ]
     },
     "execution_count": 28,
     "metadata": {},
     "output_type": "execute_result"
    }
   ],
   "source": [
    "model_ok, train_ok, preprocesor_ok = mz.auto.prepare(\n",
    "    model=mz.models.DSSM(),\n",
    "    data_pack=train_data_pack[:100]\n",
    ")\n",
    "test_ok = preprocesor_ok.transform(test_data_pack, verbose=0)\n",
    "model_ok.fit(*train_ok.unpack(), batch_size=32)\n",
    "model_ok.evaluate(*test_ok.unpack())"
   ]
  },
  {
   "cell_type": "markdown",
   "metadata": {},
   "source": [
    "For more details about automation, consult `matchzoo/tutorials/automation.ipynb`."
   ]
  },
  {
   "cell_type": "markdown",
   "metadata": {
    "ExecuteTime": {
     "start_time": "2018-12-21T14:38:51.631Z"
    }
   },
   "source": [
    "# Full Example"
   ]
  },
  {
   "cell_type": "code",
   "execution_count": 29,
   "metadata": {
    "ExecuteTime": {
     "end_time": "2018-12-24T05:18:59.864634Z",
     "start_time": "2018-12-24T05:18:59.862188Z"
    }
   },
   "outputs": [],
   "source": [
    "model_classes = [\n",
    "    mz.models.CDSSM,\n",
    "    mz.models.DSSM,\n",
    "    mz.models.DUET,\n",
    "    mz.models.MVLSTM,\n",
    "    mz.models.DRMMTKS\n",
    "]"
   ]
  },
  {
   "cell_type": "code",
   "execution_count": 30,
   "metadata": {
    "ExecuteTime": {
     "end_time": "2018-12-24T05:22:16.425346Z",
     "start_time": "2018-12-24T05:19:04.633301Z"
    },
    "scrolled": false
   },
   "outputs": [
    {
     "name": "stdout",
     "output_type": "stream",
     "text": [
      "<class 'matchzoo.models.cdssm.CDSSM'>\n",
      "Epoch 1/20\n",
      "2000/2000 [==============================] - 11s 6ms/step - loss: 0.0456\n",
      "Epoch 2/20\n",
      "2000/2000 [==============================] - 12s 6ms/step - loss: 0.0333\n",
      "Epoch 3/20\n",
      "2000/2000 [==============================] - 11s 5ms/step - loss: 0.0176\n",
      "Epoch 4/20\n",
      "2000/2000 [==============================] - 12s 6ms/step - loss: 0.0077\n",
      "Epoch 5/20\n",
      "2000/2000 [==============================] - 12s 6ms/step - loss: 0.0037\n",
      "Epoch 6/20\n",
      "2000/2000 [==============================] - 11s 5ms/step - loss: 0.0036\n",
      "Epoch 7/20\n",
      "2000/2000 [==============================] - 12s 6ms/step - loss: 0.0018\n",
      "Epoch 8/20\n",
      "2000/2000 [==============================] - 10s 5ms/step - loss: 0.0019\n",
      "Epoch 9/20\n",
      "2000/2000 [==============================] - 10s 5ms/step - loss: 0.0011\n",
      "Epoch 10/20\n",
      "2000/2000 [==============================] - 11s 6ms/step - loss: 0.0021\n",
      "Epoch 11/20\n",
      "2000/2000 [==============================] - 11s 6ms/step - loss: 0.0037\n",
      "Epoch 12/20\n",
      "2000/2000 [==============================] - 11s 6ms/step - loss: 0.0032\n",
      "Epoch 13/20\n",
      "2000/2000 [==============================] - 9s 4ms/step - loss: 0.0021\n",
      "Epoch 14/20\n",
      "2000/2000 [==============================] - 10s 5ms/step - loss: 0.0018\n",
      "Epoch 15/20\n",
      "2000/2000 [==============================] - 10s 5ms/step - loss: 0.0026\n",
      "Epoch 16/20\n",
      "2000/2000 [==============================] - 7s 4ms/step - loss: 0.0012\n",
      "Epoch 17/20\n",
      "2000/2000 [==============================] - 7s 4ms/step - loss: 0.0027\n",
      "Epoch 18/20\n",
      "2000/2000 [==============================] - 7s 4ms/step - loss: 0.0019\n",
      "Epoch 19/20\n",
      "2000/2000 [==============================] - 8s 4ms/step - loss: 0.0017\n",
      "Epoch 20/20\n",
      "2000/2000 [==============================] - 9s 4ms/step - loss: 0.0014\n",
      "<class 'matchzoo.models.dssm.DSSM'>\n",
      "Epoch 1/20\n",
      "2000/2000 [==============================] - 1s 693us/step - loss: 0.0547\n",
      "Epoch 2/20\n",
      "2000/2000 [==============================] - 1s 396us/step - loss: 0.0450\n",
      "Epoch 3/20\n",
      "2000/2000 [==============================] - 1s 380us/step - loss: 0.0445\n",
      "Epoch 4/20\n",
      "2000/2000 [==============================] - 1s 389us/step - loss: 0.0442\n",
      "Epoch 5/20\n",
      "2000/2000 [==============================] - 1s 391us/step - loss: 0.0434\n",
      "Epoch 6/20\n",
      "2000/2000 [==============================] - 1s 391us/step - loss: 0.0416\n",
      "Epoch 7/20\n",
      "2000/2000 [==============================] - 1s 384us/step - loss: 0.0386\n",
      "Epoch 8/20\n",
      "2000/2000 [==============================] - 1s 381us/step - loss: 0.0355\n",
      "Epoch 9/20\n",
      "2000/2000 [==============================] - 1s 384us/step - loss: 0.0322\n",
      "Epoch 10/20\n",
      "2000/2000 [==============================] - 1s 386us/step - loss: 0.0292\n",
      "Epoch 11/20\n",
      "2000/2000 [==============================] - 1s 399us/step - loss: 0.0266\n",
      "Epoch 12/20\n",
      "2000/2000 [==============================] - 1s 382us/step - loss: 0.0244\n",
      "Epoch 13/20\n",
      "2000/2000 [==============================] - 1s 386us/step - loss: 0.0221\n",
      "Epoch 14/20\n",
      "2000/2000 [==============================] - 1s 392us/step - loss: 0.0195\n",
      "Epoch 15/20\n",
      "2000/2000 [==============================] - 1s 403us/step - loss: 0.0175\n",
      "Epoch 16/20\n",
      "2000/2000 [==============================] - 1s 405us/step - loss: 0.0161\n",
      "Epoch 17/20\n",
      "2000/2000 [==============================] - 1s 434us/step - loss: 0.0144\n",
      "Epoch 18/20\n",
      "2000/2000 [==============================] - 1s 397us/step - loss: 0.0125\n",
      "Epoch 19/20\n",
      "2000/2000 [==============================] - 1s 388us/step - loss: 0.0108\n",
      "Epoch 20/20\n",
      "2000/2000 [==============================] - 1s 396us/step - loss: 0.0095\n"
     ]
    },
    {
     "name": "stderr",
     "output_type": "stream",
     "text": [
      "Processing text_left with chain_transform of TokenizeUnit => LowercaseUnit => PuncRemovalUnit: 100%|██████████| 196/196 [00:00<00:00, 7797.07it/s]\n",
      "Processing text_right with chain_transform of TokenizeUnit => LowercaseUnit => PuncRemovalUnit:  22%|██▏       | 444/1988 [00:00<00:00, 4437.29it/s]"
     ]
    },
    {
     "name": "stdout",
     "output_type": "stream",
     "text": [
      "<class 'matchzoo.models.duet.DUET'>\n"
     ]
    },
    {
     "name": "stderr",
     "output_type": "stream",
     "text": [
      "Processing text_right with chain_transform of TokenizeUnit => LowercaseUnit => PuncRemovalUnit: 100%|██████████| 1988/1988 [00:00<00:00, 4333.36it/s]\n",
      "Processing length_left with len: 100%|██████████| 196/196 [00:00<00:00, 200020.34it/s]\n",
      "Processing length_right with len: 100%|██████████| 1988/1988 [00:00<00:00, 557669.63it/s]\n",
      "Processing length_left with len: 100%|██████████| 633/633 [00:00<00:00, 285146.00it/s]\n",
      "Processing length_right with len: 100%|██████████| 5961/5961 [00:00<00:00, 610376.60it/s]\n"
     ]
    },
    {
     "name": "stdout",
     "output_type": "stream",
     "text": [
      "Epoch 1/20\n",
      "2000/2000 [==============================] - 3s 2ms/step - loss: 0.0918\n",
      "Epoch 2/20\n",
      "2000/2000 [==============================] - 2s 985us/step - loss: 0.0442\n",
      "Epoch 3/20\n",
      "2000/2000 [==============================] - 2s 1ms/step - loss: 0.0401\n",
      "Epoch 4/20\n",
      "2000/2000 [==============================] - 2s 999us/step - loss: 0.0368\n",
      "Epoch 5/20\n",
      "2000/2000 [==============================] - 2s 1ms/step - loss: 0.0274\n",
      "Epoch 6/20\n",
      "2000/2000 [==============================] - 2s 989us/step - loss: 0.0231\n",
      "Epoch 7/20\n",
      "2000/2000 [==============================] - 2s 990us/step - loss: 0.0185\n",
      "Epoch 8/20\n",
      "2000/2000 [==============================] - 2s 1ms/step - loss: 0.0185\n",
      "Epoch 9/20\n",
      "2000/2000 [==============================] - 2s 1ms/step - loss: 0.0175\n",
      "Epoch 10/20\n",
      "2000/2000 [==============================] - 2s 1ms/step - loss: 0.0186\n",
      "Epoch 11/20\n",
      "2000/2000 [==============================] - 2s 978us/step - loss: 0.0176\n",
      "Epoch 12/20\n",
      "2000/2000 [==============================] - 2s 1ms/step - loss: 0.0160\n",
      "Epoch 13/20\n",
      "2000/2000 [==============================] - 2s 985us/step - loss: 0.0161\n",
      "Epoch 14/20\n",
      "2000/2000 [==============================] - 2s 990us/step - loss: 0.0157\n",
      "Epoch 15/20\n",
      "2000/2000 [==============================] - 2s 971us/step - loss: 0.0147\n",
      "Epoch 16/20\n",
      "2000/2000 [==============================] - 2s 971us/step - loss: 0.0158\n",
      "Epoch 17/20\n",
      "2000/2000 [==============================] - 2s 990us/step - loss: 0.0126\n",
      "Epoch 18/20\n",
      "2000/2000 [==============================] - 2s 986us/step - loss: 0.0145\n",
      "Epoch 19/20\n",
      "2000/2000 [==============================] - 2s 997us/step - loss: 0.0125\n",
      "Epoch 20/20\n",
      "2000/2000 [==============================] - 2s 975us/step - loss: 0.0118\n"
     ]
    },
    {
     "name": "stderr",
     "output_type": "stream",
     "text": [
      "Processing text_left with chain_transform of TokenizeUnit => LowercaseUnit => PuncRemovalUnit: 100%|██████████| 196/196 [00:00<00:00, 7693.52it/s]\n",
      "Processing text_right with chain_transform of TokenizeUnit => LowercaseUnit => PuncRemovalUnit:  22%|██▏       | 428/1988 [00:00<00:00, 4278.92it/s]"
     ]
    },
    {
     "name": "stdout",
     "output_type": "stream",
     "text": [
      "<class 'matchzoo.models.mvlstm.MVLSTM'>\n"
     ]
    },
    {
     "name": "stderr",
     "output_type": "stream",
     "text": [
      "Processing text_right with chain_transform of TokenizeUnit => LowercaseUnit => PuncRemovalUnit: 100%|██████████| 1988/1988 [00:00<00:00, 4191.78it/s]\n",
      "Processing length_left with len: 100%|██████████| 196/196 [00:00<00:00, 196295.03it/s]\n",
      "Processing length_right with len: 100%|██████████| 1988/1988 [00:00<00:00, 549546.98it/s]\n",
      "Processing length_left with len: 100%|██████████| 633/633 [00:00<00:00, 328060.60it/s]\n",
      "Processing length_right with len: 100%|██████████| 5961/5961 [00:00<00:00, 615182.47it/s]\n"
     ]
    },
    {
     "name": "stdout",
     "output_type": "stream",
     "text": [
      "Epoch 1/20\n",
      "2000/2000 [==============================] - 7s 4ms/step - loss: 0.0450\n",
      "Epoch 2/20\n",
      "2000/2000 [==============================] - 4s 2ms/step - loss: 0.0416\n",
      "Epoch 3/20\n",
      "2000/2000 [==============================] - 4s 2ms/step - loss: 0.0223\n",
      "Epoch 4/20\n",
      "2000/2000 [==============================] - 4s 2ms/step - loss: 0.0105\n",
      "Epoch 5/20\n",
      "2000/2000 [==============================] - 4s 2ms/step - loss: 0.0062\n",
      "Epoch 6/20\n",
      "2000/2000 [==============================] - 4s 2ms/step - loss: 0.0037\n",
      "Epoch 7/20\n",
      "2000/2000 [==============================] - 4s 2ms/step - loss: 0.0031\n",
      "Epoch 8/20\n",
      "2000/2000 [==============================] - 4s 2ms/step - loss: 0.0027\n",
      "Epoch 9/20\n",
      "2000/2000 [==============================] - 4s 2ms/step - loss: 0.0026\n",
      "Epoch 10/20\n",
      "2000/2000 [==============================] - 4s 2ms/step - loss: 0.0026\n",
      "Epoch 11/20\n",
      "2000/2000 [==============================] - 4s 2ms/step - loss: 0.0026\n",
      "Epoch 12/20\n",
      "2000/2000 [==============================] - 4s 2ms/step - loss: 0.0026\n",
      "Epoch 13/20\n",
      "2000/2000 [==============================] - 4s 2ms/step - loss: 0.0025\n",
      "Epoch 14/20\n",
      "2000/2000 [==============================] - 4s 2ms/step - loss: 0.0025\n",
      "Epoch 15/20\n",
      "2000/2000 [==============================] - 4s 2ms/step - loss: 0.0026\n",
      "Epoch 16/20\n",
      "2000/2000 [==============================] - 4s 2ms/step - loss: 0.0026\n",
      "Epoch 17/20\n",
      "2000/2000 [==============================] - 4s 2ms/step - loss: 0.0025\n",
      "Epoch 18/20\n",
      "2000/2000 [==============================] - 4s 2ms/step - loss: 0.0020\n",
      "Epoch 19/20\n",
      "2000/2000 [==============================] - 4s 2ms/step - loss: 0.0022\n",
      "Epoch 20/20\n",
      "2000/2000 [==============================] - 4s 2ms/step - loss: 0.0025\n"
     ]
    },
    {
     "name": "stderr",
     "output_type": "stream",
     "text": [
      "Processing text_left with chain_transform of TokenizeUnit => LowercaseUnit => PuncRemovalUnit: 100%|██████████| 196/196 [00:00<00:00, 8301.69it/s]\n",
      "Processing text_right with chain_transform of TokenizeUnit => LowercaseUnit => PuncRemovalUnit:  22%|██▏       | 432/1988 [00:00<00:00, 4318.77it/s]"
     ]
    },
    {
     "name": "stdout",
     "output_type": "stream",
     "text": [
      "<class 'matchzoo.models.drmmtks.DRMMTKS'>\n"
     ]
    },
    {
     "name": "stderr",
     "output_type": "stream",
     "text": [
      "Processing text_right with chain_transform of TokenizeUnit => LowercaseUnit => PuncRemovalUnit: 100%|██████████| 1988/1988 [00:00<00:00, 4516.05it/s]\n",
      "Processing length_left with len: 100%|██████████| 196/196 [00:00<00:00, 218813.84it/s]\n",
      "Processing length_right with len: 100%|██████████| 1988/1988 [00:00<00:00, 545555.90it/s]\n",
      "Processing length_left with len: 100%|██████████| 633/633 [00:00<00:00, 400814.38it/s]\n",
      "Processing length_right with len: 100%|██████████| 5961/5961 [00:00<00:00, 606806.45it/s]\n"
     ]
    },
    {
     "name": "stdout",
     "output_type": "stream",
     "text": [
      "Epoch 1/20\n",
      "2000/2000 [==============================] - 4s 2ms/step - loss: 0.0480\n",
      "Epoch 2/20\n",
      "2000/2000 [==============================] - 2s 1ms/step - loss: 0.0439\n",
      "Epoch 3/20\n",
      "2000/2000 [==============================] - 2s 1ms/step - loss: 0.0324\n",
      "Epoch 4/20\n",
      "2000/2000 [==============================] - 2s 1ms/step - loss: 0.0157\n",
      "Epoch 5/20\n",
      "2000/2000 [==============================] - 2s 1ms/step - loss: 0.0068\n",
      "Epoch 6/20\n",
      "2000/2000 [==============================] - 2s 1ms/step - loss: 0.0033\n",
      "Epoch 7/20\n",
      "2000/2000 [==============================] - 2s 1ms/step - loss: 0.0020\n",
      "Epoch 8/20\n",
      "2000/2000 [==============================] - 2s 1ms/step - loss: 0.0015\n",
      "Epoch 9/20\n",
      "2000/2000 [==============================] - 2s 1ms/step - loss: 0.0015\n",
      "Epoch 10/20\n",
      "2000/2000 [==============================] - 2s 1ms/step - loss: 0.0012\n",
      "Epoch 11/20\n",
      "2000/2000 [==============================] - 2s 1ms/step - loss: 9.9670e-04\n",
      "Epoch 12/20\n",
      "2000/2000 [==============================] - 2s 1ms/step - loss: 9.2002e-04\n",
      "Epoch 13/20\n",
      "2000/2000 [==============================] - 2s 1ms/step - loss: 8.2659e-04\n",
      "Epoch 14/20\n",
      "2000/2000 [==============================] - 2s 1ms/step - loss: 7.6599e-04\n",
      "Epoch 15/20\n",
      "2000/2000 [==============================] - 2s 1ms/step - loss: 7.2530e-04\n",
      "Epoch 16/20\n",
      "2000/2000 [==============================] - 2s 1ms/step - loss: 7.3670e-04\n",
      "Epoch 17/20\n",
      "2000/2000 [==============================] - 2s 1ms/step - loss: 7.9029e-04\n",
      "Epoch 18/20\n",
      "2000/2000 [==============================] - 2s 1ms/step - loss: 7.8811e-04\n",
      "Epoch 19/20\n",
      "2000/2000 [==============================] - 2s 1ms/step - loss: 6.9467e-04\n",
      "Epoch 20/20\n",
      "2000/2000 [==============================] - 2s 1ms/step - loss: 6.6280e-04\n"
     ]
    }
   ],
   "source": [
    "task = mz.tasks.Ranking(metrics=['map', 'ndcg'])\n",
    "results = []\n",
    "for model_class in model_classes:\n",
    "    print(model_class)\n",
    "    model = model_class()\n",
    "    model.params['task'] = task\n",
    "    model_ok, train_ok, preprocesor_ok = mz.auto.prepare(\n",
    "        model=model,\n",
    "        data_pack=train_data_pack[:2000],\n",
    "        verbose=0\n",
    "    )\n",
    "    test_ok = preprocesor_ok.transform(test_data_pack, verbose=0)\n",
    "    callback = mz.engine.callbacks.EvaluateAllMetrics(\n",
    "        model_ok,\n",
    "        *test_ok.unpack(),\n",
    "        batch_size=1024,\n",
    "        verbose=0\n",
    "    )\n",
    "    history = model_ok.fit(*train_ok.unpack(), batch_size=32, epochs=20, callbacks=[callback])\n",
    "    results.append({'name': model_ok.params['name'], 'history': history})"
   ]
  },
  {
   "cell_type": "code",
   "execution_count": 31,
   "metadata": {
    "scrolled": false
   },
   "outputs": [
    {
     "data": {
      "text/html": [
       "\n",
       "    <div class=\"bk-root\">\n",
       "        <a href=\"https://bokeh.pydata.org\" target=\"_blank\" class=\"bk-logo bk-logo-small bk-logo-notebook\"></a>\n",
       "        <span id=\"1001\">Loading BokehJS ...</span>\n",
       "    </div>"
      ]
     },
     "metadata": {},
     "output_type": "display_data"
    },
    {
     "data": {
      "application/javascript": [
       "\n",
       "(function(root) {\n",
       "  function now() {\n",
       "    return new Date();\n",
       "  }\n",
       "\n",
       "  var force = true;\n",
       "\n",
       "  if (typeof (root._bokeh_onload_callbacks) === \"undefined\" || force === true) {\n",
       "    root._bokeh_onload_callbacks = [];\n",
       "    root._bokeh_is_loading = undefined;\n",
       "  }\n",
       "\n",
       "  var JS_MIME_TYPE = 'application/javascript';\n",
       "  var HTML_MIME_TYPE = 'text/html';\n",
       "  var EXEC_MIME_TYPE = 'application/vnd.bokehjs_exec.v0+json';\n",
       "  var CLASS_NAME = 'output_bokeh rendered_html';\n",
       "\n",
       "  /**\n",
       "   * Render data to the DOM node\n",
       "   */\n",
       "  function render(props, node) {\n",
       "    var script = document.createElement(\"script\");\n",
       "    node.appendChild(script);\n",
       "  }\n",
       "\n",
       "  /**\n",
       "   * Handle when an output is cleared or removed\n",
       "   */\n",
       "  function handleClearOutput(event, handle) {\n",
       "    var cell = handle.cell;\n",
       "\n",
       "    var id = cell.output_area._bokeh_element_id;\n",
       "    var server_id = cell.output_area._bokeh_server_id;\n",
       "    // Clean up Bokeh references\n",
       "    if (id != null && id in Bokeh.index) {\n",
       "      Bokeh.index[id].model.document.clear();\n",
       "      delete Bokeh.index[id];\n",
       "    }\n",
       "\n",
       "    if (server_id !== undefined) {\n",
       "      // Clean up Bokeh references\n",
       "      var cmd = \"from bokeh.io.state import curstate; print(curstate().uuid_to_server['\" + server_id + \"'].get_sessions()[0].document.roots[0]._id)\";\n",
       "      cell.notebook.kernel.execute(cmd, {\n",
       "        iopub: {\n",
       "          output: function(msg) {\n",
       "            var id = msg.content.text.trim();\n",
       "            if (id in Bokeh.index) {\n",
       "              Bokeh.index[id].model.document.clear();\n",
       "              delete Bokeh.index[id];\n",
       "            }\n",
       "          }\n",
       "        }\n",
       "      });\n",
       "      // Destroy server and session\n",
       "      var cmd = \"import bokeh.io.notebook as ion; ion.destroy_server('\" + server_id + \"')\";\n",
       "      cell.notebook.kernel.execute(cmd);\n",
       "    }\n",
       "  }\n",
       "\n",
       "  /**\n",
       "   * Handle when a new output is added\n",
       "   */\n",
       "  function handleAddOutput(event, handle) {\n",
       "    var output_area = handle.output_area;\n",
       "    var output = handle.output;\n",
       "\n",
       "    // limit handleAddOutput to display_data with EXEC_MIME_TYPE content only\n",
       "    if ((output.output_type != \"display_data\") || (!output.data.hasOwnProperty(EXEC_MIME_TYPE))) {\n",
       "      return\n",
       "    }\n",
       "\n",
       "    var toinsert = output_area.element.find(\".\" + CLASS_NAME.split(' ')[0]);\n",
       "\n",
       "    if (output.metadata[EXEC_MIME_TYPE][\"id\"] !== undefined) {\n",
       "      toinsert[toinsert.length - 1].firstChild.textContent = output.data[JS_MIME_TYPE];\n",
       "      // store reference to embed id on output_area\n",
       "      output_area._bokeh_element_id = output.metadata[EXEC_MIME_TYPE][\"id\"];\n",
       "    }\n",
       "    if (output.metadata[EXEC_MIME_TYPE][\"server_id\"] !== undefined) {\n",
       "      var bk_div = document.createElement(\"div\");\n",
       "      bk_div.innerHTML = output.data[HTML_MIME_TYPE];\n",
       "      var script_attrs = bk_div.children[0].attributes;\n",
       "      for (var i = 0; i < script_attrs.length; i++) {\n",
       "        toinsert[toinsert.length - 1].firstChild.setAttribute(script_attrs[i].name, script_attrs[i].value);\n",
       "      }\n",
       "      // store reference to server id on output_area\n",
       "      output_area._bokeh_server_id = output.metadata[EXEC_MIME_TYPE][\"server_id\"];\n",
       "    }\n",
       "  }\n",
       "\n",
       "  function register_renderer(events, OutputArea) {\n",
       "\n",
       "    function append_mime(data, metadata, element) {\n",
       "      // create a DOM node to render to\n",
       "      var toinsert = this.create_output_subarea(\n",
       "        metadata,\n",
       "        CLASS_NAME,\n",
       "        EXEC_MIME_TYPE\n",
       "      );\n",
       "      this.keyboard_manager.register_events(toinsert);\n",
       "      // Render to node\n",
       "      var props = {data: data, metadata: metadata[EXEC_MIME_TYPE]};\n",
       "      render(props, toinsert[toinsert.length - 1]);\n",
       "      element.append(toinsert);\n",
       "      return toinsert\n",
       "    }\n",
       "\n",
       "    /* Handle when an output is cleared or removed */\n",
       "    events.on('clear_output.CodeCell', handleClearOutput);\n",
       "    events.on('delete.Cell', handleClearOutput);\n",
       "\n",
       "    /* Handle when a new output is added */\n",
       "    events.on('output_added.OutputArea', handleAddOutput);\n",
       "\n",
       "    /**\n",
       "     * Register the mime type and append_mime function with output_area\n",
       "     */\n",
       "    OutputArea.prototype.register_mime_type(EXEC_MIME_TYPE, append_mime, {\n",
       "      /* Is output safe? */\n",
       "      safe: true,\n",
       "      /* Index of renderer in `output_area.display_order` */\n",
       "      index: 0\n",
       "    });\n",
       "  }\n",
       "\n",
       "  // register the mime type if in Jupyter Notebook environment and previously unregistered\n",
       "  if (root.Jupyter !== undefined) {\n",
       "    var events = require('base/js/events');\n",
       "    var OutputArea = require('notebook/js/outputarea').OutputArea;\n",
       "\n",
       "    if (OutputArea.prototype.mime_types().indexOf(EXEC_MIME_TYPE) == -1) {\n",
       "      register_renderer(events, OutputArea);\n",
       "    }\n",
       "  }\n",
       "\n",
       "  \n",
       "  if (typeof (root._bokeh_timeout) === \"undefined\" || force === true) {\n",
       "    root._bokeh_timeout = Date.now() + 5000;\n",
       "    root._bokeh_failed_load = false;\n",
       "  }\n",
       "\n",
       "  var NB_LOAD_WARNING = {'data': {'text/html':\n",
       "     \"<div style='background-color: #fdd'>\\n\"+\n",
       "     \"<p>\\n\"+\n",
       "     \"BokehJS does not appear to have successfully loaded. If loading BokehJS from CDN, this \\n\"+\n",
       "     \"may be due to a slow or bad network connection. Possible fixes:\\n\"+\n",
       "     \"</p>\\n\"+\n",
       "     \"<ul>\\n\"+\n",
       "     \"<li>re-rerun `output_notebook()` to attempt to load from CDN again, or</li>\\n\"+\n",
       "     \"<li>use INLINE resources instead, as so:</li>\\n\"+\n",
       "     \"</ul>\\n\"+\n",
       "     \"<code>\\n\"+\n",
       "     \"from bokeh.resources import INLINE\\n\"+\n",
       "     \"output_notebook(resources=INLINE)\\n\"+\n",
       "     \"</code>\\n\"+\n",
       "     \"</div>\"}};\n",
       "\n",
       "  function display_loaded() {\n",
       "    var el = document.getElementById(\"1001\");\n",
       "    if (el != null) {\n",
       "      el.textContent = \"BokehJS is loading...\";\n",
       "    }\n",
       "    if (root.Bokeh !== undefined) {\n",
       "      if (el != null) {\n",
       "        el.textContent = \"BokehJS \" + root.Bokeh.version + \" successfully loaded.\";\n",
       "      }\n",
       "    } else if (Date.now() < root._bokeh_timeout) {\n",
       "      setTimeout(display_loaded, 100)\n",
       "    }\n",
       "  }\n",
       "\n",
       "\n",
       "  function run_callbacks() {\n",
       "    try {\n",
       "      root._bokeh_onload_callbacks.forEach(function(callback) { callback() });\n",
       "    }\n",
       "    finally {\n",
       "      delete root._bokeh_onload_callbacks\n",
       "    }\n",
       "    console.info(\"Bokeh: all callbacks have finished\");\n",
       "  }\n",
       "\n",
       "  function load_libs(js_urls, callback) {\n",
       "    root._bokeh_onload_callbacks.push(callback);\n",
       "    if (root._bokeh_is_loading > 0) {\n",
       "      console.log(\"Bokeh: BokehJS is being loaded, scheduling callback at\", now());\n",
       "      return null;\n",
       "    }\n",
       "    if (js_urls == null || js_urls.length === 0) {\n",
       "      run_callbacks();\n",
       "      return null;\n",
       "    }\n",
       "    console.log(\"Bokeh: BokehJS not loaded, scheduling load and callback at\", now());\n",
       "    root._bokeh_is_loading = js_urls.length;\n",
       "    for (var i = 0; i < js_urls.length; i++) {\n",
       "      var url = js_urls[i];\n",
       "      var s = document.createElement('script');\n",
       "      s.src = url;\n",
       "      s.async = false;\n",
       "      s.onreadystatechange = s.onload = function() {\n",
       "        root._bokeh_is_loading--;\n",
       "        if (root._bokeh_is_loading === 0) {\n",
       "          console.log(\"Bokeh: all BokehJS libraries loaded\");\n",
       "          run_callbacks()\n",
       "        }\n",
       "      };\n",
       "      s.onerror = function() {\n",
       "        console.warn(\"failed to load library \" + url);\n",
       "      };\n",
       "      console.log(\"Bokeh: injecting script tag for BokehJS library: \", url);\n",
       "      document.getElementsByTagName(\"head\")[0].appendChild(s);\n",
       "    }\n",
       "  };var element = document.getElementById(\"1001\");\n",
       "  if (element == null) {\n",
       "    console.log(\"Bokeh: ERROR: autoload.js configured with elementid '1001' but no matching script tag was found. \")\n",
       "    return false;\n",
       "  }\n",
       "\n",
       "  var js_urls = [\"https://cdn.pydata.org/bokeh/release/bokeh-1.0.2.min.js\", \"https://cdn.pydata.org/bokeh/release/bokeh-widgets-1.0.2.min.js\", \"https://cdn.pydata.org/bokeh/release/bokeh-tables-1.0.2.min.js\", \"https://cdn.pydata.org/bokeh/release/bokeh-gl-1.0.2.min.js\"];\n",
       "\n",
       "  var inline_js = [\n",
       "    function(Bokeh) {\n",
       "      Bokeh.set_log_level(\"info\");\n",
       "    },\n",
       "    \n",
       "    function(Bokeh) {\n",
       "      \n",
       "    },\n",
       "    function(Bokeh) {\n",
       "      console.log(\"Bokeh: injecting CSS: https://cdn.pydata.org/bokeh/release/bokeh-1.0.2.min.css\");\n",
       "      Bokeh.embed.inject_css(\"https://cdn.pydata.org/bokeh/release/bokeh-1.0.2.min.css\");\n",
       "      console.log(\"Bokeh: injecting CSS: https://cdn.pydata.org/bokeh/release/bokeh-widgets-1.0.2.min.css\");\n",
       "      Bokeh.embed.inject_css(\"https://cdn.pydata.org/bokeh/release/bokeh-widgets-1.0.2.min.css\");\n",
       "      console.log(\"Bokeh: injecting CSS: https://cdn.pydata.org/bokeh/release/bokeh-tables-1.0.2.min.css\");\n",
       "      Bokeh.embed.inject_css(\"https://cdn.pydata.org/bokeh/release/bokeh-tables-1.0.2.min.css\");\n",
       "    }\n",
       "  ];\n",
       "\n",
       "  function run_inline_js() {\n",
       "    \n",
       "    if ((root.Bokeh !== undefined) || (force === true)) {\n",
       "      for (var i = 0; i < inline_js.length; i++) {\n",
       "        inline_js[i].call(root, root.Bokeh);\n",
       "      }if (force === true) {\n",
       "        display_loaded();\n",
       "      }} else if (Date.now() < root._bokeh_timeout) {\n",
       "      setTimeout(run_inline_js, 100);\n",
       "    } else if (!root._bokeh_failed_load) {\n",
       "      console.log(\"Bokeh: BokehJS failed to load within specified timeout.\");\n",
       "      root._bokeh_failed_load = true;\n",
       "    } else if (force !== true) {\n",
       "      var cell = $(document.getElementById(\"1001\")).parents('.cell').data().cell;\n",
       "      cell.output_area.append_execute_result(NB_LOAD_WARNING)\n",
       "    }\n",
       "\n",
       "  }\n",
       "\n",
       "  if (root._bokeh_is_loading === 0) {\n",
       "    console.log(\"Bokeh: BokehJS loaded, going straight to plotting\");\n",
       "    run_inline_js();\n",
       "  } else {\n",
       "    load_libs(js_urls, function() {\n",
       "      console.log(\"Bokeh: BokehJS plotting callback run at\", now());\n",
       "      run_inline_js();\n",
       "    });\n",
       "  }\n",
       "}(window));"
      ],
      "application/vnd.bokehjs_load.v0+json": "\n(function(root) {\n  function now() {\n    return new Date();\n  }\n\n  var force = true;\n\n  if (typeof (root._bokeh_onload_callbacks) === \"undefined\" || force === true) {\n    root._bokeh_onload_callbacks = [];\n    root._bokeh_is_loading = undefined;\n  }\n\n  \n\n  \n  if (typeof (root._bokeh_timeout) === \"undefined\" || force === true) {\n    root._bokeh_timeout = Date.now() + 5000;\n    root._bokeh_failed_load = false;\n  }\n\n  var NB_LOAD_WARNING = {'data': {'text/html':\n     \"<div style='background-color: #fdd'>\\n\"+\n     \"<p>\\n\"+\n     \"BokehJS does not appear to have successfully loaded. If loading BokehJS from CDN, this \\n\"+\n     \"may be due to a slow or bad network connection. Possible fixes:\\n\"+\n     \"</p>\\n\"+\n     \"<ul>\\n\"+\n     \"<li>re-rerun `output_notebook()` to attempt to load from CDN again, or</li>\\n\"+\n     \"<li>use INLINE resources instead, as so:</li>\\n\"+\n     \"</ul>\\n\"+\n     \"<code>\\n\"+\n     \"from bokeh.resources import INLINE\\n\"+\n     \"output_notebook(resources=INLINE)\\n\"+\n     \"</code>\\n\"+\n     \"</div>\"}};\n\n  function display_loaded() {\n    var el = document.getElementById(\"1001\");\n    if (el != null) {\n      el.textContent = \"BokehJS is loading...\";\n    }\n    if (root.Bokeh !== undefined) {\n      if (el != null) {\n        el.textContent = \"BokehJS \" + root.Bokeh.version + \" successfully loaded.\";\n      }\n    } else if (Date.now() < root._bokeh_timeout) {\n      setTimeout(display_loaded, 100)\n    }\n  }\n\n\n  function run_callbacks() {\n    try {\n      root._bokeh_onload_callbacks.forEach(function(callback) { callback() });\n    }\n    finally {\n      delete root._bokeh_onload_callbacks\n    }\n    console.info(\"Bokeh: all callbacks have finished\");\n  }\n\n  function load_libs(js_urls, callback) {\n    root._bokeh_onload_callbacks.push(callback);\n    if (root._bokeh_is_loading > 0) {\n      console.log(\"Bokeh: BokehJS is being loaded, scheduling callback at\", now());\n      return null;\n    }\n    if (js_urls == null || js_urls.length === 0) {\n      run_callbacks();\n      return null;\n    }\n    console.log(\"Bokeh: BokehJS not loaded, scheduling load and callback at\", now());\n    root._bokeh_is_loading = js_urls.length;\n    for (var i = 0; i < js_urls.length; i++) {\n      var url = js_urls[i];\n      var s = document.createElement('script');\n      s.src = url;\n      s.async = false;\n      s.onreadystatechange = s.onload = function() {\n        root._bokeh_is_loading--;\n        if (root._bokeh_is_loading === 0) {\n          console.log(\"Bokeh: all BokehJS libraries loaded\");\n          run_callbacks()\n        }\n      };\n      s.onerror = function() {\n        console.warn(\"failed to load library \" + url);\n      };\n      console.log(\"Bokeh: injecting script tag for BokehJS library: \", url);\n      document.getElementsByTagName(\"head\")[0].appendChild(s);\n    }\n  };var element = document.getElementById(\"1001\");\n  if (element == null) {\n    console.log(\"Bokeh: ERROR: autoload.js configured with elementid '1001' but no matching script tag was found. \")\n    return false;\n  }\n\n  var js_urls = [\"https://cdn.pydata.org/bokeh/release/bokeh-1.0.2.min.js\", \"https://cdn.pydata.org/bokeh/release/bokeh-widgets-1.0.2.min.js\", \"https://cdn.pydata.org/bokeh/release/bokeh-tables-1.0.2.min.js\", \"https://cdn.pydata.org/bokeh/release/bokeh-gl-1.0.2.min.js\"];\n\n  var inline_js = [\n    function(Bokeh) {\n      Bokeh.set_log_level(\"info\");\n    },\n    \n    function(Bokeh) {\n      \n    },\n    function(Bokeh) {\n      console.log(\"Bokeh: injecting CSS: https://cdn.pydata.org/bokeh/release/bokeh-1.0.2.min.css\");\n      Bokeh.embed.inject_css(\"https://cdn.pydata.org/bokeh/release/bokeh-1.0.2.min.css\");\n      console.log(\"Bokeh: injecting CSS: https://cdn.pydata.org/bokeh/release/bokeh-widgets-1.0.2.min.css\");\n      Bokeh.embed.inject_css(\"https://cdn.pydata.org/bokeh/release/bokeh-widgets-1.0.2.min.css\");\n      console.log(\"Bokeh: injecting CSS: https://cdn.pydata.org/bokeh/release/bokeh-tables-1.0.2.min.css\");\n      Bokeh.embed.inject_css(\"https://cdn.pydata.org/bokeh/release/bokeh-tables-1.0.2.min.css\");\n    }\n  ];\n\n  function run_inline_js() {\n    \n    if ((root.Bokeh !== undefined) || (force === true)) {\n      for (var i = 0; i < inline_js.length; i++) {\n        inline_js[i].call(root, root.Bokeh);\n      }if (force === true) {\n        display_loaded();\n      }} else if (Date.now() < root._bokeh_timeout) {\n      setTimeout(run_inline_js, 100);\n    } else if (!root._bokeh_failed_load) {\n      console.log(\"Bokeh: BokehJS failed to load within specified timeout.\");\n      root._bokeh_failed_load = true;\n    } else if (force !== true) {\n      var cell = $(document.getElementById(\"1001\")).parents('.cell').data().cell;\n      cell.output_area.append_execute_result(NB_LOAD_WARNING)\n    }\n\n  }\n\n  if (root._bokeh_is_loading === 0) {\n    console.log(\"Bokeh: BokehJS loaded, going straight to plotting\");\n    run_inline_js();\n  } else {\n    load_libs(js_urls, function() {\n      console.log(\"Bokeh: BokehJS plotting callback run at\", now());\n      run_inline_js();\n    });\n  }\n}(window));"
     },
     "metadata": {},
     "output_type": "display_data"
    },
    {
     "data": {
      "text/html": [
       "\n",
       "\n",
       "\n",
       "\n",
       "\n",
       "\n",
       "  <div class=\"bk-root\" id=\"c251f29d-c51d-4e9e-8a92-9bed546d58e7\"></div>\n"
      ]
     },
     "metadata": {},
     "output_type": "display_data"
    },
    {
     "data": {
      "application/javascript": [
       "(function(root) {\n",
       "  function embed_document(root) {\n",
       "    \n",
       "  var docs_json = {\"be28b624-43e4-47ad-96b3-287159c59a88\":{\"roots\":{\"references\":[{\"attributes\":{\"children\":[{\"id\":\"1003\",\"subtype\":\"Figure\",\"type\":\"Plot\"},{\"id\":\"1039\",\"subtype\":\"Figure\",\"type\":\"Plot\"},{\"id\":\"1075\",\"subtype\":\"Figure\",\"type\":\"Plot\"}]},\"id\":\"1369\",\"type\":\"Column\"},{\"attributes\":{\"callback\":null,\"data\":{\"x\":[0,1,2,3,4,5,6,7,8,9,10,11,12,13,14,15,16,17,18,19],\"y\":[0.15700554859327218,0.15603635276010858,0.23135955956453583,0.1688167904005187,0.18531632115058375,0.18585341159974095,0.22330733188958432,0.23216672808497454,0.23268642516865265,0.2130919877287425,0.19670136690694603,0.2376690746062784,0.23451821633693673,0.2414927123517171,0.20096594309874846,0.23583908697060355,0.2466937974698638,0.23877680047703742,0.22838778248949115,0.23478221686160072]},\"selected\":{\"id\":\"1223\",\"type\":\"Selection\"},\"selection_policy\":{\"id\":\"1222\",\"type\":\"UnionRenderers\"}},\"id\":\"1197\",\"type\":\"ColumnDataSource\"},{\"attributes\":{},\"id\":\"1405\",\"type\":\"UnionRenderers\"},{\"attributes\":{},\"id\":\"1019\",\"type\":\"BasicTicker\"},{\"attributes\":{\"callback\":null,\"data\":{\"x\":[0,1,2,3,4,5,6,7,8,9,10,11,12,13,14,15,16,17,18,19],\"y\":[0.08372827804107424,0.08056872037914692,0.15639810426540285,0.08688783570300158,0.10110584518167456,0.11374407582938388,0.14375987361769352,0.15481832543443919,0.15481832543443919,0.13112164296998421,0.12006319115323855,0.16113744075829384,0.15639810426540285,0.16903633491311215,0.12322274881516587,0.16429699842022116,0.1769352290679305,0.16429699842022116,0.15481832543443919,0.15955766192733017]},\"selected\":{\"id\":\"1309\",\"type\":\"Selection\"},\"selection_policy\":{\"id\":\"1308\",\"type\":\"UnionRenderers\"}},\"id\":\"1283\",\"type\":\"ColumnDataSource\"},{\"attributes\":{\"dimension\":1,\"plot\":{\"id\":\"1003\",\"subtype\":\"Figure\",\"type\":\"Plot\"},\"ticker\":{\"id\":\"1019\",\"type\":\"BasicTicker\"}},\"id\":\"1022\",\"type\":\"Grid\"},{\"attributes\":{\"source\":{\"id\":\"1329\",\"type\":\"ColumnDataSource\"}},\"id\":\"1333\",\"type\":\"CDSView\"},{\"attributes\":{},\"id\":\"1194\",\"type\":\"Selection\"},{\"attributes\":{\"label\":{\"value\":\"DUET\"},\"renderers\":[{\"id\":\"1143\",\"type\":\"GlyphRenderer\"}]},\"id\":\"1155\",\"type\":\"LegendItem\"},{\"attributes\":{\"plot\":null,\"text\":\"mean_average_precision(0)\"},\"id\":\"1038\",\"type\":\"Title\"},{\"attributes\":{\"label\":{\"value\":\"DUET\"},\"renderers\":[{\"id\":\"1315\",\"type\":\"GlyphRenderer\"}]},\"id\":\"1327\",\"type\":\"LegendItem\"},{\"attributes\":{},\"id\":\"1047\",\"type\":\"LinearScale\"},{\"attributes\":{},\"id\":\"1394\",\"type\":\"UnionRenderers\"},{\"attributes\":{},\"id\":\"1009\",\"type\":\"LinearScale\"},{\"attributes\":{},\"id\":\"1028\",\"type\":\"HelpTool\"},{\"attributes\":{},\"id\":\"1292\",\"type\":\"BasicTickFormatter\"},{\"attributes\":{\"formatter\":{\"id\":\"1120\",\"type\":\"BasicTickFormatter\"},\"plot\":{\"id\":\"1003\",\"subtype\":\"Figure\",\"type\":\"Plot\"},\"ticker\":{\"id\":\"1019\",\"type\":\"BasicTicker\"}},\"id\":\"1018\",\"type\":\"LinearAxis\"},{\"attributes\":{\"data_source\":{\"id\":\"1297\",\"type\":\"ColumnDataSource\"},\"glyph\":{\"id\":\"1298\",\"type\":\"Line\"},\"hover_glyph\":null,\"muted_glyph\":null,\"nonselection_glyph\":{\"id\":\"1299\",\"type\":\"Line\"},\"selection_glyph\":null,\"view\":{\"id\":\"1301\",\"type\":\"CDSView\"}},\"id\":\"1300\",\"type\":\"GlyphRenderer\"},{\"attributes\":{\"line_alpha\":0.1,\"line_color\":\"#1f77b4\",\"line_width\":2,\"x\":{\"field\":\"x\"},\"y\":{\"field\":\"y\"}},\"id\":\"1159\",\"type\":\"Line\"},{\"attributes\":{\"plot\":null,\"text\":\"normalized_discounted_cumulative_gain@1(0)\"},\"id\":\"1074\",\"type\":\"Title\"},{\"attributes\":{},\"id\":\"1063\",\"type\":\"ResetTool\"},{\"attributes\":{\"items\":[{\"id\":\"1123\",\"type\":\"LegendItem\"},{\"id\":\"1138\",\"type\":\"LegendItem\"},{\"id\":\"1155\",\"type\":\"LegendItem\"},{\"id\":\"1174\",\"type\":\"LegendItem\"},{\"id\":\"1195\",\"type\":\"LegendItem\"}],\"plot\":{\"id\":\"1003\",\"subtype\":\"Figure\",\"type\":\"Plot\"}},\"id\":\"1122\",\"type\":\"Legend\"},{\"attributes\":{},\"id\":\"1050\",\"type\":\"BasicTicker\"},{\"attributes\":{\"data_source\":{\"id\":\"1348\",\"type\":\"ColumnDataSource\"},\"glyph\":{\"id\":\"1349\",\"type\":\"Line\"},\"hover_glyph\":null,\"muted_glyph\":null,\"nonselection_glyph\":{\"id\":\"1350\",\"type\":\"Line\"},\"selection_glyph\":null,\"view\":{\"id\":\"1352\",\"type\":\"CDSView\"}},\"id\":\"1351\",\"type\":\"GlyphRenderer\"},{\"attributes\":{\"data_source\":{\"id\":\"1312\",\"type\":\"ColumnDataSource\"},\"glyph\":{\"id\":\"1313\",\"type\":\"Line\"},\"hover_glyph\":null,\"muted_glyph\":null,\"nonselection_glyph\":{\"id\":\"1314\",\"type\":\"Line\"},\"selection_glyph\":null,\"view\":{\"id\":\"1316\",\"type\":\"CDSView\"}},\"id\":\"1315\",\"type\":\"GlyphRenderer\"},{\"attributes\":{\"label\":{\"value\":\"CDSSM\"},\"renderers\":[{\"id\":\"1114\",\"type\":\"GlyphRenderer\"}]},\"id\":\"1123\",\"type\":\"LegendItem\"},{\"attributes\":{\"callback\":null,\"data\":{\"x\":[0,1,2,3,4,5,6,7,8,9,10,11,12,13,14,15,16,17,18,19],\"y\":[0.13270142180094788,0.14375987361769352,0.12954186413902052,0.1263823064770932,0.12164296998420221,0.11532385466034756,0.10900473933649289,0.11374407582938388,0.10426540284360189,0.11532385466034756,0.11690363349131122,0.11216429699842022,0.0995260663507109,0.10426540284360189,0.0995260663507109,0.09636650868878358,0.10584518167456557,0.09794628751974724,0.09162717219589257,0.09162717219589257]},\"selected\":{\"id\":\"1417\",\"type\":\"Selection\"},\"selection_policy\":{\"id\":\"1416\",\"type\":\"UnionRenderers\"}},\"id\":\"1348\",\"type\":\"ColumnDataSource\"},{\"attributes\":{\"callback\":null,\"data\":{\"x\":[0,1,2,3,4,5,6,7,8,9,10,11,12,13,14,15,16,17,18,19],\"y\":[0.05466338813048787,0.044970038266852495,0.04447721359319985,0.04419338992983103,0.04342250967025757,0.041615766268223525,0.03864863989222795,0.035476826932281255,0.032167378013953564,0.02920042788493447,0.026636553114745765,0.02439090468804352,0.022123250546865165,0.01953830761881545,0.017513482166919857,0.01610521181556396,0.014423559278948233,0.012463821387267671,0.010843242799688596,0.009452008211868815]},\"selected\":{\"id\":\"1154\",\"type\":\"Selection\"},\"selection_policy\":{\"id\":\"1153\",\"type\":\"UnionRenderers\"}},\"id\":\"1125\",\"type\":\"ColumnDataSource\"},{\"attributes\":{\"source\":{\"id\":\"1312\",\"type\":\"ColumnDataSource\"}},\"id\":\"1316\",\"type\":\"CDSView\"},{\"attributes\":{\"line_alpha\":0.1,\"line_color\":\"#1f77b4\",\"line_width\":2,\"x\":{\"field\":\"x\"},\"y\":{\"field\":\"y\"}},\"id\":\"1142\",\"type\":\"Line\"},{\"attributes\":{\"line_alpha\":0.5,\"line_color\":\"#1f77b4\",\"line_width\":2,\"x\":{\"field\":\"x\"},\"y\":{\"field\":\"y\"}},\"id\":\"1198\",\"type\":\"Line\"},{\"attributes\":{\"callback\":null,\"data\":{\"x\":[0,1,2,3,4,5,6,7,8,9,10,11,12,13,14,15,16,17,18,19],\"y\":[0.08846761453396525,0.10110584518167456,0.12322274881516587,0.09320695102685624,0.0995260663507109,0.09794628751974724,0.0995260663507109,0.10268562401263823,0.10742496050552923,0.09794628751974724,0.09636650868878358,0.10268562401263823,0.09636650868878358,0.0947867298578199,0.08688783570300158,0.09320695102685624,0.09320695102685624,0.0995260663507109,0.10268562401263823,0.10426540284360189]},\"selected\":{\"id\":\"1345\",\"type\":\"Selection\"},\"selection_policy\":{\"id\":\"1344\",\"type\":\"UnionRenderers\"}},\"id\":\"1312\",\"type\":\"ColumnDataSource\"},{\"attributes\":{},\"id\":\"1023\",\"type\":\"PanTool\"},{\"attributes\":{\"source\":{\"id\":\"1297\",\"type\":\"ColumnDataSource\"}},\"id\":\"1301\",\"type\":\"CDSView\"},{\"attributes\":{},\"id\":\"1193\",\"type\":\"UnionRenderers\"},{\"attributes\":{},\"id\":\"1290\",\"type\":\"BasicTickFormatter\"},{\"attributes\":{\"source\":{\"id\":\"1176\",\"type\":\"ColumnDataSource\"}},\"id\":\"1180\",\"type\":\"CDSView\"},{\"attributes\":{},\"id\":\"1026\",\"type\":\"SaveTool\"},{\"attributes\":{},\"id\":\"1416\",\"type\":\"UnionRenderers\"},{\"attributes\":{},\"id\":\"1055\",\"type\":\"BasicTicker\"},{\"attributes\":{\"source\":{\"id\":\"1262\",\"type\":\"ColumnDataSource\"}},\"id\":\"1266\",\"type\":\"CDSView\"},{\"attributes\":{\"label\":{\"value\":\"DSSM\"},\"renderers\":[{\"id\":\"1128\",\"type\":\"GlyphRenderer\"}]},\"id\":\"1138\",\"type\":\"LegendItem\"},{\"attributes\":{},\"id\":\"1345\",\"type\":\"Selection\"},{\"attributes\":{\"source\":{\"id\":\"1283\",\"type\":\"ColumnDataSource\"}},\"id\":\"1287\",\"type\":\"CDSView\"},{\"attributes\":{\"source\":{\"id\":\"1125\",\"type\":\"ColumnDataSource\"}},\"id\":\"1129\",\"type\":\"CDSView\"},{\"attributes\":{\"line_alpha\":0.1,\"line_color\":\"#1f77b4\",\"line_width\":2,\"x\":{\"field\":\"x\"},\"y\":{\"field\":\"y\"}},\"id\":\"1331\",\"type\":\"Line\"},{\"attributes\":{\"bottom_units\":\"screen\",\"fill_alpha\":{\"value\":0.5},\"fill_color\":{\"value\":\"lightgrey\"},\"left_units\":\"screen\",\"level\":\"overlay\",\"line_alpha\":{\"value\":1.0},\"line_color\":{\"value\":\"black\"},\"line_dash\":[4,4],\"line_width\":{\"value\":2},\"plot\":null,\"render_mode\":\"css\",\"right_units\":\"screen\",\"top_units\":\"screen\"},\"id\":\"1031\",\"type\":\"BoxAnnotation\"},{\"attributes\":{\"callback\":null,\"data\":{\"x\":[0,1,2,3,4,5,6,7,8,9,10,11,12,13,14,15,16,17,18,19],\"y\":[0.09180712252482771,0.044153878953307864,0.040109735779464244,0.03677564161643386,0.027363330893218518,0.02309336058050394,0.018484450291842223,0.018482612531632185,0.017495199100114406,0.01855698387697339,0.017630733313038945,0.015953315244056285,0.016143346604891123,0.01574680972006172,0.014716325521469117,0.015814605524763464,0.012558884533122181,0.014499044829048216,0.012535205588210373,0.011786585388705135]},\"selected\":{\"id\":\"1173\",\"type\":\"Selection\"},\"selection_policy\":{\"id\":\"1172\",\"type\":\"UnionRenderers\"}},\"id\":\"1140\",\"type\":\"ColumnDataSource\"},{\"attributes\":{},\"id\":\"1326\",\"type\":\"Selection\"},{\"attributes\":{\"line_alpha\":0.1,\"line_color\":\"#1f77b4\",\"line_width\":2,\"x\":{\"field\":\"x\"},\"y\":{\"field\":\"y\"}},\"id\":\"1127\",\"type\":\"Line\"},{\"attributes\":{\"line_alpha\":0.5,\"line_color\":\"#ff7f0e\",\"line_width\":2,\"x\":{\"field\":\"x\"},\"y\":{\"field\":\"y\"}},\"id\":\"1298\",\"type\":\"Line\"},{\"attributes\":{\"source\":{\"id\":\"1140\",\"type\":\"ColumnDataSource\"}},\"id\":\"1144\",\"type\":\"CDSView\"},{\"attributes\":{},\"id\":\"1344\",\"type\":\"UnionRenderers\"},{\"attributes\":{\"line_alpha\":0.5,\"line_color\":\"#d62728\",\"line_width\":2,\"x\":{\"field\":\"x\"},\"y\":{\"field\":\"y\"}},\"id\":\"1330\",\"type\":\"Line\"},{\"attributes\":{\"line_alpha\":0.1,\"line_color\":\"#1f77b4\",\"line_width\":2,\"x\":{\"field\":\"x\"},\"y\":{\"field\":\"y\"}},\"id\":\"1299\",\"type\":\"Line\"},{\"attributes\":{\"label\":{\"value\":\"MVLSTM\"},\"renderers\":[{\"id\":\"1160\",\"type\":\"GlyphRenderer\"}]},\"id\":\"1174\",\"type\":\"LegendItem\"},{\"attributes\":{},\"id\":\"1395\",\"type\":\"Selection\"},{\"attributes\":{\"line_alpha\":0.5,\"line_color\":\"#2ca02c\",\"line_width\":2,\"x\":{\"field\":\"x\"},\"y\":{\"field\":\"y\"}},\"id\":\"1313\",\"type\":\"Line\"},{\"attributes\":{\"items\":[{\"id\":\"1295\",\"type\":\"LegendItem\"},{\"id\":\"1310\",\"type\":\"LegendItem\"},{\"id\":\"1327\",\"type\":\"LegendItem\"},{\"id\":\"1346\",\"type\":\"LegendItem\"},{\"id\":\"1367\",\"type\":\"LegendItem\"}],\"plot\":{\"id\":\"1075\",\"subtype\":\"Figure\",\"type\":\"Plot\"}},\"id\":\"1294\",\"type\":\"Legend\"},{\"attributes\":{\"formatter\":{\"id\":\"1206\",\"type\":\"BasicTickFormatter\"},\"plot\":{\"id\":\"1039\",\"subtype\":\"Figure\",\"type\":\"Plot\"},\"ticker\":{\"id\":\"1055\",\"type\":\"BasicTicker\"}},\"id\":\"1054\",\"type\":\"LinearAxis\"},{\"attributes\":{},\"id\":\"1172\",\"type\":\"UnionRenderers\"},{\"attributes\":{\"callback\":null},\"id\":\"1043\",\"type\":\"DataRange1d\"},{\"attributes\":{\"line_alpha\":0.5,\"line_color\":\"#2ca02c\",\"line_width\":2,\"x\":{\"field\":\"x\"},\"y\":{\"field\":\"y\"}},\"id\":\"1141\",\"type\":\"Line\"},{\"attributes\":{},\"id\":\"1279\",\"type\":\"UnionRenderers\"},{\"attributes\":{\"line_alpha\":0.1,\"line_color\":\"#1f77b4\",\"line_width\":2,\"x\":{\"field\":\"x\"},\"y\":{\"field\":\"y\"}},\"id\":\"1178\",\"type\":\"Line\"},{\"attributes\":{},\"id\":\"1153\",\"type\":\"UnionRenderers\"},{\"attributes\":{},\"id\":\"1309\",\"type\":\"Selection\"},{\"attributes\":{\"active_drag\":\"auto\",\"active_inspect\":\"auto\",\"active_multi\":null,\"active_scroll\":\"auto\",\"active_tap\":\"auto\",\"tools\":[{\"id\":\"1023\",\"type\":\"PanTool\"},{\"id\":\"1024\",\"type\":\"WheelZoomTool\"},{\"id\":\"1025\",\"type\":\"BoxZoomTool\"},{\"id\":\"1026\",\"type\":\"SaveTool\"},{\"id\":\"1027\",\"type\":\"ResetTool\"},{\"id\":\"1028\",\"type\":\"HelpTool\"},{\"id\":\"1110\",\"type\":\"HoverTool\"},{\"id\":\"1110\",\"type\":\"HoverTool\"},{\"id\":\"1110\",\"type\":\"HoverTool\"},{\"id\":\"1110\",\"type\":\"HoverTool\"},{\"id\":\"1110\",\"type\":\"HoverTool\"}]},\"id\":\"1029\",\"type\":\"Toolbar\"},{\"attributes\":{\"line_alpha\":0.5,\"line_color\":\"#1f77b4\",\"line_width\":2,\"x\":{\"field\":\"x\"},\"y\":{\"field\":\"y\"}},\"id\":\"1284\",\"type\":\"Line\"},{\"attributes\":{\"callback\":null},\"id\":\"1077\",\"type\":\"DataRange1d\"},{\"attributes\":{},\"id\":\"1365\",\"type\":\"UnionRenderers\"},{\"attributes\":{\"formatter\":{\"id\":\"1118\",\"type\":\"BasicTickFormatter\"},\"plot\":{\"id\":\"1003\",\"subtype\":\"Figure\",\"type\":\"Plot\"},\"ticker\":{\"id\":\"1014\",\"type\":\"BasicTicker\"}},\"id\":\"1013\",\"type\":\"LinearAxis\"},{\"attributes\":{\"callback\":null,\"data\":{\"x\":[0,1,2,3,4,5,6,7,8,9,10,11,12,13,14,15,16,17,18,19],\"y\":[0.04800549289654009,0.04388118007499724,0.03237906026095152,0.015663750644773246,0.0067597684785723686,0.0032854597307741644,0.002011268407572061,0.0015275463755242526,0.001476568986196071,0.0012015695804730058,0.0009967044377699494,0.0009200183603679761,0.0008265914600342513,0.0007659869472263381,0.0007252974909497425,0.0007367012575268746,0.0007902854157146067,0.0007881121232639998,0.0006946678215172142,0.0006628039252245799]},\"selected\":{\"id\":\"1395\",\"type\":\"Selection\"},\"selection_policy\":{\"id\":\"1394\",\"type\":\"UnionRenderers\"}},\"id\":\"1176\",\"type\":\"ColumnDataSource\"},{\"attributes\":{},\"id\":\"1417\",\"type\":\"Selection\"},{\"attributes\":{},\"id\":\"1366\",\"type\":\"Selection\"},{\"attributes\":{\"callback\":null,\"data\":{\"x\":[0,1,2,3,4,5,6,7,8,9,10,11,12,13,14,15,16,17,18,19],\"y\":[0.13112164296998421,0.11690363349131122,0.11532385466034756,0.1263823064770932,0.11848341232227488,0.10426540284360189,0.11532385466034756,0.11374407582938388,0.12006319115323855,0.11690363349131122,0.12164296998420221,0.11374407582938388,0.12164296998420221,0.12006319115323855,0.10742496050552923,0.11374407582938388,0.10900473933649289,0.11058451816745656,0.10584518167456557,0.10900473933649289]},\"selected\":{\"id\":\"1366\",\"type\":\"Selection\"},\"selection_policy\":{\"id\":\"1365\",\"type\":\"UnionRenderers\"}},\"id\":\"1329\",\"type\":\"ColumnDataSource\"},{\"attributes\":{},\"id\":\"1011\",\"type\":\"LinearScale\"},{\"attributes\":{\"source\":{\"id\":\"1157\",\"type\":\"ColumnDataSource\"}},\"id\":\"1161\",\"type\":\"CDSView\"},{\"attributes\":{\"line_alpha\":0.1,\"line_color\":\"#1f77b4\",\"line_width\":2,\"x\":{\"field\":\"x\"},\"y\":{\"field\":\"y\"}},\"id\":\"1350\",\"type\":\"Line\"},{\"attributes\":{\"callback\":null},\"id\":\"1041\",\"type\":\"DataRange1d\"},{\"attributes\":{\"line_alpha\":0.1,\"line_color\":\"#1f77b4\",\"line_width\":2,\"x\":{\"field\":\"x\"},\"y\":{\"field\":\"y\"}},\"id\":\"1314\",\"type\":\"Line\"},{\"attributes\":{\"callback\":null},\"id\":\"1005\",\"type\":\"DataRange1d\"},{\"attributes\":{\"label\":{\"value\":\"DRMMTKS\"},\"renderers\":[{\"id\":\"1351\",\"type\":\"GlyphRenderer\"}]},\"id\":\"1367\",\"type\":\"LegendItem\"},{\"attributes\":{\"dimension\":1,\"plot\":{\"id\":\"1039\",\"subtype\":\"Figure\",\"type\":\"Plot\"},\"ticker\":{\"id\":\"1055\",\"type\":\"BasicTicker\"}},\"id\":\"1058\",\"type\":\"Grid\"},{\"attributes\":{\"line_alpha\":0.1,\"line_color\":\"#1f77b4\",\"line_width\":2,\"x\":{\"field\":\"x\"},\"y\":{\"field\":\"y\"}},\"id\":\"1285\",\"type\":\"Line\"},{\"attributes\":{\"callback\":null},\"id\":\"1007\",\"type\":\"DataRange1d\"},{\"attributes\":{\"data_source\":{\"id\":\"1283\",\"type\":\"ColumnDataSource\"},\"glyph\":{\"id\":\"1284\",\"type\":\"Line\"},\"hover_glyph\":null,\"muted_glyph\":null,\"nonselection_glyph\":{\"id\":\"1285\",\"type\":\"Line\"},\"selection_glyph\":null,\"view\":{\"id\":\"1287\",\"type\":\"CDSView\"}},\"id\":\"1286\",\"type\":\"GlyphRenderer\"},{\"attributes\":{\"line_alpha\":0.5,\"line_color\":\"#d62728\",\"line_width\":2,\"x\":{\"field\":\"x\"},\"y\":{\"field\":\"y\"}},\"id\":\"1158\",\"type\":\"Line\"},{\"attributes\":{},\"id\":\"1027\",\"type\":\"ResetTool\"},{\"attributes\":{},\"id\":\"1406\",\"type\":\"Selection\"},{\"attributes\":{},\"id\":\"1059\",\"type\":\"PanTool\"},{\"attributes\":{\"data_source\":{\"id\":\"1140\",\"type\":\"ColumnDataSource\"},\"glyph\":{\"id\":\"1141\",\"type\":\"Line\"},\"hover_glyph\":null,\"muted_glyph\":null,\"nonselection_glyph\":{\"id\":\"1142\",\"type\":\"Line\"},\"selection_glyph\":null,\"view\":{\"id\":\"1144\",\"type\":\"CDSView\"}},\"id\":\"1143\",\"type\":\"GlyphRenderer\"},{\"attributes\":{},\"id\":\"1045\",\"type\":\"LinearScale\"},{\"attributes\":{\"callback\":null,\"data\":{\"x\":[0,1,2,3,4,5,6,7,8,9,10,11,12,13,14,15,16,17,18,19],\"y\":[0.1674565560821485,0.13270142180094788,0.12480252764612954,0.10742496050552923,0.0631911532385466,0.05687203791469194,0.07109004739336493,0.06951026856240126,0.061611374407582936,0.07109004739336493,0.06951026856240126,0.07266982622432859,0.07266982622432859,0.09004739336492891,0.09162717219589257,0.10110584518167456,0.07898894154818326,0.07740916271721959,0.08530805687203792,0.08056872037914692]},\"selected\":{\"id\":\"1326\",\"type\":\"Selection\"},\"selection_policy\":{\"id\":\"1325\",\"type\":\"UnionRenderers\"}},\"id\":\"1297\",\"type\":\"ColumnDataSource\"},{\"attributes\":{\"data_source\":{\"id\":\"1125\",\"type\":\"ColumnDataSource\"},\"glyph\":{\"id\":\"1126\",\"type\":\"Line\"},\"hover_glyph\":null,\"muted_glyph\":null,\"nonselection_glyph\":{\"id\":\"1127\",\"type\":\"Line\"},\"selection_glyph\":null,\"view\":{\"id\":\"1129\",\"type\":\"CDSView\"}},\"id\":\"1128\",\"type\":\"GlyphRenderer\"},{\"attributes\":{\"plot\":{\"id\":\"1039\",\"subtype\":\"Figure\",\"type\":\"Plot\"},\"ticker\":{\"id\":\"1050\",\"type\":\"BasicTicker\"}},\"id\":\"1053\",\"type\":\"Grid\"},{\"attributes\":{\"label\":{\"value\":\"CDSSM\"},\"renderers\":[{\"id\":\"1286\",\"type\":\"GlyphRenderer\"}]},\"id\":\"1295\",\"type\":\"LegendItem\"},{\"attributes\":{\"data_source\":{\"id\":\"1157\",\"type\":\"ColumnDataSource\"},\"glyph\":{\"id\":\"1158\",\"type\":\"Line\"},\"hover_glyph\":null,\"muted_glyph\":null,\"nonselection_glyph\":{\"id\":\"1159\",\"type\":\"Line\"},\"selection_glyph\":null,\"view\":{\"id\":\"1161\",\"type\":\"CDSView\"}},\"id\":\"1160\",\"type\":\"GlyphRenderer\"},{\"attributes\":{\"plot\":{\"id\":\"1003\",\"subtype\":\"Figure\",\"type\":\"Plot\"},\"ticker\":{\"id\":\"1014\",\"type\":\"BasicTicker\"}},\"id\":\"1017\",\"type\":\"Grid\"},{\"attributes\":{\"line_alpha\":0.5,\"line_color\":\"#ff7f0e\",\"line_width\":2,\"x\":{\"field\":\"x\"},\"y\":{\"field\":\"y\"}},\"id\":\"1126\",\"type\":\"Line\"},{\"attributes\":{},\"id\":\"1024\",\"type\":\"WheelZoomTool\"},{\"attributes\":{\"source\":{\"id\":\"1348\",\"type\":\"ColumnDataSource\"}},\"id\":\"1352\",\"type\":\"CDSView\"},{\"attributes\":{\"data_source\":{\"id\":\"1176\",\"type\":\"ColumnDataSource\"},\"glyph\":{\"id\":\"1177\",\"type\":\"Line\"},\"hover_glyph\":null,\"muted_glyph\":null,\"nonselection_glyph\":{\"id\":\"1178\",\"type\":\"Line\"},\"selection_glyph\":null,\"view\":{\"id\":\"1180\",\"type\":\"CDSView\"}},\"id\":\"1179\",\"type\":\"GlyphRenderer\"},{\"attributes\":{},\"id\":\"1014\",\"type\":\"BasicTicker\"},{\"attributes\":{},\"id\":\"1308\",\"type\":\"UnionRenderers\"},{\"attributes\":{\"overlay\":{\"id\":\"1031\",\"type\":\"BoxAnnotation\"}},\"id\":\"1025\",\"type\":\"BoxZoomTool\"},{\"attributes\":{\"callback\":null,\"data\":{\"x\":[0,1,2,3,4,5,6,7,8,9,10,11,12,13,14,15,16,17,18,19],\"y\":[0.045000528311356904,0.04161682068370283,0.022317413720535115,0.010526274625932273,0.006207994560856605,0.003666459584463155,0.0031216993119451216,0.002664872651999758,0.0026254944339816574,0.0025745679788669804,0.002568895052332664,0.002555348629975924,0.002529716921329964,0.0025257568311935754,0.00256581560473569,0.002565461077334476,0.0025245441059814767,0.0019751842000041504,0.0021998689520842164,0.002516227123443969]},\"selected\":{\"id\":\"1194\",\"type\":\"Selection\"},\"selection_policy\":{\"id\":\"1193\",\"type\":\"UnionRenderers\"}},\"id\":\"1157\",\"type\":\"ColumnDataSource\"},{\"attributes\":{\"formatter\":{\"id\":\"1204\",\"type\":\"BasicTickFormatter\"},\"plot\":{\"id\":\"1039\",\"subtype\":\"Figure\",\"type\":\"Plot\"},\"ticker\":{\"id\":\"1050\",\"type\":\"BasicTicker\"}},\"id\":\"1049\",\"type\":\"LinearAxis\"},{\"attributes\":{\"line_alpha\":0.5,\"line_color\":\"#9467bd\",\"line_width\":2,\"x\":{\"field\":\"x\"},\"y\":{\"field\":\"y\"}},\"id\":\"1349\",\"type\":\"Line\"},{\"attributes\":{},\"id\":\"1154\",\"type\":\"Selection\"},{\"attributes\":{\"below\":[{\"id\":\"1085\",\"type\":\"LinearAxis\"}],\"left\":[{\"id\":\"1090\",\"type\":\"LinearAxis\"}],\"plot_height\":400,\"plot_width\":800,\"renderers\":[{\"id\":\"1085\",\"type\":\"LinearAxis\"},{\"id\":\"1089\",\"type\":\"Grid\"},{\"id\":\"1090\",\"type\":\"LinearAxis\"},{\"id\":\"1094\",\"type\":\"Grid\"},{\"id\":\"1103\",\"type\":\"BoxAnnotation\"},{\"id\":\"1294\",\"type\":\"Legend\"},{\"id\":\"1286\",\"type\":\"GlyphRenderer\"},{\"id\":\"1300\",\"type\":\"GlyphRenderer\"},{\"id\":\"1315\",\"type\":\"GlyphRenderer\"},{\"id\":\"1332\",\"type\":\"GlyphRenderer\"},{\"id\":\"1351\",\"type\":\"GlyphRenderer\"}],\"sizing_mode\":\"fixed\",\"title\":{\"id\":\"1074\",\"type\":\"Title\"},\"toolbar\":{\"id\":\"1101\",\"type\":\"Toolbar\"},\"x_range\":{\"id\":\"1077\",\"type\":\"DataRange1d\"},\"x_scale\":{\"id\":\"1081\",\"type\":\"LinearScale\"},\"y_range\":{\"id\":\"1079\",\"type\":\"DataRange1d\"},\"y_scale\":{\"id\":\"1083\",\"type\":\"LinearScale\"}},\"id\":\"1075\",\"subtype\":\"Figure\",\"type\":\"Plot\"},{\"attributes\":{\"label\":{\"value\":\"DRMMTKS\"},\"renderers\":[{\"id\":\"1179\",\"type\":\"GlyphRenderer\"}]},\"id\":\"1195\",\"type\":\"LegendItem\"},{\"attributes\":{},\"id\":\"1280\",\"type\":\"Selection\"},{\"attributes\":{\"data_source\":{\"id\":\"1329\",\"type\":\"ColumnDataSource\"},\"glyph\":{\"id\":\"1330\",\"type\":\"Line\"},\"hover_glyph\":null,\"muted_glyph\":null,\"nonselection_glyph\":{\"id\":\"1331\",\"type\":\"Line\"},\"selection_glyph\":null,\"view\":{\"id\":\"1333\",\"type\":\"CDSView\"}},\"id\":\"1332\",\"type\":\"GlyphRenderer\"},{\"attributes\":{\"line_alpha\":0.5,\"line_color\":\"#9467bd\",\"line_width\":2,\"x\":{\"field\":\"x\"},\"y\":{\"field\":\"y\"}},\"id\":\"1177\",\"type\":\"Line\"},{\"attributes\":{\"label\":{\"value\":\"DSSM\"},\"renderers\":[{\"id\":\"1300\",\"type\":\"GlyphRenderer\"}]},\"id\":\"1310\",\"type\":\"LegendItem\"},{\"attributes\":{\"label\":{\"value\":\"MVLSTM\"},\"renderers\":[{\"id\":\"1332\",\"type\":\"GlyphRenderer\"}]},\"id\":\"1346\",\"type\":\"LegendItem\"},{\"attributes\":{},\"id\":\"1137\",\"type\":\"Selection\"},{\"attributes\":{},\"id\":\"1173\",\"type\":\"Selection\"},{\"attributes\":{\"callback\":null,\"tooltips\":[[\"x\",\"$x\"],[\"y\",\"$y\"]]},\"id\":\"1110\",\"type\":\"HoverTool\"},{\"attributes\":{\"label\":{\"value\":\"DRMMTKS\"},\"renderers\":[{\"id\":\"1265\",\"type\":\"GlyphRenderer\"}]},\"id\":\"1281\",\"type\":\"LegendItem\"},{\"attributes\":{},\"id\":\"1095\",\"type\":\"PanTool\"},{\"attributes\":{},\"id\":\"1081\",\"type\":\"LinearScale\"},{\"attributes\":{},\"id\":\"1222\",\"type\":\"UnionRenderers\"},{\"attributes\":{\"overlay\":{\"id\":\"1067\",\"type\":\"BoxAnnotation\"}},\"id\":\"1061\",\"type\":\"BoxZoomTool\"},{\"attributes\":{\"line_alpha\":0.1,\"line_color\":\"#1f77b4\",\"line_width\":2,\"x\":{\"field\":\"x\"},\"y\":{\"field\":\"y\"}},\"id\":\"1228\",\"type\":\"Line\"},{\"attributes\":{\"source\":{\"id\":\"1111\",\"type\":\"ColumnDataSource\"}},\"id\":\"1115\",\"type\":\"CDSView\"},{\"attributes\":{\"line_alpha\":0.5,\"line_color\":\"#9467bd\",\"line_width\":2,\"x\":{\"field\":\"x\"},\"y\":{\"field\":\"y\"}},\"id\":\"1263\",\"type\":\"Line\"},{\"attributes\":{\"callback\":null,\"data\":{\"x\":[0,1,2,3,4,5,6,7,8,9,10,11,12,13,14,15,16,17,18,19],\"y\":[0.16545766245543408,0.17886548240573374,0.19426996959066345,0.17121942892236586,0.1773473718526358,0.17288180452726226,0.17587872006257843,0.1770365003912678,0.18286520884338678,0.17308517274250013,0.17282872952570177,0.17809325498903547,0.17419576090073863,0.1735470164689037,0.16576233741065077,0.17018356201406293,0.17034253598326346,0.17597123782739793,0.17895686658158597,0.17708077669820557]},\"selected\":{\"id\":\"1259\",\"type\":\"Selection\"},\"selection_policy\":{\"id\":\"1258\",\"type\":\"UnionRenderers\"}},\"id\":\"1226\",\"type\":\"ColumnDataSource\"},{\"attributes\":{},\"id\":\"1206\",\"type\":\"BasicTickFormatter\"},{\"attributes\":{},\"id\":\"1099\",\"type\":\"ResetTool\"},{\"attributes\":{\"label\":{\"value\":\"DUET\"},\"renderers\":[{\"id\":\"1229\",\"type\":\"GlyphRenderer\"}]},\"id\":\"1241\",\"type\":\"LegendItem\"},{\"attributes\":{},\"id\":\"1204\",\"type\":\"BasicTickFormatter\"},{\"attributes\":{\"overlay\":{\"id\":\"1103\",\"type\":\"BoxAnnotation\"}},\"id\":\"1097\",\"type\":\"BoxZoomTool\"},{\"attributes\":{\"callback\":null,\"data\":{\"x\":[0,1,2,3,4,5,6,7,8,9,10,11,12,13,14,15,16,17,18,19],\"y\":[0.23409651893149142,0.20157375031967859,0.1944187533445399,0.17624802809341641,0.1400314191997824,0.1351095716125792,0.14551977004597239,0.14512189275843246,0.1439725699438919,0.144854909612283,0.14752037604003035,0.15125578162495099,0.14896789608772765,0.16188319583658012,0.1647833801552579,0.17115189505481024,0.15431692114097825,0.15542834019077367,0.15844971312785416,0.15711160197030066]},\"selected\":{\"id\":\"1240\",\"type\":\"Selection\"},\"selection_policy\":{\"id\":\"1239\",\"type\":\"UnionRenderers\"}},\"id\":\"1211\",\"type\":\"ColumnDataSource\"},{\"attributes\":{},\"id\":\"1091\",\"type\":\"BasicTicker\"},{\"attributes\":{\"formatter\":{\"id\":\"1290\",\"type\":\"BasicTickFormatter\"},\"plot\":{\"id\":\"1075\",\"subtype\":\"Figure\",\"type\":\"Plot\"},\"ticker\":{\"id\":\"1086\",\"type\":\"BasicTicker\"}},\"id\":\"1085\",\"type\":\"LinearAxis\"},{\"attributes\":{},\"id\":\"1240\",\"type\":\"Selection\"},{\"attributes\":{},\"id\":\"1064\",\"type\":\"HelpTool\"},{\"attributes\":{\"line_alpha\":0.5,\"line_color\":\"#d62728\",\"line_width\":2,\"x\":{\"field\":\"x\"},\"y\":{\"field\":\"y\"}},\"id\":\"1244\",\"type\":\"Line\"},{\"attributes\":{\"items\":[{\"id\":\"1209\",\"type\":\"LegendItem\"},{\"id\":\"1224\",\"type\":\"LegendItem\"},{\"id\":\"1241\",\"type\":\"LegendItem\"},{\"id\":\"1260\",\"type\":\"LegendItem\"},{\"id\":\"1281\",\"type\":\"LegendItem\"}],\"plot\":{\"id\":\"1039\",\"subtype\":\"Figure\",\"type\":\"Plot\"}},\"id\":\"1208\",\"type\":\"Legend\"},{\"attributes\":{\"plot\":{\"id\":\"1075\",\"subtype\":\"Figure\",\"type\":\"Plot\"},\"ticker\":{\"id\":\"1086\",\"type\":\"BasicTicker\"}},\"id\":\"1089\",\"type\":\"Grid\"},{\"attributes\":{\"line_alpha\":0.5,\"line_color\":\"#2ca02c\",\"line_width\":2,\"x\":{\"field\":\"x\"},\"y\":{\"field\":\"y\"}},\"id\":\"1227\",\"type\":\"Line\"},{\"attributes\":{\"active_drag\":\"auto\",\"active_inspect\":\"auto\",\"active_multi\":null,\"active_scroll\":\"auto\",\"active_tap\":\"auto\",\"tools\":[{\"id\":\"1095\",\"type\":\"PanTool\"},{\"id\":\"1096\",\"type\":\"WheelZoomTool\"},{\"id\":\"1097\",\"type\":\"BoxZoomTool\"},{\"id\":\"1098\",\"type\":\"SaveTool\"},{\"id\":\"1099\",\"type\":\"ResetTool\"},{\"id\":\"1100\",\"type\":\"HelpTool\"},{\"id\":\"1110\",\"type\":\"HoverTool\"},{\"id\":\"1110\",\"type\":\"HoverTool\"},{\"id\":\"1110\",\"type\":\"HoverTool\"},{\"id\":\"1110\",\"type\":\"HoverTool\"},{\"id\":\"1110\",\"type\":\"HoverTool\"}]},\"id\":\"1101\",\"type\":\"Toolbar\"},{\"attributes\":{},\"id\":\"1118\",\"type\":\"BasicTickFormatter\"},{\"attributes\":{\"callback\":null,\"data\":{\"x\":[0,1,2,3,4,5,6,7,8,9,10,11,12,13,14,15,16,17,18,19],\"y\":[0.045556526210624726,0.0332950952865067,0.01764631460659439,0.007719689688383369,0.0036782611741400617,0.003570287534020281,0.0017638799638255024,0.0018923719512136889,0.0011223693925376211,0.002128276070437259,0.003677468460599812,0.0032175774021950473,0.002104794924727756,0.0018231802041871106,0.0025807734818736206,0.0012059488060443186,0.0026775290835199996,0.001942398561866355,0.0016658505570246974,0.0014217333200673892]},\"selected\":{\"id\":\"1137\",\"type\":\"Selection\"},\"selection_policy\":{\"id\":\"1136\",\"type\":\"UnionRenderers\"}},\"id\":\"1111\",\"type\":\"ColumnDataSource\"},{\"attributes\":{\"bottom_units\":\"screen\",\"fill_alpha\":{\"value\":0.5},\"fill_color\":{\"value\":\"lightgrey\"},\"left_units\":\"screen\",\"level\":\"overlay\",\"line_alpha\":{\"value\":1.0},\"line_color\":{\"value\":\"black\"},\"line_dash\":[4,4],\"line_width\":{\"value\":2},\"plot\":null,\"render_mode\":\"css\",\"right_units\":\"screen\",\"top_units\":\"screen\"},\"id\":\"1103\",\"type\":\"BoxAnnotation\"},{\"attributes\":{\"dimension\":1,\"plot\":{\"id\":\"1075\",\"subtype\":\"Figure\",\"type\":\"Plot\"},\"ticker\":{\"id\":\"1091\",\"type\":\"BasicTicker\"}},\"id\":\"1094\",\"type\":\"Grid\"},{\"attributes\":{\"source\":{\"id\":\"1211\",\"type\":\"ColumnDataSource\"}},\"id\":\"1215\",\"type\":\"CDSView\"},{\"attributes\":{},\"id\":\"1098\",\"type\":\"SaveTool\"},{\"attributes\":{\"below\":[{\"id\":\"1013\",\"type\":\"LinearAxis\"}],\"left\":[{\"id\":\"1018\",\"type\":\"LinearAxis\"}],\"plot_height\":400,\"plot_width\":800,\"renderers\":[{\"id\":\"1013\",\"type\":\"LinearAxis\"},{\"id\":\"1017\",\"type\":\"Grid\"},{\"id\":\"1018\",\"type\":\"LinearAxis\"},{\"id\":\"1022\",\"type\":\"Grid\"},{\"id\":\"1031\",\"type\":\"BoxAnnotation\"},{\"id\":\"1122\",\"type\":\"Legend\"},{\"id\":\"1114\",\"type\":\"GlyphRenderer\"},{\"id\":\"1128\",\"type\":\"GlyphRenderer\"},{\"id\":\"1143\",\"type\":\"GlyphRenderer\"},{\"id\":\"1160\",\"type\":\"GlyphRenderer\"},{\"id\":\"1179\",\"type\":\"GlyphRenderer\"}],\"sizing_mode\":\"fixed\",\"title\":{\"id\":\"1002\",\"type\":\"Title\"},\"toolbar\":{\"id\":\"1029\",\"type\":\"Toolbar\"},\"x_range\":{\"id\":\"1005\",\"type\":\"DataRange1d\"},\"x_scale\":{\"id\":\"1009\",\"type\":\"LinearScale\"},\"y_range\":{\"id\":\"1007\",\"type\":\"DataRange1d\"},\"y_scale\":{\"id\":\"1011\",\"type\":\"LinearScale\"}},\"id\":\"1003\",\"subtype\":\"Figure\",\"type\":\"Plot\"},{\"attributes\":{\"data_source\":{\"id\":\"1211\",\"type\":\"ColumnDataSource\"},\"glyph\":{\"id\":\"1212\",\"type\":\"Line\"},\"hover_glyph\":null,\"muted_glyph\":null,\"nonselection_glyph\":{\"id\":\"1213\",\"type\":\"Line\"},\"selection_glyph\":null,\"view\":{\"id\":\"1215\",\"type\":\"CDSView\"}},\"id\":\"1214\",\"type\":\"GlyphRenderer\"},{\"attributes\":{\"source\":{\"id\":\"1197\",\"type\":\"ColumnDataSource\"}},\"id\":\"1201\",\"type\":\"CDSView\"},{\"attributes\":{\"line_alpha\":0.1,\"line_color\":\"#1f77b4\",\"line_width\":2,\"x\":{\"field\":\"x\"},\"y\":{\"field\":\"y\"}},\"id\":\"1245\",\"type\":\"Line\"},{\"attributes\":{\"line_alpha\":0.5,\"line_color\":\"#1f77b4\",\"line_width\":2,\"x\":{\"field\":\"x\"},\"y\":{\"field\":\"y\"}},\"id\":\"1112\",\"type\":\"Line\"},{\"attributes\":{},\"id\":\"1096\",\"type\":\"WheelZoomTool\"},{\"attributes\":{},\"id\":\"1258\",\"type\":\"UnionRenderers\"},{\"attributes\":{\"callback\":null,\"data\":{\"x\":[0,1,2,3,4,5,6,7,8,9,10,11,12,13,14,15,16,17,18,19],\"y\":[0.19256277394913382,0.19222456940105656,0.1872162625756984,0.1903724159741742,0.18733082249140426,0.17715426508971555,0.1856164452555747,0.1810842007965759,0.18533577392560122,0.18180966340336924,0.18346269219536546,0.18115825095553809,0.18446838207883157,0.1839484308855644,0.17632707440651477,0.17922805104280978,0.17833455951953425,0.17626586947419606,0.17530681696593323,0.17555742359134135]},\"selected\":{\"id\":\"1280\",\"type\":\"Selection\"},\"selection_policy\":{\"id\":\"1279\",\"type\":\"UnionRenderers\"}},\"id\":\"1243\",\"type\":\"ColumnDataSource\"},{\"attributes\":{\"source\":{\"id\":\"1226\",\"type\":\"ColumnDataSource\"}},\"id\":\"1230\",\"type\":\"CDSView\"},{\"attributes\":{},\"id\":\"1086\",\"type\":\"BasicTicker\"},{\"attributes\":{\"callback\":null},\"id\":\"1079\",\"type\":\"DataRange1d\"},{\"attributes\":{\"label\":{\"value\":\"MVLSTM\"},\"renderers\":[{\"id\":\"1246\",\"type\":\"GlyphRenderer\"}]},\"id\":\"1260\",\"type\":\"LegendItem\"},{\"attributes\":{},\"id\":\"1083\",\"type\":\"LinearScale\"},{\"attributes\":{\"source\":{\"id\":\"1243\",\"type\":\"ColumnDataSource\"}},\"id\":\"1247\",\"type\":\"CDSView\"},{\"attributes\":{\"line_alpha\":0.1,\"line_color\":\"#1f77b4\",\"line_width\":2,\"x\":{\"field\":\"x\"},\"y\":{\"field\":\"y\"}},\"id\":\"1264\",\"type\":\"Line\"},{\"attributes\":{},\"id\":\"1223\",\"type\":\"Selection\"},{\"attributes\":{\"line_alpha\":0.1,\"line_color\":\"#1f77b4\",\"line_width\":2,\"x\":{\"field\":\"x\"},\"y\":{\"field\":\"y\"}},\"id\":\"1113\",\"type\":\"Line\"},{\"attributes\":{},\"id\":\"1259\",\"type\":\"Selection\"},{\"attributes\":{\"line_alpha\":0.1,\"line_color\":\"#1f77b4\",\"line_width\":2,\"x\":{\"field\":\"x\"},\"y\":{\"field\":\"y\"}},\"id\":\"1199\",\"type\":\"Line\"},{\"attributes\":{},\"id\":\"1136\",\"type\":\"UnionRenderers\"},{\"attributes\":{},\"id\":\"1100\",\"type\":\"HelpTool\"},{\"attributes\":{\"line_alpha\":0.1,\"line_color\":\"#1f77b4\",\"line_width\":2,\"x\":{\"field\":\"x\"},\"y\":{\"field\":\"y\"}},\"id\":\"1213\",\"type\":\"Line\"},{\"attributes\":{\"callback\":null,\"data\":{\"x\":[0,1,2,3,4,5,6,7,8,9,10,11,12,13,14,15,16,17,18,19],\"y\":[0.19869324291633897,0.20728616520501442,0.19784271257024655,0.1941532285977505,0.1918555750243608,0.19210543731160903,0.18602931426657088,0.18796564785099773,0.1814678436167494,0.1883840043269929,0.19001833161605308,0.18547324419901562,0.17633262300503294,0.18325827101684364,0.1800203365643314,0.17611600758680673,0.18180951438999507,0.178627619062235,0.17536829544135357,0.1719815455158727]},\"selected\":{\"id\":\"1406\",\"type\":\"Selection\"},\"selection_policy\":{\"id\":\"1405\",\"type\":\"UnionRenderers\"}},\"id\":\"1262\",\"type\":\"ColumnDataSource\"},{\"attributes\":{},\"id\":\"1120\",\"type\":\"BasicTickFormatter\"},{\"attributes\":{\"bottom_units\":\"screen\",\"fill_alpha\":{\"value\":0.5},\"fill_color\":{\"value\":\"lightgrey\"},\"left_units\":\"screen\",\"level\":\"overlay\",\"line_alpha\":{\"value\":1.0},\"line_color\":{\"value\":\"black\"},\"line_dash\":[4,4],\"line_width\":{\"value\":2},\"plot\":null,\"render_mode\":\"css\",\"right_units\":\"screen\",\"top_units\":\"screen\"},\"id\":\"1067\",\"type\":\"BoxAnnotation\"},{\"attributes\":{\"data_source\":{\"id\":\"1243\",\"type\":\"ColumnDataSource\"},\"glyph\":{\"id\":\"1244\",\"type\":\"Line\"},\"hover_glyph\":null,\"muted_glyph\":null,\"nonselection_glyph\":{\"id\":\"1245\",\"type\":\"Line\"},\"selection_glyph\":null,\"view\":{\"id\":\"1247\",\"type\":\"CDSView\"}},\"id\":\"1246\",\"type\":\"GlyphRenderer\"},{\"attributes\":{\"data_source\":{\"id\":\"1262\",\"type\":\"ColumnDataSource\"},\"glyph\":{\"id\":\"1263\",\"type\":\"Line\"},\"hover_glyph\":null,\"muted_glyph\":null,\"nonselection_glyph\":{\"id\":\"1264\",\"type\":\"Line\"},\"selection_glyph\":null,\"view\":{\"id\":\"1266\",\"type\":\"CDSView\"}},\"id\":\"1265\",\"type\":\"GlyphRenderer\"},{\"attributes\":{},\"id\":\"1060\",\"type\":\"WheelZoomTool\"},{\"attributes\":{\"line_alpha\":0.5,\"line_color\":\"#ff7f0e\",\"line_width\":2,\"x\":{\"field\":\"x\"},\"y\":{\"field\":\"y\"}},\"id\":\"1212\",\"type\":\"Line\"},{\"attributes\":{\"active_drag\":\"auto\",\"active_inspect\":\"auto\",\"active_multi\":null,\"active_scroll\":\"auto\",\"active_tap\":\"auto\",\"tools\":[{\"id\":\"1059\",\"type\":\"PanTool\"},{\"id\":\"1060\",\"type\":\"WheelZoomTool\"},{\"id\":\"1061\",\"type\":\"BoxZoomTool\"},{\"id\":\"1062\",\"type\":\"SaveTool\"},{\"id\":\"1063\",\"type\":\"ResetTool\"},{\"id\":\"1064\",\"type\":\"HelpTool\"},{\"id\":\"1110\",\"type\":\"HoverTool\"},{\"id\":\"1110\",\"type\":\"HoverTool\"},{\"id\":\"1110\",\"type\":\"HoverTool\"},{\"id\":\"1110\",\"type\":\"HoverTool\"},{\"id\":\"1110\",\"type\":\"HoverTool\"}]},\"id\":\"1065\",\"type\":\"Toolbar\"},{\"attributes\":{},\"id\":\"1239\",\"type\":\"UnionRenderers\"},{\"attributes\":{\"data_source\":{\"id\":\"1226\",\"type\":\"ColumnDataSource\"},\"glyph\":{\"id\":\"1227\",\"type\":\"Line\"},\"hover_glyph\":null,\"muted_glyph\":null,\"nonselection_glyph\":{\"id\":\"1228\",\"type\":\"Line\"},\"selection_glyph\":null,\"view\":{\"id\":\"1230\",\"type\":\"CDSView\"}},\"id\":\"1229\",\"type\":\"GlyphRenderer\"},{\"attributes\":{\"formatter\":{\"id\":\"1292\",\"type\":\"BasicTickFormatter\"},\"plot\":{\"id\":\"1075\",\"subtype\":\"Figure\",\"type\":\"Plot\"},\"ticker\":{\"id\":\"1091\",\"type\":\"BasicTicker\"}},\"id\":\"1090\",\"type\":\"LinearAxis\"},{\"attributes\":{\"data_source\":{\"id\":\"1111\",\"type\":\"ColumnDataSource\"},\"glyph\":{\"id\":\"1112\",\"type\":\"Line\"},\"hover_glyph\":null,\"muted_glyph\":null,\"nonselection_glyph\":{\"id\":\"1113\",\"type\":\"Line\"},\"selection_glyph\":null,\"view\":{\"id\":\"1115\",\"type\":\"CDSView\"}},\"id\":\"1114\",\"type\":\"GlyphRenderer\"},{\"attributes\":{\"data_source\":{\"id\":\"1197\",\"type\":\"ColumnDataSource\"},\"glyph\":{\"id\":\"1198\",\"type\":\"Line\"},\"hover_glyph\":null,\"muted_glyph\":null,\"nonselection_glyph\":{\"id\":\"1199\",\"type\":\"Line\"},\"selection_glyph\":null,\"view\":{\"id\":\"1201\",\"type\":\"CDSView\"}},\"id\":\"1200\",\"type\":\"GlyphRenderer\"},{\"attributes\":{\"plot\":null,\"text\":\"loss\"},\"id\":\"1002\",\"type\":\"Title\"},{\"attributes\":{},\"id\":\"1062\",\"type\":\"SaveTool\"},{\"attributes\":{\"label\":{\"value\":\"DSSM\"},\"renderers\":[{\"id\":\"1214\",\"type\":\"GlyphRenderer\"}]},\"id\":\"1224\",\"type\":\"LegendItem\"},{\"attributes\":{},\"id\":\"1325\",\"type\":\"UnionRenderers\"},{\"attributes\":{\"below\":[{\"id\":\"1049\",\"type\":\"LinearAxis\"}],\"left\":[{\"id\":\"1054\",\"type\":\"LinearAxis\"}],\"plot_height\":400,\"plot_width\":800,\"renderers\":[{\"id\":\"1049\",\"type\":\"LinearAxis\"},{\"id\":\"1053\",\"type\":\"Grid\"},{\"id\":\"1054\",\"type\":\"LinearAxis\"},{\"id\":\"1058\",\"type\":\"Grid\"},{\"id\":\"1067\",\"type\":\"BoxAnnotation\"},{\"id\":\"1208\",\"type\":\"Legend\"},{\"id\":\"1200\",\"type\":\"GlyphRenderer\"},{\"id\":\"1214\",\"type\":\"GlyphRenderer\"},{\"id\":\"1229\",\"type\":\"GlyphRenderer\"},{\"id\":\"1246\",\"type\":\"GlyphRenderer\"},{\"id\":\"1265\",\"type\":\"GlyphRenderer\"}],\"sizing_mode\":\"fixed\",\"title\":{\"id\":\"1038\",\"type\":\"Title\"},\"toolbar\":{\"id\":\"1065\",\"type\":\"Toolbar\"},\"x_range\":{\"id\":\"1041\",\"type\":\"DataRange1d\"},\"x_scale\":{\"id\":\"1045\",\"type\":\"LinearScale\"},\"y_range\":{\"id\":\"1043\",\"type\":\"DataRange1d\"},\"y_scale\":{\"id\":\"1047\",\"type\":\"LinearScale\"}},\"id\":\"1039\",\"subtype\":\"Figure\",\"type\":\"Plot\"},{\"attributes\":{\"label\":{\"value\":\"CDSSM\"},\"renderers\":[{\"id\":\"1200\",\"type\":\"GlyphRenderer\"}]},\"id\":\"1209\",\"type\":\"LegendItem\"}],\"root_ids\":[\"1369\"]},\"title\":\"Bokeh Application\",\"version\":\"1.0.2\"}};\n",
       "  var render_items = [{\"docid\":\"be28b624-43e4-47ad-96b3-287159c59a88\",\"roots\":{\"1369\":\"c251f29d-c51d-4e9e-8a92-9bed546d58e7\"}}];\n",
       "  root.Bokeh.embed.embed_items_notebook(docs_json, render_items);\n",
       "\n",
       "  }\n",
       "  if (root.Bokeh !== undefined) {\n",
       "    embed_document(root);\n",
       "  } else {\n",
       "    var attempts = 0;\n",
       "    var timer = setInterval(function(root) {\n",
       "      if (root.Bokeh !== undefined) {\n",
       "        embed_document(root);\n",
       "        clearInterval(timer);\n",
       "      }\n",
       "      attempts++;\n",
       "      if (attempts > 100) {\n",
       "        console.log(\"Bokeh: ERROR: Unable to run BokehJS code because BokehJS library is missing\");\n",
       "        clearInterval(timer);\n",
       "      }\n",
       "    }, 10, root)\n",
       "  }\n",
       "})(window);"
      ],
      "application/vnd.bokehjs_exec.v0+json": ""
     },
     "metadata": {
      "application/vnd.bokehjs_exec.v0+json": {
       "id": "1369"
      }
     },
     "output_type": "display_data"
    }
   ],
   "source": [
    "import bokeh\n",
    "from bokeh.plotting import figure, show\n",
    "from bokeh.io import output_notebook\n",
    "from bokeh.layouts import column\n",
    "from bokeh.models.tools import HoverTool\n",
    "import IPython\n",
    "\n",
    "output_notebook()\n",
    "\n",
    "charts = {\n",
    "    metric: figure(\n",
    "        title=str(metric),\n",
    "        sizing_mode='scale_width',\n",
    "        width=800, height=400\n",
    "    ) for metric in results[0]['history'].history.keys()\n",
    "}\n",
    "hover_tool = HoverTool(tooltips=[\n",
    "    (\"x\", \"$x\"),\n",
    "    (\"y\", \"$y\")\n",
    "])\n",
    "for metric, sub_chart in charts.items():\n",
    "    lines = {}\n",
    "    for result, color in zip(results, bokeh.palettes.Category10[10]):\n",
    "        x = result['history'].epoch\n",
    "        y = result['history'].history[metric]\n",
    "        lines[result['name']] = sub_chart.line(\n",
    "            x, y, color=color, line_width=2, alpha=0.5, legend=result['name'])\n",
    "        sub_chart.add_tools(hover_tool)\n",
    "show(column(*charts.values()))\n",
    "#export_png(column(*charts.values()), \"quick_start_chart.png\")"
   ]
  },
  {
   "cell_type": "code",
   "execution_count": null,
   "metadata": {},
   "outputs": [],
   "source": []
  }
 ],
 "metadata": {
  "hide_input": false,
  "kernelspec": {
   "display_name": "Python 3",
   "language": "python",
   "name": "python3"
  },
  "language_info": {
   "codemirror_mode": {
    "name": "ipython",
    "version": 3
   },
   "file_extension": ".py",
   "mimetype": "text/x-python",
   "name": "python",
   "nbconvert_exporter": "python",
   "pygments_lexer": "ipython3",
   "version": "3.6.5"
  },
  "toc": {
   "nav_menu": {},
   "number_sections": true,
   "sideBar": true,
   "skip_h1_title": false,
   "toc_cell": false,
   "toc_position": {},
   "toc_section_display": "block",
   "toc_window_display": false
  },
  "varInspector": {
   "cols": {
    "lenName": 16,
    "lenType": 16,
    "lenVar": 40
   },
   "kernels_config": {
    "python": {
     "delete_cmd_postfix": "",
     "delete_cmd_prefix": "del ",
     "library": "var_list.py",
     "varRefreshCmd": "print(var_dic_list())"
    },
    "r": {
     "delete_cmd_postfix": ") ",
     "delete_cmd_prefix": "rm(",
     "library": "var_list.r",
     "varRefreshCmd": "cat(var_dic_list()) "
    }
   },
   "types_to_exclude": [
    "module",
    "function",
    "builtin_function_or_method",
    "instance",
    "_Feature"
   ],
   "window_display": false
  }
 },
 "nbformat": 4,
 "nbformat_minor": 2
}
