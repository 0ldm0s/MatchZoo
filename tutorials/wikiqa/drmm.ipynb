{
 "cells": [
  {
   "cell_type": "code",
   "execution_count": 1,
   "metadata": {
    "scrolled": false
   },
   "outputs": [
    {
     "name": "stderr",
     "output_type": "stream",
     "text": [
      "Using TensorFlow backend.\n",
      "/home/fanyixing/.local/python3/lib/python3.6/importlib/_bootstrap.py:219: RuntimeWarning: numpy.dtype size changed, may indicate binary incompatibility. Expected 96, got 88\n",
      "  return f(*args, **kwds)\n",
      "/home/fanyixing/.local/python3/lib/python3.6/importlib/_bootstrap.py:219: RuntimeWarning: numpy.dtype size changed, may indicate binary incompatibility. Expected 96, got 88\n",
      "  return f(*args, **kwds)\n"
     ]
    },
    {
     "name": "stdout",
     "output_type": "stream",
     "text": [
      "matchzoo version 2.1.0\n",
      "\n",
      "data loading ...\n",
      "data loaded as `train_pack_raw` `dev_pack_raw` `test_pack_raw`\n",
      "`ranking_task` initialized with metrics [normalized_discounted_cumulative_gain@3(0.0), normalized_discounted_cumulative_gain@5(0.0), mean_average_precision(0.0)]\n",
      "loading embedding ...\n",
      "embedding loaded as `glove_embedding`\n"
     ]
    }
   ],
   "source": [
    "%run init.ipynb"
   ]
  },
  {
   "cell_type": "code",
   "execution_count": 2,
   "metadata": {
    "scrolled": false
   },
   "outputs": [
    {
     "name": "stderr",
     "output_type": "stream",
     "text": [
      "Processing text_left with chain_transform of Tokenize => Lowercase => PuncRemoval: 100%|██████████| 2118/2118 [00:00<00:00, 3692.72it/s]\n",
      "Processing text_right with chain_transform of Tokenize => Lowercase => PuncRemoval: 100%|██████████| 18841/18841 [00:08<00:00, 2321.82it/s]\n",
      "Processing text_right with append: 100%|██████████| 18841/18841 [00:00<00:00, 391266.52it/s]\n",
      "Building FrequencyFilter from a datapack.: 100%|██████████| 18841/18841 [00:00<00:00, 51184.93it/s]\n",
      "Processing text_right with transform: 100%|██████████| 18841/18841 [00:00<00:00, 34358.17it/s]\n",
      "Processing text_left with extend: 100%|██████████| 2118/2118 [00:00<00:00, 201619.03it/s]\n",
      "Processing text_right with extend: 100%|██████████| 18841/18841 [00:00<00:00, 279662.82it/s]\n",
      "Building Vocabulary from a datapack.: 100%|██████████| 404415/404415 [00:00<00:00, 1304983.28it/s]\n",
      "Processing text_left with chain_transform of Tokenize => Lowercase => PuncRemoval: 100%|██████████| 2118/2118 [00:00<00:00, 2957.05it/s]\n",
      "Processing text_right with chain_transform of Tokenize => Lowercase => PuncRemoval: 100%|██████████| 18841/18841 [00:10<00:00, 1802.23it/s]\n",
      "Processing text_right with transform: 100%|██████████| 18841/18841 [00:00<00:00, 51560.94it/s]\n",
      "Processing text_left with transform: 100%|██████████| 2118/2118 [00:00<00:00, 65092.77it/s]\n",
      "Processing text_right with transform: 100%|██████████| 18841/18841 [00:00<00:00, 51214.86it/s]\n",
      "Processing length_left with len: 100%|██████████| 2118/2118 [00:00<00:00, 337699.99it/s]\n",
      "Processing length_right with len: 100%|██████████| 18841/18841 [00:00<00:00, 305214.36it/s]\n",
      "Processing text_left with transform: 100%|██████████| 2118/2118 [00:00<00:00, 32625.99it/s]\n",
      "Processing text_right with transform: 100%|██████████| 18841/18841 [00:00<00:00, 24798.55it/s]\n",
      "Processing text_left with chain_transform of Tokenize => Lowercase => PuncRemoval: 100%|██████████| 122/122 [00:00<00:00, 2853.24it/s]\n",
      "Processing text_right with chain_transform of Tokenize => Lowercase => PuncRemoval: 100%|██████████| 1115/1115 [00:00<00:00, 1911.43it/s]\n",
      "Processing text_right with transform: 100%|██████████| 1115/1115 [00:00<00:00, 41573.17it/s]\n",
      "Processing text_left with transform: 100%|██████████| 122/122 [00:00<00:00, 12064.82it/s]\n",
      "Processing text_right with transform: 100%|██████████| 1115/1115 [00:00<00:00, 53893.35it/s]\n",
      "Processing length_left with len: 100%|██████████| 122/122 [00:00<00:00, 51818.24it/s]\n",
      "Processing length_right with len: 100%|██████████| 1115/1115 [00:00<00:00, 160930.80it/s]\n",
      "Processing text_left with transform: 100%|██████████| 122/122 [00:00<00:00, 32138.24it/s]\n",
      "Processing text_right with transform: 100%|██████████| 1115/1115 [00:00<00:00, 19494.97it/s]\n",
      "Processing text_left with chain_transform of Tokenize => Lowercase => PuncRemoval: 100%|██████████| 237/237 [00:00<00:00, 3809.86it/s]\n",
      "Processing text_right with chain_transform of Tokenize => Lowercase => PuncRemoval: 100%|██████████| 2300/2300 [00:01<00:00, 1551.07it/s]\n",
      "Processing text_right with transform: 100%|██████████| 2300/2300 [00:00<00:00, 42902.95it/s]\n",
      "Processing text_left with transform: 100%|██████████| 237/237 [00:00<00:00, 35572.93it/s]\n",
      "Processing text_right with transform: 100%|██████████| 2300/2300 [00:00<00:00, 46716.90it/s]\n",
      "Processing length_left with len: 100%|██████████| 237/237 [00:00<00:00, 152883.74it/s]\n",
      "Processing length_right with len: 100%|██████████| 2300/2300 [00:00<00:00, 284544.12it/s]\n",
      "Processing text_left with transform: 100%|██████████| 237/237 [00:00<00:00, 19037.27it/s]\n",
      "Processing text_right with transform: 100%|██████████| 2300/2300 [00:00<00:00, 23256.64it/s]\n"
     ]
    }
   ],
   "source": [
    "preprocessor = mz.preprocessors.BasicPreprocessor(fixed_length_left=10, fixed_length_right=100, remove_stop_words=False)\n",
    "train_pack_processed = preprocessor.fit_transform(train_pack_raw)\n",
    "dev_pack_processed = preprocessor.transform(dev_pack_raw)\n",
    "test_pack_processed = preprocessor.transform(test_pack_raw)"
   ]
  },
  {
   "cell_type": "code",
   "execution_count": 3,
   "metadata": {
    "scrolled": true
   },
   "outputs": [
    {
     "data": {
      "text/plain": [
       "{'filter_unit': <matchzoo.preprocessors.units.frequency_filter.FrequencyFilter at 0x7f6841eb1f98>,\n",
       " 'vocab_unit': <matchzoo.preprocessors.units.vocabulary.Vocabulary at 0x7f68966e4f98>,\n",
       " 'vocab_size': 16674,\n",
       " 'embedding_input_dim': 16674,\n",
       " 'input_shapes': [(10,), (100,)]}"
      ]
     },
     "execution_count": 3,
     "metadata": {},
     "output_type": "execute_result"
    }
   ],
   "source": [
    "preprocessor.context"
   ]
  },
  {
   "cell_type": "code",
   "execution_count": 4,
   "metadata": {},
   "outputs": [],
   "source": [
    "#%ranking_task = mz.tasks.Ranking(loss=mz.losses.RankCrossEntropyLoss(num_neg=4))\n",
    "#%ranking_task.metrics = [\n",
    "#%    mz.metrics.NormalizedDiscountedCumulativeGain(k=3),\n",
    "#%    mz.metrics.NormalizedDiscountedCumulativeGain(k=5),\n",
    "#%    mz.metrics.MeanAveragePrecision()\n",
    "#%]"
   ]
  },
  {
   "cell_type": "code",
   "execution_count": 5,
   "metadata": {
    "scrolled": false
   },
   "outputs": [
    {
     "name": "stdout",
     "output_type": "stream",
     "text": [
      "__________________________________________________________________________________________________\n",
      "Layer (type)                    Output Shape         Param #     Connected to                     \n",
      "==================================================================================================\n",
      "text_left (InputLayer)          (None, 10)           0                                            \n",
      "__________________________________________________________________________________________________\n",
      "embedding (Embedding)           (None, 10, 300)      5002200     text_left[0][0]                  \n",
      "__________________________________________________________________________________________________\n",
      "dense_1 (Dense)                 (None, 10, 1)        300         embedding[0][0]                  \n",
      "__________________________________________________________________________________________________\n",
      "match_histogram (InputLayer)    (None, 10, 30)       0                                            \n",
      "__________________________________________________________________________________________________\n",
      "attention_mask (Lambda)         (None, 10, 1)        0           dense_1[0][0]                    \n",
      "__________________________________________________________________________________________________\n",
      "dense_2 (Dense)                 (None, 10, 10)       310         match_histogram[0][0]            \n",
      "__________________________________________________________________________________________________\n",
      "attention_probs (Lambda)        (None, 10, 1)        0           attention_mask[0][0]             \n",
      "__________________________________________________________________________________________________\n",
      "dense_3 (Dense)                 (None, 10, 1)        11          dense_2[0][0]                    \n",
      "__________________________________________________________________________________________________\n",
      "dot_1 (Dot)                     (None, 1, 1)         0           attention_probs[0][0]            \n",
      "                                                                 dense_3[0][0]                    \n",
      "__________________________________________________________________________________________________\n",
      "flatten_1 (Flatten)             (None, 1)            0           dot_1[0][0]                      \n",
      "__________________________________________________________________________________________________\n",
      "dense_4 (Dense)                 (None, 1)            2           flatten_1[0][0]                  \n",
      "==================================================================================================\n",
      "Total params: 5,002,823\n",
      "Trainable params: 5,002,823\n",
      "Non-trainable params: 0\n",
      "__________________________________________________________________________________________________\n"
     ]
    }
   ],
   "source": [
    "bin_size = 30\n",
    "model = mz.models.DRMM()\n",
    "model.params['input_shapes'] = [[10,], [10, bin_size,]]\n",
    "model.params['task'] = ranking_task\n",
    "model.params['mask_value'] = 0\n",
    "model.params['embedding_input_dim'] = preprocessor.context['vocab_size']\n",
    "model.params['embedding_output_dim'] = glove_embedding.output_dim\n",
    "model.params['mlp_num_layers'] = 1\n",
    "model.params['mlp_num_units'] = 10\n",
    "model.params['mlp_num_fan_out'] = 1\n",
    "model.params['mlp_activation_func'] = 'tanh'\n",
    "model.params['optimizer'] = 'adadelta'\n",
    "model.guess_and_fill_missing_params()\n",
    "model.build()\n",
    "model.compile()\n",
    "model.backend.summary()"
   ]
  },
  {
   "cell_type": "code",
   "execution_count": 6,
   "metadata": {},
   "outputs": [],
   "source": [
    "embedding_matrix = glove_embedding.build_matrix(preprocessor.context['vocab_unit'].state['term_index'])"
   ]
  },
  {
   "cell_type": "code",
   "execution_count": 7,
   "metadata": {},
   "outputs": [],
   "source": [
    "# normalize the word embedding for fast histogram generating.\n",
    "l2_norm = np.sqrt((embedding_matrix*embedding_matrix).sum(axis=1))\n",
    "embedding_matrix = embedding_matrix / l2_norm[:, np.newaxis]"
   ]
  },
  {
   "cell_type": "code",
   "execution_count": 8,
   "metadata": {},
   "outputs": [],
   "source": [
    "model.load_embedding_matrix(embedding_matrix)"
   ]
  },
  {
   "cell_type": "code",
   "execution_count": 9,
   "metadata": {},
   "outputs": [
    {
     "name": "stdout",
     "output_type": "stream",
     "text": [
      "WARNING: HistogramDataGenerator will be deprecated in MatchZoo v2.2. Use `DataGenerator` with callbacks instead.\n"
     ]
    }
   ],
   "source": [
    "pred_generator = mz.HistogramDataGenerator(data_pack=test_pack_processed,\n",
    "                                           embedding_matrix=embedding_matrix,\n",
    "                                           bin_size=bin_size, \n",
    "                                           hist_mode='LCH')\n",
    "pred_x, pred_y = pred_generator[:]\n",
    "evaluate = mz.callbacks.EvaluateAllMetrics(model, \n",
    "                                           x=pred_x, \n",
    "                                           y=pred_y, \n",
    "                                           once_every=1, \n",
    "                                           batch_size=len(pred_y),\n",
    "                                           model_save_path='./drmm_pretrained_model/'\n",
    "                                          )"
   ]
  },
  {
   "cell_type": "code",
   "execution_count": 10,
   "metadata": {},
   "outputs": [
    {
     "name": "stdout",
     "output_type": "stream",
     "text": [
      "WARNING: HistogramPairDataGenerator will be deprecated in MatchZoo v2.2. Use `DataGenerator` with callbacks instead.\n"
     ]
    },
    {
     "data": {
      "text/plain": [
       "102"
      ]
     },
     "execution_count": 10,
     "metadata": {},
     "output_type": "execute_result"
    }
   ],
   "source": [
    "train_generator = mz.HistogramPairDataGenerator(train_pack_processed, embedding_matrix, bin_size, 'LCH',\n",
    "                                                num_dup=2, num_neg=1, batch_size=20)\n",
    "len(train_generator)"
   ]
  },
  {
   "cell_type": "code",
   "execution_count": 11,
   "metadata": {
    "scrolled": false
   },
   "outputs": [
    {
     "name": "stdout",
     "output_type": "stream",
     "text": [
      "Epoch 1/30\n",
      "102/102 [==============================] - 12s 122ms/step - loss: 0.8916\n",
      "Validation: normalized_discounted_cumulative_gain@3(0.0): 0.45799517445184007 - normalized_discounted_cumulative_gain@5(0.0): 0.5303670277792623 - mean_average_precision(0.0): 0.48704074730779007\n",
      "Epoch 2/30\n",
      "102/102 [==============================] - 19s 188ms/step - loss: 0.7349\n",
      "Validation: normalized_discounted_cumulative_gain@3(0.0): 0.5178921074119822 - normalized_discounted_cumulative_gain@5(0.0): 0.5871083692532375 - mean_average_precision(0.0): 0.5406443320610673\n",
      "Epoch 3/30\n",
      "102/102 [==============================] - 24s 234ms/step - loss: 0.6446\n",
      "Validation: normalized_discounted_cumulative_gain@3(0.0): 0.5683260761340332 - normalized_discounted_cumulative_gain@5(0.0): 0.6300620832774922 - mean_average_precision(0.0): 0.5847452108496706\n",
      "Epoch 4/30\n",
      "102/102 [==============================] - 18s 173ms/step - loss: 0.5556\n",
      "Validation: normalized_discounted_cumulative_gain@3(0.0): 0.5916930041572077 - normalized_discounted_cumulative_gain@5(0.0): 0.6469604869323896 - mean_average_precision(0.0): 0.6063232280587377\n",
      "Epoch 5/30\n",
      "102/102 [==============================] - 21s 206ms/step - loss: 0.5363\n",
      "Validation: normalized_discounted_cumulative_gain@3(0.0): 0.5943347662249586 - normalized_discounted_cumulative_gain@5(0.0): 0.6550661481714668 - mean_average_precision(0.0): 0.6098145060703355\n",
      "Epoch 6/30\n",
      "102/102 [==============================] - 21s 204ms/step - loss: 0.5082\n",
      "Validation: normalized_discounted_cumulative_gain@3(0.0): 0.6034113879217173 - normalized_discounted_cumulative_gain@5(0.0): 0.6532739092447534 - mean_average_precision(0.0): 0.6094452455161982\n",
      "Epoch 7/30\n",
      "102/102 [==============================] - 19s 187ms/step - loss: 0.4885\n",
      "Validation: normalized_discounted_cumulative_gain@3(0.0): 0.5958489737216227 - normalized_discounted_cumulative_gain@5(0.0): 0.6505163995460397 - mean_average_precision(0.0): 0.6021088574093092\n",
      "Epoch 8/30\n",
      "102/102 [==============================] - 23s 224ms/step - loss: 0.4656\n",
      "Validation: normalized_discounted_cumulative_gain@3(0.0): 0.6004719832054083 - normalized_discounted_cumulative_gain@5(0.0): 0.6533309147384981 - mean_average_precision(0.0): 0.6101725859427246\n",
      "Epoch 9/30\n",
      "102/102 [==============================] - 16s 162ms/step - loss: 0.4160\n",
      "Validation: normalized_discounted_cumulative_gain@3(0.0): 0.5922582603464126 - normalized_discounted_cumulative_gain@5(0.0): 0.6434943899249356 - mean_average_precision(0.0): 0.5997221120637032\n",
      "Epoch 10/30\n",
      "102/102 [==============================] - 23s 222ms/step - loss: 0.4023\n",
      "Validation: normalized_discounted_cumulative_gain@3(0.0): 0.5973107620675628 - normalized_discounted_cumulative_gain@5(0.0): 0.64754020971492 - mean_average_precision(0.0): 0.599864932332454\n",
      "Epoch 11/30\n",
      "102/102 [==============================] - 20s 195ms/step - loss: 0.3912\n",
      "Validation: normalized_discounted_cumulative_gain@3(0.0): 0.590440582262191 - normalized_discounted_cumulative_gain@5(0.0): 0.6484657552514531 - mean_average_precision(0.0): 0.6049989589861197\n",
      "Epoch 12/30\n",
      "102/102 [==============================] - 19s 184ms/step - loss: 0.3837\n",
      "Validation: normalized_discounted_cumulative_gain@3(0.0): 0.5869828868790676 - normalized_discounted_cumulative_gain@5(0.0): 0.6444526766213919 - mean_average_precision(0.0): 0.5928773323708222\n",
      "Epoch 13/30\n",
      "102/102 [==============================] - 23s 229ms/step - loss: 0.3496\n",
      "Validation: normalized_discounted_cumulative_gain@3(0.0): 0.5887332600341718 - normalized_discounted_cumulative_gain@5(0.0): 0.649169342830618 - mean_average_precision(0.0): 0.5991656894661412\n",
      "Epoch 14/30\n",
      "102/102 [==============================] - 17s 163ms/step - loss: 0.3385\n",
      "Validation: normalized_discounted_cumulative_gain@3(0.0): 0.5916297269020183 - normalized_discounted_cumulative_gain@5(0.0): 0.6481762815396468 - mean_average_precision(0.0): 0.6030725214880343\n",
      "Epoch 15/30\n",
      "102/102 [==============================] - 22s 216ms/step - loss: 0.3448\n",
      "Validation: normalized_discounted_cumulative_gain@3(0.0): 0.5881661541954221 - normalized_discounted_cumulative_gain@5(0.0): 0.6452282462203726 - mean_average_precision(0.0): 0.5986985064669846\n",
      "Epoch 16/30\n",
      "102/102 [==============================] - 19s 191ms/step - loss: 0.3438\n",
      "Validation: normalized_discounted_cumulative_gain@3(0.0): 0.5805582534927343 - normalized_discounted_cumulative_gain@5(0.0): 0.6373512021382104 - mean_average_precision(0.0): 0.590460655910028\n",
      "Epoch 17/30\n",
      "102/102 [==============================] - 20s 194ms/step - loss: 0.3212\n",
      "Validation: normalized_discounted_cumulative_gain@3(0.0): 0.5835090385453234 - normalized_discounted_cumulative_gain@5(0.0): 0.6397691879056655 - mean_average_precision(0.0): 0.591465922382087\n",
      "Epoch 18/30\n",
      "102/102 [==============================] - 23s 227ms/step - loss: 0.3094\n",
      "Validation: normalized_discounted_cumulative_gain@3(0.0): 0.5638897215808126 - normalized_discounted_cumulative_gain@5(0.0): 0.6269172558597371 - mean_average_precision(0.0): 0.5780863198784585\n",
      "Epoch 19/30\n",
      "102/102 [==============================] - 17s 163ms/step - loss: 0.3130\n",
      "Validation: normalized_discounted_cumulative_gain@3(0.0): 0.5724183447481195 - normalized_discounted_cumulative_gain@5(0.0): 0.6327633408746616 - mean_average_precision(0.0): 0.5866206429071041\n",
      "Epoch 20/30\n",
      "102/102 [==============================] - 23s 223ms/step - loss: 0.3091\n",
      "Validation: normalized_discounted_cumulative_gain@3(0.0): 0.5712646865254555 - normalized_discounted_cumulative_gain@5(0.0): 0.6296034744264956 - mean_average_precision(0.0): 0.5869434840369071\n",
      "Epoch 21/30\n",
      "102/102 [==============================] - 19s 184ms/step - loss: 0.3069\n",
      "Validation: normalized_discounted_cumulative_gain@3(0.0): 0.5675386820457461 - normalized_discounted_cumulative_gain@5(0.0): 0.6291880183655829 - mean_average_precision(0.0): 0.5834512032246876\n",
      "Epoch 22/30\n",
      "102/102 [==============================] - 20s 196ms/step - loss: 0.2973\n",
      "Validation: normalized_discounted_cumulative_gain@3(0.0): 0.5756227792761458 - normalized_discounted_cumulative_gain@5(0.0): 0.6356627577356585 - mean_average_precision(0.0): 0.5892444852794816\n",
      "Epoch 23/30\n",
      "102/102 [==============================] - 22s 219ms/step - loss: 0.2909\n",
      "Validation: normalized_discounted_cumulative_gain@3(0.0): 0.5724728890901067 - normalized_discounted_cumulative_gain@5(0.0): 0.6310314716133766 - mean_average_precision(0.0): 0.5844548796797788\n",
      "Epoch 24/30\n",
      "102/102 [==============================] - 17s 170ms/step - loss: 0.2811\n",
      "Validation: normalized_discounted_cumulative_gain@3(0.0): 0.5766320391704431 - normalized_discounted_cumulative_gain@5(0.0): 0.6268385066897595 - mean_average_precision(0.0): 0.5843552644154203\n",
      "Epoch 25/30\n",
      "102/102 [==============================] - 23s 227ms/step - loss: 0.2684\n",
      "Validation: normalized_discounted_cumulative_gain@3(0.0): 0.5617858448784616 - normalized_discounted_cumulative_gain@5(0.0): 0.620981649738009 - mean_average_precision(0.0): 0.575758728526883\n",
      "Epoch 26/30\n",
      "102/102 [==============================] - 18s 180ms/step - loss: 0.2751\n",
      "Validation: normalized_discounted_cumulative_gain@3(0.0): 0.5715964353403269 - normalized_discounted_cumulative_gain@5(0.0): 0.6274431994106784 - mean_average_precision(0.0): 0.5809745085309563\n",
      "Epoch 27/30\n",
      "102/102 [==============================] - 18s 179ms/step - loss: 0.2681\n",
      "Validation: normalized_discounted_cumulative_gain@3(0.0): 0.5727264254869219 - normalized_discounted_cumulative_gain@5(0.0): 0.6251632237275019 - mean_average_precision(0.0): 0.5774814071969209\n",
      "Epoch 28/30\n",
      "102/102 [==============================] - 17s 164ms/step - loss: 0.2855\n",
      "Validation: normalized_discounted_cumulative_gain@3(0.0): 0.572203475284389 - normalized_discounted_cumulative_gain@5(0.0): 0.6242293719131763 - mean_average_precision(0.0): 0.5801628256789166\n",
      "Epoch 29/30\n",
      "102/102 [==============================] - 17s 166ms/step - loss: 0.2673\n",
      "Validation: normalized_discounted_cumulative_gain@3(0.0): 0.5642022500077641 - normalized_discounted_cumulative_gain@5(0.0): 0.622231250656966 - mean_average_precision(0.0): 0.5736010477920581\n",
      "Epoch 30/30\n",
      "102/102 [==============================] - 17s 169ms/step - loss: 0.2773\n",
      "Validation: normalized_discounted_cumulative_gain@3(0.0): 0.5567034873735245 - normalized_discounted_cumulative_gain@5(0.0): 0.6197928938904039 - mean_average_precision(0.0): 0.5682505520182363\n"
     ]
    }
   ],
   "source": [
    "history = model.fit_generator(train_generator, epochs=30, callbacks=[evaluate], workers=30, use_multiprocessing=True)"
   ]
  },
  {
   "cell_type": "code",
   "execution_count": 12,
   "metadata": {},
   "outputs": [
    {
     "name": "stdout",
     "output_type": "stream",
     "text": [
      "WARNING: HistogramDataGenerator will be deprecated in MatchZoo v2.2. Use `DataGenerator` with callbacks instead.\n"
     ]
    },
    {
     "data": {
      "text/plain": [
       "array([[ 1.0377446 ],\n",
       "       [ 0.8148954 ],\n",
       "       [-0.29903623],\n",
       "       [ 0.84281605],\n",
       "       [-0.43238235],\n",
       "       [-0.06015391],\n",
       "       [-0.81013334],\n",
       "       [ 0.06438022],\n",
       "       [-1.401072  ],\n",
       "       [ 0.2644889 ]], dtype=float32)"
      ]
     },
     "execution_count": 12,
     "metadata": {},
     "output_type": "execute_result"
    }
   ],
   "source": [
    "drmm_model = mz.load_model('./drmm_pretrained_model/16')\n",
    "test_generator = mz.HistogramDataGenerator(data_pack=dev_pack_processed[:10],\n",
    "                                           embedding_matrix=embedding_matrix,\n",
    "                                           bin_size=bin_size, \n",
    "                                           hist_mode='LCH')\n",
    "test_x, test_y = test_generator[:]\n",
    "prediction = drmm_model.predict(test_x)\n",
    "prediction"
   ]
  },
  {
   "cell_type": "code",
   "execution_count": 13,
   "metadata": {},
   "outputs": [],
   "source": [
    "import shutil\n",
    "shutil.rmtree('./drmm_pretrained_model/')"
   ]
  },
  {
   "cell_type": "code",
   "execution_count": null,
   "metadata": {},
   "outputs": [],
   "source": []
  }
 ],
 "metadata": {
  "kernelspec": {
   "display_name": "Python 3",
   "language": "python",
   "name": "python3"
  },
  "language_info": {
   "codemirror_mode": {
    "name": "ipython",
    "version": 3
   },
   "file_extension": ".py",
   "mimetype": "text/x-python",
   "name": "python",
   "nbconvert_exporter": "python",
   "pygments_lexer": "ipython3",
   "version": "3.6.5"
  }
 },
 "nbformat": 4,
 "nbformat_minor": 2
}
