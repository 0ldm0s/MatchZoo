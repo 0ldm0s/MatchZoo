{
 "cells": [
  {
   "cell_type": "code",
   "execution_count": 1,
   "metadata": {},
   "outputs": [
    {
     "name": "stderr",
     "output_type": "stream",
     "text": [
      "Using TensorFlow backend.\n",
      "/data/users/fyx/.local/python3/lib/python3.6/importlib/_bootstrap.py:219: RuntimeWarning: numpy.dtype size changed, may indicate binary incompatibility. Expected 96, got 88\n",
      "  return f(*args, **kwds)\n",
      "/data/users/fyx/.local/python3/lib/python3.6/importlib/_bootstrap.py:219: RuntimeWarning: numpy.dtype size changed, may indicate binary incompatibility. Expected 96, got 88\n",
      "  return f(*args, **kwds)\n"
     ]
    }
   ],
   "source": [
    "import keras\n",
    "import pandas as pd\n",
    "import numpy as np\n",
    "import matchzoo as mz"
   ]
  },
  {
   "cell_type": "code",
   "execution_count": 2,
   "metadata": {},
   "outputs": [],
   "source": [
    "train_pack = mz.datasets.wiki_qa.load_data('train', task='ranking')\n",
    "valid_pack = mz.datasets.wiki_qa.load_data('dev', task='ranking', filter=True)\n",
    "predict_pack = mz.datasets.wiki_qa.load_data('test', task='ranking', filter=True)"
   ]
  },
  {
   "cell_type": "code",
   "execution_count": 3,
   "metadata": {},
   "outputs": [
    {
     "name": "stderr",
     "output_type": "stream",
     "text": [
      "Processing text_left with chain_transform of TokenizeUnit => LowercaseUnit => PuncRemovalUnit: 100%|██████████| 2118/2118 [00:00<00:00, 7813.66it/s]\n",
      "Processing text_right with chain_transform of TokenizeUnit => LowercaseUnit => PuncRemovalUnit: 100%|██████████| 18841/18841 [00:04<00:00, 4399.87it/s]\n",
      "Processing text_right with append: 100%|██████████| 18841/18841 [00:00<00:00, 676409.16it/s]\n",
      "Building FrequencyFilterUnit from a datapack.: 100%|██████████| 18841/18841 [00:00<00:00, 111728.48it/s]\n",
      "Processing text_right with transform: 100%|██████████| 18841/18841 [00:00<00:00, 70171.05it/s] \n",
      "Processing text_left with extend: 100%|██████████| 2118/2118 [00:00<00:00, 515435.79it/s]\n",
      "Processing text_right with extend: 100%|██████████| 18841/18841 [00:00<00:00, 602746.45it/s]\n",
      "Building VocabularyUnit from a datapack.: 100%|██████████| 404415/404415 [00:00<00:00, 2362582.11it/s]\n",
      "Processing text_left with chain_transform of TokenizeUnit => LowercaseUnit => PuncRemovalUnit: 100%|██████████| 2118/2118 [00:00<00:00, 8095.49it/s]\n",
      "Processing text_right with chain_transform of TokenizeUnit => LowercaseUnit => PuncRemovalUnit: 100%|██████████| 18841/18841 [00:04<00:00, 4290.32it/s]\n",
      "Processing text_right with transform: 100%|██████████| 18841/18841 [00:00<00:00, 113520.78it/s]\n",
      "Processing text_left with transform: 100%|██████████| 2118/2118 [00:00<00:00, 196082.90it/s]\n",
      "Processing text_right with transform: 100%|██████████| 18841/18841 [00:00<00:00, 107218.09it/s]\n",
      "Processing text_left with transform: 100%|██████████| 2118/2118 [00:00<00:00, 108370.16it/s]\n",
      "Processing text_right with transform: 100%|██████████| 18841/18841 [00:00<00:00, 83566.29it/s]\n",
      "Processing length_left with len: 100%|██████████| 2118/2118 [00:00<00:00, 506790.80it/s]\n",
      "Processing length_right with len: 100%|██████████| 18841/18841 [00:00<00:00, 623578.70it/s]\n"
     ]
    }
   ],
   "source": [
    "preprocessor = mz.preprocessors.BasicPreprocessor(fixed_length_left=10, fixed_length_right=40, remove_stop_words=True)\n",
    "train_pack_processed = preprocessor.fit_transform(train_pack)"
   ]
  },
  {
   "cell_type": "code",
   "execution_count": 4,
   "metadata": {
    "scrolled": false
   },
   "outputs": [
    {
     "name": "stderr",
     "output_type": "stream",
     "text": [
      "Processing text_left with chain_transform of TokenizeUnit => LowercaseUnit => PuncRemovalUnit: 100%|██████████| 122/122 [00:00<00:00, 8042.77it/s]\n",
      "Processing text_right with chain_transform of TokenizeUnit => LowercaseUnit => PuncRemovalUnit: 100%|██████████| 1115/1115 [00:00<00:00, 4646.01it/s]\n",
      "Processing text_right with transform: 100%|██████████| 1115/1115 [00:00<00:00, 111876.20it/s]\n",
      "Processing text_left with transform: 100%|██████████| 122/122 [00:00<00:00, 95165.54it/s]\n",
      "Processing text_right with transform: 100%|██████████| 1115/1115 [00:00<00:00, 114256.89it/s]\n",
      "Processing text_left with transform: 100%|██████████| 122/122 [00:00<00:00, 70804.63it/s]\n",
      "Processing text_right with transform: 100%|██████████| 1115/1115 [00:00<00:00, 85972.55it/s]\n",
      "Processing length_left with len: 100%|██████████| 122/122 [00:00<00:00, 150104.16it/s]\n",
      "Processing length_right with len: 100%|██████████| 1115/1115 [00:00<00:00, 430511.73it/s]\n",
      "Processing text_left with chain_transform of TokenizeUnit => LowercaseUnit => PuncRemovalUnit: 100%|██████████| 237/237 [00:00<00:00, 8087.03it/s]\n",
      "Processing text_right with chain_transform of TokenizeUnit => LowercaseUnit => PuncRemovalUnit: 100%|██████████| 2300/2300 [00:00<00:00, 4307.28it/s]\n",
      "Processing text_right with transform: 100%|██████████| 2300/2300 [00:00<00:00, 103667.68it/s]\n",
      "Processing text_left with transform: 100%|██████████| 237/237 [00:00<00:00, 134567.49it/s]\n",
      "Processing text_right with transform: 100%|██████████| 2300/2300 [00:00<00:00, 19682.05it/s]\n",
      "Processing text_left with transform: 100%|██████████| 237/237 [00:00<00:00, 79721.71it/s]\n",
      "Processing text_right with transform: 100%|██████████| 2300/2300 [00:00<00:00, 87393.21it/s]\n",
      "Processing length_left with len: 100%|██████████| 237/237 [00:00<00:00, 216191.83it/s]\n",
      "Processing length_right with len: 100%|██████████| 2300/2300 [00:00<00:00, 506931.12it/s]\n"
     ]
    }
   ],
   "source": [
    "valid_pack_processed = preprocessor.transform(valid_pack)\n",
    "predict_pack_processed = preprocessor.transform(predict_pack)"
   ]
  },
  {
   "cell_type": "code",
   "execution_count": 5,
   "metadata": {},
   "outputs": [],
   "source": [
    "ranking_task = mz.tasks.Ranking(loss=mz.losses.RankHingeLoss())\n",
    "ranking_task.metrics = [\n",
    "    mz.metrics.NormalizedDiscountedCumulativeGain(k=3),\n",
    "    mz.metrics.NormalizedDiscountedCumulativeGain(k=5),\n",
    "    mz.metrics.MeanAveragePrecision()\n",
    "]"
   ]
  },
  {
   "cell_type": "code",
   "execution_count": 12,
   "metadata": {
    "scrolled": false
   },
   "outputs": [
    {
     "name": "stdout",
     "output_type": "stream",
     "text": [
      "Parameter \"name\" set to ConvKNRM.\n"
     ]
    }
   ],
   "source": [
    "model = mz.models.ConvKNRM()\n",
    "model.params['input_shapes'] = preprocessor.context['input_shapes']\n",
    "model.params['task'] = ranking_task\n",
    "model.params['embedding_input_dim'] = preprocessor.context['vocab_size'] + 1\n",
    "model.params['embedding_output_dim'] = 300\n",
    "model.params['embedding_trainable'] = True\n",
    "model.params['filters'] = 128 \n",
    "model.params['conv_activation_func'] = 'tanh' \n",
    "model.params['max_ngram'] = 3\n",
    "model.params['use_crossmatch'] = True \n",
    "model.params['kernel_num'] = 11\n",
    "model.params['sigma'] = 0.1\n",
    "model.params['exact_sigma'] = 0.001\n",
    "model.params['optimizer'] = 'adadelta'\n",
    "model.guess_and_fill_missing_params()\n",
    "model.build()\n",
    "model.compile()\n",
    "#model.backend.summary()"
   ]
  },
  {
   "cell_type": "code",
   "execution_count": 13,
   "metadata": {},
   "outputs": [],
   "source": [
    "glove_embedding = mz.datasets.embeddings.load_glove_embedding(dimension=300)\n",
    "embedding_matrix = glove_embedding.build_matrix(preprocessor.context['vocab_unit'].state['term_index'])"
   ]
  },
  {
   "cell_type": "code",
   "execution_count": 14,
   "metadata": {},
   "outputs": [],
   "source": [
    "model.load_embedding_matrix(embedding_matrix)"
   ]
  },
  {
   "cell_type": "code",
   "execution_count": 15,
   "metadata": {},
   "outputs": [],
   "source": [
    "pred_x, pred_y = predict_pack_processed[:].unpack()\n",
    "evaluate = mz.callbacks.EvaluateAllMetrics(model, x=pred_x, y=pred_y, batch_size=len(pred_y))"
   ]
  },
  {
   "cell_type": "code",
   "execution_count": 16,
   "metadata": {},
   "outputs": [
    {
     "data": {
      "text/plain": [
       "255"
      ]
     },
     "execution_count": 16,
     "metadata": {},
     "output_type": "execute_result"
    }
   ],
   "source": [
    "train_generator = mz.PairDataGenerator(train_pack_processed, num_dup=5, num_neg=1, batch_size=20)\n",
    "len(train_generator)"
   ]
  },
  {
   "cell_type": "code",
   "execution_count": 17,
   "metadata": {
    "scrolled": false
   },
   "outputs": [
    {
     "name": "stdout",
     "output_type": "stream",
     "text": [
      "Epoch 1/30\n",
      "254/255 [============================>.] - ETA: 0s - loss: 0.5556\n",
      "255/255 [==============================] - 57s 222ms/step - loss: 0.5535\n",
      "Validation: loss:nan - normalized_discounted_cumulative_gain@3(0):0.566485 - normalized_discounted_cumulative_gain@5(0):0.622616 - mean_average_precision(0):0.582727\n",
      "Epoch 2/30\n",
      "255/255 [==============================] - 47s 182ms/step - loss: 0.1096\n",
      "Validation: loss:nan - normalized_discounted_cumulative_gain@3(0):0.555765 - normalized_discounted_cumulative_gain@5(0):0.631363 - mean_average_precision(0):0.580591\n",
      "Epoch 3/30\n",
      "255/255 [==============================] - 47s 183ms/step - loss: 0.0437\n",
      "Validation: loss:nan - normalized_discounted_cumulative_gain@3(0):0.597553 - normalized_discounted_cumulative_gain@5(0):0.649803 - mean_average_precision(0):0.604669\n",
      "Epoch 4/30\n",
      "255/255 [==============================] - 47s 183ms/step - loss: 0.0307\n",
      "Validation: loss:nan - normalized_discounted_cumulative_gain@3(0):0.598179 - normalized_discounted_cumulative_gain@5(0):0.656098 - mean_average_precision(0):0.611785\n",
      "Epoch 5/30\n",
      "255/255 [==============================] - 46s 181ms/step - loss: 0.0206\n",
      "Validation: loss:nan - normalized_discounted_cumulative_gain@3(0):0.598203 - normalized_discounted_cumulative_gain@5(0):0.653857 - mean_average_precision(0):0.614330\n",
      "Epoch 6/30\n",
      "255/255 [==============================] - 46s 180ms/step - loss: 0.0113\n",
      "Validation: loss:nan - normalized_discounted_cumulative_gain@3(0):0.594250 - normalized_discounted_cumulative_gain@5(0):0.648914 - mean_average_precision(0):0.608310\n",
      "Epoch 7/30\n",
      "255/255 [==============================] - 48s 189ms/step - loss: 0.0076\n",
      "Validation: loss:nan - normalized_discounted_cumulative_gain@3(0):0.576044 - normalized_discounted_cumulative_gain@5(0):0.640767 - mean_average_precision(0):0.592480\n",
      "Epoch 8/30\n",
      "255/255 [==============================] - 44s 174ms/step - loss: 0.0059\n",
      "Validation: loss:nan - normalized_discounted_cumulative_gain@3(0):0.565524 - normalized_discounted_cumulative_gain@5(0):0.631375 - mean_average_precision(0):0.585437\n",
      "Epoch 9/30\n",
      "255/255 [==============================] - 47s 186ms/step - loss: 0.0042\n",
      "Validation: loss:nan - normalized_discounted_cumulative_gain@3(0):0.555370 - normalized_discounted_cumulative_gain@5(0):0.627868 - mean_average_precision(0):0.578492\n",
      "Epoch 10/30\n",
      "255/255 [==============================] - 45s 178ms/step - loss: 0.0028\n",
      "Validation: loss:nan - normalized_discounted_cumulative_gain@3(0):0.598845 - normalized_discounted_cumulative_gain@5(0):0.652217 - mean_average_precision(0):0.607784\n",
      "Epoch 11/30\n",
      "255/255 [==============================] - 46s 180ms/step - loss: 0.0018\n",
      "Validation: loss:nan - normalized_discounted_cumulative_gain@3(0):0.603792 - normalized_discounted_cumulative_gain@5(0):0.660740 - mean_average_precision(0):0.615673\n",
      "Epoch 12/30\n",
      "255/255 [==============================] - 46s 181ms/step - loss: 8.6164e-04\n",
      "Validation: loss:nan - normalized_discounted_cumulative_gain@3(0):0.606304 - normalized_discounted_cumulative_gain@5(0):0.668566 - mean_average_precision(0):0.621263\n",
      "Epoch 13/30\n",
      "255/255 [==============================] - 41s 162ms/step - loss: 0.0010\n",
      "Validation: loss:nan - normalized_discounted_cumulative_gain@3(0):0.591134 - normalized_discounted_cumulative_gain@5(0):0.658489 - mean_average_precision(0):0.606094\n",
      "Epoch 14/30\n",
      "255/255 [==============================] - 45s 178ms/step - loss: 5.4139e-04\n",
      "Validation: loss:nan - normalized_discounted_cumulative_gain@3(0):0.605718 - normalized_discounted_cumulative_gain@5(0):0.671767 - mean_average_precision(0):0.620385\n",
      "Epoch 15/30\n",
      "255/255 [==============================] - 47s 183ms/step - loss: 0.0010\n",
      "Validation: loss:nan - normalized_discounted_cumulative_gain@3(0):0.620232 - normalized_discounted_cumulative_gain@5(0):0.673819 - mean_average_precision(0):0.634801\n",
      "Epoch 16/30\n",
      "255/255 [==============================] - 46s 182ms/step - loss: 6.9847e-04\n",
      "Validation: loss:nan - normalized_discounted_cumulative_gain@3(0):0.603766 - normalized_discounted_cumulative_gain@5(0):0.664222 - mean_average_precision(0):0.621772\n",
      "Epoch 17/30\n",
      "255/255 [==============================] - 46s 180ms/step - loss: 0.0011\n",
      "Validation: loss:nan - normalized_discounted_cumulative_gain@3(0):0.614181 - normalized_discounted_cumulative_gain@5(0):0.672705 - mean_average_precision(0):0.631562\n",
      "Epoch 18/30\n",
      "255/255 [==============================] - 47s 185ms/step - loss: 3.8945e-05\n",
      "Validation: loss:nan - normalized_discounted_cumulative_gain@3(0):0.603877 - normalized_discounted_cumulative_gain@5(0):0.660666 - mean_average_precision(0):0.617158\n",
      "Epoch 19/30\n",
      "255/255 [==============================] - 46s 180ms/step - loss: 3.3056e-04\n",
      "Validation: loss:nan - normalized_discounted_cumulative_gain@3(0):0.612332 - normalized_discounted_cumulative_gain@5(0):0.667700 - mean_average_precision(0):0.625253\n",
      "Epoch 20/30\n",
      "255/255 [==============================] - 47s 184ms/step - loss: 9.3490e-04\n",
      "Validation: loss:nan - normalized_discounted_cumulative_gain@3(0):0.601990 - normalized_discounted_cumulative_gain@5(0):0.657934 - mean_average_precision(0):0.611478\n",
      "Epoch 21/30\n",
      "255/255 [==============================] - 47s 184ms/step - loss: 6.3950e-04\n",
      "Validation: loss:nan - normalized_discounted_cumulative_gain@3(0):0.606139 - normalized_discounted_cumulative_gain@5(0):0.661317 - mean_average_precision(0):0.610526\n",
      "Epoch 22/30\n",
      "255/255 [==============================] - 46s 182ms/step - loss: 9.0170e-04\n",
      "Validation: loss:nan - normalized_discounted_cumulative_gain@3(0):0.613876 - normalized_discounted_cumulative_gain@5(0):0.661986 - mean_average_precision(0):0.610749\n",
      "Epoch 23/30\n",
      "255/255 [==============================] - 48s 189ms/step - loss: 7.1750e-05\n",
      "Validation: loss:nan - normalized_discounted_cumulative_gain@3(0):0.616203 - normalized_discounted_cumulative_gain@5(0):0.670102 - mean_average_precision(0):0.625063\n",
      "Epoch 24/30\n",
      "255/255 [==============================] - 46s 181ms/step - loss: 3.2938e-04\n",
      "Validation: loss:nan - normalized_discounted_cumulative_gain@3(0):0.637905 - normalized_discounted_cumulative_gain@5(0):0.685514 - mean_average_precision(0):0.636984\n",
      "Epoch 25/30\n",
      "255/255 [==============================] - 48s 189ms/step - loss: 3.9783e-04\n",
      "Validation: loss:nan - normalized_discounted_cumulative_gain@3(0):0.608440 - normalized_discounted_cumulative_gain@5(0):0.663350 - mean_average_precision(0):0.613714\n",
      "Epoch 26/30\n",
      "255/255 [==============================] - 47s 186ms/step - loss: 2.3485e-04\n",
      "Validation: loss:nan - normalized_discounted_cumulative_gain@3(0):0.589811 - normalized_discounted_cumulative_gain@5(0):0.648896 - mean_average_precision(0):0.599992\n",
      "Epoch 27/30\n",
      "255/255 [==============================] - 46s 181ms/step - loss: 3.9817e-04\n",
      "Validation: loss:nan - normalized_discounted_cumulative_gain@3(0):0.591510 - normalized_discounted_cumulative_gain@5(0):0.643374 - mean_average_precision(0):0.593951\n",
      "Epoch 28/30\n",
      "255/255 [==============================] - 46s 179ms/step - loss: 2.1104e-04\n",
      "Validation: loss:nan - normalized_discounted_cumulative_gain@3(0):0.600481 - normalized_discounted_cumulative_gain@5(0):0.651162 - mean_average_precision(0):0.605939\n",
      "Epoch 29/30\n",
      "255/255 [==============================] - 47s 183ms/step - loss: 6.8520e-04\n",
      "Validation: loss:nan - normalized_discounted_cumulative_gain@3(0):0.589767 - normalized_discounted_cumulative_gain@5(0):0.652322 - mean_average_precision(0):0.597089\n",
      "Epoch 30/30\n",
      "255/255 [==============================] - 46s 180ms/step - loss: 1.5013e-04\n",
      "Validation: loss:nan - normalized_discounted_cumulative_gain@3(0):0.608589 - normalized_discounted_cumulative_gain@5(0):0.659708 - mean_average_precision(0):0.612451\n"
     ]
    }
   ],
   "source": [
    "history = model.fit_generator(train_generator, epochs=30, callbacks=[evaluate], workers=30, use_multiprocessing=True)"
   ]
  },
  {
   "cell_type": "code",
   "execution_count": null,
   "metadata": {},
   "outputs": [],
   "source": []
  }
 ],
 "metadata": {
  "kernelspec": {
   "display_name": "Python 3",
   "language": "python",
   "name": "python3"
  },
  "language_info": {
   "codemirror_mode": {
    "name": "ipython",
    "version": 3
   },
   "file_extension": ".py",
   "mimetype": "text/x-python",
   "name": "python",
   "nbconvert_exporter": "python",
   "pygments_lexer": "ipython3",
   "version": "3.6.5"
  }
 },
 "nbformat": 4,
 "nbformat_minor": 2
}
