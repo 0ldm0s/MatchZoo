{
 "cells": [
  {
   "cell_type": "code",
   "execution_count": 1,
   "metadata": {},
   "outputs": [
    {
     "name": "stderr",
     "output_type": "stream",
     "text": [
      "Using TensorFlow backend.\n",
      "/data/users/fyx/.local/python3/lib/python3.6/importlib/_bootstrap.py:219: RuntimeWarning: numpy.dtype size changed, may indicate binary incompatibility. Expected 96, got 88\n",
      "  return f(*args, **kwds)\n",
      "/data/users/fyx/.local/python3/lib/python3.6/importlib/_bootstrap.py:219: RuntimeWarning: numpy.dtype size changed, may indicate binary incompatibility. Expected 96, got 88\n",
      "  return f(*args, **kwds)\n"
     ]
    }
   ],
   "source": [
    "import keras\n",
    "import pandas as pd\n",
    "import numpy as np\n",
    "import matchzoo as mz"
   ]
  },
  {
   "cell_type": "code",
   "execution_count": 2,
   "metadata": {},
   "outputs": [],
   "source": [
    "train_pack = mz.datasets.wiki_qa.load_data('train', task='ranking')\n",
    "valid_pack = mz.datasets.wiki_qa.load_data('dev', task='ranking', filter=True)\n",
    "predict_pack = mz.datasets.wiki_qa.load_data('test', task='ranking', filter=True)"
   ]
  },
  {
   "cell_type": "code",
   "execution_count": 3,
   "metadata": {},
   "outputs": [
    {
     "name": "stderr",
     "output_type": "stream",
     "text": [
      "Processing text_left with chain_transform of TokenizeUnit => LowercaseUnit => PuncRemovalUnit: 100%|██████████| 2118/2118 [00:00<00:00, 7547.15it/s]\n",
      "Processing text_right with chain_transform of TokenizeUnit => LowercaseUnit => PuncRemovalUnit: 100%|██████████| 18841/18841 [00:04<00:00, 4286.23it/s]\n",
      "Processing text_right with append: 100%|██████████| 18841/18841 [00:00<00:00, 728910.96it/s]\n",
      "Building FrequencyFilterUnit from a datapack.: 100%|██████████| 18841/18841 [00:00<00:00, 110967.56it/s]\n",
      "Processing text_right with transform: 100%|██████████| 18841/18841 [00:00<00:00, 59793.09it/s] \n",
      "Processing text_left with extend: 100%|██████████| 2118/2118 [00:00<00:00, 584558.52it/s]\n",
      "Processing text_right with extend: 100%|██████████| 18841/18841 [00:00<00:00, 631658.35it/s]\n",
      "Building VocabularyUnit from a datapack.: 100%|██████████| 404415/404415 [00:00<00:00, 2224949.83it/s]\n",
      "Processing text_left with chain_transform of TokenizeUnit => LowercaseUnit => PuncRemovalUnit: 100%|██████████| 2118/2118 [00:00<00:00, 8265.24it/s]\n",
      "Processing text_right with chain_transform of TokenizeUnit => LowercaseUnit => PuncRemovalUnit: 100%|██████████| 18841/18841 [00:04<00:00, 4364.98it/s]\n",
      "Processing text_right with transform: 100%|██████████| 18841/18841 [00:00<00:00, 107445.95it/s]\n",
      "Processing text_left with transform: 100%|██████████| 2118/2118 [00:00<00:00, 189475.01it/s]\n",
      "Processing text_right with transform: 100%|██████████| 18841/18841 [00:00<00:00, 110249.38it/s]\n",
      "Processing text_left with transform: 100%|██████████| 2118/2118 [00:00<00:00, 105813.06it/s]\n",
      "Processing text_right with transform: 100%|██████████| 18841/18841 [00:00<00:00, 85629.85it/s]\n",
      "Processing length_left with len: 100%|██████████| 2118/2118 [00:00<00:00, 504746.36it/s]\n",
      "Processing length_right with len: 100%|██████████| 18841/18841 [00:00<00:00, 491647.01it/s]\n"
     ]
    }
   ],
   "source": [
    "preprocessor = mz.preprocessors.BasicPreprocessor(fixed_length_left=10, fixed_length_right=40, remove_stop_words=True)\n",
    "train_pack_processed = preprocessor.fit_transform(train_pack)"
   ]
  },
  {
   "cell_type": "code",
   "execution_count": 4,
   "metadata": {
    "scrolled": false
   },
   "outputs": [
    {
     "name": "stderr",
     "output_type": "stream",
     "text": [
      "Processing text_left with chain_transform of TokenizeUnit => LowercaseUnit => PuncRemovalUnit: 100%|██████████| 122/122 [00:00<00:00, 6320.08it/s]\n",
      "Processing text_right with chain_transform of TokenizeUnit => LowercaseUnit => PuncRemovalUnit: 100%|██████████| 1115/1115 [00:00<00:00, 4294.71it/s]\n",
      "Processing text_right with transform: 100%|██████████| 1115/1115 [00:00<00:00, 98890.89it/s]\n",
      "Processing text_left with transform: 100%|██████████| 122/122 [00:00<00:00, 109059.06it/s]\n",
      "Processing text_right with transform: 100%|██████████| 1115/1115 [00:00<00:00, 118213.62it/s]\n",
      "Processing text_left with transform: 100%|██████████| 122/122 [00:00<00:00, 78615.01it/s]\n",
      "Processing text_right with transform: 100%|██████████| 1115/1115 [00:00<00:00, 87290.00it/s]\n",
      "Processing length_left with len: 100%|██████████| 122/122 [00:00<00:00, 136966.03it/s]\n",
      "Processing length_right with len: 100%|██████████| 1115/1115 [00:00<00:00, 435118.06it/s]\n",
      "Processing text_left with chain_transform of TokenizeUnit => LowercaseUnit => PuncRemovalUnit: 100%|██████████| 237/237 [00:00<00:00, 8480.86it/s]\n",
      "Processing text_right with chain_transform of TokenizeUnit => LowercaseUnit => PuncRemovalUnit: 100%|██████████| 2300/2300 [00:00<00:00, 4471.05it/s]\n",
      "Processing text_right with transform: 100%|██████████| 2300/2300 [00:00<00:00, 112819.99it/s]\n",
      "Processing text_left with transform: 100%|██████████| 237/237 [00:00<00:00, 98999.11it/s]\n",
      "Processing text_right with transform: 100%|██████████| 2300/2300 [00:00<00:00, 13716.91it/s]\n",
      "Processing text_left with transform: 100%|██████████| 237/237 [00:00<00:00, 89280.59it/s]\n",
      "Processing text_right with transform: 100%|██████████| 2300/2300 [00:00<00:00, 84399.08it/s]\n",
      "Processing length_left with len: 100%|██████████| 237/237 [00:00<00:00, 278289.49it/s]\n",
      "Processing length_right with len: 100%|██████████| 2300/2300 [00:00<00:00, 546411.74it/s]\n"
     ]
    }
   ],
   "source": [
    "valid_pack_processed = preprocessor.transform(valid_pack)\n",
    "predict_pack_processed = preprocessor.transform(predict_pack)"
   ]
  },
  {
   "cell_type": "code",
   "execution_count": 5,
   "metadata": {},
   "outputs": [],
   "source": [
    "ranking_task = mz.tasks.Ranking(loss=mz.losses.RankHingeLoss())\n",
    "ranking_task.metrics = [\n",
    "    mz.metrics.NormalizedDiscountedCumulativeGain(k=3),\n",
    "    mz.metrics.NormalizedDiscountedCumulativeGain(k=5),\n",
    "    mz.metrics.MeanAveragePrecision()\n",
    "]"
   ]
  },
  {
   "cell_type": "code",
   "execution_count": 6,
   "metadata": {
    "scrolled": false
   },
   "outputs": [
    {
     "name": "stdout",
     "output_type": "stream",
     "text": [
      "Parameter \"name\" set to MatchLSTM.\n",
      "__________________________________________________________________________________________________\n",
      "Layer (type)                    Output Shape         Param #     Connected to                     \n",
      "==================================================================================================\n",
      "text_left (InputLayer)          (None, 10)           0                                            \n",
      "__________________________________________________________________________________________________\n",
      "text_right (InputLayer)         (None, 40)           0                                            \n",
      "__________________________________________________________________________________________________\n",
      "embedding (Embedding)           multiple             1667400     text_left[0][0]                  \n",
      "                                                                 text_right[0][0]                 \n",
      "__________________________________________________________________________________________________\n",
      "lstm_left (LSTM)                (None, 10, 100)      80400       embedding[0][0]                  \n",
      "__________________________________________________________________________________________________\n",
      "lstm_right (LSTM)               (None, 40, 100)      80400       embedding[1][0]                  \n",
      "__________________________________________________________________________________________________\n",
      "lambda_1 (Lambda)               (None, 10, 100)      0           lstm_left[0][0]                  \n",
      "                                                                 lstm_right[0][0]                 \n",
      "__________________________________________________________________________________________________\n",
      "concatenate_1 (Concatenate)     (None, 50, 100)      0           lambda_1[0][0]                   \n",
      "                                                                 lstm_right[0][0]                 \n",
      "__________________________________________________________________________________________________\n",
      "lstm_merge (LSTM)               (None, 200)          240800      concatenate_1[0][0]              \n",
      "__________________________________________________________________________________________________\n",
      "dropout_1 (Dropout)             (None, 200)          0           lstm_merge[0][0]                 \n",
      "__________________________________________________________________________________________________\n",
      "dense_5 (Dense)                 (None, 100)          20100       dropout_1[0][0]                  \n",
      "__________________________________________________________________________________________________\n",
      "dense_6 (Dense)                 (None, 1)            101         dense_5[0][0]                    \n",
      "==================================================================================================\n",
      "Total params: 2,089,201\n",
      "Trainable params: 2,089,201\n",
      "Non-trainable params: 0\n",
      "__________________________________________________________________________________________________\n"
     ]
    }
   ],
   "source": [
    "model = mz.models.MatchLSTM()\n",
    "model.params['input_shapes'] = preprocessor.context['input_shapes']\n",
    "model.params['task'] = ranking_task\n",
    "model.params['embedding_input_dim'] = preprocessor.context['vocab_size'] + 1\n",
    "model.params['embedding_output_dim'] = 100\n",
    "model.params['embedding_trainable'] = True\n",
    "model.params['fc_num_units'] = 100\n",
    "model.params['lstm_num_units'] = 100\n",
    "model.params['dropout_rate'] = 0.5\n",
    "model.params['optimizer'] = 'adadelta'\n",
    "model.guess_and_fill_missing_params()\n",
    "model.build()\n",
    "model.compile()\n",
    "model.backend.summary()"
   ]
  },
  {
   "cell_type": "code",
   "execution_count": 7,
   "metadata": {},
   "outputs": [],
   "source": [
    "glove_embedding = mz.datasets.embeddings.load_glove_embedding(dimension=100)\n",
    "embedding_matrix = glove_embedding.build_matrix(preprocessor.context['vocab_unit'].state['term_index'])"
   ]
  },
  {
   "cell_type": "code",
   "execution_count": 8,
   "metadata": {},
   "outputs": [],
   "source": [
    "model.load_embedding_matrix(embedding_matrix)"
   ]
  },
  {
   "cell_type": "code",
   "execution_count": 9,
   "metadata": {},
   "outputs": [],
   "source": [
    "pred_x, pred_y = predict_pack_processed[:].unpack()\n",
    "evaluate = mz.callbacks.EvaluateAllMetrics(model, x=pred_x, y=pred_y, batch_size=len(pred_x))"
   ]
  },
  {
   "cell_type": "code",
   "execution_count": 10,
   "metadata": {},
   "outputs": [
    {
     "data": {
      "text/plain": [
       "102"
      ]
     },
     "execution_count": 10,
     "metadata": {},
     "output_type": "execute_result"
    }
   ],
   "source": [
    "train_generator = mz.PairDataGenerator(train_pack_processed, num_dup=2, num_neg=1, batch_size=20)\n",
    "len(train_generator)"
   ]
  },
  {
   "cell_type": "code",
   "execution_count": 11,
   "metadata": {
    "scrolled": false
   },
   "outputs": [
    {
     "name": "stdout",
     "output_type": "stream",
     "text": [
      "Epoch 1/30\n",
      "102/102 [==============================] - 23s 224ms/step - loss: 0.8661\n",
      "Validation: loss:nan - normalized_discounted_cumulative_gain@3(0):0.565604 - normalized_discounted_cumulative_gain@5(0):0.620484 - mean_average_precision(0):0.579007\n",
      "Epoch 2/30\n",
      "102/102 [==============================] - 20s 197ms/step - loss: 0.7174\n",
      "Validation: loss:nan - normalized_discounted_cumulative_gain@3(0):0.597652 - normalized_discounted_cumulative_gain@5(0):0.645082 - mean_average_precision(0):0.607434\n",
      "Epoch 3/30\n",
      "102/102 [==============================] - 20s 194ms/step - loss: 0.5910\n",
      "Validation: loss:nan - normalized_discounted_cumulative_gain@3(0):0.563677 - normalized_discounted_cumulative_gain@5(0):0.622307 - mean_average_precision(0):0.579566\n",
      "Epoch 4/30\n",
      "102/102 [==============================] - 20s 195ms/step - loss: 0.5367\n",
      "Validation: loss:nan - normalized_discounted_cumulative_gain@3(0):0.585951 - normalized_discounted_cumulative_gain@5(0):0.639673 - mean_average_precision(0):0.602494\n",
      "Epoch 5/30\n",
      "102/102 [==============================] - 20s 194ms/step - loss: 0.4677\n",
      "Validation: loss:nan - normalized_discounted_cumulative_gain@3(0):0.603147 - normalized_discounted_cumulative_gain@5(0):0.661113 - mean_average_precision(0):0.617887\n",
      "Epoch 6/30\n",
      "102/102 [==============================] - 20s 192ms/step - loss: 0.3929\n",
      "Validation: loss:nan - normalized_discounted_cumulative_gain@3(0):0.605732 - normalized_discounted_cumulative_gain@5(0):0.657474 - mean_average_precision(0):0.611313\n",
      "Epoch 7/30\n",
      "102/102 [==============================] - 20s 193ms/step - loss: 0.3349\n",
      "Validation: loss:nan - normalized_discounted_cumulative_gain@3(0):0.561175 - normalized_discounted_cumulative_gain@5(0):0.628951 - mean_average_precision(0):0.586290\n",
      "Epoch 8/30\n",
      "102/102 [==============================] - 20s 195ms/step - loss: 0.2706\n",
      "Validation: loss:nan - normalized_discounted_cumulative_gain@3(0):0.560384 - normalized_discounted_cumulative_gain@5(0):0.629368 - mean_average_precision(0):0.583879\n",
      "Epoch 9/30\n",
      "102/102 [==============================] - 20s 192ms/step - loss: 0.2194\n",
      "Validation: loss:nan - normalized_discounted_cumulative_gain@3(0):0.547513 - normalized_discounted_cumulative_gain@5(0):0.622839 - mean_average_precision(0):0.569836\n",
      "Epoch 10/30\n",
      "102/102 [==============================] - 19s 190ms/step - loss: 0.1628\n",
      "Validation: loss:nan - normalized_discounted_cumulative_gain@3(0):0.579925 - normalized_discounted_cumulative_gain@5(0):0.646154 - mean_average_precision(0):0.599145\n",
      "Epoch 11/30\n",
      "102/102 [==============================] - 20s 194ms/step - loss: 0.1121\n",
      "Validation: loss:nan - normalized_discounted_cumulative_gain@3(0):0.583482 - normalized_discounted_cumulative_gain@5(0):0.642360 - mean_average_precision(0):0.595381\n",
      "Epoch 12/30\n",
      "102/102 [==============================] - 20s 192ms/step - loss: 0.0901\n",
      "Validation: loss:nan - normalized_discounted_cumulative_gain@3(0):0.561296 - normalized_discounted_cumulative_gain@5(0):0.628122 - mean_average_precision(0):0.580035\n",
      "Epoch 13/30\n",
      "102/102 [==============================] - 20s 195ms/step - loss: 0.0602\n",
      "Validation: loss:nan - normalized_discounted_cumulative_gain@3(0):0.511208 - normalized_discounted_cumulative_gain@5(0):0.602182 - mean_average_precision(0):0.547423\n",
      "Epoch 14/30\n",
      "102/102 [==============================] - 20s 194ms/step - loss: 0.0461\n",
      "Validation: loss:nan - normalized_discounted_cumulative_gain@3(0):0.547338 - normalized_discounted_cumulative_gain@5(0):0.616068 - mean_average_precision(0):0.571357\n",
      "Epoch 15/30\n",
      "102/102 [==============================] - 20s 194ms/step - loss: 0.0296\n",
      "Validation: loss:nan - normalized_discounted_cumulative_gain@3(0):0.536264 - normalized_discounted_cumulative_gain@5(0):0.614241 - mean_average_precision(0):0.557327\n",
      "Epoch 16/30\n",
      "102/102 [==============================] - 20s 193ms/step - loss: 0.0223\n",
      "Validation: loss:nan - normalized_discounted_cumulative_gain@3(0):0.533675 - normalized_discounted_cumulative_gain@5(0):0.608601 - mean_average_precision(0):0.561240\n",
      "Epoch 17/30\n",
      "102/102 [==============================] - 20s 193ms/step - loss: 0.0245\n",
      "Validation: loss:nan - normalized_discounted_cumulative_gain@3(0):0.539416 - normalized_discounted_cumulative_gain@5(0):0.614165 - mean_average_precision(0):0.564914\n",
      "Epoch 18/30\n",
      "102/102 [==============================] - 20s 193ms/step - loss: 0.0124\n",
      "Validation: loss:nan - normalized_discounted_cumulative_gain@3(0):0.523802 - normalized_discounted_cumulative_gain@5(0):0.607426 - mean_average_precision(0):0.560613\n",
      "Epoch 19/30\n",
      "102/102 [==============================] - 20s 193ms/step - loss: 0.0070\n",
      "Validation: loss:nan - normalized_discounted_cumulative_gain@3(0):0.512183 - normalized_discounted_cumulative_gain@5(0):0.589442 - mean_average_precision(0):0.541506\n",
      "Epoch 20/30\n",
      "102/102 [==============================] - 20s 192ms/step - loss: 0.0111\n",
      "Validation: loss:nan - normalized_discounted_cumulative_gain@3(0):0.545260 - normalized_discounted_cumulative_gain@5(0):0.606864 - mean_average_precision(0):0.569226\n",
      "Epoch 21/30\n",
      "102/102 [==============================] - 20s 193ms/step - loss: 0.0065\n",
      "Validation: loss:nan - normalized_discounted_cumulative_gain@3(0):0.554194 - normalized_discounted_cumulative_gain@5(0):0.613708 - mean_average_precision(0):0.564708\n",
      "Epoch 22/30\n",
      "102/102 [==============================] - 20s 194ms/step - loss: 0.0080\n",
      "Validation: loss:nan - normalized_discounted_cumulative_gain@3(0):0.524129 - normalized_discounted_cumulative_gain@5(0):0.605890 - mean_average_precision(0):0.558961\n",
      "Epoch 23/30\n",
      "102/102 [==============================] - 20s 194ms/step - loss: 0.0095\n",
      "Validation: loss:nan - normalized_discounted_cumulative_gain@3(0):0.541834 - normalized_discounted_cumulative_gain@5(0):0.606577 - mean_average_precision(0):0.562836\n",
      "Epoch 24/30\n",
      "102/102 [==============================] - 20s 194ms/step - loss: 0.0072\n",
      "Validation: loss:nan - normalized_discounted_cumulative_gain@3(0):0.530508 - normalized_discounted_cumulative_gain@5(0):0.593748 - mean_average_precision(0):0.551149\n",
      "Epoch 25/30\n",
      "102/102 [==============================] - 20s 194ms/step - loss: 0.0081\n",
      "Validation: loss:nan - normalized_discounted_cumulative_gain@3(0):0.520101 - normalized_discounted_cumulative_gain@5(0):0.595751 - mean_average_precision(0):0.543082\n",
      "Epoch 26/30\n",
      "102/102 [==============================] - 20s 191ms/step - loss: 0.0088\n",
      "Validation: loss:nan - normalized_discounted_cumulative_gain@3(0):0.528445 - normalized_discounted_cumulative_gain@5(0):0.605340 - mean_average_precision(0):0.556652\n",
      "Epoch 27/30\n",
      "102/102 [==============================] - 20s 193ms/step - loss: 0.0054\n",
      "Validation: loss:nan - normalized_discounted_cumulative_gain@3(0):0.522022 - normalized_discounted_cumulative_gain@5(0):0.592737 - mean_average_precision(0):0.545932\n",
      "Epoch 28/30\n",
      "102/102 [==============================] - 19s 191ms/step - loss: 0.0033\n",
      "Validation: loss:nan - normalized_discounted_cumulative_gain@3(0):0.530025 - normalized_discounted_cumulative_gain@5(0):0.607046 - mean_average_precision(0):0.556603\n",
      "Epoch 29/30\n",
      "102/102 [==============================] - 20s 194ms/step - loss: 0.0085\n",
      "Validation: loss:nan - normalized_discounted_cumulative_gain@3(0):0.510006 - normalized_discounted_cumulative_gain@5(0):0.574413 - mean_average_precision(0):0.536409\n",
      "Epoch 30/30\n",
      "102/102 [==============================] - 20s 193ms/step - loss: 0.0035\n",
      "Validation: loss:nan - normalized_discounted_cumulative_gain@3(0):0.545560 - normalized_discounted_cumulative_gain@5(0):0.612549 - mean_average_precision(0):0.571286\n"
     ]
    }
   ],
   "source": [
    "history = model.fit_generator(train_generator, epochs=30, callbacks=[evaluate], workers=30, use_multiprocessing=True)"
   ]
  }
 ],
 "metadata": {
  "kernelspec": {
   "display_name": "Python 3",
   "language": "python",
   "name": "python3"
  },
  "language_info": {
   "codemirror_mode": {
    "name": "ipython",
    "version": 3
   },
   "file_extension": ".py",
   "mimetype": "text/x-python",
   "name": "python",
   "nbconvert_exporter": "python",
   "pygments_lexer": "ipython3",
   "version": "3.6.5"
  }
 },
 "nbformat": 4,
 "nbformat_minor": 2
}
