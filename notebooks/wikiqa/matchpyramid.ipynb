{
 "cells": [
  {
   "cell_type": "code",
   "execution_count": 1,
   "metadata": {},
   "outputs": [
    {
     "name": "stderr",
     "output_type": "stream",
     "text": [
      "/data/users/fyx/.local/python3/lib/python3.6/importlib/_bootstrap.py:219: RuntimeWarning: numpy.dtype size changed, may indicate binary incompatibility. Expected 96, got 88\n",
      "  return f(*args, **kwds)\n",
      "/data/users/fyx/.local/python3/lib/python3.6/importlib/_bootstrap.py:219: RuntimeWarning: numpy.dtype size changed, may indicate binary incompatibility. Expected 96, got 88\n",
      "  return f(*args, **kwds)\n",
      "Using TensorFlow backend.\n"
     ]
    }
   ],
   "source": [
    "import numpy as np\n",
    "import matchzoo as mz"
   ]
  },
  {
   "cell_type": "code",
   "execution_count": 2,
   "metadata": {},
   "outputs": [],
   "source": [
    "train_pack = mz.datasets.wiki_qa.load_data('train', task='ranking')\n",
    "valid_pack = mz.datasets.wiki_qa.load_data('dev', task='ranking', filter=True)\n",
    "predict_pack = mz.datasets.wiki_qa.load_data('test', task='ranking', filter=True)"
   ]
  },
  {
   "cell_type": "code",
   "execution_count": 3,
   "metadata": {},
   "outputs": [
    {
     "name": "stderr",
     "output_type": "stream",
     "text": [
      "Processing text_left with chain_transform of TokenizeUnit => LowercaseUnit => PuncRemovalUnit: 100%|██████████| 2118/2118 [00:00<00:00, 8038.16it/s]\n",
      "Processing text_right with chain_transform of TokenizeUnit => LowercaseUnit => PuncRemovalUnit: 100%|██████████| 18841/18841 [00:04<00:00, 4314.91it/s]\n",
      "Processing text_right with append: 100%|██████████| 18841/18841 [00:00<00:00, 710936.72it/s]\n",
      "Building FrequencyFilterUnit from a datapack.: 100%|██████████| 18841/18841 [00:00<00:00, 102420.35it/s]\n",
      "Processing text_right with transform: 100%|██████████| 18841/18841 [00:00<00:00, 72251.45it/s] \n",
      "Processing text_left with extend: 100%|██████████| 2118/2118 [00:00<00:00, 569566.96it/s]\n",
      "Processing text_right with extend: 100%|██████████| 18841/18841 [00:00<00:00, 610037.61it/s]\n",
      "Building VocabularyUnit from a datapack.: 100%|██████████| 404415/404415 [00:00<00:00, 2102259.30it/s]\n",
      "Processing text_left with chain_transform of TokenizeUnit => LowercaseUnit => PuncRemovalUnit: 100%|██████████| 2118/2118 [00:00<00:00, 8377.25it/s]\n",
      "Processing text_right with chain_transform of TokenizeUnit => LowercaseUnit => PuncRemovalUnit: 100%|██████████| 18841/18841 [00:04<00:00, 4329.35it/s]\n",
      "Processing text_right with transform: 100%|██████████| 18841/18841 [00:00<00:00, 104912.45it/s]\n",
      "Processing text_left with transform: 100%|██████████| 2118/2118 [00:00<00:00, 162824.39it/s]\n",
      "Processing text_right with transform: 100%|██████████| 18841/18841 [00:00<00:00, 112194.68it/s]\n",
      "Processing text_left with transform: 100%|██████████| 2118/2118 [00:00<00:00, 87926.20it/s]\n",
      "Processing text_right with transform: 100%|██████████| 18841/18841 [00:00<00:00, 86032.58it/s]\n",
      "Processing length_left with len: 100%|██████████| 2118/2118 [00:00<00:00, 367726.46it/s]\n",
      "Processing length_right with len: 100%|██████████| 18841/18841 [00:00<00:00, 565303.32it/s]\n"
     ]
    }
   ],
   "source": [
    "preprocessor = mz.preprocessors.BasicPreprocessor(fixed_length_left=10, fixed_length_right=40, remove_stop_words=True)\n",
    "train_pack_processed = preprocessor.fit_transform(train_pack)"
   ]
  },
  {
   "cell_type": "code",
   "execution_count": 4,
   "metadata": {
    "scrolled": false
   },
   "outputs": [
    {
     "name": "stderr",
     "output_type": "stream",
     "text": [
      "Processing text_left with chain_transform of TokenizeUnit => LowercaseUnit => PuncRemovalUnit: 100%|██████████| 122/122 [00:00<00:00, 7538.04it/s]\n",
      "Processing text_right with chain_transform of TokenizeUnit => LowercaseUnit => PuncRemovalUnit: 100%|██████████| 1115/1115 [00:00<00:00, 4229.93it/s]\n",
      "Processing text_right with transform: 100%|██████████| 1115/1115 [00:00<00:00, 110794.81it/s]\n",
      "Processing text_left with transform: 100%|██████████| 122/122 [00:00<00:00, 99572.89it/s]\n",
      "Processing text_right with transform: 100%|██████████| 1115/1115 [00:00<00:00, 115925.06it/s]\n",
      "Processing text_left with transform: 100%|██████████| 122/122 [00:00<00:00, 69724.09it/s]\n",
      "Processing text_right with transform: 100%|██████████| 1115/1115 [00:00<00:00, 86585.37it/s]\n",
      "Processing length_left with len: 100%|██████████| 122/122 [00:00<00:00, 168379.43it/s]\n",
      "Processing length_right with len: 100%|██████████| 1115/1115 [00:00<00:00, 471626.56it/s]\n",
      "Processing text_left with chain_transform of TokenizeUnit => LowercaseUnit => PuncRemovalUnit: 100%|██████████| 237/237 [00:00<00:00, 8518.65it/s]\n",
      "Processing text_right with chain_transform of TokenizeUnit => LowercaseUnit => PuncRemovalUnit: 100%|██████████| 2300/2300 [00:00<00:00, 4507.65it/s]\n",
      "Processing text_right with transform: 100%|██████████| 2300/2300 [00:00<00:00, 16101.46it/s]\n",
      "Processing text_left with transform: 100%|██████████| 237/237 [00:00<00:00, 127950.84it/s]\n",
      "Processing text_right with transform: 100%|██████████| 2300/2300 [00:00<00:00, 112909.79it/s]\n",
      "Processing text_left with transform: 100%|██████████| 237/237 [00:00<00:00, 83688.34it/s]\n",
      "Processing text_right with transform: 100%|██████████| 2300/2300 [00:00<00:00, 84096.69it/s]\n",
      "Processing length_left with len: 100%|██████████| 237/237 [00:00<00:00, 248885.84it/s]\n",
      "Processing length_right with len: 100%|██████████| 2300/2300 [00:00<00:00, 564245.14it/s]\n"
     ]
    }
   ],
   "source": [
    "valid_pack_processed = preprocessor.transform(valid_pack)\n",
    "predict_pack_processed = preprocessor.transform(predict_pack)"
   ]
  },
  {
   "cell_type": "code",
   "execution_count": 5,
   "metadata": {},
   "outputs": [],
   "source": [
    "ranking_task = mz.tasks.Ranking(loss=mz.losses.RankHingeLoss())\n",
    "ranking_task.metrics = [\n",
    "    mz.metrics.NormalizedDiscountedCumulativeGain(k=3),\n",
    "    mz.metrics.NormalizedDiscountedCumulativeGain(k=5),\n",
    "    mz.metrics.MeanAveragePrecision()\n",
    "]"
   ]
  },
  {
   "cell_type": "code",
   "execution_count": 6,
   "metadata": {
    "scrolled": false
   },
   "outputs": [
    {
     "name": "stdout",
     "output_type": "stream",
     "text": [
      "Parameter \"name\" set to MatchPyramid.\n",
      "__________________________________________________________________________________________________\n",
      "Layer (type)                    Output Shape         Param #     Connected to                     \n",
      "==================================================================================================\n",
      "text_left (InputLayer)          (None, 10)           0                                            \n",
      "__________________________________________________________________________________________________\n",
      "text_right (InputLayer)         (None, 40)           0                                            \n",
      "__________________________________________________________________________________________________\n",
      "embedding (Embedding)           multiple             5002200     text_left[0][0]                  \n",
      "                                                                 text_right[0][0]                 \n",
      "__________________________________________________________________________________________________\n",
      "matching_layer_1 (MatchingLayer (None, 10, 40, 1)    0           embedding[0][0]                  \n",
      "                                                                 embedding[1][0]                  \n",
      "__________________________________________________________________________________________________\n",
      "conv2d_1 (Conv2D)               (None, 10, 40, 16)   160         matching_layer_1[0][0]           \n",
      "__________________________________________________________________________________________________\n",
      "conv2d_2 (Conv2D)               (None, 10, 40, 32)   4640        conv2d_1[0][0]                   \n",
      "__________________________________________________________________________________________________\n",
      "dpool_index (InputLayer)        (None, 10, 40, 3)    0                                            \n",
      "__________________________________________________________________________________________________\n",
      "dynamic_pooling_layer_1 (Dynami (None, 3, 10, 32)    0           conv2d_2[0][0]                   \n",
      "                                                                 dpool_index[0][0]                \n",
      "__________________________________________________________________________________________________\n",
      "flatten_1 (Flatten)             (None, 960)          0           dynamic_pooling_layer_1[0][0]    \n",
      "__________________________________________________________________________________________________\n",
      "dropout_1 (Dropout)             (None, 960)          0           flatten_1[0][0]                  \n",
      "__________________________________________________________________________________________________\n",
      "dense_1 (Dense)                 (None, 1)            961         dropout_1[0][0]                  \n",
      "==================================================================================================\n",
      "Total params: 5,007,961\n",
      "Trainable params: 5,007,961\n",
      "Non-trainable params: 0\n",
      "__________________________________________________________________________________________________\n"
     ]
    }
   ],
   "source": [
    "model = mz.models.MatchPyramid()\n",
    "model.params['input_shapes'] = preprocessor.context['input_shapes']\n",
    "model.params['task'] = ranking_task\n",
    "model.params['embedding_input_dim'] = preprocessor.context['vocab_size'] + 1\n",
    "model.params['embedding_output_dim'] = 300\n",
    "model.params['embedding_trainable'] = True\n",
    "model.params['num_blocks'] = 2\n",
    "model.params['kernel_count'] = [16, 32]\n",
    "model.params['kernel_size'] = [[3, 3], [3, 3]]\n",
    "model.params['dpool_size'] = [3, 10]\n",
    "model.params['optimizer'] = 'adam'\n",
    "model.params['dropout_rate'] = 0.1\n",
    "model.guess_and_fill_missing_params()\n",
    "model.build()\n",
    "model.compile()\n",
    "model.backend.summary()"
   ]
  },
  {
   "cell_type": "code",
   "execution_count": 7,
   "metadata": {},
   "outputs": [],
   "source": [
    "glove_embedding = mz.datasets.embeddings.load_glove_embedding(dimension=300)\n",
    "embedding_matrix = glove_embedding.build_matrix(preprocessor.context['vocab_unit'].state['term_index'])"
   ]
  },
  {
   "cell_type": "code",
   "execution_count": 8,
   "metadata": {},
   "outputs": [],
   "source": [
    "model.load_embedding_matrix(embedding_matrix)"
   ]
  },
  {
   "cell_type": "code",
   "execution_count": 9,
   "metadata": {},
   "outputs": [
    {
     "data": {
      "text/plain": [
       "102"
      ]
     },
     "execution_count": 9,
     "metadata": {},
     "output_type": "execute_result"
    }
   ],
   "source": [
    "train_generator = mz.DPoolPairDataGenerator(train_pack_processed,\n",
    "                                            fixed_length_left=10,\n",
    "                                            fixed_length_right=40,\n",
    "                                            num_dup=2,\n",
    "                                            num_neg=1,\n",
    "                                            batch_size=20)\n",
    "len(train_generator)"
   ]
  },
  {
   "cell_type": "code",
   "execution_count": 10,
   "metadata": {},
   "outputs": [
    {
     "data": {
      "text/plain": [
       "118"
      ]
     },
     "execution_count": 10,
     "metadata": {},
     "output_type": "execute_result"
    }
   ],
   "source": [
    "predict_generator = mz.DPoolDataGenerator(predict_pack_processed,\n",
    "                                          fixed_length_left=10,\n",
    "                                          fixed_length_right=40,\n",
    "                                          batch_size=20)\n",
    "len(predict_generator)"
   ]
  },
  {
   "cell_type": "code",
   "execution_count": 11,
   "metadata": {},
   "outputs": [],
   "source": [
    "pred_x, pred_y = predict_generator[:]\n",
    "evaluate = mz.callbacks.EvaluateAllMetrics(model, x=pred_x, y=pred_y, batch_size=len(pred_y))"
   ]
  },
  {
   "cell_type": "code",
   "execution_count": 12,
   "metadata": {
    "scrolled": false
   },
   "outputs": [
    {
     "name": "stdout",
     "output_type": "stream",
     "text": [
      "Epoch 1/20\n",
      "102/102 [==============================] - 23s 230ms/step - loss: 0.7675\n",
      "Validation: normalized_discounted_cumulative_gain@3(0): 0.5666880709477722 - normalized_discounted_cumulative_gain@5(0): 0.6347123122214711 - mean_average_precision(0): 0.5849244632869276\n",
      "Epoch 2/20\n",
      "102/102 [==============================] - 22s 220ms/step - loss: 0.3962\n",
      "Validation: normalized_discounted_cumulative_gain@3(0): 0.5740812009556767 - normalized_discounted_cumulative_gain@5(0): 0.643243583254445 - mean_average_precision(0): 0.5979056923205268\n",
      "Epoch 3/20\n",
      "102/102 [==============================] - 22s 217ms/step - loss: 0.2405\n",
      "Validation: normalized_discounted_cumulative_gain@3(0): 0.5906235981391689 - normalized_discounted_cumulative_gain@5(0): 0.6488355555551298 - mean_average_precision(0): 0.5919047037059867\n",
      "Epoch 4/20\n",
      "102/102 [==============================] - 21s 206ms/step - loss: 0.1129\n",
      "Validation: normalized_discounted_cumulative_gain@3(0): 0.5770363843119413 - normalized_discounted_cumulative_gain@5(0): 0.6427309896936864 - mean_average_precision(0): 0.5947970801215696\n",
      "Epoch 5/20\n",
      "102/102 [==============================] - 22s 216ms/step - loss: 0.0552\n",
      "Validation: normalized_discounted_cumulative_gain@3(0): 0.5824597603187135 - normalized_discounted_cumulative_gain@5(0): 0.6424540918932296 - mean_average_precision(0): 0.5937775891422629\n",
      "Epoch 6/20\n",
      "102/102 [==============================] - 22s 214ms/step - loss: 0.0257\n",
      "Validation: normalized_discounted_cumulative_gain@3(0): 0.5835041817039819 - normalized_discounted_cumulative_gain@5(0): 0.640084837941454 - mean_average_precision(0): 0.5930022641722195\n",
      "Epoch 7/20\n",
      "102/102 [==============================] - 21s 207ms/step - loss: 0.0215\n",
      "Validation: normalized_discounted_cumulative_gain@3(0): 0.5796542170715798 - normalized_discounted_cumulative_gain@5(0): 0.6393020105501821 - mean_average_precision(0): 0.5961322266117258\n",
      "Epoch 8/20\n",
      "102/102 [==============================] - 21s 204ms/step - loss: 0.0079\n",
      "Validation: normalized_discounted_cumulative_gain@3(0): 0.5745539557354241 - normalized_discounted_cumulative_gain@5(0): 0.6383514680376767 - mean_average_precision(0): 0.5918280914928395\n",
      "Epoch 9/20\n",
      "102/102 [==============================] - 22s 213ms/step - loss: 0.01110s - loss: 0.0\n",
      "Validation: normalized_discounted_cumulative_gain@3(0): 0.5736094027316403 - normalized_discounted_cumulative_gain@5(0): 0.6328401335813582 - mean_average_precision(0): 0.5814521845576143\n",
      "Epoch 10/20\n",
      "102/102 [==============================] - 21s 204ms/step - loss: 0.0046\n",
      "Validation: normalized_discounted_cumulative_gain@3(0): 0.5732525562053761 - normalized_discounted_cumulative_gain@5(0): 0.6332046039907134 - mean_average_precision(0): 0.5883654279382128\n",
      "Epoch 11/20\n",
      "102/102 [==============================] - 20s 199ms/step - loss: 0.0074\n",
      "Validation: normalized_discounted_cumulative_gain@3(0): 0.565210454577403 - normalized_discounted_cumulative_gain@5(0): 0.6296483738246513 - mean_average_precision(0): 0.5785277912060056\n",
      "Epoch 12/20\n",
      "102/102 [==============================] - 21s 208ms/step - loss: 0.0051\n",
      "Validation: normalized_discounted_cumulative_gain@3(0): 0.5667381676016103 - normalized_discounted_cumulative_gain@5(0): 0.6199141105188963 - mean_average_precision(0): 0.5750420049727863\n",
      "Epoch 13/20\n",
      "102/102 [==============================] - 21s 202ms/step - loss: 0.0044\n",
      "Validation: normalized_discounted_cumulative_gain@3(0): 0.5677385321196093 - normalized_discounted_cumulative_gain@5(0): 0.6246438424722461 - mean_average_precision(0): 0.574254932982267\n",
      "Epoch 14/20\n",
      "102/102 [==============================] - 21s 202ms/step - loss: 0.0040\n",
      "Validation: normalized_discounted_cumulative_gain@3(0): 0.5772262691429013 - normalized_discounted_cumulative_gain@5(0): 0.6482480316058313 - mean_average_precision(0): 0.5943667108423938\n",
      "Epoch 15/20\n",
      "102/102 [==============================] - 21s 204ms/step - loss: 0.0027\n",
      "Validation: normalized_discounted_cumulative_gain@3(0): 0.5719873243387557 - normalized_discounted_cumulative_gain@5(0): 0.6373966178680573 - mean_average_precision(0): 0.5873267526999597\n",
      "Epoch 16/20\n",
      "102/102 [==============================] - 20s 201ms/step - loss: 0.0024\n",
      "Validation: normalized_discounted_cumulative_gain@3(0): 0.566036762288871 - normalized_discounted_cumulative_gain@5(0): 0.6286738363291434 - mean_average_precision(0): 0.583199340355403\n",
      "Epoch 17/20\n",
      "102/102 [==============================] - 19s 189ms/step - loss: 0.0055\n",
      "Validation: normalized_discounted_cumulative_gain@3(0): 0.5684603119138741 - normalized_discounted_cumulative_gain@5(0): 0.6483320795080854 - mean_average_precision(0): 0.5929042328609284\n",
      "Epoch 18/20\n",
      "102/102 [==============================] - 20s 197ms/step - loss: 0.0016\n",
      "Validation: normalized_discounted_cumulative_gain@3(0): 0.5523898751852427 - normalized_discounted_cumulative_gain@5(0): 0.6204671902145351 - mean_average_precision(0): 0.5690328335148456\n",
      "Epoch 19/20\n",
      "102/102 [==============================] - 20s 199ms/step - loss: 0.0013\n",
      "Validation: normalized_discounted_cumulative_gain@3(0): 0.5678635475969602 - normalized_discounted_cumulative_gain@5(0): 0.6344191630990116 - mean_average_precision(0): 0.5849211089245511\n",
      "Epoch 20/20\n",
      "102/102 [==============================] - 19s 189ms/step - loss: 0.0022\n",
      "Validation: normalized_discounted_cumulative_gain@3(0): 0.567041736958115 - normalized_discounted_cumulative_gain@5(0): 0.6333276263157218 - mean_average_precision(0): 0.585173233199549\n"
     ]
    }
   ],
   "source": [
    "history = model.fit_generator(train_generator, epochs=20, callbacks=[evaluate], workers=30, use_multiprocessing=True)"
   ]
  },
  {
   "cell_type": "code",
   "execution_count": null,
   "metadata": {},
   "outputs": [],
   "source": []
  }
 ],
 "metadata": {
  "kernelspec": {
   "display_name": "Python 3",
   "language": "python",
   "name": "python3"
  },
  "language_info": {
   "codemirror_mode": {
    "name": "ipython",
    "version": 3
   },
   "file_extension": ".py",
   "mimetype": "text/x-python",
   "name": "python",
   "nbconvert_exporter": "python",
   "pygments_lexer": "ipython3",
   "version": "3.6.5"
  }
 },
 "nbformat": 4,
 "nbformat_minor": 2
}
