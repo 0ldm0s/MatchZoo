{
 "cells": [
  {
   "cell_type": "code",
   "execution_count": 1,
   "metadata": {
    "ExecuteTime": {
     "end_time": "2019-03-19T08:50:03.481267Z",
     "start_time": "2019-03-19T08:50:01.336261Z"
    }
   },
   "outputs": [
    {
     "name": "stderr",
     "output_type": "stream",
     "text": [
      "Using TensorFlow backend.\n"
     ]
    },
    {
     "name": "stdout",
     "output_type": "stream",
     "text": [
      "matchzoo version 2.1.0\n"
     ]
    }
   ],
   "source": [
    "import keras\n",
    "import pandas as pd\n",
    "import numpy as np\n",
    "import matchzoo as mz\n",
    "import json\n",
    "print('matchzoo version', mz.__version__)"
   ]
  },
  {
   "cell_type": "code",
   "execution_count": 2,
   "metadata": {
    "ExecuteTime": {
     "end_time": "2019-03-19T08:50:04.151265Z",
     "start_time": "2019-03-19T08:50:03.483616Z"
    }
   },
   "outputs": [],
   "source": [
    "train_pack_raw = mz.datasets.wiki_qa.load_data('train', task='ranking')\n",
    "valid_pack_raw = mz.datasets.wiki_qa.load_data('dev', task='ranking', filtered=True)\n",
    "predict_pack_raw = mz.datasets.wiki_qa.load_data('test', task='ranking', filtered=True)"
   ]
  },
  {
   "cell_type": "code",
   "execution_count": 3,
   "metadata": {
    "ExecuteTime": {
     "end_time": "2019-03-19T08:50:04.157626Z",
     "start_time": "2019-03-19T08:50:04.153154Z"
    },
    "collapsed": true
   },
   "outputs": [],
   "source": [
    "ranking_task = mz.tasks.Ranking(loss=mz.losses.RankHingeLoss())\n",
    "ranking_task.metrics = [\n",
    "    mz.metrics.NormalizedDiscountedCumulativeGain(k=3),\n",
    "    mz.metrics.NormalizedDiscountedCumulativeGain(k=5),\n",
    "    mz.metrics.MeanAveragePrecision()\n",
    "]"
   ]
  },
  {
   "cell_type": "code",
   "execution_count": 4,
   "metadata": {
    "ExecuteTime": {
     "end_time": "2019-03-19T08:50:16.029255Z",
     "start_time": "2019-03-19T08:50:04.163095Z"
    },
    "collapsed": true
   },
   "outputs": [],
   "source": [
    "glove_embedding = mz.datasets.embeddings.load_glove_embedding(dimension=100)"
   ]
  },
  {
   "cell_type": "code",
   "execution_count": 5,
   "metadata": {
    "ExecuteTime": {
     "end_time": "2019-03-19T08:50:16.052136Z",
     "start_time": "2019-03-19T08:50:16.034599Z"
    },
    "collapsed": true
   },
   "outputs": [],
   "source": [
    "def append_params_to_readme(model):\n",
    "    import tabulate\n",
    "    \n",
    "    with open('README.rst', 'a+') as f:\n",
    "        subtitle = model.params['model_class'].__name__\n",
    "        line = '#' * len(subtitle)\n",
    "        subtitle = subtitle + '\\n' + line + '\\n\\n'\n",
    "        f.write(subtitle)\n",
    "        \n",
    "        df = model.params.to_frame()[['Name', 'Value']]\n",
    "        table = tabulate.tabulate(df, tablefmt='rst', headers='keys') + '\\n\\n'\n",
    "        f.write(table)"
   ]
  }
 ],
 "metadata": {
  "hide_input": false,
  "kernelspec": {
   "display_name": "matchzoo",
   "language": "python",
   "name": "matchzoo"
  },
  "language_info": {
   "codemirror_mode": {
    "name": "ipython",
    "version": 3
   },
   "file_extension": ".py",
   "mimetype": "text/x-python",
   "name": "python",
   "nbconvert_exporter": "python",
   "pygments_lexer": "ipython3",
   "version": "3.6.3"
  },
  "toc": {
   "nav_menu": {},
   "number_sections": true,
   "sideBar": true,
   "skip_h1_title": false,
   "toc_cell": false,
   "toc_position": {},
   "toc_section_display": "block",
   "toc_window_display": false
  },
  "varInspector": {
   "cols": {
    "lenName": 16,
    "lenType": 16,
    "lenVar": 40
   },
   "kernels_config": {
    "python": {
     "delete_cmd_postfix": "",
     "delete_cmd_prefix": "del ",
     "library": "var_list.py",
     "varRefreshCmd": "print(var_dic_list())"
    },
    "r": {
     "delete_cmd_postfix": ") ",
     "delete_cmd_prefix": "rm(",
     "library": "var_list.r",
     "varRefreshCmd": "cat(var_dic_list()) "
    }
   },
   "types_to_exclude": [
    "module",
    "function",
    "builtin_function_or_method",
    "instance",
    "_Feature"
   ],
   "window_display": false
  }
 },
 "nbformat": 4,
 "nbformat_minor": 2
}
