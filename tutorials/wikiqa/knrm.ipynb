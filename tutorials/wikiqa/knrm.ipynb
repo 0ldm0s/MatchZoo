{
 "cells": [
  {
   "cell_type": "code",
   "execution_count": 1,
   "metadata": {},
   "outputs": [
    {
     "name": "stderr",
     "output_type": "stream",
     "text": [
      "Using TensorFlow backend.\n",
      "/data/users/fyx/.local/python3/lib/python3.6/importlib/_bootstrap.py:219: RuntimeWarning: numpy.dtype size changed, may indicate binary incompatibility. Expected 96, got 88\n",
      "  return f(*args, **kwds)\n",
      "/data/users/fyx/.local/python3/lib/python3.6/importlib/_bootstrap.py:219: RuntimeWarning: numpy.dtype size changed, may indicate binary incompatibility. Expected 96, got 88\n",
      "  return f(*args, **kwds)\n"
     ]
    }
   ],
   "source": [
    "import keras\n",
    "import pandas as pd\n",
    "import numpy as np\n",
    "import matchzoo as mz"
   ]
  },
  {
   "cell_type": "code",
   "execution_count": 2,
   "metadata": {},
   "outputs": [],
   "source": [
    "train_pack = mz.datasets.wiki_qa.load_data('train', task='ranking')\n",
    "valid_pack = mz.datasets.wiki_qa.load_data('dev', task='ranking', filter=True)\n",
    "predict_pack = mz.datasets.wiki_qa.load_data('test', task='ranking', filter=True)"
   ]
  },
  {
   "cell_type": "code",
   "execution_count": 3,
   "metadata": {},
   "outputs": [
    {
     "name": "stderr",
     "output_type": "stream",
     "text": [
      "Processing text_left with chain_transform of TokenizeUnit => LowercaseUnit => PuncRemovalUnit: 100%|██████████| 2118/2118 [00:00<00:00, 8135.23it/s]\n",
      "Processing text_right with chain_transform of TokenizeUnit => LowercaseUnit => PuncRemovalUnit: 100%|██████████| 18841/18841 [00:04<00:00, 4405.53it/s]\n",
      "Processing text_right with append: 100%|██████████| 18841/18841 [00:00<00:00, 713871.69it/s]\n",
      "Building FrequencyFilterUnit from a datapack.: 100%|██████████| 18841/18841 [00:00<00:00, 102500.99it/s]\n",
      "Processing text_right with transform: 100%|██████████| 18841/18841 [00:00<00:00, 62071.73it/s] \n",
      "Processing text_left with extend: 100%|██████████| 2118/2118 [00:00<00:00, 511606.53it/s]\n",
      "Processing text_right with extend: 100%|██████████| 18841/18841 [00:00<00:00, 581509.99it/s]\n",
      "Building VocabularyUnit from a datapack.: 100%|██████████| 404415/404415 [00:00<00:00, 2481732.65it/s]\n",
      "Processing text_left with chain_transform of TokenizeUnit => LowercaseUnit => PuncRemovalUnit: 100%|██████████| 2118/2118 [00:00<00:00, 7851.27it/s]\n",
      "Processing text_right with chain_transform of TokenizeUnit => LowercaseUnit => PuncRemovalUnit: 100%|██████████| 18841/18841 [00:04<00:00, 4402.81it/s]\n",
      "Processing text_right with transform: 100%|██████████| 18841/18841 [00:00<00:00, 104229.30it/s]\n",
      "Processing text_left with transform: 100%|██████████| 2118/2118 [00:00<00:00, 171888.39it/s]\n",
      "Processing text_right with transform: 100%|██████████| 18841/18841 [00:00<00:00, 110096.09it/s]\n",
      "Processing length_left with len: 100%|██████████| 2118/2118 [00:00<00:00, 519565.79it/s]\n",
      "Processing length_right with len: 100%|██████████| 18841/18841 [00:00<00:00, 531634.98it/s]\n",
      "Processing text_left with transform: 100%|██████████| 2118/2118 [00:00<00:00, 93022.29it/s]\n",
      "Processing text_right with transform: 100%|██████████| 18841/18841 [00:00<00:00, 86206.96it/s]\n"
     ]
    }
   ],
   "source": [
    "preprocessor = mz.preprocessors.BasicPreprocessor(fixed_length_left=10, fixed_length_right=40, remove_stop_words=True)\n",
    "train_pack_processed = preprocessor.fit_transform(train_pack)"
   ]
  },
  {
   "cell_type": "code",
   "execution_count": 4,
   "metadata": {
    "scrolled": false
   },
   "outputs": [
    {
     "name": "stderr",
     "output_type": "stream",
     "text": [
      "Processing text_left with chain_transform of TokenizeUnit => LowercaseUnit => PuncRemovalUnit: 100%|██████████| 122/122 [00:00<00:00, 7749.00it/s]\n",
      "Processing text_right with chain_transform of TokenizeUnit => LowercaseUnit => PuncRemovalUnit: 100%|██████████| 1115/1115 [00:00<00:00, 4704.34it/s]\n",
      "Processing text_right with transform: 100%|██████████| 1115/1115 [00:00<00:00, 113033.52it/s]\n",
      "Processing text_left with transform: 100%|██████████| 122/122 [00:00<00:00, 98178.26it/s]\n",
      "Processing text_right with transform: 100%|██████████| 1115/1115 [00:00<00:00, 118558.26it/s]\n",
      "Processing length_left with len: 100%|██████████| 122/122 [00:00<00:00, 149840.44it/s]\n",
      "Processing length_right with len: 100%|██████████| 1115/1115 [00:00<00:00, 469826.10it/s]\n",
      "Processing text_left with transform: 100%|██████████| 122/122 [00:00<00:00, 66828.40it/s]\n",
      "Processing text_right with transform: 100%|██████████| 1115/1115 [00:00<00:00, 89713.00it/s]\n",
      "Processing text_left with chain_transform of TokenizeUnit => LowercaseUnit => PuncRemovalUnit: 100%|██████████| 237/237 [00:00<00:00, 8749.36it/s]\n",
      "Processing text_right with chain_transform of TokenizeUnit => LowercaseUnit => PuncRemovalUnit: 100%|██████████| 2300/2300 [00:00<00:00, 4406.15it/s]\n",
      "Processing text_right with transform: 100%|██████████| 2300/2300 [00:00<00:00, 14006.75it/s]\n",
      "Processing text_left with transform: 100%|██████████| 237/237 [00:00<00:00, 131557.71it/s]\n",
      "Processing text_right with transform: 100%|██████████| 2300/2300 [00:00<00:00, 121755.09it/s]\n",
      "Processing length_left with len: 100%|██████████| 237/237 [00:00<00:00, 241040.26it/s]\n",
      "Processing length_right with len: 100%|██████████| 2300/2300 [00:00<00:00, 543089.52it/s]\n",
      "Processing text_left with transform: 100%|██████████| 237/237 [00:00<00:00, 87728.36it/s]\n",
      "Processing text_right with transform: 100%|██████████| 2300/2300 [00:00<00:00, 93213.96it/s]\n"
     ]
    }
   ],
   "source": [
    "valid_pack_processed = preprocessor.transform(valid_pack)\n",
    "predict_pack_processed = preprocessor.transform(predict_pack)"
   ]
  },
  {
   "cell_type": "code",
   "execution_count": 5,
   "metadata": {},
   "outputs": [],
   "source": [
    "ranking_task = mz.tasks.Ranking(loss=mz.losses.RankHingeLoss())\n",
    "ranking_task.metrics = [\n",
    "    mz.metrics.NormalizedDiscountedCumulativeGain(k=3),\n",
    "    mz.metrics.NormalizedDiscountedCumulativeGain(k=5),\n",
    "    mz.metrics.MeanAveragePrecision()\n",
    "]"
   ]
  },
  {
   "cell_type": "code",
   "execution_count": 6,
   "metadata": {
    "scrolled": false
   },
   "outputs": [
    {
     "name": "stdout",
     "output_type": "stream",
     "text": [
      "Parameter \"name\" set to KNRM.\n"
     ]
    }
   ],
   "source": [
    "model = mz.models.KNRM()\n",
    "model.params['input_shapes'] = preprocessor.context['input_shapes']\n",
    "model.params['task'] = ranking_task\n",
    "model.params['embedding_input_dim'] = preprocessor.context['vocab_size'] + 1\n",
    "model.params['embedding_output_dim'] = 300\n",
    "model.params['embedding_trainable'] = True\n",
    "model.params['kernel_num'] = 21\n",
    "model.params['sigma'] = 0.1\n",
    "model.params['exact_sigma'] = 0.001\n",
    "model.params['optimizer'] = 'adadelta'\n",
    "model.guess_and_fill_missing_params()\n",
    "model.build()\n",
    "model.compile()\n",
    "#model.backend.summary()"
   ]
  },
  {
   "cell_type": "code",
   "execution_count": 7,
   "metadata": {},
   "outputs": [],
   "source": [
    "glove_embedding = mz.datasets.embeddings.load_glove_embedding(dimension=300)\n",
    "embedding_matrix = glove_embedding.build_matrix(preprocessor.context['vocab_unit'].state['term_index'])"
   ]
  },
  {
   "cell_type": "code",
   "execution_count": 8,
   "metadata": {},
   "outputs": [],
   "source": [
    "model.load_embedding_matrix(embedding_matrix)"
   ]
  },
  {
   "cell_type": "code",
   "execution_count": 9,
   "metadata": {},
   "outputs": [],
   "source": [
    "pred_x, pred_y = predict_pack_processed[:].unpack()\n",
    "evaluate = mz.callbacks.EvaluateAllMetrics(model, x=pred_x, y=pred_y, batch_size=len(pred_x))"
   ]
  },
  {
   "cell_type": "code",
   "execution_count": 10,
   "metadata": {},
   "outputs": [
    {
     "data": {
      "text/plain": [
       "102"
      ]
     },
     "execution_count": 10,
     "metadata": {},
     "output_type": "execute_result"
    }
   ],
   "source": [
    "train_generator = mz.PairDataGenerator(train_pack_processed, num_dup=2, num_neg=1, batch_size=20)\n",
    "len(train_generator)"
   ]
  },
  {
   "cell_type": "code",
   "execution_count": 11,
   "metadata": {
    "scrolled": false
   },
   "outputs": [
    {
     "name": "stdout",
     "output_type": "stream",
     "text": [
      "Epoch 1/30\n",
      "102/102 [==============================] - 15s 150ms/step - loss: 1.1018\n",
      "Validation: normalized_discounted_cumulative_gain@3(0): 0.5088110380270743 - normalized_discounted_cumulative_gain@5(0): 0.5609575028401258 - mean_average_precision(0): 0.5293624489288165\n",
      "Epoch 2/30\n",
      "102/102 [==============================] - 11s 107ms/step - loss: 0.7013\n",
      "Validation: normalized_discounted_cumulative_gain@3(0): 0.5287530459670624 - normalized_discounted_cumulative_gain@5(0): 0.5984175665664098 - mean_average_precision(0): 0.556070389167932\n",
      "Epoch 3/30\n",
      "102/102 [==============================] - 15s 144ms/step - loss: 0.5499\n",
      "Validation: normalized_discounted_cumulative_gain@3(0): 0.5316436848959096 - normalized_discounted_cumulative_gain@5(0): 0.5821022692829158 - mean_average_precision(0): 0.5479164974045838\n",
      "Epoch 4/30\n",
      "102/102 [==============================] - 15s 150ms/step - loss: 0.4590\n",
      "Validation: normalized_discounted_cumulative_gain@3(0): 0.5380433830339463 - normalized_discounted_cumulative_gain@5(0): 0.596972956991773 - mean_average_precision(0): 0.5569647062132463\n",
      "Epoch 5/30\n",
      "102/102 [==============================] - 16s 157ms/step - loss: 0.3935\n",
      "Validation: normalized_discounted_cumulative_gain@3(0): 0.5420343042467507 - normalized_discounted_cumulative_gain@5(0): 0.5897827406499071 - mean_average_precision(0): 0.5536636996234602\n",
      "Epoch 6/30\n",
      "102/102 [==============================] - 13s 128ms/step - loss: 0.3386\n",
      "Validation: normalized_discounted_cumulative_gain@3(0): 0.5528170303837746 - normalized_discounted_cumulative_gain@5(0): 0.5984289796333203 - mean_average_precision(0): 0.5686563764206448\n",
      "Epoch 7/30\n",
      "102/102 [==============================] - 15s 151ms/step - loss: 0.2906\n",
      "Validation: normalized_discounted_cumulative_gain@3(0): 0.5402871609920415 - normalized_discounted_cumulative_gain@5(0): 0.5906242919534924 - mean_average_precision(0): 0.5524347774949334\n",
      "Epoch 8/30\n",
      "102/102 [==============================] - 15s 149ms/step - loss: 0.2504\n",
      "Validation: normalized_discounted_cumulative_gain@3(0): 0.5490588330814455 - normalized_discounted_cumulative_gain@5(0): 0.5958826380917429 - mean_average_precision(0): 0.5627542364091187\n",
      "Epoch 9/30\n",
      "102/102 [==============================] - 16s 152ms/step - loss: 0.2126\n",
      "Validation: normalized_discounted_cumulative_gain@3(0): 0.5271527366162283 - normalized_discounted_cumulative_gain@5(0): 0.5835079503117444 - mean_average_precision(0): 0.5459727902759346\n",
      "Epoch 10/30\n",
      "102/102 [==============================] - 16s 156ms/step - loss: 0.1800\n",
      "Validation: normalized_discounted_cumulative_gain@3(0): 0.5380785939093913 - normalized_discounted_cumulative_gain@5(0): 0.5835965516786231 - mean_average_precision(0): 0.5467553276047613\n",
      "Epoch 11/30\n",
      "102/102 [==============================] - 13s 132ms/step - loss: 0.1492\n",
      "Validation: normalized_discounted_cumulative_gain@3(0): 0.5325419570722136 - normalized_discounted_cumulative_gain@5(0): 0.5796984954132818 - mean_average_precision(0): 0.543692538015073\n",
      "Epoch 12/30\n",
      "102/102 [==============================] - 15s 144ms/step - loss: 0.1223\n",
      "Validation: normalized_discounted_cumulative_gain@3(0): 0.5258899403251159 - normalized_discounted_cumulative_gain@5(0): 0.5761692108697924 - mean_average_precision(0): 0.5392167237105171\n",
      "Epoch 13/30\n",
      "102/102 [==============================] - 16s 153ms/step - loss: 0.1036\n",
      "Validation: normalized_discounted_cumulative_gain@3(0): 0.5252225917942163 - normalized_discounted_cumulative_gain@5(0): 0.5785398860164369 - mean_average_precision(0): 0.5377772587820056\n",
      "Epoch 14/30\n",
      "102/102 [==============================] - 16s 156ms/step - loss: 0.0842\n",
      "Validation: normalized_discounted_cumulative_gain@3(0): 0.5211225325129636 - normalized_discounted_cumulative_gain@5(0): 0.5725146858056257 - mean_average_precision(0): 0.5323222024934608\n",
      "Epoch 15/30\n",
      "102/102 [==============================] - 15s 151ms/step - loss: 0.0684\n",
      "Validation: normalized_discounted_cumulative_gain@3(0): 0.5207384282415167 - normalized_discounted_cumulative_gain@5(0): 0.5713383648683773 - mean_average_precision(0): 0.5317792293049869\n",
      "Epoch 16/30\n",
      "102/102 [==============================] - 15s 150ms/step - loss: 0.0547\n",
      "Validation: normalized_discounted_cumulative_gain@3(0): 0.5130078345583637 - normalized_discounted_cumulative_gain@5(0): 0.5653885646741564 - mean_average_precision(0): 0.5257515181379664\n",
      "Epoch 17/30\n",
      "102/102 [==============================] - 16s 152ms/step - loss: 0.0429\n",
      "Validation: normalized_discounted_cumulative_gain@3(0): 0.5205451510470657 - normalized_discounted_cumulative_gain@5(0): 0.5733079592530061 - mean_average_precision(0): 0.5335387599046386\n",
      "Epoch 18/30\n",
      "102/102 [==============================] - 15s 147ms/step - loss: 0.0344\n",
      "Validation: normalized_discounted_cumulative_gain@3(0): 0.5146150765573289 - normalized_discounted_cumulative_gain@5(0): 0.5673296273939268 - mean_average_precision(0): 0.5264662262498265\n",
      "Epoch 19/30\n",
      "102/102 [==============================] - 16s 155ms/step - loss: 0.0261\n",
      "Validation: normalized_discounted_cumulative_gain@3(0): 0.5088031979754343 - normalized_discounted_cumulative_gain@5(0): 0.5596115656655791 - mean_average_precision(0): 0.5217759229649587\n",
      "Epoch 20/30\n",
      "102/102 [==============================] - 15s 149ms/step - loss: 0.0192\n",
      "Validation: normalized_discounted_cumulative_gain@3(0): 0.5079767278008704 - normalized_discounted_cumulative_gain@5(0): 0.5588364270729939 - mean_average_precision(0): 0.5235734424974932\n",
      "Epoch 21/30\n",
      "102/102 [==============================] - 16s 158ms/step - loss: 0.0137\n",
      "Validation: normalized_discounted_cumulative_gain@3(0): 0.504725702061119 - normalized_discounted_cumulative_gain@5(0): 0.5640962709077003 - mean_average_precision(0): 0.5267449064545118\n",
      "Epoch 22/30\n",
      "102/102 [==============================] - 15s 142ms/step - loss: 0.0100\n",
      "Validation: normalized_discounted_cumulative_gain@3(0): 0.5008462414136486 - normalized_discounted_cumulative_gain@5(0): 0.5575870965530025 - mean_average_precision(0): 0.5163369216584964\n",
      "Epoch 23/30\n",
      "102/102 [==============================] - 15s 152ms/step - loss: 0.0076\n",
      "Validation: normalized_discounted_cumulative_gain@3(0): 0.5093736467932013 - normalized_discounted_cumulative_gain@5(0): 0.5643428838065209 - mean_average_precision(0): 0.5276703288989216\n",
      "Epoch 24/30\n",
      "102/102 [==============================] - 16s 155ms/step - loss: 0.0053\n",
      "Validation: normalized_discounted_cumulative_gain@3(0): 0.49261208037897875 - normalized_discounted_cumulative_gain@5(0): 0.5455474763658247 - mean_average_precision(0): 0.5089153950727852\n",
      "Epoch 25/30\n",
      "102/102 [==============================] - 15s 147ms/step - loss: 0.0030\n",
      "Validation: normalized_discounted_cumulative_gain@3(0): 0.5000198206235583 - normalized_discounted_cumulative_gain@5(0): 0.5557133542628243 - mean_average_precision(0): 0.5156401415522786\n",
      "Epoch 26/30\n",
      "102/102 [==============================] - 15s 146ms/step - loss: 0.0023\n",
      "Validation: normalized_discounted_cumulative_gain@3(0): 0.5051440749619749 - normalized_discounted_cumulative_gain@5(0): 0.5580803669942844 - mean_average_precision(0): 0.5204867641390352\n",
      "Epoch 27/30\n",
      "102/102 [==============================] - 15s 146ms/step - loss: 0.0012\n",
      "Validation: normalized_discounted_cumulative_gain@3(0): 0.5048201168142699 - normalized_discounted_cumulative_gain@5(0): 0.5546456000132908 - mean_average_precision(0): 0.5200117571371294\n",
      "Epoch 28/30\n",
      "102/102 [==============================] - 14s 136ms/step - loss: 9.5950e-04\n",
      "Validation: normalized_discounted_cumulative_gain@3(0): 0.5091497688745503 - normalized_discounted_cumulative_gain@5(0): 0.5552547626180049 - mean_average_precision(0): 0.5237370183386564\n",
      "Epoch 29/30\n",
      "102/102 [==============================] - 16s 154ms/step - loss: 3.2334e-04\n",
      "Validation: normalized_discounted_cumulative_gain@3(0): 0.5047416925486439 - normalized_discounted_cumulative_gain@5(0): 0.5571408149502872 - mean_average_precision(0): 0.5219183494313799\n",
      "Epoch 30/30\n",
      "102/102 [==============================] - 15s 147ms/step - loss: 1.3753e-04\n",
      "Validation: normalized_discounted_cumulative_gain@3(0): 0.49685532020084416 - normalized_discounted_cumulative_gain@5(0): 0.5507118720050621 - mean_average_precision(0): 0.5182872390150871\n"
     ]
    }
   ],
   "source": [
    "history = model.fit_generator(train_generator, epochs=30, callbacks=[evaluate], workers=30, use_multiprocessing=True)"
   ]
  }
 ],
 "metadata": {
  "kernelspec": {
   "display_name": "Python 3",
   "language": "python",
   "name": "python3"
  },
  "language_info": {
   "codemirror_mode": {
    "name": "ipython",
    "version": 3
   },
   "file_extension": ".py",
   "mimetype": "text/x-python",
   "name": "python",
   "nbconvert_exporter": "python",
   "pygments_lexer": "ipython3",
   "version": "3.6.5"
  }
 },
 "nbformat": 4,
 "nbformat_minor": 2
}
