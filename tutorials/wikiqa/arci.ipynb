{
 "cells": [
  {
   "cell_type": "code",
   "execution_count": 1,
   "metadata": {},
   "outputs": [
    {
     "name": "stderr",
     "output_type": "stream",
     "text": [
      "Using TensorFlow backend.\n",
      "/data/users/fyx/.local/python3/lib/python3.6/importlib/_bootstrap.py:219: RuntimeWarning: numpy.dtype size changed, may indicate binary incompatibility. Expected 96, got 88\n",
      "  return f(*args, **kwds)\n",
      "/data/users/fyx/.local/python3/lib/python3.6/importlib/_bootstrap.py:219: RuntimeWarning: numpy.dtype size changed, may indicate binary incompatibility. Expected 96, got 88\n",
      "  return f(*args, **kwds)\n"
     ]
    }
   ],
   "source": [
    "import keras\n",
    "import pandas as pd\n",
    "import numpy as np\n",
    "import matchzoo as mz"
   ]
  },
  {
   "cell_type": "code",
   "execution_count": 2,
   "metadata": {},
   "outputs": [],
   "source": [
    "train_pack = mz.datasets.wiki_qa.load_data('train', task='ranking')\n",
    "valid_pack = mz.datasets.wiki_qa.load_data('dev', task='ranking', filter=True)\n",
    "predict_pack = mz.datasets.wiki_qa.load_data('test', task='ranking', filter=True)"
   ]
  },
  {
   "cell_type": "code",
   "execution_count": 3,
   "metadata": {},
   "outputs": [
    {
     "name": "stderr",
     "output_type": "stream",
     "text": [
      "Processing text_left with chain_transform of TokenizeUnit => LowercaseUnit => PuncRemovalUnit: 100%|██████████| 2118/2118 [00:00<00:00, 8175.79it/s]\n",
      "Processing text_right with chain_transform of TokenizeUnit => LowercaseUnit => PuncRemovalUnit: 100%|██████████| 18841/18841 [00:04<00:00, 4359.82it/s]\n",
      "Processing text_right with append: 100%|██████████| 18841/18841 [00:00<00:00, 692314.07it/s]\n",
      "Building FrequencyFilterUnit from a datapack.: 100%|██████████| 18841/18841 [00:00<00:00, 111334.17it/s]\n",
      "Processing text_right with transform: 100%|██████████| 18841/18841 [00:00<00:00, 63633.73it/s] \n",
      "Processing text_left with extend: 100%|██████████| 2118/2118 [00:00<00:00, 481910.38it/s]\n",
      "Processing text_right with extend: 100%|██████████| 18841/18841 [00:00<00:00, 631204.28it/s]\n",
      "Building VocabularyUnit from a datapack.: 100%|██████████| 404415/404415 [00:00<00:00, 2565011.37it/s]\n",
      "Processing text_left with chain_transform of TokenizeUnit => LowercaseUnit => PuncRemovalUnit: 100%|██████████| 2118/2118 [00:00<00:00, 8240.41it/s]\n",
      "Processing text_right with chain_transform of TokenizeUnit => LowercaseUnit => PuncRemovalUnit: 100%|██████████| 18841/18841 [00:04<00:00, 4337.42it/s]\n",
      "Processing text_right with transform: 100%|██████████| 18841/18841 [00:00<00:00, 105841.10it/s]\n",
      "Processing text_left with transform: 100%|██████████| 2118/2118 [00:00<00:00, 177542.89it/s]\n",
      "Processing text_right with transform: 100%|██████████| 18841/18841 [00:00<00:00, 106572.91it/s]\n",
      "Processing text_left with transform: 100%|██████████| 2118/2118 [00:00<00:00, 112293.46it/s]\n",
      "Processing text_right with transform: 100%|██████████| 18841/18841 [00:00<00:00, 70182.52it/s]\n",
      "Processing length_left with len: 100%|██████████| 2118/2118 [00:00<00:00, 479387.83it/s]\n",
      "Processing length_right with len: 100%|██████████| 18841/18841 [00:00<00:00, 566958.06it/s]\n"
     ]
    }
   ],
   "source": [
    "preprocessor = mz.preprocessors.BasicPreprocessor(fixed_length_left=10, fixed_length_right=100, remove_stop_words=True)\n",
    "train_pack_processed = preprocessor.fit_transform(train_pack)"
   ]
  },
  {
   "cell_type": "code",
   "execution_count": 4,
   "metadata": {
    "scrolled": false
   },
   "outputs": [
    {
     "name": "stderr",
     "output_type": "stream",
     "text": [
      "Processing text_left with chain_transform of TokenizeUnit => LowercaseUnit => PuncRemovalUnit: 100%|██████████| 122/122 [00:00<00:00, 8087.64it/s]\n",
      "Processing text_right with chain_transform of TokenizeUnit => LowercaseUnit => PuncRemovalUnit: 100%|██████████| 1115/1115 [00:00<00:00, 4584.72it/s]\n",
      "Processing text_right with transform: 100%|██████████| 1115/1115 [00:00<00:00, 105261.18it/s]\n",
      "Processing text_left with transform: 100%|██████████| 122/122 [00:00<00:00, 94236.66it/s]\n",
      "Processing text_right with transform: 100%|██████████| 1115/1115 [00:00<00:00, 108944.23it/s]\n",
      "Processing text_left with transform: 100%|██████████| 122/122 [00:00<00:00, 73732.72it/s]\n",
      "Processing text_right with transform: 100%|██████████| 1115/1115 [00:00<00:00, 82973.74it/s]\n",
      "Processing length_left with len: 100%|██████████| 122/122 [00:00<00:00, 155770.19it/s]\n",
      "Processing length_right with len: 100%|██████████| 1115/1115 [00:00<00:00, 456080.45it/s]\n",
      "Processing text_left with chain_transform of TokenizeUnit => LowercaseUnit => PuncRemovalUnit: 100%|██████████| 237/237 [00:00<00:00, 8602.17it/s]\n",
      "Processing text_right with chain_transform of TokenizeUnit => LowercaseUnit => PuncRemovalUnit: 100%|██████████| 2300/2300 [00:00<00:00, 4626.95it/s]\n",
      "Processing text_right with transform: 100%|██████████| 2300/2300 [00:00<00:00, 103301.34it/s]\n",
      "Processing text_left with transform: 100%|██████████| 237/237 [00:00<00:00, 133161.43it/s]\n",
      "Processing text_right with transform: 100%|██████████| 2300/2300 [00:00<00:00, 14238.34it/s]\n",
      "Processing text_left with transform: 100%|██████████| 237/237 [00:00<00:00, 17816.75it/s]\n",
      "Processing text_right with transform: 100%|██████████| 2300/2300 [00:00<00:00, 60074.97it/s]\n",
      "Processing length_left with len: 100%|██████████| 237/237 [00:00<00:00, 242806.56it/s]\n",
      "Processing length_right with len: 100%|██████████| 2300/2300 [00:00<00:00, 536028.18it/s]\n"
     ]
    }
   ],
   "source": [
    "valid_pack_processed = preprocessor.transform(valid_pack)\n",
    "predict_pack_processed = preprocessor.transform(predict_pack)"
   ]
  },
  {
   "cell_type": "code",
   "execution_count": 5,
   "metadata": {},
   "outputs": [],
   "source": [
    "ranking_task = mz.tasks.Ranking(loss=mz.losses.RankHingeLoss())\n",
    "ranking_task.metrics = [\n",
    "    mz.metrics.NormalizedDiscountedCumulativeGain(k=3),\n",
    "    mz.metrics.NormalizedDiscountedCumulativeGain(k=5),\n",
    "    mz.metrics.MeanAveragePrecision()\n",
    "]"
   ]
  },
  {
   "cell_type": "code",
   "execution_count": 6,
   "metadata": {
    "scrolled": false
   },
   "outputs": [
    {
     "name": "stdout",
     "output_type": "stream",
     "text": [
      "Parameter \"name\" set to ArcI.\n",
      "Parameter \"embedding_trainable\" set to True.\n",
      "__________________________________________________________________________________________________\n",
      "Layer (type)                    Output Shape         Param #     Connected to                     \n",
      "==================================================================================================\n",
      "text_left (InputLayer)          (None, 10)           0                                            \n",
      "__________________________________________________________________________________________________\n",
      "text_right (InputLayer)         (None, 100)          0                                            \n",
      "__________________________________________________________________________________________________\n",
      "embedding (Embedding)           multiple             5002200     text_left[0][0]                  \n",
      "                                                                 text_right[0][0]                 \n",
      "__________________________________________________________________________________________________\n",
      "conv1d_1 (Conv1D)               (None, 10, 128)      115328      embedding[0][0]                  \n",
      "__________________________________________________________________________________________________\n",
      "conv1d_2 (Conv1D)               (None, 100, 128)     115328      embedding[1][0]                  \n",
      "__________________________________________________________________________________________________\n",
      "max_pooling1d_1 (MaxPooling1D)  (None, 2, 128)       0           conv1d_1[0][0]                   \n",
      "__________________________________________________________________________________________________\n",
      "max_pooling1d_2 (MaxPooling1D)  (None, 25, 128)      0           conv1d_2[0][0]                   \n",
      "__________________________________________________________________________________________________\n",
      "flatten_1 (Flatten)             (None, 256)          0           max_pooling1d_1[0][0]            \n",
      "__________________________________________________________________________________________________\n",
      "flatten_2 (Flatten)             (None, 3200)         0           max_pooling1d_2[0][0]            \n",
      "__________________________________________________________________________________________________\n",
      "concatenate_1 (Concatenate)     (None, 3456)         0           flatten_1[0][0]                  \n",
      "                                                                 flatten_2[0][0]                  \n",
      "__________________________________________________________________________________________________\n",
      "dropout_1 (Dropout)             (None, 3456)         0           concatenate_1[0][0]              \n",
      "__________________________________________________________________________________________________\n",
      "dense_1 (Dense)                 (None, 100)          345700      dropout_1[0][0]                  \n",
      "__________________________________________________________________________________________________\n",
      "dense_2 (Dense)                 (None, 1)            101         dense_1[0][0]                    \n",
      "__________________________________________________________________________________________________\n",
      "dense_3 (Dense)                 (None, 1)            2           dense_2[0][0]                    \n",
      "==================================================================================================\n",
      "Total params: 5,578,659\n",
      "Trainable params: 5,578,659\n",
      "Non-trainable params: 0\n",
      "__________________________________________________________________________________________________\n"
     ]
    }
   ],
   "source": [
    "model = mz.models.ArcI()\n",
    "model.params['input_shapes'] = preprocessor.context['input_shapes']\n",
    "model.params['task'] = ranking_task\n",
    "model.params['embedding_input_dim'] = preprocessor.context['vocab_size'] + 1\n",
    "model.params['embedding_output_dim'] = 300\n",
    "model.params['num_blocks'] = 1\n",
    "model.params['left_filters'] = [128]\n",
    "model.params['left_kernel_sizes'] = [3]\n",
    "model.params['left_pool_sizes'] = [4]\n",
    "model.params['right_filters'] = [128]\n",
    "model.params['right_kernel_sizes'] = [3]\n",
    "model.params['right_pool_sizes'] = [4]\n",
    "model.params['conv_activation_func']= 'relu'\n",
    "model.params['mlp_num_layers'] = 1\n",
    "model.params['mlp_num_units'] = 100\n",
    "model.params['mlp_num_fan_out'] = 1 \n",
    "model.params['mlp_activation_func'] = 'relu' \n",
    "model.params['dropout_rate'] = 0.9\n",
    "model.params['optimizer'] = 'adadelta'\n",
    "model.guess_and_fill_missing_params()\n",
    "model.build()\n",
    "model.compile()\n",
    "model.backend.summary()"
   ]
  },
  {
   "cell_type": "code",
   "execution_count": 7,
   "metadata": {},
   "outputs": [],
   "source": [
    "glove_embedding = mz.datasets.embeddings.load_glove_embedding(dimension=300)\n",
    "embedding_matrix = glove_embedding.build_matrix(preprocessor.context['vocab_unit'].state['term_index'])"
   ]
  },
  {
   "cell_type": "code",
   "execution_count": 8,
   "metadata": {},
   "outputs": [],
   "source": [
    "model.load_embedding_matrix(embedding_matrix)"
   ]
  },
  {
   "cell_type": "code",
   "execution_count": 9,
   "metadata": {},
   "outputs": [],
   "source": [
    "pred_x, pred_y = predict_pack_processed[:].unpack()\n",
    "evaluate = mz.callbacks.EvaluateAllMetrics(model, x=pred_x, y=pred_y, batch_size=len(pred_x))"
   ]
  },
  {
   "cell_type": "code",
   "execution_count": 10,
   "metadata": {},
   "outputs": [
    {
     "data": {
      "text/plain": [
       "102"
      ]
     },
     "execution_count": 10,
     "metadata": {},
     "output_type": "execute_result"
    }
   ],
   "source": [
    "train_generator = mz.PairDataGenerator(train_pack_processed, num_dup=2, num_neg=1, batch_size=20)\n",
    "len(train_generator)"
   ]
  },
  {
   "cell_type": "code",
   "execution_count": 11,
   "metadata": {
    "scrolled": false
   },
   "outputs": [
    {
     "name": "stdout",
     "output_type": "stream",
     "text": [
      "Epoch 1/30\n",
      "102/102 [==============================] - 26s 252ms/step - loss: 0.9759\n",
      "Validation: normalized_discounted_cumulative_gain@3(0): 0.5082393714215533 - normalized_discounted_cumulative_gain@5(0): 0.569133535154162 - mean_average_precision(0): 0.5250957136052367\n",
      "Epoch 2/30\n",
      "102/102 [==============================] - 24s 233ms/step - loss: 0.8668\n",
      "Validation: normalized_discounted_cumulative_gain@3(0): 0.5570885978174277 - normalized_discounted_cumulative_gain@5(0): 0.6250090422146641 - mean_average_precision(0): 0.5835562565199329\n",
      "Epoch 3/30\n",
      "102/102 [==============================] - 22s 219ms/step - loss: 0.7056\n",
      "Validation: normalized_discounted_cumulative_gain@3(0): 0.6032268087979419 - normalized_discounted_cumulative_gain@5(0): 0.6606430357996625 - mean_average_precision(0): 0.6146427967573169\n",
      "Epoch 4/30\n",
      "102/102 [==============================] - ETA: 0s - loss: 0.615 - 22s 217ms/step - loss: 0.6174\n",
      "Validation: normalized_discounted_cumulative_gain@3(0): 0.6086878806401408 - normalized_discounted_cumulative_gain@5(0): 0.6640516612525454 - mean_average_precision(0): 0.6180468142968143\n",
      "Epoch 5/30\n",
      "102/102 [==============================] - 22s 211ms/step - loss: 0.5424\n",
      "Validation: normalized_discounted_cumulative_gain@3(0): 0.6127469011069494 - normalized_discounted_cumulative_gain@5(0): 0.6709603091757153 - mean_average_precision(0): 0.621783305185204\n",
      "Epoch 6/30\n",
      "102/102 [==============================] - 23s 221ms/step - loss: 0.5092\n",
      "Validation: normalized_discounted_cumulative_gain@3(0): 0.6154967313765436 - normalized_discounted_cumulative_gain@5(0): 0.6678105113050936 - mean_average_precision(0): 0.62285317522086\n",
      "Epoch 7/30\n",
      "102/102 [==============================] - 22s 216ms/step - loss: 0.4944\n",
      "Validation: normalized_discounted_cumulative_gain@3(0): 0.6133370431599775 - normalized_discounted_cumulative_gain@5(0): 0.6677692823794696 - mean_average_precision(0): 0.6221476577461311\n",
      "Epoch 8/30\n",
      "102/102 [==============================] - 22s 213ms/step - loss: 0.4658\n",
      "Validation: normalized_discounted_cumulative_gain@3(0): 0.6160036417070777 - normalized_discounted_cumulative_gain@5(0): 0.6736673237819718 - mean_average_precision(0): 0.6296473085072991\n",
      "Epoch 9/30\n",
      "102/102 [==============================] - 21s 209ms/step - loss: 0.3991\n",
      "Validation: normalized_discounted_cumulative_gain@3(0): 0.6155637259214157 - normalized_discounted_cumulative_gain@5(0): 0.6730021264133866 - mean_average_precision(0): 0.6245924902570472\n",
      "Epoch 10/30\n",
      "102/102 [==============================] - 21s 206ms/step - loss: 0.3629\n",
      "Validation: normalized_discounted_cumulative_gain@3(0): 0.6102143264921204 - normalized_discounted_cumulative_gain@5(0): 0.664948958232371 - mean_average_precision(0): 0.6191947527390566\n",
      "Epoch 11/30\n",
      "102/102 [==============================] - 21s 209ms/step - loss: 0.35783\n",
      "Validation: normalized_discounted_cumulative_gain@3(0): 0.617638057224225 - normalized_discounted_cumulative_gain@5(0): 0.6754303803191714 - mean_average_precision(0): 0.6337654343556931\n",
      "Epoch 12/30\n",
      "102/102 [==============================] - 22s 212ms/step - loss: 0.3392\n",
      "Validation: normalized_discounted_cumulative_gain@3(0): 0.6151601257203306 - normalized_discounted_cumulative_gain@5(0): 0.6742668120487753 - mean_average_precision(0): 0.6257721618054585\n",
      "Epoch 13/30\n",
      "102/102 [==============================] - 22s 211ms/step - loss: 0.3106\n",
      "Validation: normalized_discounted_cumulative_gain@3(0): 0.6205672993920082 - normalized_discounted_cumulative_gain@5(0): 0.6840313290454932 - mean_average_precision(0): 0.6319173752876284\n",
      "Epoch 14/30\n",
      "102/102 [==============================] - 19s 187ms/step - loss: 0.2644\n",
      "Validation: normalized_discounted_cumulative_gain@3(0): 0.6186826410725894 - normalized_discounted_cumulative_gain@5(0): 0.6721351354919887 - mean_average_precision(0): 0.6216379843326734\n",
      "Epoch 15/30\n",
      "102/102 [==============================] - 22s 220ms/step - loss: 0.24750s - loss: 0.248\n",
      "Validation: normalized_discounted_cumulative_gain@3(0): 0.6026930004909435 - normalized_discounted_cumulative_gain@5(0): 0.6621886820916915 - mean_average_precision(0): 0.6128319550361377\n",
      "Epoch 16/30\n",
      "102/102 [==============================] - 19s 188ms/step - loss: 0.2659\n",
      "Validation: normalized_discounted_cumulative_gain@3(0): 0.6136835646746197 - normalized_discounted_cumulative_gain@5(0): 0.6642786873308261 - mean_average_precision(0): 0.6177724847819784\n",
      "Epoch 17/30\n",
      "102/102 [==============================] - 22s 212ms/step - loss: 0.2423\n",
      "Validation: normalized_discounted_cumulative_gain@3(0): 0.6178382670668069 - normalized_discounted_cumulative_gain@5(0): 0.6665193887645356 - mean_average_precision(0): 0.6164914792871155\n",
      "Epoch 18/30\n",
      "102/102 [==============================] - 22s 220ms/step - loss: 0.2112\n",
      "Validation: normalized_discounted_cumulative_gain@3(0): 0.6086275720533031 - normalized_discounted_cumulative_gain@5(0): 0.6692232568172596 - mean_average_precision(0): 0.6164362360564891\n",
      "Epoch 19/30\n",
      "102/102 [==============================] - 21s 207ms/step - loss: 0.2000\n",
      "Validation: normalized_discounted_cumulative_gain@3(0): 0.6073076970757482 - normalized_discounted_cumulative_gain@5(0): 0.6753877811416863 - mean_average_precision(0): 0.6224146985222935\n",
      "Epoch 20/30\n",
      "102/102 [==============================] - 21s 207ms/step - loss: 0.2043\n",
      "Validation: normalized_discounted_cumulative_gain@3(0): 0.625668778515918 - normalized_discounted_cumulative_gain@5(0): 0.6786886265055986 - mean_average_precision(0): 0.6309106476036855\n",
      "Epoch 21/30\n",
      "102/102 [==============================] - 21s 208ms/step - loss: 0.1803\n",
      "Validation: normalized_discounted_cumulative_gain@3(0): 0.6127513487950984 - normalized_discounted_cumulative_gain@5(0): 0.6742476811487224 - mean_average_precision(0): 0.62573403214226\n",
      "Epoch 22/30\n",
      "102/102 [==============================] - 21s 205ms/step - loss: 0.1953\n",
      "Validation: normalized_discounted_cumulative_gain@3(0): 0.5993372349864192 - normalized_discounted_cumulative_gain@5(0): 0.6594998084336074 - mean_average_precision(0): 0.6109795753596944\n",
      "Epoch 23/30\n",
      "102/102 [==============================] - 21s 203ms/step - loss: 0.1662\n",
      "Validation: normalized_discounted_cumulative_gain@3(0): 0.5975015543020318 - normalized_discounted_cumulative_gain@5(0): 0.6662337038456291 - mean_average_precision(0): 0.6181605402333251\n",
      "Epoch 24/30\n",
      "102/102 [==============================] - 21s 202ms/step - loss: 0.14822s \n",
      "Validation: normalized_discounted_cumulative_gain@3(0): 0.6009446394484802 - normalized_discounted_cumulative_gain@5(0): 0.6647312180992023 - mean_average_precision(0): 0.6179618787213723\n",
      "Epoch 25/30\n",
      "102/102 [==============================] - 21s 204ms/step - loss: 0.1659\n",
      "Validation: normalized_discounted_cumulative_gain@3(0): 0.5894629435742252 - normalized_discounted_cumulative_gain@5(0): 0.6518522692190404 - mean_average_precision(0): 0.6046673288367551\n",
      "Epoch 26/30\n",
      "102/102 [==============================] - 21s 209ms/step - loss: 0.1545\n",
      "Validation: normalized_discounted_cumulative_gain@3(0): 0.5954339931842576 - normalized_discounted_cumulative_gain@5(0): 0.6623132817731271 - mean_average_precision(0): 0.613281333059814\n",
      "Epoch 27/30\n",
      "102/102 [==============================] - 21s 208ms/step - loss: 0.1382\n",
      "Validation: normalized_discounted_cumulative_gain@3(0): 0.6050265830509447 - normalized_discounted_cumulative_gain@5(0): 0.6644468939833442 - mean_average_precision(0): 0.6186196985830563\n",
      "Epoch 28/30\n",
      "102/102 [==============================] - 21s 207ms/step - loss: 0.1509\n",
      "Validation: normalized_discounted_cumulative_gain@3(0): 0.6046640216643036 - normalized_discounted_cumulative_gain@5(0): 0.662036742362776 - mean_average_precision(0): 0.615719196415399\n",
      "Epoch 29/30\n",
      "102/102 [==============================] - 21s 205ms/step - loss: 0.1304\n",
      "Validation: normalized_discounted_cumulative_gain@3(0): 0.6091197590685401 - normalized_discounted_cumulative_gain@5(0): 0.6712246756367836 - mean_average_precision(0): 0.6203053012388455\n",
      "Epoch 30/30\n",
      "102/102 [==============================] - 21s 204ms/step - loss: 0.1177\n",
      "Validation: normalized_discounted_cumulative_gain@3(0): 0.6116034054328112 - normalized_discounted_cumulative_gain@5(0): 0.666972199491379 - mean_average_precision(0): 0.6177590137242036\n"
     ]
    }
   ],
   "source": [
    "history = model.fit_generator(train_generator, epochs=30, callbacks=[evaluate], workers=30, use_multiprocessing=True)"
   ]
  }
 ],
 "metadata": {
  "kernelspec": {
   "display_name": "Python 3",
   "language": "python",
   "name": "python3"
  },
  "language_info": {
   "codemirror_mode": {
    "name": "ipython",
    "version": 3
   },
   "file_extension": ".py",
   "mimetype": "text/x-python",
   "name": "python",
   "nbconvert_exporter": "python",
   "pygments_lexer": "ipython3",
   "version": "3.6.5"
  }
 },
 "nbformat": 4,
 "nbformat_minor": 2
}
