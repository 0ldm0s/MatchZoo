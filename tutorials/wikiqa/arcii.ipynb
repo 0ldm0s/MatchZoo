{
 "cells": [
  {
   "cell_type": "code",
   "execution_count": 1,
   "metadata": {},
   "outputs": [
    {
     "name": "stderr",
     "output_type": "stream",
     "text": [
      "Using TensorFlow backend.\n"
     ]
    },
    {
     "name": "stdout",
     "output_type": "stream",
     "text": [
      "matchzoo version 2.1.0\n",
      "\n",
      "data loading ...\n",
      "data loaded as `train_pack_raw` `dev_pack_raw` `test_pack_raw`\n",
      "`ranking_task` initialized with metrics [normalized_discounted_cumulative_gain@3(0.0), normalized_discounted_cumulative_gain@5(0.0), mean_average_precision(0.0)]\n",
      "loading embedding ...\n",
      "Downloading data from http://nlp.stanford.edu/data/glove.6B.zip\n",
      "862183424/862182613 [==============================] - 746s 1us/step\n",
      "embedding loaded as `glove_embedding`\n"
     ]
    }
   ],
   "source": [
    "%run init.ipynb"
   ]
  },
  {
   "cell_type": "code",
   "execution_count": 2,
   "metadata": {},
   "outputs": [],
   "source": [
    "preprocessor = mz.preprocessors.BasicPreprocessor(fixed_length_left=10, \n",
    "                                                  fixed_length_right=100, \n",
    "                                                  remove_stop_words=False)"
   ]
  },
  {
   "cell_type": "code",
   "execution_count": 3,
   "metadata": {
    "scrolled": false
   },
   "outputs": [
    {
     "name": "stderr",
     "output_type": "stream",
     "text": [
      "Processing text_left with chain_transform of Tokenize => Lowercase => PuncRemoval: 100%|██████████| 2118/2118 [00:00<00:00, 3830.07it/s]\n",
      "Processing text_right with chain_transform of Tokenize => Lowercase => PuncRemoval: 100%|██████████| 18841/18841 [00:04<00:00, 4282.12it/s]\n",
      "Processing text_right with append: 100%|██████████| 18841/18841 [00:00<00:00, 879432.02it/s]\n",
      "Building FrequencyFilter from a datapack.: 100%|██████████| 18841/18841 [00:00<00:00, 142755.77it/s]\n",
      "Processing text_right with transform: 100%|██████████| 18841/18841 [00:00<00:00, 82363.40it/s]\n",
      "Processing text_left with extend: 100%|██████████| 2118/2118 [00:00<00:00, 600685.37it/s]\n",
      "Processing text_right with extend: 100%|██████████| 18841/18841 [00:00<00:00, 730399.85it/s]\n",
      "Building Vocabulary from a datapack.: 100%|██████████| 404432/404432 [00:00<00:00, 2574950.98it/s]\n",
      "Processing text_left with chain_transform of Tokenize => Lowercase => PuncRemoval: 100%|██████████| 2118/2118 [00:00<00:00, 8353.67it/s]\n",
      "Processing text_right with chain_transform of Tokenize => Lowercase => PuncRemoval: 100%|██████████| 18841/18841 [00:03<00:00, 4790.52it/s]\n",
      "Processing text_right with transform: 100%|██████████| 18841/18841 [00:00<00:00, 111458.54it/s]\n",
      "Processing text_left with transform: 100%|██████████| 2118/2118 [00:00<00:00, 199931.04it/s]\n",
      "Processing text_right with transform: 100%|██████████| 18841/18841 [00:00<00:00, 106572.05it/s]\n",
      "Processing length_left with len: 100%|██████████| 2118/2118 [00:00<00:00, 645934.41it/s]\n",
      "Processing length_right with len: 100%|██████████| 18841/18841 [00:00<00:00, 805496.87it/s]\n",
      "Processing text_left with transform: 100%|██████████| 2118/2118 [00:00<00:00, 120902.27it/s]\n",
      "Processing text_right with transform: 100%|██████████| 18841/18841 [00:00<00:00, 67660.37it/s]\n",
      "Processing text_left with chain_transform of Tokenize => Lowercase => PuncRemoval: 100%|██████████| 122/122 [00:00<00:00, 9124.39it/s]\n",
      "Processing text_right with chain_transform of Tokenize => Lowercase => PuncRemoval: 100%|██████████| 1115/1115 [00:00<00:00, 5001.34it/s]\n",
      "Processing text_right with transform: 100%|██████████| 1115/1115 [00:00<00:00, 10343.82it/s]\n",
      "Processing text_left with transform: 100%|██████████| 122/122 [00:00<00:00, 107954.66it/s]\n",
      "Processing text_right with transform: 100%|██████████| 1115/1115 [00:00<00:00, 129618.87it/s]\n",
      "Processing length_left with len: 100%|██████████| 122/122 [00:00<00:00, 203542.20it/s]\n",
      "Processing length_right with len: 100%|██████████| 1115/1115 [00:00<00:00, 564949.14it/s]\n",
      "Processing text_left with transform: 100%|██████████| 122/122 [00:00<00:00, 82004.02it/s]\n",
      "Processing text_right with transform: 100%|██████████| 1115/1115 [00:00<00:00, 90798.14it/s]\n",
      "Processing text_left with chain_transform of Tokenize => Lowercase => PuncRemoval: 100%|██████████| 237/237 [00:00<00:00, 9381.90it/s]\n",
      "Processing text_right with chain_transform of Tokenize => Lowercase => PuncRemoval: 100%|██████████| 2300/2300 [00:00<00:00, 5084.40it/s]\n",
      "Processing text_right with transform: 100%|██████████| 2300/2300 [00:00<00:00, 131784.64it/s]\n",
      "Processing text_left with transform: 100%|██████████| 237/237 [00:00<00:00, 135947.76it/s]\n",
      "Processing text_right with transform: 100%|██████████| 2300/2300 [00:00<00:00, 128353.21it/s]\n",
      "Processing length_left with len: 100%|██████████| 237/237 [00:00<00:00, 303990.84it/s]\n",
      "Processing length_right with len: 100%|██████████| 2300/2300 [00:00<00:00, 669272.87it/s]\n",
      "Processing text_left with transform: 100%|██████████| 237/237 [00:00<00:00, 103893.19it/s]\n",
      "Processing text_right with transform: 100%|██████████| 2300/2300 [00:00<00:00, 96547.20it/s]\n"
     ]
    }
   ],
   "source": [
    "train_pack_processed = preprocessor.fit_transform(train_pack_raw)\n",
    "dev_pack_processed = preprocessor.transform(dev_pack_raw)\n",
    "test_pack_processed = preprocessor.transform(test_pack_raw)"
   ]
  },
  {
   "cell_type": "code",
   "execution_count": 4,
   "metadata": {},
   "outputs": [
    {
     "data": {
      "text/plain": [
       "{'filter_unit': <matchzoo.preprocessors.units.frequency_filter.FrequencyFilter at 0x7f5c7ea5f400>,\n",
       " 'vocab_unit': <matchzoo.preprocessors.units.vocabulary.Vocabulary at 0x7f5b82b9b6d8>,\n",
       " 'vocab_size': 16674,\n",
       " 'embedding_input_dim': 16674,\n",
       " 'input_shapes': [(10,), (100,)]}"
      ]
     },
     "execution_count": 4,
     "metadata": {},
     "output_type": "execute_result"
    }
   ],
   "source": [
    "preprocessor.context"
   ]
  },
  {
   "cell_type": "code",
   "execution_count": 9,
   "metadata": {
    "scrolled": false
   },
   "outputs": [],
   "source": [
    "model = mz.models.ArcII()\n",
    "\n",
    "model.params['input_shapes'] = preprocessor.context['input_shapes']\n",
    "model.params['task'] = ranking_task\n",
    "model.params['embedding_input_dim'] = preprocessor.context['vocab_size']\n",
    "model.params['embedding_output_dim'] = 100\n",
    "model.params['embedding_trainable'] = True\n",
    "model.params['num_blocks'] = 2\n",
    "model.params['kernel_1d_count'] = 32\n",
    "model.params['kernel_1d_size'] = 3\n",
    "model.params['kernel_2d_count'] = [64, 64]\n",
    "model.params['kernel_2d_size'] = [3, 3]\n",
    "model.params['pool_2d_size'] = [[3, 3], [3, 3]]\n",
    "model.params['optimizer'] = 'adam'\n",
    "model.guess_and_fill_missing_params()\n",
    "\n",
    "model.build()\n",
    "model.compile()"
   ]
  },
  {
   "cell_type": "code",
   "execution_count": 10,
   "metadata": {},
   "outputs": [
    {
     "name": "stdout",
     "output_type": "stream",
     "text": [
      "__________________________________________________________________________________________________\n",
      "Layer (type)                    Output Shape         Param #     Connected to                     \n",
      "==================================================================================================\n",
      "text_left (InputLayer)          (None, 10)           0                                            \n",
      "__________________________________________________________________________________________________\n",
      "text_right (InputLayer)         (None, 100)          0                                            \n",
      "__________________________________________________________________________________________________\n",
      "embedding (Embedding)           multiple             1667400     text_left[0][0]                  \n",
      "                                                                 text_right[0][0]                 \n",
      "__________________________________________________________________________________________________\n",
      "conv1d_3 (Conv1D)               (None, 10, 32)       9632        embedding[0][0]                  \n",
      "__________________________________________________________________________________________________\n",
      "conv1d_4 (Conv1D)               (None, 100, 32)      9632        embedding[1][0]                  \n",
      "__________________________________________________________________________________________________\n",
      "matching_layer_2 (MatchingLayer (None, 10, 100, 32)  0           conv1d_3[0][0]                   \n",
      "                                                                 conv1d_4[0][0]                   \n",
      "__________________________________________________________________________________________________\n",
      "conv2d_3 (Conv2D)               (None, 10, 100, 64)  18496       matching_layer_2[0][0]           \n",
      "__________________________________________________________________________________________________\n",
      "max_pooling2d_3 (MaxPooling2D)  (None, 3, 33, 64)    0           conv2d_3[0][0]                   \n",
      "__________________________________________________________________________________________________\n",
      "conv2d_4 (Conv2D)               (None, 3, 33, 64)    36928       max_pooling2d_3[0][0]            \n",
      "__________________________________________________________________________________________________\n",
      "max_pooling2d_4 (MaxPooling2D)  (None, 1, 11, 64)    0           conv2d_4[0][0]                   \n",
      "__________________________________________________________________________________________________\n",
      "flatten_2 (Flatten)             (None, 704)          0           max_pooling2d_4[0][0]            \n",
      "__________________________________________________________________________________________________\n",
      "dropout_2 (Dropout)             (None, 704)          0           flatten_2[0][0]                  \n",
      "__________________________________________________________________________________________________\n",
      "dense_2 (Dense)                 (None, 1)            705         dropout_2[0][0]                  \n",
      "==================================================================================================\n",
      "Total params: 1,742,793\n",
      "Trainable params: 1,742,793\n",
      "Non-trainable params: 0\n",
      "__________________________________________________________________________________________________\n"
     ]
    }
   ],
   "source": [
    "model.backend.summary()"
   ]
  },
  {
   "cell_type": "code",
   "execution_count": 11,
   "metadata": {},
   "outputs": [],
   "source": [
    "embedding_matrix = glove_embedding.build_matrix(preprocessor.context['vocab_unit'].state['term_index'])"
   ]
  },
  {
   "cell_type": "code",
   "execution_count": 12,
   "metadata": {},
   "outputs": [],
   "source": [
    "model.load_embedding_matrix(embedding_matrix)"
   ]
  },
  {
   "cell_type": "code",
   "execution_count": 14,
   "metadata": {},
   "outputs": [],
   "source": [
    "test_x, test_y = test_pack_processed[:].unpack()\n",
    "evaluate = mz.callbacks.EvaluateAllMetrics(model, x=test_x, y=test_y, batch_size=len(test_y))"
   ]
  },
  {
   "cell_type": "code",
   "execution_count": 15,
   "metadata": {},
   "outputs": [
    {
     "name": "stdout",
     "output_type": "stream",
     "text": [
      "num batches: 102\n"
     ]
    }
   ],
   "source": [
    "train_generator = mz.DataGenerator(\n",
    "    train_pack_processed,\n",
    "    mode='pair',\n",
    "    num_dup=2,\n",
    "    num_neg=1,\n",
    "    batch_size=20\n",
    ")\n",
    "print('num batches:', len(train_generator))"
   ]
  },
  {
   "cell_type": "code",
   "execution_count": 16,
   "metadata": {
    "scrolled": false
   },
   "outputs": [
    {
     "name": "stdout",
     "output_type": "stream",
     "text": [
      "Epoch 1/30\n",
      "102/102 [==============================] - 6s 60ms/step - loss: 0.6141\n",
      "Validation: normalized_discounted_cumulative_gain@3(0.0): 0.5936572551455329 - normalized_discounted_cumulative_gain@5(0.0): 0.6454279442532856 - mean_average_precision(0.0): 0.5983365117067648\n",
      "Epoch 2/30\n",
      "102/102 [==============================] - 12s 117ms/step - loss: 0.3099\n",
      "Validation: normalized_discounted_cumulative_gain@3(0.0): 0.5790632663839901 - normalized_discounted_cumulative_gain@5(0.0): 0.6456997768354856 - mean_average_precision(0.0): 0.6032073817280738\n",
      "Epoch 3/30\n",
      "102/102 [==============================] - 12s 119ms/step - loss: 0.1516\n",
      "Validation: normalized_discounted_cumulative_gain@3(0.0): 0.5819878490160546 - normalized_discounted_cumulative_gain@5(0.0): 0.6455971993060833 - mean_average_precision(0.0): 0.5962392151679005\n",
      "Epoch 4/30\n",
      "102/102 [==============================] - 12s 115ms/step - loss: 0.0831\n",
      "Validation: normalized_discounted_cumulative_gain@3(0.0): 0.5492739287024206 - normalized_discounted_cumulative_gain@5(0.0): 0.6064684958153637 - mean_average_precision(0.0): 0.5575314834832998\n",
      "Epoch 5/30\n",
      "102/102 [==============================] - 12s 113ms/step - loss: 0.0596\n",
      "Validation: normalized_discounted_cumulative_gain@3(0.0): 0.5793394155322161 - normalized_discounted_cumulative_gain@5(0.0): 0.6372166104056097 - mean_average_precision(0.0): 0.5928751486316689\n",
      "Epoch 6/30\n",
      "102/102 [==============================] - 12s 119ms/step - loss: 0.0523\n",
      "Validation: normalized_discounted_cumulative_gain@3(0.0): 0.5673141688166581 - normalized_discounted_cumulative_gain@5(0.0): 0.6319901717491433 - mean_average_precision(0.0): 0.5804882364563411\n",
      "Epoch 7/30\n",
      "102/102 [==============================] - 12s 115ms/step - loss: 0.0433\n",
      "Validation: normalized_discounted_cumulative_gain@3(0.0): 0.5502969059718306 - normalized_discounted_cumulative_gain@5(0.0): 0.6084386804921906 - mean_average_precision(0.0): 0.5652313584694448\n",
      "Epoch 8/30\n",
      "102/102 [==============================] - 12s 116ms/step - loss: 0.0474\n",
      "Validation: normalized_discounted_cumulative_gain@3(0.0): 0.599945542102709 - normalized_discounted_cumulative_gain@5(0.0): 0.6588514474135749 - mean_average_precision(0.0): 0.618572360502559\n",
      "Epoch 9/30\n",
      "102/102 [==============================] - 12s 115ms/step - loss: 0.0293\n",
      "Validation: normalized_discounted_cumulative_gain@3(0.0): 0.5725043972178157 - normalized_discounted_cumulative_gain@5(0.0): 0.6288351110225403 - mean_average_precision(0.0): 0.5837091254626624\n",
      "Epoch 10/30\n",
      "102/102 [==============================] - 12s 119ms/step - loss: 0.0292\n",
      "Validation: normalized_discounted_cumulative_gain@3(0.0): 0.5424481163808355 - normalized_discounted_cumulative_gain@5(0.0): 0.6146290466736665 - mean_average_precision(0.0): 0.5649483328864967\n",
      "Epoch 11/30\n",
      "102/102 [==============================] - 12s 117ms/step - loss: 0.0330\n",
      "Validation: normalized_discounted_cumulative_gain@3(0.0): 0.5380741462212422 - normalized_discounted_cumulative_gain@5(0.0): 0.6124153391171473 - mean_average_precision(0.0): 0.5571261456546267\n",
      "Epoch 12/30\n",
      "102/102 [==============================] - 12s 122ms/step - loss: 0.0407\n",
      "Validation: normalized_discounted_cumulative_gain@3(0.0): 0.5802168258377067 - normalized_discounted_cumulative_gain@5(0.0): 0.646192262538202 - mean_average_precision(0.0): 0.5932224650975876\n",
      "Epoch 13/30\n",
      "102/102 [==============================] - 12s 121ms/step - loss: 0.0345\n",
      "Validation: normalized_discounted_cumulative_gain@3(0.0): 0.5917749832494207 - normalized_discounted_cumulative_gain@5(0.0): 0.6476720165827531 - mean_average_precision(0.0): 0.6006097714187568\n",
      "Epoch 14/30\n",
      "102/102 [==============================] - 13s 124ms/step - loss: 0.0305\n",
      "Validation: normalized_discounted_cumulative_gain@3(0.0): 0.5784333033042722 - normalized_discounted_cumulative_gain@5(0.0): 0.6404070290606872 - mean_average_precision(0.0): 0.5913028714263184\n",
      "Epoch 15/30\n",
      "102/102 [==============================] - 12s 119ms/step - loss: 0.0182\n",
      "Validation: normalized_discounted_cumulative_gain@3(0.0): 0.5614288504310483 - normalized_discounted_cumulative_gain@5(0.0): 0.6245715813489812 - mean_average_precision(0.0): 0.5691789855968447\n",
      "Epoch 16/30\n",
      "102/102 [==============================] - 12s 120ms/step - loss: 0.0190\n",
      "Validation: normalized_discounted_cumulative_gain@3(0.0): 0.5340569588937646 - normalized_discounted_cumulative_gain@5(0.0): 0.5964721683951776 - mean_average_precision(0.0): 0.5536493563042679\n",
      "Epoch 17/30\n",
      "102/102 [==============================] - 12s 121ms/step - loss: 0.0280\n",
      "Validation: normalized_discounted_cumulative_gain@3(0.0): 0.5672742984054945 - normalized_discounted_cumulative_gain@5(0.0): 0.6289157635140911 - mean_average_precision(0.0): 0.5795364264320648\n",
      "Epoch 18/30\n",
      "102/102 [==============================] - 13s 123ms/step - loss: 0.0181\n",
      "Validation: normalized_discounted_cumulative_gain@3(0.0): 0.5815252074003594 - normalized_discounted_cumulative_gain@5(0.0): 0.6337767552911846 - mean_average_precision(0.0): 0.593290050728621\n",
      "Epoch 19/30\n",
      "102/102 [==============================] - 12s 119ms/step - loss: 0.0133\n",
      "Validation: normalized_discounted_cumulative_gain@3(0.0): 0.5676541668363618 - normalized_discounted_cumulative_gain@5(0.0): 0.6174157593047878 - mean_average_precision(0.0): 0.578029460761806\n",
      "Epoch 20/30\n",
      "102/102 [==============================] - 12s 118ms/step - loss: 0.0268\n",
      "Validation: normalized_discounted_cumulative_gain@3(0.0): 0.5791519662767642 - normalized_discounted_cumulative_gain@5(0.0): 0.6383348407017826 - mean_average_precision(0.0): 0.5867801315207755\n",
      "Epoch 21/30\n",
      "102/102 [==============================] - 12s 122ms/step - loss: 0.0198\n",
      "Validation: normalized_discounted_cumulative_gain@3(0.0): 0.5575298444694661 - normalized_discounted_cumulative_gain@5(0.0): 0.6174099683194473 - mean_average_precision(0.0): 0.5673014374588325\n",
      "Epoch 22/30\n",
      "102/102 [==============================] - 12s 120ms/step - loss: 0.0274\n",
      "Validation: normalized_discounted_cumulative_gain@3(0.0): 0.5222297619869987 - normalized_discounted_cumulative_gain@5(0.0): 0.597357976072295 - mean_average_precision(0.0): 0.5533931078115496\n",
      "Epoch 23/30\n",
      "102/102 [==============================] - 13s 123ms/step - loss: 0.0169\n",
      "Validation: normalized_discounted_cumulative_gain@3(0.0): 0.5362802986761858 - normalized_discounted_cumulative_gain@5(0.0): 0.6142450997642577 - mean_average_precision(0.0): 0.5660626689573078\n",
      "Epoch 24/30\n",
      "102/102 [==============================] - 13s 123ms/step - loss: 0.0101\n",
      "Validation: normalized_discounted_cumulative_gain@3(0.0): 0.5578378121296462 - normalized_discounted_cumulative_gain@5(0.0): 0.6180410766507427 - mean_average_precision(0.0): 0.5640679438938933\n",
      "Epoch 25/30\n",
      "102/102 [==============================] - 13s 127ms/step - loss: 0.0245\n",
      "Validation: normalized_discounted_cumulative_gain@3(0.0): 0.5545743361870096 - normalized_discounted_cumulative_gain@5(0.0): 0.6115641349160635 - mean_average_precision(0.0): 0.5690638529642921\n",
      "Epoch 26/30\n",
      "102/102 [==============================] - 12s 116ms/step - loss: 0.0313\n",
      "Validation: normalized_discounted_cumulative_gain@3(0.0): 0.5275108503147202 - normalized_discounted_cumulative_gain@5(0.0): 0.601220293066945 - mean_average_precision(0.0): 0.5513996940602489\n",
      "Epoch 27/30\n",
      "102/102 [==============================] - 12s 120ms/step - loss: 0.0255\n",
      "Validation: normalized_discounted_cumulative_gain@3(0.0): 0.5327941132181786 - normalized_discounted_cumulative_gain@5(0.0): 0.6070861058802643 - mean_average_precision(0.0): 0.5539402621142245\n",
      "Epoch 28/30\n",
      "102/102 [==============================] - 12s 120ms/step - loss: 0.0235\n",
      "Validation: normalized_discounted_cumulative_gain@3(0.0): 0.5322200110371494 - normalized_discounted_cumulative_gain@5(0.0): 0.6048386247292005 - mean_average_precision(0.0): 0.5561164434240716\n",
      "Epoch 29/30\n",
      "102/102 [==============================] - 13s 124ms/step - loss: 0.0198\n",
      "Validation: normalized_discounted_cumulative_gain@3(0.0): 0.5698198948394968 - normalized_discounted_cumulative_gain@5(0.0): 0.6275524284556756 - mean_average_precision(0.0): 0.5833268536215591\n",
      "Epoch 30/30\n",
      "102/102 [==============================] - 12s 121ms/step - loss: 0.0295\n",
      "Validation: normalized_discounted_cumulative_gain@3(0.0): 0.5413078157645657 - normalized_discounted_cumulative_gain@5(0.0): 0.6112062673686443 - mean_average_precision(0.0): 0.5716041279729214\n"
     ]
    }
   ],
   "source": [
    "history = model.fit_generator(train_generator, \n",
    "                              epochs=30, \n",
    "                              callbacks=[evaluate], \n",
    "                              workers=30, \n",
    "                              use_multiprocessing=True)"
   ]
  },
  {
   "cell_type": "raw",
   "metadata": {},
   "source": [
    "Use this function to update the README.md with a better set of parameters.\n",
    "Make sure you delete the correct section of the README.md before calling this function."
   ]
  },
  {
   "cell_type": "code",
   "execution_count": null,
   "metadata": {},
   "outputs": [],
   "source": [
    "# append_params_to_readme(model)"
   ]
  }
 ],
 "metadata": {
  "kernelspec": {
   "display_name": "Python 3",
   "language": "python",
   "name": "python3"
  }
 },
 "nbformat": 4,
 "nbformat_minor": 2
}
