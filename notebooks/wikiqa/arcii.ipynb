{
 "cells": [
  {
   "cell_type": "code",
   "execution_count": 1,
   "metadata": {},
   "outputs": [
    {
     "name": "stderr",
     "output_type": "stream",
     "text": [
      "/data/users/fyx/.local/python3/lib/python3.6/importlib/_bootstrap.py:219: RuntimeWarning: numpy.dtype size changed, may indicate binary incompatibility. Expected 96, got 88\n",
      "  return f(*args, **kwds)\n",
      "/data/users/fyx/.local/python3/lib/python3.6/importlib/_bootstrap.py:219: RuntimeWarning: numpy.dtype size changed, may indicate binary incompatibility. Expected 96, got 88\n",
      "  return f(*args, **kwds)\n",
      "Using TensorFlow backend.\n"
     ]
    }
   ],
   "source": [
    "import numpy as np\n",
    "import matchzoo as mz"
   ]
  },
  {
   "cell_type": "code",
   "execution_count": 2,
   "metadata": {},
   "outputs": [],
   "source": [
    "train_pack = mz.datasets.wiki_qa.load_data('train', task='ranking')\n",
    "valid_pack = mz.datasets.wiki_qa.load_data('dev', task='ranking', filter=True)\n",
    "predict_pack = mz.datasets.wiki_qa.load_data('test', task='ranking', filter=True)"
   ]
  },
  {
   "cell_type": "code",
   "execution_count": 3,
   "metadata": {},
   "outputs": [
    {
     "name": "stderr",
     "output_type": "stream",
     "text": [
      "Processing text_left with chain_transform of TokenizeUnit => LowercaseUnit => PuncRemovalUnit: 100%|██████████| 2118/2118 [00:00<00:00, 2685.45it/s]\n",
      "Processing text_right with chain_transform of TokenizeUnit => LowercaseUnit => PuncRemovalUnit: 100%|██████████| 18841/18841 [00:08<00:00, 2241.78it/s]\n",
      "Processing text_right with append: 100%|██████████| 18841/18841 [00:00<00:00, 651799.98it/s]\n",
      "Building FrequencyFilterUnit from a datapack.: 100%|██████████| 18841/18841 [00:00<00:00, 47919.28it/s]\n",
      "Processing text_right with transform: 100%|██████████| 18841/18841 [00:01<00:00, 18328.58it/s]\n",
      "Processing text_left with extend: 100%|██████████| 2118/2118 [00:00<00:00, 245856.58it/s]\n",
      "Processing text_right with extend: 100%|██████████| 18841/18841 [00:00<00:00, 282072.55it/s]\n",
      "Building VocabularyUnit from a datapack.: 100%|██████████| 404415/404415 [00:00<00:00, 950555.91it/s]\n",
      "Processing text_left with chain_transform of TokenizeUnit => LowercaseUnit => PuncRemovalUnit: 100%|██████████| 2118/2118 [00:00<00:00, 3028.77it/s]\n",
      "Processing text_right with chain_transform of TokenizeUnit => LowercaseUnit => PuncRemovalUnit: 100%|██████████| 18841/18841 [00:11<00:00, 1662.63it/s]\n",
      "Processing text_right with transform: 100%|██████████| 18841/18841 [00:00<00:00, 30981.54it/s]\n",
      "Processing text_left with transform: 100%|██████████| 2118/2118 [00:00<00:00, 36306.31it/s]\n",
      "Processing text_right with transform: 100%|██████████| 18841/18841 [00:00<00:00, 30307.74it/s]\n",
      "Processing text_left with transform: 100%|██████████| 2118/2118 [00:00<00:00, 31298.57it/s]\n",
      "Processing text_right with transform: 100%|██████████| 18841/18841 [00:00<00:00, 22702.47it/s]\n",
      "Processing length_left with len: 100%|██████████| 2118/2118 [00:00<00:00, 79369.02it/s]\n",
      "Processing length_right with len: 100%|██████████| 18841/18841 [00:00<00:00, 184023.16it/s]\n"
     ]
    }
   ],
   "source": [
    "preprocessor = mz.preprocessors.BasicPreprocessor(fixed_length_left=10, fixed_length_right=100, remove_stop_words=True)\n",
    "train_pack_processed = preprocessor.fit_transform(train_pack)"
   ]
  },
  {
   "cell_type": "code",
   "execution_count": 4,
   "metadata": {
    "scrolled": false
   },
   "outputs": [
    {
     "name": "stderr",
     "output_type": "stream",
     "text": [
      "Processing text_left with chain_transform of TokenizeUnit => LowercaseUnit => PuncRemovalUnit: 100%|██████████| 122/122 [00:00<00:00, 3089.28it/s]\n",
      "Processing text_right with chain_transform of TokenizeUnit => LowercaseUnit => PuncRemovalUnit: 100%|██████████| 1115/1115 [00:00<00:00, 1628.95it/s]\n",
      "Processing text_right with transform: 100%|██████████| 1115/1115 [00:00<00:00, 21652.56it/s]\n",
      "Processing text_left with transform: 100%|██████████| 122/122 [00:00<00:00, 18088.48it/s]\n",
      "Processing text_right with transform: 100%|██████████| 1115/1115 [00:00<00:00, 46031.82it/s]\n",
      "Processing text_left with transform: 100%|██████████| 122/122 [00:00<00:00, 36345.27it/s]\n",
      "Processing text_right with transform: 100%|██████████| 1115/1115 [00:00<00:00, 30768.64it/s]\n",
      "Processing length_left with len: 100%|██████████| 122/122 [00:00<00:00, 101629.61it/s]\n",
      "Processing length_right with len: 100%|██████████| 1115/1115 [00:00<00:00, 69309.36it/s]\n",
      "Processing text_left with chain_transform of TokenizeUnit => LowercaseUnit => PuncRemovalUnit: 100%|██████████| 237/237 [00:00<00:00, 2853.94it/s]\n",
      "Processing text_right with chain_transform of TokenizeUnit => LowercaseUnit => PuncRemovalUnit: 100%|██████████| 2300/2300 [00:01<00:00, 1660.14it/s]\n",
      "Processing text_right with transform: 100%|██████████| 2300/2300 [00:00<00:00, 4645.44it/s]\n",
      "Processing text_left with transform: 100%|██████████| 237/237 [00:00<00:00, 15229.35it/s]\n",
      "Processing text_right with transform: 100%|██████████| 2300/2300 [00:00<00:00, 23069.32it/s]\n",
      "Processing text_left with transform: 100%|██████████| 237/237 [00:00<00:00, 24714.70it/s]\n",
      "Processing text_right with transform: 100%|██████████| 2300/2300 [00:00<00:00, 31149.88it/s]\n",
      "Processing length_left with len: 100%|██████████| 237/237 [00:00<00:00, 176375.10it/s]\n",
      "Processing length_right with len: 100%|██████████| 2300/2300 [00:00<00:00, 131198.56it/s]\n"
     ]
    }
   ],
   "source": [
    "valid_pack_processed = preprocessor.transform(valid_pack)\n",
    "predict_pack_processed = preprocessor.transform(predict_pack)"
   ]
  },
  {
   "cell_type": "code",
   "execution_count": 5,
   "metadata": {},
   "outputs": [],
   "source": [
    "ranking_task = mz.tasks.Ranking(loss=mz.losses.RankHingeLoss())\n",
    "ranking_task.metrics = [\n",
    "    mz.metrics.NormalizedDiscountedCumulativeGain(k=3),\n",
    "    mz.metrics.NormalizedDiscountedCumulativeGain(k=5),\n",
    "    mz.metrics.MeanAveragePrecision()\n",
    "]"
   ]
  },
  {
   "cell_type": "code",
   "execution_count": 14,
   "metadata": {
    "scrolled": false
   },
   "outputs": [
    {
     "name": "stdout",
     "output_type": "stream",
     "text": [
      "Parameter \"name\" set to ArcII.\n",
      "__________________________________________________________________________________________________\n",
      "Layer (type)                    Output Shape         Param #     Connected to                     \n",
      "==================================================================================================\n",
      "text_left (InputLayer)          (None, 10)           0                                            \n",
      "__________________________________________________________________________________________________\n",
      "text_right (InputLayer)         (None, 100)          0                                            \n",
      "__________________________________________________________________________________________________\n",
      "embedding (Embedding)           multiple             5002200     text_left[0][0]                  \n",
      "                                                                 text_right[0][0]                 \n",
      "__________________________________________________________________________________________________\n",
      "conv1d_3 (Conv1D)               (None, 10, 32)       28832       embedding[0][0]                  \n",
      "__________________________________________________________________________________________________\n",
      "conv1d_4 (Conv1D)               (None, 100, 32)      28832       embedding[1][0]                  \n",
      "__________________________________________________________________________________________________\n",
      "matching_layer_2 (MatchingLayer (None, 10, 100, 32)  0           conv1d_3[0][0]                   \n",
      "                                                                 conv1d_4[0][0]                   \n",
      "__________________________________________________________________________________________________\n",
      "conv2d_3 (Conv2D)               (None, 10, 100, 64)  18496       matching_layer_2[0][0]           \n",
      "__________________________________________________________________________________________________\n",
      "max_pooling2d_3 (MaxPooling2D)  (None, 3, 33, 64)    0           conv2d_3[0][0]                   \n",
      "__________________________________________________________________________________________________\n",
      "conv2d_4 (Conv2D)               (None, 3, 33, 64)    36928       max_pooling2d_3[0][0]            \n",
      "__________________________________________________________________________________________________\n",
      "max_pooling2d_4 (MaxPooling2D)  (None, 1, 11, 64)    0           conv2d_4[0][0]                   \n",
      "__________________________________________________________________________________________________\n",
      "flatten_2 (Flatten)             (None, 704)          0           max_pooling2d_4[0][0]            \n",
      "__________________________________________________________________________________________________\n",
      "dropout_2 (Dropout)             (None, 704)          0           flatten_2[0][0]                  \n",
      "__________________________________________________________________________________________________\n",
      "dense_2 (Dense)                 (None, 1)            705         dropout_2[0][0]                  \n",
      "==================================================================================================\n",
      "Total params: 5,115,993\n",
      "Trainable params: 5,115,993\n",
      "Non-trainable params: 0\n",
      "__________________________________________________________________________________________________\n"
     ]
    }
   ],
   "source": [
    "model = mz.models.ArcII()\n",
    "model.params['input_shapes'] = preprocessor.context['input_shapes']\n",
    "model.params['task'] = ranking_task\n",
    "model.params['embedding_input_dim'] = preprocessor.context['vocab_size'] + 1\n",
    "model.params['embedding_output_dim'] = 300\n",
    "model.params['embedding_trainable'] = True\n",
    "model.params['num_blocks'] = 2\n",
    "model.params['kernel_1d_count'] = 32\n",
    "model.params['kernel_1d_size'] = 3\n",
    "model.params['kernel_2d_count'] = [64, 64]\n",
    "model.params['kernel_2d_size'] = [3, 3]\n",
    "model.params['pool_2d_size'] = [[3, 3], [3, 3]]\n",
    "model.params['optimizer'] = 'adam'\n",
    "model.guess_and_fill_missing_params()\n",
    "model.build()\n",
    "model.compile()\n",
    "model.backend.summary()"
   ]
  },
  {
   "cell_type": "code",
   "execution_count": 15,
   "metadata": {},
   "outputs": [],
   "source": [
    "glove_embedding = mz.datasets.embeddings.load_glove_embedding(dimension=300)\n",
    "embedding_matrix = glove_embedding.build_matrix(preprocessor.context['vocab_unit'].state['term_index'])"
   ]
  },
  {
   "cell_type": "code",
   "execution_count": 16,
   "metadata": {},
   "outputs": [],
   "source": [
    "model.load_embedding_matrix(embedding_matrix)"
   ]
  },
  {
   "cell_type": "code",
   "execution_count": 17,
   "metadata": {},
   "outputs": [
    {
     "data": {
      "text/plain": [
       "2341"
      ]
     },
     "execution_count": 17,
     "metadata": {},
     "output_type": "execute_result"
    }
   ],
   "source": [
    "pred_x, pred_y = predict_pack_processed[:].unpack()\n",
    "evaluate = mz.callbacks.EvaluateAllMetrics(model, x=pred_x, y=pred_y, batch_size=len(pred_y))\n",
    "len(pred_y)"
   ]
  },
  {
   "cell_type": "code",
   "execution_count": 18,
   "metadata": {},
   "outputs": [
    {
     "data": {
      "text/plain": [
       "102"
      ]
     },
     "execution_count": 18,
     "metadata": {},
     "output_type": "execute_result"
    }
   ],
   "source": [
    "train_generator = mz.PairDataGenerator(train_pack_processed, num_dup=2, num_neg=1, batch_size=20)\n",
    "len(train_generator)"
   ]
  },
  {
   "cell_type": "code",
   "execution_count": 19,
   "metadata": {
    "scrolled": false
   },
   "outputs": [
    {
     "name": "stdout",
     "output_type": "stream",
     "text": [
      "Epoch 1/30\n",
      "101/102 [============================>.] - ETA: 0s - loss: 0.5687\n",
      "102/102 [==============================] - 32s 318ms/step - loss: 0.5683\n",
      "Validation: normalized_discounted_cumulative_gain@3(0): 0.5936162163310887 - normalized_discounted_cumulative_gain@5(0): 0.6504434759455893 - mean_average_precision(0): 0.6008482509878638\n",
      "Epoch 2/30\n",
      "102/102 [==============================] - 30s 290ms/step - loss: 0.1320\n",
      "Validation: normalized_discounted_cumulative_gain@3(0): 0.596045756358187 - normalized_discounted_cumulative_gain@5(0): 0.6366035040736078 - mean_average_precision(0): 0.6017998183929228\n",
      "Epoch 3/30\n",
      "102/102 [==============================] - 32s 309ms/step - loss: 0.0358\n",
      "Validation: normalized_discounted_cumulative_gain@3(0): 0.594949759299283 - normalized_discounted_cumulative_gain@5(0): 0.6459670618696076 - mean_average_precision(0): 0.5981263186773238\n",
      "Epoch 4/30\n",
      "102/102 [==============================] - 31s 301ms/step - loss: 0.0178\n",
      "Validation: normalized_discounted_cumulative_gain@3(0): 0.5920509699345505 - normalized_discounted_cumulative_gain@5(0): 0.6422582412201132 - mean_average_precision(0): 0.6008899052409901\n",
      "Epoch 5/30\n",
      "102/102 [==============================] - 30s 292ms/step - loss: 0.0139\n",
      "Validation: normalized_discounted_cumulative_gain@3(0): 0.5774208628940538 - normalized_discounted_cumulative_gain@5(0): 0.6286544847492882 - mean_average_precision(0): 0.5841466613774929\n",
      "Epoch 6/30\n",
      "102/102 [==============================] - 30s 294ms/step - loss: 0.0096\n",
      "Validation: normalized_discounted_cumulative_gain@3(0): 0.5626324428444545 - normalized_discounted_cumulative_gain@5(0): 0.6258917476763325 - mean_average_precision(0): 0.5732407314896438\n",
      "Epoch 7/30\n",
      "102/102 [==============================] - 30s 295ms/step - loss: 0.0142\n",
      "Validation: normalized_discounted_cumulative_gain@3(0): 0.5665426172947471 - normalized_discounted_cumulative_gain@5(0): 0.6301842980132559 - mean_average_precision(0): 0.5810684585814891\n",
      "Epoch 8/30\n",
      "102/102 [==============================] - 30s 293ms/step - loss: 0.0134\n",
      "Validation: normalized_discounted_cumulative_gain@3(0): 0.5858313044631933 - normalized_discounted_cumulative_gain@5(0): 0.6352601018357285 - mean_average_precision(0): 0.5893076238590015\n",
      "Epoch 9/30\n",
      "102/102 [==============================] - 31s 303ms/step - loss: 0.0366\n",
      "Validation: normalized_discounted_cumulative_gain@3(0): 0.540166543818366 - normalized_discounted_cumulative_gain@5(0): 0.5918749509085544 - mean_average_precision(0): 0.5474214365433945\n",
      "Epoch 10/30\n",
      "102/102 [==============================] - 31s 306ms/step - loss: 0.0235\n",
      "Validation: normalized_discounted_cumulative_gain@3(0): 0.5472393053476792 - normalized_discounted_cumulative_gain@5(0): 0.5926306811371271 - mean_average_precision(0): 0.5560221595531226\n",
      "Epoch 11/30\n",
      "102/102 [==============================] - 30s 291ms/step - loss: 0.0250\n",
      "Validation: normalized_discounted_cumulative_gain@3(0): 0.5665688340249466 - normalized_discounted_cumulative_gain@5(0): 0.6201949975111973 - mean_average_precision(0): 0.5720875057900374\n",
      "Epoch 12/30\n",
      "102/102 [==============================] - 30s 299ms/step - loss: 0.0223\n",
      "Validation: normalized_discounted_cumulative_gain@3(0): 0.5779695569794452 - normalized_discounted_cumulative_gain@5(0): 0.6339154591680775 - mean_average_precision(0): 0.5957110126941351\n",
      "Epoch 13/30\n",
      "102/102 [==============================] - 30s 292ms/step - loss: 0.0326\n",
      "Validation: normalized_discounted_cumulative_gain@3(0): 0.5882113303137703 - normalized_discounted_cumulative_gain@5(0): 0.6502960538226474 - mean_average_precision(0): 0.6096891832279024\n",
      "Epoch 14/30\n",
      "102/102 [==============================] - 29s 288ms/step - loss: 0.0224\n",
      "Validation: normalized_discounted_cumulative_gain@3(0): 0.5572138394520233 - normalized_discounted_cumulative_gain@5(0): 0.619882662406441 - mean_average_precision(0): 0.5722798735800755\n",
      "Epoch 15/30\n",
      "102/102 [==============================] - 28s 273ms/step - loss: 0.0135\n",
      "Validation: normalized_discounted_cumulative_gain@3(0): 0.5717158347262482 - normalized_discounted_cumulative_gain@5(0): 0.6261806876474185 - mean_average_precision(0): 0.5820987691054706\n",
      "Epoch 16/30\n",
      "102/102 [==============================] - 29s 286ms/step - loss: 0.0163\n",
      "Validation: normalized_discounted_cumulative_gain@3(0): 0.5794211682349124 - normalized_discounted_cumulative_gain@5(0): 0.632230750325132 - mean_average_precision(0): 0.5856867050301819\n",
      "Epoch 17/30\n",
      "102/102 [==============================] - 30s 292ms/step - loss: 0.0221\n",
      "Validation: normalized_discounted_cumulative_gain@3(0): 0.5294250046492072 - normalized_discounted_cumulative_gain@5(0): 0.5894629201172303 - mean_average_precision(0): 0.5512132324714215\n",
      "Epoch 18/30\n",
      "102/102 [==============================] - 30s 290ms/step - loss: 0.0261\n",
      "Validation: normalized_discounted_cumulative_gain@3(0): 0.5521144709774298 - normalized_discounted_cumulative_gain@5(0): 0.6144460630204821 - mean_average_precision(0): 0.5700197246817134\n",
      "Epoch 19/30\n",
      "102/102 [==============================] - 31s 300ms/step - loss: 0.0121\n",
      "Validation: normalized_discounted_cumulative_gain@3(0): 0.5795486832141923 - normalized_discounted_cumulative_gain@5(0): 0.6343074198193552 - mean_average_precision(0): 0.5981546971053966\n",
      "Epoch 20/30\n",
      "102/102 [==============================] - 31s 300ms/step - loss: 0.0151\n",
      "Validation: normalized_discounted_cumulative_gain@3(0): 0.566599533518094 - normalized_discounted_cumulative_gain@5(0): 0.6276085299194514 - mean_average_precision(0): 0.5793468933292384\n",
      "Epoch 21/30\n",
      "102/102 [==============================] - 29s 281ms/step - loss: 0.0025\n",
      "Validation: normalized_discounted_cumulative_gain@3(0): 0.5574377667551479 - normalized_discounted_cumulative_gain@5(0): 0.6192626292737908 - mean_average_precision(0): 0.5749143299982595\n",
      "Epoch 22/30\n",
      "102/102 [==============================] - 30s 299ms/step - loss: 7.7036e-04\n",
      "Validation: normalized_discounted_cumulative_gain@3(0): 0.5689420608388669 - normalized_discounted_cumulative_gain@5(0): 0.6244474849172513 - mean_average_precision(0): 0.5853228430710109\n",
      "Epoch 23/30\n",
      "102/102 [==============================] - 30s 296ms/step - loss: 0.0040\n",
      "Validation: normalized_discounted_cumulative_gain@3(0): 0.5662980256587039 - normalized_discounted_cumulative_gain@5(0): 0.6272592254795849 - mean_average_precision(0): 0.5833563232796913\n",
      "Epoch 24/30\n",
      "102/102 [==============================] - 29s 282ms/step - loss: 0.0103\n",
      "Validation: normalized_discounted_cumulative_gain@3(0): 0.5492420464963179 - normalized_discounted_cumulative_gain@5(0): 0.6175352494038471 - mean_average_precision(0): 0.5726189795755754\n",
      "Epoch 25/30\n",
      "102/102 [==============================] - 28s 279ms/step - loss: 0.0234\n",
      "Validation: normalized_discounted_cumulative_gain@3(0): 0.5494261670824275 - normalized_discounted_cumulative_gain@5(0): 0.6009436201308328 - mean_average_precision(0): 0.5594397161963229\n",
      "Epoch 26/30\n",
      "102/102 [==============================] - 28s 277ms/step - loss: 0.0283\n",
      "Validation: normalized_discounted_cumulative_gain@3(0): 0.5497252393663096 - normalized_discounted_cumulative_gain@5(0): 0.6159550830954996 - mean_average_precision(0): 0.5656756647790402\n",
      "Epoch 27/30\n",
      "102/102 [==============================] - 30s 292ms/step - loss: 0.0080\n",
      "Validation: normalized_discounted_cumulative_gain@3(0): 0.55871978343418 - normalized_discounted_cumulative_gain@5(0): 0.6212403867195616 - mean_average_precision(0): 0.5822264504567805\n",
      "Epoch 28/30\n",
      "102/102 [==============================] - 28s 275ms/step - loss: 0.0184\n",
      "Validation: normalized_discounted_cumulative_gain@3(0): 0.574677915888117 - normalized_discounted_cumulative_gain@5(0): 0.6271136303960311 - mean_average_precision(0): 0.5890382814169735\n",
      "Epoch 29/30\n",
      "102/102 [==============================] - 29s 282ms/step - loss: 0.0200\n",
      "Validation: normalized_discounted_cumulative_gain@3(0): 0.5775933912963137 - normalized_discounted_cumulative_gain@5(0): 0.6263559878328221 - mean_average_precision(0): 0.5858021020523796\n",
      "Epoch 30/30\n",
      "102/102 [==============================] - 30s 292ms/step - loss: 0.0228\n",
      "Validation: normalized_discounted_cumulative_gain@3(0): 0.5874817598523392 - normalized_discounted_cumulative_gain@5(0): 0.6288176781645447 - mean_average_precision(0): 0.5900234538025846\n"
     ]
    }
   ],
   "source": [
    "history = model.fit_generator(train_generator, epochs=30, callbacks=[evaluate], workers=30, use_multiprocessing=True)"
   ]
  },
  {
   "cell_type": "code",
   "execution_count": null,
   "metadata": {},
   "outputs": [],
   "source": []
  }
 ],
 "metadata": {
  "kernelspec": {
   "display_name": "Python 3",
   "language": "python",
   "name": "python3"
  },
  "language_info": {
   "codemirror_mode": {
    "name": "ipython",
    "version": 3
   },
   "file_extension": ".py",
   "mimetype": "text/x-python",
   "name": "python",
   "nbconvert_exporter": "python",
   "pygments_lexer": "ipython3",
   "version": "3.6.5"
  }
 },
 "nbformat": 4,
 "nbformat_minor": 2
}
