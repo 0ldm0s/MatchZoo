{
 "cells": [
  {
   "cell_type": "code",
   "execution_count": 1,
   "metadata": {},
   "outputs": [
    {
     "name": "stderr",
     "output_type": "stream",
     "text": [
      "Using TensorFlow backend.\n",
      "/data/users/fyx/.local/python3/lib/python3.6/importlib/_bootstrap.py:219: RuntimeWarning: numpy.dtype size changed, may indicate binary incompatibility. Expected 96, got 88\n",
      "  return f(*args, **kwds)\n",
      "/data/users/fyx/.local/python3/lib/python3.6/importlib/_bootstrap.py:219: RuntimeWarning: numpy.dtype size changed, may indicate binary incompatibility. Expected 96, got 88\n",
      "  return f(*args, **kwds)\n"
     ]
    }
   ],
   "source": [
    "import keras\n",
    "import pandas as pd\n",
    "import numpy as np\n",
    "import matchzoo as mz"
   ]
  },
  {
   "cell_type": "code",
   "execution_count": 2,
   "metadata": {},
   "outputs": [],
   "source": [
    "train_pack = mz.datasets.wiki_qa.load_data('train', task='ranking')\n",
    "valid_pack = mz.datasets.wiki_qa.load_data('dev', task='ranking', filter=True)\n",
    "predict_pack = mz.datasets.wiki_qa.load_data('test', task='ranking', filter=True)"
   ]
  },
  {
   "cell_type": "code",
   "execution_count": 3,
   "metadata": {},
   "outputs": [
    {
     "name": "stderr",
     "output_type": "stream",
     "text": [
      "Processing text_left with chain_transform of TokenizeUnit => LowercaseUnit => PuncRemovalUnit: 100%|██████████| 2118/2118 [00:00<00:00, 8649.61it/s]\n",
      "Processing text_right with chain_transform of TokenizeUnit => LowercaseUnit => PuncRemovalUnit: 100%|██████████| 18841/18841 [00:03<00:00, 4723.69it/s]\n",
      "Processing text_right with append: 100%|██████████| 18841/18841 [00:00<00:00, 765203.70it/s]\n",
      "Building FrequencyFilterUnit from a datapack.: 100%|██████████| 18841/18841 [00:00<00:00, 132624.79it/s]\n",
      "Processing text_right with transform: 100%|██████████| 18841/18841 [00:00<00:00, 80349.12it/s] \n",
      "Processing text_left with extend: 100%|██████████| 2118/2118 [00:00<00:00, 609965.39it/s]\n",
      "Processing text_right with extend: 100%|██████████| 18841/18841 [00:00<00:00, 650159.05it/s]\n",
      "Building VocabularyUnit from a datapack.: 100%|██████████| 404415/404415 [00:00<00:00, 2505982.56it/s]\n",
      "Processing text_left with chain_transform of TokenizeUnit => LowercaseUnit => PuncRemovalUnit: 100%|██████████| 2118/2118 [00:00<00:00, 9009.56it/s]\n",
      "Processing text_right with chain_transform of TokenizeUnit => LowercaseUnit => PuncRemovalUnit: 100%|██████████| 18841/18841 [00:03<00:00, 4847.83it/s]\n",
      "Processing text_right with transform: 100%|██████████| 18841/18841 [00:00<00:00, 120645.73it/s]\n",
      "Processing text_left with transform: 100%|██████████| 2118/2118 [00:00<00:00, 167629.70it/s]\n",
      "Processing text_right with transform: 100%|██████████| 18841/18841 [00:00<00:00, 120385.85it/s]\n",
      "Processing length_left with len: 100%|██████████| 2118/2118 [00:00<00:00, 593184.82it/s]\n",
      "Processing length_right with len: 100%|██████████| 18841/18841 [00:00<00:00, 694858.62it/s]\n",
      "Processing text_left with transform: 100%|██████████| 2118/2118 [00:00<00:00, 119024.81it/s]\n",
      "Processing text_right with transform: 100%|██████████| 18841/18841 [00:00<00:00, 81603.64it/s]\n"
     ]
    }
   ],
   "source": [
    "preprocessor = mz.preprocessors.BasicPreprocessor(fixed_length_left=10, fixed_length_right=100, remove_stop_words=True)\n",
    "train_pack_processed = preprocessor.fit_transform(train_pack)"
   ]
  },
  {
   "cell_type": "code",
   "execution_count": 4,
   "metadata": {
    "scrolled": false
   },
   "outputs": [
    {
     "name": "stderr",
     "output_type": "stream",
     "text": [
      "Processing text_left with chain_transform of TokenizeUnit => LowercaseUnit => PuncRemovalUnit: 100%|██████████| 122/122 [00:00<00:00, 8795.36it/s]\n",
      "Processing text_right with chain_transform of TokenizeUnit => LowercaseUnit => PuncRemovalUnit: 100%|██████████| 1115/1115 [00:00<00:00, 4919.22it/s]\n",
      "Processing text_right with transform: 100%|██████████| 1115/1115 [00:00<00:00, 129364.30it/s]\n",
      "Processing text_left with transform: 100%|██████████| 122/122 [00:00<00:00, 118752.63it/s]\n",
      "Processing text_right with transform: 100%|██████████| 1115/1115 [00:00<00:00, 123960.27it/s]\n",
      "Processing length_left with len: 100%|██████████| 122/122 [00:00<00:00, 177367.45it/s]\n",
      "Processing length_right with len: 100%|██████████| 1115/1115 [00:00<00:00, 520611.04it/s]\n",
      "Processing text_left with transform: 100%|██████████| 122/122 [00:00<00:00, 77766.73it/s]\n",
      "Processing text_right with transform: 100%|██████████| 1115/1115 [00:00<00:00, 62944.48it/s]\n",
      "Processing text_left with chain_transform of TokenizeUnit => LowercaseUnit => PuncRemovalUnit: 100%|██████████| 237/237 [00:00<00:00, 9369.79it/s]\n",
      "Processing text_right with chain_transform of TokenizeUnit => LowercaseUnit => PuncRemovalUnit: 100%|██████████| 2300/2300 [00:00<00:00, 4873.66it/s]\n",
      "Processing text_right with transform: 100%|██████████| 2300/2300 [00:00<00:00, 129741.10it/s]\n",
      "Processing text_left with transform: 100%|██████████| 237/237 [00:00<00:00, 146961.86it/s]\n",
      "Processing text_right with transform: 100%|██████████| 2300/2300 [00:00<00:00, 134001.46it/s]\n",
      "Processing length_left with len: 100%|██████████| 237/237 [00:00<00:00, 261867.77it/s]\n",
      "Processing length_right with len: 100%|██████████| 2300/2300 [00:00<00:00, 607219.69it/s]\n",
      "Processing text_left with transform: 100%|██████████| 237/237 [00:00<00:00, 95895.24it/s]\n",
      "Processing text_right with transform: 100%|██████████| 2300/2300 [00:00<00:00, 18539.96it/s]\n"
     ]
    }
   ],
   "source": [
    "valid_pack_processed = preprocessor.transform(valid_pack)\n",
    "predict_pack_processed = preprocessor.transform(predict_pack)"
   ]
  },
  {
   "cell_type": "code",
   "execution_count": 5,
   "metadata": {},
   "outputs": [],
   "source": [
    "ranking_task = mz.tasks.Ranking(loss=mz.losses.RankHingeLoss())\n",
    "ranking_task.metrics = [\n",
    "    mz.metrics.NormalizedDiscountedCumulativeGain(k=3),\n",
    "    mz.metrics.NormalizedDiscountedCumulativeGain(k=5),\n",
    "    mz.metrics.MeanAveragePrecision()\n",
    "]"
   ]
  },
  {
   "cell_type": "code",
   "execution_count": 6,
   "metadata": {
    "scrolled": false
   },
   "outputs": [
    {
     "name": "stdout",
     "output_type": "stream",
     "text": [
      "Parameter \"name\" set to DRMMTKS.\n",
      "Parameter \"embedding_trainable\" set to True.\n",
      "__________________________________________________________________________________________________\n",
      "Layer (type)                    Output Shape         Param #     Connected to                     \n",
      "==================================================================================================\n",
      "text_left (InputLayer)          (None, 10)           0                                            \n",
      "__________________________________________________________________________________________________\n",
      "text_right (InputLayer)         (None, 100)          0                                            \n",
      "__________________________________________________________________________________________________\n",
      "embedding (Embedding)           multiple             1667400     text_left[0][0]                  \n",
      "                                                                 text_right[0][0]                 \n",
      "__________________________________________________________________________________________________\n",
      "dot_1 (Dot)                     (None, 10, 100)      0           embedding[0][0]                  \n",
      "                                                                 embedding[1][0]                  \n",
      "__________________________________________________________________________________________________\n",
      "lambda_2 (Lambda)               (None, 10, 20)       0           dot_1[0][0]                      \n",
      "__________________________________________________________________________________________________\n",
      "dense_1 (Dense)                 (None, 10, 1)        100         embedding[0][0]                  \n",
      "__________________________________________________________________________________________________\n",
      "dense_2 (Dense)                 (None, 10, 5)        105         lambda_2[0][0]                   \n",
      "__________________________________________________________________________________________________\n",
      "lambda_1 (Lambda)               (None, 10, 1)        0           dense_1[0][0]                    \n",
      "__________________________________________________________________________________________________\n",
      "dense_3 (Dense)                 (None, 10, 1)        6           dense_2[0][0]                    \n",
      "__________________________________________________________________________________________________\n",
      "dot_2 (Dot)                     (None, 1, 1)         0           lambda_1[0][0]                   \n",
      "                                                                 dense_3[0][0]                    \n",
      "__________________________________________________________________________________________________\n",
      "flatten_1 (Flatten)             (None, 1)            0           dot_2[0][0]                      \n",
      "__________________________________________________________________________________________________\n",
      "dense_4 (Dense)                 (None, 1)            2           flatten_1[0][0]                  \n",
      "==================================================================================================\n",
      "Total params: 1,667,613\n",
      "Trainable params: 1,667,613\n",
      "Non-trainable params: 0\n",
      "__________________________________________________________________________________________________\n"
     ]
    }
   ],
   "source": [
    "model = mz.models.DRMMTKS()\n",
    "model.params['input_shapes'] = preprocessor.context['input_shapes']\n",
    "model.params['task'] = ranking_task\n",
    "model.params['top_k'] = 20\n",
    "model.params['embedding_input_dim'] = preprocessor.context['vocab_size'] + 1\n",
    "model.params['embedding_output_dim'] = 100\n",
    "model.params['mlp_num_layers'] = 1\n",
    "model.params['mlp_num_units'] = 5\n",
    "model.params['mlp_num_fan_out'] = 1\n",
    "model.params['mlp_activation_func'] = 'relu'\n",
    "model.params['optimizer'] = 'adadelta'\n",
    "model.guess_and_fill_missing_params()\n",
    "model.build()\n",
    "model.compile()\n",
    "model.backend.summary()"
   ]
  },
  {
   "cell_type": "code",
   "execution_count": 7,
   "metadata": {},
   "outputs": [],
   "source": [
    "glove_embedding = mz.datasets.embeddings.load_glove_embedding(dimension=100)\n",
    "embedding_matrix = glove_embedding.build_matrix(preprocessor.context['vocab_unit'].state['term_index'])\n",
    "l2_norm = np.sqrt((embedding_matrix*embedding_matrix).sum(axis=1))\n",
    "embedding_matrix = embedding_matrix / l2_norm[:, np.newaxis]"
   ]
  },
  {
   "cell_type": "code",
   "execution_count": 8,
   "metadata": {},
   "outputs": [],
   "source": [
    "model.load_embedding_matrix(embedding_matrix)"
   ]
  },
  {
   "cell_type": "code",
   "execution_count": 9,
   "metadata": {},
   "outputs": [],
   "source": [
    "pred_x, pred_y = predict_pack_processed[:].unpack()\n",
    "evaluate = mz.callbacks.EvaluateAllMetrics(model, x=pred_x, y=pred_y, batch_size=len(pred_x))"
   ]
  },
  {
   "cell_type": "code",
   "execution_count": 10,
   "metadata": {},
   "outputs": [
    {
     "data": {
      "text/plain": [
       "102"
      ]
     },
     "execution_count": 10,
     "metadata": {},
     "output_type": "execute_result"
    }
   ],
   "source": [
    "train_generator = mz.PairDataGenerator(train_pack_processed, num_dup=2, num_neg=1, batch_size=20)\n",
    "len(train_generator)"
   ]
  },
  {
   "cell_type": "code",
   "execution_count": 11,
   "metadata": {
    "scrolled": false
   },
   "outputs": [
    {
     "name": "stdout",
     "output_type": "stream",
     "text": [
      "Epoch 1/30\n",
      "102/102 [==============================] - 4s 43ms/step - loss: 0.8918\n",
      "Validation: normalized_discounted_cumulative_gain@3(0): 0.4682798362501542 - normalized_discounted_cumulative_gain@5(0): 0.5359878711914133 - mean_average_precision(0): 0.49794627413484455\n",
      "Epoch 2/30\n",
      "102/102 [==============================] - 3s 33ms/step - loss: 0.7653\n",
      "Validation: normalized_discounted_cumulative_gain@3(0): 0.5152720506921331 - normalized_discounted_cumulative_gain@5(0): 0.5698828820481934 - mean_average_precision(0): 0.5355657271863283\n",
      "Epoch 3/30\n",
      "102/102 [==============================] - 3s 32ms/step - loss: 0.6458\n",
      "Validation: normalized_discounted_cumulative_gain@3(0): 0.5708994777157365 - normalized_discounted_cumulative_gain@5(0): 0.6167157152501852 - mean_average_precision(0): 0.5866471965336448\n",
      "Epoch 4/30\n",
      "102/102 [==============================] - 3s 32ms/step - loss: 0.4801\n",
      "Validation: normalized_discounted_cumulative_gain@3(0): 0.6020370816807975 - normalized_discounted_cumulative_gain@5(0): 0.659248069097364 - mean_average_precision(0): 0.6149204229900432\n",
      "Epoch 5/30\n",
      "102/102 [==============================] - 3s 33ms/step - loss: 0.3469\n",
      "Validation: normalized_discounted_cumulative_gain@3(0): 0.6160776182845547 - normalized_discounted_cumulative_gain@5(0): 0.6741097867567566 - mean_average_precision(0): 0.6318636373829971\n",
      "Epoch 6/30\n",
      "102/102 [==============================] - 3s 33ms/step - loss: 0.2506\n",
      "Validation: normalized_discounted_cumulative_gain@3(0): 0.6269262690998458 - normalized_discounted_cumulative_gain@5(0): 0.6789312164713315 - mean_average_precision(0): 0.6322622846586283\n",
      "Epoch 7/30\n",
      "102/102 [==============================] - 3s 33ms/step - loss: 0.1800\n",
      "Validation: normalized_discounted_cumulative_gain@3(0): 0.6231592258056923 - normalized_discounted_cumulative_gain@5(0): 0.6787985745111306 - mean_average_precision(0): 0.6315502712232344\n",
      "Epoch 8/30\n",
      "102/102 [==============================] - 3s 33ms/step - loss: 0.1273\n",
      "Validation: normalized_discounted_cumulative_gain@3(0): 0.6305251329109409 - normalized_discounted_cumulative_gain@5(0): 0.6783340128350911 - mean_average_precision(0): 0.6326935786559763\n",
      "Epoch 9/30\n",
      "102/102 [==============================] - 3s 32ms/step - loss: 0.0929\n",
      "Validation: normalized_discounted_cumulative_gain@3(0): 0.6225944424638284 - normalized_discounted_cumulative_gain@5(0): 0.6766044969790743 - mean_average_precision(0): 0.6289877143390488\n",
      "Epoch 10/30\n",
      "102/102 [==============================] - 3s 32ms/step - loss: 0.0670\n",
      "Validation: normalized_discounted_cumulative_gain@3(0): 0.6206734048656843 - normalized_discounted_cumulative_gain@5(0): 0.6723830607752154 - mean_average_precision(0): 0.6254458026977573\n",
      "Epoch 11/30\n",
      "102/102 [==============================] - 3s 33ms/step - loss: 0.0489\n",
      "Validation: normalized_discounted_cumulative_gain@3(0): 0.6139361936679257 - normalized_discounted_cumulative_gain@5(0): 0.6740239960999309 - mean_average_precision(0): 0.6212309774386282\n",
      "Epoch 12/30\n",
      "102/102 [==============================] - 3s 32ms/step - loss: 0.0352\n",
      "Validation: normalized_discounted_cumulative_gain@3(0): 0.6095781009172352 - normalized_discounted_cumulative_gain@5(0): 0.6709191976300422 - mean_average_precision(0): 0.6148456270054371\n",
      "Epoch 13/30\n",
      "102/102 [==============================] - 3s 32ms/step - loss: 0.0250\n",
      "Validation: normalized_discounted_cumulative_gain@3(0): 0.6151149002175088 - normalized_discounted_cumulative_gain@5(0): 0.6719202358084091 - mean_average_precision(0): 0.6177965617019971\n",
      "Epoch 14/30\n",
      "102/102 [==============================] - 3s 32ms/step - loss: 0.0183\n",
      "Validation: normalized_discounted_cumulative_gain@3(0): 0.6159810289556669 - normalized_discounted_cumulative_gain@5(0): 0.672268285708331 - mean_average_precision(0): 0.6186032122713061\n",
      "Epoch 15/30\n",
      "102/102 [==============================] - 3s 33ms/step - loss: 0.0137\n",
      "Validation: normalized_discounted_cumulative_gain@3(0): 0.6147375661310969 - normalized_discounted_cumulative_gain@5(0): 0.6736845502079971 - mean_average_precision(0): 0.6179767173410136\n",
      "Epoch 16/30\n",
      "102/102 [==============================] - 3s 33ms/step - loss: 0.0097\n",
      "Validation: normalized_discounted_cumulative_gain@3(0): 0.6127574871183425 - normalized_discounted_cumulative_gain@5(0): 0.6722851140512606 - mean_average_precision(0): 0.6155645400661223\n",
      "Epoch 17/30\n",
      "102/102 [==============================] - 3s 33ms/step - loss: 0.0077\n",
      "Validation: normalized_discounted_cumulative_gain@3(0): 0.6124687398460826 - normalized_discounted_cumulative_gain@5(0): 0.6719237389249205 - mean_average_precision(0): 0.613878345341953\n",
      "Epoch 18/30\n",
      "102/102 [==============================] - 3s 33ms/step - loss: 0.0057\n",
      "Validation: normalized_discounted_cumulative_gain@3(0): 0.6183339943666839 - normalized_discounted_cumulative_gain@5(0): 0.6718546360517348 - mean_average_precision(0): 0.618903125999645\n",
      "Epoch 19/30\n",
      "102/102 [==============================] - 3s 33ms/step - loss: 0.0043\n",
      "Validation: normalized_discounted_cumulative_gain@3(0): 0.6127176660916526 - normalized_discounted_cumulative_gain@5(0): 0.6704810991680316 - mean_average_precision(0): 0.613592455657329\n",
      "Epoch 20/30\n",
      "102/102 [==============================] - 3s 33ms/step - loss: 0.0031\n",
      "Validation: normalized_discounted_cumulative_gain@3(0): 0.617578108406106 - normalized_discounted_cumulative_gain@5(0): 0.6763421660357979 - mean_average_precision(0): 0.6216882862215141\n",
      "Epoch 21/30\n",
      "102/102 [==============================] - 3s 32ms/step - loss: 0.0023\n",
      "Validation: normalized_discounted_cumulative_gain@3(0): 0.6091790614829214 - normalized_discounted_cumulative_gain@5(0): 0.6698945498010102 - mean_average_precision(0): 0.6158306593195833\n",
      "Epoch 22/30\n",
      "102/102 [==============================] - 3s 32ms/step - loss: 0.0018\n",
      "Validation: normalized_discounted_cumulative_gain@3(0): 0.6113490747111094 - normalized_discounted_cumulative_gain@5(0): 0.6717454226666856 - mean_average_precision(0): 0.613445778611918\n",
      "Epoch 23/30\n",
      "102/102 [==============================] - 3s 32ms/step - loss: 0.0015\n",
      "Validation: normalized_discounted_cumulative_gain@3(0): 0.6129063331348585 - normalized_discounted_cumulative_gain@5(0): 0.6716703907645506 - mean_average_precision(0): 0.6152838257031294\n",
      "Epoch 24/30\n",
      "102/102 [==============================] - 3s 32ms/step - loss: 0.0011\n",
      "Validation: normalized_discounted_cumulative_gain@3(0): 0.6131700320801996 - normalized_discounted_cumulative_gain@5(0): 0.6728633908564473 - mean_average_precision(0): 0.6169820454393239\n",
      "Epoch 25/30\n",
      "102/102 [==============================] - 3s 32ms/step - loss: 8.8359e-04\n",
      "Validation: normalized_discounted_cumulative_gain@3(0): 0.6134587793524596 - normalized_discounted_cumulative_gain@5(0): 0.674040037649128 - mean_average_precision(0): 0.6163170166097381\n",
      "Epoch 26/30\n",
      "102/102 [==============================] - 3s 32ms/step - loss: 7.3373e-04\n",
      "Validation: normalized_discounted_cumulative_gain@3(0): 0.6144635915586077 - normalized_discounted_cumulative_gain@5(0): 0.6730427388472074 - mean_average_precision(0): 0.6170604363404996\n",
      "Epoch 27/30\n",
      "102/102 [==============================] - 3s 32ms/step - loss: 7.1196e-04\n",
      "Validation: normalized_discounted_cumulative_gain@3(0): 0.6128563495596426 - normalized_discounted_cumulative_gain@5(0): 0.6735097931645107 - mean_average_precision(0): 0.6153446825677837\n",
      "Epoch 28/30\n",
      "102/102 [==============================] - 3s 32ms/step - loss: 5.8413e-04\n",
      "Validation: normalized_discounted_cumulative_gain@3(0): 0.6113490747111094 - normalized_discounted_cumulative_gain@5(0): 0.6728188847518597 - mean_average_precision(0): 0.6159072704721439\n",
      "Epoch 29/30\n",
      "102/102 [==============================] - 3s 32ms/step - loss: 5.7735e-04\n",
      "Validation: normalized_discounted_cumulative_gain@3(0): 0.6103590352047323 - normalized_discounted_cumulative_gain@5(0): 0.6726816188594089 - mean_average_precision(0): 0.6156625550375551\n",
      "Epoch 30/30\n",
      "102/102 [==============================] - 3s 32ms/step - loss: 6.5911e-04\n",
      "Validation: normalized_discounted_cumulative_gain@3(0): 0.6103590352047323 - normalized_discounted_cumulative_gain@5(0): 0.6708637659687712 - mean_average_precision(0): 0.6152451630062388\n"
     ]
    }
   ],
   "source": [
    "history = model.fit_generator(train_generator, epochs=30, callbacks=[evaluate], workers=30, use_multiprocessing=True)"
   ]
  },
  {
   "cell_type": "code",
   "execution_count": null,
   "metadata": {},
   "outputs": [],
   "source": []
  }
 ],
 "metadata": {
  "kernelspec": {
   "display_name": "Python 3",
   "language": "python",
   "name": "python3"
  },
  "language_info": {
   "codemirror_mode": {
    "name": "ipython",
    "version": 3
   },
   "file_extension": ".py",
   "mimetype": "text/x-python",
   "name": "python",
   "nbconvert_exporter": "python",
   "pygments_lexer": "ipython3",
   "version": "3.6.5"
  }
 },
 "nbformat": 4,
 "nbformat_minor": 2
}
