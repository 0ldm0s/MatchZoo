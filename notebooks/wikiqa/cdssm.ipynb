{
 "cells": [
  {
   "cell_type": "code",
   "execution_count": 1,
   "metadata": {},
   "outputs": [
    {
     "name": "stderr",
     "output_type": "stream",
     "text": [
      "Using TensorFlow backend.\n"
     ]
    }
   ],
   "source": [
    "import keras\n",
    "import pandas as pd\n",
    "import numpy as np\n",
    "import matchzoo as mz"
   ]
  },
  {
   "cell_type": "code",
   "execution_count": 2,
   "metadata": {},
   "outputs": [],
   "source": [
    "train_pack = mz.datasets.wiki_qa.load_data('train', task='ranking')\n",
    "valid_pack = mz.datasets.wiki_qa.load_data('dev', task='ranking', filter=True)\n",
    "predict_pack = mz.datasets.wiki_qa.load_data('test', task='ranking', filter=True)"
   ]
  },
  {
   "cell_type": "code",
   "execution_count": 3,
   "metadata": {},
   "outputs": [
    {
     "name": "stderr",
     "output_type": "stream",
     "text": [
      "Processing text_left with chain_transform of TokenizeUnit => LowercaseUnit => PuncRemovalUnit => StopRemovalUnit => NgramLetterUnit: 100%|██████████| 2118/2118 [00:00<00:00, 6532.57it/s]\n",
      "Processing text_right with chain_transform of TokenizeUnit => LowercaseUnit => PuncRemovalUnit => StopRemovalUnit => NgramLetterUnit: 100%|██████████| 18841/18841 [00:05<00:00, 3734.87it/s]\n",
      "Processing text_left with extend: 100%|██████████| 2118/2118 [00:00<00:00, 533738.04it/s]\n",
      "Processing text_right with extend: 100%|██████████| 18841/18841 [00:00<00:00, 453939.02it/s]\n",
      "Building VocabularyUnit from a datapack.: 100%|██████████| 1614998/1614998 [00:00<00:00, 3414564.50it/s]\n",
      "Processing text_left with chain_transform of TokenizeUnit => LowercaseUnit => PuncRemovalUnit => StopRemovalUnit: 100%|██████████| 2118/2118 [00:00<00:00, 9072.20it/s]\n",
      "Processing text_right with chain_transform of TokenizeUnit => LowercaseUnit => PuncRemovalUnit => StopRemovalUnit: 100%|██████████| 18841/18841 [00:04<00:00, 4324.55it/s]\n",
      "Processing text_left with transform: 100%|██████████| 2118/2118 [00:00<00:00, 134383.20it/s]\n",
      "Processing text_right with transform: 100%|██████████| 18841/18841 [00:00<00:00, 74492.74it/s]\n",
      "Processing text_left with chain_transform of NgramLetterUnit => WordHashingUnit: 100%|██████████| 2118/2118 [00:00<00:00, 4736.46it/s]\n",
      "Processing text_right with chain_transform of NgramLetterUnit => WordHashingUnit: 100%|██████████| 18841/18841 [00:08<00:00, 2203.12it/s]\n"
     ]
    }
   ],
   "source": [
    "preprocessor = mz.preprocessors.CDSSMPreprocessor(fixed_length_left=10, fixed_length_right=40)\n",
    "train_pack_processed = preprocessor.fit_transform(train_pack)"
   ]
  },
  {
   "cell_type": "code",
   "execution_count": 4,
   "metadata": {
    "scrolled": false
   },
   "outputs": [
    {
     "name": "stderr",
     "output_type": "stream",
     "text": [
      "Processing text_left with chain_transform of TokenizeUnit => LowercaseUnit => PuncRemovalUnit => StopRemovalUnit: 100%|██████████| 122/122 [00:00<00:00, 3838.95it/s]\n",
      "Processing text_right with chain_transform of TokenizeUnit => LowercaseUnit => PuncRemovalUnit => StopRemovalUnit: 100%|██████████| 1115/1115 [00:00<00:00, 3971.28it/s]\n",
      "Processing text_left with transform: 100%|██████████| 122/122 [00:00<00:00, 76282.81it/s]\n",
      "Processing text_right with transform: 100%|██████████| 1115/1115 [00:00<00:00, 73029.28it/s]\n",
      "Processing text_left with chain_transform of NgramLetterUnit => WordHashingUnit: 100%|██████████| 122/122 [00:00<00:00, 6352.17it/s]\n",
      "Processing text_right with chain_transform of NgramLetterUnit => WordHashingUnit: 100%|██████████| 1115/1115 [00:00<00:00, 2257.86it/s]\n",
      "Processing text_left with chain_transform of TokenizeUnit => LowercaseUnit => PuncRemovalUnit => StopRemovalUnit: 100%|██████████| 237/237 [00:00<00:00, 9320.59it/s]\n",
      "Processing text_right with chain_transform of TokenizeUnit => LowercaseUnit => PuncRemovalUnit => StopRemovalUnit: 100%|██████████| 2300/2300 [00:00<00:00, 4471.06it/s]\n",
      "Processing text_left with transform: 100%|██████████| 237/237 [00:00<00:00, 103363.84it/s]\n",
      "Processing text_right with transform: 100%|██████████| 2300/2300 [00:00<00:00, 72951.59it/s]\n",
      "Processing text_left with chain_transform of NgramLetterUnit => WordHashingUnit: 100%|██████████| 237/237 [00:00<00:00, 6625.94it/s]\n",
      "Processing text_right with chain_transform of NgramLetterUnit => WordHashingUnit: 100%|██████████| 2300/2300 [00:01<00:00, 2234.44it/s]\n"
     ]
    }
   ],
   "source": [
    "valid_pack_processed = preprocessor.transform(valid_pack)\n",
    "predict_pack_processed = preprocessor.transform(predict_pack)"
   ]
  },
  {
   "cell_type": "code",
   "execution_count": 5,
   "metadata": {},
   "outputs": [],
   "source": [
    "ranking_task = mz.tasks.Ranking(loss=mz.losses.RankHingeLoss())\n",
    "ranking_task.metrics = [\n",
    "    mz.metrics.NormalizedDiscountedCumulativeGain(k=3),\n",
    "    mz.metrics.NormalizedDiscountedCumulativeGain(k=5),\n",
    "    mz.metrics.MeanAveragePrecision()\n",
    "]"
   ]
  },
  {
   "cell_type": "code",
   "execution_count": 6,
   "metadata": {
    "scrolled": false
   },
   "outputs": [
    {
     "name": "stdout",
     "output_type": "stream",
     "text": [
      "Parameter \"name\" set to CDSSMModel.\n"
     ]
    }
   ],
   "source": [
    "model = mz.models.CDSSMModel()\n",
    "model.params['input_shapes'] = preprocessor.context['input_shapes']\n",
    "model.params['task'] = ranking_task\n",
    "model.params['filters'] = 50\n",
    "model.params['kernel_size'] = 3\n",
    "model.params['strides'] = 1\n",
    "model.params['padding'] = 'same'\n",
    "model.params['conv_activation_func'] = 'relu'\n",
    "model.params['w_initializer'] = 'glorot_normal'\n",
    "model.params['b_initializer'] = 'zeros'\n",
    "model.params['mlp_num_layers'] = 0\n",
    "model.params['mlp_num_units'] = 10\n",
    "model.params['mlp_num_fan_out'] = 10\n",
    "model.params['mlp_activation_func'] = 'linear'\n",
    "model.params['dropout_rate'] = 0.9\n",
    "model.params['optimizer'] = 'adadelta'\n",
    "model.guess_and_fill_missing_params()\n",
    "model.build()\n",
    "model.compile()\n",
    "#model.backend.summary()"
   ]
  },
  {
   "cell_type": "code",
   "execution_count": 8,
   "metadata": {},
   "outputs": [],
   "source": [
    "pred_x, pred_y = predict_pack_processed[:].unpack()\n",
    "evaluate = mz.callbacks.EvaluateAllMetrics(model, x=pred_x, y=pred_y, batch_size=len(pred_x))\n",
    "train_generator = mz.PairDataGenerator(train_pack_processed, num_dup=5, num_neg=1, batch_size=20)"
   ]
  },
  {
   "cell_type": "code",
   "execution_count": 9,
   "metadata": {
    "scrolled": false
   },
   "outputs": [
    {
     "name": "stdout",
     "output_type": "stream",
     "text": [
      "Epoch 1/10\n",
      "255/255 [==============================] - 59s 230ms/step - loss: 0.7897\n",
      "Validation: loss:nan - normalized_discounted_cumulative_gain@3(0):0.430714 - normalized_discounted_cumulative_gain@5(0):0.523023 - mean_average_precision(0):0.470724\n",
      "Epoch 2/10\n",
      "255/255 [==============================] - 51s 201ms/step - loss: 0.5914\n",
      "Validation: loss:nan - normalized_discounted_cumulative_gain@3(0):0.493252 - normalized_discounted_cumulative_gain@5(0):0.575607 - mean_average_precision(0):0.522119\n",
      "Epoch 3/10\n",
      "255/255 [==============================] - 55s 216ms/step - loss: 0.4750\n",
      "Validation: loss:nan - normalized_discounted_cumulative_gain@3(0):0.490502 - normalized_discounted_cumulative_gain@5(0):0.561662 - mean_average_precision(0):0.515332\n",
      "Epoch 4/10\n",
      "255/255 [==============================] - 53s 209ms/step - loss: 0.3961\n",
      "Validation: loss:nan - normalized_discounted_cumulative_gain@3(0):0.497243 - normalized_discounted_cumulative_gain@5(0):0.559326 - mean_average_precision(0):0.513827\n",
      "Epoch 5/10\n",
      "255/255 [==============================] - 58s 229ms/step - loss: 0.3415\n",
      "Validation: loss:nan - normalized_discounted_cumulative_gain@3(0):0.492226 - normalized_discounted_cumulative_gain@5(0):0.555762 - mean_average_precision(0):0.517525\n",
      "Epoch 6/10\n",
      "255/255 [==============================] - 55s 215ms/step - loss: 0.2978\n",
      "Validation: loss:nan - normalized_discounted_cumulative_gain@3(0):0.502577 - normalized_discounted_cumulative_gain@5(0):0.569330 - mean_average_precision(0):0.527808\n",
      "Epoch 7/10\n",
      "255/255 [==============================] - 57s 225ms/step - loss: 0.2671\n",
      "Validation: loss:nan - normalized_discounted_cumulative_gain@3(0):0.490484 - normalized_discounted_cumulative_gain@5(0):0.554197 - mean_average_precision(0):0.513538\n",
      "Epoch 8/10\n",
      "255/255 [==============================] - 54s 210ms/step - loss: 0.2560\n",
      "Validation: loss:nan - normalized_discounted_cumulative_gain@3(0):0.493655 - normalized_discounted_cumulative_gain@5(0):0.553348 - mean_average_precision(0):0.511554\n",
      "Epoch 9/10\n",
      "255/255 [==============================] - 57s 222ms/step - loss: 0.2224\n",
      "Validation: loss:nan - normalized_discounted_cumulative_gain@3(0):0.492044 - normalized_discounted_cumulative_gain@5(0):0.561572 - mean_average_precision(0):0.518237\n",
      "Epoch 10/10\n",
      "255/255 [==============================] - 56s 219ms/step - loss: 0.2186\n",
      "Validation: loss:nan - normalized_discounted_cumulative_gain@3(0):0.487297 - normalized_discounted_cumulative_gain@5(0):0.552267 - mean_average_precision(0):0.514725\n"
     ]
    }
   ],
   "source": [
    "history = model.fit_generator(train_generator, epochs=10, callbacks=[evaluate], workers=1, use_multiprocessing=False)"
   ]
  },
  {
   "cell_type": "code",
   "execution_count": null,
   "metadata": {},
   "outputs": [],
   "source": []
  }
 ],
 "metadata": {
  "kernelspec": {
   "display_name": "Python 3",
   "language": "python",
   "name": "python3"
  },
  "language_info": {
   "codemirror_mode": {
    "name": "ipython",
    "version": 3
   },
   "file_extension": ".py",
   "mimetype": "text/x-python",
   "name": "python",
   "nbconvert_exporter": "python",
   "pygments_lexer": "ipython3",
   "version": "3.6.8"
  }
 },
 "nbformat": 4,
 "nbformat_minor": 2
}
