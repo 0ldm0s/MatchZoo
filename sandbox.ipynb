{
 "cells": [
  {
   "cell_type": "code",
   "execution_count": 1,
   "metadata": {
    "ExecuteTime": {
     "end_time": "2018-12-02T03:23:10.720674Z",
     "start_time": "2018-12-02T03:23:08.873138Z"
    }
   },
   "outputs": [
    {
     "name": "stderr",
     "output_type": "stream",
     "text": [
      "Using TensorFlow backend.\n"
     ]
    }
   ],
   "source": [
    "import keras\n",
    "import pandas as pd\n",
    "import numpy as np\n",
    "import matchzoo as mz"
   ]
  },
  {
   "cell_type": "markdown",
   "metadata": {},
   "source": [
    "## Read Data "
   ]
  },
  {
   "cell_type": "code",
   "execution_count": 2,
   "metadata": {
    "ExecuteTime": {
     "end_time": "2018-12-02T03:23:10.794215Z",
     "start_time": "2018-12-02T03:23:10.722471Z"
    },
    "collapsed": true
   },
   "outputs": [],
   "source": [
    "def read_data(path, include_label):\n",
    "    def scan_file():\n",
    "        with open(path) as in_file:\n",
    "            next(in_file)  # skip header\n",
    "            for l in in_file:\n",
    "                yield l.strip().split('\\t')\n",
    "    if include_label:\n",
    "        return [(qid, did, q, d, float(label)) for qid, q, _, _, did, d, label in scan_file()]\n",
    "    else:\n",
    "        return [(qid, did, q, d) for qid, q, _, _, did, d, _ in scan_file()]\n",
    "\n",
    "train = read_data('data/WikiQA/WikiQACorpus/WikiQA-train.tsv', include_label=True)\n",
    "predict  = read_data('data/WikiQA/WikiQACorpus/WikiQA-test.tsv', include_label=False)"
   ]
  },
  {
   "cell_type": "markdown",
   "metadata": {},
   "source": [
    "## Preprocess Data"
   ]
  },
  {
   "cell_type": "code",
   "execution_count": 3,
   "metadata": {
    "ExecuteTime": {
     "end_time": "2018-12-02T03:23:10.819601Z",
     "start_time": "2018-12-02T03:23:10.795994Z"
    },
    "collapsed": true
   },
   "outputs": [],
   "source": [
    "train_pack = mz.pack(train[:1000])\n",
    "predict_pack = mz.pack(predict[:1000])"
   ]
  },
  {
   "cell_type": "code",
   "execution_count": 4,
   "metadata": {
    "ExecuteTime": {
     "end_time": "2018-12-02T03:23:11.180079Z",
     "start_time": "2018-12-02T03:23:10.822479Z"
    }
   },
   "outputs": [
    {
     "name": "stderr",
     "output_type": "stream",
     "text": [
      "Processing text_left with chain_transform of TokenizeUnit => LowercaseUnit => PuncRemovalUnit => StopRemovalUnit => NgramLetterUnit: 100%|██████████| 96/96 [00:00<00:00, 3247.86it/s]\n",
      "Processing text_right with chain_transform of TokenizeUnit => LowercaseUnit => PuncRemovalUnit => StopRemovalUnit => NgramLetterUnit: 100%|██████████| 1000/1000 [00:00<00:00, 3829.20it/s]\n",
      "Processing text_left with extend: 100%|██████████| 96/96 [00:00<00:00, 134982.63it/s]\n",
      "Processing text_right with extend: 100%|██████████| 1000/1000 [00:00<00:00, 354638.03it/s]\n",
      "Fitting vocabulary unit.: 100%|██████████| 84935/84935 [00:00<00:00, 2845211.25it/s]\n"
     ]
    },
    {
     "data": {
      "text/plain": [
       "<matchzoo.preprocessors.dssm_preprocessor.DSSMPreprocessor at 0x11566b860>"
      ]
     },
     "execution_count": 4,
     "metadata": {},
     "output_type": "execute_result"
    }
   ],
   "source": [
    "preprocessor = mz.preprocessors.DSSMPreprocessor()\n",
    "preprocessor.fit(train_pack)"
   ]
  },
  {
   "cell_type": "code",
   "execution_count": 5,
   "metadata": {
    "ExecuteTime": {
     "end_time": "2018-12-02T03:23:11.845399Z",
     "start_time": "2018-12-02T03:23:11.181481Z"
    }
   },
   "outputs": [
    {
     "name": "stderr",
     "output_type": "stream",
     "text": [
      "Processing text_left with chain_transform of TokenizeUnit => LowercaseUnit => PuncRemovalUnit => StopRemovalUnit => NgramLetterUnit => WordHashingUnit: 100%|██████████| 96/96 [00:00<00:00, 5377.53it/s]\n",
      "Processing text_right with chain_transform of TokenizeUnit => LowercaseUnit => PuncRemovalUnit => StopRemovalUnit => NgramLetterUnit => WordHashingUnit: 100%|██████████| 1000/1000 [00:00<00:00, 3206.69it/s]\n",
      "Processing text_left with chain_transform of TokenizeUnit => LowercaseUnit => PuncRemovalUnit => StopRemovalUnit => NgramLetterUnit => WordHashingUnit: 100%|██████████| 108/108 [00:00<00:00, 5587.09it/s]\n",
      "Processing text_right with chain_transform of TokenizeUnit => LowercaseUnit => PuncRemovalUnit => StopRemovalUnit => NgramLetterUnit => WordHashingUnit: 100%|██████████| 992/992 [00:00<00:00, 3297.83it/s]\n"
     ]
    }
   ],
   "source": [
    "train_pack_processed = preprocessor.transform(train_pack)\n",
    "predict_pack_processed = preprocessor.transform(predict_pack)"
   ]
  },
  {
   "cell_type": "markdown",
   "metadata": {
    "ExecuteTime": {
     "end_time": "2018-11-10T02:34:54.973094Z",
     "start_time": "2018-11-10T02:34:54.970086Z"
    }
   },
   "source": [
    "## Generate Data"
   ]
  },
  {
   "cell_type": "code",
   "execution_count": 6,
   "metadata": {
    "ExecuteTime": {
     "end_time": "2018-12-02T03:23:11.849615Z",
     "start_time": "2018-12-02T03:23:11.847178Z"
    },
    "collapsed": true
   },
   "outputs": [],
   "source": [
    "train_generator = mz.DataGenerator(train_pack_processed, batch_size=32)"
   ]
  },
  {
   "cell_type": "markdown",
   "metadata": {
    "ExecuteTime": {
     "end_time": "2018-11-10T02:35:25.875534Z",
     "start_time": "2018-11-10T02:35:25.873244Z"
    }
   },
   "source": [
    "## Model Building"
   ]
  },
  {
   "cell_type": "code",
   "execution_count": 7,
   "metadata": {
    "ExecuteTime": {
     "end_time": "2018-12-02T03:23:11.858819Z",
     "start_time": "2018-12-02T03:23:11.851198Z"
    }
   },
   "outputs": [
    {
     "data": {
      "text/plain": [
       "['mae',\n",
       " mean_average_precision(0),\n",
       " precision@1(0),\n",
       " precision@3(0),\n",
       " discounted_cumulative_gain@1(0),\n",
       " discounted_cumulative_gain@3(0),\n",
       " discounted_cumulative_gain@5(0),\n",
       " normalized_discounted_cumulative_gain@1(0),\n",
       " normalized_discounted_cumulative_gain@3(0),\n",
       " normalized_discounted_cumulative_gain@5(0)]"
      ]
     },
     "execution_count": 7,
     "metadata": {},
     "output_type": "execute_result"
    }
   ],
   "source": [
    "ranking_task = mz.tasks.Ranking()\n",
    "ranking_task.metrics = [\n",
    "    'mae', 'map', 'precision',\n",
    "    mz.metrics.Precision(k=3),\n",
    "    mz.metrics.DiscountedCumulativeGain(k=1),\n",
    "    mz.metrics.DiscountedCumulativeGain(k=3),\n",
    "    mz.metrics.DiscountedCumulativeGain(k=5),\n",
    "    mz.metrics.NormalizedDiscountedCumulativeGain(k=1),\n",
    "    mz.metrics.NormalizedDiscountedCumulativeGain(k=3),\n",
    "    mz.metrics.NormalizedDiscountedCumulativeGain(k=5)\n",
    "]\n",
    "ranking_task.metrics"
   ]
  },
  {
   "cell_type": "code",
   "execution_count": 8,
   "metadata": {
    "ExecuteTime": {
     "end_time": "2018-12-02T03:23:11.988198Z",
     "start_time": "2018-12-02T03:23:11.861145Z"
    }
   },
   "outputs": [
    {
     "name": "stdout",
     "output_type": "stream",
     "text": [
      "Parameter \"name\" set to DSSMModel.\n"
     ]
    }
   ],
   "source": [
    "model = mz.models.DSSMModel()\n",
    "model.params['task'] = ranking_task\n",
    "model.params['input_shapes'] = preprocessor.context['input_shapes']\n",
    "model.guess_and_fill_missing_params()\n",
    "model.build()\n",
    "model.compile()"
   ]
  },
  {
   "cell_type": "markdown",
   "metadata": {},
   "source": [
    "## Model Training"
   ]
  },
  {
   "cell_type": "code",
   "execution_count": 9,
   "metadata": {
    "ExecuteTime": {
     "end_time": "2018-12-02T03:23:13.676516Z",
     "start_time": "2018-12-02T03:23:11.989729Z"
    }
   },
   "outputs": [
    {
     "name": "stdout",
     "output_type": "stream",
     "text": [
      "Epoch 1/2\n",
      "1000/1000 [==============================] - 1s 765us/step - loss: 0.0425 - mean_absolute_error: 0.0836\n",
      "Epoch 2/2\n",
      "1000/1000 [==============================] - 0s 436us/step - loss: 0.0317 - mean_absolute_error: 0.0758\n"
     ]
    },
    {
     "data": {
      "text/plain": [
       "<keras.callbacks.History at 0x11635ed68>"
      ]
     },
     "execution_count": 9,
     "metadata": {},
     "output_type": "execute_result"
    }
   ],
   "source": [
    "model.fit(*train_pack_processed.unpack(), epochs=2, batch_size=32)"
   ]
  },
  {
   "cell_type": "code",
   "execution_count": 10,
   "metadata": {
    "ExecuteTime": {
     "end_time": "2018-12-02T03:23:15.070638Z",
     "start_time": "2018-12-02T03:23:13.678418Z"
    }
   },
   "outputs": [
    {
     "name": "stdout",
     "output_type": "stream",
     "text": [
      "Epoch 1/2\n",
      "32/32 [==============================] - 1s 20ms/step - loss: 0.0255 - mean_absolute_error: 0.0613\n",
      "Epoch 2/2\n",
      "32/32 [==============================] - 1s 21ms/step - loss: 0.0222 - mean_absolute_error: 0.0531\n"
     ]
    },
    {
     "data": {
      "text/plain": [
       "<keras.callbacks.History at 0x11635ebe0>"
      ]
     },
     "execution_count": 10,
     "metadata": {},
     "output_type": "execute_result"
    }
   ],
   "source": [
    "model.fit_generator(train_generator, epochs=2, workers=4, use_multiprocessing=True)"
   ]
  },
  {
   "cell_type": "markdown",
   "metadata": {},
   "source": [
    "### Training with Dynamic Data Generator"
   ]
  },
  {
   "cell_type": "code",
   "execution_count": 11,
   "metadata": {
    "ExecuteTime": {
     "end_time": "2018-12-02T03:23:17.205961Z",
     "start_time": "2018-12-02T03:23:15.073617Z"
    }
   },
   "outputs": [
    {
     "name": "stderr",
     "output_type": "stream",
     "text": [
      "Processing text_left with chain_transform of TokenizeUnit => LowercaseUnit => PuncRemovalUnit => StopRemovalUnit => NgramLetterUnit: 100%|██████████| 96/96 [00:00<00:00, 4151.19it/s]\n",
      "Processing text_right with chain_transform of TokenizeUnit => LowercaseUnit => PuncRemovalUnit => StopRemovalUnit => NgramLetterUnit: 100%|██████████| 1000/1000 [00:00<00:00, 3526.08it/s]\n",
      "Processing text_left with extend: 100%|██████████| 96/96 [00:00<00:00, 53931.58it/s]\n",
      "Processing text_right with extend: 100%|██████████| 1000/1000 [00:00<00:00, 339317.53it/s]\n",
      "Fitting vocabulary unit.: 100%|██████████| 84935/84935 [00:00<00:00, 2543558.77it/s]\n",
      "Processing text_left with chain_transform of TokenizeUnit => LowercaseUnit => PuncRemovalUnit => StopRemovalUnit => NgramLetterUnit: 100%|██████████| 96/96 [00:00<00:00, 8111.47it/s]\n",
      "Processing text_right with chain_transform of TokenizeUnit => LowercaseUnit => PuncRemovalUnit => StopRemovalUnit => NgramLetterUnit: 100%|██████████| 1000/1000 [00:00<00:00, 4009.97it/s]\n"
     ]
    },
    {
     "name": "stdout",
     "output_type": "stream",
     "text": [
      "Epoch 1/2\n",
      "32/32 [==============================] - 1s 21ms/step - loss: 0.0192 - mean_absolute_error: 0.0476\n",
      "Epoch 2/2\n",
      "32/32 [==============================] - 1s 24ms/step - loss: 0.0168 - mean_absolute_error: 0.0440\n"
     ]
    },
    {
     "data": {
      "text/plain": [
       "<keras.callbacks.History at 0x11694c438>"
      ]
     },
     "execution_count": 11,
     "metadata": {},
     "output_type": "execute_result"
    }
   ],
   "source": [
    "pp_no_hashing = mz.preprocessors.DSSMPreprocessor(with_word_hashing=False)\n",
    "train_pack_processed_no_hashing = pp_no_hashing.fit_transform(train_pack)\n",
    "word_hashing_unit = mz.processor_units.WordHashingUnit(pp_no_hashing.context['vocab_unit'].state['term_index'])\n",
    "dynamic_data_generator = mz.data_generator.DynamicDataGenerator(word_hashing_unit.transform,\n",
    "                                                                train_pack_processed_no_hashing)\n",
    "model.fit_generator(dynamic_data_generator, epochs=2, workers=4, use_multiprocessing=True)"
   ]
  },
  {
   "cell_type": "markdown",
   "metadata": {
    "ExecuteTime": {
     "end_time": "2018-11-10T03:13:53.981929Z",
     "start_time": "2018-11-10T03:13:53.979557Z"
    }
   },
   "source": [
    "## Model Predicting "
   ]
  },
  {
   "cell_type": "code",
   "execution_count": 12,
   "metadata": {
    "ExecuteTime": {
     "end_time": "2018-12-02T03:23:17.346075Z",
     "start_time": "2018-12-02T03:23:17.208723Z"
    }
   },
   "outputs": [
    {
     "data": {
      "text/plain": [
       "array([[-0.12035733],\n",
       "       [-0.01671004],\n",
       "       [-0.09138029],\n",
       "       [-0.10102976],\n",
       "       [-0.03708177],\n",
       "       [-0.09206843],\n",
       "       [ 0.08697687],\n",
       "       [ 0.08094203],\n",
       "       [ 0.0192414 ],\n",
       "       [-0.01353657]], dtype=float32)"
      ]
     },
     "execution_count": 12,
     "metadata": {},
     "output_type": "execute_result"
    }
   ],
   "source": [
    "model.predict(predict_pack_processed[:10].unpack()[0])"
   ]
  },
  {
   "cell_type": "markdown",
   "metadata": {},
   "source": [
    "## Model Evaluating"
   ]
  },
  {
   "cell_type": "code",
   "execution_count": 13,
   "metadata": {
    "ExecuteTime": {
     "end_time": "2018-12-02T03:23:17.829603Z",
     "start_time": "2018-12-02T03:23:17.353825Z"
    }
   },
   "outputs": [
    {
     "name": "stdout",
     "output_type": "stream",
     "text": [
      "1000/1000 [==============================] - 0s 137us/step\n"
     ]
    },
    {
     "data": {
      "text/plain": [
       "{'loss': 0.015919701620936394,\n",
       " 'mean_absolute_error': 0.042832092851400376,\n",
       " 'mean_average_precision(0)': 0.3333333333333333,\n",
       " 'precision@1(0)': 0.3333333333333333,\n",
       " 'precision@3(0)': 0.13194444444444445,\n",
       " 'discounted_cumulative_gain@1(0)': 0.4808983469629878,\n",
       " 'discounted_cumulative_gain@3(0)': 0.5338530547483661,\n",
       " 'discounted_cumulative_gain@5(0)': 0.5338530547483661,\n",
       " 'normalized_discounted_cumulative_gain@1(0)': 0.3333333333333333,\n",
       " 'normalized_discounted_cumulative_gain@3(0)': 0.3333333333333333,\n",
       " 'normalized_discounted_cumulative_gain@5(0)': 0.3333333333333333}"
      ]
     },
     "execution_count": 13,
     "metadata": {},
     "output_type": "execute_result"
    }
   ],
   "source": [
    "model.evaluate(*train_pack_processed.unpack())"
   ]
  },
  {
   "cell_type": "markdown",
   "metadata": {},
   "source": [
    "## Automation"
   ]
  },
  {
   "cell_type": "code",
   "execution_count": 14,
   "metadata": {
    "ExecuteTime": {
     "end_time": "2018-12-02T03:23:17.844230Z",
     "start_time": "2018-12-02T03:23:17.831723Z"
    },
    "collapsed": true
   },
   "outputs": [],
   "source": [
    "train_pack.shuffle(inplace=True)"
   ]
  },
  {
   "cell_type": "code",
   "execution_count": 15,
   "metadata": {
    "ExecuteTime": {
     "end_time": "2018-12-02T03:23:17.859532Z",
     "start_time": "2018-12-02T03:23:17.847144Z"
    },
    "collapsed": true
   },
   "outputs": [],
   "source": [
    "divider = int(len(train_pack) * 0.9)\n",
    "train_pack_divided = train_pack[:divider]\n",
    "test_pack_divided = train_pack[divider:]"
   ]
  },
  {
   "cell_type": "code",
   "execution_count": 16,
   "metadata": {
    "ExecuteTime": {
     "end_time": "2018-12-02T03:23:17.869324Z",
     "start_time": "2018-12-02T03:23:17.861894Z"
    }
   },
   "outputs": [],
   "source": [
    "director = mz.Director()\n",
    "director.params['models'] = [\n",
    "    mz.models.DenseBaselineModel(),\n",
    "    mz.models.DSSMModel(),\n",
    "    mz.models.ArcIModel(),\n",
    "    mz.models.KNRMModel(),\n",
    "    mz.models.ConvKNRMModel(),\n",
    "]\n",
    "director.params['evals_per_model'] = 5\n",
    "director.params['train_pack'] = train_pack_divided\n",
    "director.params['test_pack'] = test_pack_divided\n",
    "director.params['task'] = ranking_task"
   ]
  },
  {
   "cell_type": "code",
   "execution_count": 17,
   "metadata": {
    "ExecuteTime": {
     "end_time": "2018-12-02T03:26:16.897340Z",
     "start_time": "2018-12-02T03:23:17.871323Z"
    }
   },
   "outputs": [
    {
     "name": "stdout",
     "output_type": "stream",
     "text": [
      "Start tunning model #0 (total: 5).\n",
      "Model class: <class 'matchzoo.models.dense_baseline_model.DenseBaselineModel'>\n",
      "Finish tuning model #0 (total: 5)\n",
      "\n",
      "Start tunning model #1 (total: 5).\n",
      "Model class: <class 'matchzoo.models.dssm_model.DSSMModel'>\n",
      "Finish tuning model #1 (total: 5)\n",
      "\n",
      "Start tunning model #2 (total: 5).\n",
      "Model class: <class 'matchzoo.models.arci_model.ArcIModel'>\n",
      "Finish tuning model #2 (total: 5)\n",
      "\n",
      "Start tunning model #3 (total: 5).\n",
      "Model class: <class 'matchzoo.models.knrm_model.KNRMModel'>\n",
      "Finish tuning model #3 (total: 5)\n",
      "\n",
      "Start tunning model #4 (total: 5).\n",
      "Model class: <class 'matchzoo.models.conv_knrm_model.ConvKNRMModel'>\n",
      "Finish tuning model #4 (total: 5)\n",
      "\n"
     ]
    }
   ],
   "source": [
    "trials = director.action(verbose=1)"
   ]
  },
  {
   "cell_type": "code",
   "execution_count": 19,
   "metadata": {
    "ExecuteTime": {
     "end_time": "2018-12-02T03:26:25.567888Z",
     "start_time": "2018-12-02T03:26:25.559953Z"
    }
   },
   "outputs": [
    {
     "name": "stdout",
     "output_type": "stream",
     "text": [
      "Model Name: DenseBaselineModel\n",
      "Hyper Parameter Sampled: {'num_dense_layers': 1.0, 'num_dense_units': 281.0}\n",
      "Loss: 315751.96875\n",
      "\n",
      "Model Name: DenseBaselineModel\n",
      "Hyper Parameter Sampled: {'num_dense_layers': 4.0, 'num_dense_units': 662.0}\n",
      "Loss: 23790.8671875\n",
      "\n",
      "Model Name: DenseBaselineModel\n",
      "Hyper Parameter Sampled: {'num_dense_layers': 4.0, 'num_dense_units': 350.0}\n",
      "Loss: 5561.4501953125\n",
      "\n",
      "Model Name: DenseBaselineModel\n",
      "Hyper Parameter Sampled: {'num_dense_layers': 1.0, 'num_dense_units': 879.0}\n",
      "Loss: 29712.88671875\n",
      "\n",
      "Model Name: DenseBaselineModel\n",
      "Hyper Parameter Sampled: {'num_dense_layers': 4.0, 'num_dense_units': 389.0}\n",
      "Loss: 11809.3515625\n",
      "\n",
      "Model Name: DSSMModel\n",
      "Hyper Parameter Sampled: {'dim_hidden': 165.0}\n",
      "Loss: 0.06604287773370743\n",
      "\n",
      "Model Name: DSSMModel\n",
      "Hyper Parameter Sampled: {'dim_hidden': 172.0}\n",
      "Loss: 0.0792979970574379\n",
      "\n",
      "Model Name: DSSMModel\n",
      "Hyper Parameter Sampled: {'dim_hidden': 207.0}\n",
      "Loss: 0.05772292986512184\n",
      "\n",
      "Model Name: DSSMModel\n",
      "Hyper Parameter Sampled: {'dim_hidden': 433.0}\n",
      "Loss: 0.06773830950260162\n",
      "\n",
      "Model Name: DSSMModel\n",
      "Hyper Parameter Sampled: {'dim_hidden': 336.0}\n",
      "Loss: 0.06257826089859009\n",
      "\n",
      "Model Name: ArcIModel\n",
      "Hyper Parameter Sampled: {'dropout_rate': 0.35000000000000003, 'optimizer': 'rmsprop', 'padding': 'valid'}\n",
      "Loss: 0.07645083218812943\n",
      "\n",
      "Model Name: ArcIModel\n",
      "Hyper Parameter Sampled: {'dropout_rate': 0.22, 'optimizer': 'adam', 'padding': 'same'}\n",
      "Loss: 0.05673430487513542\n",
      "\n",
      "Model Name: ArcIModel\n",
      "Hyper Parameter Sampled: {'dropout_rate': 0.28, 'optimizer': 'rmsprop', 'padding': 'valid'}\n",
      "Loss: 0.05704067274928093\n",
      "\n",
      "Model Name: ArcIModel\n",
      "Hyper Parameter Sampled: {'dropout_rate': 0.7000000000000001, 'optimizer': 'adam', 'padding': 'valid'}\n",
      "Loss: 0.057261284440755844\n",
      "\n",
      "Model Name: ArcIModel\n",
      "Hyper Parameter Sampled: {'dropout_rate': 0.3, 'optimizer': 'adam', 'padding': 'same'}\n",
      "Loss: 0.05894891917705536\n",
      "\n",
      "Model Name: KNRMModel\n",
      "Hyper Parameter Sampled: {'kernel_num': 10.0, 'sigma': 0.12}\n",
      "Loss: 2550.98486328125\n",
      "\n",
      "Model Name: KNRMModel\n",
      "Hyper Parameter Sampled: {'kernel_num': 15.0, 'sigma': 0.16}\n",
      "Loss: 400.739013671875\n",
      "\n",
      "Model Name: KNRMModel\n",
      "Hyper Parameter Sampled: {'kernel_num': 14.0, 'sigma': 0.14}\n",
      "Loss: 6786.46875\n",
      "\n",
      "Model Name: KNRMModel\n",
      "Hyper Parameter Sampled: {'kernel_num': 9.0, 'sigma': 0.07}\n",
      "Loss: 300.36102294921875\n",
      "\n",
      "Model Name: KNRMModel\n",
      "Hyper Parameter Sampled: {'kernel_num': 16.0, 'sigma': 0.14}\n",
      "Loss: 221.0545654296875\n",
      "\n",
      "Model Name: ConvKNRMModel\n",
      "Hyper Parameter Sampled: {'kernel_num': 13.0, 'sigma': 0.13}\n",
      "Loss: 117.54170989990234\n",
      "\n",
      "Model Name: ConvKNRMModel\n",
      "Hyper Parameter Sampled: {'kernel_num': 8.0, 'sigma': 0.2}\n",
      "Loss: 206.1220245361328\n",
      "\n",
      "Model Name: ConvKNRMModel\n",
      "Hyper Parameter Sampled: {'kernel_num': 20.0, 'sigma': 0.17}\n",
      "Loss: 31.31314468383789\n",
      "\n",
      "Model Name: ConvKNRMModel\n",
      "Hyper Parameter Sampled: {'kernel_num': 5.0, 'sigma': 0.12}\n",
      "Loss: 190.80140686035156\n",
      "\n",
      "Model Name: ConvKNRMModel\n",
      "Hyper Parameter Sampled: {'kernel_num': 14.0, 'sigma': 0.12}\n",
      "Loss: 28.012483596801758\n",
      "\n"
     ]
    }
   ],
   "source": [
    "for trial in trials:\n",
    "    print('Model Name:', trial['model_params']['name'])\n",
    "    print(\"Hyper Parameter Sampled:\" , trial['sampled_params'])\n",
    "    print('Loss:', trial['loss'])\n",
    "    print()"
   ]
  },
  {
   "cell_type": "markdown",
   "metadata": {
    "ExecuteTime": {
     "end_time": "2018-11-23T16:16:04.470316Z",
     "start_time": "2018-11-23T16:16:04.468442Z"
    }
   },
   "source": [
    "## Misc"
   ]
  },
  {
   "cell_type": "markdown",
   "metadata": {
    "ExecuteTime": {
     "end_time": "2018-11-23T16:16:20.633032Z",
     "start_time": "2018-11-23T16:16:20.631126Z"
    }
   },
   "source": [
    "### Load Embedding Matrix"
   ]
  },
  {
   "cell_type": "code",
   "execution_count": 20,
   "metadata": {
    "ExecuteTime": {
     "end_time": "2018-12-02T03:26:38.691084Z",
     "start_time": "2018-12-02T03:26:38.602713Z"
    }
   },
   "outputs": [
    {
     "name": "stdout",
     "output_type": "stream",
     "text": [
      "Parameter \"name\" set to ArcIModel.\n",
      "Parameter \"input_shapes\" set to [(30,), (30,)].\n",
      "Parameter \"embedding_trainable\" set to True.\n"
     ]
    }
   ],
   "source": [
    "model = mz.models.ArcIModel()\n",
    "model.params['task'] = ranking_task\n",
    "term_index = preprocessor.context['vocab_unit'].state['term_index']\n",
    "model.params['embedding_input_dim'] = len(term_index) + 1\n",
    "model.guess_and_fill_missing_params()\n",
    "model.build()\n",
    "model.compile()"
   ]
  },
  {
   "cell_type": "code",
   "execution_count": 21,
   "metadata": {
    "ExecuteTime": {
     "end_time": "2018-12-02T03:26:45.778571Z",
     "start_time": "2018-12-02T03:26:39.051241Z"
    }
   },
   "outputs": [],
   "source": [
    "vocab = preprocessor.context['vocab_unit'].state['term_index']\n",
    "embedding_matrix = np.random.uniform(\n",
    "    -0.2, 0.2,\n",
    "    (model.params['embedding_input_dim'], model.params['embedding_output_dim'])\n",
    ")\n",
    "model.load_embedding_matrix(embedding_matrix)"
   ]
  }
 ],
 "metadata": {
  "hide_input": false,
  "kernelspec": {
   "display_name": "matchzoo",
   "language": "python",
   "name": "matchzoo"
  },
  "language_info": {
   "codemirror_mode": {
    "name": "ipython",
    "version": 3
   },
   "file_extension": ".py",
   "mimetype": "text/x-python",
   "name": "python",
   "nbconvert_exporter": "python",
   "pygments_lexer": "ipython3",
   "version": "3.6.3"
  },
  "toc": {
   "nav_menu": {},
   "number_sections": true,
   "sideBar": true,
   "skip_h1_title": false,
   "toc_cell": false,
   "toc_position": {},
   "toc_section_display": "block",
   "toc_window_display": false
  },
  "varInspector": {
   "cols": {
    "lenName": 16,
    "lenType": 16,
    "lenVar": 40
   },
   "kernels_config": {
    "python": {
     "delete_cmd_postfix": "",
     "delete_cmd_prefix": "del ",
     "library": "var_list.py",
     "varRefreshCmd": "print(var_dic_list())"
    },
    "r": {
     "delete_cmd_postfix": ") ",
     "delete_cmd_prefix": "rm(",
     "library": "var_list.r",
     "varRefreshCmd": "cat(var_dic_list()) "
    }
   },
   "types_to_exclude": [
    "module",
    "function",
    "builtin_function_or_method",
    "instance",
    "_Feature"
   ],
   "window_display": false
  }
 },
 "nbformat": 4,
 "nbformat_minor": 2
}
