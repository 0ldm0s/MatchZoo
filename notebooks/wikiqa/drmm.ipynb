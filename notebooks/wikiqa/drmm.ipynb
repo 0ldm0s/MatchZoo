{
 "cells": [
  {
   "cell_type": "code",
   "execution_count": 1,
   "metadata": {},
   "outputs": [
    {
     "name": "stderr",
     "output_type": "stream",
     "text": [
      "Using TensorFlow backend.\n",
      "/data/users/fyx/.local/python3/lib/python3.6/importlib/_bootstrap.py:219: RuntimeWarning: numpy.dtype size changed, may indicate binary incompatibility. Expected 96, got 88\n",
      "  return f(*args, **kwds)\n",
      "/data/users/fyx/.local/python3/lib/python3.6/importlib/_bootstrap.py:219: RuntimeWarning: numpy.dtype size changed, may indicate binary incompatibility. Expected 96, got 88\n",
      "  return f(*args, **kwds)\n"
     ]
    }
   ],
   "source": [
    "import keras\n",
    "import pandas as pd\n",
    "import numpy as np\n",
    "import matchzoo as mz"
   ]
  },
  {
   "cell_type": "code",
   "execution_count": 2,
   "metadata": {},
   "outputs": [],
   "source": [
    "train_pack = mz.datasets.wiki_qa.load_data('train', task='ranking')\n",
    "valid_pack = mz.datasets.wiki_qa.load_data('dev', task='ranking', filter=True)\n",
    "predict_pack = mz.datasets.wiki_qa.load_data('test', task='ranking', filter=True)"
   ]
  },
  {
   "cell_type": "code",
   "execution_count": 3,
   "metadata": {},
   "outputs": [
    {
     "name": "stderr",
     "output_type": "stream",
     "text": [
      "Processing text_left with chain_transform of TokenizeUnit => LowercaseUnit => PuncRemovalUnit: 100%|██████████| 2118/2118 [00:00<00:00, 8419.56it/s]\n",
      "Processing text_right with chain_transform of TokenizeUnit => LowercaseUnit => PuncRemovalUnit: 100%|██████████| 18841/18841 [00:04<00:00, 4653.36it/s]\n",
      "Processing text_right with append: 100%|██████████| 18841/18841 [00:00<00:00, 744997.66it/s]\n",
      "Building FrequencyFilterUnit from a datapack.: 100%|██████████| 18841/18841 [00:00<00:00, 124645.91it/s]\n",
      "Processing text_right with transform: 100%|██████████| 18841/18841 [00:00<00:00, 78234.01it/s] \n",
      "Processing text_left with extend: 100%|██████████| 2118/2118 [00:00<00:00, 568546.30it/s]\n",
      "Processing text_right with extend: 100%|██████████| 18841/18841 [00:00<00:00, 652058.14it/s]\n",
      "Building VocabularyUnit from a datapack.: 100%|██████████| 404415/404415 [00:00<00:00, 2575444.80it/s]\n",
      "Processing text_left with chain_transform of TokenizeUnit => LowercaseUnit => PuncRemovalUnit: 100%|██████████| 2118/2118 [00:00<00:00, 8532.47it/s]\n",
      "Processing text_right with chain_transform of TokenizeUnit => LowercaseUnit => PuncRemovalUnit: 100%|██████████| 18841/18841 [00:04<00:00, 4644.58it/s]\n",
      "Processing text_right with transform: 100%|██████████| 18841/18841 [00:00<00:00, 115891.46it/s]\n",
      "Processing text_left with transform: 100%|██████████| 2118/2118 [00:00<00:00, 158278.44it/s]\n",
      "Processing text_right with transform: 100%|██████████| 18841/18841 [00:00<00:00, 118561.63it/s]\n",
      "Processing length_left with len: 100%|██████████| 2118/2118 [00:00<00:00, 533193.44it/s]\n",
      "Processing length_right with len: 100%|██████████| 18841/18841 [00:00<00:00, 668523.97it/s]\n",
      "Processing text_left with transform: 100%|██████████| 2118/2118 [00:00<00:00, 101776.20it/s]\n",
      "Processing text_right with transform: 100%|██████████| 18841/18841 [00:00<00:00, 80911.91it/s]\n"
     ]
    }
   ],
   "source": [
    "preprocessor = mz.preprocessors.BasicPreprocessor(fixed_length_left=10, fixed_length_right=100, remove_stop_words=True)\n",
    "train_pack_processed = preprocessor.fit_transform(train_pack)"
   ]
  },
  {
   "cell_type": "code",
   "execution_count": 4,
   "metadata": {
    "scrolled": false
   },
   "outputs": [
    {
     "name": "stderr",
     "output_type": "stream",
     "text": [
      "Processing text_left with chain_transform of TokenizeUnit => LowercaseUnit => PuncRemovalUnit: 100%|██████████| 122/122 [00:00<00:00, 8664.01it/s]\n",
      "Processing text_right with chain_transform of TokenizeUnit => LowercaseUnit => PuncRemovalUnit: 100%|██████████| 1115/1115 [00:00<00:00, 4618.89it/s]\n",
      "Processing text_right with transform: 100%|██████████| 1115/1115 [00:00<00:00, 94001.10it/s]\n",
      "Processing text_left with transform: 100%|██████████| 122/122 [00:00<00:00, 89788.57it/s]\n",
      "Processing text_right with transform: 100%|██████████| 1115/1115 [00:00<00:00, 117918.53it/s]\n",
      "Processing length_left with len: 100%|██████████| 122/122 [00:00<00:00, 144142.28it/s]\n",
      "Processing length_right with len: 100%|██████████| 1115/1115 [00:00<00:00, 514822.65it/s]\n",
      "Processing text_left with transform: 100%|██████████| 122/122 [00:00<00:00, 69924.17it/s]\n",
      "Processing text_right with transform: 100%|██████████| 1115/1115 [00:00<00:00, 87180.97it/s]\n",
      "Processing text_left with chain_transform of TokenizeUnit => LowercaseUnit => PuncRemovalUnit: 100%|██████████| 237/237 [00:00<00:00, 9002.28it/s]\n",
      "Processing text_right with chain_transform of TokenizeUnit => LowercaseUnit => PuncRemovalUnit: 100%|██████████| 2300/2300 [00:00<00:00, 4609.52it/s]\n",
      "Processing text_right with transform: 100%|██████████| 2300/2300 [00:00<00:00, 127939.57it/s]\n",
      "Processing text_left with transform: 100%|██████████| 237/237 [00:00<00:00, 132187.51it/s]\n",
      "Processing text_right with transform: 100%|██████████| 2300/2300 [00:00<00:00, 130761.09it/s]\n",
      "Processing length_left with len: 100%|██████████| 237/237 [00:00<00:00, 250201.37it/s]\n",
      "Processing length_right with len: 100%|██████████| 2300/2300 [00:00<00:00, 558948.91it/s]\n",
      "Processing text_left with transform: 100%|██████████| 237/237 [00:00<00:00, 37937.95it/s]\n",
      "Processing text_right with transform: 100%|██████████| 2300/2300 [00:00<00:00, 66940.29it/s]\n"
     ]
    }
   ],
   "source": [
    "valid_pack_processed = preprocessor.transform(valid_pack)\n",
    "predict_pack_processed = preprocessor.transform(predict_pack)"
   ]
  },
  {
   "cell_type": "code",
   "execution_count": 5,
   "metadata": {},
   "outputs": [],
   "source": [
    "ranking_task = mz.tasks.Ranking(loss=mz.losses.RankCrossEntropyLoss(num_neg=4))\n",
    "ranking_task.metrics = [\n",
    "    mz.metrics.NormalizedDiscountedCumulativeGain(k=3),\n",
    "    mz.metrics.NormalizedDiscountedCumulativeGain(k=5),\n",
    "    mz.metrics.MeanAveragePrecision()\n",
    "]"
   ]
  },
  {
   "cell_type": "code",
   "execution_count": 6,
   "metadata": {
    "scrolled": false
   },
   "outputs": [
    {
     "name": "stdout",
     "output_type": "stream",
     "text": [
      "Parameter \"name\" set to DRMM.\n",
      "Parameter \"embedding_trainable\" set to True.\n",
      "__________________________________________________________________________________________________\n",
      "Layer (type)                    Output Shape         Param #     Connected to                     \n",
      "==================================================================================================\n",
      "text_left (InputLayer)          (None, 10)           0                                            \n",
      "__________________________________________________________________________________________________\n",
      "embedding (Embedding)           (None, 10, 300)      5002200     text_left[0][0]                  \n",
      "__________________________________________________________________________________________________\n",
      "dense_1 (Dense)                 (None, 10, 1)        300         embedding[0][0]                  \n",
      "__________________________________________________________________________________________________\n",
      "match_histogram (InputLayer)    (None, 10, 30)       0                                            \n",
      "__________________________________________________________________________________________________\n",
      "attention_mask (Lambda)         (None, 10, 1)        0           dense_1[0][0]                    \n",
      "__________________________________________________________________________________________________\n",
      "dense_2 (Dense)                 (None, 10, 10)       310         match_histogram[0][0]            \n",
      "__________________________________________________________________________________________________\n",
      "attention_probs (Lambda)        (None, 10, 1)        0           attention_mask[0][0]             \n",
      "__________________________________________________________________________________________________\n",
      "dense_3 (Dense)                 (None, 10, 1)        11          dense_2[0][0]                    \n",
      "__________________________________________________________________________________________________\n",
      "dot_1 (Dot)                     (None, 1, 1)         0           attention_probs[0][0]            \n",
      "                                                                 dense_3[0][0]                    \n",
      "__________________________________________________________________________________________________\n",
      "flatten_1 (Flatten)             (None, 1)            0           dot_1[0][0]                      \n",
      "__________________________________________________________________________________________________\n",
      "dense_4 (Dense)                 (None, 1)            2           flatten_1[0][0]                  \n",
      "==================================================================================================\n",
      "Total params: 5,002,823\n",
      "Trainable params: 5,002,823\n",
      "Non-trainable params: 0\n",
      "__________________________________________________________________________________________________\n"
     ]
    }
   ],
   "source": [
    "hist_bin_size = 30\n",
    "model = mz.models.DRMM()\n",
    "model.params['input_shapes'] = [[10,], [10, hist_bin_size,]]\n",
    "model.params['task'] = ranking_task\n",
    "model.params['mask_value'] = 0\n",
    "model.params['embedding_input_dim'] = preprocessor.context['vocab_size'] + 1\n",
    "model.params['embedding_output_dim'] = 300\n",
    "model.params['mlp_num_layers'] = 1\n",
    "model.params['mlp_num_units'] = 10\n",
    "model.params['mlp_num_fan_out'] = 1\n",
    "model.params['mlp_activation_func'] = 'tanh'\n",
    "model.params['optimizer'] = 'adadelta'\n",
    "model.guess_and_fill_missing_params()\n",
    "model.build()\n",
    "model.compile()\n",
    "model.backend.summary()"
   ]
  },
  {
   "cell_type": "code",
   "execution_count": 7,
   "metadata": {},
   "outputs": [],
   "source": [
    "glove_embedding = mz.datasets.embeddings.load_glove_embedding(dimension=300)\n",
    "embedding_matrix = glove_embedding.build_matrix(preprocessor.context['vocab_unit'].state['term_index'])"
   ]
  },
  {
   "cell_type": "code",
   "execution_count": 8,
   "metadata": {},
   "outputs": [],
   "source": [
    "# normalize the word embedding for fast histogram generating.\n",
    "l2_norm = np.sqrt((embedding_matrix*embedding_matrix).sum(axis=1))\n",
    "embedding_matrix = embedding_matrix / l2_norm[:, np.newaxis]"
   ]
  },
  {
   "cell_type": "code",
   "execution_count": 9,
   "metadata": {},
   "outputs": [],
   "source": [
    "model.load_embedding_matrix(embedding_matrix)"
   ]
  },
  {
   "cell_type": "code",
   "execution_count": 10,
   "metadata": {},
   "outputs": [],
   "source": [
    "pred_generator = mz.HistogramDataGenerator(data_pack=predict_pack_processed,\n",
    "                                           embedding_matrix=embedding_matrix,\n",
    "                                           hist_bin_size=hist_bin_size, \n",
    "                                           hist_mode='LCH')\n",
    "pred_x, pred_y = pred_generator[:]\n",
    "evaluate = mz.callbacks.EvaluateAllMetrics(model, x=pred_x, y=pred_y, once_every=1, batch_size=len(pred_y))"
   ]
  },
  {
   "cell_type": "code",
   "execution_count": 11,
   "metadata": {},
   "outputs": [
    {
     "data": {
      "text/plain": [
       "102"
      ]
     },
     "execution_count": 11,
     "metadata": {},
     "output_type": "execute_result"
    }
   ],
   "source": [
    "train_generator = mz.HistogramPairDataGenerator(train_pack_processed, embedding_matrix, hist_bin_size, 'LCH',\n",
    "                                                num_dup=2, num_neg=4, batch_size=20)\n",
    "len(train_generator)"
   ]
  },
  {
   "cell_type": "code",
   "execution_count": 12,
   "metadata": {
    "scrolled": false
   },
   "outputs": [
    {
     "name": "stdout",
     "output_type": "stream",
     "text": [
      "Epoch 1/30\n",
      "102/102 [==============================] - 8s 77ms/step - loss: 1.5579\n",
      "Validation: normalized_discounted_cumulative_gain@3(0): 0.45594572901285396 - normalized_discounted_cumulative_gain@5(0): 0.5245861940394168 - mean_average_precision(0): 0.48429476845051783\n",
      "Epoch 2/30\n",
      "102/102 [==============================] - 6s 60ms/step - loss: 1.4613\n",
      "Validation: normalized_discounted_cumulative_gain@3(0): 0.5047168066848209 - normalized_discounted_cumulative_gain@5(0): 0.5738026115744619 - mean_average_precision(0): 0.5280573234874534\n",
      "Epoch 3/30\n",
      "102/102 [==============================] - 7s 68ms/step - loss: 1.3457\n",
      "Validation: normalized_discounted_cumulative_gain@3(0): 0.5691057432493024 - normalized_discounted_cumulative_gain@5(0): 0.6333049583015313 - mean_average_precision(0): 0.5893635062576\n",
      "Epoch 4/30\n",
      "102/102 [==============================] - 7s 65ms/step - loss: 1.2436\n",
      "Validation: normalized_discounted_cumulative_gain@3(0): 0.589530184809194 - normalized_discounted_cumulative_gain@5(0): 0.6466642748057321 - mean_average_precision(0): 0.5988840544585734\n",
      "Epoch 5/30\n",
      "102/102 [==============================] - 7s 66ms/step - loss: 1.1423\n",
      "Validation: normalized_discounted_cumulative_gain@3(0): 0.5966240800701206 - normalized_discounted_cumulative_gain@5(0): 0.6606301789569083 - mean_average_precision(0): 0.6107262049893922\n",
      "Epoch 6/30\n",
      "101/102 [============================>.] - ETA: 0s - loss: 1.0511Validation: normalized_discounted_cumulative_gain@3(0): 0.5966240800701206 - normalized_discounted_cumulative_gain@5(0): 0.6606301789569083 - mean_average_precision(0): 0.6107262049893922\n",
      "Epoch 6/30\n",
      "102/102 [==============================] - 7s 68ms/step - loss: 1.0467\n",
      "Validation: normalized_discounted_cumulative_gain@3(0): 0.5909782557800212 - normalized_discounted_cumulative_gain@5(0): 0.6550921084273829 - mean_average_precision(0): 0.6063734859209281\n",
      "Epoch 7/30\n",
      "102/102 [==============================] - 7s 67ms/step - loss: 0.9623\n",
      "Validation: normalized_discounted_cumulative_gain@3(0): 0.5931450391078142 - normalized_discounted_cumulative_gain@5(0): 0.6525978211160686 - mean_average_precision(0): 0.6089568270189509\n",
      "Epoch 8/30\n",
      "102/102 [==============================] - 7s 67ms/step - loss: 0.8884\n",
      "Validation: normalized_discounted_cumulative_gain@3(0): 0.5921877255169002 - normalized_discounted_cumulative_gain@5(0): 0.6569748597060846 - mean_average_precision(0): 0.6108096548397609\n",
      "Epoch 9/30\n",
      "102/102 [==============================] - 7s 66ms/step - loss: 0.8309\n",
      "Validation: normalized_discounted_cumulative_gain@3(0): 0.6032579317539564 - normalized_discounted_cumulative_gain@5(0): 0.6545298127974271 - mean_average_precision(0): 0.614101139737562\n",
      "Epoch 10/30\n",
      "102/102 [==============================] - 7s 68ms/step - loss: 0.7868\n",
      "Validation: normalized_discounted_cumulative_gain@3(0): 0.60722269993071 - normalized_discounted_cumulative_gain@5(0): 0.6528476582806299 - mean_average_precision(0): 0.615348050536438\n",
      "Epoch 11/30\n",
      "101/102 [============================>.] - ETA: 0s - loss: 0.7497Validation: normalized_discounted_cumulative_gain@3(0): 0.60722269993071 - normalized_discounted_cumulative_gain@5(0): 0.6528476582806299 - mean_average_precision(0): 0.615348050536438\n",
      "Epoch 11/30\n",
      "102/102 [==============================] - 7s 66ms/step - loss: 0.7512\n",
      "Validation: normalized_discounted_cumulative_gain@3(0): 0.5986850189240092 - normalized_discounted_cumulative_gain@5(0): 0.652005299520464 - mean_average_precision(0): 0.612079077982283\n",
      "Epoch 12/30\n",
      "102/102 [==============================] - 7s 69ms/step - loss: 0.7220\n",
      "Validation: normalized_discounted_cumulative_gain@3(0): 0.6044968975059036 - normalized_discounted_cumulative_gain@5(0): 0.6516861076442934 - mean_average_precision(0): 0.6126558213153261\n",
      "Epoch 13/30\n",
      "102/102 [==============================] - 7s 66ms/step - loss: 0.7001ation: normalized_discounted_cumulative_gain@3(0): 0.6044968975059036 - normalized_discounted_cumulative_gain@5(0): 0.6516861076442934 - mean_average_precision(0): 0.612655821315326\n",
      "Validation: normalized_discounted_cumulative_gain@3(0): 0.6079796412159459 - normalized_discounted_cumulative_gain@5(0): 0.6570721742869469 - mean_average_precision(0): 0.6195466331090606\n",
      "Epoch 14/30\n",
      "101/102 [============================>.] - ETA: 0s - loss: 0.6809Validation: normalized_discounted_cumulative_gain@3(0): 0.6079796412159459 - normalized_discounted_cumulative_gain@5(0): 0.6570721742869469 - mean_average_precision(0): 0.6195466331090606\n",
      "Epoch 14/30\n",
      "102/102 [==============================] - 7s 67ms/step - loss: 0.6802\n",
      "Validation: normalized_discounted_cumulative_gain@3(0): 0.6041626143465766 - normalized_discounted_cumulative_gain@5(0): 0.6557607480827856 - mean_average_precision(0): 0.6203783936363183\n",
      "Epoch 15/30\n",
      "102/102 [==============================] - 7s 68ms/step - loss: 0.6627\n",
      "Validation: normalized_discounted_cumulative_gain@3(0): 0.6037840624724107 - normalized_discounted_cumulative_gain@5(0): 0.657857699559446 - mean_average_precision(0): 0.6199756938235208\n",
      "Epoch 16/30\n",
      "102/102 [==============================] - 7s 66ms/step - loss: 0.6518\n",
      "Validation: normalized_discounted_cumulative_gain@3(0): 0.608441065043887 - normalized_discounted_cumulative_gain@5(0): 0.6538024866150515 - mean_average_precision(0): 0.6178762557064277\n",
      "Epoch 17/30\n",
      "102/102 [==============================] - 7s 66ms/step - loss: 0.6394\n",
      "Validation: normalized_discounted_cumulative_gain@3(0): 0.6008139439532793 - normalized_discounted_cumulative_gain@5(0): 0.6520019923334293 - mean_average_precision(0): 0.6160290128214289\n",
      "Epoch 18/30\n",
      "102/102 [==============================] - 7s 64ms/step - loss: 0.6309\n",
      "Validation: normalized_discounted_cumulative_gain@3(0): 0.6041569488706734 - normalized_discounted_cumulative_gain@5(0): 0.6552981586307165 - mean_average_precision(0): 0.6230436685496696\n",
      "Epoch 19/30\n",
      "102/102 [==============================] - 7s 67ms/step - loss: 0.6219\n",
      "Validation: normalized_discounted_cumulative_gain@3(0): 0.6050481259357506 - normalized_discounted_cumulative_gain@5(0): 0.6513240497945931 - mean_average_precision(0): 0.6201235023321183\n",
      "Epoch 20/30\n",
      "102/102 [==============================] - 7s 68ms/step - loss: 0.6132\n",
      "Validation: normalized_discounted_cumulative_gain@3(0): 0.606879358931989 - normalized_discounted_cumulative_gain@5(0): 0.654391604352051 - mean_average_precision(0): 0.6200297088200482\n",
      "Epoch 21/30\n",
      "101/102 [============================>.] - ETA: 0s - loss: 0.6098Validation: normalized_discounted_cumulative_gain@3(0): 0.606879358931989 - normalized_discounted_cumulative_gain@5(0): 0.654391604352051 - mean_average_precision(0): 0.6200297088200482\n",
      "Epoch 21/30\n",
      "102/102 [==============================] - 7s 67ms/step - loss: 0.6093\n",
      "Validation: normalized_discounted_cumulative_gain@3(0): 0.6034158356098663 - normalized_discounted_cumulative_gain@5(0): 0.6522267481738911 - mean_average_precision(0): 0.6150773434301967\n",
      "Epoch 22/30\n",
      "102/102 [==============================] - 7s 66ms/step - loss: 0.6041\n",
      "Epoch 22/30\n",
      "Validation: normalized_discounted_cumulative_gain@3(0): 0.6055255402512166 - normalized_discounted_cumulative_gain@5(0): 0.6535927142334392 - mean_average_precision(0): 0.6182605738098793\n",
      "Epoch 23/30\n",
      "102/102 [==============================] - 7s 67ms/step - loss: 0.5969\n",
      "Validation: normalized_discounted_cumulative_gain@3(0): 0.6052618413058757 - normalized_discounted_cumulative_gain@5(0): 0.6535546750316643 - mean_average_precision(0): 0.6159496420876088\n",
      "Epoch 24/30\n",
      "102/102 [==============================] - 7s 70ms/step - loss: 0.5907\n",
      "Validation: normalized_discounted_cumulative_gain@3(0): 0.6002160112330849 - normalized_discounted_cumulative_gain@5(0): 0.6561912296240758 - mean_average_precision(0): 0.6202433006367052\n",
      "Epoch 25/30\n",
      "102/102 [==============================] - 7s 66ms/step - loss: 0.5854\n",
      "Validation: normalized_discounted_cumulative_gain@3(0): 0.6036397135285174 - normalized_discounted_cumulative_gain@5(0): 0.6542352689691465 - mean_average_precision(0): 0.6200138944549534\n",
      "Epoch 26/30\n",
      "102/102 [==============================] - 7s 67ms/step - loss: 0.5823\n",
      "Validation: normalized_discounted_cumulative_gain@3(0): 0.5996340196159421 - normalized_discounted_cumulative_gain@5(0): 0.6491782066299271 - mean_average_precision(0): 0.6118500567231464\n",
      "Epoch 27/30\n"
     ]
    },
    {
     "name": "stdout",
     "output_type": "stream",
     "text": [
      "102/102 [==============================] - 7s 65ms/step - loss: 0.5793\n",
      "Validation: normalized_discounted_cumulative_gain@3(0): 0.6060529381418986 - normalized_discounted_cumulative_gain@5(0): 0.6532253603499287 - mean_average_precision(0): 0.6167519344641459\n",
      "Epoch 28/30\n",
      "102/102 [==============================] - 7s 71ms/step - loss: 0.5755\n",
      "Validation: normalized_discounted_cumulative_gain@3(0): 0.6068646356166916 - normalized_discounted_cumulative_gain@5(0): 0.651884182315063 - mean_average_precision(0): 0.6169867739551335\n",
      "Epoch 29/30\n",
      "102/102 [==============================] - 7s 68ms/step - loss: 0.5712\n",
      "Validation: normalized_discounted_cumulative_gain@3(0): 0.610531598681791 - normalized_discounted_cumulative_gain@5(0): 0.6571485548065488 - mean_average_precision(0): 0.6230152265275567\n",
      "Epoch 30/30\n",
      "102/102 [==============================] - 7s 66ms/step - loss: 0.5672\n",
      "Validation: normalized_discounted_cumulative_gain@3(0): 0.60199391767509 - normalized_discounted_cumulative_gain@5(0): 0.6525736588606341 - mean_average_precision(0): 0.6165663266449315\n"
     ]
    }
   ],
   "source": [
    "history = model.fit_generator(train_generator, epochs=30, callbacks=[evaluate], workers=30, use_multiprocessing=True)"
   ]
  },
  {
   "cell_type": "code",
   "execution_count": 25,
   "metadata": {},
   "outputs": [],
   "source": [
    "import keras\n",
    "import keras.backend as K\n",
    "import pandas as pd"
   ]
  },
  {
   "cell_type": "code",
   "execution_count": 26,
   "metadata": {},
   "outputs": [
    {
     "name": "stdout",
     "output_type": "stream",
     "text": [
      "{0: 'text_left'}\n",
      "{1: 'embedding'}\n",
      "{2: 'dense_1'}\n",
      "{3: 'match_histogram'}\n",
      "{4: 'attention_mask'}\n",
      "{5: 'dense_2'}\n",
      "{6: 'attention_probs'}\n",
      "{7: 'dense_3'}\n",
      "{8: 'dot_1'}\n",
      "{9: 'flatten_1'}\n",
      "{10: 'dense_4'}\n"
     ]
    }
   ],
   "source": [
    "for idx,layer in enumerate(model.backend.layers):\n",
    "    print({idx:layer.name})"
   ]
  },
  {
   "cell_type": "code",
   "execution_count": 14,
   "metadata": {},
   "outputs": [],
   "source": [
    "left = np.array([[2, 3, 4, 5, 0, 0]])\n",
    "right = np.array([[[0.1, 0.2, 0.3, 0.4]]])"
   ]
  },
  {
   "cell_type": "code",
   "execution_count": 22,
   "metadata": {},
   "outputs": [],
   "source": [
    "attent_fn = K.function([model.backend.layers[6].input, K.learning_phase()], [model.backend.layers[6].output])"
   ]
  },
  {
   "cell_type": "code",
   "execution_count": 23,
   "metadata": {},
   "outputs": [],
   "source": [
    "res = attent_fn([left, right])"
   ]
  },
  {
   "cell_type": "code",
   "execution_count": 29,
   "metadata": {},
   "outputs": [
    {
     "data": {
      "text/plain": [
       "<matchzoo.data_pack.data_pack.DataPack at 0x7faf2a129080>"
      ]
     },
     "execution_count": 29,
     "metadata": {},
     "output_type": "execute_result"
    }
   ],
   "source": [
    "text_left = \"you would like to book a room outside of the dates\"\n",
    "text_right = \"you prefer to book your own accommodation\"\n",
    "left = pd.DataFrame([['id0', text_left]])\n",
    "right = pd.DataFrame([['id1', text_right]])\n",
    "relation = pd.DataFrame([['id0', 'id1']])\n",
    "test_sample = mz.DataPack(left=left, right=right, relation=relation)\n",
    "test_sample"
   ]
  },
  {
   "cell_type": "code",
   "execution_count": 31,
   "metadata": {},
   "outputs": [],
   "source": [
    "preprocessor.save('./drmm_preprocessor')"
   ]
  },
  {
   "cell_type": "code",
   "execution_count": 32,
   "metadata": {},
   "outputs": [],
   "source": [
    "new_preprocessor = mz.load_preprocessor('./drmm_preprocessor')"
   ]
  },
  {
   "cell_type": "code",
   "execution_count": 35,
   "metadata": {
    "scrolled": false
   },
   "outputs": [
    {
     "ename": "KeyError",
     "evalue": "'text_left'",
     "output_type": "error",
     "traceback": [
      "\u001b[0;31m---------------------------------------------------------------------------\u001b[0m",
      "\u001b[0;31mTypeError\u001b[0m                                 Traceback (most recent call last)",
      "\u001b[0;32mpandas/_libs/index.pyx\u001b[0m in \u001b[0;36mpandas._libs.index.IndexEngine.get_loc\u001b[0;34m()\u001b[0m\n",
      "\u001b[0;32mpandas/_libs/hashtable_class_helper.pxi\u001b[0m in \u001b[0;36mpandas._libs.hashtable.Int64HashTable.get_item\u001b[0;34m()\u001b[0m\n",
      "\u001b[0;31mTypeError\u001b[0m: an integer is required",
      "\nDuring handling of the above exception, another exception occurred:\n",
      "\u001b[0;31mKeyError\u001b[0m                                  Traceback (most recent call last)",
      "\u001b[0;32m~/.local/python3/lib/python3.6/site-packages/pandas/core/indexes/base.py\u001b[0m in \u001b[0;36mget_loc\u001b[0;34m(self, key, method, tolerance)\u001b[0m\n\u001b[1;32m   3077\u001b[0m             \u001b[0;32mtry\u001b[0m\u001b[0;34m:\u001b[0m\u001b[0;34m\u001b[0m\u001b[0m\n\u001b[0;32m-> 3078\u001b[0;31m                 \u001b[0;32mreturn\u001b[0m \u001b[0mself\u001b[0m\u001b[0;34m.\u001b[0m\u001b[0m_engine\u001b[0m\u001b[0;34m.\u001b[0m\u001b[0mget_loc\u001b[0m\u001b[0;34m(\u001b[0m\u001b[0mkey\u001b[0m\u001b[0;34m)\u001b[0m\u001b[0;34m\u001b[0m\u001b[0m\n\u001b[0m\u001b[1;32m   3079\u001b[0m             \u001b[0;32mexcept\u001b[0m \u001b[0mKeyError\u001b[0m\u001b[0;34m:\u001b[0m\u001b[0;34m\u001b[0m\u001b[0m\n",
      "\u001b[0;32mpandas/_libs/index.pyx\u001b[0m in \u001b[0;36mpandas._libs.index.IndexEngine.get_loc\u001b[0;34m()\u001b[0m\n",
      "\u001b[0;32mpandas/_libs/index.pyx\u001b[0m in \u001b[0;36mpandas._libs.index.IndexEngine.get_loc\u001b[0;34m()\u001b[0m\n",
      "\u001b[0;31mKeyError\u001b[0m: 'text_left'",
      "\nDuring handling of the above exception, another exception occurred:\n",
      "\u001b[0;31mTypeError\u001b[0m                                 Traceback (most recent call last)",
      "\u001b[0;32mpandas/_libs/index.pyx\u001b[0m in \u001b[0;36mpandas._libs.index.IndexEngine.get_loc\u001b[0;34m()\u001b[0m\n",
      "\u001b[0;32mpandas/_libs/hashtable_class_helper.pxi\u001b[0m in \u001b[0;36mpandas._libs.hashtable.Int64HashTable.get_item\u001b[0;34m()\u001b[0m\n",
      "\u001b[0;31mTypeError\u001b[0m: an integer is required",
      "\nDuring handling of the above exception, another exception occurred:\n",
      "\u001b[0;31mKeyError\u001b[0m                                  Traceback (most recent call last)",
      "\u001b[0;32m<ipython-input-35-d4cdeae40c25>\u001b[0m in \u001b[0;36m<module>\u001b[0;34m()\u001b[0m\n\u001b[0;32m----> 1\u001b[0;31m \u001b[0mx1\u001b[0m \u001b[0;34m=\u001b[0m \u001b[0mpreprocessor\u001b[0m\u001b[0;34m.\u001b[0m\u001b[0mtransform\u001b[0m\u001b[0;34m(\u001b[0m\u001b[0mtest_sample\u001b[0m\u001b[0;34m)\u001b[0m\u001b[0;34m\u001b[0m\u001b[0m\n\u001b[0m",
      "\u001b[0;32m~/NTMC-Community/MatchZoo/matchzoo/engine/base_preprocessor.py\u001b[0m in \u001b[0;36mtransform_wrapper\u001b[0;34m(self, *args, **kwargs)\u001b[0m\n\u001b[1;32m     19\u001b[0m         \u001b[0;32mif\u001b[0m \u001b[0;32mnot\u001b[0m \u001b[0mself\u001b[0m\u001b[0;34m.\u001b[0m\u001b[0mcontext\u001b[0m\u001b[0;34m:\u001b[0m\u001b[0;34m\u001b[0m\u001b[0m\n\u001b[1;32m     20\u001b[0m             \u001b[0;32mraise\u001b[0m \u001b[0mValueError\u001b[0m\u001b[0;34m(\u001b[0m\u001b[0;34m'Please call `fit` before calling `transform`.'\u001b[0m\u001b[0;34m)\u001b[0m\u001b[0;34m\u001b[0m\u001b[0m\n\u001b[0;32m---> 21\u001b[0;31m         \u001b[0;32mreturn\u001b[0m \u001b[0mfunc\u001b[0m\u001b[0;34m(\u001b[0m\u001b[0mself\u001b[0m\u001b[0;34m,\u001b[0m \u001b[0;34m*\u001b[0m\u001b[0margs\u001b[0m\u001b[0;34m,\u001b[0m \u001b[0;34m**\u001b[0m\u001b[0mkwargs\u001b[0m\u001b[0;34m)\u001b[0m\u001b[0;34m\u001b[0m\u001b[0m\n\u001b[0m\u001b[1;32m     22\u001b[0m \u001b[0;34m\u001b[0m\u001b[0m\n\u001b[1;32m     23\u001b[0m     \u001b[0;32mreturn\u001b[0m \u001b[0mtransform_wrapper\u001b[0m\u001b[0;34m\u001b[0m\u001b[0m\n",
      "\u001b[0;32m~/NTMC-Community/MatchZoo/matchzoo/preprocessors/basic_preprocessor.py\u001b[0m in \u001b[0;36mtransform\u001b[0;34m(self, data_pack, verbose)\u001b[0m\n\u001b[1;32m    125\u001b[0m         \u001b[0munits\u001b[0m \u001b[0;34m=\u001b[0m \u001b[0mself\u001b[0m\u001b[0;34m.\u001b[0m\u001b[0m_default_processor_units\u001b[0m\u001b[0;34m(\u001b[0m\u001b[0;34m)\u001b[0m\u001b[0;34m\u001b[0m\u001b[0m\n\u001b[1;32m    126\u001b[0m         data_pack.apply_on_text(chain_transform(units), inplace=True,\n\u001b[0;32m--> 127\u001b[0;31m                                 verbose=verbose)\n\u001b[0m\u001b[1;32m    128\u001b[0m \u001b[0;34m\u001b[0m\u001b[0m\n\u001b[1;32m    129\u001b[0m         data_pack.apply_on_text(self._context['filter_unit'].transform,\n",
      "\u001b[0;32m~/NTMC-Community/MatchZoo/matchzoo/data_pack/data_pack.py\u001b[0m in \u001b[0;36mwrapper\u001b[0;34m(self, inplace, *args, **kwargs)\u001b[0m\n\u001b[1;32m    241\u001b[0m                 \u001b[0mtarget\u001b[0m \u001b[0;34m=\u001b[0m \u001b[0mself\u001b[0m\u001b[0;34m.\u001b[0m\u001b[0mcopy\u001b[0m\u001b[0;34m(\u001b[0m\u001b[0;34m)\u001b[0m\u001b[0;34m\u001b[0m\u001b[0m\n\u001b[1;32m    242\u001b[0m \u001b[0;34m\u001b[0m\u001b[0m\n\u001b[0;32m--> 243\u001b[0;31m             \u001b[0mfunc\u001b[0m\u001b[0;34m(\u001b[0m\u001b[0mtarget\u001b[0m\u001b[0;34m,\u001b[0m \u001b[0;34m*\u001b[0m\u001b[0margs\u001b[0m\u001b[0;34m,\u001b[0m \u001b[0;34m**\u001b[0m\u001b[0mkwargs\u001b[0m\u001b[0;34m)\u001b[0m\u001b[0;34m\u001b[0m\u001b[0m\n\u001b[0m\u001b[1;32m    244\u001b[0m \u001b[0;34m\u001b[0m\u001b[0m\n\u001b[1;32m    245\u001b[0m             \u001b[0;32mif\u001b[0m \u001b[0;32mnot\u001b[0m \u001b[0minplace\u001b[0m\u001b[0;34m:\u001b[0m\u001b[0;34m\u001b[0m\u001b[0m\n",
      "\u001b[0;32m~/NTMC-Community/MatchZoo/matchzoo/data_pack/data_pack.py\u001b[0m in \u001b[0;36mapply_on_text\u001b[0;34m(self, func, mode, rename, verbose)\u001b[0m\n\u001b[1;32m    370\u001b[0m         \"\"\"\n\u001b[1;32m    371\u001b[0m         \u001b[0;32mif\u001b[0m \u001b[0mmode\u001b[0m \u001b[0;34m==\u001b[0m \u001b[0;34m'both'\u001b[0m\u001b[0;34m:\u001b[0m\u001b[0;34m\u001b[0m\u001b[0m\n\u001b[0;32m--> 372\u001b[0;31m             \u001b[0mself\u001b[0m\u001b[0;34m.\u001b[0m\u001b[0m_apply_on_text_both\u001b[0m\u001b[0;34m(\u001b[0m\u001b[0mfunc\u001b[0m\u001b[0;34m,\u001b[0m \u001b[0mrename\u001b[0m\u001b[0;34m,\u001b[0m \u001b[0mverbose\u001b[0m\u001b[0;34m=\u001b[0m\u001b[0mverbose\u001b[0m\u001b[0;34m)\u001b[0m\u001b[0;34m\u001b[0m\u001b[0m\n\u001b[0m\u001b[1;32m    373\u001b[0m         \u001b[0;32melif\u001b[0m \u001b[0mmode\u001b[0m \u001b[0;34m==\u001b[0m \u001b[0;34m'left'\u001b[0m\u001b[0;34m:\u001b[0m\u001b[0;34m\u001b[0m\u001b[0m\n\u001b[1;32m    374\u001b[0m             \u001b[0mself\u001b[0m\u001b[0;34m.\u001b[0m\u001b[0m_apply_on_text_left\u001b[0m\u001b[0;34m(\u001b[0m\u001b[0mfunc\u001b[0m\u001b[0;34m,\u001b[0m \u001b[0mrename\u001b[0m\u001b[0;34m,\u001b[0m \u001b[0mverbose\u001b[0m\u001b[0;34m=\u001b[0m\u001b[0mverbose\u001b[0m\u001b[0;34m)\u001b[0m\u001b[0;34m\u001b[0m\u001b[0m\n",
      "\u001b[0;32m~/NTMC-Community/MatchZoo/matchzoo/data_pack/data_pack.py\u001b[0m in \u001b[0;36m_apply_on_text_both\u001b[0;34m(self, func, rename, verbose)\u001b[0m\n\u001b[1;32m    396\u001b[0m     \u001b[0;32mdef\u001b[0m \u001b[0m_apply_on_text_both\u001b[0m\u001b[0;34m(\u001b[0m\u001b[0mself\u001b[0m\u001b[0;34m,\u001b[0m \u001b[0mfunc\u001b[0m\u001b[0;34m,\u001b[0m \u001b[0mrename\u001b[0m\u001b[0;34m,\u001b[0m \u001b[0mverbose\u001b[0m\u001b[0;34m=\u001b[0m\u001b[0;36m1\u001b[0m\u001b[0;34m)\u001b[0m\u001b[0;34m:\u001b[0m\u001b[0;34m\u001b[0m\u001b[0m\n\u001b[1;32m    397\u001b[0m         \u001b[0mleft_name\u001b[0m\u001b[0;34m,\u001b[0m \u001b[0mright_name\u001b[0m \u001b[0;34m=\u001b[0m \u001b[0mrename\u001b[0m \u001b[0;32mor\u001b[0m \u001b[0;34m(\u001b[0m\u001b[0;34m'text_left'\u001b[0m\u001b[0;34m,\u001b[0m \u001b[0;34m'text_right'\u001b[0m\u001b[0;34m)\u001b[0m\u001b[0;34m\u001b[0m\u001b[0m\n\u001b[0;32m--> 398\u001b[0;31m         \u001b[0mself\u001b[0m\u001b[0;34m.\u001b[0m\u001b[0m_apply_on_text_left\u001b[0m\u001b[0;34m(\u001b[0m\u001b[0mfunc\u001b[0m\u001b[0;34m,\u001b[0m \u001b[0mrename\u001b[0m\u001b[0;34m=\u001b[0m\u001b[0mleft_name\u001b[0m\u001b[0;34m,\u001b[0m \u001b[0mverbose\u001b[0m\u001b[0;34m=\u001b[0m\u001b[0mverbose\u001b[0m\u001b[0;34m)\u001b[0m\u001b[0;34m\u001b[0m\u001b[0m\n\u001b[0m\u001b[1;32m    399\u001b[0m         \u001b[0mself\u001b[0m\u001b[0;34m.\u001b[0m\u001b[0m_apply_on_text_right\u001b[0m\u001b[0;34m(\u001b[0m\u001b[0mfunc\u001b[0m\u001b[0;34m,\u001b[0m \u001b[0mrename\u001b[0m\u001b[0;34m=\u001b[0m\u001b[0mright_name\u001b[0m\u001b[0;34m,\u001b[0m \u001b[0mverbose\u001b[0m\u001b[0;34m=\u001b[0m\u001b[0mverbose\u001b[0m\u001b[0;34m)\u001b[0m\u001b[0;34m\u001b[0m\u001b[0m\n\u001b[1;32m    400\u001b[0m \u001b[0;34m\u001b[0m\u001b[0m\n",
      "\u001b[0;32m~/NTMC-Community/MatchZoo/matchzoo/data_pack/data_pack.py\u001b[0m in \u001b[0;36m_apply_on_text_left\u001b[0;34m(self, func, rename, verbose)\u001b[0m\n\u001b[1;32m    390\u001b[0m         \u001b[0;32mif\u001b[0m \u001b[0mverbose\u001b[0m\u001b[0;34m:\u001b[0m\u001b[0;34m\u001b[0m\u001b[0m\n\u001b[1;32m    391\u001b[0m             \u001b[0mtqdm\u001b[0m\u001b[0;34m.\u001b[0m\u001b[0mpandas\u001b[0m\u001b[0;34m(\u001b[0m\u001b[0mdesc\u001b[0m\u001b[0;34m=\u001b[0m\u001b[0;34m\"Processing \"\u001b[0m \u001b[0;34m+\u001b[0m \u001b[0mname\u001b[0m \u001b[0;34m+\u001b[0m \u001b[0;34m\" with \"\u001b[0m \u001b[0;34m+\u001b[0m \u001b[0mfunc\u001b[0m\u001b[0;34m.\u001b[0m\u001b[0m__name__\u001b[0m\u001b[0;34m)\u001b[0m\u001b[0;34m\u001b[0m\u001b[0m\n\u001b[0;32m--> 392\u001b[0;31m             \u001b[0mself\u001b[0m\u001b[0;34m.\u001b[0m\u001b[0m_left\u001b[0m\u001b[0;34m[\u001b[0m\u001b[0mname\u001b[0m\u001b[0;34m]\u001b[0m \u001b[0;34m=\u001b[0m \u001b[0mself\u001b[0m\u001b[0;34m.\u001b[0m\u001b[0m_left\u001b[0m\u001b[0;34m[\u001b[0m\u001b[0;34m'text_left'\u001b[0m\u001b[0;34m]\u001b[0m\u001b[0;34m.\u001b[0m\u001b[0mprogress_apply\u001b[0m\u001b[0;34m(\u001b[0m\u001b[0mfunc\u001b[0m\u001b[0;34m)\u001b[0m\u001b[0;34m\u001b[0m\u001b[0m\n\u001b[0m\u001b[1;32m    393\u001b[0m         \u001b[0;32melse\u001b[0m\u001b[0;34m:\u001b[0m\u001b[0;34m\u001b[0m\u001b[0m\n\u001b[1;32m    394\u001b[0m             \u001b[0mself\u001b[0m\u001b[0;34m.\u001b[0m\u001b[0m_left\u001b[0m\u001b[0;34m[\u001b[0m\u001b[0mname\u001b[0m\u001b[0;34m]\u001b[0m \u001b[0;34m=\u001b[0m \u001b[0mself\u001b[0m\u001b[0;34m.\u001b[0m\u001b[0m_left\u001b[0m\u001b[0;34m[\u001b[0m\u001b[0;34m'text_left'\u001b[0m\u001b[0;34m]\u001b[0m\u001b[0;34m.\u001b[0m\u001b[0mapply\u001b[0m\u001b[0;34m(\u001b[0m\u001b[0mfunc\u001b[0m\u001b[0;34m)\u001b[0m\u001b[0;34m\u001b[0m\u001b[0m\n",
      "\u001b[0;32m~/.local/python3/lib/python3.6/site-packages/pandas/core/frame.py\u001b[0m in \u001b[0;36m__getitem__\u001b[0;34m(self, key)\u001b[0m\n\u001b[1;32m   2686\u001b[0m             \u001b[0;32mreturn\u001b[0m \u001b[0mself\u001b[0m\u001b[0;34m.\u001b[0m\u001b[0m_getitem_multilevel\u001b[0m\u001b[0;34m(\u001b[0m\u001b[0mkey\u001b[0m\u001b[0;34m)\u001b[0m\u001b[0;34m\u001b[0m\u001b[0m\n\u001b[1;32m   2687\u001b[0m         \u001b[0;32melse\u001b[0m\u001b[0;34m:\u001b[0m\u001b[0;34m\u001b[0m\u001b[0m\n\u001b[0;32m-> 2688\u001b[0;31m             \u001b[0;32mreturn\u001b[0m \u001b[0mself\u001b[0m\u001b[0;34m.\u001b[0m\u001b[0m_getitem_column\u001b[0m\u001b[0;34m(\u001b[0m\u001b[0mkey\u001b[0m\u001b[0;34m)\u001b[0m\u001b[0;34m\u001b[0m\u001b[0m\n\u001b[0m\u001b[1;32m   2689\u001b[0m \u001b[0;34m\u001b[0m\u001b[0m\n\u001b[1;32m   2690\u001b[0m     \u001b[0;32mdef\u001b[0m \u001b[0m_getitem_column\u001b[0m\u001b[0;34m(\u001b[0m\u001b[0mself\u001b[0m\u001b[0;34m,\u001b[0m \u001b[0mkey\u001b[0m\u001b[0;34m)\u001b[0m\u001b[0;34m:\u001b[0m\u001b[0;34m\u001b[0m\u001b[0m\n",
      "\u001b[0;32m~/.local/python3/lib/python3.6/site-packages/pandas/core/frame.py\u001b[0m in \u001b[0;36m_getitem_column\u001b[0;34m(self, key)\u001b[0m\n\u001b[1;32m   2693\u001b[0m         \u001b[0;31m# get column\u001b[0m\u001b[0;34m\u001b[0m\u001b[0;34m\u001b[0m\u001b[0m\n\u001b[1;32m   2694\u001b[0m         \u001b[0;32mif\u001b[0m \u001b[0mself\u001b[0m\u001b[0;34m.\u001b[0m\u001b[0mcolumns\u001b[0m\u001b[0;34m.\u001b[0m\u001b[0mis_unique\u001b[0m\u001b[0;34m:\u001b[0m\u001b[0;34m\u001b[0m\u001b[0m\n\u001b[0;32m-> 2695\u001b[0;31m             \u001b[0;32mreturn\u001b[0m \u001b[0mself\u001b[0m\u001b[0;34m.\u001b[0m\u001b[0m_get_item_cache\u001b[0m\u001b[0;34m(\u001b[0m\u001b[0mkey\u001b[0m\u001b[0;34m)\u001b[0m\u001b[0;34m\u001b[0m\u001b[0m\n\u001b[0m\u001b[1;32m   2696\u001b[0m \u001b[0;34m\u001b[0m\u001b[0m\n\u001b[1;32m   2697\u001b[0m         \u001b[0;31m# duplicate columns & possible reduce dimensionality\u001b[0m\u001b[0;34m\u001b[0m\u001b[0;34m\u001b[0m\u001b[0m\n",
      "\u001b[0;32m~/.local/python3/lib/python3.6/site-packages/pandas/core/generic.py\u001b[0m in \u001b[0;36m_get_item_cache\u001b[0;34m(self, item)\u001b[0m\n\u001b[1;32m   2487\u001b[0m         \u001b[0mres\u001b[0m \u001b[0;34m=\u001b[0m \u001b[0mcache\u001b[0m\u001b[0;34m.\u001b[0m\u001b[0mget\u001b[0m\u001b[0;34m(\u001b[0m\u001b[0mitem\u001b[0m\u001b[0;34m)\u001b[0m\u001b[0;34m\u001b[0m\u001b[0m\n\u001b[1;32m   2488\u001b[0m         \u001b[0;32mif\u001b[0m \u001b[0mres\u001b[0m \u001b[0;32mis\u001b[0m \u001b[0;32mNone\u001b[0m\u001b[0;34m:\u001b[0m\u001b[0;34m\u001b[0m\u001b[0m\n\u001b[0;32m-> 2489\u001b[0;31m             \u001b[0mvalues\u001b[0m \u001b[0;34m=\u001b[0m \u001b[0mself\u001b[0m\u001b[0;34m.\u001b[0m\u001b[0m_data\u001b[0m\u001b[0;34m.\u001b[0m\u001b[0mget\u001b[0m\u001b[0;34m(\u001b[0m\u001b[0mitem\u001b[0m\u001b[0;34m)\u001b[0m\u001b[0;34m\u001b[0m\u001b[0m\n\u001b[0m\u001b[1;32m   2490\u001b[0m             \u001b[0mres\u001b[0m \u001b[0;34m=\u001b[0m \u001b[0mself\u001b[0m\u001b[0;34m.\u001b[0m\u001b[0m_box_item_values\u001b[0m\u001b[0;34m(\u001b[0m\u001b[0mitem\u001b[0m\u001b[0;34m,\u001b[0m \u001b[0mvalues\u001b[0m\u001b[0;34m)\u001b[0m\u001b[0;34m\u001b[0m\u001b[0m\n\u001b[1;32m   2491\u001b[0m             \u001b[0mcache\u001b[0m\u001b[0;34m[\u001b[0m\u001b[0mitem\u001b[0m\u001b[0;34m]\u001b[0m \u001b[0;34m=\u001b[0m \u001b[0mres\u001b[0m\u001b[0;34m\u001b[0m\u001b[0m\n",
      "\u001b[0;32m~/.local/python3/lib/python3.6/site-packages/pandas/core/internals.py\u001b[0m in \u001b[0;36mget\u001b[0;34m(self, item, fastpath)\u001b[0m\n\u001b[1;32m   4113\u001b[0m \u001b[0;34m\u001b[0m\u001b[0m\n\u001b[1;32m   4114\u001b[0m             \u001b[0;32mif\u001b[0m \u001b[0;32mnot\u001b[0m \u001b[0misna\u001b[0m\u001b[0;34m(\u001b[0m\u001b[0mitem\u001b[0m\u001b[0;34m)\u001b[0m\u001b[0;34m:\u001b[0m\u001b[0;34m\u001b[0m\u001b[0m\n\u001b[0;32m-> 4115\u001b[0;31m                 \u001b[0mloc\u001b[0m \u001b[0;34m=\u001b[0m \u001b[0mself\u001b[0m\u001b[0;34m.\u001b[0m\u001b[0mitems\u001b[0m\u001b[0;34m.\u001b[0m\u001b[0mget_loc\u001b[0m\u001b[0;34m(\u001b[0m\u001b[0mitem\u001b[0m\u001b[0;34m)\u001b[0m\u001b[0;34m\u001b[0m\u001b[0m\n\u001b[0m\u001b[1;32m   4116\u001b[0m             \u001b[0;32melse\u001b[0m\u001b[0;34m:\u001b[0m\u001b[0;34m\u001b[0m\u001b[0m\n\u001b[1;32m   4117\u001b[0m                 \u001b[0mindexer\u001b[0m \u001b[0;34m=\u001b[0m \u001b[0mnp\u001b[0m\u001b[0;34m.\u001b[0m\u001b[0marange\u001b[0m\u001b[0;34m(\u001b[0m\u001b[0mlen\u001b[0m\u001b[0;34m(\u001b[0m\u001b[0mself\u001b[0m\u001b[0;34m.\u001b[0m\u001b[0mitems\u001b[0m\u001b[0;34m)\u001b[0m\u001b[0;34m)\u001b[0m\u001b[0;34m[\u001b[0m\u001b[0misna\u001b[0m\u001b[0;34m(\u001b[0m\u001b[0mself\u001b[0m\u001b[0;34m.\u001b[0m\u001b[0mitems\u001b[0m\u001b[0;34m)\u001b[0m\u001b[0;34m]\u001b[0m\u001b[0;34m\u001b[0m\u001b[0m\n",
      "\u001b[0;32m~/.local/python3/lib/python3.6/site-packages/pandas/core/indexes/base.py\u001b[0m in \u001b[0;36mget_loc\u001b[0;34m(self, key, method, tolerance)\u001b[0m\n\u001b[1;32m   3078\u001b[0m                 \u001b[0;32mreturn\u001b[0m \u001b[0mself\u001b[0m\u001b[0;34m.\u001b[0m\u001b[0m_engine\u001b[0m\u001b[0;34m.\u001b[0m\u001b[0mget_loc\u001b[0m\u001b[0;34m(\u001b[0m\u001b[0mkey\u001b[0m\u001b[0;34m)\u001b[0m\u001b[0;34m\u001b[0m\u001b[0m\n\u001b[1;32m   3079\u001b[0m             \u001b[0;32mexcept\u001b[0m \u001b[0mKeyError\u001b[0m\u001b[0;34m:\u001b[0m\u001b[0;34m\u001b[0m\u001b[0m\n\u001b[0;32m-> 3080\u001b[0;31m                 \u001b[0;32mreturn\u001b[0m \u001b[0mself\u001b[0m\u001b[0;34m.\u001b[0m\u001b[0m_engine\u001b[0m\u001b[0;34m.\u001b[0m\u001b[0mget_loc\u001b[0m\u001b[0;34m(\u001b[0m\u001b[0mself\u001b[0m\u001b[0;34m.\u001b[0m\u001b[0m_maybe_cast_indexer\u001b[0m\u001b[0;34m(\u001b[0m\u001b[0mkey\u001b[0m\u001b[0;34m)\u001b[0m\u001b[0;34m)\u001b[0m\u001b[0;34m\u001b[0m\u001b[0m\n\u001b[0m\u001b[1;32m   3081\u001b[0m \u001b[0;34m\u001b[0m\u001b[0m\n\u001b[1;32m   3082\u001b[0m         \u001b[0mindexer\u001b[0m \u001b[0;34m=\u001b[0m \u001b[0mself\u001b[0m\u001b[0;34m.\u001b[0m\u001b[0mget_indexer\u001b[0m\u001b[0;34m(\u001b[0m\u001b[0;34m[\u001b[0m\u001b[0mkey\u001b[0m\u001b[0;34m]\u001b[0m\u001b[0;34m,\u001b[0m \u001b[0mmethod\u001b[0m\u001b[0;34m=\u001b[0m\u001b[0mmethod\u001b[0m\u001b[0;34m,\u001b[0m \u001b[0mtolerance\u001b[0m\u001b[0;34m=\u001b[0m\u001b[0mtolerance\u001b[0m\u001b[0;34m)\u001b[0m\u001b[0;34m\u001b[0m\u001b[0m\n",
      "\u001b[0;32mpandas/_libs/index.pyx\u001b[0m in \u001b[0;36mpandas._libs.index.IndexEngine.get_loc\u001b[0;34m()\u001b[0m\n",
      "\u001b[0;32mpandas/_libs/index.pyx\u001b[0m in \u001b[0;36mpandas._libs.index.IndexEngine.get_loc\u001b[0;34m()\u001b[0m\n",
      "\u001b[0;31mKeyError\u001b[0m: 'text_left'"
     ]
    }
   ],
   "source": [
    "x1 = preprocessor.transform(test_sample)"
   ]
  },
  {
   "cell_type": "code",
   "execution_count": null,
   "metadata": {},
   "outputs": [],
   "source": []
  }
 ],
 "metadata": {
  "kernelspec": {
   "display_name": "Python 3",
   "language": "python",
   "name": "python3"
  },
  "language_info": {
   "codemirror_mode": {
    "name": "ipython",
    "version": 3
   },
   "file_extension": ".py",
   "mimetype": "text/x-python",
   "name": "python",
   "nbconvert_exporter": "python",
   "pygments_lexer": "ipython3",
   "version": "3.6.5"
  }
 },
 "nbformat": 4,
 "nbformat_minor": 2
}
