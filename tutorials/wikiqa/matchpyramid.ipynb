{
 "cells": [
  {
   "cell_type": "code",
   "execution_count": 1,
   "metadata": {},
   "outputs": [
    {
     "name": "stderr",
     "output_type": "stream",
     "text": [
      "Using TensorFlow backend.\n"
     ]
    },
    {
     "name": "stdout",
     "output_type": "stream",
     "text": [
      "matchzoo version 2.1.0\n",
      "\n",
      "data loading ...\n",
      "data loaded as `train_pack_raw` `dev_pack_raw` `test_pack_raw`\n",
      "`ranking_task` initialized with metrics [normalized_discounted_cumulative_gain@3(0.0), normalized_discounted_cumulative_gain@5(0.0), mean_average_precision(0.0)]\n",
      "loading embedding ...\n",
      "embedding loaded as `glove_embedding`\n"
     ]
    }
   ],
   "source": [
    "%run init.ipynb"
   ]
  },
  {
   "cell_type": "code",
   "execution_count": 2,
   "metadata": {},
   "outputs": [],
   "source": [
    "preprocessor = mz.preprocessors.BasicPreprocessor(fixed_length_left=10, \n",
    "                                                  fixed_length_right=40, \n",
    "                                                  remove_stop_words=True)"
   ]
  },
  {
   "cell_type": "code",
   "execution_count": 3,
   "metadata": {
    "scrolled": false
   },
   "outputs": [
    {
     "name": "stderr",
     "output_type": "stream",
     "text": [
      "Processing text_left with chain_transform of Tokenize => Lowercase => PuncRemoval => StopRemoval: 100%|██████████| 2118/2118 [00:00<00:00, 7221.86it/s]\n",
      "Processing text_right with chain_transform of Tokenize => Lowercase => PuncRemoval => StopRemoval: 100%|██████████| 18841/18841 [00:04<00:00, 3820.58it/s]\n",
      "Processing text_right with append: 100%|██████████| 18841/18841 [00:00<00:00, 838673.84it/s]\n",
      "Building FrequencyFilter from a datapack.: 100%|██████████| 18841/18841 [00:00<00:00, 175386.74it/s]\n",
      "Processing text_right with transform: 100%|██████████| 18841/18841 [00:00<00:00, 67724.74it/s]\n",
      "Processing text_left with extend: 100%|██████████| 2118/2118 [00:00<00:00, 647535.23it/s]\n",
      "Processing text_right with extend: 100%|██████████| 18841/18841 [00:00<00:00, 614233.94it/s]\n",
      "Building Vocabulary from a datapack.: 100%|██████████| 234263/234263 [00:00<00:00, 1619906.09it/s]\n",
      "Processing text_left with chain_transform of Tokenize => Lowercase => PuncRemoval => StopRemoval: 100%|██████████| 2118/2118 [00:00<00:00, 8373.09it/s]\n",
      "Processing text_right with chain_transform of Tokenize => Lowercase => PuncRemoval => StopRemoval: 100%|██████████| 18841/18841 [00:04<00:00, 4262.79it/s]\n",
      "Processing text_right with transform: 100%|██████████| 18841/18841 [00:00<00:00, 172135.62it/s]\n",
      "Processing text_left with transform: 100%|██████████| 2118/2118 [00:00<00:00, 265006.14it/s]\n",
      "Processing text_right with transform: 100%|██████████| 18841/18841 [00:00<00:00, 174381.65it/s]\n",
      "Processing length_left with len: 100%|██████████| 2118/2118 [00:00<00:00, 584174.12it/s]\n",
      "Processing length_right with len: 100%|██████████| 18841/18841 [00:00<00:00, 746778.82it/s]\n",
      "Processing text_left with transform: 100%|██████████| 2118/2118 [00:00<00:00, 140413.42it/s]\n",
      "Processing text_right with transform: 100%|██████████| 18841/18841 [00:00<00:00, 114424.01it/s]\n",
      "Processing text_left with chain_transform of Tokenize => Lowercase => PuncRemoval => StopRemoval: 100%|██████████| 122/122 [00:00<00:00, 8167.81it/s]\n",
      "Processing text_right with chain_transform of Tokenize => Lowercase => PuncRemoval => StopRemoval: 100%|██████████| 1115/1115 [00:00<00:00, 4275.71it/s]\n",
      "Processing text_right with transform: 100%|██████████| 1115/1115 [00:00<00:00, 10508.45it/s]\n",
      "Processing text_left with transform: 100%|██████████| 122/122 [00:00<00:00, 126910.98it/s]\n",
      "Processing text_right with transform: 100%|██████████| 1115/1115 [00:00<00:00, 176231.26it/s]\n",
      "Processing length_left with len: 100%|██████████| 122/122 [00:00<00:00, 202816.13it/s]\n",
      "Processing length_right with len: 100%|██████████| 1115/1115 [00:00<00:00, 564267.49it/s]\n",
      "Processing text_left with transform: 100%|██████████| 122/122 [00:00<00:00, 80028.95it/s]\n",
      "Processing text_right with transform: 100%|██████████| 1115/1115 [00:00<00:00, 106060.89it/s]\n",
      "Processing text_left with chain_transform of Tokenize => Lowercase => PuncRemoval => StopRemoval: 100%|██████████| 237/237 [00:00<00:00, 8644.67it/s]\n",
      "Processing text_right with chain_transform of Tokenize => Lowercase => PuncRemoval => StopRemoval: 100%|██████████| 2300/2300 [00:00<00:00, 4270.07it/s]\n",
      "Processing text_right with transform: 100%|██████████| 2300/2300 [00:00<00:00, 188048.72it/s]\n",
      "Processing text_left with transform: 100%|██████████| 237/237 [00:00<00:00, 197545.72it/s]\n",
      "Processing text_right with transform: 100%|██████████| 2300/2300 [00:00<00:00, 188202.80it/s]\n",
      "Processing length_left with len: 100%|██████████| 237/237 [00:00<00:00, 297086.09it/s]\n",
      "Processing length_right with len: 100%|██████████| 2300/2300 [00:00<00:00, 659932.90it/s]\n",
      "Processing text_left with transform: 100%|██████████| 237/237 [00:00<00:00, 109380.51it/s]\n",
      "Processing text_right with transform: 100%|██████████| 2300/2300 [00:00<00:00, 114534.52it/s]\n"
     ]
    }
   ],
   "source": [
    "train_pack_processed = preprocessor.fit_transform(train_pack_raw)\n",
    "dev_pack_processed = preprocessor.transform(dev_pack_raw)\n",
    "test_pack_processed = preprocessor.transform(test_pack_raw)"
   ]
  },
  {
   "cell_type": "code",
   "execution_count": 8,
   "metadata": {
    "scrolled": false
   },
   "outputs": [],
   "source": [
    "model = mz.models.MatchPyramid()\n",
    "\n",
    "model.params['input_shapes'] = preprocessor.context['input_shapes']\n",
    "model.params['task'] = ranking_task\n",
    "model.params['embedding_input_dim'] = preprocessor.context['vocab_size']\n",
    "model.params['embedding_output_dim'] = 100\n",
    "model.params['embedding_trainable'] = True\n",
    "model.params['num_blocks'] = 2\n",
    "model.params['kernel_count'] = [16, 32]\n",
    "model.params['kernel_size'] = [[3, 3], [3, 3]]\n",
    "model.params['dpool_size'] = [3, 10]\n",
    "model.params['optimizer'] = 'adam'\n",
    "model.params['dropout_rate'] = 0.1\n",
    "model.guess_and_fill_missing_params()\n",
    "\n",
    "model.build()\n",
    "model.compile()"
   ]
  },
  {
   "cell_type": "code",
   "execution_count": 9,
   "metadata": {},
   "outputs": [
    {
     "name": "stdout",
     "output_type": "stream",
     "text": [
      "__________________________________________________________________________________________________\n",
      "Layer (type)                    Output Shape         Param #     Connected to                     \n",
      "==================================================================================================\n",
      "text_left (InputLayer)          (None, 10)           0                                            \n",
      "__________________________________________________________________________________________________\n",
      "text_right (InputLayer)         (None, 40)           0                                            \n",
      "__________________________________________________________________________________________________\n",
      "embedding (Embedding)           multiple             1654600     text_left[0][0]                  \n",
      "                                                                 text_right[0][0]                 \n",
      "__________________________________________________________________________________________________\n",
      "matching_layer_2 (MatchingLayer (None, 10, 40, 1)    0           embedding[0][0]                  \n",
      "                                                                 embedding[1][0]                  \n",
      "__________________________________________________________________________________________________\n",
      "conv2d_3 (Conv2D)               (None, 10, 40, 16)   160         matching_layer_2[0][0]           \n",
      "__________________________________________________________________________________________________\n",
      "conv2d_4 (Conv2D)               (None, 10, 40, 32)   4640        conv2d_3[0][0]                   \n",
      "__________________________________________________________________________________________________\n",
      "dpool_index (InputLayer)        (None, 10, 40, 2)    0                                            \n",
      "__________________________________________________________________________________________________\n",
      "dynamic_pooling_layer_2 (Dynami (None, 3, 10, 32)    0           conv2d_4[0][0]                   \n",
      "                                                                 dpool_index[0][0]                \n",
      "__________________________________________________________________________________________________\n",
      "flatten_2 (Flatten)             (None, 960)          0           dynamic_pooling_layer_2[0][0]    \n",
      "__________________________________________________________________________________________________\n",
      "dropout_2 (Dropout)             (None, 960)          0           flatten_2[0][0]                  \n",
      "__________________________________________________________________________________________________\n",
      "dense_2 (Dense)                 (None, 1)            961         dropout_2[0][0]                  \n",
      "==================================================================================================\n",
      "Total params: 1,660,361\n",
      "Trainable params: 1,660,361\n",
      "Non-trainable params: 0\n",
      "__________________________________________________________________________________________________\n"
     ]
    }
   ],
   "source": [
    "model.backend.summary()"
   ]
  },
  {
   "cell_type": "code",
   "execution_count": 6,
   "metadata": {},
   "outputs": [],
   "source": [
    "embedding_matrix = glove_embedding.build_matrix(preprocessor.context['vocab_unit'].state['term_index'])"
   ]
  },
  {
   "cell_type": "code",
   "execution_count": 10,
   "metadata": {},
   "outputs": [],
   "source": [
    "model.load_embedding_matrix(embedding_matrix)"
   ]
  },
  {
   "cell_type": "code",
   "execution_count": 18,
   "metadata": {},
   "outputs": [
    {
     "name": "stdout",
     "output_type": "stream",
     "text": [
      "num batches: 816\n"
     ]
    }
   ],
   "source": [
    "dpool_callback = mz.data_generator.callbacks.DynamicPooling(\n",
    "    fixed_length_left=10, \n",
    "    fixed_length_right=40\n",
    ")\n",
    "train_generator = mz.DataGenerator(\n",
    "    train_pack_processed,\n",
    "    mode='pair',\n",
    "    num_dup=2,\n",
    "    num_neg=1,\n",
    "    batch_size=20,\n",
    "    callbacks=[dpool_callback]\n",
    ")\n",
    "print('num batches:', len(train_generator))"
   ]
  },
  {
   "cell_type": "code",
   "execution_count": 19,
   "metadata": {},
   "outputs": [
    {
     "data": {
      "text/plain": [
       "118"
      ]
     },
     "execution_count": 19,
     "metadata": {},
     "output_type": "execute_result"
    }
   ],
   "source": [
    "test_generator = mz.DataGenerator(\n",
    "    test_pack_processed,\n",
    "    batch_size=20,\n",
    "    callbacks=[dpool_callback]\n",
    ")\n",
    "len(test_generator)"
   ]
  },
  {
   "cell_type": "code",
   "execution_count": 21,
   "metadata": {},
   "outputs": [],
   "source": [
    "test_x, test_y = test_generator[:]\n",
    "evaluate = mz.callbacks.EvaluateAllMetrics(model, x=test_x, y=test_y, batch_size=len(test_y))"
   ]
  },
  {
   "cell_type": "code",
   "execution_count": 22,
   "metadata": {
    "scrolled": false
   },
   "outputs": [
    {
     "name": "stdout",
     "output_type": "stream",
     "text": [
      "Epoch 1/20\n",
      "816/816 [==============================] - 17s 21ms/step - loss: 0.2310\n",
      "Validation: normalized_discounted_cumulative_gain@3(0.0): 0.509005582393753 - normalized_discounted_cumulative_gain@5(0.0): 0.5851168326689696 - mean_average_precision(0.0): 0.5359601444858333\n",
      "Epoch 2/20\n",
      "816/816 [==============================] - 40s 49ms/step - loss: 0.0107\n",
      "Validation: normalized_discounted_cumulative_gain@3(0.0): 0.5194788618507995 - normalized_discounted_cumulative_gain@5(0.0): 0.5908798870843132 - mean_average_precision(0.0): 0.5427507384785866\n",
      "Epoch 3/20\n",
      "816/816 [==============================] - 41s 50ms/step - loss: 0.0048\n",
      "Validation: normalized_discounted_cumulative_gain@3(0.0): 0.5370681656118138 - normalized_discounted_cumulative_gain@5(0.0): 0.6042993634090988 - mean_average_precision(0.0): 0.5618086563704341\n",
      "Epoch 4/20\n",
      "816/816 [==============================] - 41s 50ms/step - loss: 0.0037\n",
      "Validation: normalized_discounted_cumulative_gain@3(0.0): 0.5375455305428062 - normalized_discounted_cumulative_gain@5(0.0): 0.6040176344825594 - mean_average_precision(0.0): 0.563794835304515\n",
      "Epoch 5/20\n",
      "816/816 [==============================] - 46s 56ms/step - loss: 0.0027\n",
      "Validation: normalized_discounted_cumulative_gain@3(0.0): 0.517822790370224 - normalized_discounted_cumulative_gain@5(0.0): 0.5946328281528119 - mean_average_precision(0.0): 0.5411090040995103\n",
      "Epoch 6/20\n",
      "816/816 [==============================] - 41s 50ms/step - loss: 0.0023\n",
      "Validation: normalized_discounted_cumulative_gain@3(0.0): 0.5406376464864632 - normalized_discounted_cumulative_gain@5(0.0): 0.5974356646103703 - mean_average_precision(0.0): 0.5518872746648007\n",
      "Epoch 7/20\n",
      "816/816 [==============================] - 41s 50ms/step - loss: 0.0022 0s - loss: 0.00\n",
      "Validation: normalized_discounted_cumulative_gain@3(0.0): 0.5535389232566617 - normalized_discounted_cumulative_gain@5(0.0): 0.5969043922898128 - mean_average_precision(0.0): 0.5671404250046266\n",
      "Epoch 8/20\n",
      "816/816 [==============================] - 41s 50ms/step - loss: 0.0033\n",
      "816/816 [==============================] - 43s 53ms/step - loss: 0.0011\n",
      "Validation: normalized_discounted_cumulative_gain@3(0.0): 0.5528883101536999 - normalized_discounted_cumulative_gain@5(0.0): 0.6205425672425564 - mean_average_precision(0.0): 0.5732082934188053\n",
      "Epoch 12/20\n",
      "816/816 [==============================] - 44s 54ms/step - loss: 0.0012\n",
      "Validation: normalized_discounted_cumulative_gain@3(0.0): 0.5634065924049697 - normalized_discounted_cumulative_gain@5(0.0): 0.6247579360744436 - mean_average_precision(0.0): 0.5800946504269289\n",
      "Epoch 13/20\n",
      "816/816 [==============================] - 45s 55ms/step - loss: 0.0020\n",
      "Validation: normalized_discounted_cumulative_gain@3(0.0): 0.5433825068360935 - normalized_discounted_cumulative_gain@5(0.0): 0.6137743699585422 - mean_average_precision(0.0): 0.5663043724566436\n",
      "Epoch 14/20\n",
      "816/816 [==============================] - 46s 56ms/step - loss: 0.0015\n",
      "Validation: normalized_discounted_cumulative_gain@3(0.0): 0.5587675430491855 - normalized_discounted_cumulative_gain@5(0.0): 0.6250271099509637 - mean_average_precision(0.0): 0.5699256632959164\n",
      "Epoch 15/20\n",
      "816/816 [==============================] - 44s 54ms/step - loss: 0.0017\n",
      "Validation: normalized_discounted_cumulative_gain@3(0.0): 0.5747913885660919 - normalized_discounted_cumulative_gain@5(0.0): 0.6306649919136137 - mean_average_precision(0.0): 0.589646803032879\n",
      "Epoch 16/20\n",
      "816/816 [==============================] - 46s 56ms/step - loss: 0.0033\n",
      "Validation: normalized_discounted_cumulative_gain@3(0.0): 0.5575035289703192 - normalized_discounted_cumulative_gain@5(0.0): 0.6144322379895263 - mean_average_precision(0.0): 0.5691901316660871\n",
      "Epoch 17/20\n",
      "816/816 [==============================] - 49s 60ms/step - loss: 0.0012\n",
      "Validation: normalized_discounted_cumulative_gain@3(0.0): 0.565137533324584 - normalized_discounted_cumulative_gain@5(0.0): 0.6249745951914092 - mean_average_precision(0.0): 0.5774794157907214\n",
      "Epoch 18/20\n",
      "816/816 [==============================] - 46s 57ms/step - loss: 0.0013\n",
      "Validation: normalized_discounted_cumulative_gain@3(0.0): 0.5823722288292197 - normalized_discounted_cumulative_gain@5(0.0): 0.6366345820581153 - mean_average_precision(0.0): 0.5880805961502165\n",
      "Epoch 19/20\n",
      "257/816 [========>.....................] - ETA: 1:08 - loss: 0.0028"
     ]
    },
    {
     "name": "stderr",
     "output_type": "stream",
     "text": [
      "IOPub message rate exceeded.\n",
      "The notebook server will temporarily stop sending output\n",
      "to the client in order to avoid crashing it.\n",
      "To change this limit, set the config variable\n",
      "`--NotebookApp.iopub_msg_rate_limit`.\n",
      "\n",
      "Current values:\n",
      "NotebookApp.iopub_msg_rate_limit=1000.0 (msgs/sec)\n",
      "NotebookApp.rate_limit_window=3.0 (secs)\n",
      "\n"
     ]
    }
   ],
   "source": [
    "history = model.fit_generator(train_generator, epochs=20, callbacks=[evaluate], workers=30, use_multiprocessing=True)"
   ]
  },
  {
   "cell_type": "code",
   "execution_count": 23,
   "metadata": {},
   "outputs": [
    {
     "data": {
      "text/plain": [
       "{normalized_discounted_cumulative_gain@3(0.0): 0.5337704847339166,\n",
       " normalized_discounted_cumulative_gain@5(0.0): 0.6016249668554398,\n",
       " mean_average_precision(0.0): 0.5508765369261149}"
      ]
     },
     "execution_count": 23,
     "metadata": {},
     "output_type": "execute_result"
    }
   ],
   "source": [
    "model.evaluate(test_x, test_y, batch_size=5)"
   ]
  },
  {
   "cell_type": "code",
   "execution_count": null,
   "metadata": {},
   "outputs": [],
   "source": []
  }
 ],
 "metadata": {
  "kernelspec": {
   "display_name": "Python 3",
   "language": "python",
   "name": "python3"
  },
  "language_info": {
   "codemirror_mode": {
    "name": "ipython",
    "version": 3
   },
   "file_extension": ".py",
   "mimetype": "text/x-python",
   "name": "python",
   "nbconvert_exporter": "python",
   "pygments_lexer": "ipython3",
   "version": "3.6.2"
  }
 },
 "nbformat": 4,
 "nbformat_minor": 2
}
