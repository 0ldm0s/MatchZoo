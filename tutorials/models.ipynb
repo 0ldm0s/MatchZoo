{
 "cells": [
  {
   "cell_type": "code",
   "execution_count": 1,
   "metadata": {
    "ExecuteTime": {
     "end_time": "2018-12-13T18:21:22.384838Z",
     "start_time": "2018-12-13T18:21:20.579097Z"
    }
   },
   "outputs": [
    {
     "name": "stderr",
     "output_type": "stream",
     "text": [
      "/data/users/fyx/.local/python3/lib/python3.6/importlib/_bootstrap.py:219: RuntimeWarning: numpy.dtype size changed, may indicate binary incompatibility. Expected 96, got 88\n",
      "  return f(*args, **kwds)\n",
      "/data/users/fyx/.local/python3/lib/python3.6/importlib/_bootstrap.py:219: RuntimeWarning: numpy.dtype size changed, may indicate binary incompatibility. Expected 96, got 88\n",
      "  return f(*args, **kwds)\n",
      "Using TensorFlow backend.\n"
     ]
    }
   ],
   "source": [
    "import matchzoo as mz"
   ]
  },
  {
   "cell_type": "markdown",
   "metadata": {},
   "source": [
    "# Basics"
   ]
  },
  {
   "cell_type": "code",
   "execution_count": 2,
   "metadata": {
    "ExecuteTime": {
     "end_time": "2018-12-13T18:21:22.411533Z",
     "start_time": "2018-12-13T18:21:22.386688Z"
    }
   },
   "outputs": [
    {
     "name": "stdout",
     "output_type": "stream",
     "text": [
      "Parameter \"name\" set to NaiveModel.\n",
      "Parameter \"task\" set to Ranking Task.\n",
      "Parameter \"input_shapes\" set to [(30,), (30,)].\n",
      "Parameter \"optimizer\" set to adam.\n"
     ]
    }
   ],
   "source": [
    "m = mz.models.NaiveModel()\n",
    "m.guess_and_fill_missing_params()\n",
    "m.build()"
   ]
  },
  {
   "cell_type": "markdown",
   "metadata": {},
   "source": [
    "# Built-in Models"
   ]
  },
  {
   "cell_type": "code",
   "execution_count": 3,
   "metadata": {
    "ExecuteTime": {
     "end_time": "2018-12-13T18:21:22.430801Z",
     "start_time": "2018-12-13T18:21:22.413268Z"
    }
   },
   "outputs": [
    {
     "data": {
      "text/plain": [
       "[matchzoo.models.naive_model.NaiveModel,\n",
       " matchzoo.models.dssm.DSSM,\n",
       " matchzoo.models.cdssm.CDSSM,\n",
       " matchzoo.models.dense_baseline_model.DenseBaselineModel,\n",
       " matchzoo.models.arci.ArcI,\n",
       " matchzoo.models.arcii.ArcII,\n",
       " matchzoo.models.match_pyramid.MatchPyramid,\n",
       " matchzoo.models.knrm.KNRM,\n",
       " matchzoo.models.duet.DUET,\n",
       " matchzoo.models.drmmtks.DRMMTKS,\n",
       " matchzoo.models.drmm.DRMM,\n",
       " matchzoo.models.anmm.ANMM,\n",
       " matchzoo.models.mvlstm.MVLSTM,\n",
       " matchzoo.contrib.models.match_lstm.MatchLSTM]"
      ]
     },
     "execution_count": 3,
     "metadata": {},
     "output_type": "execute_result"
    }
   ],
   "source": [
    "mz.models.list_available()"
   ]
  },
  {
   "cell_type": "code",
   "execution_count": 4,
   "metadata": {
    "ExecuteTime": {
     "end_time": "2018-12-13T18:21:22.595518Z",
     "start_time": "2018-12-13T18:21:22.433547Z"
    }
   },
   "outputs": [
    {
     "name": "stderr",
     "output_type": "stream",
     "text": [
      "Processing text_left with chain_transform of TokenizeUnit => LowercaseUnit => PuncRemovalUnit: 100%|██████████| 13/13 [00:00<00:00, 1037.66it/s]\n",
      "Processing text_right with chain_transform of TokenizeUnit => LowercaseUnit => PuncRemovalUnit: 100%|██████████| 100/100 [00:00<00:00, 4408.51it/s]\n",
      "Processing text_left with extend: 100%|██████████| 13/13 [00:00<00:00, 19712.93it/s]\n",
      "Processing text_right with extend: 100%|██████████| 100/100 [00:00<00:00, 158514.89it/s]\n",
      "Building VocabularyUnit from a datapack.: 100%|██████████| 2275/2275 [00:00<00:00, 1323078.42it/s]\n",
      "Processing text_left with chain_transform of TokenizeUnit => LowercaseUnit => PuncRemovalUnit => VocabularyUnit => FixedLengthUnit: 100%|██████████| 13/13 [00:00<00:00, 5339.92it/s]\n",
      "Processing text_right with chain_transform of TokenizeUnit => LowercaseUnit => PuncRemovalUnit => VocabularyUnit => FixedLengthUnit: 100%|██████████| 100/100 [00:00<00:00, 4114.93it/s]\n",
      "Processing text_left with chain_transform of TokenizeUnit => LowercaseUnit => PuncRemovalUnit => VocabularyUnit => FixedLengthUnit: 100%|██████████| 3/3 [00:00<00:00, 2224.31it/s]\n",
      "Processing text_right with chain_transform of TokenizeUnit => LowercaseUnit => PuncRemovalUnit => VocabularyUnit => FixedLengthUnit: 100%|██████████| 20/20 [00:00<00:00, 3539.65it/s]\n"
     ]
    }
   ],
   "source": [
    "train_pack = mz.datasets.toy.load_data()\n",
    "test_pack = mz.datasets.toy.load_data(stage='test')\n",
    "preprocessor = mz.preprocessors.NaivePreprocessor()\n",
    "train_x, train_y = preprocessor.fit_transform(train_pack).unpack()\n",
    "test_x, test_y = preprocessor.transform(test_pack).unpack()"
   ]
  },
  {
   "cell_type": "markdown",
   "metadata": {},
   "source": [
    "## Naive"
   ]
  },
  {
   "cell_type": "markdown",
   "metadata": {},
   "source": [
    "Bare minimum functioning model. The best choice to get things rolling. The worst choice to fit and evaluate performance."
   ]
  },
  {
   "cell_type": "code",
   "execution_count": 5,
   "metadata": {
    "ExecuteTime": {
     "end_time": "2018-12-13T18:21:22.897207Z",
     "start_time": "2018-12-13T18:21:22.597638Z"
    }
   },
   "outputs": [
    {
     "name": "stdout",
     "output_type": "stream",
     "text": [
      "Parameter \"name\" set to NaiveModel.\n",
      "Parameter \"task\" set to Ranking Task.\n",
      "Parameter \"input_shapes\" set to [(30,), (30,)].\n",
      "Parameter \"optimizer\" set to adam.\n",
      "Epoch 1/1\n",
      "100/100 [==============================] - 0s 2ms/step - loss: 81424.6328\n"
     ]
    },
    {
     "data": {
      "text/plain": [
       "<keras.callbacks.History at 0x7f69d8379780>"
      ]
     },
     "execution_count": 5,
     "metadata": {},
     "output_type": "execute_result"
    }
   ],
   "source": [
    "naive = mz.models.NaiveModel()\n",
    "naive.guess_and_fill_missing_params()\n",
    "naive.build()\n",
    "naive.compile()\n",
    "naive.fit(train_x, train_y)"
   ]
  },
  {
   "cell_type": "markdown",
   "metadata": {},
   "source": [
    "## DenseBaseline"
   ]
  },
  {
   "cell_type": "markdown",
   "metadata": {},
   "source": [
    "## DSSM"
   ]
  },
  {
   "cell_type": "markdown",
   "metadata": {},
   "source": [
    "## CDSSM"
   ]
  },
  {
   "cell_type": "markdown",
   "metadata": {},
   "source": [
    "## ArcI"
   ]
  },
  {
   "cell_type": "markdown",
   "metadata": {},
   "source": [
    "## KNRM"
   ]
  },
  {
   "cell_type": "markdown",
   "metadata": {},
   "source": [
    "## DUET"
   ]
  },
  {
   "cell_type": "markdown",
   "metadata": {},
   "source": [
    "## DRMM-TKS"
   ]
  }
 ],
 "metadata": {
  "hide_input": false,
  "kernelspec": {
   "display_name": "Python 3",
   "language": "python",
   "name": "python3"
  },
  "language_info": {
   "codemirror_mode": {
    "name": "ipython",
    "version": 3
   },
   "file_extension": ".py",
   "mimetype": "text/x-python",
   "name": "python",
   "nbconvert_exporter": "python",
   "pygments_lexer": "ipython3",
   "version": "3.6.5"
  },
  "toc": {
   "nav_menu": {},
   "number_sections": true,
   "sideBar": true,
   "skip_h1_title": false,
   "toc_cell": false,
   "toc_position": {},
   "toc_section_display": "block",
   "toc_window_display": false
  },
  "varInspector": {
   "cols": {
    "lenName": 16,
    "lenType": 16,
    "lenVar": 40
   },
   "kernels_config": {
    "python": {
     "delete_cmd_postfix": "",
     "delete_cmd_prefix": "del ",
     "library": "var_list.py",
     "varRefreshCmd": "print(var_dic_list())"
    },
    "r": {
     "delete_cmd_postfix": ") ",
     "delete_cmd_prefix": "rm(",
     "library": "var_list.r",
     "varRefreshCmd": "cat(var_dic_list()) "
    }
   },
   "types_to_exclude": [
    "module",
    "function",
    "builtin_function_or_method",
    "instance",
    "_Feature"
   ],
   "window_display": false
  }
 },
 "nbformat": 4,
 "nbformat_minor": 2
}
