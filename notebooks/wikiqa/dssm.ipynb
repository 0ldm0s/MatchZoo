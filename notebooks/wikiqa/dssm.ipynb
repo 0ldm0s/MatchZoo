{
 "cells": [
  {
   "cell_type": "code",
   "execution_count": 1,
   "metadata": {},
   "outputs": [
    {
     "name": "stderr",
     "output_type": "stream",
     "text": [
      "Using TensorFlow backend.\n",
      "Generating grammar tables from /usr/lib/python3.6/lib2to3/Grammar.txt\n",
      "Generating grammar tables from /usr/lib/python3.6/lib2to3/PatternGrammar.txt\n"
     ]
    }
   ],
   "source": [
    "import keras\n",
    "import numpy as np\n",
    "import pandas as pd\n",
    "import matchzoo as mz"
   ]
  },
  {
   "cell_type": "code",
   "execution_count": 2,
   "metadata": {},
   "outputs": [],
   "source": [
    "train_pack = mz.datasets.wiki_qa.load_data('train', task='ranking')\n",
    "valid_pack = mz.datasets.wiki_qa.load_data('dev', task='ranking', filter=True)\n",
    "predict_pack = mz.datasets.wiki_qa.load_data('test', task='ranking', filter=True)"
   ]
  },
  {
   "cell_type": "code",
   "execution_count": 3,
   "metadata": {},
   "outputs": [
    {
     "name": "stderr",
     "output_type": "stream",
     "text": [
      "Processing text_left with chain_transform of TokenizeUnit => LowercaseUnit => PuncRemovalUnit => StopRemovalUnit => NgramLetterUnit: 100%|██████████| 2118/2118 [00:00<00:00, 4521.89it/s]\n",
      "Processing text_right with chain_transform of TokenizeUnit => LowercaseUnit => PuncRemovalUnit => StopRemovalUnit => NgramLetterUnit: 100%|██████████| 18841/18841 [00:04<00:00, 4534.48it/s]\n",
      "Processing text_left with extend: 100%|██████████| 2118/2118 [00:00<00:00, 799958.21it/s]\n",
      "Processing text_right with extend: 100%|██████████| 18841/18841 [00:00<00:00, 413751.50it/s]\n",
      "Building VocabularyUnit from a datapack.: 100%|██████████| 1614976/1614976 [00:00<00:00, 3246044.84it/s]\n",
      "Processing text_left with chain_transform of TokenizeUnit => LowercaseUnit => PuncRemovalUnit => StopRemovalUnit => NgramLetterUnit => WordHashingUnit: 100%|██████████| 2118/2118 [00:00<00:00, 5614.50it/s]\n",
      "Processing text_right with chain_transform of TokenizeUnit => LowercaseUnit => PuncRemovalUnit => StopRemovalUnit => NgramLetterUnit => WordHashingUnit: 100%|██████████| 18841/18841 [00:05<00:00, 3375.30it/s]\n"
     ]
    }
   ],
   "source": [
    "preprocessor = mz.preprocessors.DSSMPreprocessor()\n",
    "train_pack_processed = preprocessor.fit_transform(train_pack)"
   ]
  },
  {
   "cell_type": "code",
   "execution_count": 4,
   "metadata": {},
   "outputs": [
    {
     "name": "stderr",
     "output_type": "stream",
     "text": [
      "Processing text_left with chain_transform of TokenizeUnit => LowercaseUnit => PuncRemovalUnit => StopRemovalUnit => NgramLetterUnit => WordHashingUnit: 100%|██████████| 122/122 [00:00<00:00, 3901.41it/s]\n",
      "Processing text_right with chain_transform of TokenizeUnit => LowercaseUnit => PuncRemovalUnit => StopRemovalUnit => NgramLetterUnit => WordHashingUnit: 100%|██████████| 1115/1115 [00:00<00:00, 3264.95it/s]\n",
      "Processing text_left with chain_transform of TokenizeUnit => LowercaseUnit => PuncRemovalUnit => StopRemovalUnit => NgramLetterUnit => WordHashingUnit: 100%|██████████| 237/237 [00:00<00:00, 4494.81it/s]\n",
      "Processing text_right with chain_transform of TokenizeUnit => LowercaseUnit => PuncRemovalUnit => StopRemovalUnit => NgramLetterUnit => WordHashingUnit: 100%|██████████| 2300/2300 [00:00<00:00, 3319.89it/s]\n"
     ]
    }
   ],
   "source": [
    "valid_pack_processed = preprocessor.transform(valid_pack)\n",
    "predict_pack_processed = preprocessor.transform(predict_pack)"
   ]
  },
  {
   "cell_type": "code",
   "execution_count": 20,
   "metadata": {},
   "outputs": [],
   "source": [
    "ranking_task = mz.tasks.Ranking(loss=mz.losses.RankCrossEntropyLoss())\n",
    "ranking_task.metrics = [\n",
    "    mz.metrics.NormalizedDiscountedCumulativeGain(k=3),\n",
    "    mz.metrics.NormalizedDiscountedCumulativeGain(k=5),\n",
    "    mz.metrics.MeanAveragePrecision()\n",
    "]"
   ]
  },
  {
   "cell_type": "code",
   "execution_count": 21,
   "metadata": {},
   "outputs": [
    {
     "name": "stdout",
     "output_type": "stream",
     "text": [
      "Parameter \"name\" set to DSSM.\n",
      "__________________________________________________________________________________________________\n",
      "Layer (type)                    Output Shape         Param #     Connected to                     \n",
      "==================================================================================================\n",
      "text_left (InputLayer)          (None, 9644)         0                                            \n",
      "__________________________________________________________________________________________________\n",
      "text_right (InputLayer)         (None, 9644)         0                                            \n",
      "__________________________________________________________________________________________________\n",
      "dense_28 (Dense)                (None, 300)          2893500     text_left[0][0]                  \n",
      "__________________________________________________________________________________________________\n",
      "dense_32 (Dense)                (None, 300)          2893500     text_right[0][0]                 \n",
      "__________________________________________________________________________________________________\n",
      "dense_29 (Dense)                (None, 300)          90300       dense_28[0][0]                   \n",
      "__________________________________________________________________________________________________\n",
      "dense_33 (Dense)                (None, 300)          90300       dense_32[0][0]                   \n",
      "__________________________________________________________________________________________________\n",
      "dense_30 (Dense)                (None, 300)          90300       dense_29[0][0]                   \n",
      "__________________________________________________________________________________________________\n",
      "dense_34 (Dense)                (None, 300)          90300       dense_33[0][0]                   \n",
      "__________________________________________________________________________________________________\n",
      "dense_31 (Dense)                (None, 128)          38528       dense_30[0][0]                   \n",
      "__________________________________________________________________________________________________\n",
      "dense_35 (Dense)                (None, 128)          38528       dense_34[0][0]                   \n",
      "__________________________________________________________________________________________________\n",
      "dot_4 (Dot)                     (None, 1)            0           dense_31[0][0]                   \n",
      "                                                                 dense_35[0][0]                   \n",
      "__________________________________________________________________________________________________\n",
      "dense_36 (Dense)                (None, 1)            2           dot_4[0][0]                      \n",
      "==================================================================================================\n",
      "Total params: 6,225,258\n",
      "Trainable params: 6,225,258\n",
      "Non-trainable params: 0\n",
      "__________________________________________________________________________________________________\n"
     ]
    }
   ],
   "source": [
    "model = mz.models.DSSM()\n",
    "model.params['input_shapes'] = preprocessor.context['input_shapes']\n",
    "model.params['task'] = ranking_task\n",
    "model.params['mlp_num_layers'] = 3\n",
    "model.params['mlp_num_units'] = 300\n",
    "model.params['mlp_num_fan_out'] = 128\n",
    "model.params['mlp_activation_func'] = 'relu'\n",
    "model.guess_and_fill_missing_params()\n",
    "model.build()\n",
    "model.compile()\n",
    "model.backend.summary()"
   ]
  },
  {
   "cell_type": "code",
   "execution_count": 25,
   "metadata": {},
   "outputs": [],
   "source": [
    "pred_x, pred_y = predict_pack_processed[:].unpack()\n",
    "evaluate = mz.callbacks.EvaluateAllMetrics(model, x=pred_x, y=pred_y, batch_size=len(pred_x))"
   ]
  },
  {
   "cell_type": "code",
   "execution_count": 28,
   "metadata": {},
   "outputs": [
    {
     "data": {
      "text/plain": [
       "32"
      ]
     },
     "execution_count": 28,
     "metadata": {},
     "output_type": "execute_result"
    }
   ],
   "source": [
    "train_generator = mz.PairDataGenerator(train_pack_processed, num_dup=2, num_neg=4, batch_size=64, shuffle=True)\n",
    "len(train_generator)"
   ]
  },
  {
   "cell_type": "code",
   "execution_count": 29,
   "metadata": {
    "scrolled": false
   },
   "outputs": [
    {
     "name": "stdout",
     "output_type": "stream",
     "text": [
      "Epoch 1/20\n",
      "32/32 [==============================] - 5s 172ms/step - loss: 0.2200\n",
      "Validation: normalized_discounted_cumulative_gain@3(0): 0.5059929954248539 - normalized_discounted_cumulative_gain@5(0): 0.5826753049711647 - mean_average_precision(0): 0.5333990450662669\n",
      "Epoch 2/20\n",
      "32/32 [==============================] - 5s 169ms/step - loss: 0.1937\n",
      "Validation: normalized_discounted_cumulative_gain@3(0): 0.45644225063761773 - normalized_discounted_cumulative_gain@5(0): 0.5450868589210878 - mean_average_precision(0): 0.4982938490478807\n",
      "Epoch 3/20\n",
      "32/32 [==============================] - 5s 164ms/step - loss: 0.1780\n",
      "Validation: normalized_discounted_cumulative_gain@3(0): 0.5003176257352125 - normalized_discounted_cumulative_gain@5(0): 0.5796050417476545 - mean_average_precision(0): 0.5299744448130818\n",
      "Epoch 4/20\n",
      "32/32 [==============================] - 6s 174ms/step - loss: 0.1677\n",
      "Validation: normalized_discounted_cumulative_gain@3(0): 0.5209429726936254 - normalized_discounted_cumulative_gain@5(0): 0.5868744846996903 - mean_average_precision(0): 0.546107159517092\n",
      "Epoch 5/20\n",
      "32/32 [==============================] - 5s 169ms/step - loss: 0.1626\n",
      "Validation: normalized_discounted_cumulative_gain@3(0): 0.4897646548403124 - normalized_discounted_cumulative_gain@5(0): 0.5639726739973234 - mean_average_precision(0): 0.5085534190006209\n",
      "Epoch 6/20\n",
      "32/32 [==============================] - 5s 161ms/step - loss: 0.1582\n",
      "Validation: normalized_discounted_cumulative_gain@3(0): 0.5014384592734661 - normalized_discounted_cumulative_gain@5(0): 0.5651601566595841 - mean_average_precision(0): 0.5124383410775816\n",
      "Epoch 7/20\n",
      "32/32 [==============================] - 5s 160ms/step - loss: 0.1528\n",
      "Validation: normalized_discounted_cumulative_gain@3(0): 0.5221787579296513 - normalized_discounted_cumulative_gain@5(0): 0.58398441052896 - mean_average_precision(0): 0.5318134874212684\n",
      "Epoch 8/20\n",
      "32/32 [==============================] - 5s 156ms/step - loss: 0.1507\n",
      "Validation: normalized_discounted_cumulative_gain@3(0): 0.536209975461971 - normalized_discounted_cumulative_gain@5(0): 0.6032343533276249 - mean_average_precision(0): 0.5511472185314623\n",
      "Epoch 9/20\n",
      "32/32 [==============================] - 5s 160ms/step - loss: 0.1460\n",
      "Validation: normalized_discounted_cumulative_gain@3(0): 0.5711938904638999 - normalized_discounted_cumulative_gain@5(0): 0.6334097998253835 - mean_average_precision(0): 0.5767961205461206\n",
      "Epoch 10/20\n",
      "32/32 [==============================] - 5s 162ms/step - loss: 0.1409\n",
      "Validation: normalized_discounted_cumulative_gain@3(0): 0.5485351379384995 - normalized_discounted_cumulative_gain@5(0): 0.6226385247016213 - mean_average_precision(0): 0.557424920953402\n",
      "Epoch 11/20\n",
      "32/32 [==============================] - 5s 170ms/step - loss: 0.1399\n",
      "Validation: normalized_discounted_cumulative_gain@3(0): 0.5500810160259686 - normalized_discounted_cumulative_gain@5(0): 0.622739119775733 - mean_average_precision(0): 0.5630975903732792\n",
      "Epoch 12/20\n",
      "32/32 [==============================] - 6s 176ms/step - loss: 0.1365\n",
      "Validation: normalized_discounted_cumulative_gain@3(0): 0.5041936940191919 - normalized_discounted_cumulative_gain@5(0): 0.5870584222993778 - mean_average_precision(0): 0.5325156354428505\n",
      "Epoch 13/20\n",
      "32/32 [==============================] - 6s 182ms/step - loss: 0.1308\n",
      "Validation: normalized_discounted_cumulative_gain@3(0): 0.5454623411517098 - normalized_discounted_cumulative_gain@5(0): 0.6155017842043755 - mean_average_precision(0): 0.5589395317035222\n",
      "Epoch 14/20\n",
      "32/32 [==============================] - 6s 173ms/step - loss: 0.1280\n",
      "Validation: normalized_discounted_cumulative_gain@3(0): 0.5434926508447261 - normalized_discounted_cumulative_gain@5(0): 0.6068891127914208 - mean_average_precision(0): 0.5497068420327914\n",
      "Epoch 15/20\n",
      "32/32 [==============================] - 5s 161ms/step - loss: 0.1248\n",
      "Validation: normalized_discounted_cumulative_gain@3(0): 0.5254112588374222 - normalized_discounted_cumulative_gain@5(0): 0.594574144862862 - mean_average_precision(0): 0.5381911655595866\n",
      "Epoch 16/20\n",
      "32/32 [==============================] - 6s 179ms/step - loss: 0.1200\n",
      "Validation: normalized_discounted_cumulative_gain@3(0): 0.5567488607974953 - normalized_discounted_cumulative_gain@5(0): 0.617284143116853 - mean_average_precision(0): 0.5678290679081819\n",
      "Epoch 17/20\n",
      "32/32 [==============================] - 6s 183ms/step - loss: 0.1163\n",
      "Validation: normalized_discounted_cumulative_gain@3(0): 0.5589779154402933 - normalized_discounted_cumulative_gain@5(0): 0.6258444860771444 - mean_average_precision(0): 0.5729091708313894\n",
      "Epoch 18/20\n",
      "32/32 [==============================] - 5s 163ms/step - loss: 0.1128\n",
      "Validation: normalized_discounted_cumulative_gain@3(0): 0.5516658077366188 - normalized_discounted_cumulative_gain@5(0): 0.6222774781431719 - mean_average_precision(0): 0.5581413378673539\n",
      "Epoch 19/20\n",
      "32/32 [==============================] - 5s 162ms/step - loss: 0.1100\n",
      "Validation: normalized_discounted_cumulative_gain@3(0): 0.5462229503421552 - normalized_discounted_cumulative_gain@5(0): 0.6150228220726599 - mean_average_precision(0): 0.5562496436497103\n",
      "Epoch 20/20\n",
      "32/32 [==============================] - 5s 163ms/step - loss: 0.1078\n",
      "Validation: normalized_discounted_cumulative_gain@3(0): 0.5623664068602806 - normalized_discounted_cumulative_gain@5(0): 0.6249734103143411 - mean_average_precision(0): 0.5688010389750896\n"
     ]
    }
   ],
   "source": [
    "history = model.fit_generator(train_generator, epochs=20, callbacks=[evaluate], workers=5, use_multiprocessing=False)"
   ]
  }
 ],
 "metadata": {
  "kernelspec": {
   "display_name": "Python 3",
   "language": "python",
   "name": "python3"
  },
  "language_info": {
   "codemirror_mode": {
    "name": "ipython",
    "version": 3
   },
   "file_extension": ".py",
   "mimetype": "text/x-python",
   "name": "python",
   "nbconvert_exporter": "python",
   "pygments_lexer": "ipython3",
   "version": "3.6.7"
  }
 },
 "nbformat": 4,
 "nbformat_minor": 2
}
