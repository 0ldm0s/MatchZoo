{
 "cells": [
  {
   "cell_type": "code",
   "execution_count": 1,
   "metadata": {},
   "outputs": [
    {
     "name": "stderr",
     "output_type": "stream",
     "text": [
      "Using TensorFlow backend.\n",
      "/data/users/fyx/.local/python3/lib/python3.6/importlib/_bootstrap.py:219: RuntimeWarning: numpy.dtype size changed, may indicate binary incompatibility. Expected 96, got 88\n",
      "  return f(*args, **kwds)\n",
      "/data/users/fyx/.local/python3/lib/python3.6/importlib/_bootstrap.py:219: RuntimeWarning: numpy.dtype size changed, may indicate binary incompatibility. Expected 96, got 88\n",
      "  return f(*args, **kwds)\n"
     ]
    }
   ],
   "source": [
    "import keras\n",
    "import pandas as pd\n",
    "import numpy as np\n",
    "import matchzoo as mz"
   ]
  },
  {
   "cell_type": "code",
   "execution_count": 2,
   "metadata": {},
   "outputs": [],
   "source": [
    "train_pack = mz.datasets.wiki_qa.load_data('train', task='ranking')\n",
    "valid_pack = mz.datasets.wiki_qa.load_data('dev', task='ranking', filter=True)\n",
    "predict_pack = mz.datasets.wiki_qa.load_data('test', task='ranking', filter=True)"
   ]
  },
  {
   "cell_type": "code",
   "execution_count": 3,
   "metadata": {},
   "outputs": [
    {
     "name": "stderr",
     "output_type": "stream",
     "text": [
      "Processing text_left with chain_transform of TokenizeUnit => LowercaseUnit => PuncRemovalUnit: 100%|██████████| 2118/2118 [00:00<00:00, 8225.01it/s]\n",
      "Processing text_right with chain_transform of TokenizeUnit => LowercaseUnit => PuncRemovalUnit: 100%|██████████| 18841/18841 [00:04<00:00, 4450.37it/s]\n",
      "Processing text_right with append: 100%|██████████| 18841/18841 [00:00<00:00, 784389.43it/s]\n",
      "Building FrequencyFilterUnit from a datapack.: 100%|██████████| 18841/18841 [00:00<00:00, 117586.05it/s]\n",
      "Processing text_right with transform: 100%|██████████| 18841/18841 [00:00<00:00, 68131.30it/s] \n",
      "Processing text_left with extend: 100%|██████████| 2118/2118 [00:00<00:00, 559839.67it/s]\n",
      "Processing text_right with extend: 100%|██████████| 18841/18841 [00:00<00:00, 660759.73it/s]\n",
      "Building VocabularyUnit from a datapack.: 100%|██████████| 404415/404415 [00:00<00:00, 2607781.73it/s]\n",
      "Processing text_left with chain_transform of TokenizeUnit => LowercaseUnit => PuncRemovalUnit: 100%|██████████| 2118/2118 [00:00<00:00, 8646.78it/s]\n",
      "Processing text_right with chain_transform of TokenizeUnit => LowercaseUnit => PuncRemovalUnit: 100%|██████████| 18841/18841 [00:04<00:00, 4612.00it/s]\n",
      "Processing text_right with transform: 100%|██████████| 18841/18841 [00:00<00:00, 115840.50it/s]\n",
      "Processing text_left with transform: 100%|██████████| 2118/2118 [00:00<00:00, 181407.72it/s]\n",
      "Processing text_right with transform: 100%|██████████| 18841/18841 [00:00<00:00, 117439.44it/s]\n",
      "Processing text_left with transform: 100%|██████████| 2118/2118 [00:00<00:00, 110763.14it/s]\n",
      "Processing text_right with transform: 100%|██████████| 18841/18841 [00:00<00:00, 84218.47it/s]\n",
      "Processing length_left with len: 100%|██████████| 2118/2118 [00:00<00:00, 571141.56it/s]\n",
      "Processing length_right with len: 100%|██████████| 18841/18841 [00:00<00:00, 676027.25it/s]\n"
     ]
    }
   ],
   "source": [
    "preprocessor = mz.preprocessors.BasicPreprocessor(fixed_length_left=10, fixed_length_right=40, remove_stop_words=True)\n",
    "train_pack_processed = preprocessor.fit_transform(train_pack)"
   ]
  },
  {
   "cell_type": "code",
   "execution_count": 4,
   "metadata": {
    "scrolled": false
   },
   "outputs": [
    {
     "name": "stderr",
     "output_type": "stream",
     "text": [
      "Processing text_left with chain_transform of TokenizeUnit => LowercaseUnit => PuncRemovalUnit: 100%|██████████| 122/122 [00:00<00:00, 7292.99it/s]\n",
      "Processing text_right with chain_transform of TokenizeUnit => LowercaseUnit => PuncRemovalUnit: 100%|██████████| 1115/1115 [00:00<00:00, 4667.28it/s]\n",
      "Processing text_right with transform: 100%|██████████| 1115/1115 [00:00<00:00, 104308.00it/s]\n",
      "Processing text_left with transform: 100%|██████████| 122/122 [00:00<00:00, 114757.81it/s]\n",
      "Processing text_right with transform: 100%|██████████| 1115/1115 [00:00<00:00, 114136.99it/s]\n",
      "Processing text_left with transform: 100%|██████████| 122/122 [00:00<00:00, 69111.98it/s]\n",
      "Processing text_right with transform: 100%|██████████| 1115/1115 [00:00<00:00, 83532.47it/s]\n",
      "Processing length_left with len: 100%|██████████| 122/122 [00:00<00:00, 165707.61it/s]\n",
      "Processing length_right with len: 100%|██████████| 1115/1115 [00:00<00:00, 476528.32it/s]\n",
      "Processing text_left with chain_transform of TokenizeUnit => LowercaseUnit => PuncRemovalUnit: 100%|██████████| 237/237 [00:00<00:00, 8595.63it/s]\n",
      "Processing text_right with chain_transform of TokenizeUnit => LowercaseUnit => PuncRemovalUnit: 100%|██████████| 2300/2300 [00:00<00:00, 4691.63it/s]\n",
      "Processing text_right with transform: 100%|██████████| 2300/2300 [00:00<00:00, 114002.59it/s]\n",
      "Processing text_left with transform: 100%|██████████| 237/237 [00:00<00:00, 128796.33it/s]\n",
      "Processing text_right with transform: 100%|██████████| 2300/2300 [00:00<00:00, 18248.59it/s]\n",
      "Processing text_left with transform: 100%|██████████| 237/237 [00:00<00:00, 90433.96it/s]\n",
      "Processing text_right with transform: 100%|██████████| 2300/2300 [00:00<00:00, 86021.66it/s]\n",
      "Processing length_left with len: 100%|██████████| 237/237 [00:00<00:00, 275436.42it/s]\n",
      "Processing length_right with len: 100%|██████████| 2300/2300 [00:00<00:00, 596002.67it/s]\n"
     ]
    }
   ],
   "source": [
    "valid_pack_processed = preprocessor.transform(valid_pack)\n",
    "predict_pack_processed = preprocessor.transform(predict_pack)"
   ]
  },
  {
   "cell_type": "code",
   "execution_count": 5,
   "metadata": {},
   "outputs": [],
   "source": [
    "ranking_task = mz.tasks.Ranking(loss=mz.losses.RankHingeLoss())\n",
    "ranking_task.metrics = [\n",
    "    mz.metrics.NormalizedDiscountedCumulativeGain(k=3),\n",
    "    mz.metrics.NormalizedDiscountedCumulativeGain(k=5),\n",
    "    mz.metrics.MeanAveragePrecision()\n",
    "]"
   ]
  },
  {
   "cell_type": "code",
   "execution_count": 6,
   "metadata": {
    "scrolled": false
   },
   "outputs": [
    {
     "name": "stdout",
     "output_type": "stream",
     "text": [
      "Parameter \"name\" set to ArcI.\n",
      "Parameter \"embedding_trainable\" set to True.\n",
      "__________________________________________________________________________________________________\n",
      "Layer (type)                    Output Shape         Param #     Connected to                     \n",
      "==================================================================================================\n",
      "text_left (InputLayer)          (None, 10)           0                                            \n",
      "__________________________________________________________________________________________________\n",
      "text_right (InputLayer)         (None, 40)           0                                            \n",
      "__________________________________________________________________________________________________\n",
      "embedding (Embedding)           multiple             833700      text_left[0][0]                  \n",
      "                                                                 text_right[0][0]                 \n",
      "__________________________________________________________________________________________________\n",
      "conv1d_1 (Conv1D)               (None, 10, 128)      19328       embedding[0][0]                  \n",
      "__________________________________________________________________________________________________\n",
      "conv1d_2 (Conv1D)               (None, 40, 128)      19328       embedding[1][0]                  \n",
      "__________________________________________________________________________________________________\n",
      "max_pooling1d_1 (MaxPooling1D)  (None, 2, 128)       0           conv1d_1[0][0]                   \n",
      "__________________________________________________________________________________________________\n",
      "max_pooling1d_2 (MaxPooling1D)  (None, 10, 128)      0           conv1d_2[0][0]                   \n",
      "__________________________________________________________________________________________________\n",
      "flatten_1 (Flatten)             (None, 256)          0           max_pooling1d_1[0][0]            \n",
      "__________________________________________________________________________________________________\n",
      "flatten_2 (Flatten)             (None, 1280)         0           max_pooling1d_2[0][0]            \n",
      "__________________________________________________________________________________________________\n",
      "concatenate_1 (Concatenate)     (None, 1536)         0           flatten_1[0][0]                  \n",
      "                                                                 flatten_2[0][0]                  \n",
      "__________________________________________________________________________________________________\n",
      "dropout_1 (Dropout)             (None, 1536)         0           concatenate_1[0][0]              \n",
      "__________________________________________________________________________________________________\n",
      "dense_1 (Dense)                 (None, 100)          153700      dropout_1[0][0]                  \n",
      "__________________________________________________________________________________________________\n",
      "dense_2 (Dense)                 (None, 1)            101         dense_1[0][0]                    \n",
      "__________________________________________________________________________________________________\n",
      "dense_3 (Dense)                 (None, 1)            2           dense_2[0][0]                    \n",
      "==================================================================================================\n",
      "Total params: 1,026,159\n",
      "Trainable params: 1,026,159\n",
      "Non-trainable params: 0\n",
      "__________________________________________________________________________________________________\n"
     ]
    }
   ],
   "source": [
    "model = mz.models.ArcI()\n",
    "model.params['input_shapes'] = preprocessor.context['input_shapes']\n",
    "model.params['task'] = ranking_task\n",
    "model.params['embedding_input_dim'] = preprocessor.context['vocab_size'] + 1\n",
    "model.params['embedding_output_dim'] = 50\n",
    "model.params['num_blocks'] = 1\n",
    "model.params['left_filters'] = [128]\n",
    "model.params['left_kernel_sizes'] = [3]\n",
    "model.params['left_pool_sizes'] = [4]\n",
    "model.params['right_filters'] = [128]\n",
    "model.params['right_kernel_sizes'] = [3]\n",
    "model.params['right_pool_sizes'] = [4]\n",
    "model.params['conv_activation_func']= 'relu'\n",
    "model.params['mlp_num_layers'] = 1\n",
    "model.params['mlp_num_units'] = 100\n",
    "model.params['mlp_num_fan_out'] = 1 \n",
    "model.params['mlp_activation_func'] = 'relu' \n",
    "model.params['dropout_rate'] = 0.9\n",
    "model.params['optimizer'] = 'adadelta'\n",
    "model.guess_and_fill_missing_params()\n",
    "model.build()\n",
    "model.compile()\n",
    "model.backend.summary()"
   ]
  },
  {
   "cell_type": "code",
   "execution_count": 7,
   "metadata": {},
   "outputs": [],
   "source": [
    "glove_embedding = mz.datasets.embeddings.load_glove_embedding(dimension=50)\n",
    "embedding_matrix = glove_embedding.build_matrix(preprocessor.context['vocab_unit'].state['term_index'])"
   ]
  },
  {
   "cell_type": "code",
   "execution_count": 8,
   "metadata": {},
   "outputs": [],
   "source": [
    "model.load_embedding_matrix(embedding_matrix)"
   ]
  },
  {
   "cell_type": "code",
   "execution_count": 9,
   "metadata": {},
   "outputs": [],
   "source": [
    "pred_x, pred_y = predict_pack_processed[:].unpack()\n",
    "evaluate = mz.callbacks.EvaluateAllMetrics(model, x=pred_x, y=pred_y, batch_size=len(pred_x))"
   ]
  },
  {
   "cell_type": "code",
   "execution_count": 10,
   "metadata": {},
   "outputs": [
    {
     "data": {
      "text/plain": [
       "102"
      ]
     },
     "execution_count": 10,
     "metadata": {},
     "output_type": "execute_result"
    }
   ],
   "source": [
    "train_generator = mz.PairDataGenerator(train_pack_processed, num_dup=2, num_neg=1, batch_size=20)\n",
    "len(train_generator)"
   ]
  },
  {
   "cell_type": "code",
   "execution_count": 11,
   "metadata": {
    "scrolled": false
   },
   "outputs": [
    {
     "name": "stdout",
     "output_type": "stream",
     "text": [
      "Epoch 1/30\n",
      "102/102 [==============================] - 4s 35ms/step - loss: 0.9493\n",
      "Validation: loss:nan - normalized_discounted_cumulative_gain@3(0):0.616182 - normalized_discounted_cumulative_gain@5(0):0.671796 - mean_average_precision(0):0.638144\n",
      "Epoch 2/30\n",
      "102/102 [==============================] - 3s 27ms/step - loss: 0.9095\n",
      "Validation: loss:nan - normalized_discounted_cumulative_gain@3(0):0.615948 - normalized_discounted_cumulative_gain@5(0):0.675146 - mean_average_precision(0):0.639017\n",
      "Epoch 3/30\n",
      "102/102 [==============================] - 3s 27ms/step - loss: 0.8722\n",
      "Validation: loss:nan - normalized_discounted_cumulative_gain@3(0):0.558587 - normalized_discounted_cumulative_gain@5(0):0.613437 - mean_average_precision(0):0.590014\n",
      "Epoch 4/30\n",
      "102/102 [==============================] - 3s 27ms/step - loss: 0.8527\n",
      "Validation: loss:nan - normalized_discounted_cumulative_gain@3(0):0.611077 - normalized_discounted_cumulative_gain@5(0):0.664856 - mean_average_precision(0):0.634838\n",
      "Epoch 5/30\n",
      "102/102 [==============================] - 3s 27ms/step - loss: 0.8077\n",
      "Validation: loss:nan - normalized_discounted_cumulative_gain@3(0):0.535026 - normalized_discounted_cumulative_gain@5(0):0.604700 - mean_average_precision(0):0.572723\n",
      "Epoch 6/30\n",
      "102/102 [==============================] - 3s 26ms/step - loss: 0.7598\n",
      "Validation: loss:nan - normalized_discounted_cumulative_gain@3(0):0.561950 - normalized_discounted_cumulative_gain@5(0):0.624218 - mean_average_precision(0):0.581227\n",
      "Epoch 7/30\n",
      "102/102 [==============================] - 3s 26ms/step - loss: 0.7151\n",
      "Validation: loss:nan - normalized_discounted_cumulative_gain@3(0):0.582998 - normalized_discounted_cumulative_gain@5(0):0.644739 - mean_average_precision(0):0.602427\n",
      "Epoch 8/30\n",
      "102/102 [==============================] - 3s 26ms/step - loss: 0.6950\n",
      "Validation: loss:nan - normalized_discounted_cumulative_gain@3(0):0.592442 - normalized_discounted_cumulative_gain@5(0):0.650185 - mean_average_precision(0):0.608345\n",
      "Epoch 9/30\n",
      "102/102 [==============================] - 3s 27ms/step - loss: 0.6711\n",
      "Validation: loss:nan - normalized_discounted_cumulative_gain@3(0):0.609771 - normalized_discounted_cumulative_gain@5(0):0.666978 - mean_average_precision(0):0.620733\n",
      "Epoch 10/30\n",
      "102/102 [==============================] - 3s 26ms/step - loss: 0.6318\n",
      "Validation: loss:nan - normalized_discounted_cumulative_gain@3(0):0.616841 - normalized_discounted_cumulative_gain@5(0):0.669354 - mean_average_precision(0):0.626203\n",
      "Epoch 11/30\n",
      "102/102 [==============================] - 3s 26ms/step - loss: 0.5920\n",
      "Validation: loss:nan - normalized_discounted_cumulative_gain@3(0):0.616592 - normalized_discounted_cumulative_gain@5(0):0.668023 - mean_average_precision(0):0.625642\n",
      "Epoch 12/30\n",
      "102/102 [==============================] - 3s 27ms/step - loss: 0.6027\n",
      "Validation: loss:nan - normalized_discounted_cumulative_gain@3(0):0.614464 - normalized_discounted_cumulative_gain@5(0):0.679626 - mean_average_precision(0):0.635052\n",
      "Epoch 13/30\n",
      "102/102 [==============================] - 3s 27ms/step - loss: 0.5589\n",
      "Validation: loss:nan - normalized_discounted_cumulative_gain@3(0):0.617066 - normalized_discounted_cumulative_gain@5(0):0.679369 - mean_average_precision(0):0.632310\n",
      "Epoch 14/30\n",
      "102/102 [==============================] - 3s 26ms/step - loss: 0.5586\n",
      "Validation: loss:nan - normalized_discounted_cumulative_gain@3(0):0.615311 - normalized_discounted_cumulative_gain@5(0):0.675038 - mean_average_precision(0):0.630717\n",
      "Epoch 15/30\n",
      "102/102 [==============================] - 3s 26ms/step - loss: 0.5412\n",
      "Validation: loss:nan - normalized_discounted_cumulative_gain@3(0):0.624478 - normalized_discounted_cumulative_gain@5(0):0.684889 - mean_average_precision(0):0.642757\n",
      "Epoch 16/30\n",
      "102/102 [==============================] - 3s 26ms/step - loss: 0.5100\n",
      "Validation: loss:nan - normalized_discounted_cumulative_gain@3(0):0.627904 - normalized_discounted_cumulative_gain@5(0):0.683680 - mean_average_precision(0):0.640097\n",
      "Epoch 17/30\n",
      "102/102 [==============================] - 3s 27ms/step - loss: 0.5073\n",
      "Validation: loss:nan - normalized_discounted_cumulative_gain@3(0):0.622042 - normalized_discounted_cumulative_gain@5(0):0.677000 - mean_average_precision(0):0.633290\n",
      "Epoch 18/30\n",
      "102/102 [==============================] - 3s 26ms/step - loss: 0.4740\n",
      "Validation: loss:nan - normalized_discounted_cumulative_gain@3(0):0.636142 - normalized_discounted_cumulative_gain@5(0):0.682406 - mean_average_precision(0):0.644233\n",
      "Epoch 19/30\n",
      "102/102 [==============================] - 3s 26ms/step - loss: 0.4739\n",
      "Validation: loss:nan - normalized_discounted_cumulative_gain@3(0):0.624133 - normalized_discounted_cumulative_gain@5(0):0.676414 - mean_average_precision(0):0.632915\n",
      "Epoch 20/30\n",
      "102/102 [==============================] - 3s 26ms/step - loss: 0.4747\n",
      "Validation: loss:nan - normalized_discounted_cumulative_gain@3(0):0.614708 - normalized_discounted_cumulative_gain@5(0):0.675913 - mean_average_precision(0):0.632056\n",
      "Epoch 21/30\n",
      "102/102 [==============================] - 3s 26ms/step - loss: 0.4490\n",
      "Validation: loss:nan - normalized_discounted_cumulative_gain@3(0):0.630588 - normalized_discounted_cumulative_gain@5(0):0.680567 - mean_average_precision(0):0.639925\n",
      "Epoch 22/30\n",
      "102/102 [==============================] - 3s 26ms/step - loss: 0.4341\n",
      "Validation: loss:nan - normalized_discounted_cumulative_gain@3(0):0.620303 - normalized_discounted_cumulative_gain@5(0):0.674292 - mean_average_precision(0):0.631076\n",
      "Epoch 23/30\n",
      "102/102 [==============================] - 3s 27ms/step - loss: 0.4158\n",
      "Validation: loss:nan - normalized_discounted_cumulative_gain@3(0):0.621195 - normalized_discounted_cumulative_gain@5(0):0.670548 - mean_average_precision(0):0.630025\n",
      "Epoch 24/30\n",
      "102/102 [==============================] - 3s 26ms/step - loss: 0.3971\n",
      "Validation: loss:nan - normalized_discounted_cumulative_gain@3(0):0.617040 - normalized_discounted_cumulative_gain@5(0):0.669610 - mean_average_precision(0):0.629599\n",
      "Epoch 25/30\n",
      "102/102 [==============================] - 3s 27ms/step - loss: 0.3900\n",
      "Validation: loss:nan - normalized_discounted_cumulative_gain@3(0):0.614254 - normalized_discounted_cumulative_gain@5(0):0.667514 - mean_average_precision(0):0.627770\n",
      "Epoch 26/30\n",
      "102/102 [==============================] - 3s 26ms/step - loss: 0.3633\n",
      "Validation: loss:nan - normalized_discounted_cumulative_gain@3(0):0.614226 - normalized_discounted_cumulative_gain@5(0):0.665469 - mean_average_precision(0):0.622872\n",
      "Epoch 27/30\n",
      "102/102 [==============================] - 3s 27ms/step - loss: 0.3624\n",
      "Validation: loss:nan - normalized_discounted_cumulative_gain@3(0):0.605965 - normalized_discounted_cumulative_gain@5(0):0.667104 - mean_average_precision(0):0.622630\n",
      "Epoch 28/30\n",
      "102/102 [==============================] - 3s 26ms/step - loss: 0.3544\n",
      "Validation: loss:nan - normalized_discounted_cumulative_gain@3(0):0.613980 - normalized_discounted_cumulative_gain@5(0):0.665428 - mean_average_precision(0):0.625641\n",
      "Epoch 29/30\n",
      "102/102 [==============================] - 3s 27ms/step - loss: 0.3340\n",
      "Validation: loss:nan - normalized_discounted_cumulative_gain@3(0):0.602562 - normalized_discounted_cumulative_gain@5(0):0.663033 - mean_average_precision(0):0.614774\n",
      "Epoch 30/30\n",
      "102/102 [==============================] - 3s 26ms/step - loss: 0.3374\n",
      "Validation: loss:nan - normalized_discounted_cumulative_gain@3(0):0.615195 - normalized_discounted_cumulative_gain@5(0):0.664178 - mean_average_precision(0):0.614983\n"
     ]
    }
   ],
   "source": [
    "history = model.fit_generator(train_generator, epochs=30, callbacks=[evaluate], workers=30, use_multiprocessing=True)"
   ]
  }
 ],
 "metadata": {
  "kernelspec": {
   "display_name": "Python 3",
   "language": "python",
   "name": "python3"
  },
  "language_info": {
   "codemirror_mode": {
    "name": "ipython",
    "version": 3
   },
   "file_extension": ".py",
   "mimetype": "text/x-python",
   "name": "python",
   "nbconvert_exporter": "python",
   "pygments_lexer": "ipython3",
   "version": "3.6.5"
  }
 },
 "nbformat": 4,
 "nbformat_minor": 2
}
